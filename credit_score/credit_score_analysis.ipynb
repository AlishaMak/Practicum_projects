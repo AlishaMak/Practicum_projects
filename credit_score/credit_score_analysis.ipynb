{
  "cells": [
    {
      "cell_type": "markdown",
      "id": "1bccb640",
      "metadata": {
        "deletable": false,
        "editable": false,
        "id": "1bccb640"
      },
      "source": [
        "# Исследование надежности заемщиков\n"
      ]
    },
    {
      "cell_type": "markdown",
      "id": "f9a5d232",
      "metadata": {
        "deletable": false,
        "editable": false,
        "id": "f9a5d232"
      },
      "source": [
        "Заказчик — кредитный отдел банка. Необходимо проанализировать, влияет ли семейное положение и количество детей клиента на факт погашения кредита в срок.  \n",
        "Входные данные от банка — статистика о платёжеспособности клиентов.  \n",
        "Результаты исследования будут учтены при построении модели кредитного скоринга.\n"
      ]
    },
    {
      "cell_type": "markdown",
      "id": "9eaf931f",
      "metadata": {
        "deletable": false,
        "editable": false,
        "id": "9eaf931f"
      },
      "source": [
        "## Общая информация о датасете\n",
        "\n",
        "\n"
      ]
    },
    {
      "cell_type": "markdown",
      "id": "2c50038f",
      "metadata": {
        "deletable": false,
        "editable": false,
        "id": "2c50038f"
      },
      "source": [
        "Импортируем необходимые библиотеки.  \n",
        "Датафрейм сохраним в переменной `data`."
      ]
    },
    {
      "cell_type": "code",
      "source": [
        "import pandas as pd"
      ],
      "metadata": {
        "id": "sNzts7ik-WMi"
      },
      "id": "sNzts7ik-WMi",
      "execution_count": null,
      "outputs": []
    },
    {
      "cell_type": "code",
      "execution_count": null,
      "id": "9970e435",
      "metadata": {
        "deletable": false,
        "id": "9970e435"
      },
      "outputs": [],
      "source": [
        "try:\n",
        "    data = pd.read_csv('/content/sample_data/credit_score.csv')\n",
        "except:\n",
        "    print('Нет доступа к файлу')"
      ]
    },
    {
      "cell_type": "markdown",
      "id": "b769d63d",
      "metadata": {
        "deletable": false,
        "editable": false,
        "id": "b769d63d"
      },
      "source": [
        "Выведем случайные пять строк датасета."
      ]
    },
    {
      "cell_type": "code",
      "execution_count": null,
      "id": "2e67acad",
      "metadata": {
        "deletable": false,
        "id": "2e67acad",
        "outputId": "d52ab54c-b781-487a-9a7e-f0ecdd97a7a5",
        "colab": {
          "base_uri": "https://localhost:8080/",
          "height": 206
        }
      },
      "outputs": [
        {
          "output_type": "execute_result",
          "data": {
            "text/plain": [
              "       children  days_employed  dob_years education  education_id  \\\n",
              "7956          0   -7699.940954         65   среднее             1   \n",
              "4184          0  376617.584253         57   среднее             1   \n",
              "17061         1    -476.384839         24   среднее             1   \n",
              "19718         0  384997.639578         67   среднее             1   \n",
              "13364         3    -160.349105         35   среднее             1   \n",
              "\n",
              "          family_status  family_status_id gender  income_type  debt  \\\n",
              "7956    женат / замужем                 0      F  госслужащий     0   \n",
              "4184    женат / замужем                 0      F    пенсионер     0   \n",
              "17061   женат / замужем                 0      M    сотрудник     0   \n",
              "19718  гражданский брак                 1      M    пенсионер     0   \n",
              "13364   женат / замужем                 0      M    сотрудник     0   \n",
              "\n",
              "        total_income                            purpose  \n",
              "7956   163471.594051  покупка коммерческой недвижимости  \n",
              "4184   165644.100462         дополнительное образование  \n",
              "17061  184535.209613         покупка жилой недвижимости  \n",
              "19718   40217.934048    операции со своей недвижимостью  \n",
              "13364  190624.722427   строительство жилой недвижимости  "
            ],
            "text/html": [
              "\n",
              "  <div id=\"df-09a9bf56-3048-4d52-9c93-9713dbd98625\" class=\"colab-df-container\">\n",
              "    <div>\n",
              "<style scoped>\n",
              "    .dataframe tbody tr th:only-of-type {\n",
              "        vertical-align: middle;\n",
              "    }\n",
              "\n",
              "    .dataframe tbody tr th {\n",
              "        vertical-align: top;\n",
              "    }\n",
              "\n",
              "    .dataframe thead th {\n",
              "        text-align: right;\n",
              "    }\n",
              "</style>\n",
              "<table border=\"1\" class=\"dataframe\">\n",
              "  <thead>\n",
              "    <tr style=\"text-align: right;\">\n",
              "      <th></th>\n",
              "      <th>children</th>\n",
              "      <th>days_employed</th>\n",
              "      <th>dob_years</th>\n",
              "      <th>education</th>\n",
              "      <th>education_id</th>\n",
              "      <th>family_status</th>\n",
              "      <th>family_status_id</th>\n",
              "      <th>gender</th>\n",
              "      <th>income_type</th>\n",
              "      <th>debt</th>\n",
              "      <th>total_income</th>\n",
              "      <th>purpose</th>\n",
              "    </tr>\n",
              "  </thead>\n",
              "  <tbody>\n",
              "    <tr>\n",
              "      <th>7956</th>\n",
              "      <td>0</td>\n",
              "      <td>-7699.940954</td>\n",
              "      <td>65</td>\n",
              "      <td>среднее</td>\n",
              "      <td>1</td>\n",
              "      <td>женат / замужем</td>\n",
              "      <td>0</td>\n",
              "      <td>F</td>\n",
              "      <td>госслужащий</td>\n",
              "      <td>0</td>\n",
              "      <td>163471.594051</td>\n",
              "      <td>покупка коммерческой недвижимости</td>\n",
              "    </tr>\n",
              "    <tr>\n",
              "      <th>4184</th>\n",
              "      <td>0</td>\n",
              "      <td>376617.584253</td>\n",
              "      <td>57</td>\n",
              "      <td>среднее</td>\n",
              "      <td>1</td>\n",
              "      <td>женат / замужем</td>\n",
              "      <td>0</td>\n",
              "      <td>F</td>\n",
              "      <td>пенсионер</td>\n",
              "      <td>0</td>\n",
              "      <td>165644.100462</td>\n",
              "      <td>дополнительное образование</td>\n",
              "    </tr>\n",
              "    <tr>\n",
              "      <th>17061</th>\n",
              "      <td>1</td>\n",
              "      <td>-476.384839</td>\n",
              "      <td>24</td>\n",
              "      <td>среднее</td>\n",
              "      <td>1</td>\n",
              "      <td>женат / замужем</td>\n",
              "      <td>0</td>\n",
              "      <td>M</td>\n",
              "      <td>сотрудник</td>\n",
              "      <td>0</td>\n",
              "      <td>184535.209613</td>\n",
              "      <td>покупка жилой недвижимости</td>\n",
              "    </tr>\n",
              "    <tr>\n",
              "      <th>19718</th>\n",
              "      <td>0</td>\n",
              "      <td>384997.639578</td>\n",
              "      <td>67</td>\n",
              "      <td>среднее</td>\n",
              "      <td>1</td>\n",
              "      <td>гражданский брак</td>\n",
              "      <td>1</td>\n",
              "      <td>M</td>\n",
              "      <td>пенсионер</td>\n",
              "      <td>0</td>\n",
              "      <td>40217.934048</td>\n",
              "      <td>операции со своей недвижимостью</td>\n",
              "    </tr>\n",
              "    <tr>\n",
              "      <th>13364</th>\n",
              "      <td>3</td>\n",
              "      <td>-160.349105</td>\n",
              "      <td>35</td>\n",
              "      <td>среднее</td>\n",
              "      <td>1</td>\n",
              "      <td>женат / замужем</td>\n",
              "      <td>0</td>\n",
              "      <td>M</td>\n",
              "      <td>сотрудник</td>\n",
              "      <td>0</td>\n",
              "      <td>190624.722427</td>\n",
              "      <td>строительство жилой недвижимости</td>\n",
              "    </tr>\n",
              "  </tbody>\n",
              "</table>\n",
              "</div>\n",
              "    <div class=\"colab-df-buttons\">\n",
              "\n",
              "  <div class=\"colab-df-container\">\n",
              "    <button class=\"colab-df-convert\" onclick=\"convertToInteractive('df-09a9bf56-3048-4d52-9c93-9713dbd98625')\"\n",
              "            title=\"Convert this dataframe to an interactive table.\"\n",
              "            style=\"display:none;\">\n",
              "\n",
              "  <svg xmlns=\"http://www.w3.org/2000/svg\" height=\"24px\" viewBox=\"0 -960 960 960\">\n",
              "    <path d=\"M120-120v-720h720v720H120Zm60-500h600v-160H180v160Zm220 220h160v-160H400v160Zm0 220h160v-160H400v160ZM180-400h160v-160H180v160Zm440 0h160v-160H620v160ZM180-180h160v-160H180v160Zm440 0h160v-160H620v160Z\"/>\n",
              "  </svg>\n",
              "    </button>\n",
              "\n",
              "  <style>\n",
              "    .colab-df-container {\n",
              "      display:flex;\n",
              "      gap: 12px;\n",
              "    }\n",
              "\n",
              "    .colab-df-convert {\n",
              "      background-color: #E8F0FE;\n",
              "      border: none;\n",
              "      border-radius: 50%;\n",
              "      cursor: pointer;\n",
              "      display: none;\n",
              "      fill: #1967D2;\n",
              "      height: 32px;\n",
              "      padding: 0 0 0 0;\n",
              "      width: 32px;\n",
              "    }\n",
              "\n",
              "    .colab-df-convert:hover {\n",
              "      background-color: #E2EBFA;\n",
              "      box-shadow: 0px 1px 2px rgba(60, 64, 67, 0.3), 0px 1px 3px 1px rgba(60, 64, 67, 0.15);\n",
              "      fill: #174EA6;\n",
              "    }\n",
              "\n",
              "    .colab-df-buttons div {\n",
              "      margin-bottom: 4px;\n",
              "    }\n",
              "\n",
              "    [theme=dark] .colab-df-convert {\n",
              "      background-color: #3B4455;\n",
              "      fill: #D2E3FC;\n",
              "    }\n",
              "\n",
              "    [theme=dark] .colab-df-convert:hover {\n",
              "      background-color: #434B5C;\n",
              "      box-shadow: 0px 1px 3px 1px rgba(0, 0, 0, 0.15);\n",
              "      filter: drop-shadow(0px 1px 2px rgba(0, 0, 0, 0.3));\n",
              "      fill: #FFFFFF;\n",
              "    }\n",
              "  </style>\n",
              "\n",
              "    <script>\n",
              "      const buttonEl =\n",
              "        document.querySelector('#df-09a9bf56-3048-4d52-9c93-9713dbd98625 button.colab-df-convert');\n",
              "      buttonEl.style.display =\n",
              "        google.colab.kernel.accessAllowed ? 'block' : 'none';\n",
              "\n",
              "      async function convertToInteractive(key) {\n",
              "        const element = document.querySelector('#df-09a9bf56-3048-4d52-9c93-9713dbd98625');\n",
              "        const dataTable =\n",
              "          await google.colab.kernel.invokeFunction('convertToInteractive',\n",
              "                                                    [key], {});\n",
              "        if (!dataTable) return;\n",
              "\n",
              "        const docLinkHtml = 'Like what you see? Visit the ' +\n",
              "          '<a target=\"_blank\" href=https://colab.research.google.com/notebooks/data_table.ipynb>data table notebook</a>'\n",
              "          + ' to learn more about interactive tables.';\n",
              "        element.innerHTML = '';\n",
              "        dataTable['output_type'] = 'display_data';\n",
              "        await google.colab.output.renderOutput(dataTable, element);\n",
              "        const docLink = document.createElement('div');\n",
              "        docLink.innerHTML = docLinkHtml;\n",
              "        element.appendChild(docLink);\n",
              "      }\n",
              "    </script>\n",
              "  </div>\n",
              "\n",
              "\n",
              "<div id=\"df-873d327c-b4c2-4240-8323-3c42fb0112b5\">\n",
              "  <button class=\"colab-df-quickchart\" onclick=\"quickchart('df-873d327c-b4c2-4240-8323-3c42fb0112b5')\"\n",
              "            title=\"Suggest charts\"\n",
              "            style=\"display:none;\">\n",
              "\n",
              "<svg xmlns=\"http://www.w3.org/2000/svg\" height=\"24px\"viewBox=\"0 0 24 24\"\n",
              "     width=\"24px\">\n",
              "    <g>\n",
              "        <path d=\"M19 3H5c-1.1 0-2 .9-2 2v14c0 1.1.9 2 2 2h14c1.1 0 2-.9 2-2V5c0-1.1-.9-2-2-2zM9 17H7v-7h2v7zm4 0h-2V7h2v10zm4 0h-2v-4h2v4z\"/>\n",
              "    </g>\n",
              "</svg>\n",
              "  </button>\n",
              "\n",
              "<style>\n",
              "  .colab-df-quickchart {\n",
              "      --bg-color: #E8F0FE;\n",
              "      --fill-color: #1967D2;\n",
              "      --hover-bg-color: #E2EBFA;\n",
              "      --hover-fill-color: #174EA6;\n",
              "      --disabled-fill-color: #AAA;\n",
              "      --disabled-bg-color: #DDD;\n",
              "  }\n",
              "\n",
              "  [theme=dark] .colab-df-quickchart {\n",
              "      --bg-color: #3B4455;\n",
              "      --fill-color: #D2E3FC;\n",
              "      --hover-bg-color: #434B5C;\n",
              "      --hover-fill-color: #FFFFFF;\n",
              "      --disabled-bg-color: #3B4455;\n",
              "      --disabled-fill-color: #666;\n",
              "  }\n",
              "\n",
              "  .colab-df-quickchart {\n",
              "    background-color: var(--bg-color);\n",
              "    border: none;\n",
              "    border-radius: 50%;\n",
              "    cursor: pointer;\n",
              "    display: none;\n",
              "    fill: var(--fill-color);\n",
              "    height: 32px;\n",
              "    padding: 0;\n",
              "    width: 32px;\n",
              "  }\n",
              "\n",
              "  .colab-df-quickchart:hover {\n",
              "    background-color: var(--hover-bg-color);\n",
              "    box-shadow: 0 1px 2px rgba(60, 64, 67, 0.3), 0 1px 3px 1px rgba(60, 64, 67, 0.15);\n",
              "    fill: var(--button-hover-fill-color);\n",
              "  }\n",
              "\n",
              "  .colab-df-quickchart-complete:disabled,\n",
              "  .colab-df-quickchart-complete:disabled:hover {\n",
              "    background-color: var(--disabled-bg-color);\n",
              "    fill: var(--disabled-fill-color);\n",
              "    box-shadow: none;\n",
              "  }\n",
              "\n",
              "  .colab-df-spinner {\n",
              "    border: 2px solid var(--fill-color);\n",
              "    border-color: transparent;\n",
              "    border-bottom-color: var(--fill-color);\n",
              "    animation:\n",
              "      spin 1s steps(1) infinite;\n",
              "  }\n",
              "\n",
              "  @keyframes spin {\n",
              "    0% {\n",
              "      border-color: transparent;\n",
              "      border-bottom-color: var(--fill-color);\n",
              "      border-left-color: var(--fill-color);\n",
              "    }\n",
              "    20% {\n",
              "      border-color: transparent;\n",
              "      border-left-color: var(--fill-color);\n",
              "      border-top-color: var(--fill-color);\n",
              "    }\n",
              "    30% {\n",
              "      border-color: transparent;\n",
              "      border-left-color: var(--fill-color);\n",
              "      border-top-color: var(--fill-color);\n",
              "      border-right-color: var(--fill-color);\n",
              "    }\n",
              "    40% {\n",
              "      border-color: transparent;\n",
              "      border-right-color: var(--fill-color);\n",
              "      border-top-color: var(--fill-color);\n",
              "    }\n",
              "    60% {\n",
              "      border-color: transparent;\n",
              "      border-right-color: var(--fill-color);\n",
              "    }\n",
              "    80% {\n",
              "      border-color: transparent;\n",
              "      border-right-color: var(--fill-color);\n",
              "      border-bottom-color: var(--fill-color);\n",
              "    }\n",
              "    90% {\n",
              "      border-color: transparent;\n",
              "      border-bottom-color: var(--fill-color);\n",
              "    }\n",
              "  }\n",
              "</style>\n",
              "\n",
              "  <script>\n",
              "    async function quickchart(key) {\n",
              "      const quickchartButtonEl =\n",
              "        document.querySelector('#' + key + ' button');\n",
              "      quickchartButtonEl.disabled = true;  // To prevent multiple clicks.\n",
              "      quickchartButtonEl.classList.add('colab-df-spinner');\n",
              "      try {\n",
              "        const charts = await google.colab.kernel.invokeFunction(\n",
              "            'suggestCharts', [key], {});\n",
              "      } catch (error) {\n",
              "        console.error('Error during call to suggestCharts:', error);\n",
              "      }\n",
              "      quickchartButtonEl.classList.remove('colab-df-spinner');\n",
              "      quickchartButtonEl.classList.add('colab-df-quickchart-complete');\n",
              "    }\n",
              "    (() => {\n",
              "      let quickchartButtonEl =\n",
              "        document.querySelector('#df-873d327c-b4c2-4240-8323-3c42fb0112b5 button');\n",
              "      quickchartButtonEl.style.display =\n",
              "        google.colab.kernel.accessAllowed ? 'block' : 'none';\n",
              "    })();\n",
              "  </script>\n",
              "</div>\n",
              "    </div>\n",
              "  </div>\n"
            ]
          },
          "metadata": {},
          "execution_count": 163
        }
      ],
      "source": [
        "data.sample(5)"
      ]
    },
    {
      "cell_type": "code",
      "source": [
        "num_rows = data.shape[0]"
      ],
      "metadata": {
        "id": "9A-58mfP28TL"
      },
      "id": "9A-58mfP28TL",
      "execution_count": null,
      "outputs": []
    },
    {
      "cell_type": "markdown",
      "id": "8d57188c",
      "metadata": {
        "id": "8d57188c"
      },
      "source": [
        "**Описание данных**\n",
        "\n",
        "- `children` — количество детей в семье;\n",
        "- `days_employed` — общий трудовой стаж в днях;\n",
        "- `dob_years` — возраст клиента в годах;\n",
        "- `education` — уровень образования клиента;\n",
        "- `education_id` — идентификатор уровня образования;\n",
        "- `family_status` — семейное положение;\n",
        "- `family_status_id` — идентификатор семейного положения;\n",
        "- `gender` — пол клиента;\n",
        "- `income_type` — тип занятости;\n",
        "- `debt` — имел ли задолженность по возврату кредитов;\n",
        "- `total_income` — ежемесячный доход;\n",
        "- `purpose` — цель получения кредита."
      ]
    },
    {
      "cell_type": "markdown",
      "id": "6f3cce06",
      "metadata": {
        "deletable": false,
        "editable": false,
        "id": "6f3cce06"
      },
      "source": [
        "Выведем основную информацию о датафрейме."
      ]
    },
    {
      "cell_type": "code",
      "execution_count": null,
      "id": "64c61740",
      "metadata": {
        "deletable": false,
        "id": "64c61740",
        "outputId": "293ae180-6b46-420e-c682-1aa271253510",
        "colab": {
          "base_uri": "https://localhost:8080/"
        }
      },
      "outputs": [
        {
          "output_type": "stream",
          "name": "stdout",
          "text": [
            "<class 'pandas.core.frame.DataFrame'>\n",
            "RangeIndex: 21525 entries, 0 to 21524\n",
            "Data columns (total 12 columns):\n",
            " #   Column            Non-Null Count  Dtype  \n",
            "---  ------            --------------  -----  \n",
            " 0   children          21525 non-null  int64  \n",
            " 1   days_employed     19351 non-null  float64\n",
            " 2   dob_years         21525 non-null  int64  \n",
            " 3   education         21525 non-null  object \n",
            " 4   education_id      21525 non-null  int64  \n",
            " 5   family_status     21525 non-null  object \n",
            " 6   family_status_id  21525 non-null  int64  \n",
            " 7   gender            21525 non-null  object \n",
            " 8   income_type       21525 non-null  object \n",
            " 9   debt              21525 non-null  int64  \n",
            " 10  total_income      19351 non-null  float64\n",
            " 11  purpose           21525 non-null  object \n",
            "dtypes: float64(2), int64(5), object(5)\n",
            "memory usage: 2.0+ MB\n"
          ]
        }
      ],
      "source": [
        "data.info()"
      ]
    },
    {
      "cell_type": "code",
      "source": [
        "data.describe()"
      ],
      "metadata": {
        "colab": {
          "base_uri": "https://localhost:8080/",
          "height": 300
        },
        "id": "w2Kz0ICACqYY",
        "outputId": "e9b67b20-c34d-40de-a835-3eb9fd1c0e8f"
      },
      "id": "w2Kz0ICACqYY",
      "execution_count": null,
      "outputs": [
        {
          "output_type": "execute_result",
          "data": {
            "text/plain": [
              "           children  days_employed     dob_years  education_id  \\\n",
              "count  21525.000000   19351.000000  21525.000000  21525.000000   \n",
              "mean       0.538908   63046.497661     43.293380      0.817236   \n",
              "std        1.381587  140827.311974     12.574584      0.548138   \n",
              "min       -1.000000  -18388.949901      0.000000      0.000000   \n",
              "25%        0.000000   -2747.423625     33.000000      1.000000   \n",
              "50%        0.000000   -1203.369529     42.000000      1.000000   \n",
              "75%        1.000000    -291.095954     53.000000      1.000000   \n",
              "max       20.000000  401755.400475     75.000000      4.000000   \n",
              "\n",
              "       family_status_id          debt  total_income  \n",
              "count      21525.000000  21525.000000  1.935100e+04  \n",
              "mean           0.972544      0.080883  1.674223e+05  \n",
              "std            1.420324      0.272661  1.029716e+05  \n",
              "min            0.000000      0.000000  2.066726e+04  \n",
              "25%            0.000000      0.000000  1.030532e+05  \n",
              "50%            0.000000      0.000000  1.450179e+05  \n",
              "75%            1.000000      0.000000  2.034351e+05  \n",
              "max            4.000000      1.000000  2.265604e+06  "
            ],
            "text/html": [
              "\n",
              "  <div id=\"df-b553b45c-ecde-4d25-ab54-85f2d5aeff81\" class=\"colab-df-container\">\n",
              "    <div>\n",
              "<style scoped>\n",
              "    .dataframe tbody tr th:only-of-type {\n",
              "        vertical-align: middle;\n",
              "    }\n",
              "\n",
              "    .dataframe tbody tr th {\n",
              "        vertical-align: top;\n",
              "    }\n",
              "\n",
              "    .dataframe thead th {\n",
              "        text-align: right;\n",
              "    }\n",
              "</style>\n",
              "<table border=\"1\" class=\"dataframe\">\n",
              "  <thead>\n",
              "    <tr style=\"text-align: right;\">\n",
              "      <th></th>\n",
              "      <th>children</th>\n",
              "      <th>days_employed</th>\n",
              "      <th>dob_years</th>\n",
              "      <th>education_id</th>\n",
              "      <th>family_status_id</th>\n",
              "      <th>debt</th>\n",
              "      <th>total_income</th>\n",
              "    </tr>\n",
              "  </thead>\n",
              "  <tbody>\n",
              "    <tr>\n",
              "      <th>count</th>\n",
              "      <td>21525.000000</td>\n",
              "      <td>19351.000000</td>\n",
              "      <td>21525.000000</td>\n",
              "      <td>21525.000000</td>\n",
              "      <td>21525.000000</td>\n",
              "      <td>21525.000000</td>\n",
              "      <td>1.935100e+04</td>\n",
              "    </tr>\n",
              "    <tr>\n",
              "      <th>mean</th>\n",
              "      <td>0.538908</td>\n",
              "      <td>63046.497661</td>\n",
              "      <td>43.293380</td>\n",
              "      <td>0.817236</td>\n",
              "      <td>0.972544</td>\n",
              "      <td>0.080883</td>\n",
              "      <td>1.674223e+05</td>\n",
              "    </tr>\n",
              "    <tr>\n",
              "      <th>std</th>\n",
              "      <td>1.381587</td>\n",
              "      <td>140827.311974</td>\n",
              "      <td>12.574584</td>\n",
              "      <td>0.548138</td>\n",
              "      <td>1.420324</td>\n",
              "      <td>0.272661</td>\n",
              "      <td>1.029716e+05</td>\n",
              "    </tr>\n",
              "    <tr>\n",
              "      <th>min</th>\n",
              "      <td>-1.000000</td>\n",
              "      <td>-18388.949901</td>\n",
              "      <td>0.000000</td>\n",
              "      <td>0.000000</td>\n",
              "      <td>0.000000</td>\n",
              "      <td>0.000000</td>\n",
              "      <td>2.066726e+04</td>\n",
              "    </tr>\n",
              "    <tr>\n",
              "      <th>25%</th>\n",
              "      <td>0.000000</td>\n",
              "      <td>-2747.423625</td>\n",
              "      <td>33.000000</td>\n",
              "      <td>1.000000</td>\n",
              "      <td>0.000000</td>\n",
              "      <td>0.000000</td>\n",
              "      <td>1.030532e+05</td>\n",
              "    </tr>\n",
              "    <tr>\n",
              "      <th>50%</th>\n",
              "      <td>0.000000</td>\n",
              "      <td>-1203.369529</td>\n",
              "      <td>42.000000</td>\n",
              "      <td>1.000000</td>\n",
              "      <td>0.000000</td>\n",
              "      <td>0.000000</td>\n",
              "      <td>1.450179e+05</td>\n",
              "    </tr>\n",
              "    <tr>\n",
              "      <th>75%</th>\n",
              "      <td>1.000000</td>\n",
              "      <td>-291.095954</td>\n",
              "      <td>53.000000</td>\n",
              "      <td>1.000000</td>\n",
              "      <td>1.000000</td>\n",
              "      <td>0.000000</td>\n",
              "      <td>2.034351e+05</td>\n",
              "    </tr>\n",
              "    <tr>\n",
              "      <th>max</th>\n",
              "      <td>20.000000</td>\n",
              "      <td>401755.400475</td>\n",
              "      <td>75.000000</td>\n",
              "      <td>4.000000</td>\n",
              "      <td>4.000000</td>\n",
              "      <td>1.000000</td>\n",
              "      <td>2.265604e+06</td>\n",
              "    </tr>\n",
              "  </tbody>\n",
              "</table>\n",
              "</div>\n",
              "    <div class=\"colab-df-buttons\">\n",
              "\n",
              "  <div class=\"colab-df-container\">\n",
              "    <button class=\"colab-df-convert\" onclick=\"convertToInteractive('df-b553b45c-ecde-4d25-ab54-85f2d5aeff81')\"\n",
              "            title=\"Convert this dataframe to an interactive table.\"\n",
              "            style=\"display:none;\">\n",
              "\n",
              "  <svg xmlns=\"http://www.w3.org/2000/svg\" height=\"24px\" viewBox=\"0 -960 960 960\">\n",
              "    <path d=\"M120-120v-720h720v720H120Zm60-500h600v-160H180v160Zm220 220h160v-160H400v160Zm0 220h160v-160H400v160ZM180-400h160v-160H180v160Zm440 0h160v-160H620v160ZM180-180h160v-160H180v160Zm440 0h160v-160H620v160Z\"/>\n",
              "  </svg>\n",
              "    </button>\n",
              "\n",
              "  <style>\n",
              "    .colab-df-container {\n",
              "      display:flex;\n",
              "      gap: 12px;\n",
              "    }\n",
              "\n",
              "    .colab-df-convert {\n",
              "      background-color: #E8F0FE;\n",
              "      border: none;\n",
              "      border-radius: 50%;\n",
              "      cursor: pointer;\n",
              "      display: none;\n",
              "      fill: #1967D2;\n",
              "      height: 32px;\n",
              "      padding: 0 0 0 0;\n",
              "      width: 32px;\n",
              "    }\n",
              "\n",
              "    .colab-df-convert:hover {\n",
              "      background-color: #E2EBFA;\n",
              "      box-shadow: 0px 1px 2px rgba(60, 64, 67, 0.3), 0px 1px 3px 1px rgba(60, 64, 67, 0.15);\n",
              "      fill: #174EA6;\n",
              "    }\n",
              "\n",
              "    .colab-df-buttons div {\n",
              "      margin-bottom: 4px;\n",
              "    }\n",
              "\n",
              "    [theme=dark] .colab-df-convert {\n",
              "      background-color: #3B4455;\n",
              "      fill: #D2E3FC;\n",
              "    }\n",
              "\n",
              "    [theme=dark] .colab-df-convert:hover {\n",
              "      background-color: #434B5C;\n",
              "      box-shadow: 0px 1px 3px 1px rgba(0, 0, 0, 0.15);\n",
              "      filter: drop-shadow(0px 1px 2px rgba(0, 0, 0, 0.3));\n",
              "      fill: #FFFFFF;\n",
              "    }\n",
              "  </style>\n",
              "\n",
              "    <script>\n",
              "      const buttonEl =\n",
              "        document.querySelector('#df-b553b45c-ecde-4d25-ab54-85f2d5aeff81 button.colab-df-convert');\n",
              "      buttonEl.style.display =\n",
              "        google.colab.kernel.accessAllowed ? 'block' : 'none';\n",
              "\n",
              "      async function convertToInteractive(key) {\n",
              "        const element = document.querySelector('#df-b553b45c-ecde-4d25-ab54-85f2d5aeff81');\n",
              "        const dataTable =\n",
              "          await google.colab.kernel.invokeFunction('convertToInteractive',\n",
              "                                                    [key], {});\n",
              "        if (!dataTable) return;\n",
              "\n",
              "        const docLinkHtml = 'Like what you see? Visit the ' +\n",
              "          '<a target=\"_blank\" href=https://colab.research.google.com/notebooks/data_table.ipynb>data table notebook</a>'\n",
              "          + ' to learn more about interactive tables.';\n",
              "        element.innerHTML = '';\n",
              "        dataTable['output_type'] = 'display_data';\n",
              "        await google.colab.output.renderOutput(dataTable, element);\n",
              "        const docLink = document.createElement('div');\n",
              "        docLink.innerHTML = docLinkHtml;\n",
              "        element.appendChild(docLink);\n",
              "      }\n",
              "    </script>\n",
              "  </div>\n",
              "\n",
              "\n",
              "<div id=\"df-92fd6f57-1d87-4e9d-acb2-64696f666307\">\n",
              "  <button class=\"colab-df-quickchart\" onclick=\"quickchart('df-92fd6f57-1d87-4e9d-acb2-64696f666307')\"\n",
              "            title=\"Suggest charts\"\n",
              "            style=\"display:none;\">\n",
              "\n",
              "<svg xmlns=\"http://www.w3.org/2000/svg\" height=\"24px\"viewBox=\"0 0 24 24\"\n",
              "     width=\"24px\">\n",
              "    <g>\n",
              "        <path d=\"M19 3H5c-1.1 0-2 .9-2 2v14c0 1.1.9 2 2 2h14c1.1 0 2-.9 2-2V5c0-1.1-.9-2-2-2zM9 17H7v-7h2v7zm4 0h-2V7h2v10zm4 0h-2v-4h2v4z\"/>\n",
              "    </g>\n",
              "</svg>\n",
              "  </button>\n",
              "\n",
              "<style>\n",
              "  .colab-df-quickchart {\n",
              "      --bg-color: #E8F0FE;\n",
              "      --fill-color: #1967D2;\n",
              "      --hover-bg-color: #E2EBFA;\n",
              "      --hover-fill-color: #174EA6;\n",
              "      --disabled-fill-color: #AAA;\n",
              "      --disabled-bg-color: #DDD;\n",
              "  }\n",
              "\n",
              "  [theme=dark] .colab-df-quickchart {\n",
              "      --bg-color: #3B4455;\n",
              "      --fill-color: #D2E3FC;\n",
              "      --hover-bg-color: #434B5C;\n",
              "      --hover-fill-color: #FFFFFF;\n",
              "      --disabled-bg-color: #3B4455;\n",
              "      --disabled-fill-color: #666;\n",
              "  }\n",
              "\n",
              "  .colab-df-quickchart {\n",
              "    background-color: var(--bg-color);\n",
              "    border: none;\n",
              "    border-radius: 50%;\n",
              "    cursor: pointer;\n",
              "    display: none;\n",
              "    fill: var(--fill-color);\n",
              "    height: 32px;\n",
              "    padding: 0;\n",
              "    width: 32px;\n",
              "  }\n",
              "\n",
              "  .colab-df-quickchart:hover {\n",
              "    background-color: var(--hover-bg-color);\n",
              "    box-shadow: 0 1px 2px rgba(60, 64, 67, 0.3), 0 1px 3px 1px rgba(60, 64, 67, 0.15);\n",
              "    fill: var(--button-hover-fill-color);\n",
              "  }\n",
              "\n",
              "  .colab-df-quickchart-complete:disabled,\n",
              "  .colab-df-quickchart-complete:disabled:hover {\n",
              "    background-color: var(--disabled-bg-color);\n",
              "    fill: var(--disabled-fill-color);\n",
              "    box-shadow: none;\n",
              "  }\n",
              "\n",
              "  .colab-df-spinner {\n",
              "    border: 2px solid var(--fill-color);\n",
              "    border-color: transparent;\n",
              "    border-bottom-color: var(--fill-color);\n",
              "    animation:\n",
              "      spin 1s steps(1) infinite;\n",
              "  }\n",
              "\n",
              "  @keyframes spin {\n",
              "    0% {\n",
              "      border-color: transparent;\n",
              "      border-bottom-color: var(--fill-color);\n",
              "      border-left-color: var(--fill-color);\n",
              "    }\n",
              "    20% {\n",
              "      border-color: transparent;\n",
              "      border-left-color: var(--fill-color);\n",
              "      border-top-color: var(--fill-color);\n",
              "    }\n",
              "    30% {\n",
              "      border-color: transparent;\n",
              "      border-left-color: var(--fill-color);\n",
              "      border-top-color: var(--fill-color);\n",
              "      border-right-color: var(--fill-color);\n",
              "    }\n",
              "    40% {\n",
              "      border-color: transparent;\n",
              "      border-right-color: var(--fill-color);\n",
              "      border-top-color: var(--fill-color);\n",
              "    }\n",
              "    60% {\n",
              "      border-color: transparent;\n",
              "      border-right-color: var(--fill-color);\n",
              "    }\n",
              "    80% {\n",
              "      border-color: transparent;\n",
              "      border-right-color: var(--fill-color);\n",
              "      border-bottom-color: var(--fill-color);\n",
              "    }\n",
              "    90% {\n",
              "      border-color: transparent;\n",
              "      border-bottom-color: var(--fill-color);\n",
              "    }\n",
              "  }\n",
              "</style>\n",
              "\n",
              "  <script>\n",
              "    async function quickchart(key) {\n",
              "      const quickchartButtonEl =\n",
              "        document.querySelector('#' + key + ' button');\n",
              "      quickchartButtonEl.disabled = true;  // To prevent multiple clicks.\n",
              "      quickchartButtonEl.classList.add('colab-df-spinner');\n",
              "      try {\n",
              "        const charts = await google.colab.kernel.invokeFunction(\n",
              "            'suggestCharts', [key], {});\n",
              "      } catch (error) {\n",
              "        console.error('Error during call to suggestCharts:', error);\n",
              "      }\n",
              "      quickchartButtonEl.classList.remove('colab-df-spinner');\n",
              "      quickchartButtonEl.classList.add('colab-df-quickchart-complete');\n",
              "    }\n",
              "    (() => {\n",
              "      let quickchartButtonEl =\n",
              "        document.querySelector('#df-92fd6f57-1d87-4e9d-acb2-64696f666307 button');\n",
              "      quickchartButtonEl.style.display =\n",
              "        google.colab.kernel.accessAllowed ? 'block' : 'none';\n",
              "    })();\n",
              "  </script>\n",
              "</div>\n",
              "    </div>\n",
              "  </div>\n"
            ]
          },
          "metadata": {},
          "execution_count": 166
        }
      ]
    },
    {
      "cell_type": "markdown",
      "source": [
        "### Выводы по разделу"
      ],
      "metadata": {
        "id": "WfaoMLIeJeaI"
      },
      "id": "WfaoMLIeJeaI"
    },
    {
      "cell_type": "markdown",
      "source": [
        "В таблице содержится информация о 21525 клиентах, подавших заявку на получение кредита. Для каждого клиента предоставлена информация о количестве детей, продолжительности трудового стажа, семейном положении, уровне образования, доходе и допущенных задолженностях.\n",
        "После первичного ознакомления с данными выявлено, что в столбцах `days_employed` и `total_income` встречаются пропуски. Количество пропущенных значений в этих столбцах одинаковое, что может указывать на связь между этими пропусками. В столбцах `children` и `dob_years` присутствуют аномальные значения (-1, 20 для количества детей и 0 для возраста). В столбце `days_employed` есть отрицательные значения.\n",
        "\n",
        "Необходимо выполнить следующие шаги:\n",
        "\n",
        "- проверить датасет на наличие дубликатов;\n",
        "- устранить аномальные значения столбцов `children` и `dob_years`;\n",
        "- проанализировать столбец `days_employed` и определить причину наличия отрицательных значений;\n",
        "- устранить пропуски данных в столбцах `days_employed` и `total_income`;\n",
        "- стандартизировать текстовые данные, при необходимости."
      ],
      "metadata": {
        "id": "gciaReMgJc4h"
      },
      "id": "gciaReMgJc4h"
    },
    {
      "cell_type": "markdown",
      "id": "6120965e",
      "metadata": {
        "id": "6120965e"
      },
      "source": [
        "В рамках проекта предстоит ответить на следующие шесть вопросов:\n",
        "1. Есть ли зависимость между количеством детей и возвратом кредита в срок?\n",
        "2. Есть ли зависимость между семейным положением и возвратом кредита в срок?\n",
        "3. Есть ли зависимость между уровнем дохода и возвратом кредита в срок?\n",
        "4. Как разные цели кредита влияют на его возврат в срок?\n",
        "5. Приведите возможные причины появления пропусков в исходных данных.\n",
        "6. Объясните, почему заполнить пропуски медианным значением — лучшее решение для количественных переменных."
      ]
    },
    {
      "cell_type": "markdown",
      "source": [
        "## Предобработка данных"
      ],
      "metadata": {
        "id": "lqpSfIxRwhw9"
      },
      "id": "lqpSfIxRwhw9"
    },
    {
      "cell_type": "markdown",
      "source": [
        "### Проверка уникальных значений в столбцах с данными типа object"
      ],
      "metadata": {
        "id": "LwIB1Afzx_w-"
      },
      "id": "LwIB1Afzx_w-"
    },
    {
      "cell_type": "markdown",
      "source": [
        "Выведем уникальные значения для столбцов с данными о семейном положении, количестве детей, образовании, поле, типе дохода и наличии задолженности."
      ],
      "metadata": {
        "id": "9BvEHI0VHfHv"
      },
      "id": "9BvEHI0VHfHv"
    },
    {
      "cell_type": "code",
      "source": [
        "# Создадим список интересующих нас столбцов\n",
        "lst = ['children', 'education', 'education_id', 'family_status', 'family_status_id', 'gender', 'income_type', 'debt']\n",
        "\n",
        "# Выведем уникальные значения для каждого\n",
        "for i in lst:\n",
        "    unique_values = ', '.join(map(str, data[i].unique()))\n",
        "    print(f'Уникальные значения столбца {i}: {unique_values}')"
      ],
      "metadata": {
        "colab": {
          "base_uri": "https://localhost:8080/"
        },
        "id": "gBF1zlkYFSt5",
        "outputId": "f9cf3632-b80c-48e4-a75d-a58031b3c6ea"
      },
      "id": "gBF1zlkYFSt5",
      "execution_count": null,
      "outputs": [
        {
          "output_type": "stream",
          "name": "stdout",
          "text": [
            "Уникальные значения столбца children: 1, 0, 3, 2, -1, 4, 20, 5\n",
            "Уникальные значения столбца education: высшее, среднее, Среднее, СРЕДНЕЕ, ВЫСШЕЕ, неоконченное высшее, начальное, Высшее, НЕОКОНЧЕННОЕ ВЫСШЕЕ, Неоконченное высшее, НАЧАЛЬНОЕ, Начальное, Ученая степень, УЧЕНАЯ СТЕПЕНЬ, ученая степень\n",
            "Уникальные значения столбца education_id: 0, 1, 2, 3, 4\n",
            "Уникальные значения столбца family_status: женат / замужем, гражданский брак, вдовец / вдова, в разводе, Не женат / не замужем\n",
            "Уникальные значения столбца family_status_id: 0, 1, 2, 3, 4\n",
            "Уникальные значения столбца gender: F, M, XNA\n",
            "Уникальные значения столбца income_type: сотрудник, пенсионер, компаньон, госслужащий, безработный, предприниматель, студент, в декрете\n",
            "Уникальные значения столбца debt: 0, 1\n"
          ]
        }
      ]
    },
    {
      "cell_type": "code",
      "source": [
        "minus_one_chld = data[data['children'] == -1].count()[0]\n",
        "twenty_chld = data[data['children'] == 20].count()[0]\n",
        "\n",
        "print(f'Количество записей \"-1\" в столбце \"children\" - {minus_one_chld} ({round(minus_one_chld/num_rows * 100, 3)}% от общего числа).')\n",
        "print(f'Количество записей \"20\" в столбце \"children\" - {twenty_chld} ({round(twenty_chld/num_rows * 100, 3)}% от общего числа).')"
      ],
      "metadata": {
        "colab": {
          "base_uri": "https://localhost:8080/"
        },
        "id": "bbxAr5Is1Hep",
        "outputId": "704fd725-f698-4145-fe6d-a9e6869881b0"
      },
      "id": "bbxAr5Is1Hep",
      "execution_count": null,
      "outputs": [
        {
          "output_type": "stream",
          "name": "stdout",
          "text": [
            "Количество записей \"-1\" в столбце \"children\" - 47 (0.218% от общего числа).\n",
            "Количество записей \"20\" в столбце \"children\" - 76 (0.353% от общего числа).\n"
          ]
        }
      ]
    },
    {
      "cell_type": "markdown",
      "source": [
        "В столбце `children` встречается 47 записей со значением \"-1\" и 76 записей со значением \"20\".  \n",
        "Можно предположить, что их возникновение связано с ошибкой при заполнении данных. Так как восстановить действительные данные не представляется возможным и количество аномальных значений не превышает 0.6% удалим строки с аномальными значениями."
      ],
      "metadata": {
        "id": "lFNqWnrqzzFQ"
      },
      "id": "lFNqWnrqzzFQ"
    },
    {
      "cell_type": "code",
      "source": [
        "data = data[(data['children'] != -1) & (data['children'] != 20)]"
      ],
      "metadata": {
        "id": "guUS3hTH1GA5"
      },
      "id": "guUS3hTH1GA5",
      "execution_count": null,
      "outputs": []
    },
    {
      "cell_type": "markdown",
      "source": [
        "Выведем уникальные значения столбца `chuildren` для проверки корректности удаления."
      ],
      "metadata": {
        "id": "AxS35K1m48mg"
      },
      "id": "AxS35K1m48mg"
    },
    {
      "cell_type": "code",
      "source": [
        "data['children'].unique()"
      ],
      "metadata": {
        "colab": {
          "base_uri": "https://localhost:8080/"
        },
        "id": "M_GUR8CWzxOk",
        "outputId": "57fa3760-1211-49a9-f396-48842e2d371d"
      },
      "id": "M_GUR8CWzxOk",
      "execution_count": null,
      "outputs": [
        {
          "output_type": "execute_result",
          "data": {
            "text/plain": [
              "array([1, 0, 3, 2, 4, 5])"
            ]
          },
          "metadata": {},
          "execution_count": 170
        }
      ]
    },
    {
      "cell_type": "markdown",
      "source": [
        "Стандартизируем текст в столбце `education` - приведем все значения к нижнему регистру."
      ],
      "metadata": {
        "id": "OzF_POcG5rYd"
      },
      "id": "OzF_POcG5rYd"
    },
    {
      "cell_type": "code",
      "source": [
        "data['education'] = data['education'].str.lower()"
      ],
      "metadata": {
        "colab": {
          "base_uri": "https://localhost:8080/"
        },
        "id": "Gv_c3gxD58uC",
        "outputId": "2f3afc68-c7c2-4895-a20c-eb449eefa8eb"
      },
      "id": "Gv_c3gxD58uC",
      "execution_count": null,
      "outputs": [
        {
          "output_type": "stream",
          "name": "stderr",
          "text": [
            "<ipython-input-171-d4b849f854d7>:1: SettingWithCopyWarning: \n",
            "A value is trying to be set on a copy of a slice from a DataFrame.\n",
            "Try using .loc[row_indexer,col_indexer] = value instead\n",
            "\n",
            "See the caveats in the documentation: https://pandas.pydata.org/pandas-docs/stable/user_guide/indexing.html#returning-a-view-versus-a-copy\n",
            "  data['education'] = data['education'].str.lower()\n"
          ]
        }
      ]
    },
    {
      "cell_type": "code",
      "source": [
        "data['education'].unique()"
      ],
      "metadata": {
        "colab": {
          "base_uri": "https://localhost:8080/"
        },
        "id": "svVcBq4M6FAY",
        "outputId": "d9130733-0bdf-4bba-bdf5-1c5656fc6688"
      },
      "id": "svVcBq4M6FAY",
      "execution_count": null,
      "outputs": [
        {
          "output_type": "execute_result",
          "data": {
            "text/plain": [
              "array(['высшее', 'среднее', 'неоконченное высшее', 'начальное',\n",
              "       'ученая степень'], dtype=object)"
            ]
          },
          "metadata": {},
          "execution_count": 172
        }
      ]
    },
    {
      "cell_type": "markdown",
      "source": [
        "В столбце `gender` встречается запись \"XNA\". Выведем строки с данной записью."
      ],
      "metadata": {
        "id": "sS8u6fUhSwzz"
      },
      "id": "sS8u6fUhSwzz"
    },
    {
      "cell_type": "code",
      "source": [
        "data[data['gender'] == 'XNA']"
      ],
      "metadata": {
        "colab": {
          "base_uri": "https://localhost:8080/",
          "height": 81
        },
        "id": "mMqGLMoASb2C",
        "outputId": "cb896788-a785-487e-b2d7-b52a1500636e"
      },
      "id": "mMqGLMoASb2C",
      "execution_count": null,
      "outputs": [
        {
          "output_type": "execute_result",
          "data": {
            "text/plain": [
              "       children  days_employed  dob_years            education  education_id  \\\n",
              "10701         0   -2358.600502         24  неоконченное высшее             2   \n",
              "\n",
              "          family_status  family_status_id gender income_type  debt  \\\n",
              "10701  гражданский брак                 1    XNA   компаньон     0   \n",
              "\n",
              "        total_income               purpose  \n",
              "10701  203905.157261  покупка недвижимости  "
            ],
            "text/html": [
              "\n",
              "  <div id=\"df-3fb44be9-5cef-49e4-9813-af0fb65aa0d9\" class=\"colab-df-container\">\n",
              "    <div>\n",
              "<style scoped>\n",
              "    .dataframe tbody tr th:only-of-type {\n",
              "        vertical-align: middle;\n",
              "    }\n",
              "\n",
              "    .dataframe tbody tr th {\n",
              "        vertical-align: top;\n",
              "    }\n",
              "\n",
              "    .dataframe thead th {\n",
              "        text-align: right;\n",
              "    }\n",
              "</style>\n",
              "<table border=\"1\" class=\"dataframe\">\n",
              "  <thead>\n",
              "    <tr style=\"text-align: right;\">\n",
              "      <th></th>\n",
              "      <th>children</th>\n",
              "      <th>days_employed</th>\n",
              "      <th>dob_years</th>\n",
              "      <th>education</th>\n",
              "      <th>education_id</th>\n",
              "      <th>family_status</th>\n",
              "      <th>family_status_id</th>\n",
              "      <th>gender</th>\n",
              "      <th>income_type</th>\n",
              "      <th>debt</th>\n",
              "      <th>total_income</th>\n",
              "      <th>purpose</th>\n",
              "    </tr>\n",
              "  </thead>\n",
              "  <tbody>\n",
              "    <tr>\n",
              "      <th>10701</th>\n",
              "      <td>0</td>\n",
              "      <td>-2358.600502</td>\n",
              "      <td>24</td>\n",
              "      <td>неоконченное высшее</td>\n",
              "      <td>2</td>\n",
              "      <td>гражданский брак</td>\n",
              "      <td>1</td>\n",
              "      <td>XNA</td>\n",
              "      <td>компаньон</td>\n",
              "      <td>0</td>\n",
              "      <td>203905.157261</td>\n",
              "      <td>покупка недвижимости</td>\n",
              "    </tr>\n",
              "  </tbody>\n",
              "</table>\n",
              "</div>\n",
              "    <div class=\"colab-df-buttons\">\n",
              "\n",
              "  <div class=\"colab-df-container\">\n",
              "    <button class=\"colab-df-convert\" onclick=\"convertToInteractive('df-3fb44be9-5cef-49e4-9813-af0fb65aa0d9')\"\n",
              "            title=\"Convert this dataframe to an interactive table.\"\n",
              "            style=\"display:none;\">\n",
              "\n",
              "  <svg xmlns=\"http://www.w3.org/2000/svg\" height=\"24px\" viewBox=\"0 -960 960 960\">\n",
              "    <path d=\"M120-120v-720h720v720H120Zm60-500h600v-160H180v160Zm220 220h160v-160H400v160Zm0 220h160v-160H400v160ZM180-400h160v-160H180v160Zm440 0h160v-160H620v160ZM180-180h160v-160H180v160Zm440 0h160v-160H620v160Z\"/>\n",
              "  </svg>\n",
              "    </button>\n",
              "\n",
              "  <style>\n",
              "    .colab-df-container {\n",
              "      display:flex;\n",
              "      gap: 12px;\n",
              "    }\n",
              "\n",
              "    .colab-df-convert {\n",
              "      background-color: #E8F0FE;\n",
              "      border: none;\n",
              "      border-radius: 50%;\n",
              "      cursor: pointer;\n",
              "      display: none;\n",
              "      fill: #1967D2;\n",
              "      height: 32px;\n",
              "      padding: 0 0 0 0;\n",
              "      width: 32px;\n",
              "    }\n",
              "\n",
              "    .colab-df-convert:hover {\n",
              "      background-color: #E2EBFA;\n",
              "      box-shadow: 0px 1px 2px rgba(60, 64, 67, 0.3), 0px 1px 3px 1px rgba(60, 64, 67, 0.15);\n",
              "      fill: #174EA6;\n",
              "    }\n",
              "\n",
              "    .colab-df-buttons div {\n",
              "      margin-bottom: 4px;\n",
              "    }\n",
              "\n",
              "    [theme=dark] .colab-df-convert {\n",
              "      background-color: #3B4455;\n",
              "      fill: #D2E3FC;\n",
              "    }\n",
              "\n",
              "    [theme=dark] .colab-df-convert:hover {\n",
              "      background-color: #434B5C;\n",
              "      box-shadow: 0px 1px 3px 1px rgba(0, 0, 0, 0.15);\n",
              "      filter: drop-shadow(0px 1px 2px rgba(0, 0, 0, 0.3));\n",
              "      fill: #FFFFFF;\n",
              "    }\n",
              "  </style>\n",
              "\n",
              "    <script>\n",
              "      const buttonEl =\n",
              "        document.querySelector('#df-3fb44be9-5cef-49e4-9813-af0fb65aa0d9 button.colab-df-convert');\n",
              "      buttonEl.style.display =\n",
              "        google.colab.kernel.accessAllowed ? 'block' : 'none';\n",
              "\n",
              "      async function convertToInteractive(key) {\n",
              "        const element = document.querySelector('#df-3fb44be9-5cef-49e4-9813-af0fb65aa0d9');\n",
              "        const dataTable =\n",
              "          await google.colab.kernel.invokeFunction('convertToInteractive',\n",
              "                                                    [key], {});\n",
              "        if (!dataTable) return;\n",
              "\n",
              "        const docLinkHtml = 'Like what you see? Visit the ' +\n",
              "          '<a target=\"_blank\" href=https://colab.research.google.com/notebooks/data_table.ipynb>data table notebook</a>'\n",
              "          + ' to learn more about interactive tables.';\n",
              "        element.innerHTML = '';\n",
              "        dataTable['output_type'] = 'display_data';\n",
              "        await google.colab.output.renderOutput(dataTable, element);\n",
              "        const docLink = document.createElement('div');\n",
              "        docLink.innerHTML = docLinkHtml;\n",
              "        element.appendChild(docLink);\n",
              "      }\n",
              "    </script>\n",
              "  </div>\n",
              "\n",
              "    </div>\n",
              "  </div>\n"
            ]
          },
          "metadata": {},
          "execution_count": 173
        }
      ]
    },
    {
      "cell_type": "markdown",
      "source": [
        "Установить пол по известным данным не представляется возможным. Так как это значение содержит лишь одна строка, можно отнести ее к любому полу или просто удалить."
      ],
      "metadata": {
        "id": "mr3ojcY6TSfg"
      },
      "id": "mr3ojcY6TSfg"
    },
    {
      "cell_type": "code",
      "source": [
        "data = data[data['gender'] != 'XNA']"
      ],
      "metadata": {
        "id": "-DJ6PS-KT7Ep"
      },
      "id": "-DJ6PS-KT7Ep",
      "execution_count": null,
      "outputs": []
    },
    {
      "cell_type": "markdown",
      "source": [
        "### Обработка дубликатов"
      ],
      "metadata": {
        "id": "qjrvEg-xcY9H"
      },
      "id": "qjrvEg-xcY9H"
    },
    {
      "cell_type": "markdown",
      "id": "2f3da9bf",
      "metadata": {
        "deletable": false,
        "editable": false,
        "id": "2f3da9bf"
      },
      "source": [
        "Выведем на экран количество строк-дубликатов в данных и удалим их, если они присутствуют."
      ]
    },
    {
      "cell_type": "code",
      "execution_count": null,
      "id": "3b256b43",
      "metadata": {
        "deletable": false,
        "id": "3b256b43",
        "outputId": "398e0607-60ee-4a3a-e70a-1bec20e2230d",
        "colab": {
          "base_uri": "https://localhost:8080/"
        }
      },
      "outputs": [
        {
          "output_type": "stream",
          "name": "stdout",
          "text": [
            "Количество дубликатов - 71.\n"
          ]
        }
      ],
      "source": [
        "print(f'Количество дубликатов - {data.duplicated().sum()}.')"
      ]
    },
    {
      "cell_type": "code",
      "execution_count": null,
      "id": "bdf30ee8",
      "metadata": {
        "deletable": false,
        "id": "bdf30ee8"
      },
      "outputs": [],
      "source": [
        "data = data.drop_duplicates()"
      ]
    },
    {
      "cell_type": "markdown",
      "source": [
        "Убедимся, что дубликатов не осталось."
      ],
      "metadata": {
        "id": "mN443OFoc57o"
      },
      "id": "mN443OFoc57o"
    },
    {
      "cell_type": "code",
      "source": [
        "data.duplicated().sum()"
      ],
      "metadata": {
        "colab": {
          "base_uri": "https://localhost:8080/"
        },
        "id": "LSPWDUMNcRGS",
        "outputId": "fc45eb2e-e7cc-4587-f174-9c24545278ee"
      },
      "id": "LSPWDUMNcRGS",
      "execution_count": null,
      "outputs": [
        {
          "output_type": "execute_result",
          "data": {
            "text/plain": [
              "0"
            ]
          },
          "metadata": {},
          "execution_count": 177
        }
      ]
    },
    {
      "cell_type": "markdown",
      "id": "7e32b320",
      "metadata": {
        "deletable": false,
        "editable": false,
        "id": "7e32b320"
      },
      "source": [
        "### Удаление пропусков"
      ]
    },
    {
      "cell_type": "markdown",
      "id": "6f26aa6a",
      "metadata": {
        "deletable": false,
        "editable": false,
        "id": "6f26aa6a"
      },
      "source": [
        "Выведем количество пропущенных значений."
      ]
    },
    {
      "cell_type": "code",
      "source": [
        "# Подсчет количества пропусков в каждом столбце\n",
        "missing_values_count = data.isnull().sum()\n",
        "\n",
        "# Сохраним исходный датафрейм в отдельную переменную\n",
        "data_with_null = data.copy()\n",
        "\n",
        "# Подсчет процентного соотношения пропусков в каждом столбце\n",
        "missing_values_percentage = (data.isnull().sum() / len(data)) * 100\n",
        "\n",
        "# Соединяем оба показателя в один DataFrame для удобства анализа\n",
        "missing_values_analysis = pd.DataFrame({'Количество пропусков': missing_values_count,\n",
        "                                        'Процент пропусков': missing_values_percentage})\n",
        "\n",
        "missing_values_analysis[missing_values_analysis['Количество пропусков'] > 0]\n"
      ],
      "metadata": {
        "colab": {
          "base_uri": "https://localhost:8080/",
          "height": 112
        },
        "id": "kzMl7h_lJV90",
        "outputId": "4c1e84b9-2dea-4469-eace-3c543ae80edd"
      },
      "id": "kzMl7h_lJV90",
      "execution_count": null,
      "outputs": [
        {
          "output_type": "execute_result",
          "data": {
            "text/plain": [
              "               Количество пропусков  Процент пропусков\n",
              "days_employed                  2091           9.803094\n",
              "total_income                   2091           9.803094"
            ],
            "text/html": [
              "\n",
              "  <div id=\"df-f7bb04d5-2480-427f-92a1-e390f0c8bbc1\" class=\"colab-df-container\">\n",
              "    <div>\n",
              "<style scoped>\n",
              "    .dataframe tbody tr th:only-of-type {\n",
              "        vertical-align: middle;\n",
              "    }\n",
              "\n",
              "    .dataframe tbody tr th {\n",
              "        vertical-align: top;\n",
              "    }\n",
              "\n",
              "    .dataframe thead th {\n",
              "        text-align: right;\n",
              "    }\n",
              "</style>\n",
              "<table border=\"1\" class=\"dataframe\">\n",
              "  <thead>\n",
              "    <tr style=\"text-align: right;\">\n",
              "      <th></th>\n",
              "      <th>Количество пропусков</th>\n",
              "      <th>Процент пропусков</th>\n",
              "    </tr>\n",
              "  </thead>\n",
              "  <tbody>\n",
              "    <tr>\n",
              "      <th>days_employed</th>\n",
              "      <td>2091</td>\n",
              "      <td>9.803094</td>\n",
              "    </tr>\n",
              "    <tr>\n",
              "      <th>total_income</th>\n",
              "      <td>2091</td>\n",
              "      <td>9.803094</td>\n",
              "    </tr>\n",
              "  </tbody>\n",
              "</table>\n",
              "</div>\n",
              "    <div class=\"colab-df-buttons\">\n",
              "\n",
              "  <div class=\"colab-df-container\">\n",
              "    <button class=\"colab-df-convert\" onclick=\"convertToInteractive('df-f7bb04d5-2480-427f-92a1-e390f0c8bbc1')\"\n",
              "            title=\"Convert this dataframe to an interactive table.\"\n",
              "            style=\"display:none;\">\n",
              "\n",
              "  <svg xmlns=\"http://www.w3.org/2000/svg\" height=\"24px\" viewBox=\"0 -960 960 960\">\n",
              "    <path d=\"M120-120v-720h720v720H120Zm60-500h600v-160H180v160Zm220 220h160v-160H400v160Zm0 220h160v-160H400v160ZM180-400h160v-160H180v160Zm440 0h160v-160H620v160ZM180-180h160v-160H180v160Zm440 0h160v-160H620v160Z\"/>\n",
              "  </svg>\n",
              "    </button>\n",
              "\n",
              "  <style>\n",
              "    .colab-df-container {\n",
              "      display:flex;\n",
              "      gap: 12px;\n",
              "    }\n",
              "\n",
              "    .colab-df-convert {\n",
              "      background-color: #E8F0FE;\n",
              "      border: none;\n",
              "      border-radius: 50%;\n",
              "      cursor: pointer;\n",
              "      display: none;\n",
              "      fill: #1967D2;\n",
              "      height: 32px;\n",
              "      padding: 0 0 0 0;\n",
              "      width: 32px;\n",
              "    }\n",
              "\n",
              "    .colab-df-convert:hover {\n",
              "      background-color: #E2EBFA;\n",
              "      box-shadow: 0px 1px 2px rgba(60, 64, 67, 0.3), 0px 1px 3px 1px rgba(60, 64, 67, 0.15);\n",
              "      fill: #174EA6;\n",
              "    }\n",
              "\n",
              "    .colab-df-buttons div {\n",
              "      margin-bottom: 4px;\n",
              "    }\n",
              "\n",
              "    [theme=dark] .colab-df-convert {\n",
              "      background-color: #3B4455;\n",
              "      fill: #D2E3FC;\n",
              "    }\n",
              "\n",
              "    [theme=dark] .colab-df-convert:hover {\n",
              "      background-color: #434B5C;\n",
              "      box-shadow: 0px 1px 3px 1px rgba(0, 0, 0, 0.15);\n",
              "      filter: drop-shadow(0px 1px 2px rgba(0, 0, 0, 0.3));\n",
              "      fill: #FFFFFF;\n",
              "    }\n",
              "  </style>\n",
              "\n",
              "    <script>\n",
              "      const buttonEl =\n",
              "        document.querySelector('#df-f7bb04d5-2480-427f-92a1-e390f0c8bbc1 button.colab-df-convert');\n",
              "      buttonEl.style.display =\n",
              "        google.colab.kernel.accessAllowed ? 'block' : 'none';\n",
              "\n",
              "      async function convertToInteractive(key) {\n",
              "        const element = document.querySelector('#df-f7bb04d5-2480-427f-92a1-e390f0c8bbc1');\n",
              "        const dataTable =\n",
              "          await google.colab.kernel.invokeFunction('convertToInteractive',\n",
              "                                                    [key], {});\n",
              "        if (!dataTable) return;\n",
              "\n",
              "        const docLinkHtml = 'Like what you see? Visit the ' +\n",
              "          '<a target=\"_blank\" href=https://colab.research.google.com/notebooks/data_table.ipynb>data table notebook</a>'\n",
              "          + ' to learn more about interactive tables.';\n",
              "        element.innerHTML = '';\n",
              "        dataTable['output_type'] = 'display_data';\n",
              "        await google.colab.output.renderOutput(dataTable, element);\n",
              "        const docLink = document.createElement('div');\n",
              "        docLink.innerHTML = docLinkHtml;\n",
              "        element.appendChild(docLink);\n",
              "      }\n",
              "    </script>\n",
              "  </div>\n",
              "\n",
              "\n",
              "<div id=\"df-d580ae9c-4e0b-49ee-958c-8483f45193cc\">\n",
              "  <button class=\"colab-df-quickchart\" onclick=\"quickchart('df-d580ae9c-4e0b-49ee-958c-8483f45193cc')\"\n",
              "            title=\"Suggest charts\"\n",
              "            style=\"display:none;\">\n",
              "\n",
              "<svg xmlns=\"http://www.w3.org/2000/svg\" height=\"24px\"viewBox=\"0 0 24 24\"\n",
              "     width=\"24px\">\n",
              "    <g>\n",
              "        <path d=\"M19 3H5c-1.1 0-2 .9-2 2v14c0 1.1.9 2 2 2h14c1.1 0 2-.9 2-2V5c0-1.1-.9-2-2-2zM9 17H7v-7h2v7zm4 0h-2V7h2v10zm4 0h-2v-4h2v4z\"/>\n",
              "    </g>\n",
              "</svg>\n",
              "  </button>\n",
              "\n",
              "<style>\n",
              "  .colab-df-quickchart {\n",
              "      --bg-color: #E8F0FE;\n",
              "      --fill-color: #1967D2;\n",
              "      --hover-bg-color: #E2EBFA;\n",
              "      --hover-fill-color: #174EA6;\n",
              "      --disabled-fill-color: #AAA;\n",
              "      --disabled-bg-color: #DDD;\n",
              "  }\n",
              "\n",
              "  [theme=dark] .colab-df-quickchart {\n",
              "      --bg-color: #3B4455;\n",
              "      --fill-color: #D2E3FC;\n",
              "      --hover-bg-color: #434B5C;\n",
              "      --hover-fill-color: #FFFFFF;\n",
              "      --disabled-bg-color: #3B4455;\n",
              "      --disabled-fill-color: #666;\n",
              "  }\n",
              "\n",
              "  .colab-df-quickchart {\n",
              "    background-color: var(--bg-color);\n",
              "    border: none;\n",
              "    border-radius: 50%;\n",
              "    cursor: pointer;\n",
              "    display: none;\n",
              "    fill: var(--fill-color);\n",
              "    height: 32px;\n",
              "    padding: 0;\n",
              "    width: 32px;\n",
              "  }\n",
              "\n",
              "  .colab-df-quickchart:hover {\n",
              "    background-color: var(--hover-bg-color);\n",
              "    box-shadow: 0 1px 2px rgba(60, 64, 67, 0.3), 0 1px 3px 1px rgba(60, 64, 67, 0.15);\n",
              "    fill: var(--button-hover-fill-color);\n",
              "  }\n",
              "\n",
              "  .colab-df-quickchart-complete:disabled,\n",
              "  .colab-df-quickchart-complete:disabled:hover {\n",
              "    background-color: var(--disabled-bg-color);\n",
              "    fill: var(--disabled-fill-color);\n",
              "    box-shadow: none;\n",
              "  }\n",
              "\n",
              "  .colab-df-spinner {\n",
              "    border: 2px solid var(--fill-color);\n",
              "    border-color: transparent;\n",
              "    border-bottom-color: var(--fill-color);\n",
              "    animation:\n",
              "      spin 1s steps(1) infinite;\n",
              "  }\n",
              "\n",
              "  @keyframes spin {\n",
              "    0% {\n",
              "      border-color: transparent;\n",
              "      border-bottom-color: var(--fill-color);\n",
              "      border-left-color: var(--fill-color);\n",
              "    }\n",
              "    20% {\n",
              "      border-color: transparent;\n",
              "      border-left-color: var(--fill-color);\n",
              "      border-top-color: var(--fill-color);\n",
              "    }\n",
              "    30% {\n",
              "      border-color: transparent;\n",
              "      border-left-color: var(--fill-color);\n",
              "      border-top-color: var(--fill-color);\n",
              "      border-right-color: var(--fill-color);\n",
              "    }\n",
              "    40% {\n",
              "      border-color: transparent;\n",
              "      border-right-color: var(--fill-color);\n",
              "      border-top-color: var(--fill-color);\n",
              "    }\n",
              "    60% {\n",
              "      border-color: transparent;\n",
              "      border-right-color: var(--fill-color);\n",
              "    }\n",
              "    80% {\n",
              "      border-color: transparent;\n",
              "      border-right-color: var(--fill-color);\n",
              "      border-bottom-color: var(--fill-color);\n",
              "    }\n",
              "    90% {\n",
              "      border-color: transparent;\n",
              "      border-bottom-color: var(--fill-color);\n",
              "    }\n",
              "  }\n",
              "</style>\n",
              "\n",
              "  <script>\n",
              "    async function quickchart(key) {\n",
              "      const quickchartButtonEl =\n",
              "        document.querySelector('#' + key + ' button');\n",
              "      quickchartButtonEl.disabled = true;  // To prevent multiple clicks.\n",
              "      quickchartButtonEl.classList.add('colab-df-spinner');\n",
              "      try {\n",
              "        const charts = await google.colab.kernel.invokeFunction(\n",
              "            'suggestCharts', [key], {});\n",
              "      } catch (error) {\n",
              "        console.error('Error during call to suggestCharts:', error);\n",
              "      }\n",
              "      quickchartButtonEl.classList.remove('colab-df-spinner');\n",
              "      quickchartButtonEl.classList.add('colab-df-quickchart-complete');\n",
              "    }\n",
              "    (() => {\n",
              "      let quickchartButtonEl =\n",
              "        document.querySelector('#df-d580ae9c-4e0b-49ee-958c-8483f45193cc button');\n",
              "      quickchartButtonEl.style.display =\n",
              "        google.colab.kernel.accessAllowed ? 'block' : 'none';\n",
              "    })();\n",
              "  </script>\n",
              "</div>\n",
              "    </div>\n",
              "  </div>\n"
            ]
          },
          "metadata": {},
          "execution_count": 178
        }
      ]
    },
    {
      "cell_type": "markdown",
      "source": [
        "Проанализируем распределение пропусков по разным категориям."
      ],
      "metadata": {
        "id": "WviaWD5oLyNf"
      },
      "id": "WviaWD5oLyNf"
    },
    {
      "cell_type": "code",
      "source": [
        "# Определение строк с пропущенными значениями\n",
        "rows_with_missing = data[data['days_employed'].isnull() | data['total_income'].isnull()]\n",
        "\n",
        "# Сравнение распределения категорий с пропусками и без пропусков\n",
        "categories = ['income_type', 'education', 'family_status', 'gender']\n",
        "missing_distributions = {category: rows_with_missing[category].value_counts(normalize=True) for category in categories}\n",
        "overall_distributions = {category: data[category].value_counts(normalize=True) for category in categories}\n",
        "\n",
        "# Создание DataFrame для сравнения распределений\n",
        "comparison_dfs = {category: pd.DataFrame({'Overall': overall_distributions[category],\n",
        "                                          'Missing': missing_distributions[category]}) for category in categories}\n",
        "\n",
        "comparison_dfs['income_type']\n"
      ],
      "metadata": {
        "colab": {
          "base_uri": "https://localhost:8080/",
          "height": 300
        },
        "id": "iI5H03XOLxgp",
        "outputId": "5f0cc81b-898f-461d-862b-190963077d30"
      },
      "id": "iI5H03XOLxgp",
      "execution_count": null,
      "outputs": [
        {
          "output_type": "execute_result",
          "data": {
            "text/plain": [
              "                  Overall   Missing\n",
              "безработный      0.000094       NaN\n",
              "в декрете        0.000047       NaN\n",
              "госслужащий      0.068026  0.068867\n",
              "компаньон        0.236568  0.237685\n",
              "пенсионер        0.178715  0.183166\n",
              "предприниматель  0.000094  0.000478\n",
              "сотрудник        0.516409  0.509804\n",
              "студент          0.000047       NaN"
            ],
            "text/html": [
              "\n",
              "  <div id=\"df-0b1a19ea-7427-49f6-b8fa-674efd1b466f\" class=\"colab-df-container\">\n",
              "    <div>\n",
              "<style scoped>\n",
              "    .dataframe tbody tr th:only-of-type {\n",
              "        vertical-align: middle;\n",
              "    }\n",
              "\n",
              "    .dataframe tbody tr th {\n",
              "        vertical-align: top;\n",
              "    }\n",
              "\n",
              "    .dataframe thead th {\n",
              "        text-align: right;\n",
              "    }\n",
              "</style>\n",
              "<table border=\"1\" class=\"dataframe\">\n",
              "  <thead>\n",
              "    <tr style=\"text-align: right;\">\n",
              "      <th></th>\n",
              "      <th>Overall</th>\n",
              "      <th>Missing</th>\n",
              "    </tr>\n",
              "  </thead>\n",
              "  <tbody>\n",
              "    <tr>\n",
              "      <th>безработный</th>\n",
              "      <td>0.000094</td>\n",
              "      <td>NaN</td>\n",
              "    </tr>\n",
              "    <tr>\n",
              "      <th>в декрете</th>\n",
              "      <td>0.000047</td>\n",
              "      <td>NaN</td>\n",
              "    </tr>\n",
              "    <tr>\n",
              "      <th>госслужащий</th>\n",
              "      <td>0.068026</td>\n",
              "      <td>0.068867</td>\n",
              "    </tr>\n",
              "    <tr>\n",
              "      <th>компаньон</th>\n",
              "      <td>0.236568</td>\n",
              "      <td>0.237685</td>\n",
              "    </tr>\n",
              "    <tr>\n",
              "      <th>пенсионер</th>\n",
              "      <td>0.178715</td>\n",
              "      <td>0.183166</td>\n",
              "    </tr>\n",
              "    <tr>\n",
              "      <th>предприниматель</th>\n",
              "      <td>0.000094</td>\n",
              "      <td>0.000478</td>\n",
              "    </tr>\n",
              "    <tr>\n",
              "      <th>сотрудник</th>\n",
              "      <td>0.516409</td>\n",
              "      <td>0.509804</td>\n",
              "    </tr>\n",
              "    <tr>\n",
              "      <th>студент</th>\n",
              "      <td>0.000047</td>\n",
              "      <td>NaN</td>\n",
              "    </tr>\n",
              "  </tbody>\n",
              "</table>\n",
              "</div>\n",
              "    <div class=\"colab-df-buttons\">\n",
              "\n",
              "  <div class=\"colab-df-container\">\n",
              "    <button class=\"colab-df-convert\" onclick=\"convertToInteractive('df-0b1a19ea-7427-49f6-b8fa-674efd1b466f')\"\n",
              "            title=\"Convert this dataframe to an interactive table.\"\n",
              "            style=\"display:none;\">\n",
              "\n",
              "  <svg xmlns=\"http://www.w3.org/2000/svg\" height=\"24px\" viewBox=\"0 -960 960 960\">\n",
              "    <path d=\"M120-120v-720h720v720H120Zm60-500h600v-160H180v160Zm220 220h160v-160H400v160Zm0 220h160v-160H400v160ZM180-400h160v-160H180v160Zm440 0h160v-160H620v160ZM180-180h160v-160H180v160Zm440 0h160v-160H620v160Z\"/>\n",
              "  </svg>\n",
              "    </button>\n",
              "\n",
              "  <style>\n",
              "    .colab-df-container {\n",
              "      display:flex;\n",
              "      gap: 12px;\n",
              "    }\n",
              "\n",
              "    .colab-df-convert {\n",
              "      background-color: #E8F0FE;\n",
              "      border: none;\n",
              "      border-radius: 50%;\n",
              "      cursor: pointer;\n",
              "      display: none;\n",
              "      fill: #1967D2;\n",
              "      height: 32px;\n",
              "      padding: 0 0 0 0;\n",
              "      width: 32px;\n",
              "    }\n",
              "\n",
              "    .colab-df-convert:hover {\n",
              "      background-color: #E2EBFA;\n",
              "      box-shadow: 0px 1px 2px rgba(60, 64, 67, 0.3), 0px 1px 3px 1px rgba(60, 64, 67, 0.15);\n",
              "      fill: #174EA6;\n",
              "    }\n",
              "\n",
              "    .colab-df-buttons div {\n",
              "      margin-bottom: 4px;\n",
              "    }\n",
              "\n",
              "    [theme=dark] .colab-df-convert {\n",
              "      background-color: #3B4455;\n",
              "      fill: #D2E3FC;\n",
              "    }\n",
              "\n",
              "    [theme=dark] .colab-df-convert:hover {\n",
              "      background-color: #434B5C;\n",
              "      box-shadow: 0px 1px 3px 1px rgba(0, 0, 0, 0.15);\n",
              "      filter: drop-shadow(0px 1px 2px rgba(0, 0, 0, 0.3));\n",
              "      fill: #FFFFFF;\n",
              "    }\n",
              "  </style>\n",
              "\n",
              "    <script>\n",
              "      const buttonEl =\n",
              "        document.querySelector('#df-0b1a19ea-7427-49f6-b8fa-674efd1b466f button.colab-df-convert');\n",
              "      buttonEl.style.display =\n",
              "        google.colab.kernel.accessAllowed ? 'block' : 'none';\n",
              "\n",
              "      async function convertToInteractive(key) {\n",
              "        const element = document.querySelector('#df-0b1a19ea-7427-49f6-b8fa-674efd1b466f');\n",
              "        const dataTable =\n",
              "          await google.colab.kernel.invokeFunction('convertToInteractive',\n",
              "                                                    [key], {});\n",
              "        if (!dataTable) return;\n",
              "\n",
              "        const docLinkHtml = 'Like what you see? Visit the ' +\n",
              "          '<a target=\"_blank\" href=https://colab.research.google.com/notebooks/data_table.ipynb>data table notebook</a>'\n",
              "          + ' to learn more about interactive tables.';\n",
              "        element.innerHTML = '';\n",
              "        dataTable['output_type'] = 'display_data';\n",
              "        await google.colab.output.renderOutput(dataTable, element);\n",
              "        const docLink = document.createElement('div');\n",
              "        docLink.innerHTML = docLinkHtml;\n",
              "        element.appendChild(docLink);\n",
              "      }\n",
              "    </script>\n",
              "  </div>\n",
              "\n",
              "\n",
              "<div id=\"df-d8c2e0ef-3470-4309-8016-96ba7577de77\">\n",
              "  <button class=\"colab-df-quickchart\" onclick=\"quickchart('df-d8c2e0ef-3470-4309-8016-96ba7577de77')\"\n",
              "            title=\"Suggest charts\"\n",
              "            style=\"display:none;\">\n",
              "\n",
              "<svg xmlns=\"http://www.w3.org/2000/svg\" height=\"24px\"viewBox=\"0 0 24 24\"\n",
              "     width=\"24px\">\n",
              "    <g>\n",
              "        <path d=\"M19 3H5c-1.1 0-2 .9-2 2v14c0 1.1.9 2 2 2h14c1.1 0 2-.9 2-2V5c0-1.1-.9-2-2-2zM9 17H7v-7h2v7zm4 0h-2V7h2v10zm4 0h-2v-4h2v4z\"/>\n",
              "    </g>\n",
              "</svg>\n",
              "  </button>\n",
              "\n",
              "<style>\n",
              "  .colab-df-quickchart {\n",
              "      --bg-color: #E8F0FE;\n",
              "      --fill-color: #1967D2;\n",
              "      --hover-bg-color: #E2EBFA;\n",
              "      --hover-fill-color: #174EA6;\n",
              "      --disabled-fill-color: #AAA;\n",
              "      --disabled-bg-color: #DDD;\n",
              "  }\n",
              "\n",
              "  [theme=dark] .colab-df-quickchart {\n",
              "      --bg-color: #3B4455;\n",
              "      --fill-color: #D2E3FC;\n",
              "      --hover-bg-color: #434B5C;\n",
              "      --hover-fill-color: #FFFFFF;\n",
              "      --disabled-bg-color: #3B4455;\n",
              "      --disabled-fill-color: #666;\n",
              "  }\n",
              "\n",
              "  .colab-df-quickchart {\n",
              "    background-color: var(--bg-color);\n",
              "    border: none;\n",
              "    border-radius: 50%;\n",
              "    cursor: pointer;\n",
              "    display: none;\n",
              "    fill: var(--fill-color);\n",
              "    height: 32px;\n",
              "    padding: 0;\n",
              "    width: 32px;\n",
              "  }\n",
              "\n",
              "  .colab-df-quickchart:hover {\n",
              "    background-color: var(--hover-bg-color);\n",
              "    box-shadow: 0 1px 2px rgba(60, 64, 67, 0.3), 0 1px 3px 1px rgba(60, 64, 67, 0.15);\n",
              "    fill: var(--button-hover-fill-color);\n",
              "  }\n",
              "\n",
              "  .colab-df-quickchart-complete:disabled,\n",
              "  .colab-df-quickchart-complete:disabled:hover {\n",
              "    background-color: var(--disabled-bg-color);\n",
              "    fill: var(--disabled-fill-color);\n",
              "    box-shadow: none;\n",
              "  }\n",
              "\n",
              "  .colab-df-spinner {\n",
              "    border: 2px solid var(--fill-color);\n",
              "    border-color: transparent;\n",
              "    border-bottom-color: var(--fill-color);\n",
              "    animation:\n",
              "      spin 1s steps(1) infinite;\n",
              "  }\n",
              "\n",
              "  @keyframes spin {\n",
              "    0% {\n",
              "      border-color: transparent;\n",
              "      border-bottom-color: var(--fill-color);\n",
              "      border-left-color: var(--fill-color);\n",
              "    }\n",
              "    20% {\n",
              "      border-color: transparent;\n",
              "      border-left-color: var(--fill-color);\n",
              "      border-top-color: var(--fill-color);\n",
              "    }\n",
              "    30% {\n",
              "      border-color: transparent;\n",
              "      border-left-color: var(--fill-color);\n",
              "      border-top-color: var(--fill-color);\n",
              "      border-right-color: var(--fill-color);\n",
              "    }\n",
              "    40% {\n",
              "      border-color: transparent;\n",
              "      border-right-color: var(--fill-color);\n",
              "      border-top-color: var(--fill-color);\n",
              "    }\n",
              "    60% {\n",
              "      border-color: transparent;\n",
              "      border-right-color: var(--fill-color);\n",
              "    }\n",
              "    80% {\n",
              "      border-color: transparent;\n",
              "      border-right-color: var(--fill-color);\n",
              "      border-bottom-color: var(--fill-color);\n",
              "    }\n",
              "    90% {\n",
              "      border-color: transparent;\n",
              "      border-bottom-color: var(--fill-color);\n",
              "    }\n",
              "  }\n",
              "</style>\n",
              "\n",
              "  <script>\n",
              "    async function quickchart(key) {\n",
              "      const quickchartButtonEl =\n",
              "        document.querySelector('#' + key + ' button');\n",
              "      quickchartButtonEl.disabled = true;  // To prevent multiple clicks.\n",
              "      quickchartButtonEl.classList.add('colab-df-spinner');\n",
              "      try {\n",
              "        const charts = await google.colab.kernel.invokeFunction(\n",
              "            'suggestCharts', [key], {});\n",
              "      } catch (error) {\n",
              "        console.error('Error during call to suggestCharts:', error);\n",
              "      }\n",
              "      quickchartButtonEl.classList.remove('colab-df-spinner');\n",
              "      quickchartButtonEl.classList.add('colab-df-quickchart-complete');\n",
              "    }\n",
              "    (() => {\n",
              "      let quickchartButtonEl =\n",
              "        document.querySelector('#df-d8c2e0ef-3470-4309-8016-96ba7577de77 button');\n",
              "      quickchartButtonEl.style.display =\n",
              "        google.colab.kernel.accessAllowed ? 'block' : 'none';\n",
              "    })();\n",
              "  </script>\n",
              "</div>\n",
              "    </div>\n",
              "  </div>\n"
            ]
          },
          "metadata": {},
          "execution_count": 179
        }
      ]
    },
    {
      "cell_type": "markdown",
      "source": [
        "Процентное распределение по типам дохода в целом по датасету (Overall) и в строках с пропущенными значениями (Missing) довольно похоже.  \n",
        "В категории \"госслужащий\", \"компаньон\" и \"сотрудник\" доля пропущенных значений соответствует общему распределению этих категорий в датасете.\n",
        "Немного выше доля пропущенных значений среди \"пенсионеров\" (18.3% пропущенных против 17.9% в общем распределении) и \"предпринимателей\" (0.048% против 0.0094%).  \n",
        "Категории \"безработный\", \"в декрете\" и \"студент\" не имеют пропущенных значений, хотя их доля в общем распределении очень мала.  \n",
        "Эти наблюдения могут указывать на то, что пропуски в данных не сильно зависят от типа занятости респондентов. Вероятно, пропуски обусловлены другими факторами, не связанными непосредственно с профессиональной деятельностью.  \n",
        "На основе вышесказанного, заполним пропуски медианными значениями по типу дохода. Это позволит сохранить структуру данных без значительного искажения общей картины."
      ],
      "metadata": {
        "id": "mO1oKanoF7vh"
      },
      "id": "mO1oKanoF7vh"
    },
    {
      "cell_type": "code",
      "execution_count": null,
      "id": "2e810337",
      "metadata": {
        "deletable": false,
        "id": "2e810337"
      },
      "outputs": [],
      "source": [
        "for t in data['income_type'].unique():\n",
        "    data.loc[(data['income_type'] == t) & (data['total_income'].isna()), 'total_income'] = \\\n",
        "    data.loc[(data['income_type'] == t), 'total_income'].median()"
      ]
    },
    {
      "cell_type": "markdown",
      "id": "d0f20715",
      "metadata": {
        "deletable": false,
        "editable": false,
        "id": "d0f20715"
      },
      "source": [
        "### Обработка аномальных значений"
      ]
    },
    {
      "cell_type": "markdown",
      "id": "e6716598",
      "metadata": {
        "deletable": false,
        "editable": false,
        "id": "e6716598"
      },
      "source": [
        "В столбце `days_employed` встречаются аномалии — отрицательное количество дней трудового стажа.  \n",
        "Сгруппируем по типу дохода и подсчитаем количество отрицательных и положительных значений в days_employed."
      ]
    },
    {
      "cell_type": "code",
      "source": [
        "grouped_data = data.groupby('income_type')['days_employed'].agg(\n",
        "    positive_count=lambda x: (x > 0).sum(),\n",
        "    negative_count=lambda x: (x < 0).sum()\n",
        ").reset_index()\n",
        "\n",
        "grouped_data"
      ],
      "metadata": {
        "colab": {
          "base_uri": "https://localhost:8080/",
          "height": 300
        },
        "id": "NS0-rKd2SeNB",
        "outputId": "9716ac15-96f7-4d0c-926e-0bb5e9320db5"
      },
      "id": "NS0-rKd2SeNB",
      "execution_count": null,
      "outputs": [
        {
          "output_type": "execute_result",
          "data": {
            "text/plain": [
              "       income_type  positive_count  negative_count\n",
              "0      безработный               2               0\n",
              "1        в декрете               0               1\n",
              "2      госслужащий               0            1307\n",
              "3        компаньон               0            4549\n",
              "4        пенсионер            3429               0\n",
              "5  предприниматель               0               1\n",
              "6        сотрудник               0            9949\n",
              "7          студент               0               1"
            ],
            "text/html": [
              "\n",
              "  <div id=\"df-50e491f7-3873-4199-b5e0-d177cca2f014\" class=\"colab-df-container\">\n",
              "    <div>\n",
              "<style scoped>\n",
              "    .dataframe tbody tr th:only-of-type {\n",
              "        vertical-align: middle;\n",
              "    }\n",
              "\n",
              "    .dataframe tbody tr th {\n",
              "        vertical-align: top;\n",
              "    }\n",
              "\n",
              "    .dataframe thead th {\n",
              "        text-align: right;\n",
              "    }\n",
              "</style>\n",
              "<table border=\"1\" class=\"dataframe\">\n",
              "  <thead>\n",
              "    <tr style=\"text-align: right;\">\n",
              "      <th></th>\n",
              "      <th>income_type</th>\n",
              "      <th>positive_count</th>\n",
              "      <th>negative_count</th>\n",
              "    </tr>\n",
              "  </thead>\n",
              "  <tbody>\n",
              "    <tr>\n",
              "      <th>0</th>\n",
              "      <td>безработный</td>\n",
              "      <td>2</td>\n",
              "      <td>0</td>\n",
              "    </tr>\n",
              "    <tr>\n",
              "      <th>1</th>\n",
              "      <td>в декрете</td>\n",
              "      <td>0</td>\n",
              "      <td>1</td>\n",
              "    </tr>\n",
              "    <tr>\n",
              "      <th>2</th>\n",
              "      <td>госслужащий</td>\n",
              "      <td>0</td>\n",
              "      <td>1307</td>\n",
              "    </tr>\n",
              "    <tr>\n",
              "      <th>3</th>\n",
              "      <td>компаньон</td>\n",
              "      <td>0</td>\n",
              "      <td>4549</td>\n",
              "    </tr>\n",
              "    <tr>\n",
              "      <th>4</th>\n",
              "      <td>пенсионер</td>\n",
              "      <td>3429</td>\n",
              "      <td>0</td>\n",
              "    </tr>\n",
              "    <tr>\n",
              "      <th>5</th>\n",
              "      <td>предприниматель</td>\n",
              "      <td>0</td>\n",
              "      <td>1</td>\n",
              "    </tr>\n",
              "    <tr>\n",
              "      <th>6</th>\n",
              "      <td>сотрудник</td>\n",
              "      <td>0</td>\n",
              "      <td>9949</td>\n",
              "    </tr>\n",
              "    <tr>\n",
              "      <th>7</th>\n",
              "      <td>студент</td>\n",
              "      <td>0</td>\n",
              "      <td>1</td>\n",
              "    </tr>\n",
              "  </tbody>\n",
              "</table>\n",
              "</div>\n",
              "    <div class=\"colab-df-buttons\">\n",
              "\n",
              "  <div class=\"colab-df-container\">\n",
              "    <button class=\"colab-df-convert\" onclick=\"convertToInteractive('df-50e491f7-3873-4199-b5e0-d177cca2f014')\"\n",
              "            title=\"Convert this dataframe to an interactive table.\"\n",
              "            style=\"display:none;\">\n",
              "\n",
              "  <svg xmlns=\"http://www.w3.org/2000/svg\" height=\"24px\" viewBox=\"0 -960 960 960\">\n",
              "    <path d=\"M120-120v-720h720v720H120Zm60-500h600v-160H180v160Zm220 220h160v-160H400v160Zm0 220h160v-160H400v160ZM180-400h160v-160H180v160Zm440 0h160v-160H620v160ZM180-180h160v-160H180v160Zm440 0h160v-160H620v160Z\"/>\n",
              "  </svg>\n",
              "    </button>\n",
              "\n",
              "  <style>\n",
              "    .colab-df-container {\n",
              "      display:flex;\n",
              "      gap: 12px;\n",
              "    }\n",
              "\n",
              "    .colab-df-convert {\n",
              "      background-color: #E8F0FE;\n",
              "      border: none;\n",
              "      border-radius: 50%;\n",
              "      cursor: pointer;\n",
              "      display: none;\n",
              "      fill: #1967D2;\n",
              "      height: 32px;\n",
              "      padding: 0 0 0 0;\n",
              "      width: 32px;\n",
              "    }\n",
              "\n",
              "    .colab-df-convert:hover {\n",
              "      background-color: #E2EBFA;\n",
              "      box-shadow: 0px 1px 2px rgba(60, 64, 67, 0.3), 0px 1px 3px 1px rgba(60, 64, 67, 0.15);\n",
              "      fill: #174EA6;\n",
              "    }\n",
              "\n",
              "    .colab-df-buttons div {\n",
              "      margin-bottom: 4px;\n",
              "    }\n",
              "\n",
              "    [theme=dark] .colab-df-convert {\n",
              "      background-color: #3B4455;\n",
              "      fill: #D2E3FC;\n",
              "    }\n",
              "\n",
              "    [theme=dark] .colab-df-convert:hover {\n",
              "      background-color: #434B5C;\n",
              "      box-shadow: 0px 1px 3px 1px rgba(0, 0, 0, 0.15);\n",
              "      filter: drop-shadow(0px 1px 2px rgba(0, 0, 0, 0.3));\n",
              "      fill: #FFFFFF;\n",
              "    }\n",
              "  </style>\n",
              "\n",
              "    <script>\n",
              "      const buttonEl =\n",
              "        document.querySelector('#df-50e491f7-3873-4199-b5e0-d177cca2f014 button.colab-df-convert');\n",
              "      buttonEl.style.display =\n",
              "        google.colab.kernel.accessAllowed ? 'block' : 'none';\n",
              "\n",
              "      async function convertToInteractive(key) {\n",
              "        const element = document.querySelector('#df-50e491f7-3873-4199-b5e0-d177cca2f014');\n",
              "        const dataTable =\n",
              "          await google.colab.kernel.invokeFunction('convertToInteractive',\n",
              "                                                    [key], {});\n",
              "        if (!dataTable) return;\n",
              "\n",
              "        const docLinkHtml = 'Like what you see? Visit the ' +\n",
              "          '<a target=\"_blank\" href=https://colab.research.google.com/notebooks/data_table.ipynb>data table notebook</a>'\n",
              "          + ' to learn more about interactive tables.';\n",
              "        element.innerHTML = '';\n",
              "        dataTable['output_type'] = 'display_data';\n",
              "        await google.colab.output.renderOutput(dataTable, element);\n",
              "        const docLink = document.createElement('div');\n",
              "        docLink.innerHTML = docLinkHtml;\n",
              "        element.appendChild(docLink);\n",
              "      }\n",
              "    </script>\n",
              "  </div>\n",
              "\n",
              "\n",
              "<div id=\"df-bad5a8d5-ff52-4bc2-8493-f1d3adc0e396\">\n",
              "  <button class=\"colab-df-quickchart\" onclick=\"quickchart('df-bad5a8d5-ff52-4bc2-8493-f1d3adc0e396')\"\n",
              "            title=\"Suggest charts\"\n",
              "            style=\"display:none;\">\n",
              "\n",
              "<svg xmlns=\"http://www.w3.org/2000/svg\" height=\"24px\"viewBox=\"0 0 24 24\"\n",
              "     width=\"24px\">\n",
              "    <g>\n",
              "        <path d=\"M19 3H5c-1.1 0-2 .9-2 2v14c0 1.1.9 2 2 2h14c1.1 0 2-.9 2-2V5c0-1.1-.9-2-2-2zM9 17H7v-7h2v7zm4 0h-2V7h2v10zm4 0h-2v-4h2v4z\"/>\n",
              "    </g>\n",
              "</svg>\n",
              "  </button>\n",
              "\n",
              "<style>\n",
              "  .colab-df-quickchart {\n",
              "      --bg-color: #E8F0FE;\n",
              "      --fill-color: #1967D2;\n",
              "      --hover-bg-color: #E2EBFA;\n",
              "      --hover-fill-color: #174EA6;\n",
              "      --disabled-fill-color: #AAA;\n",
              "      --disabled-bg-color: #DDD;\n",
              "  }\n",
              "\n",
              "  [theme=dark] .colab-df-quickchart {\n",
              "      --bg-color: #3B4455;\n",
              "      --fill-color: #D2E3FC;\n",
              "      --hover-bg-color: #434B5C;\n",
              "      --hover-fill-color: #FFFFFF;\n",
              "      --disabled-bg-color: #3B4455;\n",
              "      --disabled-fill-color: #666;\n",
              "  }\n",
              "\n",
              "  .colab-df-quickchart {\n",
              "    background-color: var(--bg-color);\n",
              "    border: none;\n",
              "    border-radius: 50%;\n",
              "    cursor: pointer;\n",
              "    display: none;\n",
              "    fill: var(--fill-color);\n",
              "    height: 32px;\n",
              "    padding: 0;\n",
              "    width: 32px;\n",
              "  }\n",
              "\n",
              "  .colab-df-quickchart:hover {\n",
              "    background-color: var(--hover-bg-color);\n",
              "    box-shadow: 0 1px 2px rgba(60, 64, 67, 0.3), 0 1px 3px 1px rgba(60, 64, 67, 0.15);\n",
              "    fill: var(--button-hover-fill-color);\n",
              "  }\n",
              "\n",
              "  .colab-df-quickchart-complete:disabled,\n",
              "  .colab-df-quickchart-complete:disabled:hover {\n",
              "    background-color: var(--disabled-bg-color);\n",
              "    fill: var(--disabled-fill-color);\n",
              "    box-shadow: none;\n",
              "  }\n",
              "\n",
              "  .colab-df-spinner {\n",
              "    border: 2px solid var(--fill-color);\n",
              "    border-color: transparent;\n",
              "    border-bottom-color: var(--fill-color);\n",
              "    animation:\n",
              "      spin 1s steps(1) infinite;\n",
              "  }\n",
              "\n",
              "  @keyframes spin {\n",
              "    0% {\n",
              "      border-color: transparent;\n",
              "      border-bottom-color: var(--fill-color);\n",
              "      border-left-color: var(--fill-color);\n",
              "    }\n",
              "    20% {\n",
              "      border-color: transparent;\n",
              "      border-left-color: var(--fill-color);\n",
              "      border-top-color: var(--fill-color);\n",
              "    }\n",
              "    30% {\n",
              "      border-color: transparent;\n",
              "      border-left-color: var(--fill-color);\n",
              "      border-top-color: var(--fill-color);\n",
              "      border-right-color: var(--fill-color);\n",
              "    }\n",
              "    40% {\n",
              "      border-color: transparent;\n",
              "      border-right-color: var(--fill-color);\n",
              "      border-top-color: var(--fill-color);\n",
              "    }\n",
              "    60% {\n",
              "      border-color: transparent;\n",
              "      border-right-color: var(--fill-color);\n",
              "    }\n",
              "    80% {\n",
              "      border-color: transparent;\n",
              "      border-right-color: var(--fill-color);\n",
              "      border-bottom-color: var(--fill-color);\n",
              "    }\n",
              "    90% {\n",
              "      border-color: transparent;\n",
              "      border-bottom-color: var(--fill-color);\n",
              "    }\n",
              "  }\n",
              "</style>\n",
              "\n",
              "  <script>\n",
              "    async function quickchart(key) {\n",
              "      const quickchartButtonEl =\n",
              "        document.querySelector('#' + key + ' button');\n",
              "      quickchartButtonEl.disabled = true;  // To prevent multiple clicks.\n",
              "      quickchartButtonEl.classList.add('colab-df-spinner');\n",
              "      try {\n",
              "        const charts = await google.colab.kernel.invokeFunction(\n",
              "            'suggestCharts', [key], {});\n",
              "      } catch (error) {\n",
              "        console.error('Error during call to suggestCharts:', error);\n",
              "      }\n",
              "      quickchartButtonEl.classList.remove('colab-df-spinner');\n",
              "      quickchartButtonEl.classList.add('colab-df-quickchart-complete');\n",
              "    }\n",
              "    (() => {\n",
              "      let quickchartButtonEl =\n",
              "        document.querySelector('#df-bad5a8d5-ff52-4bc2-8493-f1d3adc0e396 button');\n",
              "      quickchartButtonEl.style.display =\n",
              "        google.colab.kernel.accessAllowed ? 'block' : 'none';\n",
              "    })();\n",
              "  </script>\n",
              "</div>\n",
              "    </div>\n",
              "  </div>\n"
            ]
          },
          "metadata": {},
          "execution_count": 181
        }
      ]
    },
    {
      "cell_type": "markdown",
      "source": [
        "Положительные значения трудового стажа встречаются только у пенсионеров и безработных. Вероятно, отрицательные значения появились ошибочно.  \n",
        "Заменим отрицательные значения положительными."
      ],
      "metadata": {
        "id": "GDKRFJUaU_Ic"
      },
      "id": "GDKRFJUaU_Ic"
    },
    {
      "cell_type": "code",
      "execution_count": null,
      "id": "e7b0b820",
      "metadata": {
        "deletable": false,
        "id": "e7b0b820"
      },
      "outputs": [],
      "source": [
        "data['days_employed'] = data['days_employed'].abs()"
      ]
    },
    {
      "cell_type": "markdown",
      "id": "8098f187",
      "metadata": {
        "deletable": false,
        "editable": false,
        "id": "8098f187"
      },
      "source": [
        "Для каждого типа занятости выведем медианное значение трудового стажа `days_employed`."
      ]
    },
    {
      "cell_type": "code",
      "execution_count": null,
      "id": "b5d08682",
      "metadata": {
        "deletable": false,
        "id": "b5d08682",
        "outputId": "0ceecb34-72f5-46bd-b5f7-2747cb7f1eab",
        "colab": {
          "base_uri": "https://localhost:8080/"
        }
      },
      "outputs": [
        {
          "output_type": "execute_result",
          "data": {
            "text/plain": [
              "income_type\n",
              "безработный        366413.652744\n",
              "в декрете            3296.759962\n",
              "госслужащий          2689.137274\n",
              "компаньон            1555.901115\n",
              "пенсионер          365286.622650\n",
              "предприниматель       520.848083\n",
              "сотрудник            1572.328285\n",
              "студент               578.751554\n",
              "Name: days_employed, dtype: float64"
            ]
          },
          "metadata": {},
          "execution_count": 183
        }
      ],
      "source": [
        "data.groupby('income_type')['days_employed'].agg('median')"
      ]
    },
    {
      "cell_type": "markdown",
      "id": "df5707fb",
      "metadata": {
        "deletable": false,
        "editable": false,
        "id": "df5707fb"
      },
      "source": [
        "У двух типов (безработные и пенсионеры) получатся аномально большие значения. Похоже, что для этих двух типов стаж был указан в часах (для пенсионеров 365286 / 24 / 365 = 41,7 лет).  \n",
        "В рамках текущей задачи нам эти значения не понадобятся, поэтому просто присвоим пустым значениям `days_employed` соответствующие медианные значения."
      ]
    },
    {
      "cell_type": "code",
      "execution_count": null,
      "metadata": {
        "deletable": false,
        "id": "mGrG-Wb_XtNP"
      },
      "outputs": [],
      "source": [
        "for t in data['income_type'].unique():\n",
        "    data.loc[(data['income_type'] == t) & (data['days_employed'].isna()), 'days_employed'] = \\\n",
        "    data.loc[(data['income_type'] == t), 'days_employed'].median()"
      ],
      "id": "mGrG-Wb_XtNP"
    },
    {
      "cell_type": "markdown",
      "source": [
        "Убедимся, что все пропуски заменены."
      ],
      "metadata": {
        "id": "NTEjZ-vHcCNM"
      },
      "id": "NTEjZ-vHcCNM"
    },
    {
      "cell_type": "code",
      "source": [
        "data.isna().sum()"
      ],
      "metadata": {
        "colab": {
          "base_uri": "https://localhost:8080/"
        },
        "id": "xavLns_TXsyo",
        "outputId": "5db49e5f-6015-4ad8-8596-bcb5486a5d12"
      },
      "id": "xavLns_TXsyo",
      "execution_count": null,
      "outputs": [
        {
          "output_type": "execute_result",
          "data": {
            "text/plain": [
              "children            0\n",
              "days_employed       0\n",
              "dob_years           0\n",
              "education           0\n",
              "education_id        0\n",
              "family_status       0\n",
              "family_status_id    0\n",
              "gender              0\n",
              "income_type         0\n",
              "debt                0\n",
              "total_income        0\n",
              "purpose             0\n",
              "dtype: int64"
            ]
          },
          "metadata": {},
          "execution_count": 185
        }
      ]
    },
    {
      "cell_type": "markdown",
      "id": "e5cd35ce",
      "metadata": {
        "deletable": false,
        "editable": false,
        "id": "e5cd35ce"
      },
      "source": [
        "### Изменение типов данных"
      ]
    },
    {
      "cell_type": "markdown",
      "id": "b8726605",
      "metadata": {
        "deletable": false,
        "editable": false,
        "id": "b8726605"
      },
      "source": [
        "Заменим вещественный тип данных в столбцах `total_income` и `days_employed` на целочисленный."
      ]
    },
    {
      "cell_type": "code",
      "execution_count": null,
      "id": "50b1562b",
      "metadata": {
        "deletable": false,
        "id": "50b1562b",
        "colab": {
          "base_uri": "https://localhost:8080/"
        },
        "outputId": "6e73f477-2fa3-4054-abbf-abdaf66a3040"
      },
      "outputs": [
        {
          "output_type": "stream",
          "name": "stdout",
          "text": [
            "<class 'pandas.core.frame.DataFrame'>\n",
            "Int64Index: 21330 entries, 0 to 21524\n",
            "Data columns (total 12 columns):\n",
            " #   Column            Non-Null Count  Dtype \n",
            "---  ------            --------------  ----- \n",
            " 0   children          21330 non-null  int64 \n",
            " 1   days_employed     21330 non-null  int64 \n",
            " 2   dob_years         21330 non-null  int64 \n",
            " 3   education         21330 non-null  object\n",
            " 4   education_id      21330 non-null  int64 \n",
            " 5   family_status     21330 non-null  object\n",
            " 6   family_status_id  21330 non-null  int64 \n",
            " 7   gender            21330 non-null  object\n",
            " 8   income_type       21330 non-null  object\n",
            " 9   debt              21330 non-null  int64 \n",
            " 10  total_income      21330 non-null  int64 \n",
            " 11  purpose           21330 non-null  object\n",
            "dtypes: int64(7), object(5)\n",
            "memory usage: 2.1+ MB\n"
          ]
        }
      ],
      "source": [
        "data['total_income'] = data['total_income'].astype(int)\n",
        "data['days_employed'] = data['days_employed'].astype(int)\n",
        "data.info()"
      ]
    },
    {
      "cell_type": "markdown",
      "id": "341937ef",
      "metadata": {
        "deletable": false,
        "editable": false,
        "id": "341937ef"
      },
      "source": [
        "### Лемматизация целей кредта"
      ]
    },
    {
      "cell_type": "markdown",
      "source": [
        "Для упрощения дальнейшего анализа разобъем все цели кредита на группы.  \n",
        "Выведем все уникальные значния столбца `purpose`."
      ],
      "metadata": {
        "id": "7g_6KCR-YRP2"
      },
      "id": "7g_6KCR-YRP2"
    },
    {
      "cell_type": "code",
      "execution_count": null,
      "id": "a98f257a",
      "metadata": {
        "deletable": false,
        "id": "a98f257a",
        "outputId": "f5a0880c-2d83-4adc-f82e-d1a2a1996646",
        "colab": {
          "base_uri": "https://localhost:8080/"
        }
      },
      "outputs": [
        {
          "output_type": "execute_result",
          "data": {
            "text/plain": [
              "array(['покупка жилья', 'приобретение автомобиля',\n",
              "       'дополнительное образование', 'сыграть свадьбу',\n",
              "       'операции с жильем', 'образование', 'на проведение свадьбы',\n",
              "       'покупка жилья для семьи', 'покупка недвижимости',\n",
              "       'покупка коммерческой недвижимости', 'покупка жилой недвижимости',\n",
              "       'строительство собственной недвижимости', 'недвижимость',\n",
              "       'строительство недвижимости', 'на покупку подержанного автомобиля',\n",
              "       'на покупку своего автомобиля',\n",
              "       'операции с коммерческой недвижимостью',\n",
              "       'строительство жилой недвижимости', 'жилье',\n",
              "       'операции со своей недвижимостью', 'автомобили',\n",
              "       'заняться образованием', 'сделка с подержанным автомобилем',\n",
              "       'получение образования', 'автомобиль', 'свадьба',\n",
              "       'получение дополнительного образования', 'покупка своего жилья',\n",
              "       'операции с недвижимостью', 'получение высшего образования',\n",
              "       'свой автомобиль', 'сделка с автомобилем',\n",
              "       'профильное образование', 'высшее образование',\n",
              "       'покупка жилья для сдачи', 'на покупку автомобиля', 'ремонт жилью',\n",
              "       'заняться высшим образованием'], dtype=object)"
            ]
          },
          "metadata": {},
          "execution_count": 187
        }
      ],
      "source": [
        "data['purpose'].unique()"
      ]
    },
    {
      "cell_type": "markdown",
      "id": "32cc7eee",
      "metadata": {
        "deletable": false,
        "editable": false,
        "id": "32cc7eee"
      },
      "source": [
        "На основании данных из столбца `purpose` сформируем новый столбец `purpose_category`, в который войдут следующие категории:\n",
        "\n",
        "- `'операции с автомобилем'`,\n",
        "- `'операции с недвижимостью'`,\n",
        "- `'проведение свадьбы'`,\n",
        "- `'получение образования'`."
      ]
    },
    {
      "cell_type": "code",
      "execution_count": null,
      "id": "10cd80bc",
      "metadata": {
        "deletable": false,
        "id": "10cd80bc"
      },
      "outputs": [],
      "source": [
        "def categorize_purpose(row):\n",
        "    try:\n",
        "        if 'автом' in row:\n",
        "            return 'операции с автомобилем'\n",
        "        elif 'жил' in row or 'недвиж' in row:\n",
        "            return 'операции с недвижимостью'\n",
        "        elif 'свад' in row:\n",
        "            return 'проведение свадьбы'\n",
        "        elif 'образов' in row:\n",
        "            return 'получение образования'\n",
        "    except:\n",
        "        return 'нет категории'"
      ]
    },
    {
      "cell_type": "code",
      "execution_count": null,
      "id": "158166f0",
      "metadata": {
        "deletable": false,
        "id": "158166f0",
        "colab": {
          "base_uri": "https://localhost:8080/",
          "height": 293
        },
        "outputId": "36fc8f07-81bc-4410-c897-25990aab4a5a"
      },
      "outputs": [
        {
          "output_type": "execute_result",
          "data": {
            "text/plain": [
              "       children  days_employed  dob_years            education  education_id  \\\n",
              "4315          0           1087         31              среднее             1   \n",
              "18925         0           3441         43              среднее             1   \n",
              "4025          0            235         48              среднее             1   \n",
              "18544         1            376         29  неоконченное высшее             2   \n",
              "18364         0           2987         54              среднее             1   \n",
              "\n",
              "               family_status  family_status_id gender income_type  debt  \\\n",
              "4315         женат / замужем                 0      F   сотрудник     0   \n",
              "18925        женат / замужем                 0      M   сотрудник     0   \n",
              "4025   Не женат / не замужем                 4      F   сотрудник     0   \n",
              "18544       гражданский брак                 1      M   сотрудник     0   \n",
              "18364        женат / замужем                 0      F   компаньон     0   \n",
              "\n",
              "       total_income                       purpose          purpose_category  \n",
              "4315         162948                         жилье  операции с недвижимостью  \n",
              "18925         79887  заняться высшим образованием     получение образования  \n",
              "4025          84455                    автомобиль    операции с автомобилем  \n",
              "18544        222991         на проведение свадьбы        проведение свадьбы  \n",
              "18364         43040                 покупка жилья  операции с недвижимостью  "
            ],
            "text/html": [
              "\n",
              "  <div id=\"df-56ab265b-7d2a-4c5e-ac40-31a777bc6de2\" class=\"colab-df-container\">\n",
              "    <div>\n",
              "<style scoped>\n",
              "    .dataframe tbody tr th:only-of-type {\n",
              "        vertical-align: middle;\n",
              "    }\n",
              "\n",
              "    .dataframe tbody tr th {\n",
              "        vertical-align: top;\n",
              "    }\n",
              "\n",
              "    .dataframe thead th {\n",
              "        text-align: right;\n",
              "    }\n",
              "</style>\n",
              "<table border=\"1\" class=\"dataframe\">\n",
              "  <thead>\n",
              "    <tr style=\"text-align: right;\">\n",
              "      <th></th>\n",
              "      <th>children</th>\n",
              "      <th>days_employed</th>\n",
              "      <th>dob_years</th>\n",
              "      <th>education</th>\n",
              "      <th>education_id</th>\n",
              "      <th>family_status</th>\n",
              "      <th>family_status_id</th>\n",
              "      <th>gender</th>\n",
              "      <th>income_type</th>\n",
              "      <th>debt</th>\n",
              "      <th>total_income</th>\n",
              "      <th>purpose</th>\n",
              "      <th>purpose_category</th>\n",
              "    </tr>\n",
              "  </thead>\n",
              "  <tbody>\n",
              "    <tr>\n",
              "      <th>4315</th>\n",
              "      <td>0</td>\n",
              "      <td>1087</td>\n",
              "      <td>31</td>\n",
              "      <td>среднее</td>\n",
              "      <td>1</td>\n",
              "      <td>женат / замужем</td>\n",
              "      <td>0</td>\n",
              "      <td>F</td>\n",
              "      <td>сотрудник</td>\n",
              "      <td>0</td>\n",
              "      <td>162948</td>\n",
              "      <td>жилье</td>\n",
              "      <td>операции с недвижимостью</td>\n",
              "    </tr>\n",
              "    <tr>\n",
              "      <th>18925</th>\n",
              "      <td>0</td>\n",
              "      <td>3441</td>\n",
              "      <td>43</td>\n",
              "      <td>среднее</td>\n",
              "      <td>1</td>\n",
              "      <td>женат / замужем</td>\n",
              "      <td>0</td>\n",
              "      <td>M</td>\n",
              "      <td>сотрудник</td>\n",
              "      <td>0</td>\n",
              "      <td>79887</td>\n",
              "      <td>заняться высшим образованием</td>\n",
              "      <td>получение образования</td>\n",
              "    </tr>\n",
              "    <tr>\n",
              "      <th>4025</th>\n",
              "      <td>0</td>\n",
              "      <td>235</td>\n",
              "      <td>48</td>\n",
              "      <td>среднее</td>\n",
              "      <td>1</td>\n",
              "      <td>Не женат / не замужем</td>\n",
              "      <td>4</td>\n",
              "      <td>F</td>\n",
              "      <td>сотрудник</td>\n",
              "      <td>0</td>\n",
              "      <td>84455</td>\n",
              "      <td>автомобиль</td>\n",
              "      <td>операции с автомобилем</td>\n",
              "    </tr>\n",
              "    <tr>\n",
              "      <th>18544</th>\n",
              "      <td>1</td>\n",
              "      <td>376</td>\n",
              "      <td>29</td>\n",
              "      <td>неоконченное высшее</td>\n",
              "      <td>2</td>\n",
              "      <td>гражданский брак</td>\n",
              "      <td>1</td>\n",
              "      <td>M</td>\n",
              "      <td>сотрудник</td>\n",
              "      <td>0</td>\n",
              "      <td>222991</td>\n",
              "      <td>на проведение свадьбы</td>\n",
              "      <td>проведение свадьбы</td>\n",
              "    </tr>\n",
              "    <tr>\n",
              "      <th>18364</th>\n",
              "      <td>0</td>\n",
              "      <td>2987</td>\n",
              "      <td>54</td>\n",
              "      <td>среднее</td>\n",
              "      <td>1</td>\n",
              "      <td>женат / замужем</td>\n",
              "      <td>0</td>\n",
              "      <td>F</td>\n",
              "      <td>компаньон</td>\n",
              "      <td>0</td>\n",
              "      <td>43040</td>\n",
              "      <td>покупка жилья</td>\n",
              "      <td>операции с недвижимостью</td>\n",
              "    </tr>\n",
              "  </tbody>\n",
              "</table>\n",
              "</div>\n",
              "    <div class=\"colab-df-buttons\">\n",
              "\n",
              "  <div class=\"colab-df-container\">\n",
              "    <button class=\"colab-df-convert\" onclick=\"convertToInteractive('df-56ab265b-7d2a-4c5e-ac40-31a777bc6de2')\"\n",
              "            title=\"Convert this dataframe to an interactive table.\"\n",
              "            style=\"display:none;\">\n",
              "\n",
              "  <svg xmlns=\"http://www.w3.org/2000/svg\" height=\"24px\" viewBox=\"0 -960 960 960\">\n",
              "    <path d=\"M120-120v-720h720v720H120Zm60-500h600v-160H180v160Zm220 220h160v-160H400v160Zm0 220h160v-160H400v160ZM180-400h160v-160H180v160Zm440 0h160v-160H620v160ZM180-180h160v-160H180v160Zm440 0h160v-160H620v160Z\"/>\n",
              "  </svg>\n",
              "    </button>\n",
              "\n",
              "  <style>\n",
              "    .colab-df-container {\n",
              "      display:flex;\n",
              "      gap: 12px;\n",
              "    }\n",
              "\n",
              "    .colab-df-convert {\n",
              "      background-color: #E8F0FE;\n",
              "      border: none;\n",
              "      border-radius: 50%;\n",
              "      cursor: pointer;\n",
              "      display: none;\n",
              "      fill: #1967D2;\n",
              "      height: 32px;\n",
              "      padding: 0 0 0 0;\n",
              "      width: 32px;\n",
              "    }\n",
              "\n",
              "    .colab-df-convert:hover {\n",
              "      background-color: #E2EBFA;\n",
              "      box-shadow: 0px 1px 2px rgba(60, 64, 67, 0.3), 0px 1px 3px 1px rgba(60, 64, 67, 0.15);\n",
              "      fill: #174EA6;\n",
              "    }\n",
              "\n",
              "    .colab-df-buttons div {\n",
              "      margin-bottom: 4px;\n",
              "    }\n",
              "\n",
              "    [theme=dark] .colab-df-convert {\n",
              "      background-color: #3B4455;\n",
              "      fill: #D2E3FC;\n",
              "    }\n",
              "\n",
              "    [theme=dark] .colab-df-convert:hover {\n",
              "      background-color: #434B5C;\n",
              "      box-shadow: 0px 1px 3px 1px rgba(0, 0, 0, 0.15);\n",
              "      filter: drop-shadow(0px 1px 2px rgba(0, 0, 0, 0.3));\n",
              "      fill: #FFFFFF;\n",
              "    }\n",
              "  </style>\n",
              "\n",
              "    <script>\n",
              "      const buttonEl =\n",
              "        document.querySelector('#df-56ab265b-7d2a-4c5e-ac40-31a777bc6de2 button.colab-df-convert');\n",
              "      buttonEl.style.display =\n",
              "        google.colab.kernel.accessAllowed ? 'block' : 'none';\n",
              "\n",
              "      async function convertToInteractive(key) {\n",
              "        const element = document.querySelector('#df-56ab265b-7d2a-4c5e-ac40-31a777bc6de2');\n",
              "        const dataTable =\n",
              "          await google.colab.kernel.invokeFunction('convertToInteractive',\n",
              "                                                    [key], {});\n",
              "        if (!dataTable) return;\n",
              "\n",
              "        const docLinkHtml = 'Like what you see? Visit the ' +\n",
              "          '<a target=\"_blank\" href=https://colab.research.google.com/notebooks/data_table.ipynb>data table notebook</a>'\n",
              "          + ' to learn more about interactive tables.';\n",
              "        element.innerHTML = '';\n",
              "        dataTable['output_type'] = 'display_data';\n",
              "        await google.colab.output.renderOutput(dataTable, element);\n",
              "        const docLink = document.createElement('div');\n",
              "        docLink.innerHTML = docLinkHtml;\n",
              "        element.appendChild(docLink);\n",
              "      }\n",
              "    </script>\n",
              "  </div>\n",
              "\n",
              "\n",
              "<div id=\"df-b60e942f-b81f-4199-aca4-225a7e5f6bd7\">\n",
              "  <button class=\"colab-df-quickchart\" onclick=\"quickchart('df-b60e942f-b81f-4199-aca4-225a7e5f6bd7')\"\n",
              "            title=\"Suggest charts\"\n",
              "            style=\"display:none;\">\n",
              "\n",
              "<svg xmlns=\"http://www.w3.org/2000/svg\" height=\"24px\"viewBox=\"0 0 24 24\"\n",
              "     width=\"24px\">\n",
              "    <g>\n",
              "        <path d=\"M19 3H5c-1.1 0-2 .9-2 2v14c0 1.1.9 2 2 2h14c1.1 0 2-.9 2-2V5c0-1.1-.9-2-2-2zM9 17H7v-7h2v7zm4 0h-2V7h2v10zm4 0h-2v-4h2v4z\"/>\n",
              "    </g>\n",
              "</svg>\n",
              "  </button>\n",
              "\n",
              "<style>\n",
              "  .colab-df-quickchart {\n",
              "      --bg-color: #E8F0FE;\n",
              "      --fill-color: #1967D2;\n",
              "      --hover-bg-color: #E2EBFA;\n",
              "      --hover-fill-color: #174EA6;\n",
              "      --disabled-fill-color: #AAA;\n",
              "      --disabled-bg-color: #DDD;\n",
              "  }\n",
              "\n",
              "  [theme=dark] .colab-df-quickchart {\n",
              "      --bg-color: #3B4455;\n",
              "      --fill-color: #D2E3FC;\n",
              "      --hover-bg-color: #434B5C;\n",
              "      --hover-fill-color: #FFFFFF;\n",
              "      --disabled-bg-color: #3B4455;\n",
              "      --disabled-fill-color: #666;\n",
              "  }\n",
              "\n",
              "  .colab-df-quickchart {\n",
              "    background-color: var(--bg-color);\n",
              "    border: none;\n",
              "    border-radius: 50%;\n",
              "    cursor: pointer;\n",
              "    display: none;\n",
              "    fill: var(--fill-color);\n",
              "    height: 32px;\n",
              "    padding: 0;\n",
              "    width: 32px;\n",
              "  }\n",
              "\n",
              "  .colab-df-quickchart:hover {\n",
              "    background-color: var(--hover-bg-color);\n",
              "    box-shadow: 0 1px 2px rgba(60, 64, 67, 0.3), 0 1px 3px 1px rgba(60, 64, 67, 0.15);\n",
              "    fill: var(--button-hover-fill-color);\n",
              "  }\n",
              "\n",
              "  .colab-df-quickchart-complete:disabled,\n",
              "  .colab-df-quickchart-complete:disabled:hover {\n",
              "    background-color: var(--disabled-bg-color);\n",
              "    fill: var(--disabled-fill-color);\n",
              "    box-shadow: none;\n",
              "  }\n",
              "\n",
              "  .colab-df-spinner {\n",
              "    border: 2px solid var(--fill-color);\n",
              "    border-color: transparent;\n",
              "    border-bottom-color: var(--fill-color);\n",
              "    animation:\n",
              "      spin 1s steps(1) infinite;\n",
              "  }\n",
              "\n",
              "  @keyframes spin {\n",
              "    0% {\n",
              "      border-color: transparent;\n",
              "      border-bottom-color: var(--fill-color);\n",
              "      border-left-color: var(--fill-color);\n",
              "    }\n",
              "    20% {\n",
              "      border-color: transparent;\n",
              "      border-left-color: var(--fill-color);\n",
              "      border-top-color: var(--fill-color);\n",
              "    }\n",
              "    30% {\n",
              "      border-color: transparent;\n",
              "      border-left-color: var(--fill-color);\n",
              "      border-top-color: var(--fill-color);\n",
              "      border-right-color: var(--fill-color);\n",
              "    }\n",
              "    40% {\n",
              "      border-color: transparent;\n",
              "      border-right-color: var(--fill-color);\n",
              "      border-top-color: var(--fill-color);\n",
              "    }\n",
              "    60% {\n",
              "      border-color: transparent;\n",
              "      border-right-color: var(--fill-color);\n",
              "    }\n",
              "    80% {\n",
              "      border-color: transparent;\n",
              "      border-right-color: var(--fill-color);\n",
              "      border-bottom-color: var(--fill-color);\n",
              "    }\n",
              "    90% {\n",
              "      border-color: transparent;\n",
              "      border-bottom-color: var(--fill-color);\n",
              "    }\n",
              "  }\n",
              "</style>\n",
              "\n",
              "  <script>\n",
              "    async function quickchart(key) {\n",
              "      const quickchartButtonEl =\n",
              "        document.querySelector('#' + key + ' button');\n",
              "      quickchartButtonEl.disabled = true;  // To prevent multiple clicks.\n",
              "      quickchartButtonEl.classList.add('colab-df-spinner');\n",
              "      try {\n",
              "        const charts = await google.colab.kernel.invokeFunction(\n",
              "            'suggestCharts', [key], {});\n",
              "      } catch (error) {\n",
              "        console.error('Error during call to suggestCharts:', error);\n",
              "      }\n",
              "      quickchartButtonEl.classList.remove('colab-df-spinner');\n",
              "      quickchartButtonEl.classList.add('colab-df-quickchart-complete');\n",
              "    }\n",
              "    (() => {\n",
              "      let quickchartButtonEl =\n",
              "        document.querySelector('#df-b60e942f-b81f-4199-aca4-225a7e5f6bd7 button');\n",
              "      quickchartButtonEl.style.display =\n",
              "        google.colab.kernel.accessAllowed ? 'block' : 'none';\n",
              "    })();\n",
              "  </script>\n",
              "</div>\n",
              "    </div>\n",
              "  </div>\n"
            ]
          },
          "metadata": {},
          "execution_count": 189
        }
      ],
      "source": [
        "data['purpose_category'] = data['purpose'].apply(categorize_purpose)\n",
        "data.sample(5)"
      ]
    },
    {
      "cell_type": "markdown",
      "id": "b948fe78",
      "metadata": {
        "deletable": false,
        "editable": false,
        "id": "b948fe78"
      },
      "source": [
        "### Категоризация данных"
      ]
    },
    {
      "cell_type": "markdown",
      "id": "703af8bd",
      "metadata": {
        "deletable": false,
        "editable": false,
        "id": "703af8bd"
      },
      "source": [
        "На основании диапазонов, указанных ниже, создадим в датафрейме `data` столбец `total_income_category` с категориями:\n",
        "\n",
        "- 0–30000 — `'Низкий доход'`;\n",
        "- 30001–50000 — `'Ниже среднего'`;\n",
        "- 50001–200000 — `'Средний доход'`;\n",
        "- 200001–1000000 — `'Выше среднего'`;\n",
        "- 1000001 и выше — `'Высокий доход'`.\n",
        "\n",
        "\n",
        "**Например, кредитополучателю с доходом 25000 нужно назначить категорию `'E'`, а клиенту, получающему 235000, — `'B'`. Используйте собственную функцию с именем `categorize_income()` и метод `apply()`.**"
      ]
    },
    {
      "cell_type": "code",
      "execution_count": null,
      "id": "7468c624",
      "metadata": {
        "deletable": false,
        "id": "7468c624"
      },
      "outputs": [],
      "source": [
        "def categorize_income(income):\n",
        "    try:\n",
        "        if 0 <= income <= 30000:\n",
        "            return 'Низкий доход'\n",
        "        elif 30001 <= income <= 50000:\n",
        "            return 'Ниже среднего'\n",
        "        elif 50001 <= income <= 200000:\n",
        "            return 'Средний доход'\n",
        "        elif 200001 <= income <= 1000000:\n",
        "            return 'Выше среднего'\n",
        "        elif income >= 1000001:\n",
        "            return 'Высокий доход'\n",
        "    except:\n",
        "        pass"
      ]
    },
    {
      "cell_type": "code",
      "execution_count": null,
      "id": "b521c37c",
      "metadata": {
        "deletable": false,
        "id": "b521c37c"
      },
      "outputs": [],
      "source": [
        "data['total_income_category'] = data['total_income'].apply(categorize_income)"
      ]
    },
    {
      "cell_type": "markdown",
      "source": [
        "## Выоды по разделу"
      ],
      "metadata": {
        "id": "jCx-qUvzeSjY"
      },
      "id": "jCx-qUvzeSjY"
    },
    {
      "cell_type": "markdown",
      "id": "71d5e09f",
      "metadata": {
        "deletable": false,
        "editable": false,
        "id": "71d5e09f"
      },
      "source": [
        "## Ответы на вопросы"
      ]
    },
    {
      "cell_type": "markdown",
      "id": "8df3911d",
      "metadata": {
        "deletable": false,
        "editable": false,
        "id": "8df3911d"
      },
      "source": [
        "### 1. Есть ли зависимость между количеством детей и возвратом кредита в срок?"
      ]
    },
    {
      "cell_type": "markdown",
      "id": "a6b51bf5",
      "metadata": {
        "id": "a6b51bf5"
      },
      "source": [
        "Для выявления взаимосвязи объединим данные в группы по количесвтву детей и для каждой группы рассчитаем средний показатель долга."
      ]
    },
    {
      "cell_type": "code",
      "execution_count": null,
      "id": "d24064d4",
      "metadata": {
        "deletable": false,
        "id": "d24064d4",
        "colab": {
          "base_uri": "https://localhost:8080/",
          "height": 300
        },
        "outputId": "e6c7043d-7d94-4aae-88ce-d00d0607261e"
      },
      "outputs": [
        {
          "output_type": "execute_result",
          "data": {
            "text/plain": [
              "          count   sum      mean percent share_group\n",
              "           debt  debt      debt                    \n",
              "children                                           \n",
              "0         14090  1063  0.075444     7.5        66.1\n",
              "1          4808   444  0.092346     9.2        22.5\n",
              "2          2052   194  0.094542     9.5         9.6\n",
              "3           330    27  0.081818     8.2         1.5\n",
              "4            41     4  0.097561     9.8         0.2\n",
              "5             9     0  0.000000     0.0         0.0"
            ],
            "text/html": [
              "\n",
              "  <div id=\"df-836a5036-a36c-4c84-ad9c-d01a66aefcfb\" class=\"colab-df-container\">\n",
              "    <div>\n",
              "<style scoped>\n",
              "    .dataframe tbody tr th:only-of-type {\n",
              "        vertical-align: middle;\n",
              "    }\n",
              "\n",
              "    .dataframe tbody tr th {\n",
              "        vertical-align: top;\n",
              "    }\n",
              "\n",
              "    .dataframe thead tr th {\n",
              "        text-align: left;\n",
              "    }\n",
              "\n",
              "    .dataframe thead tr:last-of-type th {\n",
              "        text-align: right;\n",
              "    }\n",
              "</style>\n",
              "<table border=\"1\" class=\"dataframe\">\n",
              "  <thead>\n",
              "    <tr>\n",
              "      <th></th>\n",
              "      <th>count</th>\n",
              "      <th>sum</th>\n",
              "      <th>mean</th>\n",
              "      <th>percent</th>\n",
              "      <th>share_group</th>\n",
              "    </tr>\n",
              "    <tr>\n",
              "      <th></th>\n",
              "      <th>debt</th>\n",
              "      <th>debt</th>\n",
              "      <th>debt</th>\n",
              "      <th></th>\n",
              "      <th></th>\n",
              "    </tr>\n",
              "    <tr>\n",
              "      <th>children</th>\n",
              "      <th></th>\n",
              "      <th></th>\n",
              "      <th></th>\n",
              "      <th></th>\n",
              "      <th></th>\n",
              "    </tr>\n",
              "  </thead>\n",
              "  <tbody>\n",
              "    <tr>\n",
              "      <th>0</th>\n",
              "      <td>14090</td>\n",
              "      <td>1063</td>\n",
              "      <td>0.075444</td>\n",
              "      <td>7.5</td>\n",
              "      <td>66.1</td>\n",
              "    </tr>\n",
              "    <tr>\n",
              "      <th>1</th>\n",
              "      <td>4808</td>\n",
              "      <td>444</td>\n",
              "      <td>0.092346</td>\n",
              "      <td>9.2</td>\n",
              "      <td>22.5</td>\n",
              "    </tr>\n",
              "    <tr>\n",
              "      <th>2</th>\n",
              "      <td>2052</td>\n",
              "      <td>194</td>\n",
              "      <td>0.094542</td>\n",
              "      <td>9.5</td>\n",
              "      <td>9.6</td>\n",
              "    </tr>\n",
              "    <tr>\n",
              "      <th>3</th>\n",
              "      <td>330</td>\n",
              "      <td>27</td>\n",
              "      <td>0.081818</td>\n",
              "      <td>8.2</td>\n",
              "      <td>1.5</td>\n",
              "    </tr>\n",
              "    <tr>\n",
              "      <th>4</th>\n",
              "      <td>41</td>\n",
              "      <td>4</td>\n",
              "      <td>0.097561</td>\n",
              "      <td>9.8</td>\n",
              "      <td>0.2</td>\n",
              "    </tr>\n",
              "    <tr>\n",
              "      <th>5</th>\n",
              "      <td>9</td>\n",
              "      <td>0</td>\n",
              "      <td>0.000000</td>\n",
              "      <td>0.0</td>\n",
              "      <td>0.0</td>\n",
              "    </tr>\n",
              "  </tbody>\n",
              "</table>\n",
              "</div>\n",
              "    <div class=\"colab-df-buttons\">\n",
              "\n",
              "  <div class=\"colab-df-container\">\n",
              "    <button class=\"colab-df-convert\" onclick=\"convertToInteractive('df-836a5036-a36c-4c84-ad9c-d01a66aefcfb')\"\n",
              "            title=\"Convert this dataframe to an interactive table.\"\n",
              "            style=\"display:none;\">\n",
              "\n",
              "  <svg xmlns=\"http://www.w3.org/2000/svg\" height=\"24px\" viewBox=\"0 -960 960 960\">\n",
              "    <path d=\"M120-120v-720h720v720H120Zm60-500h600v-160H180v160Zm220 220h160v-160H400v160Zm0 220h160v-160H400v160ZM180-400h160v-160H180v160Zm440 0h160v-160H620v160ZM180-180h160v-160H180v160Zm440 0h160v-160H620v160Z\"/>\n",
              "  </svg>\n",
              "    </button>\n",
              "\n",
              "  <style>\n",
              "    .colab-df-container {\n",
              "      display:flex;\n",
              "      gap: 12px;\n",
              "    }\n",
              "\n",
              "    .colab-df-convert {\n",
              "      background-color: #E8F0FE;\n",
              "      border: none;\n",
              "      border-radius: 50%;\n",
              "      cursor: pointer;\n",
              "      display: none;\n",
              "      fill: #1967D2;\n",
              "      height: 32px;\n",
              "      padding: 0 0 0 0;\n",
              "      width: 32px;\n",
              "    }\n",
              "\n",
              "    .colab-df-convert:hover {\n",
              "      background-color: #E2EBFA;\n",
              "      box-shadow: 0px 1px 2px rgba(60, 64, 67, 0.3), 0px 1px 3px 1px rgba(60, 64, 67, 0.15);\n",
              "      fill: #174EA6;\n",
              "    }\n",
              "\n",
              "    .colab-df-buttons div {\n",
              "      margin-bottom: 4px;\n",
              "    }\n",
              "\n",
              "    [theme=dark] .colab-df-convert {\n",
              "      background-color: #3B4455;\n",
              "      fill: #D2E3FC;\n",
              "    }\n",
              "\n",
              "    [theme=dark] .colab-df-convert:hover {\n",
              "      background-color: #434B5C;\n",
              "      box-shadow: 0px 1px 3px 1px rgba(0, 0, 0, 0.15);\n",
              "      filter: drop-shadow(0px 1px 2px rgba(0, 0, 0, 0.3));\n",
              "      fill: #FFFFFF;\n",
              "    }\n",
              "  </style>\n",
              "\n",
              "    <script>\n",
              "      const buttonEl =\n",
              "        document.querySelector('#df-836a5036-a36c-4c84-ad9c-d01a66aefcfb button.colab-df-convert');\n",
              "      buttonEl.style.display =\n",
              "        google.colab.kernel.accessAllowed ? 'block' : 'none';\n",
              "\n",
              "      async function convertToInteractive(key) {\n",
              "        const element = document.querySelector('#df-836a5036-a36c-4c84-ad9c-d01a66aefcfb');\n",
              "        const dataTable =\n",
              "          await google.colab.kernel.invokeFunction('convertToInteractive',\n",
              "                                                    [key], {});\n",
              "        if (!dataTable) return;\n",
              "\n",
              "        const docLinkHtml = 'Like what you see? Visit the ' +\n",
              "          '<a target=\"_blank\" href=https://colab.research.google.com/notebooks/data_table.ipynb>data table notebook</a>'\n",
              "          + ' to learn more about interactive tables.';\n",
              "        element.innerHTML = '';\n",
              "        dataTable['output_type'] = 'display_data';\n",
              "        await google.colab.output.renderOutput(dataTable, element);\n",
              "        const docLink = document.createElement('div');\n",
              "        docLink.innerHTML = docLinkHtml;\n",
              "        element.appendChild(docLink);\n",
              "      }\n",
              "    </script>\n",
              "  </div>\n",
              "\n",
              "\n",
              "<div id=\"df-d7150cde-1a67-4954-a0db-088f17c9bfd5\">\n",
              "  <button class=\"colab-df-quickchart\" onclick=\"quickchart('df-d7150cde-1a67-4954-a0db-088f17c9bfd5')\"\n",
              "            title=\"Suggest charts\"\n",
              "            style=\"display:none;\">\n",
              "\n",
              "<svg xmlns=\"http://www.w3.org/2000/svg\" height=\"24px\"viewBox=\"0 0 24 24\"\n",
              "     width=\"24px\">\n",
              "    <g>\n",
              "        <path d=\"M19 3H5c-1.1 0-2 .9-2 2v14c0 1.1.9 2 2 2h14c1.1 0 2-.9 2-2V5c0-1.1-.9-2-2-2zM9 17H7v-7h2v7zm4 0h-2V7h2v10zm4 0h-2v-4h2v4z\"/>\n",
              "    </g>\n",
              "</svg>\n",
              "  </button>\n",
              "\n",
              "<style>\n",
              "  .colab-df-quickchart {\n",
              "      --bg-color: #E8F0FE;\n",
              "      --fill-color: #1967D2;\n",
              "      --hover-bg-color: #E2EBFA;\n",
              "      --hover-fill-color: #174EA6;\n",
              "      --disabled-fill-color: #AAA;\n",
              "      --disabled-bg-color: #DDD;\n",
              "  }\n",
              "\n",
              "  [theme=dark] .colab-df-quickchart {\n",
              "      --bg-color: #3B4455;\n",
              "      --fill-color: #D2E3FC;\n",
              "      --hover-bg-color: #434B5C;\n",
              "      --hover-fill-color: #FFFFFF;\n",
              "      --disabled-bg-color: #3B4455;\n",
              "      --disabled-fill-color: #666;\n",
              "  }\n",
              "\n",
              "  .colab-df-quickchart {\n",
              "    background-color: var(--bg-color);\n",
              "    border: none;\n",
              "    border-radius: 50%;\n",
              "    cursor: pointer;\n",
              "    display: none;\n",
              "    fill: var(--fill-color);\n",
              "    height: 32px;\n",
              "    padding: 0;\n",
              "    width: 32px;\n",
              "  }\n",
              "\n",
              "  .colab-df-quickchart:hover {\n",
              "    background-color: var(--hover-bg-color);\n",
              "    box-shadow: 0 1px 2px rgba(60, 64, 67, 0.3), 0 1px 3px 1px rgba(60, 64, 67, 0.15);\n",
              "    fill: var(--button-hover-fill-color);\n",
              "  }\n",
              "\n",
              "  .colab-df-quickchart-complete:disabled,\n",
              "  .colab-df-quickchart-complete:disabled:hover {\n",
              "    background-color: var(--disabled-bg-color);\n",
              "    fill: var(--disabled-fill-color);\n",
              "    box-shadow: none;\n",
              "  }\n",
              "\n",
              "  .colab-df-spinner {\n",
              "    border: 2px solid var(--fill-color);\n",
              "    border-color: transparent;\n",
              "    border-bottom-color: var(--fill-color);\n",
              "    animation:\n",
              "      spin 1s steps(1) infinite;\n",
              "  }\n",
              "\n",
              "  @keyframes spin {\n",
              "    0% {\n",
              "      border-color: transparent;\n",
              "      border-bottom-color: var(--fill-color);\n",
              "      border-left-color: var(--fill-color);\n",
              "    }\n",
              "    20% {\n",
              "      border-color: transparent;\n",
              "      border-left-color: var(--fill-color);\n",
              "      border-top-color: var(--fill-color);\n",
              "    }\n",
              "    30% {\n",
              "      border-color: transparent;\n",
              "      border-left-color: var(--fill-color);\n",
              "      border-top-color: var(--fill-color);\n",
              "      border-right-color: var(--fill-color);\n",
              "    }\n",
              "    40% {\n",
              "      border-color: transparent;\n",
              "      border-right-color: var(--fill-color);\n",
              "      border-top-color: var(--fill-color);\n",
              "    }\n",
              "    60% {\n",
              "      border-color: transparent;\n",
              "      border-right-color: var(--fill-color);\n",
              "    }\n",
              "    80% {\n",
              "      border-color: transparent;\n",
              "      border-right-color: var(--fill-color);\n",
              "      border-bottom-color: var(--fill-color);\n",
              "    }\n",
              "    90% {\n",
              "      border-color: transparent;\n",
              "      border-bottom-color: var(--fill-color);\n",
              "    }\n",
              "  }\n",
              "</style>\n",
              "\n",
              "  <script>\n",
              "    async function quickchart(key) {\n",
              "      const quickchartButtonEl =\n",
              "        document.querySelector('#' + key + ' button');\n",
              "      quickchartButtonEl.disabled = true;  // To prevent multiple clicks.\n",
              "      quickchartButtonEl.classList.add('colab-df-spinner');\n",
              "      try {\n",
              "        const charts = await google.colab.kernel.invokeFunction(\n",
              "            'suggestCharts', [key], {});\n",
              "      } catch (error) {\n",
              "        console.error('Error during call to suggestCharts:', error);\n",
              "      }\n",
              "      quickchartButtonEl.classList.remove('colab-df-spinner');\n",
              "      quickchartButtonEl.classList.add('colab-df-quickchart-complete');\n",
              "    }\n",
              "    (() => {\n",
              "      let quickchartButtonEl =\n",
              "        document.querySelector('#df-d7150cde-1a67-4954-a0db-088f17c9bfd5 button');\n",
              "      quickchartButtonEl.style.display =\n",
              "        google.colab.kernel.accessAllowed ? 'block' : 'none';\n",
              "    })();\n",
              "  </script>\n",
              "</div>\n",
              "    </div>\n",
              "  </div>\n"
            ]
          },
          "metadata": {},
          "execution_count": 192
        }
      ],
      "source": [
        "#Вычислим общее количество клиентов, сумму клиентов с задолженностями и среднее значение долга по каждой категории.\n",
        "data_pivot_children = data.pivot_table(index='children', values='debt', aggfunc=['count', 'sum', 'mean'])\n",
        "\n",
        "#Рассчитаем процент задолженностей и процент заеищиков по каждой категории от общего числа и выведем общую таблицу\n",
        "total_count = data.shape[0]\n",
        "data_pivot_children['percent'] = (data_pivot_children['sum']['debt'] / data_pivot_children['count']['debt'] * 100).round(1)\n",
        "data_pivot_children['share_group'] = (data_pivot_children['count']['debt'] / total_count * 100).round(1)\n",
        "data_pivot_children"
      ]
    },
    {
      "cell_type": "markdown",
      "id": "35e08d8d",
      "metadata": {
        "deletable": false,
        "id": "35e08d8d"
      },
      "source": [
        "**Вывод:** Исходя из полученных данных можно сказать что заемщики без детей (составляют 66,1% от общего числа заемщиков) имеют меньше просрочек по выплате кредита в сравнении с другими группами - 7,5%. В то время как заемщики с одним и двумя детьми чаще допускают просрочки - 9,2% и 9,5% соответственно. В связи с небольшим количеством многодетных клиентов в выборке по ним сложно сделать определенные выводы."
      ]
    },
    {
      "cell_type": "markdown",
      "id": "4f770af0",
      "metadata": {
        "deletable": false,
        "editable": false,
        "id": "4f770af0"
      },
      "source": [
        "### 2. Есть ли зависимость между семейным положением и возвратом кредита в срок?"
      ]
    },
    {
      "cell_type": "markdown",
      "id": "5fcf8e38",
      "metadata": {
        "id": "5fcf8e38"
      },
      "source": [
        "Для выявления взаимосвязи сгруппируем данные по семейному положению и для каждой группы рассчитаем средний показатель долга."
      ]
    },
    {
      "cell_type": "code",
      "execution_count": null,
      "id": "58eb840b",
      "metadata": {
        "deletable": false,
        "id": "58eb840b"
      },
      "outputs": [],
      "source": [
        "#Вычислим общее количество клиентов, сумму клиентов с задолженностями и среднее значение долга по каждой категории.\n",
        "data_pivot_marriage = data.pivot_table(index='family_status', values='debt', aggfunc=['count', 'sum', 'mean'])"
      ]
    },
    {
      "cell_type": "code",
      "execution_count": null,
      "id": "21e4dc9a",
      "metadata": {
        "colab": {
          "base_uri": "https://localhost:8080/",
          "height": 269
        },
        "id": "21e4dc9a",
        "outputId": "acbb28f3-d584-4b02-db71-b85ad33844d8"
      },
      "outputs": [
        {
          "output_type": "execute_result",
          "data": {
            "text/plain": [
              "                       count  sum      mean percent share_group\n",
              "                        debt debt      debt                    \n",
              "family_status                                                  \n",
              "Не женат / не замужем   2796  273  0.097639     9.8        13.1\n",
              "в разводе               1189   84  0.070648     7.1         5.6\n",
              "вдовец / вдова           951   63  0.066246     6.6         4.5\n",
              "гражданский брак        4133  385  0.093153     9.3        19.4\n",
              "женат / замужем        12261  927  0.075606     7.6        57.5"
            ],
            "text/html": [
              "\n",
              "  <div id=\"df-4fa2e001-74bf-4eec-9174-939fb05e7243\" class=\"colab-df-container\">\n",
              "    <div>\n",
              "<style scoped>\n",
              "    .dataframe tbody tr th:only-of-type {\n",
              "        vertical-align: middle;\n",
              "    }\n",
              "\n",
              "    .dataframe tbody tr th {\n",
              "        vertical-align: top;\n",
              "    }\n",
              "\n",
              "    .dataframe thead tr th {\n",
              "        text-align: left;\n",
              "    }\n",
              "\n",
              "    .dataframe thead tr:last-of-type th {\n",
              "        text-align: right;\n",
              "    }\n",
              "</style>\n",
              "<table border=\"1\" class=\"dataframe\">\n",
              "  <thead>\n",
              "    <tr>\n",
              "      <th></th>\n",
              "      <th>count</th>\n",
              "      <th>sum</th>\n",
              "      <th>mean</th>\n",
              "      <th>percent</th>\n",
              "      <th>share_group</th>\n",
              "    </tr>\n",
              "    <tr>\n",
              "      <th></th>\n",
              "      <th>debt</th>\n",
              "      <th>debt</th>\n",
              "      <th>debt</th>\n",
              "      <th></th>\n",
              "      <th></th>\n",
              "    </tr>\n",
              "    <tr>\n",
              "      <th>family_status</th>\n",
              "      <th></th>\n",
              "      <th></th>\n",
              "      <th></th>\n",
              "      <th></th>\n",
              "      <th></th>\n",
              "    </tr>\n",
              "  </thead>\n",
              "  <tbody>\n",
              "    <tr>\n",
              "      <th>Не женат / не замужем</th>\n",
              "      <td>2796</td>\n",
              "      <td>273</td>\n",
              "      <td>0.097639</td>\n",
              "      <td>9.8</td>\n",
              "      <td>13.1</td>\n",
              "    </tr>\n",
              "    <tr>\n",
              "      <th>в разводе</th>\n",
              "      <td>1189</td>\n",
              "      <td>84</td>\n",
              "      <td>0.070648</td>\n",
              "      <td>7.1</td>\n",
              "      <td>5.6</td>\n",
              "    </tr>\n",
              "    <tr>\n",
              "      <th>вдовец / вдова</th>\n",
              "      <td>951</td>\n",
              "      <td>63</td>\n",
              "      <td>0.066246</td>\n",
              "      <td>6.6</td>\n",
              "      <td>4.5</td>\n",
              "    </tr>\n",
              "    <tr>\n",
              "      <th>гражданский брак</th>\n",
              "      <td>4133</td>\n",
              "      <td>385</td>\n",
              "      <td>0.093153</td>\n",
              "      <td>9.3</td>\n",
              "      <td>19.4</td>\n",
              "    </tr>\n",
              "    <tr>\n",
              "      <th>женат / замужем</th>\n",
              "      <td>12261</td>\n",
              "      <td>927</td>\n",
              "      <td>0.075606</td>\n",
              "      <td>7.6</td>\n",
              "      <td>57.5</td>\n",
              "    </tr>\n",
              "  </tbody>\n",
              "</table>\n",
              "</div>\n",
              "    <div class=\"colab-df-buttons\">\n",
              "\n",
              "  <div class=\"colab-df-container\">\n",
              "    <button class=\"colab-df-convert\" onclick=\"convertToInteractive('df-4fa2e001-74bf-4eec-9174-939fb05e7243')\"\n",
              "            title=\"Convert this dataframe to an interactive table.\"\n",
              "            style=\"display:none;\">\n",
              "\n",
              "  <svg xmlns=\"http://www.w3.org/2000/svg\" height=\"24px\" viewBox=\"0 -960 960 960\">\n",
              "    <path d=\"M120-120v-720h720v720H120Zm60-500h600v-160H180v160Zm220 220h160v-160H400v160Zm0 220h160v-160H400v160ZM180-400h160v-160H180v160Zm440 0h160v-160H620v160ZM180-180h160v-160H180v160Zm440 0h160v-160H620v160Z\"/>\n",
              "  </svg>\n",
              "    </button>\n",
              "\n",
              "  <style>\n",
              "    .colab-df-container {\n",
              "      display:flex;\n",
              "      gap: 12px;\n",
              "    }\n",
              "\n",
              "    .colab-df-convert {\n",
              "      background-color: #E8F0FE;\n",
              "      border: none;\n",
              "      border-radius: 50%;\n",
              "      cursor: pointer;\n",
              "      display: none;\n",
              "      fill: #1967D2;\n",
              "      height: 32px;\n",
              "      padding: 0 0 0 0;\n",
              "      width: 32px;\n",
              "    }\n",
              "\n",
              "    .colab-df-convert:hover {\n",
              "      background-color: #E2EBFA;\n",
              "      box-shadow: 0px 1px 2px rgba(60, 64, 67, 0.3), 0px 1px 3px 1px rgba(60, 64, 67, 0.15);\n",
              "      fill: #174EA6;\n",
              "    }\n",
              "\n",
              "    .colab-df-buttons div {\n",
              "      margin-bottom: 4px;\n",
              "    }\n",
              "\n",
              "    [theme=dark] .colab-df-convert {\n",
              "      background-color: #3B4455;\n",
              "      fill: #D2E3FC;\n",
              "    }\n",
              "\n",
              "    [theme=dark] .colab-df-convert:hover {\n",
              "      background-color: #434B5C;\n",
              "      box-shadow: 0px 1px 3px 1px rgba(0, 0, 0, 0.15);\n",
              "      filter: drop-shadow(0px 1px 2px rgba(0, 0, 0, 0.3));\n",
              "      fill: #FFFFFF;\n",
              "    }\n",
              "  </style>\n",
              "\n",
              "    <script>\n",
              "      const buttonEl =\n",
              "        document.querySelector('#df-4fa2e001-74bf-4eec-9174-939fb05e7243 button.colab-df-convert');\n",
              "      buttonEl.style.display =\n",
              "        google.colab.kernel.accessAllowed ? 'block' : 'none';\n",
              "\n",
              "      async function convertToInteractive(key) {\n",
              "        const element = document.querySelector('#df-4fa2e001-74bf-4eec-9174-939fb05e7243');\n",
              "        const dataTable =\n",
              "          await google.colab.kernel.invokeFunction('convertToInteractive',\n",
              "                                                    [key], {});\n",
              "        if (!dataTable) return;\n",
              "\n",
              "        const docLinkHtml = 'Like what you see? Visit the ' +\n",
              "          '<a target=\"_blank\" href=https://colab.research.google.com/notebooks/data_table.ipynb>data table notebook</a>'\n",
              "          + ' to learn more about interactive tables.';\n",
              "        element.innerHTML = '';\n",
              "        dataTable['output_type'] = 'display_data';\n",
              "        await google.colab.output.renderOutput(dataTable, element);\n",
              "        const docLink = document.createElement('div');\n",
              "        docLink.innerHTML = docLinkHtml;\n",
              "        element.appendChild(docLink);\n",
              "      }\n",
              "    </script>\n",
              "  </div>\n",
              "\n",
              "\n",
              "<div id=\"df-921c4148-b950-4a8c-bf84-e212d8ac8ee1\">\n",
              "  <button class=\"colab-df-quickchart\" onclick=\"quickchart('df-921c4148-b950-4a8c-bf84-e212d8ac8ee1')\"\n",
              "            title=\"Suggest charts\"\n",
              "            style=\"display:none;\">\n",
              "\n",
              "<svg xmlns=\"http://www.w3.org/2000/svg\" height=\"24px\"viewBox=\"0 0 24 24\"\n",
              "     width=\"24px\">\n",
              "    <g>\n",
              "        <path d=\"M19 3H5c-1.1 0-2 .9-2 2v14c0 1.1.9 2 2 2h14c1.1 0 2-.9 2-2V5c0-1.1-.9-2-2-2zM9 17H7v-7h2v7zm4 0h-2V7h2v10zm4 0h-2v-4h2v4z\"/>\n",
              "    </g>\n",
              "</svg>\n",
              "  </button>\n",
              "\n",
              "<style>\n",
              "  .colab-df-quickchart {\n",
              "      --bg-color: #E8F0FE;\n",
              "      --fill-color: #1967D2;\n",
              "      --hover-bg-color: #E2EBFA;\n",
              "      --hover-fill-color: #174EA6;\n",
              "      --disabled-fill-color: #AAA;\n",
              "      --disabled-bg-color: #DDD;\n",
              "  }\n",
              "\n",
              "  [theme=dark] .colab-df-quickchart {\n",
              "      --bg-color: #3B4455;\n",
              "      --fill-color: #D2E3FC;\n",
              "      --hover-bg-color: #434B5C;\n",
              "      --hover-fill-color: #FFFFFF;\n",
              "      --disabled-bg-color: #3B4455;\n",
              "      --disabled-fill-color: #666;\n",
              "  }\n",
              "\n",
              "  .colab-df-quickchart {\n",
              "    background-color: var(--bg-color);\n",
              "    border: none;\n",
              "    border-radius: 50%;\n",
              "    cursor: pointer;\n",
              "    display: none;\n",
              "    fill: var(--fill-color);\n",
              "    height: 32px;\n",
              "    padding: 0;\n",
              "    width: 32px;\n",
              "  }\n",
              "\n",
              "  .colab-df-quickchart:hover {\n",
              "    background-color: var(--hover-bg-color);\n",
              "    box-shadow: 0 1px 2px rgba(60, 64, 67, 0.3), 0 1px 3px 1px rgba(60, 64, 67, 0.15);\n",
              "    fill: var(--button-hover-fill-color);\n",
              "  }\n",
              "\n",
              "  .colab-df-quickchart-complete:disabled,\n",
              "  .colab-df-quickchart-complete:disabled:hover {\n",
              "    background-color: var(--disabled-bg-color);\n",
              "    fill: var(--disabled-fill-color);\n",
              "    box-shadow: none;\n",
              "  }\n",
              "\n",
              "  .colab-df-spinner {\n",
              "    border: 2px solid var(--fill-color);\n",
              "    border-color: transparent;\n",
              "    border-bottom-color: var(--fill-color);\n",
              "    animation:\n",
              "      spin 1s steps(1) infinite;\n",
              "  }\n",
              "\n",
              "  @keyframes spin {\n",
              "    0% {\n",
              "      border-color: transparent;\n",
              "      border-bottom-color: var(--fill-color);\n",
              "      border-left-color: var(--fill-color);\n",
              "    }\n",
              "    20% {\n",
              "      border-color: transparent;\n",
              "      border-left-color: var(--fill-color);\n",
              "      border-top-color: var(--fill-color);\n",
              "    }\n",
              "    30% {\n",
              "      border-color: transparent;\n",
              "      border-left-color: var(--fill-color);\n",
              "      border-top-color: var(--fill-color);\n",
              "      border-right-color: var(--fill-color);\n",
              "    }\n",
              "    40% {\n",
              "      border-color: transparent;\n",
              "      border-right-color: var(--fill-color);\n",
              "      border-top-color: var(--fill-color);\n",
              "    }\n",
              "    60% {\n",
              "      border-color: transparent;\n",
              "      border-right-color: var(--fill-color);\n",
              "    }\n",
              "    80% {\n",
              "      border-color: transparent;\n",
              "      border-right-color: var(--fill-color);\n",
              "      border-bottom-color: var(--fill-color);\n",
              "    }\n",
              "    90% {\n",
              "      border-color: transparent;\n",
              "      border-bottom-color: var(--fill-color);\n",
              "    }\n",
              "  }\n",
              "</style>\n",
              "\n",
              "  <script>\n",
              "    async function quickchart(key) {\n",
              "      const quickchartButtonEl =\n",
              "        document.querySelector('#' + key + ' button');\n",
              "      quickchartButtonEl.disabled = true;  // To prevent multiple clicks.\n",
              "      quickchartButtonEl.classList.add('colab-df-spinner');\n",
              "      try {\n",
              "        const charts = await google.colab.kernel.invokeFunction(\n",
              "            'suggestCharts', [key], {});\n",
              "      } catch (error) {\n",
              "        console.error('Error during call to suggestCharts:', error);\n",
              "      }\n",
              "      quickchartButtonEl.classList.remove('colab-df-spinner');\n",
              "      quickchartButtonEl.classList.add('colab-df-quickchart-complete');\n",
              "    }\n",
              "    (() => {\n",
              "      let quickchartButtonEl =\n",
              "        document.querySelector('#df-921c4148-b950-4a8c-bf84-e212d8ac8ee1 button');\n",
              "      quickchartButtonEl.style.display =\n",
              "        google.colab.kernel.accessAllowed ? 'block' : 'none';\n",
              "    })();\n",
              "  </script>\n",
              "</div>\n",
              "    </div>\n",
              "  </div>\n"
            ]
          },
          "metadata": {},
          "execution_count": 194
        }
      ],
      "source": [
        "#Рассчитаем процент задолженностей и процент заеищиков по каждой категории от общего числа и выведем общую таблицу\n",
        "data_pivot_marriage['percent'] = (data_pivot_marriage['sum']['debt'] / data_pivot_marriage['count']['debt'] * 100).round(1)\n",
        "data_pivot_marriage['share_group'] = (data_pivot_marriage['count']['debt'] / total_count * 100).round(1)\n",
        "data_pivot_marriage"
      ]
    },
    {
      "cell_type": "markdown",
      "id": "151ee055",
      "metadata": {
        "deletable": false,
        "id": "151ee055"
      },
      "source": [
        "**Вывод:** Согласно среднему показателю долга меньше просрочек по выплатам кредита допускают овдовевшие (6,6%), развведенные (7,1%) и женатые/замужние (7,6%) заемщики. При этом, стоит отметить, что заемщики, состоящие в браке составляют более 57,5%  от общего количества, в то время как разведенные и овдовевшие - 5,6% и 4,5% соответственно. Люди, не состоящие в браке или проживающие в гражданском браке, в свою очередь, чаще нарушают сроки возврата кредита (9,8% и 9,3%)."
      ]
    },
    {
      "cell_type": "markdown",
      "id": "ee4648ab",
      "metadata": {
        "deletable": false,
        "editable": false,
        "id": "ee4648ab"
      },
      "source": [
        "### 3. Есть ли зависимость между уровнем дохода и возвратом кредита в срок?"
      ]
    },
    {
      "cell_type": "markdown",
      "id": "bd1d0618",
      "metadata": {
        "id": "bd1d0618"
      },
      "source": [
        "Для выявления взаимосвязи сгруппируем данные по уровню дохода и для каждой группы рассчитаем средний показатель долга."
      ]
    },
    {
      "cell_type": "code",
      "execution_count": null,
      "id": "d4e3296e",
      "metadata": {
        "deletable": false,
        "id": "d4e3296e",
        "colab": {
          "base_uri": "https://localhost:8080/",
          "height": 269
        },
        "outputId": "bc1a94eb-5623-41da-8c75-07289ade1520"
      },
      "outputs": [
        {
          "output_type": "execute_result",
          "data": {
            "text/plain": [
              "                       count   sum      mean percent share_group\n",
              "                        debt  debt      debt                    \n",
              "total_income_category                                           \n",
              "Высокий доход             25     2  0.080000     8.0         0.1\n",
              "Выше среднего           5013   354  0.070616     7.1        23.5\n",
              "Ниже среднего            349    21  0.060172     6.0         1.6\n",
              "Низкий доход              22     2  0.090909     9.1         0.1\n",
              "Средний доход          15921  1353  0.084982     8.5        74.6"
            ],
            "text/html": [
              "\n",
              "  <div id=\"df-d20c1fb4-36d9-4a82-910e-77a76e5361d6\" class=\"colab-df-container\">\n",
              "    <div>\n",
              "<style scoped>\n",
              "    .dataframe tbody tr th:only-of-type {\n",
              "        vertical-align: middle;\n",
              "    }\n",
              "\n",
              "    .dataframe tbody tr th {\n",
              "        vertical-align: top;\n",
              "    }\n",
              "\n",
              "    .dataframe thead tr th {\n",
              "        text-align: left;\n",
              "    }\n",
              "\n",
              "    .dataframe thead tr:last-of-type th {\n",
              "        text-align: right;\n",
              "    }\n",
              "</style>\n",
              "<table border=\"1\" class=\"dataframe\">\n",
              "  <thead>\n",
              "    <tr>\n",
              "      <th></th>\n",
              "      <th>count</th>\n",
              "      <th>sum</th>\n",
              "      <th>mean</th>\n",
              "      <th>percent</th>\n",
              "      <th>share_group</th>\n",
              "    </tr>\n",
              "    <tr>\n",
              "      <th></th>\n",
              "      <th>debt</th>\n",
              "      <th>debt</th>\n",
              "      <th>debt</th>\n",
              "      <th></th>\n",
              "      <th></th>\n",
              "    </tr>\n",
              "    <tr>\n",
              "      <th>total_income_category</th>\n",
              "      <th></th>\n",
              "      <th></th>\n",
              "      <th></th>\n",
              "      <th></th>\n",
              "      <th></th>\n",
              "    </tr>\n",
              "  </thead>\n",
              "  <tbody>\n",
              "    <tr>\n",
              "      <th>Высокий доход</th>\n",
              "      <td>25</td>\n",
              "      <td>2</td>\n",
              "      <td>0.080000</td>\n",
              "      <td>8.0</td>\n",
              "      <td>0.1</td>\n",
              "    </tr>\n",
              "    <tr>\n",
              "      <th>Выше среднего</th>\n",
              "      <td>5013</td>\n",
              "      <td>354</td>\n",
              "      <td>0.070616</td>\n",
              "      <td>7.1</td>\n",
              "      <td>23.5</td>\n",
              "    </tr>\n",
              "    <tr>\n",
              "      <th>Ниже среднего</th>\n",
              "      <td>349</td>\n",
              "      <td>21</td>\n",
              "      <td>0.060172</td>\n",
              "      <td>6.0</td>\n",
              "      <td>1.6</td>\n",
              "    </tr>\n",
              "    <tr>\n",
              "      <th>Низкий доход</th>\n",
              "      <td>22</td>\n",
              "      <td>2</td>\n",
              "      <td>0.090909</td>\n",
              "      <td>9.1</td>\n",
              "      <td>0.1</td>\n",
              "    </tr>\n",
              "    <tr>\n",
              "      <th>Средний доход</th>\n",
              "      <td>15921</td>\n",
              "      <td>1353</td>\n",
              "      <td>0.084982</td>\n",
              "      <td>8.5</td>\n",
              "      <td>74.6</td>\n",
              "    </tr>\n",
              "  </tbody>\n",
              "</table>\n",
              "</div>\n",
              "    <div class=\"colab-df-buttons\">\n",
              "\n",
              "  <div class=\"colab-df-container\">\n",
              "    <button class=\"colab-df-convert\" onclick=\"convertToInteractive('df-d20c1fb4-36d9-4a82-910e-77a76e5361d6')\"\n",
              "            title=\"Convert this dataframe to an interactive table.\"\n",
              "            style=\"display:none;\">\n",
              "\n",
              "  <svg xmlns=\"http://www.w3.org/2000/svg\" height=\"24px\" viewBox=\"0 -960 960 960\">\n",
              "    <path d=\"M120-120v-720h720v720H120Zm60-500h600v-160H180v160Zm220 220h160v-160H400v160Zm0 220h160v-160H400v160ZM180-400h160v-160H180v160Zm440 0h160v-160H620v160ZM180-180h160v-160H180v160Zm440 0h160v-160H620v160Z\"/>\n",
              "  </svg>\n",
              "    </button>\n",
              "\n",
              "  <style>\n",
              "    .colab-df-container {\n",
              "      display:flex;\n",
              "      gap: 12px;\n",
              "    }\n",
              "\n",
              "    .colab-df-convert {\n",
              "      background-color: #E8F0FE;\n",
              "      border: none;\n",
              "      border-radius: 50%;\n",
              "      cursor: pointer;\n",
              "      display: none;\n",
              "      fill: #1967D2;\n",
              "      height: 32px;\n",
              "      padding: 0 0 0 0;\n",
              "      width: 32px;\n",
              "    }\n",
              "\n",
              "    .colab-df-convert:hover {\n",
              "      background-color: #E2EBFA;\n",
              "      box-shadow: 0px 1px 2px rgba(60, 64, 67, 0.3), 0px 1px 3px 1px rgba(60, 64, 67, 0.15);\n",
              "      fill: #174EA6;\n",
              "    }\n",
              "\n",
              "    .colab-df-buttons div {\n",
              "      margin-bottom: 4px;\n",
              "    }\n",
              "\n",
              "    [theme=dark] .colab-df-convert {\n",
              "      background-color: #3B4455;\n",
              "      fill: #D2E3FC;\n",
              "    }\n",
              "\n",
              "    [theme=dark] .colab-df-convert:hover {\n",
              "      background-color: #434B5C;\n",
              "      box-shadow: 0px 1px 3px 1px rgba(0, 0, 0, 0.15);\n",
              "      filter: drop-shadow(0px 1px 2px rgba(0, 0, 0, 0.3));\n",
              "      fill: #FFFFFF;\n",
              "    }\n",
              "  </style>\n",
              "\n",
              "    <script>\n",
              "      const buttonEl =\n",
              "        document.querySelector('#df-d20c1fb4-36d9-4a82-910e-77a76e5361d6 button.colab-df-convert');\n",
              "      buttonEl.style.display =\n",
              "        google.colab.kernel.accessAllowed ? 'block' : 'none';\n",
              "\n",
              "      async function convertToInteractive(key) {\n",
              "        const element = document.querySelector('#df-d20c1fb4-36d9-4a82-910e-77a76e5361d6');\n",
              "        const dataTable =\n",
              "          await google.colab.kernel.invokeFunction('convertToInteractive',\n",
              "                                                    [key], {});\n",
              "        if (!dataTable) return;\n",
              "\n",
              "        const docLinkHtml = 'Like what you see? Visit the ' +\n",
              "          '<a target=\"_blank\" href=https://colab.research.google.com/notebooks/data_table.ipynb>data table notebook</a>'\n",
              "          + ' to learn more about interactive tables.';\n",
              "        element.innerHTML = '';\n",
              "        dataTable['output_type'] = 'display_data';\n",
              "        await google.colab.output.renderOutput(dataTable, element);\n",
              "        const docLink = document.createElement('div');\n",
              "        docLink.innerHTML = docLinkHtml;\n",
              "        element.appendChild(docLink);\n",
              "      }\n",
              "    </script>\n",
              "  </div>\n",
              "\n",
              "\n",
              "<div id=\"df-48bd0d20-003a-44b9-a2cf-90ea2da9ecd5\">\n",
              "  <button class=\"colab-df-quickchart\" onclick=\"quickchart('df-48bd0d20-003a-44b9-a2cf-90ea2da9ecd5')\"\n",
              "            title=\"Suggest charts\"\n",
              "            style=\"display:none;\">\n",
              "\n",
              "<svg xmlns=\"http://www.w3.org/2000/svg\" height=\"24px\"viewBox=\"0 0 24 24\"\n",
              "     width=\"24px\">\n",
              "    <g>\n",
              "        <path d=\"M19 3H5c-1.1 0-2 .9-2 2v14c0 1.1.9 2 2 2h14c1.1 0 2-.9 2-2V5c0-1.1-.9-2-2-2zM9 17H7v-7h2v7zm4 0h-2V7h2v10zm4 0h-2v-4h2v4z\"/>\n",
              "    </g>\n",
              "</svg>\n",
              "  </button>\n",
              "\n",
              "<style>\n",
              "  .colab-df-quickchart {\n",
              "      --bg-color: #E8F0FE;\n",
              "      --fill-color: #1967D2;\n",
              "      --hover-bg-color: #E2EBFA;\n",
              "      --hover-fill-color: #174EA6;\n",
              "      --disabled-fill-color: #AAA;\n",
              "      --disabled-bg-color: #DDD;\n",
              "  }\n",
              "\n",
              "  [theme=dark] .colab-df-quickchart {\n",
              "      --bg-color: #3B4455;\n",
              "      --fill-color: #D2E3FC;\n",
              "      --hover-bg-color: #434B5C;\n",
              "      --hover-fill-color: #FFFFFF;\n",
              "      --disabled-bg-color: #3B4455;\n",
              "      --disabled-fill-color: #666;\n",
              "  }\n",
              "\n",
              "  .colab-df-quickchart {\n",
              "    background-color: var(--bg-color);\n",
              "    border: none;\n",
              "    border-radius: 50%;\n",
              "    cursor: pointer;\n",
              "    display: none;\n",
              "    fill: var(--fill-color);\n",
              "    height: 32px;\n",
              "    padding: 0;\n",
              "    width: 32px;\n",
              "  }\n",
              "\n",
              "  .colab-df-quickchart:hover {\n",
              "    background-color: var(--hover-bg-color);\n",
              "    box-shadow: 0 1px 2px rgba(60, 64, 67, 0.3), 0 1px 3px 1px rgba(60, 64, 67, 0.15);\n",
              "    fill: var(--button-hover-fill-color);\n",
              "  }\n",
              "\n",
              "  .colab-df-quickchart-complete:disabled,\n",
              "  .colab-df-quickchart-complete:disabled:hover {\n",
              "    background-color: var(--disabled-bg-color);\n",
              "    fill: var(--disabled-fill-color);\n",
              "    box-shadow: none;\n",
              "  }\n",
              "\n",
              "  .colab-df-spinner {\n",
              "    border: 2px solid var(--fill-color);\n",
              "    border-color: transparent;\n",
              "    border-bottom-color: var(--fill-color);\n",
              "    animation:\n",
              "      spin 1s steps(1) infinite;\n",
              "  }\n",
              "\n",
              "  @keyframes spin {\n",
              "    0% {\n",
              "      border-color: transparent;\n",
              "      border-bottom-color: var(--fill-color);\n",
              "      border-left-color: var(--fill-color);\n",
              "    }\n",
              "    20% {\n",
              "      border-color: transparent;\n",
              "      border-left-color: var(--fill-color);\n",
              "      border-top-color: var(--fill-color);\n",
              "    }\n",
              "    30% {\n",
              "      border-color: transparent;\n",
              "      border-left-color: var(--fill-color);\n",
              "      border-top-color: var(--fill-color);\n",
              "      border-right-color: var(--fill-color);\n",
              "    }\n",
              "    40% {\n",
              "      border-color: transparent;\n",
              "      border-right-color: var(--fill-color);\n",
              "      border-top-color: var(--fill-color);\n",
              "    }\n",
              "    60% {\n",
              "      border-color: transparent;\n",
              "      border-right-color: var(--fill-color);\n",
              "    }\n",
              "    80% {\n",
              "      border-color: transparent;\n",
              "      border-right-color: var(--fill-color);\n",
              "      border-bottom-color: var(--fill-color);\n",
              "    }\n",
              "    90% {\n",
              "      border-color: transparent;\n",
              "      border-bottom-color: var(--fill-color);\n",
              "    }\n",
              "  }\n",
              "</style>\n",
              "\n",
              "  <script>\n",
              "    async function quickchart(key) {\n",
              "      const quickchartButtonEl =\n",
              "        document.querySelector('#' + key + ' button');\n",
              "      quickchartButtonEl.disabled = true;  // To prevent multiple clicks.\n",
              "      quickchartButtonEl.classList.add('colab-df-spinner');\n",
              "      try {\n",
              "        const charts = await google.colab.kernel.invokeFunction(\n",
              "            'suggestCharts', [key], {});\n",
              "      } catch (error) {\n",
              "        console.error('Error during call to suggestCharts:', error);\n",
              "      }\n",
              "      quickchartButtonEl.classList.remove('colab-df-spinner');\n",
              "      quickchartButtonEl.classList.add('colab-df-quickchart-complete');\n",
              "    }\n",
              "    (() => {\n",
              "      let quickchartButtonEl =\n",
              "        document.querySelector('#df-48bd0d20-003a-44b9-a2cf-90ea2da9ecd5 button');\n",
              "      quickchartButtonEl.style.display =\n",
              "        google.colab.kernel.accessAllowed ? 'block' : 'none';\n",
              "    })();\n",
              "  </script>\n",
              "</div>\n",
              "    </div>\n",
              "  </div>\n"
            ]
          },
          "metadata": {},
          "execution_count": 195
        }
      ],
      "source": [
        "#Вычислим общее количество клиентов, сумму клиентов с задолженностями и среднее значение долга по каждой категории.\n",
        "data_pivot_income = data.pivot_table(index='total_income_category', values='debt', aggfunc=['count', 'sum', 'mean'])\n",
        "\n",
        "#Рассчитаем процент задолженностей и процент заеищиков по каждой категории от общего числа и выведем общую таблицу\n",
        "data_pivot_income['percent'] = (data_pivot_income['sum']['debt'] / data_pivot_income['count']['debt'] * 100).round(1)\n",
        "data_pivot_income['share_group'] = (data_pivot_income['count']['debt'] / total_count * 100).round(1)\n",
        "data_pivot_income"
      ]
    },
    {
      "cell_type": "markdown",
      "id": "c829e1e1",
      "metadata": {
        "deletable": false,
        "id": "c829e1e1"
      },
      "source": [
        "**Предварительный вывод:** Больую часть составляют заемщики с уровнем дохода от 50.000 до 200.000 рублей (74,6%). При этом они допускают просрочки чаще, чем заемщики других категорий. За исключением заемщиков с уровнем дохода до 30.000 (клиенты с низким доходом) рублей, просрочка выплат которых состовляет 9,1%. Однако данная группа составляет менее 1,0% от общего числа заемщиков и не является показательной. Меньше всего просрочек у группы с уровнем дрхода 30.001 - 50.000 рублей - 6,0%, но данная группа составляет лишь 1,6% от общего числа.\n",
        "В связи с сильным отклонением численности группы 'С' необходимо пересмотреть её диапазон группировки доходов. Разделить группу 'C' на несколько групп (50.001 - 100.000, 100.001 - 150.000, 150.001 - 200.000) и повторить расчет."
      ]
    },
    {
      "cell_type": "code",
      "execution_count": null,
      "id": "303d7bb3",
      "metadata": {
        "id": "303d7bb3"
      },
      "outputs": [],
      "source": [
        "#Добавим дополнительные категории для группировки\n",
        "def categorize_income(income):\n",
        "    try:\n",
        "        if 0 <= income <= 30000:\n",
        "            return 'До 30к'\n",
        "        elif 30001 <= income <= 50000:\n",
        "            return 'От 30к до 50к'\n",
        "        elif 50001 <= income <= 100000:\n",
        "            return 'От 50к до 100к'\n",
        "        elif 100001 <= income <= 150000:\n",
        "            return 'От 100к до 150к'\n",
        "        elif 150001 <= income <= 200000:\n",
        "            return 'От 150к до 200к'\n",
        "        elif 200001 <= income <= 1000000:\n",
        "            return 'От 200к до 1млн'\n",
        "        elif income >= 1000001:\n",
        "            return 'Свыше 1 млн'\n",
        "    except:\n",
        "        pass\n",
        "\n",
        "data['total_income_category'] = data['total_income'].apply(categorize_income)"
      ]
    },
    {
      "cell_type": "code",
      "execution_count": null,
      "id": "5fae01ff",
      "metadata": {
        "colab": {
          "base_uri": "https://localhost:8080/",
          "height": 332
        },
        "id": "5fae01ff",
        "outputId": "34209570-601f-47e6-ce8f-16c84321fb01"
      },
      "outputs": [
        {
          "output_type": "execute_result",
          "data": {
            "text/plain": [
              "                      count  sum      mean percent share_group\n",
              "                       debt debt      debt                    \n",
              "total_income_category                                         \n",
              "До 30к                   22    2  0.090909     9.1         0.1\n",
              "От 100к до 150к        7110  619  0.087060     8.7        33.3\n",
              "От 150к до 200к        4738  403  0.085057     8.5        22.2\n",
              "От 200к до 1млн        5013  354  0.070616     7.1        23.5\n",
              "От 30к до 50к           349   21  0.060172     6.0         1.6\n",
              "От 50к до 100к         4073  331  0.081267     8.1        19.1\n",
              "Свыше 1 млн              25    2  0.080000     8.0         0.1"
            ],
            "text/html": [
              "\n",
              "  <div id=\"df-e72b52d7-f274-4fc7-ac98-0e07d0cdfdf0\" class=\"colab-df-container\">\n",
              "    <div>\n",
              "<style scoped>\n",
              "    .dataframe tbody tr th:only-of-type {\n",
              "        vertical-align: middle;\n",
              "    }\n",
              "\n",
              "    .dataframe tbody tr th {\n",
              "        vertical-align: top;\n",
              "    }\n",
              "\n",
              "    .dataframe thead tr th {\n",
              "        text-align: left;\n",
              "    }\n",
              "\n",
              "    .dataframe thead tr:last-of-type th {\n",
              "        text-align: right;\n",
              "    }\n",
              "</style>\n",
              "<table border=\"1\" class=\"dataframe\">\n",
              "  <thead>\n",
              "    <tr>\n",
              "      <th></th>\n",
              "      <th>count</th>\n",
              "      <th>sum</th>\n",
              "      <th>mean</th>\n",
              "      <th>percent</th>\n",
              "      <th>share_group</th>\n",
              "    </tr>\n",
              "    <tr>\n",
              "      <th></th>\n",
              "      <th>debt</th>\n",
              "      <th>debt</th>\n",
              "      <th>debt</th>\n",
              "      <th></th>\n",
              "      <th></th>\n",
              "    </tr>\n",
              "    <tr>\n",
              "      <th>total_income_category</th>\n",
              "      <th></th>\n",
              "      <th></th>\n",
              "      <th></th>\n",
              "      <th></th>\n",
              "      <th></th>\n",
              "    </tr>\n",
              "  </thead>\n",
              "  <tbody>\n",
              "    <tr>\n",
              "      <th>До 30к</th>\n",
              "      <td>22</td>\n",
              "      <td>2</td>\n",
              "      <td>0.090909</td>\n",
              "      <td>9.1</td>\n",
              "      <td>0.1</td>\n",
              "    </tr>\n",
              "    <tr>\n",
              "      <th>От 100к до 150к</th>\n",
              "      <td>7110</td>\n",
              "      <td>619</td>\n",
              "      <td>0.087060</td>\n",
              "      <td>8.7</td>\n",
              "      <td>33.3</td>\n",
              "    </tr>\n",
              "    <tr>\n",
              "      <th>От 150к до 200к</th>\n",
              "      <td>4738</td>\n",
              "      <td>403</td>\n",
              "      <td>0.085057</td>\n",
              "      <td>8.5</td>\n",
              "      <td>22.2</td>\n",
              "    </tr>\n",
              "    <tr>\n",
              "      <th>От 200к до 1млн</th>\n",
              "      <td>5013</td>\n",
              "      <td>354</td>\n",
              "      <td>0.070616</td>\n",
              "      <td>7.1</td>\n",
              "      <td>23.5</td>\n",
              "    </tr>\n",
              "    <tr>\n",
              "      <th>От 30к до 50к</th>\n",
              "      <td>349</td>\n",
              "      <td>21</td>\n",
              "      <td>0.060172</td>\n",
              "      <td>6.0</td>\n",
              "      <td>1.6</td>\n",
              "    </tr>\n",
              "    <tr>\n",
              "      <th>От 50к до 100к</th>\n",
              "      <td>4073</td>\n",
              "      <td>331</td>\n",
              "      <td>0.081267</td>\n",
              "      <td>8.1</td>\n",
              "      <td>19.1</td>\n",
              "    </tr>\n",
              "    <tr>\n",
              "      <th>Свыше 1 млн</th>\n",
              "      <td>25</td>\n",
              "      <td>2</td>\n",
              "      <td>0.080000</td>\n",
              "      <td>8.0</td>\n",
              "      <td>0.1</td>\n",
              "    </tr>\n",
              "  </tbody>\n",
              "</table>\n",
              "</div>\n",
              "    <div class=\"colab-df-buttons\">\n",
              "\n",
              "  <div class=\"colab-df-container\">\n",
              "    <button class=\"colab-df-convert\" onclick=\"convertToInteractive('df-e72b52d7-f274-4fc7-ac98-0e07d0cdfdf0')\"\n",
              "            title=\"Convert this dataframe to an interactive table.\"\n",
              "            style=\"display:none;\">\n",
              "\n",
              "  <svg xmlns=\"http://www.w3.org/2000/svg\" height=\"24px\" viewBox=\"0 -960 960 960\">\n",
              "    <path d=\"M120-120v-720h720v720H120Zm60-500h600v-160H180v160Zm220 220h160v-160H400v160Zm0 220h160v-160H400v160ZM180-400h160v-160H180v160Zm440 0h160v-160H620v160ZM180-180h160v-160H180v160Zm440 0h160v-160H620v160Z\"/>\n",
              "  </svg>\n",
              "    </button>\n",
              "\n",
              "  <style>\n",
              "    .colab-df-container {\n",
              "      display:flex;\n",
              "      gap: 12px;\n",
              "    }\n",
              "\n",
              "    .colab-df-convert {\n",
              "      background-color: #E8F0FE;\n",
              "      border: none;\n",
              "      border-radius: 50%;\n",
              "      cursor: pointer;\n",
              "      display: none;\n",
              "      fill: #1967D2;\n",
              "      height: 32px;\n",
              "      padding: 0 0 0 0;\n",
              "      width: 32px;\n",
              "    }\n",
              "\n",
              "    .colab-df-convert:hover {\n",
              "      background-color: #E2EBFA;\n",
              "      box-shadow: 0px 1px 2px rgba(60, 64, 67, 0.3), 0px 1px 3px 1px rgba(60, 64, 67, 0.15);\n",
              "      fill: #174EA6;\n",
              "    }\n",
              "\n",
              "    .colab-df-buttons div {\n",
              "      margin-bottom: 4px;\n",
              "    }\n",
              "\n",
              "    [theme=dark] .colab-df-convert {\n",
              "      background-color: #3B4455;\n",
              "      fill: #D2E3FC;\n",
              "    }\n",
              "\n",
              "    [theme=dark] .colab-df-convert:hover {\n",
              "      background-color: #434B5C;\n",
              "      box-shadow: 0px 1px 3px 1px rgba(0, 0, 0, 0.15);\n",
              "      filter: drop-shadow(0px 1px 2px rgba(0, 0, 0, 0.3));\n",
              "      fill: #FFFFFF;\n",
              "    }\n",
              "  </style>\n",
              "\n",
              "    <script>\n",
              "      const buttonEl =\n",
              "        document.querySelector('#df-e72b52d7-f274-4fc7-ac98-0e07d0cdfdf0 button.colab-df-convert');\n",
              "      buttonEl.style.display =\n",
              "        google.colab.kernel.accessAllowed ? 'block' : 'none';\n",
              "\n",
              "      async function convertToInteractive(key) {\n",
              "        const element = document.querySelector('#df-e72b52d7-f274-4fc7-ac98-0e07d0cdfdf0');\n",
              "        const dataTable =\n",
              "          await google.colab.kernel.invokeFunction('convertToInteractive',\n",
              "                                                    [key], {});\n",
              "        if (!dataTable) return;\n",
              "\n",
              "        const docLinkHtml = 'Like what you see? Visit the ' +\n",
              "          '<a target=\"_blank\" href=https://colab.research.google.com/notebooks/data_table.ipynb>data table notebook</a>'\n",
              "          + ' to learn more about interactive tables.';\n",
              "        element.innerHTML = '';\n",
              "        dataTable['output_type'] = 'display_data';\n",
              "        await google.colab.output.renderOutput(dataTable, element);\n",
              "        const docLink = document.createElement('div');\n",
              "        docLink.innerHTML = docLinkHtml;\n",
              "        element.appendChild(docLink);\n",
              "      }\n",
              "    </script>\n",
              "  </div>\n",
              "\n",
              "\n",
              "<div id=\"df-3fb9231e-ffea-4754-b3d4-8579ed46eda5\">\n",
              "  <button class=\"colab-df-quickchart\" onclick=\"quickchart('df-3fb9231e-ffea-4754-b3d4-8579ed46eda5')\"\n",
              "            title=\"Suggest charts\"\n",
              "            style=\"display:none;\">\n",
              "\n",
              "<svg xmlns=\"http://www.w3.org/2000/svg\" height=\"24px\"viewBox=\"0 0 24 24\"\n",
              "     width=\"24px\">\n",
              "    <g>\n",
              "        <path d=\"M19 3H5c-1.1 0-2 .9-2 2v14c0 1.1.9 2 2 2h14c1.1 0 2-.9 2-2V5c0-1.1-.9-2-2-2zM9 17H7v-7h2v7zm4 0h-2V7h2v10zm4 0h-2v-4h2v4z\"/>\n",
              "    </g>\n",
              "</svg>\n",
              "  </button>\n",
              "\n",
              "<style>\n",
              "  .colab-df-quickchart {\n",
              "      --bg-color: #E8F0FE;\n",
              "      --fill-color: #1967D2;\n",
              "      --hover-bg-color: #E2EBFA;\n",
              "      --hover-fill-color: #174EA6;\n",
              "      --disabled-fill-color: #AAA;\n",
              "      --disabled-bg-color: #DDD;\n",
              "  }\n",
              "\n",
              "  [theme=dark] .colab-df-quickchart {\n",
              "      --bg-color: #3B4455;\n",
              "      --fill-color: #D2E3FC;\n",
              "      --hover-bg-color: #434B5C;\n",
              "      --hover-fill-color: #FFFFFF;\n",
              "      --disabled-bg-color: #3B4455;\n",
              "      --disabled-fill-color: #666;\n",
              "  }\n",
              "\n",
              "  .colab-df-quickchart {\n",
              "    background-color: var(--bg-color);\n",
              "    border: none;\n",
              "    border-radius: 50%;\n",
              "    cursor: pointer;\n",
              "    display: none;\n",
              "    fill: var(--fill-color);\n",
              "    height: 32px;\n",
              "    padding: 0;\n",
              "    width: 32px;\n",
              "  }\n",
              "\n",
              "  .colab-df-quickchart:hover {\n",
              "    background-color: var(--hover-bg-color);\n",
              "    box-shadow: 0 1px 2px rgba(60, 64, 67, 0.3), 0 1px 3px 1px rgba(60, 64, 67, 0.15);\n",
              "    fill: var(--button-hover-fill-color);\n",
              "  }\n",
              "\n",
              "  .colab-df-quickchart-complete:disabled,\n",
              "  .colab-df-quickchart-complete:disabled:hover {\n",
              "    background-color: var(--disabled-bg-color);\n",
              "    fill: var(--disabled-fill-color);\n",
              "    box-shadow: none;\n",
              "  }\n",
              "\n",
              "  .colab-df-spinner {\n",
              "    border: 2px solid var(--fill-color);\n",
              "    border-color: transparent;\n",
              "    border-bottom-color: var(--fill-color);\n",
              "    animation:\n",
              "      spin 1s steps(1) infinite;\n",
              "  }\n",
              "\n",
              "  @keyframes spin {\n",
              "    0% {\n",
              "      border-color: transparent;\n",
              "      border-bottom-color: var(--fill-color);\n",
              "      border-left-color: var(--fill-color);\n",
              "    }\n",
              "    20% {\n",
              "      border-color: transparent;\n",
              "      border-left-color: var(--fill-color);\n",
              "      border-top-color: var(--fill-color);\n",
              "    }\n",
              "    30% {\n",
              "      border-color: transparent;\n",
              "      border-left-color: var(--fill-color);\n",
              "      border-top-color: var(--fill-color);\n",
              "      border-right-color: var(--fill-color);\n",
              "    }\n",
              "    40% {\n",
              "      border-color: transparent;\n",
              "      border-right-color: var(--fill-color);\n",
              "      border-top-color: var(--fill-color);\n",
              "    }\n",
              "    60% {\n",
              "      border-color: transparent;\n",
              "      border-right-color: var(--fill-color);\n",
              "    }\n",
              "    80% {\n",
              "      border-color: transparent;\n",
              "      border-right-color: var(--fill-color);\n",
              "      border-bottom-color: var(--fill-color);\n",
              "    }\n",
              "    90% {\n",
              "      border-color: transparent;\n",
              "      border-bottom-color: var(--fill-color);\n",
              "    }\n",
              "  }\n",
              "</style>\n",
              "\n",
              "  <script>\n",
              "    async function quickchart(key) {\n",
              "      const quickchartButtonEl =\n",
              "        document.querySelector('#' + key + ' button');\n",
              "      quickchartButtonEl.disabled = true;  // To prevent multiple clicks.\n",
              "      quickchartButtonEl.classList.add('colab-df-spinner');\n",
              "      try {\n",
              "        const charts = await google.colab.kernel.invokeFunction(\n",
              "            'suggestCharts', [key], {});\n",
              "      } catch (error) {\n",
              "        console.error('Error during call to suggestCharts:', error);\n",
              "      }\n",
              "      quickchartButtonEl.classList.remove('colab-df-spinner');\n",
              "      quickchartButtonEl.classList.add('colab-df-quickchart-complete');\n",
              "    }\n",
              "    (() => {\n",
              "      let quickchartButtonEl =\n",
              "        document.querySelector('#df-3fb9231e-ffea-4754-b3d4-8579ed46eda5 button');\n",
              "      quickchartButtonEl.style.display =\n",
              "        google.colab.kernel.accessAllowed ? 'block' : 'none';\n",
              "    })();\n",
              "  </script>\n",
              "</div>\n",
              "    </div>\n",
              "  </div>\n"
            ]
          },
          "metadata": {},
          "execution_count": 197
        }
      ],
      "source": [
        "#повторим расчет\n",
        "data_pivot_income = data.pivot_table(index='total_income_category', values='debt', aggfunc=['count', 'sum', 'mean'])\n",
        "data_pivot_income['percent'] = (data_pivot_income['sum']['debt'] / data_pivot_income['count']['debt'] * 100).round(1)\n",
        "data_pivot_income['share_group'] = (data_pivot_income['count']['debt'] / total_count * 100).round(1)\n",
        "data_pivot_income"
      ]
    },
    {
      "cell_type": "markdown",
      "id": "63aa0ac1",
      "metadata": {
        "id": "63aa0ac1"
      },
      "source": [
        "**Вывод:** После перегруппировки данных заметно, что заемщики групп 100.001 - 150.000 и 150.001 - 200.000 допускают просрочки чаще, чем из группы 'E'. Однако, группа 'E' по прежнему имеет высокий показатель несвоевременного возврата кредита.  \n",
        "Исходя из здравого смысла логично предположить, что чаще всего должниками становятся люди с небольшим доходом, которым финансовые проблемы не позволяют вовремя осуществлять платежи. Но принимая во внимание наши результаты стоит отметить, что выборка по заемщикам, как с наименьшим доходом, так и с наибольшим крайне недостаточна для формирования однозначных выводов. Можно думать, что самая низкооплачиваемая не может корректно распоряжаться деньгами и «влезает» в кредиты, но тогда неясно почему у клиентов с высоким доходом также достаточно высокий процент задолженности.\n",
        "\n",
        "Если же взять для анализа только остальные группы, то по полученным данным не наблюдаем зависимости \"те, кто получает больше ЗП, лучше возвращает кредит». В целом это логично, так как материальный достаток - не единственная переменная, которая влияет на качество кредитной истории.\n",
        "\n",
        "Стоит принять во внимание 2174 пропуска в данных столбца \"total_income\" заполненные медианным значением по типу занятости. Сводная таблица с данными о зависимости между уровнем дохода и возвратом кредита в срок возможно могла бы выглядеть иначе, если бы не пропущенные данные."
      ]
    },
    {
      "cell_type": "markdown",
      "id": "d239edad",
      "metadata": {
        "deletable": false,
        "editable": false,
        "id": "d239edad"
      },
      "source": [
        "### 4. Как разные цели кредита влияют на его возврат в срок?"
      ]
    },
    {
      "cell_type": "markdown",
      "id": "a45ba8b8",
      "metadata": {
        "id": "a45ba8b8"
      },
      "source": [
        "Для выявления взаимосвязи сгруппируем данные по цели кредита и для каждой группы рассчитаем средний показатель долга."
      ]
    },
    {
      "cell_type": "code",
      "execution_count": null,
      "id": "c0bff332",
      "metadata": {
        "deletable": false,
        "id": "c0bff332",
        "colab": {
          "base_uri": "https://localhost:8080/",
          "height": 238
        },
        "outputId": "37894141-e69c-42dd-9e7f-72248b747392"
      },
      "outputs": [
        {
          "output_type": "execute_result",
          "data": {
            "text/plain": [
              "                          count  sum      mean percent share_group\n",
              "                           debt debt      debt                    \n",
              "purpose_category                                                  \n",
              "операции с автомобилем     4279  400  0.093480     9.3        20.1\n",
              "операции с недвижимостью  10750  780  0.072558     7.3        50.4\n",
              "получение образования      3988  369  0.092528     9.3        18.7\n",
              "проведение свадьбы         2313  183  0.079118     7.9        10.8"
            ],
            "text/html": [
              "\n",
              "  <div id=\"df-358d947c-24c2-416b-8da4-9e0db31951e8\" class=\"colab-df-container\">\n",
              "    <div>\n",
              "<style scoped>\n",
              "    .dataframe tbody tr th:only-of-type {\n",
              "        vertical-align: middle;\n",
              "    }\n",
              "\n",
              "    .dataframe tbody tr th {\n",
              "        vertical-align: top;\n",
              "    }\n",
              "\n",
              "    .dataframe thead tr th {\n",
              "        text-align: left;\n",
              "    }\n",
              "\n",
              "    .dataframe thead tr:last-of-type th {\n",
              "        text-align: right;\n",
              "    }\n",
              "</style>\n",
              "<table border=\"1\" class=\"dataframe\">\n",
              "  <thead>\n",
              "    <tr>\n",
              "      <th></th>\n",
              "      <th>count</th>\n",
              "      <th>sum</th>\n",
              "      <th>mean</th>\n",
              "      <th>percent</th>\n",
              "      <th>share_group</th>\n",
              "    </tr>\n",
              "    <tr>\n",
              "      <th></th>\n",
              "      <th>debt</th>\n",
              "      <th>debt</th>\n",
              "      <th>debt</th>\n",
              "      <th></th>\n",
              "      <th></th>\n",
              "    </tr>\n",
              "    <tr>\n",
              "      <th>purpose_category</th>\n",
              "      <th></th>\n",
              "      <th></th>\n",
              "      <th></th>\n",
              "      <th></th>\n",
              "      <th></th>\n",
              "    </tr>\n",
              "  </thead>\n",
              "  <tbody>\n",
              "    <tr>\n",
              "      <th>операции с автомобилем</th>\n",
              "      <td>4279</td>\n",
              "      <td>400</td>\n",
              "      <td>0.093480</td>\n",
              "      <td>9.3</td>\n",
              "      <td>20.1</td>\n",
              "    </tr>\n",
              "    <tr>\n",
              "      <th>операции с недвижимостью</th>\n",
              "      <td>10750</td>\n",
              "      <td>780</td>\n",
              "      <td>0.072558</td>\n",
              "      <td>7.3</td>\n",
              "      <td>50.4</td>\n",
              "    </tr>\n",
              "    <tr>\n",
              "      <th>получение образования</th>\n",
              "      <td>3988</td>\n",
              "      <td>369</td>\n",
              "      <td>0.092528</td>\n",
              "      <td>9.3</td>\n",
              "      <td>18.7</td>\n",
              "    </tr>\n",
              "    <tr>\n",
              "      <th>проведение свадьбы</th>\n",
              "      <td>2313</td>\n",
              "      <td>183</td>\n",
              "      <td>0.079118</td>\n",
              "      <td>7.9</td>\n",
              "      <td>10.8</td>\n",
              "    </tr>\n",
              "  </tbody>\n",
              "</table>\n",
              "</div>\n",
              "    <div class=\"colab-df-buttons\">\n",
              "\n",
              "  <div class=\"colab-df-container\">\n",
              "    <button class=\"colab-df-convert\" onclick=\"convertToInteractive('df-358d947c-24c2-416b-8da4-9e0db31951e8')\"\n",
              "            title=\"Convert this dataframe to an interactive table.\"\n",
              "            style=\"display:none;\">\n",
              "\n",
              "  <svg xmlns=\"http://www.w3.org/2000/svg\" height=\"24px\" viewBox=\"0 -960 960 960\">\n",
              "    <path d=\"M120-120v-720h720v720H120Zm60-500h600v-160H180v160Zm220 220h160v-160H400v160Zm0 220h160v-160H400v160ZM180-400h160v-160H180v160Zm440 0h160v-160H620v160ZM180-180h160v-160H180v160Zm440 0h160v-160H620v160Z\"/>\n",
              "  </svg>\n",
              "    </button>\n",
              "\n",
              "  <style>\n",
              "    .colab-df-container {\n",
              "      display:flex;\n",
              "      gap: 12px;\n",
              "    }\n",
              "\n",
              "    .colab-df-convert {\n",
              "      background-color: #E8F0FE;\n",
              "      border: none;\n",
              "      border-radius: 50%;\n",
              "      cursor: pointer;\n",
              "      display: none;\n",
              "      fill: #1967D2;\n",
              "      height: 32px;\n",
              "      padding: 0 0 0 0;\n",
              "      width: 32px;\n",
              "    }\n",
              "\n",
              "    .colab-df-convert:hover {\n",
              "      background-color: #E2EBFA;\n",
              "      box-shadow: 0px 1px 2px rgba(60, 64, 67, 0.3), 0px 1px 3px 1px rgba(60, 64, 67, 0.15);\n",
              "      fill: #174EA6;\n",
              "    }\n",
              "\n",
              "    .colab-df-buttons div {\n",
              "      margin-bottom: 4px;\n",
              "    }\n",
              "\n",
              "    [theme=dark] .colab-df-convert {\n",
              "      background-color: #3B4455;\n",
              "      fill: #D2E3FC;\n",
              "    }\n",
              "\n",
              "    [theme=dark] .colab-df-convert:hover {\n",
              "      background-color: #434B5C;\n",
              "      box-shadow: 0px 1px 3px 1px rgba(0, 0, 0, 0.15);\n",
              "      filter: drop-shadow(0px 1px 2px rgba(0, 0, 0, 0.3));\n",
              "      fill: #FFFFFF;\n",
              "    }\n",
              "  </style>\n",
              "\n",
              "    <script>\n",
              "      const buttonEl =\n",
              "        document.querySelector('#df-358d947c-24c2-416b-8da4-9e0db31951e8 button.colab-df-convert');\n",
              "      buttonEl.style.display =\n",
              "        google.colab.kernel.accessAllowed ? 'block' : 'none';\n",
              "\n",
              "      async function convertToInteractive(key) {\n",
              "        const element = document.querySelector('#df-358d947c-24c2-416b-8da4-9e0db31951e8');\n",
              "        const dataTable =\n",
              "          await google.colab.kernel.invokeFunction('convertToInteractive',\n",
              "                                                    [key], {});\n",
              "        if (!dataTable) return;\n",
              "\n",
              "        const docLinkHtml = 'Like what you see? Visit the ' +\n",
              "          '<a target=\"_blank\" href=https://colab.research.google.com/notebooks/data_table.ipynb>data table notebook</a>'\n",
              "          + ' to learn more about interactive tables.';\n",
              "        element.innerHTML = '';\n",
              "        dataTable['output_type'] = 'display_data';\n",
              "        await google.colab.output.renderOutput(dataTable, element);\n",
              "        const docLink = document.createElement('div');\n",
              "        docLink.innerHTML = docLinkHtml;\n",
              "        element.appendChild(docLink);\n",
              "      }\n",
              "    </script>\n",
              "  </div>\n",
              "\n",
              "\n",
              "<div id=\"df-ed9c9d1d-75f4-4cb4-8446-675761f49b97\">\n",
              "  <button class=\"colab-df-quickchart\" onclick=\"quickchart('df-ed9c9d1d-75f4-4cb4-8446-675761f49b97')\"\n",
              "            title=\"Suggest charts\"\n",
              "            style=\"display:none;\">\n",
              "\n",
              "<svg xmlns=\"http://www.w3.org/2000/svg\" height=\"24px\"viewBox=\"0 0 24 24\"\n",
              "     width=\"24px\">\n",
              "    <g>\n",
              "        <path d=\"M19 3H5c-1.1 0-2 .9-2 2v14c0 1.1.9 2 2 2h14c1.1 0 2-.9 2-2V5c0-1.1-.9-2-2-2zM9 17H7v-7h2v7zm4 0h-2V7h2v10zm4 0h-2v-4h2v4z\"/>\n",
              "    </g>\n",
              "</svg>\n",
              "  </button>\n",
              "\n",
              "<style>\n",
              "  .colab-df-quickchart {\n",
              "      --bg-color: #E8F0FE;\n",
              "      --fill-color: #1967D2;\n",
              "      --hover-bg-color: #E2EBFA;\n",
              "      --hover-fill-color: #174EA6;\n",
              "      --disabled-fill-color: #AAA;\n",
              "      --disabled-bg-color: #DDD;\n",
              "  }\n",
              "\n",
              "  [theme=dark] .colab-df-quickchart {\n",
              "      --bg-color: #3B4455;\n",
              "      --fill-color: #D2E3FC;\n",
              "      --hover-bg-color: #434B5C;\n",
              "      --hover-fill-color: #FFFFFF;\n",
              "      --disabled-bg-color: #3B4455;\n",
              "      --disabled-fill-color: #666;\n",
              "  }\n",
              "\n",
              "  .colab-df-quickchart {\n",
              "    background-color: var(--bg-color);\n",
              "    border: none;\n",
              "    border-radius: 50%;\n",
              "    cursor: pointer;\n",
              "    display: none;\n",
              "    fill: var(--fill-color);\n",
              "    height: 32px;\n",
              "    padding: 0;\n",
              "    width: 32px;\n",
              "  }\n",
              "\n",
              "  .colab-df-quickchart:hover {\n",
              "    background-color: var(--hover-bg-color);\n",
              "    box-shadow: 0 1px 2px rgba(60, 64, 67, 0.3), 0 1px 3px 1px rgba(60, 64, 67, 0.15);\n",
              "    fill: var(--button-hover-fill-color);\n",
              "  }\n",
              "\n",
              "  .colab-df-quickchart-complete:disabled,\n",
              "  .colab-df-quickchart-complete:disabled:hover {\n",
              "    background-color: var(--disabled-bg-color);\n",
              "    fill: var(--disabled-fill-color);\n",
              "    box-shadow: none;\n",
              "  }\n",
              "\n",
              "  .colab-df-spinner {\n",
              "    border: 2px solid var(--fill-color);\n",
              "    border-color: transparent;\n",
              "    border-bottom-color: var(--fill-color);\n",
              "    animation:\n",
              "      spin 1s steps(1) infinite;\n",
              "  }\n",
              "\n",
              "  @keyframes spin {\n",
              "    0% {\n",
              "      border-color: transparent;\n",
              "      border-bottom-color: var(--fill-color);\n",
              "      border-left-color: var(--fill-color);\n",
              "    }\n",
              "    20% {\n",
              "      border-color: transparent;\n",
              "      border-left-color: var(--fill-color);\n",
              "      border-top-color: var(--fill-color);\n",
              "    }\n",
              "    30% {\n",
              "      border-color: transparent;\n",
              "      border-left-color: var(--fill-color);\n",
              "      border-top-color: var(--fill-color);\n",
              "      border-right-color: var(--fill-color);\n",
              "    }\n",
              "    40% {\n",
              "      border-color: transparent;\n",
              "      border-right-color: var(--fill-color);\n",
              "      border-top-color: var(--fill-color);\n",
              "    }\n",
              "    60% {\n",
              "      border-color: transparent;\n",
              "      border-right-color: var(--fill-color);\n",
              "    }\n",
              "    80% {\n",
              "      border-color: transparent;\n",
              "      border-right-color: var(--fill-color);\n",
              "      border-bottom-color: var(--fill-color);\n",
              "    }\n",
              "    90% {\n",
              "      border-color: transparent;\n",
              "      border-bottom-color: var(--fill-color);\n",
              "    }\n",
              "  }\n",
              "</style>\n",
              "\n",
              "  <script>\n",
              "    async function quickchart(key) {\n",
              "      const quickchartButtonEl =\n",
              "        document.querySelector('#' + key + ' button');\n",
              "      quickchartButtonEl.disabled = true;  // To prevent multiple clicks.\n",
              "      quickchartButtonEl.classList.add('colab-df-spinner');\n",
              "      try {\n",
              "        const charts = await google.colab.kernel.invokeFunction(\n",
              "            'suggestCharts', [key], {});\n",
              "      } catch (error) {\n",
              "        console.error('Error during call to suggestCharts:', error);\n",
              "      }\n",
              "      quickchartButtonEl.classList.remove('colab-df-spinner');\n",
              "      quickchartButtonEl.classList.add('colab-df-quickchart-complete');\n",
              "    }\n",
              "    (() => {\n",
              "      let quickchartButtonEl =\n",
              "        document.querySelector('#df-ed9c9d1d-75f4-4cb4-8446-675761f49b97 button');\n",
              "      quickchartButtonEl.style.display =\n",
              "        google.colab.kernel.accessAllowed ? 'block' : 'none';\n",
              "    })();\n",
              "  </script>\n",
              "</div>\n",
              "    </div>\n",
              "  </div>\n"
            ]
          },
          "metadata": {},
          "execution_count": 198
        }
      ],
      "source": [
        "data_pivot_purpose = data.pivot_table(index='purpose_category', values='debt', aggfunc=['count', 'sum', 'mean'])\n",
        "\n",
        "data_pivot_purpose['percent'] = (data_pivot_purpose['sum']['debt'] / data_pivot_purpose['count']['debt'] * 100).round(1)\n",
        "data_pivot_purpose['share_group'] = (data_pivot_purpose['count']['debt'] / total_count * 100).round(1)\n",
        "data_pivot_purpose"
      ]
    },
    {
      "cell_type": "markdown",
      "id": "ad73a025",
      "metadata": {
        "deletable": false,
        "id": "ad73a025"
      },
      "source": [
        "**Вывод:** Наибольшее число просроченных выплат по кредитам приходится на автокредиты и кредиты на образование - 9,3%. Просрочек по кредитам на недвижимость значительно меньше - 7,3%, при их оотносительной численности в 50,4% от всех займов.\n",
        "\n",
        "Также, при необходимости, можно рассмотреть кредиты на приобретение коммерческой и жилой недвижимости по отдельности."
      ]
    },
    {
      "cell_type": "markdown",
      "id": "dca9392f",
      "metadata": {
        "deletable": false,
        "editable": false,
        "id": "dca9392f"
      },
      "source": [
        "### 5. Приведите возможные причины появления пропусков в исходных данных."
      ]
    },
    {
      "cell_type": "code",
      "execution_count": null,
      "id": "b987be7e",
      "metadata": {
        "colab": {
          "base_uri": "https://localhost:8080/",
          "height": 332
        },
        "id": "b987be7e",
        "outputId": "9147fa2b-684e-49e7-a794-c3a3cb693ad4"
      },
      "outputs": [
        {
          "output_type": "execute_result",
          "data": {
            "text/plain": [
              "                 children  days_employed  dob_years  education  education_id  \\\n",
              "income_type                                                                    \n",
              "безработный             2              2          2          2             2   \n",
              "в декрете               1              1          1          1             1   \n",
              "госслужащий          1451           1307       1451       1451          1451   \n",
              "компаньон            5046           4549       5046       5046          5046   \n",
              "пенсионер            3812           3429       3812       3812          3812   \n",
              "предприниматель         2              1          2          2             2   \n",
              "сотрудник           11015           9949      11015      11015         11015   \n",
              "студент                 1              1          1          1             1   \n",
              "\n",
              "                 family_status  family_status_id  gender   debt  total_income  \\\n",
              "income_type                                                                     \n",
              "безработный                  2                 2       2      2             2   \n",
              "в декрете                    1                 1       1      1             1   \n",
              "госслужащий               1451              1451    1451   1451          1307   \n",
              "компаньон                 5046              5046    5046   5046          4549   \n",
              "пенсионер                 3812              3812    3812   3812          3429   \n",
              "предприниматель              2                 2       2      2             1   \n",
              "сотрудник                11015             11015   11015  11015          9949   \n",
              "студент                      1                 1       1      1             1   \n",
              "\n",
              "                 purpose  \n",
              "income_type               \n",
              "безработный            2  \n",
              "в декрете              1  \n",
              "госслужащий         1451  \n",
              "компаньон           5046  \n",
              "пенсионер           3812  \n",
              "предприниматель        2  \n",
              "сотрудник          11015  \n",
              "студент                1  "
            ],
            "text/html": [
              "\n",
              "  <div id=\"df-ca542f77-0344-4c21-9a5a-f1d3c40f1bc6\" class=\"colab-df-container\">\n",
              "    <div>\n",
              "<style scoped>\n",
              "    .dataframe tbody tr th:only-of-type {\n",
              "        vertical-align: middle;\n",
              "    }\n",
              "\n",
              "    .dataframe tbody tr th {\n",
              "        vertical-align: top;\n",
              "    }\n",
              "\n",
              "    .dataframe thead th {\n",
              "        text-align: right;\n",
              "    }\n",
              "</style>\n",
              "<table border=\"1\" class=\"dataframe\">\n",
              "  <thead>\n",
              "    <tr style=\"text-align: right;\">\n",
              "      <th></th>\n",
              "      <th>children</th>\n",
              "      <th>days_employed</th>\n",
              "      <th>dob_years</th>\n",
              "      <th>education</th>\n",
              "      <th>education_id</th>\n",
              "      <th>family_status</th>\n",
              "      <th>family_status_id</th>\n",
              "      <th>gender</th>\n",
              "      <th>debt</th>\n",
              "      <th>total_income</th>\n",
              "      <th>purpose</th>\n",
              "    </tr>\n",
              "    <tr>\n",
              "      <th>income_type</th>\n",
              "      <th></th>\n",
              "      <th></th>\n",
              "      <th></th>\n",
              "      <th></th>\n",
              "      <th></th>\n",
              "      <th></th>\n",
              "      <th></th>\n",
              "      <th></th>\n",
              "      <th></th>\n",
              "      <th></th>\n",
              "      <th></th>\n",
              "    </tr>\n",
              "  </thead>\n",
              "  <tbody>\n",
              "    <tr>\n",
              "      <th>безработный</th>\n",
              "      <td>2</td>\n",
              "      <td>2</td>\n",
              "      <td>2</td>\n",
              "      <td>2</td>\n",
              "      <td>2</td>\n",
              "      <td>2</td>\n",
              "      <td>2</td>\n",
              "      <td>2</td>\n",
              "      <td>2</td>\n",
              "      <td>2</td>\n",
              "      <td>2</td>\n",
              "    </tr>\n",
              "    <tr>\n",
              "      <th>в декрете</th>\n",
              "      <td>1</td>\n",
              "      <td>1</td>\n",
              "      <td>1</td>\n",
              "      <td>1</td>\n",
              "      <td>1</td>\n",
              "      <td>1</td>\n",
              "      <td>1</td>\n",
              "      <td>1</td>\n",
              "      <td>1</td>\n",
              "      <td>1</td>\n",
              "      <td>1</td>\n",
              "    </tr>\n",
              "    <tr>\n",
              "      <th>госслужащий</th>\n",
              "      <td>1451</td>\n",
              "      <td>1307</td>\n",
              "      <td>1451</td>\n",
              "      <td>1451</td>\n",
              "      <td>1451</td>\n",
              "      <td>1451</td>\n",
              "      <td>1451</td>\n",
              "      <td>1451</td>\n",
              "      <td>1451</td>\n",
              "      <td>1307</td>\n",
              "      <td>1451</td>\n",
              "    </tr>\n",
              "    <tr>\n",
              "      <th>компаньон</th>\n",
              "      <td>5046</td>\n",
              "      <td>4549</td>\n",
              "      <td>5046</td>\n",
              "      <td>5046</td>\n",
              "      <td>5046</td>\n",
              "      <td>5046</td>\n",
              "      <td>5046</td>\n",
              "      <td>5046</td>\n",
              "      <td>5046</td>\n",
              "      <td>4549</td>\n",
              "      <td>5046</td>\n",
              "    </tr>\n",
              "    <tr>\n",
              "      <th>пенсионер</th>\n",
              "      <td>3812</td>\n",
              "      <td>3429</td>\n",
              "      <td>3812</td>\n",
              "      <td>3812</td>\n",
              "      <td>3812</td>\n",
              "      <td>3812</td>\n",
              "      <td>3812</td>\n",
              "      <td>3812</td>\n",
              "      <td>3812</td>\n",
              "      <td>3429</td>\n",
              "      <td>3812</td>\n",
              "    </tr>\n",
              "    <tr>\n",
              "      <th>предприниматель</th>\n",
              "      <td>2</td>\n",
              "      <td>1</td>\n",
              "      <td>2</td>\n",
              "      <td>2</td>\n",
              "      <td>2</td>\n",
              "      <td>2</td>\n",
              "      <td>2</td>\n",
              "      <td>2</td>\n",
              "      <td>2</td>\n",
              "      <td>1</td>\n",
              "      <td>2</td>\n",
              "    </tr>\n",
              "    <tr>\n",
              "      <th>сотрудник</th>\n",
              "      <td>11015</td>\n",
              "      <td>9949</td>\n",
              "      <td>11015</td>\n",
              "      <td>11015</td>\n",
              "      <td>11015</td>\n",
              "      <td>11015</td>\n",
              "      <td>11015</td>\n",
              "      <td>11015</td>\n",
              "      <td>11015</td>\n",
              "      <td>9949</td>\n",
              "      <td>11015</td>\n",
              "    </tr>\n",
              "    <tr>\n",
              "      <th>студент</th>\n",
              "      <td>1</td>\n",
              "      <td>1</td>\n",
              "      <td>1</td>\n",
              "      <td>1</td>\n",
              "      <td>1</td>\n",
              "      <td>1</td>\n",
              "      <td>1</td>\n",
              "      <td>1</td>\n",
              "      <td>1</td>\n",
              "      <td>1</td>\n",
              "      <td>1</td>\n",
              "    </tr>\n",
              "  </tbody>\n",
              "</table>\n",
              "</div>\n",
              "    <div class=\"colab-df-buttons\">\n",
              "\n",
              "  <div class=\"colab-df-container\">\n",
              "    <button class=\"colab-df-convert\" onclick=\"convertToInteractive('df-ca542f77-0344-4c21-9a5a-f1d3c40f1bc6')\"\n",
              "            title=\"Convert this dataframe to an interactive table.\"\n",
              "            style=\"display:none;\">\n",
              "\n",
              "  <svg xmlns=\"http://www.w3.org/2000/svg\" height=\"24px\" viewBox=\"0 -960 960 960\">\n",
              "    <path d=\"M120-120v-720h720v720H120Zm60-500h600v-160H180v160Zm220 220h160v-160H400v160Zm0 220h160v-160H400v160ZM180-400h160v-160H180v160Zm440 0h160v-160H620v160ZM180-180h160v-160H180v160Zm440 0h160v-160H620v160Z\"/>\n",
              "  </svg>\n",
              "    </button>\n",
              "\n",
              "  <style>\n",
              "    .colab-df-container {\n",
              "      display:flex;\n",
              "      gap: 12px;\n",
              "    }\n",
              "\n",
              "    .colab-df-convert {\n",
              "      background-color: #E8F0FE;\n",
              "      border: none;\n",
              "      border-radius: 50%;\n",
              "      cursor: pointer;\n",
              "      display: none;\n",
              "      fill: #1967D2;\n",
              "      height: 32px;\n",
              "      padding: 0 0 0 0;\n",
              "      width: 32px;\n",
              "    }\n",
              "\n",
              "    .colab-df-convert:hover {\n",
              "      background-color: #E2EBFA;\n",
              "      box-shadow: 0px 1px 2px rgba(60, 64, 67, 0.3), 0px 1px 3px 1px rgba(60, 64, 67, 0.15);\n",
              "      fill: #174EA6;\n",
              "    }\n",
              "\n",
              "    .colab-df-buttons div {\n",
              "      margin-bottom: 4px;\n",
              "    }\n",
              "\n",
              "    [theme=dark] .colab-df-convert {\n",
              "      background-color: #3B4455;\n",
              "      fill: #D2E3FC;\n",
              "    }\n",
              "\n",
              "    [theme=dark] .colab-df-convert:hover {\n",
              "      background-color: #434B5C;\n",
              "      box-shadow: 0px 1px 3px 1px rgba(0, 0, 0, 0.15);\n",
              "      filter: drop-shadow(0px 1px 2px rgba(0, 0, 0, 0.3));\n",
              "      fill: #FFFFFF;\n",
              "    }\n",
              "  </style>\n",
              "\n",
              "    <script>\n",
              "      const buttonEl =\n",
              "        document.querySelector('#df-ca542f77-0344-4c21-9a5a-f1d3c40f1bc6 button.colab-df-convert');\n",
              "      buttonEl.style.display =\n",
              "        google.colab.kernel.accessAllowed ? 'block' : 'none';\n",
              "\n",
              "      async function convertToInteractive(key) {\n",
              "        const element = document.querySelector('#df-ca542f77-0344-4c21-9a5a-f1d3c40f1bc6');\n",
              "        const dataTable =\n",
              "          await google.colab.kernel.invokeFunction('convertToInteractive',\n",
              "                                                    [key], {});\n",
              "        if (!dataTable) return;\n",
              "\n",
              "        const docLinkHtml = 'Like what you see? Visit the ' +\n",
              "          '<a target=\"_blank\" href=https://colab.research.google.com/notebooks/data_table.ipynb>data table notebook</a>'\n",
              "          + ' to learn more about interactive tables.';\n",
              "        element.innerHTML = '';\n",
              "        dataTable['output_type'] = 'display_data';\n",
              "        await google.colab.output.renderOutput(dataTable, element);\n",
              "        const docLink = document.createElement('div');\n",
              "        docLink.innerHTML = docLinkHtml;\n",
              "        element.appendChild(docLink);\n",
              "      }\n",
              "    </script>\n",
              "  </div>\n",
              "\n",
              "\n",
              "<div id=\"df-ab5bc5cf-abf1-4651-8e5f-03e2ec95dfde\">\n",
              "  <button class=\"colab-df-quickchart\" onclick=\"quickchart('df-ab5bc5cf-abf1-4651-8e5f-03e2ec95dfde')\"\n",
              "            title=\"Suggest charts\"\n",
              "            style=\"display:none;\">\n",
              "\n",
              "<svg xmlns=\"http://www.w3.org/2000/svg\" height=\"24px\"viewBox=\"0 0 24 24\"\n",
              "     width=\"24px\">\n",
              "    <g>\n",
              "        <path d=\"M19 3H5c-1.1 0-2 .9-2 2v14c0 1.1.9 2 2 2h14c1.1 0 2-.9 2-2V5c0-1.1-.9-2-2-2zM9 17H7v-7h2v7zm4 0h-2V7h2v10zm4 0h-2v-4h2v4z\"/>\n",
              "    </g>\n",
              "</svg>\n",
              "  </button>\n",
              "\n",
              "<style>\n",
              "  .colab-df-quickchart {\n",
              "      --bg-color: #E8F0FE;\n",
              "      --fill-color: #1967D2;\n",
              "      --hover-bg-color: #E2EBFA;\n",
              "      --hover-fill-color: #174EA6;\n",
              "      --disabled-fill-color: #AAA;\n",
              "      --disabled-bg-color: #DDD;\n",
              "  }\n",
              "\n",
              "  [theme=dark] .colab-df-quickchart {\n",
              "      --bg-color: #3B4455;\n",
              "      --fill-color: #D2E3FC;\n",
              "      --hover-bg-color: #434B5C;\n",
              "      --hover-fill-color: #FFFFFF;\n",
              "      --disabled-bg-color: #3B4455;\n",
              "      --disabled-fill-color: #666;\n",
              "  }\n",
              "\n",
              "  .colab-df-quickchart {\n",
              "    background-color: var(--bg-color);\n",
              "    border: none;\n",
              "    border-radius: 50%;\n",
              "    cursor: pointer;\n",
              "    display: none;\n",
              "    fill: var(--fill-color);\n",
              "    height: 32px;\n",
              "    padding: 0;\n",
              "    width: 32px;\n",
              "  }\n",
              "\n",
              "  .colab-df-quickchart:hover {\n",
              "    background-color: var(--hover-bg-color);\n",
              "    box-shadow: 0 1px 2px rgba(60, 64, 67, 0.3), 0 1px 3px 1px rgba(60, 64, 67, 0.15);\n",
              "    fill: var(--button-hover-fill-color);\n",
              "  }\n",
              "\n",
              "  .colab-df-quickchart-complete:disabled,\n",
              "  .colab-df-quickchart-complete:disabled:hover {\n",
              "    background-color: var(--disabled-bg-color);\n",
              "    fill: var(--disabled-fill-color);\n",
              "    box-shadow: none;\n",
              "  }\n",
              "\n",
              "  .colab-df-spinner {\n",
              "    border: 2px solid var(--fill-color);\n",
              "    border-color: transparent;\n",
              "    border-bottom-color: var(--fill-color);\n",
              "    animation:\n",
              "      spin 1s steps(1) infinite;\n",
              "  }\n",
              "\n",
              "  @keyframes spin {\n",
              "    0% {\n",
              "      border-color: transparent;\n",
              "      border-bottom-color: var(--fill-color);\n",
              "      border-left-color: var(--fill-color);\n",
              "    }\n",
              "    20% {\n",
              "      border-color: transparent;\n",
              "      border-left-color: var(--fill-color);\n",
              "      border-top-color: var(--fill-color);\n",
              "    }\n",
              "    30% {\n",
              "      border-color: transparent;\n",
              "      border-left-color: var(--fill-color);\n",
              "      border-top-color: var(--fill-color);\n",
              "      border-right-color: var(--fill-color);\n",
              "    }\n",
              "    40% {\n",
              "      border-color: transparent;\n",
              "      border-right-color: var(--fill-color);\n",
              "      border-top-color: var(--fill-color);\n",
              "    }\n",
              "    60% {\n",
              "      border-color: transparent;\n",
              "      border-right-color: var(--fill-color);\n",
              "    }\n",
              "    80% {\n",
              "      border-color: transparent;\n",
              "      border-right-color: var(--fill-color);\n",
              "      border-bottom-color: var(--fill-color);\n",
              "    }\n",
              "    90% {\n",
              "      border-color: transparent;\n",
              "      border-bottom-color: var(--fill-color);\n",
              "    }\n",
              "  }\n",
              "</style>\n",
              "\n",
              "  <script>\n",
              "    async function quickchart(key) {\n",
              "      const quickchartButtonEl =\n",
              "        document.querySelector('#' + key + ' button');\n",
              "      quickchartButtonEl.disabled = true;  // To prevent multiple clicks.\n",
              "      quickchartButtonEl.classList.add('colab-df-spinner');\n",
              "      try {\n",
              "        const charts = await google.colab.kernel.invokeFunction(\n",
              "            'suggestCharts', [key], {});\n",
              "      } catch (error) {\n",
              "        console.error('Error during call to suggestCharts:', error);\n",
              "      }\n",
              "      quickchartButtonEl.classList.remove('colab-df-spinner');\n",
              "      quickchartButtonEl.classList.add('colab-df-quickchart-complete');\n",
              "    }\n",
              "    (() => {\n",
              "      let quickchartButtonEl =\n",
              "        document.querySelector('#df-ab5bc5cf-abf1-4651-8e5f-03e2ec95dfde button');\n",
              "      quickchartButtonEl.style.display =\n",
              "        google.colab.kernel.accessAllowed ? 'block' : 'none';\n",
              "    })();\n",
              "  </script>\n",
              "</div>\n",
              "    </div>\n",
              "  </div>\n"
            ]
          },
          "metadata": {},
          "execution_count": 199
        }
      ],
      "source": [
        "data_with_null.groupby('income_type').count()"
      ]
    },
    {
      "cell_type": "code",
      "execution_count": null,
      "id": "826cb9ea",
      "metadata": {
        "scrolled": true,
        "colab": {
          "base_uri": "https://localhost:8080/",
          "height": 238
        },
        "id": "826cb9ea",
        "outputId": "023a9473-eb8e-4a03-9693-62e107bf4405"
      },
      "outputs": [
        {
          "output_type": "execute_result",
          "data": {
            "text/plain": [
              "                 children  days_employed  dob_years  education  education_id  \\\n",
              "income_type                                                                    \n",
              "госслужащий           144              0        144        144           144   \n",
              "компаньон             497              0        497        497           497   \n",
              "пенсионер             383              0        383        383           383   \n",
              "предприниматель         1              0          1          1             1   \n",
              "сотрудник            1066              0       1066       1066          1066   \n",
              "\n",
              "                 family_status  family_status_id  gender  debt  total_income  \\\n",
              "income_type                                                                    \n",
              "госслужащий                144               144     144   144             0   \n",
              "компаньон                  497               497     497   497             0   \n",
              "пенсионер                  383               383     383   383             0   \n",
              "предприниматель              1                 1       1     1             0   \n",
              "сотрудник                 1066              1066    1066  1066             0   \n",
              "\n",
              "                 purpose  \n",
              "income_type               \n",
              "госслужащий          144  \n",
              "компаньон            497  \n",
              "пенсионер            383  \n",
              "предприниматель        1  \n",
              "сотрудник           1066  "
            ],
            "text/html": [
              "\n",
              "  <div id=\"df-d60ea740-fa68-4f2e-bfdd-913cbd4eb5d5\" class=\"colab-df-container\">\n",
              "    <div>\n",
              "<style scoped>\n",
              "    .dataframe tbody tr th:only-of-type {\n",
              "        vertical-align: middle;\n",
              "    }\n",
              "\n",
              "    .dataframe tbody tr th {\n",
              "        vertical-align: top;\n",
              "    }\n",
              "\n",
              "    .dataframe thead th {\n",
              "        text-align: right;\n",
              "    }\n",
              "</style>\n",
              "<table border=\"1\" class=\"dataframe\">\n",
              "  <thead>\n",
              "    <tr style=\"text-align: right;\">\n",
              "      <th></th>\n",
              "      <th>children</th>\n",
              "      <th>days_employed</th>\n",
              "      <th>dob_years</th>\n",
              "      <th>education</th>\n",
              "      <th>education_id</th>\n",
              "      <th>family_status</th>\n",
              "      <th>family_status_id</th>\n",
              "      <th>gender</th>\n",
              "      <th>debt</th>\n",
              "      <th>total_income</th>\n",
              "      <th>purpose</th>\n",
              "    </tr>\n",
              "    <tr>\n",
              "      <th>income_type</th>\n",
              "      <th></th>\n",
              "      <th></th>\n",
              "      <th></th>\n",
              "      <th></th>\n",
              "      <th></th>\n",
              "      <th></th>\n",
              "      <th></th>\n",
              "      <th></th>\n",
              "      <th></th>\n",
              "      <th></th>\n",
              "      <th></th>\n",
              "    </tr>\n",
              "  </thead>\n",
              "  <tbody>\n",
              "    <tr>\n",
              "      <th>госслужащий</th>\n",
              "      <td>144</td>\n",
              "      <td>0</td>\n",
              "      <td>144</td>\n",
              "      <td>144</td>\n",
              "      <td>144</td>\n",
              "      <td>144</td>\n",
              "      <td>144</td>\n",
              "      <td>144</td>\n",
              "      <td>144</td>\n",
              "      <td>0</td>\n",
              "      <td>144</td>\n",
              "    </tr>\n",
              "    <tr>\n",
              "      <th>компаньон</th>\n",
              "      <td>497</td>\n",
              "      <td>0</td>\n",
              "      <td>497</td>\n",
              "      <td>497</td>\n",
              "      <td>497</td>\n",
              "      <td>497</td>\n",
              "      <td>497</td>\n",
              "      <td>497</td>\n",
              "      <td>497</td>\n",
              "      <td>0</td>\n",
              "      <td>497</td>\n",
              "    </tr>\n",
              "    <tr>\n",
              "      <th>пенсионер</th>\n",
              "      <td>383</td>\n",
              "      <td>0</td>\n",
              "      <td>383</td>\n",
              "      <td>383</td>\n",
              "      <td>383</td>\n",
              "      <td>383</td>\n",
              "      <td>383</td>\n",
              "      <td>383</td>\n",
              "      <td>383</td>\n",
              "      <td>0</td>\n",
              "      <td>383</td>\n",
              "    </tr>\n",
              "    <tr>\n",
              "      <th>предприниматель</th>\n",
              "      <td>1</td>\n",
              "      <td>0</td>\n",
              "      <td>1</td>\n",
              "      <td>1</td>\n",
              "      <td>1</td>\n",
              "      <td>1</td>\n",
              "      <td>1</td>\n",
              "      <td>1</td>\n",
              "      <td>1</td>\n",
              "      <td>0</td>\n",
              "      <td>1</td>\n",
              "    </tr>\n",
              "    <tr>\n",
              "      <th>сотрудник</th>\n",
              "      <td>1066</td>\n",
              "      <td>0</td>\n",
              "      <td>1066</td>\n",
              "      <td>1066</td>\n",
              "      <td>1066</td>\n",
              "      <td>1066</td>\n",
              "      <td>1066</td>\n",
              "      <td>1066</td>\n",
              "      <td>1066</td>\n",
              "      <td>0</td>\n",
              "      <td>1066</td>\n",
              "    </tr>\n",
              "  </tbody>\n",
              "</table>\n",
              "</div>\n",
              "    <div class=\"colab-df-buttons\">\n",
              "\n",
              "  <div class=\"colab-df-container\">\n",
              "    <button class=\"colab-df-convert\" onclick=\"convertToInteractive('df-d60ea740-fa68-4f2e-bfdd-913cbd4eb5d5')\"\n",
              "            title=\"Convert this dataframe to an interactive table.\"\n",
              "            style=\"display:none;\">\n",
              "\n",
              "  <svg xmlns=\"http://www.w3.org/2000/svg\" height=\"24px\" viewBox=\"0 -960 960 960\">\n",
              "    <path d=\"M120-120v-720h720v720H120Zm60-500h600v-160H180v160Zm220 220h160v-160H400v160Zm0 220h160v-160H400v160ZM180-400h160v-160H180v160Zm440 0h160v-160H620v160ZM180-180h160v-160H180v160Zm440 0h160v-160H620v160Z\"/>\n",
              "  </svg>\n",
              "    </button>\n",
              "\n",
              "  <style>\n",
              "    .colab-df-container {\n",
              "      display:flex;\n",
              "      gap: 12px;\n",
              "    }\n",
              "\n",
              "    .colab-df-convert {\n",
              "      background-color: #E8F0FE;\n",
              "      border: none;\n",
              "      border-radius: 50%;\n",
              "      cursor: pointer;\n",
              "      display: none;\n",
              "      fill: #1967D2;\n",
              "      height: 32px;\n",
              "      padding: 0 0 0 0;\n",
              "      width: 32px;\n",
              "    }\n",
              "\n",
              "    .colab-df-convert:hover {\n",
              "      background-color: #E2EBFA;\n",
              "      box-shadow: 0px 1px 2px rgba(60, 64, 67, 0.3), 0px 1px 3px 1px rgba(60, 64, 67, 0.15);\n",
              "      fill: #174EA6;\n",
              "    }\n",
              "\n",
              "    .colab-df-buttons div {\n",
              "      margin-bottom: 4px;\n",
              "    }\n",
              "\n",
              "    [theme=dark] .colab-df-convert {\n",
              "      background-color: #3B4455;\n",
              "      fill: #D2E3FC;\n",
              "    }\n",
              "\n",
              "    [theme=dark] .colab-df-convert:hover {\n",
              "      background-color: #434B5C;\n",
              "      box-shadow: 0px 1px 3px 1px rgba(0, 0, 0, 0.15);\n",
              "      filter: drop-shadow(0px 1px 2px rgba(0, 0, 0, 0.3));\n",
              "      fill: #FFFFFF;\n",
              "    }\n",
              "  </style>\n",
              "\n",
              "    <script>\n",
              "      const buttonEl =\n",
              "        document.querySelector('#df-d60ea740-fa68-4f2e-bfdd-913cbd4eb5d5 button.colab-df-convert');\n",
              "      buttonEl.style.display =\n",
              "        google.colab.kernel.accessAllowed ? 'block' : 'none';\n",
              "\n",
              "      async function convertToInteractive(key) {\n",
              "        const element = document.querySelector('#df-d60ea740-fa68-4f2e-bfdd-913cbd4eb5d5');\n",
              "        const dataTable =\n",
              "          await google.colab.kernel.invokeFunction('convertToInteractive',\n",
              "                                                    [key], {});\n",
              "        if (!dataTable) return;\n",
              "\n",
              "        const docLinkHtml = 'Like what you see? Visit the ' +\n",
              "          '<a target=\"_blank\" href=https://colab.research.google.com/notebooks/data_table.ipynb>data table notebook</a>'\n",
              "          + ' to learn more about interactive tables.';\n",
              "        element.innerHTML = '';\n",
              "        dataTable['output_type'] = 'display_data';\n",
              "        await google.colab.output.renderOutput(dataTable, element);\n",
              "        const docLink = document.createElement('div');\n",
              "        docLink.innerHTML = docLinkHtml;\n",
              "        element.appendChild(docLink);\n",
              "      }\n",
              "    </script>\n",
              "  </div>\n",
              "\n",
              "\n",
              "<div id=\"df-6e61d4ee-8a85-4480-a4ba-48314326ee92\">\n",
              "  <button class=\"colab-df-quickchart\" onclick=\"quickchart('df-6e61d4ee-8a85-4480-a4ba-48314326ee92')\"\n",
              "            title=\"Suggest charts\"\n",
              "            style=\"display:none;\">\n",
              "\n",
              "<svg xmlns=\"http://www.w3.org/2000/svg\" height=\"24px\"viewBox=\"0 0 24 24\"\n",
              "     width=\"24px\">\n",
              "    <g>\n",
              "        <path d=\"M19 3H5c-1.1 0-2 .9-2 2v14c0 1.1.9 2 2 2h14c1.1 0 2-.9 2-2V5c0-1.1-.9-2-2-2zM9 17H7v-7h2v7zm4 0h-2V7h2v10zm4 0h-2v-4h2v4z\"/>\n",
              "    </g>\n",
              "</svg>\n",
              "  </button>\n",
              "\n",
              "<style>\n",
              "  .colab-df-quickchart {\n",
              "      --bg-color: #E8F0FE;\n",
              "      --fill-color: #1967D2;\n",
              "      --hover-bg-color: #E2EBFA;\n",
              "      --hover-fill-color: #174EA6;\n",
              "      --disabled-fill-color: #AAA;\n",
              "      --disabled-bg-color: #DDD;\n",
              "  }\n",
              "\n",
              "  [theme=dark] .colab-df-quickchart {\n",
              "      --bg-color: #3B4455;\n",
              "      --fill-color: #D2E3FC;\n",
              "      --hover-bg-color: #434B5C;\n",
              "      --hover-fill-color: #FFFFFF;\n",
              "      --disabled-bg-color: #3B4455;\n",
              "      --disabled-fill-color: #666;\n",
              "  }\n",
              "\n",
              "  .colab-df-quickchart {\n",
              "    background-color: var(--bg-color);\n",
              "    border: none;\n",
              "    border-radius: 50%;\n",
              "    cursor: pointer;\n",
              "    display: none;\n",
              "    fill: var(--fill-color);\n",
              "    height: 32px;\n",
              "    padding: 0;\n",
              "    width: 32px;\n",
              "  }\n",
              "\n",
              "  .colab-df-quickchart:hover {\n",
              "    background-color: var(--hover-bg-color);\n",
              "    box-shadow: 0 1px 2px rgba(60, 64, 67, 0.3), 0 1px 3px 1px rgba(60, 64, 67, 0.15);\n",
              "    fill: var(--button-hover-fill-color);\n",
              "  }\n",
              "\n",
              "  .colab-df-quickchart-complete:disabled,\n",
              "  .colab-df-quickchart-complete:disabled:hover {\n",
              "    background-color: var(--disabled-bg-color);\n",
              "    fill: var(--disabled-fill-color);\n",
              "    box-shadow: none;\n",
              "  }\n",
              "\n",
              "  .colab-df-spinner {\n",
              "    border: 2px solid var(--fill-color);\n",
              "    border-color: transparent;\n",
              "    border-bottom-color: var(--fill-color);\n",
              "    animation:\n",
              "      spin 1s steps(1) infinite;\n",
              "  }\n",
              "\n",
              "  @keyframes spin {\n",
              "    0% {\n",
              "      border-color: transparent;\n",
              "      border-bottom-color: var(--fill-color);\n",
              "      border-left-color: var(--fill-color);\n",
              "    }\n",
              "    20% {\n",
              "      border-color: transparent;\n",
              "      border-left-color: var(--fill-color);\n",
              "      border-top-color: var(--fill-color);\n",
              "    }\n",
              "    30% {\n",
              "      border-color: transparent;\n",
              "      border-left-color: var(--fill-color);\n",
              "      border-top-color: var(--fill-color);\n",
              "      border-right-color: var(--fill-color);\n",
              "    }\n",
              "    40% {\n",
              "      border-color: transparent;\n",
              "      border-right-color: var(--fill-color);\n",
              "      border-top-color: var(--fill-color);\n",
              "    }\n",
              "    60% {\n",
              "      border-color: transparent;\n",
              "      border-right-color: var(--fill-color);\n",
              "    }\n",
              "    80% {\n",
              "      border-color: transparent;\n",
              "      border-right-color: var(--fill-color);\n",
              "      border-bottom-color: var(--fill-color);\n",
              "    }\n",
              "    90% {\n",
              "      border-color: transparent;\n",
              "      border-bottom-color: var(--fill-color);\n",
              "    }\n",
              "  }\n",
              "</style>\n",
              "\n",
              "  <script>\n",
              "    async function quickchart(key) {\n",
              "      const quickchartButtonEl =\n",
              "        document.querySelector('#' + key + ' button');\n",
              "      quickchartButtonEl.disabled = true;  // To prevent multiple clicks.\n",
              "      quickchartButtonEl.classList.add('colab-df-spinner');\n",
              "      try {\n",
              "        const charts = await google.colab.kernel.invokeFunction(\n",
              "            'suggestCharts', [key], {});\n",
              "      } catch (error) {\n",
              "        console.error('Error during call to suggestCharts:', error);\n",
              "      }\n",
              "      quickchartButtonEl.classList.remove('colab-df-spinner');\n",
              "      quickchartButtonEl.classList.add('colab-df-quickchart-complete');\n",
              "    }\n",
              "    (() => {\n",
              "      let quickchartButtonEl =\n",
              "        document.querySelector('#df-6e61d4ee-8a85-4480-a4ba-48314326ee92 button');\n",
              "      quickchartButtonEl.style.display =\n",
              "        google.colab.kernel.accessAllowed ? 'block' : 'none';\n",
              "    })();\n",
              "  </script>\n",
              "</div>\n",
              "    </div>\n",
              "  </div>\n"
            ]
          },
          "metadata": {},
          "execution_count": 200
        }
      ],
      "source": [
        "data_with_null[data_with_null['total_income'].isna()].groupby('income_type').count()"
      ]
    },
    {
      "cell_type": "markdown",
      "id": "d06e514d",
      "metadata": {
        "id": "d06e514d"
      },
      "source": [
        "Пропущенные знвчения составляют около 10% от общего числа записей. При этом пропуски в столбцах 'days_employed' и 'total_income' находятся в одних и тех же строках, а также отчасти зависят друг от друга.  <br />    При этом, если изучть количество пропуков по каждому типу занятости, то заметно, что отсутствующие данные в каждой группе также составляют 10%. <br /   > Допускаю несколько возможных причин возникновения пропусков. <br />   \n",
        "       1. Так как данные отсутствуют \"равномерно\" по всем категориям, необходимо проверить источник их получения. Возможно, данные хранились с разным форматированием (разное название колонок или порядок их расположения) и это не было выявлено при их объединении, что привело к потере части информации.\n",
        "    <br />2. В случае, если при заполнении информации в системе не стоит проверка на обязательность заполнения ячейки, данная информация могла быть пропущена кредитным менеджером. Но в связи с достаточно высоким процентом пропусков данный вариант считаю маловероятным.  </font>\n"
      ]
    },
    {
      "cell_type": "markdown",
      "id": "94d14759",
      "metadata": {
        "deletable": false,
        "editable": false,
        "id": "94d14759"
      },
      "source": [
        "### 6. Объясните, почему заполнить пропуски медианным значением — лучшее решение для количественных переменных."
      ]
    },
    {
      "cell_type": "markdown",
      "id": "f8fee496",
      "metadata": {
        "deletable": false,
        "id": "f8fee496"
      },
      "source": [
        "Заполнение пропусков медианными значениями подходит в случае неравномерного распределения данных и позволяет определить центральное значение данных. Если в данных наблюдаются \"выбросы\", то даже небольшое их количество может сильно \"перетягивать\" среднее значение в большую или меньшую сторону. Среднее арифметическое подходит в случае нормального распределения данных."
      ]
    },
    {
      "cell_type": "markdown",
      "id": "55fab2c3",
      "metadata": {
        "deletable": false,
        "editable": false,
        "id": "55fab2c3"
      },
      "source": [
        "## Общий вывод"
      ]
    },
    {
      "cell_type": "markdown",
      "id": "10a75d8c",
      "metadata": {
        "deletable": false,
        "id": "10a75d8c"
      },
      "source": [
        "Удаление небольшого количества аномальных значений в столбце children было оправдано из-за их невозможности коррекции или восстановления. Это решение улучшило качество данных, минимизировав искажение общей картины.\n",
        "\n",
        "Было также замечено, что процентное распределение по типам дохода среди пропущенных значений не показывает значительного отклонения от общего распределения в датасете. Это указывает на отсутствие явной зависимости пропусков от типа занятости. В результате, было принято решение заполнить пропущенные значения медианными значениями по типам дохода.\n",
        "\n",
        "В процессе предварительной обработки данных были устранены аномалии, стандартизирована информация об образовании, удалены дубликаты и скорректированы пропуски, что увеличило точность анализа.\n",
        "\n",
        "Пропуски в данных, особенно в столбцах 'days_employed' и 'total_income', вероятно, связаны с несовершенствами в процессе сбора данных или его техническими аспектами. Подход к заполнению этих пропусков медианными значениями является разумным, но следует помнить, что это может влиять на интерпретацию результатов.\n",
        "\n",
        "Анализ данных показал, что предположение о свзи количества детей и возврата кредитов в срок частично подтверждено. <u>Более склонны к нарушению сроков</u> выплаты кредитов заемщики, имеющие <u>одного (<b>9,2%</b>) или двух (<b>9,5%</b>) детей</u> чем заемщики без детей (<b>7,5%</b>).\n",
        "\n",
        "Также, можно утверждать о наличии связи между семейным положением и своевременным возвратом кредита. <u>Заемщики не состоящие в браке или проживающие в гражданском браке чаще допускают просрочки по выплатам (<b>9,8% и 9,3%</b>), чем замужние/женатые клиенты(<b>7,6%</b>)</u>.\n",
        "\n",
        "При этом для однозначного вывода по взаимосвязи уровня дохода и нарушению сроков выплат необходимо больше данных по таким группам с доходами менее 30.000 рублей. Для нее характерна высокая доля просрочки - <b>9,1%</b>, при этом общее число заемщиков в данной категории менее <b>1,0%</b>. Клиенты с доходом от 100.001 до 200.000 также имеют высокий показатель несвоевременной выплаты долга (<b>8,6%</b>). Наиболее надежными можно считать клиентов, с уровнем дохода 200.001 - 1.000.000 руб. (<b>7,1%</b>).\n",
        "\n",
        "<u>Доля задолженностей по кредитам на образование (<b>9,3%</b>) и автокредитам (<b>9,3%</b>) значтельно превышает аналогичный показатель по кредитам на недвижимость (<b>7,3%</b>) и проведение свадеб (<b>7,9%</b>)</u>.\n",
        "\n",
        "Высокий процент просрочек по кредитам на автомобили и образование может отражать различные социально-экономические факторы, влияющие на эти категории заемщиков.\n",
        "\n",
        "\n",
        "\n"
      ]
    }
  ],
  "metadata": {
    "ExecuteTimeLog": [
      {
        "duration": 45,
        "start_time": "2022-10-24T09:20:18.983Z"
      },
      {
        "duration": 427,
        "start_time": "2022-10-24T09:20:36.441Z"
      },
      {
        "duration": 22,
        "start_time": "2022-10-24T09:20:40.699Z"
      },
      {
        "duration": 1490,
        "start_time": "2022-10-25T10:17:26.710Z"
      },
      {
        "duration": 20,
        "start_time": "2022-10-25T10:17:33.273Z"
      },
      {
        "duration": 16,
        "start_time": "2022-10-25T10:17:40.757Z"
      },
      {
        "duration": 13,
        "start_time": "2022-10-25T10:17:43.242Z"
      },
      {
        "duration": 35,
        "start_time": "2022-10-25T10:17:46.940Z"
      },
      {
        "duration": 4,
        "start_time": "2022-10-25T10:17:49.276Z"
      },
      {
        "duration": 8,
        "start_time": "2022-10-25T10:17:51.384Z"
      },
      {
        "duration": 5,
        "start_time": "2022-10-25T10:17:55.912Z"
      },
      {
        "duration": 8,
        "start_time": "2022-10-25T10:17:58.576Z"
      },
      {
        "duration": 5,
        "start_time": "2022-10-25T10:18:00.761Z"
      },
      {
        "duration": 39,
        "start_time": "2022-10-25T10:18:06.107Z"
      },
      {
        "duration": 13,
        "start_time": "2022-10-25T10:18:08.321Z"
      },
      {
        "duration": 4,
        "start_time": "2022-10-25T10:18:11.393Z"
      },
      {
        "duration": 11,
        "start_time": "2022-10-25T10:18:13.760Z"
      },
      {
        "duration": 21,
        "start_time": "2022-10-25T10:18:15.876Z"
      },
      {
        "duration": 19,
        "start_time": "2022-10-25T10:18:17.739Z"
      },
      {
        "duration": 4,
        "start_time": "2022-10-25T10:18:20.577Z"
      },
      {
        "duration": 10,
        "start_time": "2022-10-25T10:18:22.699Z"
      },
      {
        "duration": 7,
        "start_time": "2022-10-25T10:18:25.369Z"
      },
      {
        "duration": 4,
        "start_time": "2022-10-25T10:18:27.780Z"
      },
      {
        "duration": 9,
        "start_time": "2022-10-25T10:18:29.515Z"
      },
      {
        "duration": 141,
        "start_time": "2022-10-25T10:20:08.237Z"
      },
      {
        "duration": 10,
        "start_time": "2022-10-25T10:20:22.538Z"
      },
      {
        "duration": 5,
        "start_time": "2022-10-25T10:21:27.900Z"
      },
      {
        "duration": 5,
        "start_time": "2022-10-25T10:21:32.203Z"
      },
      {
        "duration": 6,
        "start_time": "2022-10-25T10:21:42.617Z"
      },
      {
        "duration": 4,
        "start_time": "2022-10-25T10:21:54.632Z"
      },
      {
        "duration": 3,
        "start_time": "2022-10-25T10:35:45.965Z"
      },
      {
        "duration": 5,
        "start_time": "2022-10-25T10:35:56.087Z"
      },
      {
        "duration": 1332,
        "start_time": "2022-10-25T11:28:55.140Z"
      },
      {
        "duration": 1145,
        "start_time": "2022-10-25T11:29:32.160Z"
      },
      {
        "duration": 87,
        "start_time": "2022-10-25T11:29:48.326Z"
      },
      {
        "duration": 16,
        "start_time": "2022-10-25T11:29:50.715Z"
      },
      {
        "duration": 15,
        "start_time": "2022-10-25T11:29:54.859Z"
      },
      {
        "duration": 11,
        "start_time": "2022-10-25T11:30:28.915Z"
      },
      {
        "duration": 72,
        "start_time": "2022-10-25T11:30:35.550Z"
      },
      {
        "duration": 15,
        "start_time": "2022-10-25T11:30:37.341Z"
      },
      {
        "duration": 15,
        "start_time": "2022-10-25T11:30:39.715Z"
      },
      {
        "duration": 11,
        "start_time": "2022-10-25T11:30:42.807Z"
      },
      {
        "duration": 32,
        "start_time": "2022-10-25T11:30:44.979Z"
      },
      {
        "duration": 4,
        "start_time": "2022-10-25T11:30:46.969Z"
      },
      {
        "duration": 7,
        "start_time": "2022-10-25T11:30:48.839Z"
      },
      {
        "duration": 5,
        "start_time": "2022-10-25T11:30:52.484Z"
      },
      {
        "duration": 6,
        "start_time": "2022-10-25T11:30:54.957Z"
      },
      {
        "duration": 5,
        "start_time": "2022-10-25T11:30:57.440Z"
      },
      {
        "duration": 35,
        "start_time": "2022-10-25T11:31:00.167Z"
      },
      {
        "duration": 10,
        "start_time": "2022-10-25T11:31:02.419Z"
      },
      {
        "duration": 3,
        "start_time": "2022-10-25T11:31:06.473Z"
      },
      {
        "duration": 17,
        "start_time": "2022-10-25T11:31:08.388Z"
      },
      {
        "duration": 19,
        "start_time": "2022-10-25T11:31:10.594Z"
      },
      {
        "duration": 23,
        "start_time": "2022-10-25T11:31:13.203Z"
      },
      {
        "duration": 5,
        "start_time": "2022-10-25T11:31:15.753Z"
      },
      {
        "duration": 12,
        "start_time": "2022-10-25T11:31:16.532Z"
      },
      {
        "duration": 9,
        "start_time": "2022-10-25T11:31:19.266Z"
      },
      {
        "duration": 3,
        "start_time": "2022-10-25T11:31:22.224Z"
      },
      {
        "duration": 11,
        "start_time": "2022-10-25T11:31:24.611Z"
      },
      {
        "duration": 14,
        "start_time": "2022-10-25T11:31:27.871Z"
      },
      {
        "duration": 346,
        "start_time": "2022-10-25T11:32:18.242Z"
      },
      {
        "duration": 7,
        "start_time": "2022-10-25T11:32:59.841Z"
      },
      {
        "duration": 13,
        "start_time": "2022-10-25T11:33:08.002Z"
      },
      {
        "duration": 11,
        "start_time": "2022-10-25T11:34:29.357Z"
      },
      {
        "duration": 10,
        "start_time": "2022-10-25T11:35:03.161Z"
      },
      {
        "duration": 286,
        "start_time": "2022-10-25T11:35:26.017Z"
      },
      {
        "duration": 23,
        "start_time": "2022-10-25T11:37:58.458Z"
      },
      {
        "duration": 1402,
        "start_time": "2022-10-25T11:41:22.499Z"
      },
      {
        "duration": 11,
        "start_time": "2022-10-25T11:41:46.830Z"
      },
      {
        "duration": 13,
        "start_time": "2022-10-25T11:46:25.541Z"
      },
      {
        "duration": 11,
        "start_time": "2022-10-25T11:46:44.291Z"
      },
      {
        "duration": 13,
        "start_time": "2022-10-25T11:47:19.995Z"
      },
      {
        "duration": 14,
        "start_time": "2022-10-25T11:47:44.394Z"
      },
      {
        "duration": 16,
        "start_time": "2022-10-25T11:48:16.196Z"
      },
      {
        "duration": 12,
        "start_time": "2022-10-25T11:48:25.048Z"
      },
      {
        "duration": 14,
        "start_time": "2022-10-25T11:48:58.665Z"
      },
      {
        "duration": 13,
        "start_time": "2022-10-25T11:49:26.176Z"
      },
      {
        "duration": 11,
        "start_time": "2022-10-25T11:49:39.471Z"
      },
      {
        "duration": 7,
        "start_time": "2022-10-25T11:50:36.728Z"
      },
      {
        "duration": 14,
        "start_time": "2022-10-25T11:50:45.096Z"
      },
      {
        "duration": 7,
        "start_time": "2022-10-25T12:03:17.499Z"
      },
      {
        "duration": 12,
        "start_time": "2022-10-25T12:03:23.828Z"
      },
      {
        "duration": 11,
        "start_time": "2022-10-25T12:03:42.317Z"
      },
      {
        "duration": 12,
        "start_time": "2022-10-25T12:03:54.639Z"
      },
      {
        "duration": 12,
        "start_time": "2022-10-25T12:04:04.494Z"
      },
      {
        "duration": 11,
        "start_time": "2022-10-25T12:04:22.227Z"
      },
      {
        "duration": 9,
        "start_time": "2022-10-25T12:04:33.513Z"
      },
      {
        "duration": 10,
        "start_time": "2022-10-25T12:04:41.063Z"
      },
      {
        "duration": 88,
        "start_time": "2022-10-25T12:05:57.079Z"
      },
      {
        "duration": 9,
        "start_time": "2022-10-25T12:06:02.481Z"
      },
      {
        "duration": 10,
        "start_time": "2022-10-25T12:06:18.904Z"
      },
      {
        "duration": 11,
        "start_time": "2022-10-25T12:06:42.494Z"
      },
      {
        "duration": 1163,
        "start_time": "2022-10-25T12:10:55.649Z"
      },
      {
        "duration": 1312,
        "start_time": "2022-10-25T12:11:44.973Z"
      },
      {
        "duration": 1229,
        "start_time": "2022-10-25T12:12:52.031Z"
      },
      {
        "duration": 12,
        "start_time": "2022-10-25T12:13:31.302Z"
      },
      {
        "duration": 196,
        "start_time": "2022-10-25T12:20:33.873Z"
      },
      {
        "duration": 12,
        "start_time": "2022-10-25T12:20:46.253Z"
      },
      {
        "duration": 12,
        "start_time": "2022-10-25T12:23:48.489Z"
      },
      {
        "duration": 28,
        "start_time": "2022-10-25T12:27:19.717Z"
      },
      {
        "duration": 10,
        "start_time": "2022-10-25T12:27:34.704Z"
      },
      {
        "duration": 32,
        "start_time": "2022-10-25T12:27:52.658Z"
      },
      {
        "duration": 38,
        "start_time": "2022-10-25T12:27:58.376Z"
      },
      {
        "duration": 29,
        "start_time": "2022-10-25T12:28:16.049Z"
      },
      {
        "duration": 32,
        "start_time": "2022-10-25T12:29:09.689Z"
      },
      {
        "duration": 29,
        "start_time": "2022-10-25T12:29:17.422Z"
      },
      {
        "duration": 34,
        "start_time": "2022-10-25T12:32:22.954Z"
      },
      {
        "duration": 0,
        "start_time": "2022-10-25T12:35:15.702Z"
      },
      {
        "duration": 32,
        "start_time": "2022-10-25T12:38:46.540Z"
      },
      {
        "duration": 34,
        "start_time": "2022-10-25T12:39:25.774Z"
      },
      {
        "duration": 6,
        "start_time": "2022-10-25T12:41:12.605Z"
      },
      {
        "duration": 8,
        "start_time": "2022-10-25T12:41:21.655Z"
      },
      {
        "duration": 11,
        "start_time": "2022-10-25T12:43:25.019Z"
      },
      {
        "duration": 13,
        "start_time": "2022-10-25T12:43:39.710Z"
      },
      {
        "duration": 26,
        "start_time": "2022-10-25T13:00:29.821Z"
      },
      {
        "duration": 11,
        "start_time": "2022-10-25T13:00:47.135Z"
      },
      {
        "duration": 13,
        "start_time": "2022-10-25T13:01:36.844Z"
      },
      {
        "duration": 32,
        "start_time": "2022-10-25T13:02:51.877Z"
      },
      {
        "duration": 5,
        "start_time": "2022-10-25T13:04:48.210Z"
      },
      {
        "duration": 9,
        "start_time": "2022-10-25T13:08:44.965Z"
      },
      {
        "duration": 25,
        "start_time": "2022-10-25T13:09:12.832Z"
      },
      {
        "duration": 10,
        "start_time": "2022-10-25T13:09:15.833Z"
      },
      {
        "duration": 26,
        "start_time": "2022-10-25T13:09:29.092Z"
      },
      {
        "duration": 8,
        "start_time": "2022-10-25T13:09:30.456Z"
      },
      {
        "duration": 31,
        "start_time": "2022-10-25T13:09:38.807Z"
      },
      {
        "duration": 13,
        "start_time": "2022-10-25T13:09:40.173Z"
      },
      {
        "duration": 15,
        "start_time": "2022-10-25T13:10:01.258Z"
      },
      {
        "duration": 27,
        "start_time": "2022-10-25T13:10:25.707Z"
      },
      {
        "duration": 15,
        "start_time": "2022-10-25T13:14:30.479Z"
      },
      {
        "duration": 10,
        "start_time": "2022-10-25T13:18:52.738Z"
      },
      {
        "duration": 32,
        "start_time": "2022-10-25T13:19:11.299Z"
      },
      {
        "duration": 57,
        "start_time": "2022-10-25T13:21:48.476Z"
      },
      {
        "duration": 40,
        "start_time": "2022-10-25T13:22:44.404Z"
      },
      {
        "duration": 21,
        "start_time": "2022-10-25T13:26:24.639Z"
      },
      {
        "duration": 23,
        "start_time": "2022-10-25T13:28:11.957Z"
      },
      {
        "duration": 25,
        "start_time": "2022-10-25T13:28:16.966Z"
      },
      {
        "duration": 20,
        "start_time": "2022-10-25T13:28:19.386Z"
      },
      {
        "duration": 22,
        "start_time": "2022-10-25T13:28:36.295Z"
      },
      {
        "duration": 25,
        "start_time": "2022-10-25T13:29:11.604Z"
      },
      {
        "duration": 41,
        "start_time": "2022-10-25T13:29:30.666Z"
      },
      {
        "duration": 24,
        "start_time": "2022-10-25T13:29:36.333Z"
      },
      {
        "duration": 20,
        "start_time": "2022-10-25T13:29:39.000Z"
      },
      {
        "duration": 39,
        "start_time": "2022-10-25T13:31:10.943Z"
      },
      {
        "duration": 38,
        "start_time": "2022-10-25T13:31:24.683Z"
      },
      {
        "duration": 20,
        "start_time": "2022-10-25T13:31:27.389Z"
      },
      {
        "duration": 69,
        "start_time": "2022-10-25T13:33:07.815Z"
      },
      {
        "duration": 56,
        "start_time": "2022-10-25T13:33:13.733Z"
      },
      {
        "duration": 47,
        "start_time": "2022-10-25T13:54:11.743Z"
      },
      {
        "duration": 10,
        "start_time": "2022-10-25T13:54:21.051Z"
      },
      {
        "duration": 38,
        "start_time": "2022-10-25T13:54:29.035Z"
      },
      {
        "duration": 13,
        "start_time": "2022-10-25T13:54:58.177Z"
      },
      {
        "duration": 14,
        "start_time": "2022-10-25T13:55:24.159Z"
      },
      {
        "duration": 44,
        "start_time": "2022-10-25T13:55:25.173Z"
      },
      {
        "duration": 38,
        "start_time": "2022-10-25T14:08:55.081Z"
      },
      {
        "duration": 53,
        "start_time": "2022-10-25T14:09:10.355Z"
      },
      {
        "duration": 37,
        "start_time": "2022-10-25T14:09:15.410Z"
      },
      {
        "duration": 41,
        "start_time": "2022-10-25T14:09:18.916Z"
      },
      {
        "duration": 39,
        "start_time": "2022-10-25T14:09:30.074Z"
      },
      {
        "duration": 38,
        "start_time": "2022-10-25T14:09:45.422Z"
      },
      {
        "duration": 1645,
        "start_time": "2022-10-25T17:23:00.361Z"
      },
      {
        "duration": 19,
        "start_time": "2022-10-25T17:23:02.009Z"
      },
      {
        "duration": 21,
        "start_time": "2022-10-25T17:23:02.030Z"
      },
      {
        "duration": 14,
        "start_time": "2022-10-25T17:23:02.052Z"
      },
      {
        "duration": 48,
        "start_time": "2022-10-25T17:23:02.069Z"
      },
      {
        "duration": 3,
        "start_time": "2022-10-25T17:23:02.119Z"
      },
      {
        "duration": 22,
        "start_time": "2022-10-25T17:23:02.124Z"
      },
      {
        "duration": 8,
        "start_time": "2022-10-25T17:23:02.148Z"
      },
      {
        "duration": 12,
        "start_time": "2022-10-25T17:23:02.157Z"
      },
      {
        "duration": 7,
        "start_time": "2022-10-25T17:23:02.171Z"
      },
      {
        "duration": 38,
        "start_time": "2022-10-25T17:23:02.180Z"
      },
      {
        "duration": 10,
        "start_time": "2022-10-25T17:23:02.220Z"
      },
      {
        "duration": 7,
        "start_time": "2022-10-25T17:23:02.232Z"
      },
      {
        "duration": 22,
        "start_time": "2022-10-25T17:23:02.242Z"
      },
      {
        "duration": 20,
        "start_time": "2022-10-25T17:23:02.266Z"
      },
      {
        "duration": 30,
        "start_time": "2022-10-25T17:23:02.288Z"
      },
      {
        "duration": 4,
        "start_time": "2022-10-25T17:23:02.319Z"
      },
      {
        "duration": 13,
        "start_time": "2022-10-25T17:23:02.324Z"
      },
      {
        "duration": 18,
        "start_time": "2022-10-25T17:23:02.339Z"
      },
      {
        "duration": 20,
        "start_time": "2022-10-25T17:23:02.359Z"
      },
      {
        "duration": 20,
        "start_time": "2022-10-25T17:23:02.380Z"
      },
      {
        "duration": 55,
        "start_time": "2022-10-25T17:23:02.402Z"
      },
      {
        "duration": 22,
        "start_time": "2022-10-25T17:23:02.459Z"
      },
      {
        "duration": 19,
        "start_time": "2022-10-25T17:23:02.483Z"
      },
      {
        "duration": 48,
        "start_time": "2022-10-25T17:23:02.504Z"
      },
      {
        "duration": 13,
        "start_time": "2022-10-25T17:23:02.554Z"
      },
      {
        "duration": 57,
        "start_time": "2022-10-25T17:23:02.569Z"
      },
      {
        "duration": 46,
        "start_time": "2022-10-25T17:23:02.628Z"
      },
      {
        "duration": 93,
        "start_time": "2022-10-25T17:23:09.995Z"
      },
      {
        "duration": 15,
        "start_time": "2022-10-25T17:23:10.089Z"
      },
      {
        "duration": 29,
        "start_time": "2022-10-25T17:23:10.109Z"
      },
      {
        "duration": 23,
        "start_time": "2022-10-25T17:23:10.140Z"
      },
      {
        "duration": 34,
        "start_time": "2022-10-25T17:23:10.164Z"
      },
      {
        "duration": 3,
        "start_time": "2022-10-25T17:23:10.200Z"
      },
      {
        "duration": 11,
        "start_time": "2022-10-25T17:23:10.205Z"
      },
      {
        "duration": 12,
        "start_time": "2022-10-25T17:23:10.217Z"
      },
      {
        "duration": 12,
        "start_time": "2022-10-25T17:23:10.230Z"
      },
      {
        "duration": 12,
        "start_time": "2022-10-25T17:23:10.245Z"
      },
      {
        "duration": 41,
        "start_time": "2022-10-25T17:23:10.259Z"
      },
      {
        "duration": 10,
        "start_time": "2022-10-25T17:23:10.301Z"
      },
      {
        "duration": 4,
        "start_time": "2022-10-25T17:23:10.313Z"
      },
      {
        "duration": 12,
        "start_time": "2022-10-25T17:23:10.319Z"
      },
      {
        "duration": 20,
        "start_time": "2022-10-25T17:23:10.333Z"
      },
      {
        "duration": 17,
        "start_time": "2022-10-25T17:23:10.354Z"
      },
      {
        "duration": 3,
        "start_time": "2022-10-25T17:23:10.372Z"
      },
      {
        "duration": 38,
        "start_time": "2022-10-25T17:23:10.376Z"
      },
      {
        "duration": 12,
        "start_time": "2022-10-25T17:23:10.416Z"
      },
      {
        "duration": 12,
        "start_time": "2022-10-25T17:23:10.429Z"
      },
      {
        "duration": 21,
        "start_time": "2022-10-25T17:23:10.442Z"
      },
      {
        "duration": 49,
        "start_time": "2022-10-25T17:23:10.464Z"
      },
      {
        "duration": 23,
        "start_time": "2022-10-25T17:23:10.514Z"
      },
      {
        "duration": 19,
        "start_time": "2022-10-25T17:23:10.538Z"
      },
      {
        "duration": 56,
        "start_time": "2022-10-25T17:23:10.558Z"
      },
      {
        "duration": 12,
        "start_time": "2022-10-25T17:23:10.615Z"
      },
      {
        "duration": 42,
        "start_time": "2022-10-25T17:23:10.629Z"
      },
      {
        "duration": 49,
        "start_time": "2022-10-25T17:23:10.674Z"
      },
      {
        "duration": 17,
        "start_time": "2022-10-25T17:29:19.052Z"
      },
      {
        "duration": 76,
        "start_time": "2022-10-25T17:29:24.053Z"
      },
      {
        "duration": 16,
        "start_time": "2022-10-25T17:29:26.346Z"
      },
      {
        "duration": 71,
        "start_time": "2022-10-25T17:30:03.505Z"
      },
      {
        "duration": 14,
        "start_time": "2022-10-25T17:30:03.578Z"
      },
      {
        "duration": 28,
        "start_time": "2022-10-25T17:30:03.593Z"
      },
      {
        "duration": 18,
        "start_time": "2022-10-25T17:30:03.623Z"
      },
      {
        "duration": 57,
        "start_time": "2022-10-25T17:30:03.643Z"
      },
      {
        "duration": 4,
        "start_time": "2022-10-25T17:30:03.701Z"
      },
      {
        "duration": 31,
        "start_time": "2022-10-25T17:30:03.706Z"
      },
      {
        "duration": 4,
        "start_time": "2022-10-25T17:30:03.739Z"
      },
      {
        "duration": 9,
        "start_time": "2022-10-25T17:30:03.745Z"
      },
      {
        "duration": 7,
        "start_time": "2022-10-25T17:30:03.755Z"
      },
      {
        "duration": 38,
        "start_time": "2022-10-25T17:30:03.764Z"
      },
      {
        "duration": 22,
        "start_time": "2022-10-25T17:30:03.803Z"
      },
      {
        "duration": 27,
        "start_time": "2022-10-25T17:30:03.826Z"
      },
      {
        "duration": 14,
        "start_time": "2022-10-25T17:30:03.856Z"
      },
      {
        "duration": 20,
        "start_time": "2022-10-25T17:30:03.872Z"
      },
      {
        "duration": 22,
        "start_time": "2022-10-25T17:30:03.894Z"
      },
      {
        "duration": 10,
        "start_time": "2022-10-25T17:30:03.917Z"
      },
      {
        "duration": 33,
        "start_time": "2022-10-25T17:30:03.929Z"
      },
      {
        "duration": 35,
        "start_time": "2022-10-25T17:30:03.964Z"
      },
      {
        "duration": 5,
        "start_time": "2022-10-25T17:30:04.001Z"
      },
      {
        "duration": 27,
        "start_time": "2022-10-25T17:30:04.008Z"
      },
      {
        "duration": 38,
        "start_time": "2022-10-25T17:30:04.036Z"
      },
      {
        "duration": 25,
        "start_time": "2022-10-25T17:30:04.075Z"
      },
      {
        "duration": 23,
        "start_time": "2022-10-25T17:30:04.101Z"
      },
      {
        "duration": 44,
        "start_time": "2022-10-25T17:30:04.126Z"
      },
      {
        "duration": 15,
        "start_time": "2022-10-25T17:30:04.171Z"
      },
      {
        "duration": 53,
        "start_time": "2022-10-25T17:30:04.188Z"
      },
      {
        "duration": 36,
        "start_time": "2022-10-25T17:30:04.243Z"
      },
      {
        "duration": 76,
        "start_time": "2022-10-25T18:06:00.301Z"
      },
      {
        "duration": 14,
        "start_time": "2022-10-25T18:06:00.379Z"
      },
      {
        "duration": 56,
        "start_time": "2022-10-25T18:06:00.394Z"
      },
      {
        "duration": 69,
        "start_time": "2022-10-25T18:06:00.452Z"
      },
      {
        "duration": 54,
        "start_time": "2022-10-25T18:06:00.523Z"
      },
      {
        "duration": 46,
        "start_time": "2022-10-25T18:06:00.579Z"
      },
      {
        "duration": 47,
        "start_time": "2022-10-25T18:06:00.627Z"
      },
      {
        "duration": 14,
        "start_time": "2022-10-25T18:06:00.676Z"
      },
      {
        "duration": 41,
        "start_time": "2022-10-25T18:06:00.691Z"
      },
      {
        "duration": 12,
        "start_time": "2022-10-25T18:06:00.734Z"
      },
      {
        "duration": 49,
        "start_time": "2022-10-25T18:06:00.748Z"
      },
      {
        "duration": 8,
        "start_time": "2022-10-25T18:06:00.799Z"
      },
      {
        "duration": 24,
        "start_time": "2022-10-25T18:06:00.808Z"
      },
      {
        "duration": 12,
        "start_time": "2022-10-25T18:06:00.834Z"
      },
      {
        "duration": 26,
        "start_time": "2022-10-25T18:06:00.848Z"
      },
      {
        "duration": 18,
        "start_time": "2022-10-25T18:06:00.876Z"
      },
      {
        "duration": 3,
        "start_time": "2022-10-25T18:06:00.896Z"
      },
      {
        "duration": 39,
        "start_time": "2022-10-25T18:06:00.901Z"
      },
      {
        "duration": 7,
        "start_time": "2022-10-25T18:06:00.942Z"
      },
      {
        "duration": 4,
        "start_time": "2022-10-25T18:06:00.951Z"
      },
      {
        "duration": 22,
        "start_time": "2022-10-25T18:06:00.957Z"
      },
      {
        "duration": 39,
        "start_time": "2022-10-25T18:06:00.981Z"
      },
      {
        "duration": 25,
        "start_time": "2022-10-25T18:06:01.023Z"
      },
      {
        "duration": 17,
        "start_time": "2022-10-25T18:06:01.050Z"
      },
      {
        "duration": 59,
        "start_time": "2022-10-25T18:06:01.069Z"
      },
      {
        "duration": 12,
        "start_time": "2022-10-25T18:06:01.129Z"
      },
      {
        "duration": 60,
        "start_time": "2022-10-25T18:06:01.142Z"
      },
      {
        "duration": 55,
        "start_time": "2022-10-25T18:06:01.205Z"
      },
      {
        "duration": 43,
        "start_time": "2022-10-25T18:10:20.949Z"
      },
      {
        "duration": 662,
        "start_time": "2022-10-26T08:32:37.164Z"
      },
      {
        "duration": 22,
        "start_time": "2022-10-26T08:32:37.828Z"
      },
      {
        "duration": 14,
        "start_time": "2022-10-26T08:32:37.851Z"
      },
      {
        "duration": 9,
        "start_time": "2022-10-26T08:32:37.866Z"
      },
      {
        "duration": 55,
        "start_time": "2022-10-26T08:32:37.876Z"
      },
      {
        "duration": 3,
        "start_time": "2022-10-26T08:32:37.933Z"
      },
      {
        "duration": 15,
        "start_time": "2022-10-26T08:32:37.937Z"
      },
      {
        "duration": 3,
        "start_time": "2022-10-26T08:32:37.954Z"
      },
      {
        "duration": 24,
        "start_time": "2022-10-26T08:32:37.958Z"
      },
      {
        "duration": 4,
        "start_time": "2022-10-26T08:32:37.985Z"
      },
      {
        "duration": 39,
        "start_time": "2022-10-26T08:32:37.990Z"
      },
      {
        "duration": 8,
        "start_time": "2022-10-26T08:32:38.031Z"
      },
      {
        "duration": 3,
        "start_time": "2022-10-26T08:32:38.041Z"
      },
      {
        "duration": 13,
        "start_time": "2022-10-26T08:32:38.045Z"
      },
      {
        "duration": 19,
        "start_time": "2022-10-26T08:32:38.059Z"
      },
      {
        "duration": 42,
        "start_time": "2022-10-26T08:32:38.080Z"
      },
      {
        "duration": 4,
        "start_time": "2022-10-26T08:32:38.123Z"
      },
      {
        "duration": 16,
        "start_time": "2022-10-26T08:32:38.128Z"
      },
      {
        "duration": 6,
        "start_time": "2022-10-26T08:32:38.145Z"
      },
      {
        "duration": 3,
        "start_time": "2022-10-26T08:32:38.152Z"
      },
      {
        "duration": 12,
        "start_time": "2022-10-26T08:32:38.157Z"
      },
      {
        "duration": 57,
        "start_time": "2022-10-26T08:32:38.171Z"
      },
      {
        "duration": 24,
        "start_time": "2022-10-26T08:32:38.230Z"
      },
      {
        "duration": 18,
        "start_time": "2022-10-26T08:32:38.256Z"
      },
      {
        "duration": 62,
        "start_time": "2022-10-26T08:32:38.276Z"
      },
      {
        "duration": 11,
        "start_time": "2022-10-26T08:32:38.340Z"
      },
      {
        "duration": 36,
        "start_time": "2022-10-26T08:32:38.352Z"
      },
      {
        "duration": 49,
        "start_time": "2022-10-26T08:32:38.391Z"
      },
      {
        "duration": 443,
        "start_time": "2022-10-26T08:44:49.246Z"
      },
      {
        "duration": 21,
        "start_time": "2022-10-26T08:44:49.691Z"
      },
      {
        "duration": 14,
        "start_time": "2022-10-26T08:44:49.713Z"
      },
      {
        "duration": 9,
        "start_time": "2022-10-26T08:44:49.729Z"
      },
      {
        "duration": 42,
        "start_time": "2022-10-26T08:44:49.739Z"
      },
      {
        "duration": 3,
        "start_time": "2022-10-26T08:44:49.783Z"
      },
      {
        "duration": 10,
        "start_time": "2022-10-26T08:44:49.788Z"
      },
      {
        "duration": 4,
        "start_time": "2022-10-26T08:44:49.808Z"
      },
      {
        "duration": 7,
        "start_time": "2022-10-26T08:44:49.813Z"
      },
      {
        "duration": 4,
        "start_time": "2022-10-26T08:44:49.823Z"
      },
      {
        "duration": 34,
        "start_time": "2022-10-26T08:44:49.828Z"
      },
      {
        "duration": 9,
        "start_time": "2022-10-26T08:44:49.864Z"
      },
      {
        "duration": 4,
        "start_time": "2022-10-26T08:44:49.874Z"
      },
      {
        "duration": 37,
        "start_time": "2022-10-26T08:44:49.879Z"
      },
      {
        "duration": 18,
        "start_time": "2022-10-26T08:44:49.918Z"
      },
      {
        "duration": 16,
        "start_time": "2022-10-26T08:44:49.938Z"
      },
      {
        "duration": 4,
        "start_time": "2022-10-26T08:44:49.955Z"
      },
      {
        "duration": 13,
        "start_time": "2022-10-26T08:44:49.960Z"
      },
      {
        "duration": 16,
        "start_time": "2022-10-26T08:44:49.974Z"
      },
      {
        "duration": 18,
        "start_time": "2022-10-26T08:44:49.991Z"
      },
      {
        "duration": 10,
        "start_time": "2022-10-26T08:44:50.010Z"
      },
      {
        "duration": 35,
        "start_time": "2022-10-26T08:44:50.021Z"
      },
      {
        "duration": 22,
        "start_time": "2022-10-26T08:44:50.058Z"
      },
      {
        "duration": 33,
        "start_time": "2022-10-26T08:44:50.082Z"
      },
      {
        "duration": 35,
        "start_time": "2022-10-26T08:44:50.117Z"
      },
      {
        "duration": 12,
        "start_time": "2022-10-26T08:44:50.153Z"
      },
      {
        "duration": 55,
        "start_time": "2022-10-26T08:44:50.166Z"
      },
      {
        "duration": 37,
        "start_time": "2022-10-26T08:44:50.224Z"
      },
      {
        "duration": 649,
        "start_time": "2022-10-26T11:08:48.601Z"
      },
      {
        "duration": 25,
        "start_time": "2022-10-26T11:08:51.218Z"
      },
      {
        "duration": 15,
        "start_time": "2022-10-26T11:08:54.885Z"
      },
      {
        "duration": 20,
        "start_time": "2022-10-26T11:09:00.787Z"
      },
      {
        "duration": 44,
        "start_time": "2022-10-26T11:09:18.907Z"
      },
      {
        "duration": 6,
        "start_time": "2022-10-26T11:10:34.246Z"
      },
      {
        "duration": 6,
        "start_time": "2022-10-26T11:10:37.120Z"
      },
      {
        "duration": 69,
        "start_time": "2022-10-26T11:10:48.322Z"
      },
      {
        "duration": 7,
        "start_time": "2022-10-26T11:11:03.057Z"
      },
      {
        "duration": 10,
        "start_time": "2022-10-26T11:11:42.908Z"
      },
      {
        "duration": 448,
        "start_time": "2022-10-26T11:13:08.078Z"
      },
      {
        "duration": 433,
        "start_time": "2022-10-26T11:13:22.933Z"
      },
      {
        "duration": 8,
        "start_time": "2022-10-26T11:13:35.188Z"
      },
      {
        "duration": 11,
        "start_time": "2022-10-26T11:13:40.365Z"
      },
      {
        "duration": 10,
        "start_time": "2022-10-26T11:13:43.554Z"
      },
      {
        "duration": 26,
        "start_time": "2022-10-26T11:16:40.236Z"
      },
      {
        "duration": 9,
        "start_time": "2022-10-26T11:17:07.595Z"
      },
      {
        "duration": 9,
        "start_time": "2022-10-26T11:17:17.002Z"
      },
      {
        "duration": 7,
        "start_time": "2022-10-26T11:17:24.319Z"
      },
      {
        "duration": 8,
        "start_time": "2022-10-26T11:17:36.737Z"
      },
      {
        "duration": 21,
        "start_time": "2022-10-26T11:18:34.996Z"
      },
      {
        "duration": 12,
        "start_time": "2022-10-26T11:19:53.830Z"
      },
      {
        "duration": 27,
        "start_time": "2022-10-26T11:23:15.489Z"
      },
      {
        "duration": 8,
        "start_time": "2022-10-26T11:25:43.512Z"
      },
      {
        "duration": 8,
        "start_time": "2022-10-26T11:25:50.337Z"
      },
      {
        "duration": 9,
        "start_time": "2022-10-26T11:25:53.965Z"
      },
      {
        "duration": 5,
        "start_time": "2022-10-26T11:25:54.933Z"
      },
      {
        "duration": 5,
        "start_time": "2022-10-26T11:26:20.664Z"
      },
      {
        "duration": 12,
        "start_time": "2022-10-26T11:26:54.704Z"
      },
      {
        "duration": 26,
        "start_time": "2022-10-26T11:27:46.289Z"
      },
      {
        "duration": 21,
        "start_time": "2022-10-26T11:28:02.363Z"
      },
      {
        "duration": 14,
        "start_time": "2022-10-26T11:28:56.766Z"
      },
      {
        "duration": 15,
        "start_time": "2022-10-26T11:29:19.560Z"
      },
      {
        "duration": 16,
        "start_time": "2022-10-26T11:29:58.651Z"
      },
      {
        "duration": 44,
        "start_time": "2022-10-26T13:48:08.524Z"
      },
      {
        "duration": 563,
        "start_time": "2022-10-26T13:48:16.897Z"
      },
      {
        "duration": 23,
        "start_time": "2022-10-26T13:48:19.479Z"
      },
      {
        "duration": 15,
        "start_time": "2022-10-26T13:48:22.466Z"
      },
      {
        "duration": 21,
        "start_time": "2022-10-26T13:48:25.498Z"
      },
      {
        "duration": 16,
        "start_time": "2022-10-26T13:50:14.432Z"
      },
      {
        "duration": 11,
        "start_time": "2022-10-26T13:51:58.247Z"
      },
      {
        "duration": 15,
        "start_time": "2022-10-26T13:54:04.211Z"
      },
      {
        "duration": 20,
        "start_time": "2022-10-26T13:54:31.910Z"
      },
      {
        "duration": 10,
        "start_time": "2022-10-26T13:54:54.070Z"
      },
      {
        "duration": 20,
        "start_time": "2022-10-26T13:57:14.500Z"
      },
      {
        "duration": 37,
        "start_time": "2022-10-26T13:57:38.341Z"
      },
      {
        "duration": 21,
        "start_time": "2022-10-26T13:57:42.820Z"
      },
      {
        "duration": 27,
        "start_time": "2022-10-26T13:58:01.716Z"
      },
      {
        "duration": 20,
        "start_time": "2022-10-26T13:59:08.310Z"
      },
      {
        "duration": 50,
        "start_time": "2022-10-26T18:38:14.265Z"
      },
      {
        "duration": 6,
        "start_time": "2022-10-26T18:38:20.814Z"
      },
      {
        "duration": 1030,
        "start_time": "2022-10-26T18:38:27.340Z"
      },
      {
        "duration": 22,
        "start_time": "2022-10-26T18:38:29.042Z"
      },
      {
        "duration": 15,
        "start_time": "2022-10-26T18:38:31.357Z"
      },
      {
        "duration": 29,
        "start_time": "2022-10-26T18:38:33.623Z"
      },
      {
        "duration": 620,
        "start_time": "2022-10-26T18:38:40.130Z"
      },
      {
        "duration": 5,
        "start_time": "2022-10-26T18:39:07.889Z"
      },
      {
        "duration": 16,
        "start_time": "2022-10-26T18:41:11.430Z"
      },
      {
        "duration": 11,
        "start_time": "2022-10-26T18:42:21.657Z"
      },
      {
        "duration": 10,
        "start_time": "2022-10-26T18:42:58.378Z"
      },
      {
        "duration": 80,
        "start_time": "2022-10-26T18:43:04.052Z"
      },
      {
        "duration": 15,
        "start_time": "2022-10-26T18:43:04.134Z"
      },
      {
        "duration": 19,
        "start_time": "2022-10-26T18:43:04.151Z"
      },
      {
        "duration": 29,
        "start_time": "2022-10-26T18:43:04.173Z"
      },
      {
        "duration": 20,
        "start_time": "2022-10-26T18:43:04.203Z"
      },
      {
        "duration": 52,
        "start_time": "2022-10-26T18:43:04.225Z"
      },
      {
        "duration": 3,
        "start_time": "2022-10-26T18:43:04.278Z"
      },
      {
        "duration": 37,
        "start_time": "2022-10-26T18:43:04.283Z"
      },
      {
        "duration": 5,
        "start_time": "2022-10-26T18:43:04.325Z"
      },
      {
        "duration": 13,
        "start_time": "2022-10-26T18:43:04.333Z"
      },
      {
        "duration": 6,
        "start_time": "2022-10-26T18:43:04.347Z"
      },
      {
        "duration": 54,
        "start_time": "2022-10-26T18:43:04.354Z"
      },
      {
        "duration": 19,
        "start_time": "2022-10-26T18:43:04.411Z"
      },
      {
        "duration": 5,
        "start_time": "2022-10-26T18:43:04.432Z"
      },
      {
        "duration": 12,
        "start_time": "2022-10-26T18:43:04.439Z"
      },
      {
        "duration": 20,
        "start_time": "2022-10-26T18:43:04.453Z"
      },
      {
        "duration": 60,
        "start_time": "2022-10-26T18:43:04.474Z"
      },
      {
        "duration": 4,
        "start_time": "2022-10-26T18:43:04.536Z"
      },
      {
        "duration": 13,
        "start_time": "2022-10-26T18:43:04.542Z"
      },
      {
        "duration": 7,
        "start_time": "2022-10-26T18:43:04.556Z"
      },
      {
        "duration": 4,
        "start_time": "2022-10-26T18:43:04.565Z"
      },
      {
        "duration": 10,
        "start_time": "2022-10-26T18:43:04.571Z"
      },
      {
        "duration": 60,
        "start_time": "2022-10-26T18:43:04.582Z"
      },
      {
        "duration": 23,
        "start_time": "2022-10-26T18:43:04.644Z"
      },
      {
        "duration": 18,
        "start_time": "2022-10-26T18:43:04.668Z"
      },
      {
        "duration": 58,
        "start_time": "2022-10-26T18:43:04.687Z"
      },
      {
        "duration": 12,
        "start_time": "2022-10-26T18:43:04.746Z"
      },
      {
        "duration": 35,
        "start_time": "2022-10-26T18:43:04.761Z"
      },
      {
        "duration": 54,
        "start_time": "2022-10-26T18:43:04.798Z"
      },
      {
        "duration": 6,
        "start_time": "2022-10-26T18:43:52.634Z"
      },
      {
        "duration": 35,
        "start_time": "2022-10-26T18:43:54.831Z"
      },
      {
        "duration": 12,
        "start_time": "2022-10-26T18:43:58.768Z"
      },
      {
        "duration": 73,
        "start_time": "2022-10-26T18:44:07.473Z"
      },
      {
        "duration": 14,
        "start_time": "2022-10-26T18:44:07.548Z"
      },
      {
        "duration": 14,
        "start_time": "2022-10-26T18:44:07.564Z"
      },
      {
        "duration": 10,
        "start_time": "2022-10-26T18:44:07.580Z"
      },
      {
        "duration": 38,
        "start_time": "2022-10-26T18:44:07.591Z"
      },
      {
        "duration": 39,
        "start_time": "2022-10-26T18:44:07.631Z"
      },
      {
        "duration": 3,
        "start_time": "2022-10-26T18:44:07.672Z"
      },
      {
        "duration": 9,
        "start_time": "2022-10-26T18:44:07.677Z"
      },
      {
        "duration": 4,
        "start_time": "2022-10-26T18:44:07.688Z"
      },
      {
        "duration": 38,
        "start_time": "2022-10-26T18:44:07.694Z"
      },
      {
        "duration": 5,
        "start_time": "2022-10-26T18:44:07.733Z"
      },
      {
        "duration": 49,
        "start_time": "2022-10-26T18:44:07.739Z"
      },
      {
        "duration": 10,
        "start_time": "2022-10-26T18:44:07.789Z"
      },
      {
        "duration": 15,
        "start_time": "2022-10-26T18:44:07.800Z"
      },
      {
        "duration": 11,
        "start_time": "2022-10-26T18:44:07.824Z"
      },
      {
        "duration": 20,
        "start_time": "2022-10-26T18:44:07.837Z"
      },
      {
        "duration": 18,
        "start_time": "2022-10-26T18:44:07.859Z"
      },
      {
        "duration": 3,
        "start_time": "2022-10-26T18:44:07.879Z"
      },
      {
        "duration": 33,
        "start_time": "2022-10-26T18:44:07.884Z"
      },
      {
        "duration": 21,
        "start_time": "2022-10-26T18:44:07.919Z"
      },
      {
        "duration": 4,
        "start_time": "2022-10-26T18:44:07.943Z"
      },
      {
        "duration": 21,
        "start_time": "2022-10-26T18:44:07.949Z"
      },
      {
        "duration": 47,
        "start_time": "2022-10-26T18:44:07.971Z"
      },
      {
        "duration": 32,
        "start_time": "2022-10-26T18:44:08.025Z"
      },
      {
        "duration": 20,
        "start_time": "2022-10-26T18:44:08.059Z"
      },
      {
        "duration": 48,
        "start_time": "2022-10-26T18:44:08.081Z"
      },
      {
        "duration": 15,
        "start_time": "2022-10-26T18:44:08.131Z"
      },
      {
        "duration": 41,
        "start_time": "2022-10-26T18:44:08.149Z"
      },
      {
        "duration": 53,
        "start_time": "2022-10-26T18:44:08.192Z"
      },
      {
        "duration": 12,
        "start_time": "2022-10-26T18:44:08.247Z"
      },
      {
        "duration": 34,
        "start_time": "2022-10-26T18:44:18.928Z"
      },
      {
        "duration": 12,
        "start_time": "2022-10-26T18:44:22.393Z"
      },
      {
        "duration": 4,
        "start_time": "2022-10-26T18:44:26.022Z"
      },
      {
        "duration": 12,
        "start_time": "2022-10-26T18:44:28.093Z"
      },
      {
        "duration": 16,
        "start_time": "2022-10-26T18:48:21.227Z"
      }
    ],
    "colab": {
      "provenance": [],
      "toc_visible": true
    },
    "kernelspec": {
      "display_name": "Python 3 (ipykernel)",
      "language": "python",
      "name": "python3"
    },
    "language_info": {
      "codemirror_mode": {
        "name": "ipython",
        "version": 3
      },
      "file_extension": ".py",
      "mimetype": "text/x-python",
      "name": "python",
      "nbconvert_exporter": "python",
      "pygments_lexer": "ipython3",
      "version": "3.9.5"
    },
    "toc": {
      "base_numbering": 1,
      "nav_menu": {},
      "number_sections": true,
      "sideBar": true,
      "skip_h1_title": true,
      "title_cell": "Table of Contents",
      "title_sidebar": "Contents",
      "toc_cell": false,
      "toc_position": {},
      "toc_section_display": true,
      "toc_window_display": true
    }
  },
  "nbformat": 4,
  "nbformat_minor": 5
}