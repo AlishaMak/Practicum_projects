{
  "cells": [
    {
      "cell_type": "markdown",
      "metadata": {
        "toc": true,
        "id": "Gz4dK9X1VuaQ"
      },
      "source": [
        "<h1>Содержание<span class=\"tocSkip\"></span></h1>\n",
        "<div class=\"toc\"><ul class=\"toc-item\"><li><span><a href=\"#Подготовка-данных\" data-toc-modified-id=\"Подготовка-данных-1\"><span class=\"toc-item-num\">1&nbsp;&nbsp;</span>Подготовка данных</a></span><ul class=\"toc-item\"><li><span><a href=\"#Изучение-данных\" data-toc-modified-id=\"Изучение-данных-1.1\"><span class=\"toc-item-num\">1.1&nbsp;&nbsp;</span>Изучение данных</a></span></li><li><span><a href=\"#Предобработка-данных\" data-toc-modified-id=\"Предобработка-данных-1.2\"><span class=\"toc-item-num\">1.2&nbsp;&nbsp;</span>Предобработка данных</a></span></li><li><span><a href=\"#Подготовка-данных\" data-toc-modified-id=\"Подготовка-данных-1.3\"><span class=\"toc-item-num\">1.3&nbsp;&nbsp;</span>Подготовка данных</a></span></li><li><span><a href=\"#Масштабирование-данных\" data-toc-modified-id=\"Масштабирование-данных-1.4\"><span class=\"toc-item-num\">1.4&nbsp;&nbsp;</span>Масштабирование данных</a></span></li><li><span><a href=\"#Вывод\" data-toc-modified-id=\"Вывод-1.5\"><span class=\"toc-item-num\">1.5&nbsp;&nbsp;</span>Вывод</a></span></li></ul></li><li><span><a href=\"#Исследование-задачи\" data-toc-modified-id=\"Исследование-задачи-2\"><span class=\"toc-item-num\">2&nbsp;&nbsp;</span>Исследование задачи</a></span><ul class=\"toc-item\"><li><span><a href=\"#Decision-Tree\" data-toc-modified-id=\"Decision-Tree-2.1\"><span class=\"toc-item-num\">2.1&nbsp;&nbsp;</span>Decision Tree</a></span></li><li><span><a href=\"#Random-Forest\" data-toc-modified-id=\"Random-Forest-2.2\"><span class=\"toc-item-num\">2.2&nbsp;&nbsp;</span>Random Forest</a></span></li><li><span><a href=\"#Logistic-Regression\" data-toc-modified-id=\"Logistic-Regression-2.3\"><span class=\"toc-item-num\">2.3&nbsp;&nbsp;</span>Logistic Regression</a></span></li><li><span><a href=\"#Dummy-модель\" data-toc-modified-id=\"Dummy-модель-2.4\"><span class=\"toc-item-num\">2.4&nbsp;&nbsp;</span>Dummy-модель</a></span></li><li><span><a href=\"#Выводы\" data-toc-modified-id=\"Выводы-2.5\"><span class=\"toc-item-num\">2.5&nbsp;&nbsp;</span>Выводы</a></span></li></ul></li><li><span><a href=\"#Борьба-с-дисбалансом\" data-toc-modified-id=\"Борьба-с-дисбалансом-3\"><span class=\"toc-item-num\">3&nbsp;&nbsp;</span>Борьба с дисбалансом</a></span><ul class=\"toc-item\"><li><span><a href=\"#Взвешивание-классов\" data-toc-modified-id=\"Взвешивание-классов-3.1\"><span class=\"toc-item-num\">3.1&nbsp;&nbsp;</span>Взвешивание классов</a></span><ul class=\"toc-item\"><li><span><a href=\"#Decision-Tree\" data-toc-modified-id=\"Decision-Tree-3.1.1\"><span class=\"toc-item-num\">3.1.1&nbsp;&nbsp;</span>Decision Tree</a></span></li><li><span><a href=\"#Random-Forest\" data-toc-modified-id=\"Random-Forest-3.1.2\"><span class=\"toc-item-num\">3.1.2&nbsp;&nbsp;</span>Random Forest</a></span></li><li><span><a href=\"#Logistic-Regression\" data-toc-modified-id=\"Logistic-Regression-3.1.3\"><span class=\"toc-item-num\">3.1.3&nbsp;&nbsp;</span>Logistic Regression</a></span></li><li><span><a href=\"#Выводы\" data-toc-modified-id=\"Выводы-3.1.4\"><span class=\"toc-item-num\">3.1.4&nbsp;&nbsp;</span>Выводы</a></span></li></ul></li><li><span><a href=\"#Увеличение-выборки\" data-toc-modified-id=\"Увеличение-выборки-3.2\"><span class=\"toc-item-num\">3.2&nbsp;&nbsp;</span>Увеличение выборки</a></span><ul class=\"toc-item\"><li><span><a href=\"#Decision-Tree\" data-toc-modified-id=\"Decision-Tree-3.2.1\"><span class=\"toc-item-num\">3.2.1&nbsp;&nbsp;</span>Decision Tree</a></span></li><li><span><a href=\"#Random-Forest\" data-toc-modified-id=\"Random-Forest-3.2.2\"><span class=\"toc-item-num\">3.2.2&nbsp;&nbsp;</span>Random Forest</a></span></li><li><span><a href=\"#Logistic-Regression\" data-toc-modified-id=\"Logistic-Regression-3.2.3\"><span class=\"toc-item-num\">3.2.3&nbsp;&nbsp;</span>Logistic Regression</a></span></li><li><span><a href=\"#Выводы\" data-toc-modified-id=\"Выводы-3.2.4\"><span class=\"toc-item-num\">3.2.4&nbsp;&nbsp;</span>Выводы</a></span></li></ul></li><li><span><a href=\"#Уменьшение-выборки\" data-toc-modified-id=\"Уменьшение-выборки-3.3\"><span class=\"toc-item-num\">3.3&nbsp;&nbsp;</span>Уменьшение выборки</a></span><ul class=\"toc-item\"><li><span><a href=\"#Decision-Tree\" data-toc-modified-id=\"Decision-Tree-3.3.1\"><span class=\"toc-item-num\">3.3.1&nbsp;&nbsp;</span>Decision Tree</a></span></li><li><span><a href=\"#Random-Forest\" data-toc-modified-id=\"Random-Forest-3.3.2\"><span class=\"toc-item-num\">3.3.2&nbsp;&nbsp;</span>Random Forest</a></span></li><li><span><a href=\"#Logistic-Regression\" data-toc-modified-id=\"Logistic-Regression-3.3.3\"><span class=\"toc-item-num\">3.3.3&nbsp;&nbsp;</span>Logistic Regression</a></span></li><li><span><a href=\"#Выводы\" data-toc-modified-id=\"Выводы-3.3.4\"><span class=\"toc-item-num\">3.3.4&nbsp;&nbsp;</span>Выводы</a></span></li></ul></li><li><span><a href=\"#Вывод\" data-toc-modified-id=\"Вывод-3.4\"><span class=\"toc-item-num\">3.4&nbsp;&nbsp;</span>Вывод</a></span></li></ul></li><li><span><a href=\"#Тестирование-модели\" data-toc-modified-id=\"Тестирование-модели-4\"><span class=\"toc-item-num\">4&nbsp;&nbsp;</span>Тестирование модели</a></span></li><li><span><a href=\"#Чек-лист-готовности-проекта\" data-toc-modified-id=\"Чек-лист-готовности-проекта-5\"><span class=\"toc-item-num\">5&nbsp;&nbsp;</span>Чек-лист готовности проекта</a></span></li></ul></div>"
      ]
    },
    {
      "cell_type": "markdown",
      "metadata": {
        "id": "AW_ZQaZgVuaR"
      },
      "source": [
        "# Отток клиентов"
      ]
    },
    {
      "cell_type": "markdown",
      "metadata": {
        "id": "Zq9pgjcrVuaR"
      },
      "source": [
        "Из стали уходить клиенты. Каждый месяц. Немного, но заметно. Банковские маркетологи посчитали: сохранять текущих клиентов дешевле, чем привлекать новых.\n",
        "\n",
        "Нужно спрогнозировать, уйдёт клиент из банка в ближайшее время или нет. Вам предоставлены исторические данные о поведении клиентов и расторжении договоров с банком.\n",
        "\n",
        "Постройте модель с предельно большим значением *F1*-меры. Чтобы сдать проект успешно, нужно довести метрику до 0.59. Проверьте *F1*-меру на тестовой выборке самостоятельно.\n",
        "\n",
        "Дополнительно измеряйте *AUC-ROC*, сравнивайте её значение с *F1*-мерой.\n",
        "\n",
        "Источник данных: [https://www.kaggle.com/barelydedicated/bank-customer-churn-modeling](https://www.kaggle.com/barelydedicated/bank-customer-churn-modeling)"
      ]
    },
    {
      "cell_type": "markdown",
      "metadata": {
        "id": "jno7g6n1VuaS"
      },
      "source": [
        "## Подготовка данных"
      ]
    },
    {
      "cell_type": "markdown",
      "metadata": {
        "id": "KDg-hVl7VuaT"
      },
      "source": [
        "### Изучение данных"
      ]
    },
    {
      "cell_type": "markdown",
      "metadata": {
        "id": "ByBSRsKmVuaT"
      },
      "source": [
        "Импортируем необходимые библиотеки."
      ]
    },
    {
      "cell_type": "code",
      "execution_count": 94,
      "metadata": {
        "id": "aDXeLbcnVuaT"
      },
      "outputs": [],
      "source": [
        "import pandas as pd\n",
        "import numpy as np\n",
        "import matplotlib.pyplot as plt\n",
        "from sklearn.model_selection import train_test_split\n",
        "from sklearn.tree import DecisionTreeClassifier\n",
        "from sklearn.ensemble import RandomForestClassifier\n",
        "from sklearn.linear_model import LogisticRegression\n",
        "from sklearn.dummy import DummyClassifier\n",
        "from sklearn.preprocessing import StandardScaler\n",
        "from sklearn.model_selection import GridSearchCV\n",
        "from sklearn.preprocessing import OneHotEncoder\n",
        "from sklearn.metrics import roc_curve\n",
        "from sklearn.metrics import accuracy_score\n",
        "from sklearn.metrics import confusion_matrix\n",
        "from sklearn.metrics import recall_score\n",
        "from sklearn.metrics import precision_score\n",
        "from sklearn.metrics import f1_score\n",
        "from sklearn.metrics import roc_auc_score\n",
        "from sklearn.utils import shuffle\n",
        "from tqdm import tqdm\n"
      ]
    },
    {
      "cell_type": "markdown",
      "metadata": {
        "id": "WdPRtbkzVuaU"
      },
      "source": [
        "Установим последнюю версию scikit-learn."
      ]
    },
    {
      "cell_type": "code",
      "execution_count": 95,
      "metadata": {
        "id": "qRVXJzQGVuaU"
      },
      "outputs": [],
      "source": [
        "# pip install -U scikit-learn"
      ]
    },
    {
      "cell_type": "markdown",
      "metadata": {
        "id": "xvmz-3GhVuaU"
      },
      "source": [
        "Cохраним датасет в переменную data, выведем первые 5 строк и информацию по датасету."
      ]
    },
    {
      "cell_type": "code",
      "execution_count": 96,
      "metadata": {
        "colab": {
          "base_uri": "https://localhost:8080/",
          "height": 206
        },
        "id": "oLkp7nvRVuaV",
        "outputId": "1e9e2ca6-a782-4211-e749-e2dd02225335"
      },
      "outputs": [
        {
          "output_type": "execute_result",
          "data": {
            "text/plain": [
              "   RowNumber  CustomerId   Surname  CreditScore Geography  Gender  Age  \\\n",
              "0          1    15634602  Hargrave          619    France  Female   42   \n",
              "1          2    15647311      Hill          608     Spain  Female   41   \n",
              "2          3    15619304      Onio          502    France  Female   42   \n",
              "3          4    15701354      Boni          699    France  Female   39   \n",
              "4          5    15737888  Mitchell          850     Spain  Female   43   \n",
              "\n",
              "   Tenure    Balance  NumOfProducts  HasCrCard  IsActiveMember  \\\n",
              "0     2.0       0.00              1          1               1   \n",
              "1     1.0   83807.86              1          0               1   \n",
              "2     8.0  159660.80              3          1               0   \n",
              "3     1.0       0.00              2          0               0   \n",
              "4     2.0  125510.82              1          1               1   \n",
              "\n",
              "   EstimatedSalary  Exited  \n",
              "0        101348.88       1  \n",
              "1        112542.58       0  \n",
              "2        113931.57       1  \n",
              "3         93826.63       0  \n",
              "4         79084.10       0  "
            ],
            "text/html": [
              "\n",
              "  <div id=\"df-c50cd4c7-123b-4fed-9fe3-6a8726fcad80\" class=\"colab-df-container\">\n",
              "    <div>\n",
              "<style scoped>\n",
              "    .dataframe tbody tr th:only-of-type {\n",
              "        vertical-align: middle;\n",
              "    }\n",
              "\n",
              "    .dataframe tbody tr th {\n",
              "        vertical-align: top;\n",
              "    }\n",
              "\n",
              "    .dataframe thead th {\n",
              "        text-align: right;\n",
              "    }\n",
              "</style>\n",
              "<table border=\"1\" class=\"dataframe\">\n",
              "  <thead>\n",
              "    <tr style=\"text-align: right;\">\n",
              "      <th></th>\n",
              "      <th>RowNumber</th>\n",
              "      <th>CustomerId</th>\n",
              "      <th>Surname</th>\n",
              "      <th>CreditScore</th>\n",
              "      <th>Geography</th>\n",
              "      <th>Gender</th>\n",
              "      <th>Age</th>\n",
              "      <th>Tenure</th>\n",
              "      <th>Balance</th>\n",
              "      <th>NumOfProducts</th>\n",
              "      <th>HasCrCard</th>\n",
              "      <th>IsActiveMember</th>\n",
              "      <th>EstimatedSalary</th>\n",
              "      <th>Exited</th>\n",
              "    </tr>\n",
              "  </thead>\n",
              "  <tbody>\n",
              "    <tr>\n",
              "      <th>0</th>\n",
              "      <td>1</td>\n",
              "      <td>15634602</td>\n",
              "      <td>Hargrave</td>\n",
              "      <td>619</td>\n",
              "      <td>France</td>\n",
              "      <td>Female</td>\n",
              "      <td>42</td>\n",
              "      <td>2.0</td>\n",
              "      <td>0.00</td>\n",
              "      <td>1</td>\n",
              "      <td>1</td>\n",
              "      <td>1</td>\n",
              "      <td>101348.88</td>\n",
              "      <td>1</td>\n",
              "    </tr>\n",
              "    <tr>\n",
              "      <th>1</th>\n",
              "      <td>2</td>\n",
              "      <td>15647311</td>\n",
              "      <td>Hill</td>\n",
              "      <td>608</td>\n",
              "      <td>Spain</td>\n",
              "      <td>Female</td>\n",
              "      <td>41</td>\n",
              "      <td>1.0</td>\n",
              "      <td>83807.86</td>\n",
              "      <td>1</td>\n",
              "      <td>0</td>\n",
              "      <td>1</td>\n",
              "      <td>112542.58</td>\n",
              "      <td>0</td>\n",
              "    </tr>\n",
              "    <tr>\n",
              "      <th>2</th>\n",
              "      <td>3</td>\n",
              "      <td>15619304</td>\n",
              "      <td>Onio</td>\n",
              "      <td>502</td>\n",
              "      <td>France</td>\n",
              "      <td>Female</td>\n",
              "      <td>42</td>\n",
              "      <td>8.0</td>\n",
              "      <td>159660.80</td>\n",
              "      <td>3</td>\n",
              "      <td>1</td>\n",
              "      <td>0</td>\n",
              "      <td>113931.57</td>\n",
              "      <td>1</td>\n",
              "    </tr>\n",
              "    <tr>\n",
              "      <th>3</th>\n",
              "      <td>4</td>\n",
              "      <td>15701354</td>\n",
              "      <td>Boni</td>\n",
              "      <td>699</td>\n",
              "      <td>France</td>\n",
              "      <td>Female</td>\n",
              "      <td>39</td>\n",
              "      <td>1.0</td>\n",
              "      <td>0.00</td>\n",
              "      <td>2</td>\n",
              "      <td>0</td>\n",
              "      <td>0</td>\n",
              "      <td>93826.63</td>\n",
              "      <td>0</td>\n",
              "    </tr>\n",
              "    <tr>\n",
              "      <th>4</th>\n",
              "      <td>5</td>\n",
              "      <td>15737888</td>\n",
              "      <td>Mitchell</td>\n",
              "      <td>850</td>\n",
              "      <td>Spain</td>\n",
              "      <td>Female</td>\n",
              "      <td>43</td>\n",
              "      <td>2.0</td>\n",
              "      <td>125510.82</td>\n",
              "      <td>1</td>\n",
              "      <td>1</td>\n",
              "      <td>1</td>\n",
              "      <td>79084.10</td>\n",
              "      <td>0</td>\n",
              "    </tr>\n",
              "  </tbody>\n",
              "</table>\n",
              "</div>\n",
              "    <div class=\"colab-df-buttons\">\n",
              "\n",
              "  <div class=\"colab-df-container\">\n",
              "    <button class=\"colab-df-convert\" onclick=\"convertToInteractive('df-c50cd4c7-123b-4fed-9fe3-6a8726fcad80')\"\n",
              "            title=\"Convert this dataframe to an interactive table.\"\n",
              "            style=\"display:none;\">\n",
              "\n",
              "  <svg xmlns=\"http://www.w3.org/2000/svg\" height=\"24px\" viewBox=\"0 -960 960 960\">\n",
              "    <path d=\"M120-120v-720h720v720H120Zm60-500h600v-160H180v160Zm220 220h160v-160H400v160Zm0 220h160v-160H400v160ZM180-400h160v-160H180v160Zm440 0h160v-160H620v160ZM180-180h160v-160H180v160Zm440 0h160v-160H620v160Z\"/>\n",
              "  </svg>\n",
              "    </button>\n",
              "\n",
              "  <style>\n",
              "    .colab-df-container {\n",
              "      display:flex;\n",
              "      gap: 12px;\n",
              "    }\n",
              "\n",
              "    .colab-df-convert {\n",
              "      background-color: #E8F0FE;\n",
              "      border: none;\n",
              "      border-radius: 50%;\n",
              "      cursor: pointer;\n",
              "      display: none;\n",
              "      fill: #1967D2;\n",
              "      height: 32px;\n",
              "      padding: 0 0 0 0;\n",
              "      width: 32px;\n",
              "    }\n",
              "\n",
              "    .colab-df-convert:hover {\n",
              "      background-color: #E2EBFA;\n",
              "      box-shadow: 0px 1px 2px rgba(60, 64, 67, 0.3), 0px 1px 3px 1px rgba(60, 64, 67, 0.15);\n",
              "      fill: #174EA6;\n",
              "    }\n",
              "\n",
              "    .colab-df-buttons div {\n",
              "      margin-bottom: 4px;\n",
              "    }\n",
              "\n",
              "    [theme=dark] .colab-df-convert {\n",
              "      background-color: #3B4455;\n",
              "      fill: #D2E3FC;\n",
              "    }\n",
              "\n",
              "    [theme=dark] .colab-df-convert:hover {\n",
              "      background-color: #434B5C;\n",
              "      box-shadow: 0px 1px 3px 1px rgba(0, 0, 0, 0.15);\n",
              "      filter: drop-shadow(0px 1px 2px rgba(0, 0, 0, 0.3));\n",
              "      fill: #FFFFFF;\n",
              "    }\n",
              "  </style>\n",
              "\n",
              "    <script>\n",
              "      const buttonEl =\n",
              "        document.querySelector('#df-c50cd4c7-123b-4fed-9fe3-6a8726fcad80 button.colab-df-convert');\n",
              "      buttonEl.style.display =\n",
              "        google.colab.kernel.accessAllowed ? 'block' : 'none';\n",
              "\n",
              "      async function convertToInteractive(key) {\n",
              "        const element = document.querySelector('#df-c50cd4c7-123b-4fed-9fe3-6a8726fcad80');\n",
              "        const dataTable =\n",
              "          await google.colab.kernel.invokeFunction('convertToInteractive',\n",
              "                                                    [key], {});\n",
              "        if (!dataTable) return;\n",
              "\n",
              "        const docLinkHtml = 'Like what you see? Visit the ' +\n",
              "          '<a target=\"_blank\" href=https://colab.research.google.com/notebooks/data_table.ipynb>data table notebook</a>'\n",
              "          + ' to learn more about interactive tables.';\n",
              "        element.innerHTML = '';\n",
              "        dataTable['output_type'] = 'display_data';\n",
              "        await google.colab.output.renderOutput(dataTable, element);\n",
              "        const docLink = document.createElement('div');\n",
              "        docLink.innerHTML = docLinkHtml;\n",
              "        element.appendChild(docLink);\n",
              "      }\n",
              "    </script>\n",
              "  </div>\n",
              "\n",
              "\n",
              "<div id=\"df-b717841c-0c5f-478c-a552-7801ba2ba1e4\">\n",
              "  <button class=\"colab-df-quickchart\" onclick=\"quickchart('df-b717841c-0c5f-478c-a552-7801ba2ba1e4')\"\n",
              "            title=\"Suggest charts\"\n",
              "            style=\"display:none;\">\n",
              "\n",
              "<svg xmlns=\"http://www.w3.org/2000/svg\" height=\"24px\"viewBox=\"0 0 24 24\"\n",
              "     width=\"24px\">\n",
              "    <g>\n",
              "        <path d=\"M19 3H5c-1.1 0-2 .9-2 2v14c0 1.1.9 2 2 2h14c1.1 0 2-.9 2-2V5c0-1.1-.9-2-2-2zM9 17H7v-7h2v7zm4 0h-2V7h2v10zm4 0h-2v-4h2v4z\"/>\n",
              "    </g>\n",
              "</svg>\n",
              "  </button>\n",
              "\n",
              "<style>\n",
              "  .colab-df-quickchart {\n",
              "      --bg-color: #E8F0FE;\n",
              "      --fill-color: #1967D2;\n",
              "      --hover-bg-color: #E2EBFA;\n",
              "      --hover-fill-color: #174EA6;\n",
              "      --disabled-fill-color: #AAA;\n",
              "      --disabled-bg-color: #DDD;\n",
              "  }\n",
              "\n",
              "  [theme=dark] .colab-df-quickchart {\n",
              "      --bg-color: #3B4455;\n",
              "      --fill-color: #D2E3FC;\n",
              "      --hover-bg-color: #434B5C;\n",
              "      --hover-fill-color: #FFFFFF;\n",
              "      --disabled-bg-color: #3B4455;\n",
              "      --disabled-fill-color: #666;\n",
              "  }\n",
              "\n",
              "  .colab-df-quickchart {\n",
              "    background-color: var(--bg-color);\n",
              "    border: none;\n",
              "    border-radius: 50%;\n",
              "    cursor: pointer;\n",
              "    display: none;\n",
              "    fill: var(--fill-color);\n",
              "    height: 32px;\n",
              "    padding: 0;\n",
              "    width: 32px;\n",
              "  }\n",
              "\n",
              "  .colab-df-quickchart:hover {\n",
              "    background-color: var(--hover-bg-color);\n",
              "    box-shadow: 0 1px 2px rgba(60, 64, 67, 0.3), 0 1px 3px 1px rgba(60, 64, 67, 0.15);\n",
              "    fill: var(--button-hover-fill-color);\n",
              "  }\n",
              "\n",
              "  .colab-df-quickchart-complete:disabled,\n",
              "  .colab-df-quickchart-complete:disabled:hover {\n",
              "    background-color: var(--disabled-bg-color);\n",
              "    fill: var(--disabled-fill-color);\n",
              "    box-shadow: none;\n",
              "  }\n",
              "\n",
              "  .colab-df-spinner {\n",
              "    border: 2px solid var(--fill-color);\n",
              "    border-color: transparent;\n",
              "    border-bottom-color: var(--fill-color);\n",
              "    animation:\n",
              "      spin 1s steps(1) infinite;\n",
              "  }\n",
              "\n",
              "  @keyframes spin {\n",
              "    0% {\n",
              "      border-color: transparent;\n",
              "      border-bottom-color: var(--fill-color);\n",
              "      border-left-color: var(--fill-color);\n",
              "    }\n",
              "    20% {\n",
              "      border-color: transparent;\n",
              "      border-left-color: var(--fill-color);\n",
              "      border-top-color: var(--fill-color);\n",
              "    }\n",
              "    30% {\n",
              "      border-color: transparent;\n",
              "      border-left-color: var(--fill-color);\n",
              "      border-top-color: var(--fill-color);\n",
              "      border-right-color: var(--fill-color);\n",
              "    }\n",
              "    40% {\n",
              "      border-color: transparent;\n",
              "      border-right-color: var(--fill-color);\n",
              "      border-top-color: var(--fill-color);\n",
              "    }\n",
              "    60% {\n",
              "      border-color: transparent;\n",
              "      border-right-color: var(--fill-color);\n",
              "    }\n",
              "    80% {\n",
              "      border-color: transparent;\n",
              "      border-right-color: var(--fill-color);\n",
              "      border-bottom-color: var(--fill-color);\n",
              "    }\n",
              "    90% {\n",
              "      border-color: transparent;\n",
              "      border-bottom-color: var(--fill-color);\n",
              "    }\n",
              "  }\n",
              "</style>\n",
              "\n",
              "  <script>\n",
              "    async function quickchart(key) {\n",
              "      const quickchartButtonEl =\n",
              "        document.querySelector('#' + key + ' button');\n",
              "      quickchartButtonEl.disabled = true;  // To prevent multiple clicks.\n",
              "      quickchartButtonEl.classList.add('colab-df-spinner');\n",
              "      try {\n",
              "        const charts = await google.colab.kernel.invokeFunction(\n",
              "            'suggestCharts', [key], {});\n",
              "      } catch (error) {\n",
              "        console.error('Error during call to suggestCharts:', error);\n",
              "      }\n",
              "      quickchartButtonEl.classList.remove('colab-df-spinner');\n",
              "      quickchartButtonEl.classList.add('colab-df-quickchart-complete');\n",
              "    }\n",
              "    (() => {\n",
              "      let quickchartButtonEl =\n",
              "        document.querySelector('#df-b717841c-0c5f-478c-a552-7801ba2ba1e4 button');\n",
              "      quickchartButtonEl.style.display =\n",
              "        google.colab.kernel.accessAllowed ? 'block' : 'none';\n",
              "    })();\n",
              "  </script>\n",
              "</div>\n",
              "    </div>\n",
              "  </div>\n"
            ]
          },
          "metadata": {},
          "execution_count": 96
        }
      ],
      "source": [
        "data = pd.read_csv('/content/Churn.csv')\n",
        "data.head()"
      ]
    },
    {
      "cell_type": "code",
      "execution_count": 97,
      "metadata": {
        "colab": {
          "base_uri": "https://localhost:8080/"
        },
        "id": "KNggNOAxVuaV",
        "outputId": "8881f1ac-8842-4abe-e911-13c53d4372aa"
      },
      "outputs": [
        {
          "output_type": "stream",
          "name": "stdout",
          "text": [
            "<class 'pandas.core.frame.DataFrame'>\n",
            "RangeIndex: 10000 entries, 0 to 9999\n",
            "Data columns (total 14 columns):\n",
            " #   Column           Non-Null Count  Dtype  \n",
            "---  ------           --------------  -----  \n",
            " 0   RowNumber        10000 non-null  int64  \n",
            " 1   CustomerId       10000 non-null  int64  \n",
            " 2   Surname          10000 non-null  object \n",
            " 3   CreditScore      10000 non-null  int64  \n",
            " 4   Geography        10000 non-null  object \n",
            " 5   Gender           10000 non-null  object \n",
            " 6   Age              10000 non-null  int64  \n",
            " 7   Tenure           9091 non-null   float64\n",
            " 8   Balance          10000 non-null  float64\n",
            " 9   NumOfProducts    10000 non-null  int64  \n",
            " 10  HasCrCard        10000 non-null  int64  \n",
            " 11  IsActiveMember   10000 non-null  int64  \n",
            " 12  EstimatedSalary  10000 non-null  float64\n",
            " 13  Exited           10000 non-null  int64  \n",
            "dtypes: float64(3), int64(8), object(3)\n",
            "memory usage: 1.1+ MB\n"
          ]
        }
      ],
      "source": [
        "data.info()"
      ]
    },
    {
      "cell_type": "markdown",
      "metadata": {
        "id": "pTv4nlJaVuaV"
      },
      "source": [
        "**Признаки**\n",
        "\n",
        "- *RowNumber —* индекс строки в данных\n",
        "- *CustomerId* — уникальный идентификатор клиента\n",
        "- *Surname —* фамилия\n",
        "- *CreditScore —* кредитный рейтинг\n",
        "- *Geography —* страна проживания\n",
        "- *Gender —* пол\n",
        "- *Age —* возраст\n",
        "- *Tenure —* сколько лет человек является клиентом банка\n",
        "- *Balance —* баланс на счёте\n",
        "- *NumOfProducts —* количество продуктов банка, используемых клиентом\n",
        "- *HasCrCard —* наличие кредитной карты\n",
        "- *IsActiveMember —* активность клиента\n",
        "- *EstimatedSalary —* предполагаемая зарплата\n",
        "\n",
        "**Целевой признак**\n",
        "\n",
        "- *Exited* — факт ухода клиента"
      ]
    },
    {
      "cell_type": "code",
      "execution_count": 98,
      "metadata": {
        "colab": {
          "base_uri": "https://localhost:8080/",
          "height": 300
        },
        "id": "dk-E_V-4VuaV",
        "outputId": "deca63ee-4956-48ba-f93e-57b3fdf5cf82"
      },
      "outputs": [
        {
          "output_type": "execute_result",
          "data": {
            "text/plain": [
              "         RowNumber    CustomerId   CreditScore           Age       Tenure  \\\n",
              "count  10000.00000  1.000000e+04  10000.000000  10000.000000  9091.000000   \n",
              "mean    5000.50000  1.569094e+07    650.528800     38.921800     4.997690   \n",
              "std     2886.89568  7.193619e+04     96.653299     10.487806     2.894723   \n",
              "min        1.00000  1.556570e+07    350.000000     18.000000     0.000000   \n",
              "25%     2500.75000  1.562853e+07    584.000000     32.000000     2.000000   \n",
              "50%     5000.50000  1.569074e+07    652.000000     37.000000     5.000000   \n",
              "75%     7500.25000  1.575323e+07    718.000000     44.000000     7.000000   \n",
              "max    10000.00000  1.581569e+07    850.000000     92.000000    10.000000   \n",
              "\n",
              "             Balance  NumOfProducts    HasCrCard  IsActiveMember  \\\n",
              "count   10000.000000   10000.000000  10000.00000    10000.000000   \n",
              "mean    76485.889288       1.530200      0.70550        0.515100   \n",
              "std     62397.405202       0.581654      0.45584        0.499797   \n",
              "min         0.000000       1.000000      0.00000        0.000000   \n",
              "25%         0.000000       1.000000      0.00000        0.000000   \n",
              "50%     97198.540000       1.000000      1.00000        1.000000   \n",
              "75%    127644.240000       2.000000      1.00000        1.000000   \n",
              "max    250898.090000       4.000000      1.00000        1.000000   \n",
              "\n",
              "       EstimatedSalary        Exited  \n",
              "count     10000.000000  10000.000000  \n",
              "mean     100090.239881      0.203700  \n",
              "std       57510.492818      0.402769  \n",
              "min          11.580000      0.000000  \n",
              "25%       51002.110000      0.000000  \n",
              "50%      100193.915000      0.000000  \n",
              "75%      149388.247500      0.000000  \n",
              "max      199992.480000      1.000000  "
            ],
            "text/html": [
              "\n",
              "  <div id=\"df-8d1386bd-5ada-48a8-8939-bccb011a454a\" class=\"colab-df-container\">\n",
              "    <div>\n",
              "<style scoped>\n",
              "    .dataframe tbody tr th:only-of-type {\n",
              "        vertical-align: middle;\n",
              "    }\n",
              "\n",
              "    .dataframe tbody tr th {\n",
              "        vertical-align: top;\n",
              "    }\n",
              "\n",
              "    .dataframe thead th {\n",
              "        text-align: right;\n",
              "    }\n",
              "</style>\n",
              "<table border=\"1\" class=\"dataframe\">\n",
              "  <thead>\n",
              "    <tr style=\"text-align: right;\">\n",
              "      <th></th>\n",
              "      <th>RowNumber</th>\n",
              "      <th>CustomerId</th>\n",
              "      <th>CreditScore</th>\n",
              "      <th>Age</th>\n",
              "      <th>Tenure</th>\n",
              "      <th>Balance</th>\n",
              "      <th>NumOfProducts</th>\n",
              "      <th>HasCrCard</th>\n",
              "      <th>IsActiveMember</th>\n",
              "      <th>EstimatedSalary</th>\n",
              "      <th>Exited</th>\n",
              "    </tr>\n",
              "  </thead>\n",
              "  <tbody>\n",
              "    <tr>\n",
              "      <th>count</th>\n",
              "      <td>10000.00000</td>\n",
              "      <td>1.000000e+04</td>\n",
              "      <td>10000.000000</td>\n",
              "      <td>10000.000000</td>\n",
              "      <td>9091.000000</td>\n",
              "      <td>10000.000000</td>\n",
              "      <td>10000.000000</td>\n",
              "      <td>10000.00000</td>\n",
              "      <td>10000.000000</td>\n",
              "      <td>10000.000000</td>\n",
              "      <td>10000.000000</td>\n",
              "    </tr>\n",
              "    <tr>\n",
              "      <th>mean</th>\n",
              "      <td>5000.50000</td>\n",
              "      <td>1.569094e+07</td>\n",
              "      <td>650.528800</td>\n",
              "      <td>38.921800</td>\n",
              "      <td>4.997690</td>\n",
              "      <td>76485.889288</td>\n",
              "      <td>1.530200</td>\n",
              "      <td>0.70550</td>\n",
              "      <td>0.515100</td>\n",
              "      <td>100090.239881</td>\n",
              "      <td>0.203700</td>\n",
              "    </tr>\n",
              "    <tr>\n",
              "      <th>std</th>\n",
              "      <td>2886.89568</td>\n",
              "      <td>7.193619e+04</td>\n",
              "      <td>96.653299</td>\n",
              "      <td>10.487806</td>\n",
              "      <td>2.894723</td>\n",
              "      <td>62397.405202</td>\n",
              "      <td>0.581654</td>\n",
              "      <td>0.45584</td>\n",
              "      <td>0.499797</td>\n",
              "      <td>57510.492818</td>\n",
              "      <td>0.402769</td>\n",
              "    </tr>\n",
              "    <tr>\n",
              "      <th>min</th>\n",
              "      <td>1.00000</td>\n",
              "      <td>1.556570e+07</td>\n",
              "      <td>350.000000</td>\n",
              "      <td>18.000000</td>\n",
              "      <td>0.000000</td>\n",
              "      <td>0.000000</td>\n",
              "      <td>1.000000</td>\n",
              "      <td>0.00000</td>\n",
              "      <td>0.000000</td>\n",
              "      <td>11.580000</td>\n",
              "      <td>0.000000</td>\n",
              "    </tr>\n",
              "    <tr>\n",
              "      <th>25%</th>\n",
              "      <td>2500.75000</td>\n",
              "      <td>1.562853e+07</td>\n",
              "      <td>584.000000</td>\n",
              "      <td>32.000000</td>\n",
              "      <td>2.000000</td>\n",
              "      <td>0.000000</td>\n",
              "      <td>1.000000</td>\n",
              "      <td>0.00000</td>\n",
              "      <td>0.000000</td>\n",
              "      <td>51002.110000</td>\n",
              "      <td>0.000000</td>\n",
              "    </tr>\n",
              "    <tr>\n",
              "      <th>50%</th>\n",
              "      <td>5000.50000</td>\n",
              "      <td>1.569074e+07</td>\n",
              "      <td>652.000000</td>\n",
              "      <td>37.000000</td>\n",
              "      <td>5.000000</td>\n",
              "      <td>97198.540000</td>\n",
              "      <td>1.000000</td>\n",
              "      <td>1.00000</td>\n",
              "      <td>1.000000</td>\n",
              "      <td>100193.915000</td>\n",
              "      <td>0.000000</td>\n",
              "    </tr>\n",
              "    <tr>\n",
              "      <th>75%</th>\n",
              "      <td>7500.25000</td>\n",
              "      <td>1.575323e+07</td>\n",
              "      <td>718.000000</td>\n",
              "      <td>44.000000</td>\n",
              "      <td>7.000000</td>\n",
              "      <td>127644.240000</td>\n",
              "      <td>2.000000</td>\n",
              "      <td>1.00000</td>\n",
              "      <td>1.000000</td>\n",
              "      <td>149388.247500</td>\n",
              "      <td>0.000000</td>\n",
              "    </tr>\n",
              "    <tr>\n",
              "      <th>max</th>\n",
              "      <td>10000.00000</td>\n",
              "      <td>1.581569e+07</td>\n",
              "      <td>850.000000</td>\n",
              "      <td>92.000000</td>\n",
              "      <td>10.000000</td>\n",
              "      <td>250898.090000</td>\n",
              "      <td>4.000000</td>\n",
              "      <td>1.00000</td>\n",
              "      <td>1.000000</td>\n",
              "      <td>199992.480000</td>\n",
              "      <td>1.000000</td>\n",
              "    </tr>\n",
              "  </tbody>\n",
              "</table>\n",
              "</div>\n",
              "    <div class=\"colab-df-buttons\">\n",
              "\n",
              "  <div class=\"colab-df-container\">\n",
              "    <button class=\"colab-df-convert\" onclick=\"convertToInteractive('df-8d1386bd-5ada-48a8-8939-bccb011a454a')\"\n",
              "            title=\"Convert this dataframe to an interactive table.\"\n",
              "            style=\"display:none;\">\n",
              "\n",
              "  <svg xmlns=\"http://www.w3.org/2000/svg\" height=\"24px\" viewBox=\"0 -960 960 960\">\n",
              "    <path d=\"M120-120v-720h720v720H120Zm60-500h600v-160H180v160Zm220 220h160v-160H400v160Zm0 220h160v-160H400v160ZM180-400h160v-160H180v160Zm440 0h160v-160H620v160ZM180-180h160v-160H180v160Zm440 0h160v-160H620v160Z\"/>\n",
              "  </svg>\n",
              "    </button>\n",
              "\n",
              "  <style>\n",
              "    .colab-df-container {\n",
              "      display:flex;\n",
              "      gap: 12px;\n",
              "    }\n",
              "\n",
              "    .colab-df-convert {\n",
              "      background-color: #E8F0FE;\n",
              "      border: none;\n",
              "      border-radius: 50%;\n",
              "      cursor: pointer;\n",
              "      display: none;\n",
              "      fill: #1967D2;\n",
              "      height: 32px;\n",
              "      padding: 0 0 0 0;\n",
              "      width: 32px;\n",
              "    }\n",
              "\n",
              "    .colab-df-convert:hover {\n",
              "      background-color: #E2EBFA;\n",
              "      box-shadow: 0px 1px 2px rgba(60, 64, 67, 0.3), 0px 1px 3px 1px rgba(60, 64, 67, 0.15);\n",
              "      fill: #174EA6;\n",
              "    }\n",
              "\n",
              "    .colab-df-buttons div {\n",
              "      margin-bottom: 4px;\n",
              "    }\n",
              "\n",
              "    [theme=dark] .colab-df-convert {\n",
              "      background-color: #3B4455;\n",
              "      fill: #D2E3FC;\n",
              "    }\n",
              "\n",
              "    [theme=dark] .colab-df-convert:hover {\n",
              "      background-color: #434B5C;\n",
              "      box-shadow: 0px 1px 3px 1px rgba(0, 0, 0, 0.15);\n",
              "      filter: drop-shadow(0px 1px 2px rgba(0, 0, 0, 0.3));\n",
              "      fill: #FFFFFF;\n",
              "    }\n",
              "  </style>\n",
              "\n",
              "    <script>\n",
              "      const buttonEl =\n",
              "        document.querySelector('#df-8d1386bd-5ada-48a8-8939-bccb011a454a button.colab-df-convert');\n",
              "      buttonEl.style.display =\n",
              "        google.colab.kernel.accessAllowed ? 'block' : 'none';\n",
              "\n",
              "      async function convertToInteractive(key) {\n",
              "        const element = document.querySelector('#df-8d1386bd-5ada-48a8-8939-bccb011a454a');\n",
              "        const dataTable =\n",
              "          await google.colab.kernel.invokeFunction('convertToInteractive',\n",
              "                                                    [key], {});\n",
              "        if (!dataTable) return;\n",
              "\n",
              "        const docLinkHtml = 'Like what you see? Visit the ' +\n",
              "          '<a target=\"_blank\" href=https://colab.research.google.com/notebooks/data_table.ipynb>data table notebook</a>'\n",
              "          + ' to learn more about interactive tables.';\n",
              "        element.innerHTML = '';\n",
              "        dataTable['output_type'] = 'display_data';\n",
              "        await google.colab.output.renderOutput(dataTable, element);\n",
              "        const docLink = document.createElement('div');\n",
              "        docLink.innerHTML = docLinkHtml;\n",
              "        element.appendChild(docLink);\n",
              "      }\n",
              "    </script>\n",
              "  </div>\n",
              "\n",
              "\n",
              "<div id=\"df-903880f1-1063-4f5d-89a3-3692374fc3fb\">\n",
              "  <button class=\"colab-df-quickchart\" onclick=\"quickchart('df-903880f1-1063-4f5d-89a3-3692374fc3fb')\"\n",
              "            title=\"Suggest charts\"\n",
              "            style=\"display:none;\">\n",
              "\n",
              "<svg xmlns=\"http://www.w3.org/2000/svg\" height=\"24px\"viewBox=\"0 0 24 24\"\n",
              "     width=\"24px\">\n",
              "    <g>\n",
              "        <path d=\"M19 3H5c-1.1 0-2 .9-2 2v14c0 1.1.9 2 2 2h14c1.1 0 2-.9 2-2V5c0-1.1-.9-2-2-2zM9 17H7v-7h2v7zm4 0h-2V7h2v10zm4 0h-2v-4h2v4z\"/>\n",
              "    </g>\n",
              "</svg>\n",
              "  </button>\n",
              "\n",
              "<style>\n",
              "  .colab-df-quickchart {\n",
              "      --bg-color: #E8F0FE;\n",
              "      --fill-color: #1967D2;\n",
              "      --hover-bg-color: #E2EBFA;\n",
              "      --hover-fill-color: #174EA6;\n",
              "      --disabled-fill-color: #AAA;\n",
              "      --disabled-bg-color: #DDD;\n",
              "  }\n",
              "\n",
              "  [theme=dark] .colab-df-quickchart {\n",
              "      --bg-color: #3B4455;\n",
              "      --fill-color: #D2E3FC;\n",
              "      --hover-bg-color: #434B5C;\n",
              "      --hover-fill-color: #FFFFFF;\n",
              "      --disabled-bg-color: #3B4455;\n",
              "      --disabled-fill-color: #666;\n",
              "  }\n",
              "\n",
              "  .colab-df-quickchart {\n",
              "    background-color: var(--bg-color);\n",
              "    border: none;\n",
              "    border-radius: 50%;\n",
              "    cursor: pointer;\n",
              "    display: none;\n",
              "    fill: var(--fill-color);\n",
              "    height: 32px;\n",
              "    padding: 0;\n",
              "    width: 32px;\n",
              "  }\n",
              "\n",
              "  .colab-df-quickchart:hover {\n",
              "    background-color: var(--hover-bg-color);\n",
              "    box-shadow: 0 1px 2px rgba(60, 64, 67, 0.3), 0 1px 3px 1px rgba(60, 64, 67, 0.15);\n",
              "    fill: var(--button-hover-fill-color);\n",
              "  }\n",
              "\n",
              "  .colab-df-quickchart-complete:disabled,\n",
              "  .colab-df-quickchart-complete:disabled:hover {\n",
              "    background-color: var(--disabled-bg-color);\n",
              "    fill: var(--disabled-fill-color);\n",
              "    box-shadow: none;\n",
              "  }\n",
              "\n",
              "  .colab-df-spinner {\n",
              "    border: 2px solid var(--fill-color);\n",
              "    border-color: transparent;\n",
              "    border-bottom-color: var(--fill-color);\n",
              "    animation:\n",
              "      spin 1s steps(1) infinite;\n",
              "  }\n",
              "\n",
              "  @keyframes spin {\n",
              "    0% {\n",
              "      border-color: transparent;\n",
              "      border-bottom-color: var(--fill-color);\n",
              "      border-left-color: var(--fill-color);\n",
              "    }\n",
              "    20% {\n",
              "      border-color: transparent;\n",
              "      border-left-color: var(--fill-color);\n",
              "      border-top-color: var(--fill-color);\n",
              "    }\n",
              "    30% {\n",
              "      border-color: transparent;\n",
              "      border-left-color: var(--fill-color);\n",
              "      border-top-color: var(--fill-color);\n",
              "      border-right-color: var(--fill-color);\n",
              "    }\n",
              "    40% {\n",
              "      border-color: transparent;\n",
              "      border-right-color: var(--fill-color);\n",
              "      border-top-color: var(--fill-color);\n",
              "    }\n",
              "    60% {\n",
              "      border-color: transparent;\n",
              "      border-right-color: var(--fill-color);\n",
              "    }\n",
              "    80% {\n",
              "      border-color: transparent;\n",
              "      border-right-color: var(--fill-color);\n",
              "      border-bottom-color: var(--fill-color);\n",
              "    }\n",
              "    90% {\n",
              "      border-color: transparent;\n",
              "      border-bottom-color: var(--fill-color);\n",
              "    }\n",
              "  }\n",
              "</style>\n",
              "\n",
              "  <script>\n",
              "    async function quickchart(key) {\n",
              "      const quickchartButtonEl =\n",
              "        document.querySelector('#' + key + ' button');\n",
              "      quickchartButtonEl.disabled = true;  // To prevent multiple clicks.\n",
              "      quickchartButtonEl.classList.add('colab-df-spinner');\n",
              "      try {\n",
              "        const charts = await google.colab.kernel.invokeFunction(\n",
              "            'suggestCharts', [key], {});\n",
              "      } catch (error) {\n",
              "        console.error('Error during call to suggestCharts:', error);\n",
              "      }\n",
              "      quickchartButtonEl.classList.remove('colab-df-spinner');\n",
              "      quickchartButtonEl.classList.add('colab-df-quickchart-complete');\n",
              "    }\n",
              "    (() => {\n",
              "      let quickchartButtonEl =\n",
              "        document.querySelector('#df-903880f1-1063-4f5d-89a3-3692374fc3fb button');\n",
              "      quickchartButtonEl.style.display =\n",
              "        google.colab.kernel.accessAllowed ? 'block' : 'none';\n",
              "    })();\n",
              "  </script>\n",
              "</div>\n",
              "    </div>\n",
              "  </div>\n"
            ]
          },
          "metadata": {},
          "execution_count": 98
        }
      ],
      "source": [
        "data.describe()"
      ]
    },
    {
      "cell_type": "code",
      "execution_count": 99,
      "metadata": {
        "colab": {
          "base_uri": "https://localhost:8080/"
        },
        "id": "AQKh-v7AVuaV",
        "outputId": "86c987ef-124f-4d89-cdff-5013b56a9833"
      },
      "outputs": [
        {
          "output_type": "stream",
          "name": "stdout",
          "text": [
            "Уникальные значения столбца Gender: ['Female' 'Male']\n",
            "Уникальные значения столбца Geography: ['France' 'Spain' 'Germany']\n"
          ]
        }
      ],
      "source": [
        "print('Уникальные значения столбца Gender:', data['Gender'].unique())\n",
        "print(f'Уникальные значения столбца Geography:', data['Geography'].unique())"
      ]
    },
    {
      "cell_type": "markdown",
      "metadata": {
        "id": "lD9X-0wfVuaV"
      },
      "source": [
        "В столбцах `CustomerId` и `Surname` содержится уникальная информация о пользователе, столбец `RowNumber` дублирует индексы. Для обучения модели данные столбцы не представляют особой ценности, а могут лишь усложнить обучение. Проверим датасет на дубликаты и, если они отсутсвуют, удалим эти столбцы.\n",
        "\n",
        "В столбце `Tenure` отсутствуют значения. Так как доля пропусков мала заменим их медианным значением.\n",
        "\n",
        "В столбцах `Geography`, `Gender`, `NumOfProducts`, `HasCrCard` и `IsActiveMember` содержится категориальная информация, но данные столбцов `Geography` и `Gender` необходимо преобразовать с помощью прямного кодирования (OHE)."
      ]
    },
    {
      "cell_type": "markdown",
      "metadata": {
        "id": "3iGev_2dVuaV"
      },
      "source": [
        "### Предобработка данных"
      ]
    },
    {
      "cell_type": "markdown",
      "metadata": {
        "id": "pEaNn3uKVuaW"
      },
      "source": [
        "Проверим данные на наличие явных дубликатов."
      ]
    },
    {
      "cell_type": "code",
      "execution_count": 100,
      "metadata": {
        "colab": {
          "base_uri": "https://localhost:8080/"
        },
        "id": "q2tBPDPlVuaW",
        "outputId": "3bf0458e-2308-4668-ce32-e6acfd83c889"
      },
      "outputs": [
        {
          "output_type": "execute_result",
          "data": {
            "text/plain": [
              "0"
            ]
          },
          "metadata": {},
          "execution_count": 100
        }
      ],
      "source": [
        "data.duplicated().sum()"
      ]
    },
    {
      "cell_type": "markdown",
      "metadata": {
        "id": "mvt1YWAsVuaW"
      },
      "source": [
        "Заполним пропуски в столбце `Tenure` медианным значением."
      ]
    },
    {
      "cell_type": "code",
      "execution_count": 101,
      "metadata": {
        "id": "bNO8n4W9VuaW"
      },
      "outputs": [],
      "source": [
        "data['Tenure'] = data['Tenure'].fillna(data['Tenure'].median())"
      ]
    },
    {
      "cell_type": "code",
      "execution_count": 102,
      "metadata": {
        "colab": {
          "base_uri": "https://localhost:8080/"
        },
        "id": "hcdthAQ-VuaW",
        "outputId": "918b43ef-9f3d-4fc5-d54c-beeabf53c58a"
      },
      "outputs": [
        {
          "output_type": "stream",
          "name": "stdout",
          "text": [
            "Количество пропусков в столбце \"Tenure\": 0\n"
          ]
        }
      ],
      "source": [
        "print('Количество пропусков в столбце \"Tenure\":', data['Tenure'].isna().sum())"
      ]
    },
    {
      "cell_type": "markdown",
      "metadata": {
        "id": "rEXIRn6mVuaW"
      },
      "source": [
        "### Подготовка данных"
      ]
    },
    {
      "cell_type": "markdown",
      "metadata": {
        "id": "e6_nJqreVuaW"
      },
      "source": [
        "Удалим лишние столбцы - `RowNumber`, `CustomerId` и `Surname`."
      ]
    },
    {
      "cell_type": "code",
      "execution_count": 103,
      "metadata": {
        "id": "gXgp-A5kVuaX"
      },
      "outputs": [],
      "source": [
        "data = data.drop(['RowNumber', 'CustomerId', 'Surname'], axis=1)"
      ]
    },
    {
      "cell_type": "markdown",
      "metadata": {
        "id": "3w2B7F7LVuaX"
      },
      "source": [
        "Сохраним в переменную X - все признаки, кроме целевого, а в переменную Y целевой признак. И разобъем датасет на три выборки в пропорции 3-1-1."
      ]
    },
    {
      "cell_type": "code",
      "execution_count": 104,
      "metadata": {
        "id": "-8IxxoT8VuaX"
      },
      "outputs": [],
      "source": [
        "X = data.drop(['Exited'], axis=1)  # Признаки\n",
        "Y = data['Exited']  # Целевой признак"
      ]
    },
    {
      "cell_type": "code",
      "execution_count": 105,
      "metadata": {
        "id": "z2OusfvtVuaX"
      },
      "outputs": [],
      "source": [
        "# Разобъем на обучающую и подготовительно-валидационную (60% - 40%)\n",
        "X_train, X_valid, Y_train, Y_valid = train_test_split(X, Y, test_size=0.4, random_state=123, stratify=Y)\n",
        "\n",
        "# Разобъем на валидационную и ткстовую (50% - 50%)\n",
        "X_valid, X_test, Y_valid, Y_test = train_test_split(X_valid, Y_valid, test_size=0.5, random_state=123, stratify=Y_valid)\n",
        "X_train = X_train.reset_index(drop=True)\n",
        "Y_train = Y_train.reset_index(drop=True)\n",
        "X_valid = X_valid.reset_index(drop=True)\n",
        "Y_valid = Y_valid.reset_index(drop=True)\n",
        "X_test = X_test.reset_index(drop=True)\n",
        "Y_test = Y_test.reset_index(drop=True)"
      ]
    },
    {
      "cell_type": "code",
      "execution_count": 106,
      "metadata": {
        "colab": {
          "base_uri": "https://localhost:8080/"
        },
        "id": "UYWZ1z1VVuaX",
        "outputId": "ddf3278d-6720-4b1f-947b-549b3bda99a8"
      },
      "outputs": [
        {
          "output_type": "stream",
          "name": "stdout",
          "text": [
            "Размер обучающей выборки равен: признаки - 6000, целевой признак - 6000.\n",
            "Размер валидационной выборки равен: признаки - 2000, целевой признак - 2000.\n",
            "Размер тестовой выборки равен: признаки - 2000, целевой признак - 2000.\n"
          ]
        }
      ],
      "source": [
        "# Проверим размерность выборок\n",
        "print(f'Размер обучающей выборки равен: признаки - {X_train.shape[0]}, целевой признак - {Y_train.shape[0]}.')\n",
        "print(f'Размер валидационной выборки равен: признаки - {X_valid.shape[0]}, целевой признак - {Y_valid.shape[0]}.')\n",
        "print(f'Размер тестовой выборки равен: признаки - {X_test.shape[0]}, целевой признак - {Y_test.shape[0]}.')"
      ]
    },
    {
      "cell_type": "code",
      "execution_count": 107,
      "metadata": {
        "colab": {
          "base_uri": "https://localhost:8080/",
          "height": 206
        },
        "id": "MouHxLTUVuaX",
        "outputId": "2a78e775-d39f-437b-ce5c-2814e0195f0c"
      },
      "outputs": [
        {
          "output_type": "execute_result",
          "data": {
            "text/plain": [
              "   CreditScore Geography  Gender  Age  Tenure    Balance  NumOfProducts  \\\n",
              "0          547   Germany    Male   55     5.0  111362.76              3   \n",
              "1          755   Germany  Female   38     1.0   82083.52              1   \n",
              "2          667    France    Male   44     5.0  122806.95              1   \n",
              "3          796     Spain    Male   67     5.0       0.00              2   \n",
              "4          449    France  Female   37     6.0       0.00              2   \n",
              "\n",
              "   HasCrCard  IsActiveMember  EstimatedSalary  \n",
              "0          1               0         16922.28  \n",
              "1          0               1         10333.78  \n",
              "2          0               0         15120.86  \n",
              "3          0               1         54871.02  \n",
              "4          1               0         82176.48  "
            ],
            "text/html": [
              "\n",
              "  <div id=\"df-2f484630-d473-4330-8608-74d4de9bb524\" class=\"colab-df-container\">\n",
              "    <div>\n",
              "<style scoped>\n",
              "    .dataframe tbody tr th:only-of-type {\n",
              "        vertical-align: middle;\n",
              "    }\n",
              "\n",
              "    .dataframe tbody tr th {\n",
              "        vertical-align: top;\n",
              "    }\n",
              "\n",
              "    .dataframe thead th {\n",
              "        text-align: right;\n",
              "    }\n",
              "</style>\n",
              "<table border=\"1\" class=\"dataframe\">\n",
              "  <thead>\n",
              "    <tr style=\"text-align: right;\">\n",
              "      <th></th>\n",
              "      <th>CreditScore</th>\n",
              "      <th>Geography</th>\n",
              "      <th>Gender</th>\n",
              "      <th>Age</th>\n",
              "      <th>Tenure</th>\n",
              "      <th>Balance</th>\n",
              "      <th>NumOfProducts</th>\n",
              "      <th>HasCrCard</th>\n",
              "      <th>IsActiveMember</th>\n",
              "      <th>EstimatedSalary</th>\n",
              "    </tr>\n",
              "  </thead>\n",
              "  <tbody>\n",
              "    <tr>\n",
              "      <th>0</th>\n",
              "      <td>547</td>\n",
              "      <td>Germany</td>\n",
              "      <td>Male</td>\n",
              "      <td>55</td>\n",
              "      <td>5.0</td>\n",
              "      <td>111362.76</td>\n",
              "      <td>3</td>\n",
              "      <td>1</td>\n",
              "      <td>0</td>\n",
              "      <td>16922.28</td>\n",
              "    </tr>\n",
              "    <tr>\n",
              "      <th>1</th>\n",
              "      <td>755</td>\n",
              "      <td>Germany</td>\n",
              "      <td>Female</td>\n",
              "      <td>38</td>\n",
              "      <td>1.0</td>\n",
              "      <td>82083.52</td>\n",
              "      <td>1</td>\n",
              "      <td>0</td>\n",
              "      <td>1</td>\n",
              "      <td>10333.78</td>\n",
              "    </tr>\n",
              "    <tr>\n",
              "      <th>2</th>\n",
              "      <td>667</td>\n",
              "      <td>France</td>\n",
              "      <td>Male</td>\n",
              "      <td>44</td>\n",
              "      <td>5.0</td>\n",
              "      <td>122806.95</td>\n",
              "      <td>1</td>\n",
              "      <td>0</td>\n",
              "      <td>0</td>\n",
              "      <td>15120.86</td>\n",
              "    </tr>\n",
              "    <tr>\n",
              "      <th>3</th>\n",
              "      <td>796</td>\n",
              "      <td>Spain</td>\n",
              "      <td>Male</td>\n",
              "      <td>67</td>\n",
              "      <td>5.0</td>\n",
              "      <td>0.00</td>\n",
              "      <td>2</td>\n",
              "      <td>0</td>\n",
              "      <td>1</td>\n",
              "      <td>54871.02</td>\n",
              "    </tr>\n",
              "    <tr>\n",
              "      <th>4</th>\n",
              "      <td>449</td>\n",
              "      <td>France</td>\n",
              "      <td>Female</td>\n",
              "      <td>37</td>\n",
              "      <td>6.0</td>\n",
              "      <td>0.00</td>\n",
              "      <td>2</td>\n",
              "      <td>1</td>\n",
              "      <td>0</td>\n",
              "      <td>82176.48</td>\n",
              "    </tr>\n",
              "  </tbody>\n",
              "</table>\n",
              "</div>\n",
              "    <div class=\"colab-df-buttons\">\n",
              "\n",
              "  <div class=\"colab-df-container\">\n",
              "    <button class=\"colab-df-convert\" onclick=\"convertToInteractive('df-2f484630-d473-4330-8608-74d4de9bb524')\"\n",
              "            title=\"Convert this dataframe to an interactive table.\"\n",
              "            style=\"display:none;\">\n",
              "\n",
              "  <svg xmlns=\"http://www.w3.org/2000/svg\" height=\"24px\" viewBox=\"0 -960 960 960\">\n",
              "    <path d=\"M120-120v-720h720v720H120Zm60-500h600v-160H180v160Zm220 220h160v-160H400v160Zm0 220h160v-160H400v160ZM180-400h160v-160H180v160Zm440 0h160v-160H620v160ZM180-180h160v-160H180v160Zm440 0h160v-160H620v160Z\"/>\n",
              "  </svg>\n",
              "    </button>\n",
              "\n",
              "  <style>\n",
              "    .colab-df-container {\n",
              "      display:flex;\n",
              "      gap: 12px;\n",
              "    }\n",
              "\n",
              "    .colab-df-convert {\n",
              "      background-color: #E8F0FE;\n",
              "      border: none;\n",
              "      border-radius: 50%;\n",
              "      cursor: pointer;\n",
              "      display: none;\n",
              "      fill: #1967D2;\n",
              "      height: 32px;\n",
              "      padding: 0 0 0 0;\n",
              "      width: 32px;\n",
              "    }\n",
              "\n",
              "    .colab-df-convert:hover {\n",
              "      background-color: #E2EBFA;\n",
              "      box-shadow: 0px 1px 2px rgba(60, 64, 67, 0.3), 0px 1px 3px 1px rgba(60, 64, 67, 0.15);\n",
              "      fill: #174EA6;\n",
              "    }\n",
              "\n",
              "    .colab-df-buttons div {\n",
              "      margin-bottom: 4px;\n",
              "    }\n",
              "\n",
              "    [theme=dark] .colab-df-convert {\n",
              "      background-color: #3B4455;\n",
              "      fill: #D2E3FC;\n",
              "    }\n",
              "\n",
              "    [theme=dark] .colab-df-convert:hover {\n",
              "      background-color: #434B5C;\n",
              "      box-shadow: 0px 1px 3px 1px rgba(0, 0, 0, 0.15);\n",
              "      filter: drop-shadow(0px 1px 2px rgba(0, 0, 0, 0.3));\n",
              "      fill: #FFFFFF;\n",
              "    }\n",
              "  </style>\n",
              "\n",
              "    <script>\n",
              "      const buttonEl =\n",
              "        document.querySelector('#df-2f484630-d473-4330-8608-74d4de9bb524 button.colab-df-convert');\n",
              "      buttonEl.style.display =\n",
              "        google.colab.kernel.accessAllowed ? 'block' : 'none';\n",
              "\n",
              "      async function convertToInteractive(key) {\n",
              "        const element = document.querySelector('#df-2f484630-d473-4330-8608-74d4de9bb524');\n",
              "        const dataTable =\n",
              "          await google.colab.kernel.invokeFunction('convertToInteractive',\n",
              "                                                    [key], {});\n",
              "        if (!dataTable) return;\n",
              "\n",
              "        const docLinkHtml = 'Like what you see? Visit the ' +\n",
              "          '<a target=\"_blank\" href=https://colab.research.google.com/notebooks/data_table.ipynb>data table notebook</a>'\n",
              "          + ' to learn more about interactive tables.';\n",
              "        element.innerHTML = '';\n",
              "        dataTable['output_type'] = 'display_data';\n",
              "        await google.colab.output.renderOutput(dataTable, element);\n",
              "        const docLink = document.createElement('div');\n",
              "        docLink.innerHTML = docLinkHtml;\n",
              "        element.appendChild(docLink);\n",
              "      }\n",
              "    </script>\n",
              "  </div>\n",
              "\n",
              "\n",
              "<div id=\"df-a4511d06-42f9-4ec4-b29e-06755c0a94ee\">\n",
              "  <button class=\"colab-df-quickchart\" onclick=\"quickchart('df-a4511d06-42f9-4ec4-b29e-06755c0a94ee')\"\n",
              "            title=\"Suggest charts\"\n",
              "            style=\"display:none;\">\n",
              "\n",
              "<svg xmlns=\"http://www.w3.org/2000/svg\" height=\"24px\"viewBox=\"0 0 24 24\"\n",
              "     width=\"24px\">\n",
              "    <g>\n",
              "        <path d=\"M19 3H5c-1.1 0-2 .9-2 2v14c0 1.1.9 2 2 2h14c1.1 0 2-.9 2-2V5c0-1.1-.9-2-2-2zM9 17H7v-7h2v7zm4 0h-2V7h2v10zm4 0h-2v-4h2v4z\"/>\n",
              "    </g>\n",
              "</svg>\n",
              "  </button>\n",
              "\n",
              "<style>\n",
              "  .colab-df-quickchart {\n",
              "      --bg-color: #E8F0FE;\n",
              "      --fill-color: #1967D2;\n",
              "      --hover-bg-color: #E2EBFA;\n",
              "      --hover-fill-color: #174EA6;\n",
              "      --disabled-fill-color: #AAA;\n",
              "      --disabled-bg-color: #DDD;\n",
              "  }\n",
              "\n",
              "  [theme=dark] .colab-df-quickchart {\n",
              "      --bg-color: #3B4455;\n",
              "      --fill-color: #D2E3FC;\n",
              "      --hover-bg-color: #434B5C;\n",
              "      --hover-fill-color: #FFFFFF;\n",
              "      --disabled-bg-color: #3B4455;\n",
              "      --disabled-fill-color: #666;\n",
              "  }\n",
              "\n",
              "  .colab-df-quickchart {\n",
              "    background-color: var(--bg-color);\n",
              "    border: none;\n",
              "    border-radius: 50%;\n",
              "    cursor: pointer;\n",
              "    display: none;\n",
              "    fill: var(--fill-color);\n",
              "    height: 32px;\n",
              "    padding: 0;\n",
              "    width: 32px;\n",
              "  }\n",
              "\n",
              "  .colab-df-quickchart:hover {\n",
              "    background-color: var(--hover-bg-color);\n",
              "    box-shadow: 0 1px 2px rgba(60, 64, 67, 0.3), 0 1px 3px 1px rgba(60, 64, 67, 0.15);\n",
              "    fill: var(--button-hover-fill-color);\n",
              "  }\n",
              "\n",
              "  .colab-df-quickchart-complete:disabled,\n",
              "  .colab-df-quickchart-complete:disabled:hover {\n",
              "    background-color: var(--disabled-bg-color);\n",
              "    fill: var(--disabled-fill-color);\n",
              "    box-shadow: none;\n",
              "  }\n",
              "\n",
              "  .colab-df-spinner {\n",
              "    border: 2px solid var(--fill-color);\n",
              "    border-color: transparent;\n",
              "    border-bottom-color: var(--fill-color);\n",
              "    animation:\n",
              "      spin 1s steps(1) infinite;\n",
              "  }\n",
              "\n",
              "  @keyframes spin {\n",
              "    0% {\n",
              "      border-color: transparent;\n",
              "      border-bottom-color: var(--fill-color);\n",
              "      border-left-color: var(--fill-color);\n",
              "    }\n",
              "    20% {\n",
              "      border-color: transparent;\n",
              "      border-left-color: var(--fill-color);\n",
              "      border-top-color: var(--fill-color);\n",
              "    }\n",
              "    30% {\n",
              "      border-color: transparent;\n",
              "      border-left-color: var(--fill-color);\n",
              "      border-top-color: var(--fill-color);\n",
              "      border-right-color: var(--fill-color);\n",
              "    }\n",
              "    40% {\n",
              "      border-color: transparent;\n",
              "      border-right-color: var(--fill-color);\n",
              "      border-top-color: var(--fill-color);\n",
              "    }\n",
              "    60% {\n",
              "      border-color: transparent;\n",
              "      border-right-color: var(--fill-color);\n",
              "    }\n",
              "    80% {\n",
              "      border-color: transparent;\n",
              "      border-right-color: var(--fill-color);\n",
              "      border-bottom-color: var(--fill-color);\n",
              "    }\n",
              "    90% {\n",
              "      border-color: transparent;\n",
              "      border-bottom-color: var(--fill-color);\n",
              "    }\n",
              "  }\n",
              "</style>\n",
              "\n",
              "  <script>\n",
              "    async function quickchart(key) {\n",
              "      const quickchartButtonEl =\n",
              "        document.querySelector('#' + key + ' button');\n",
              "      quickchartButtonEl.disabled = true;  // To prevent multiple clicks.\n",
              "      quickchartButtonEl.classList.add('colab-df-spinner');\n",
              "      try {\n",
              "        const charts = await google.colab.kernel.invokeFunction(\n",
              "            'suggestCharts', [key], {});\n",
              "      } catch (error) {\n",
              "        console.error('Error during call to suggestCharts:', error);\n",
              "      }\n",
              "      quickchartButtonEl.classList.remove('colab-df-spinner');\n",
              "      quickchartButtonEl.classList.add('colab-df-quickchart-complete');\n",
              "    }\n",
              "    (() => {\n",
              "      let quickchartButtonEl =\n",
              "        document.querySelector('#df-a4511d06-42f9-4ec4-b29e-06755c0a94ee button');\n",
              "      quickchartButtonEl.style.display =\n",
              "        google.colab.kernel.accessAllowed ? 'block' : 'none';\n",
              "    })();\n",
              "  </script>\n",
              "</div>\n",
              "    </div>\n",
              "  </div>\n"
            ]
          },
          "metadata": {},
          "execution_count": 107
        }
      ],
      "source": [
        "X_train.head()"
      ]
    },
    {
      "cell_type": "markdown",
      "metadata": {
        "id": "c9bNbA7QVuaX"
      },
      "source": [
        "Преобразуем столбцы `Geography` и `Gender`с помощью прямого OneHotEncoder."
      ]
    },
    {
      "cell_type": "markdown",
      "metadata": {
        "id": "zmpyzW3fVuad"
      },
      "source": [
        "Создадим функцию, которая будет кодировать столбцы с категориальными данными с помощбю OneHotEncoder."
      ]
    },
    {
      "cell_type": "code",
      "execution_count": 108,
      "metadata": {
        "id": "EHwNsJFkVuad"
      },
      "outputs": [],
      "source": [
        "ohe = OneHotEncoder(handle_unknown='ignore', drop='first').fit(X_train[['Geography', 'Gender']])\n",
        "\n",
        "# Функция принимает выборку и трансформирует ее столбцы с помощью OHE\n",
        "def ohe_transform(X):\n",
        "    data_ohe = ohe.transform(X[['Geography', 'Gender']]).toarray()\n",
        "    ohe_df_train = pd.DataFrame(data_ohe, columns=ohe.get_feature_names_out())  # Создаем датафрейм из полученных данных\n",
        "    X_ohe = X.merge(ohe_df_train, left_index = True, right_index = True)  # Объединяем с исходной выборкой\n",
        "    X_ohe = X_ohe.drop(['Geography', 'Gender'], axis=1)  # Удаляем трансформированные столбцы\n",
        "    return X_ohe"
      ]
    },
    {
      "cell_type": "code",
      "execution_count": 109,
      "metadata": {
        "colab": {
          "base_uri": "https://localhost:8080/"
        },
        "id": "GDhLT0yGVuae",
        "outputId": "8ad86e3a-c107-4594-c5f2-6f7fbe895600"
      },
      "outputs": [
        {
          "output_type": "stream",
          "name": "stdout",
          "text": [
            "Размер обучающей выборки равен: признаки - 6000\n",
            "Размер валидационной выборки равен: признаки - 2000\n",
            "Размер тестовой выборки равен: признаки - 2000\n"
          ]
        }
      ],
      "source": [
        "# Преобразуем выборки и проверим их размерность\n",
        "X_train = ohe_transform(X_train)\n",
        "X_valid = ohe_transform(X_valid)\n",
        "X_test = ohe_transform(X_test)\n",
        "\n",
        "print(f'Размер обучающей выборки равен: признаки - {X_train.shape[0]}')\n",
        "print(f'Размер валидационной выборки равен: признаки - {X_valid.shape[0]}')\n",
        "print(f'Размер тестовой выборки равен: признаки - {X_test.shape[0]}')"
      ]
    },
    {
      "cell_type": "markdown",
      "metadata": {
        "id": "xZFEa-TPVuae"
      },
      "source": [
        "### Масштабирование данных"
      ]
    },
    {
      "cell_type": "markdown",
      "metadata": {
        "id": "hX5M0bnNVuae"
      },
      "source": [
        "У столбцов с численными признаками разный масштаб. Чтобы модель не принимала за более значимый признак тот, значение которого больше остальных - стандартизируем признаки."
      ]
    },
    {
      "cell_type": "code",
      "execution_count": 110,
      "metadata": {
        "colab": {
          "base_uri": "https://localhost:8080/"
        },
        "id": "cTvA7-lGVuae",
        "outputId": "48969ed8-6376-4b51-ab08-7f9e196242c3"
      },
      "outputs": [
        {
          "output_type": "stream",
          "name": "stdout",
          "text": [
            "Итоговая размерность тренировочной выборки - (6000, 11).\n",
            "Итоговая размерность валидационной выборки - (2000, 11).\n",
            "Итоговая размерность тестовой выборки - (2000, 11).\n"
          ]
        }
      ],
      "source": [
        "pd.options.mode.chained_assignment = None  # Отключение предупреждения \"SettingWithCopy\"\n",
        "\n",
        "# Сохраним в переменную \"numeric\" все столбцы с численными признаками\n",
        "numeric = ['CreditScore', 'Age', 'Tenure', 'Balance', 'NumOfProducts', 'EstimatedSalary']\n",
        "\n",
        "scaler = StandardScaler()  # Создадим объект этой структуры и настроим его на обучающих данных\n",
        "scaler.fit(X_train[numeric])\n",
        "\n",
        "# Преобразуем выборки\n",
        "X_train[numeric] = scaler.transform(X_train[numeric])\n",
        "X_valid[numeric] = scaler.transform(X_valid[numeric])\n",
        "X_test[numeric] = scaler.transform(X_test[numeric])\n",
        "\n",
        "# Проверим итоговую размерность\n",
        "print(f'Итоговая размерность тренировочной выборки - {X_train.shape}.')\n",
        "print(f'Итоговая размерность валидационной выборки - {X_valid.shape}.')\n",
        "print(f'Итоговая размерность тестовой выборки - {X_test.shape}.')"
      ]
    },
    {
      "cell_type": "markdown",
      "metadata": {
        "id": "2KnA3k3TVuaf"
      },
      "source": [
        "### Вывод"
      ]
    },
    {
      "cell_type": "markdown",
      "metadata": {
        "id": "e1V8YUszVuaf"
      },
      "source": [
        "В данном разделе были изучены данные, обработаны пропуски, преобразованы категориальные данные и стандартизированным численные признаки. Данные разбиты на три выборки: обучающую(60%), валидационную(20%) и тестовую(20%).\n",
        "<br>Можем приступать к первому обучению моделей."
      ]
    },
    {
      "cell_type": "markdown",
      "metadata": {
        "id": "gDtXydohVuaf"
      },
      "source": [
        "## Исследование задачи"
      ]
    },
    {
      "cell_type": "markdown",
      "metadata": {
        "id": "Ao2vGnXXVuag"
      },
      "source": [
        "Проверим данные на сбалансированность."
      ]
    },
    {
      "cell_type": "code",
      "execution_count": 111,
      "metadata": {
        "colab": {
          "base_uri": "https://localhost:8080/"
        },
        "id": "DBztQ6j-Vuag",
        "outputId": "295d81d2-90b7-48dc-85f2-ac5d448851ff"
      },
      "outputs": [
        {
          "output_type": "stream",
          "name": "stdout",
          "text": [
            "Доля клиентов, расторгнувших договор - 0.2037\n"
          ]
        }
      ],
      "source": [
        "class_frequency = data['Exited'].value_counts(normalize=True)\n",
        "print('Доля клиентов, расторгнувших договор -', class_frequency[1])"
      ]
    },
    {
      "cell_type": "markdown",
      "metadata": {
        "id": "4bvupKciVuag"
      },
      "source": [
        "В данных наблюдается сильный дисбаланс классов. Около 20% положительного класса и 80% отрицательного.\n",
        "<br>Обучим модели, без учета дисбаланса, построим матрицу ошибок для каждой. И сравним получившиеся результаты с результатами каонстантной модели, всегда присваивабщей класс `0`."
      ]
    },
    {
      "cell_type": "markdown",
      "metadata": {
        "id": "noz7VZTpVuag"
      },
      "source": [
        "### Decision Tree"
      ]
    },
    {
      "cell_type": "markdown",
      "metadata": {
        "id": "CmJxRcE0Vuag"
      },
      "source": [
        "Создадим функцию для обучения дерева решений, котрая будет возвращать метрики лучшей модели."
      ]
    },
    {
      "cell_type": "code",
      "execution_count": 112,
      "metadata": {
        "id": "MwPelgTsVuag"
      },
      "outputs": [],
      "source": [
        "# Функция принимает максимальную глубину дерева +1, признаки и целевой признак обучающей выбороки,\n",
        "# значение параметра class_weight (при необходимости), обучает модель и возваращает лучшую модель, датафрейм с рассчитанными\n",
        "# метриками(F1, AUC-ROC, доля верных предсказаний, полнота, точность) и данные, для построения ROC-кривой.\n",
        "\n",
        "def decision_tree(features_train, target_train, class_weight=None):\n",
        "    best_f1 = -1  # Переменная для метрики F1\n",
        "    for depth in range(1, 16):  # Подберем лучшие гиперпараметры циклом\n",
        "        model = DecisionTreeClassifier(random_state=123, max_depth=depth, class_weight=class_weight)\n",
        "        model.fit(features_train, target_train)  # Обучим модель\n",
        "        predicted_valid = model.predict(X_valid)  # Предскажем значения валидационной выборки\n",
        "        f1 = f1_score(Y_valid, predicted_valid)  # Рассчитаем значение F1\n",
        "        if f1 > best_f1:  # Сохраним метрики при наибольшем значении F1\n",
        "            best_model = model\n",
        "            best_depth = depth\n",
        "            best_f1 = f1\n",
        "            probabilities_valid = model.predict_proba(X_valid)\n",
        "            probabilities_one_valid = probabilities_valid[:, 1]  # Вычислим вероятности положительного класса\n",
        "            roc_auc = roc_auc_score(Y_valid, probabilities_one_valid)  # Рассчитаем метрики качества модели\n",
        "            accuracy = accuracy_score(Y_valid, predicted_valid)\n",
        "            recall = recall_score(Y_valid, predicted_valid)\n",
        "            precision = precision_score(Y_valid, predicted_valid)\n",
        "            fpr, tpr, thresholds = roc_curve(Y_valid, probabilities_one_valid) # Сохраним данные, для построения ROC-кривой\n",
        "            result = ['DecTree', best_depth, best_f1, roc_auc, accuracy, recall, precision]\n",
        "            col = ['model', 'depth', 'F1_score', 'auc_roc', 'accuracy', 'recall', 'precision']\n",
        "            metrics = pd.DataFrame(data=[result], columns=col)\n",
        "    return(best_model, metrics, fpr, tpr)"
      ]
    },
    {
      "cell_type": "markdown",
      "metadata": {
        "id": "4njIF-03Vuag"
      },
      "source": [
        "Вызовем функцию и сохраним лучшую модель в model_dt, а ее метрики в metrics_dt."
      ]
    },
    {
      "cell_type": "code",
      "execution_count": 113,
      "metadata": {
        "colab": {
          "base_uri": "https://localhost:8080/"
        },
        "id": "xPKfCgXYVuag",
        "outputId": "12f92ba8-68cb-41c0-a312-8aedba56f829"
      },
      "outputs": [
        {
          "output_type": "stream",
          "name": "stderr",
          "text": [
            "/usr/local/lib/python3.10/dist-packages/sklearn/metrics/_classification.py:1471: UndefinedMetricWarning: Precision is ill-defined and being set to 0.0 due to no predicted samples. Use `zero_division` parameter to control this behavior.\n",
            "  _warn_prf(average, modifier, msg_start, len(result))\n",
            "100%|██████████| 4/4 [00:00<00:00, 35320.45it/s]"
          ]
        },
        {
          "output_type": "stream",
          "name": "stdout",
          "text": [
            "CPU times: user 552 ms, sys: 1.99 ms, total: 554 ms\n",
            "Wall time: 556 ms\n"
          ]
        },
        {
          "output_type": "stream",
          "name": "stderr",
          "text": [
            "\n"
          ]
        }
      ],
      "source": [
        "%%time\n",
        "model_dt, metrics_dt, fpr_dt, tpr_dt = tqdm(decision_tree(X_train, Y_train))"
      ]
    },
    {
      "cell_type": "markdown",
      "metadata": {
        "id": "V4aRzOUKVuah"
      },
      "source": [
        "Метрики качества для лучшей модели решающего дерева:"
      ]
    },
    {
      "cell_type": "code",
      "execution_count": 114,
      "metadata": {
        "colab": {
          "base_uri": "https://localhost:8080/",
          "height": 81
        },
        "id": "pEEB-8BVVuah",
        "outputId": "82cf9e55-7a95-42d8-ead1-a193ddfae053"
      },
      "outputs": [
        {
          "output_type": "execute_result",
          "data": {
            "text/plain": [
              "     model  depth  F1_score   auc_roc  accuracy    recall  precision\n",
              "0  DecTree      7  0.566474  0.819836      0.85  0.480392   0.690141"
            ],
            "text/html": [
              "\n",
              "  <div id=\"df-0f946dad-8042-4134-a024-7c578fcad07b\" class=\"colab-df-container\">\n",
              "    <div>\n",
              "<style scoped>\n",
              "    .dataframe tbody tr th:only-of-type {\n",
              "        vertical-align: middle;\n",
              "    }\n",
              "\n",
              "    .dataframe tbody tr th {\n",
              "        vertical-align: top;\n",
              "    }\n",
              "\n",
              "    .dataframe thead th {\n",
              "        text-align: right;\n",
              "    }\n",
              "</style>\n",
              "<table border=\"1\" class=\"dataframe\">\n",
              "  <thead>\n",
              "    <tr style=\"text-align: right;\">\n",
              "      <th></th>\n",
              "      <th>model</th>\n",
              "      <th>depth</th>\n",
              "      <th>F1_score</th>\n",
              "      <th>auc_roc</th>\n",
              "      <th>accuracy</th>\n",
              "      <th>recall</th>\n",
              "      <th>precision</th>\n",
              "    </tr>\n",
              "  </thead>\n",
              "  <tbody>\n",
              "    <tr>\n",
              "      <th>0</th>\n",
              "      <td>DecTree</td>\n",
              "      <td>7</td>\n",
              "      <td>0.566474</td>\n",
              "      <td>0.819836</td>\n",
              "      <td>0.85</td>\n",
              "      <td>0.480392</td>\n",
              "      <td>0.690141</td>\n",
              "    </tr>\n",
              "  </tbody>\n",
              "</table>\n",
              "</div>\n",
              "    <div class=\"colab-df-buttons\">\n",
              "\n",
              "  <div class=\"colab-df-container\">\n",
              "    <button class=\"colab-df-convert\" onclick=\"convertToInteractive('df-0f946dad-8042-4134-a024-7c578fcad07b')\"\n",
              "            title=\"Convert this dataframe to an interactive table.\"\n",
              "            style=\"display:none;\">\n",
              "\n",
              "  <svg xmlns=\"http://www.w3.org/2000/svg\" height=\"24px\" viewBox=\"0 -960 960 960\">\n",
              "    <path d=\"M120-120v-720h720v720H120Zm60-500h600v-160H180v160Zm220 220h160v-160H400v160Zm0 220h160v-160H400v160ZM180-400h160v-160H180v160Zm440 0h160v-160H620v160ZM180-180h160v-160H180v160Zm440 0h160v-160H620v160Z\"/>\n",
              "  </svg>\n",
              "    </button>\n",
              "\n",
              "  <style>\n",
              "    .colab-df-container {\n",
              "      display:flex;\n",
              "      gap: 12px;\n",
              "    }\n",
              "\n",
              "    .colab-df-convert {\n",
              "      background-color: #E8F0FE;\n",
              "      border: none;\n",
              "      border-radius: 50%;\n",
              "      cursor: pointer;\n",
              "      display: none;\n",
              "      fill: #1967D2;\n",
              "      height: 32px;\n",
              "      padding: 0 0 0 0;\n",
              "      width: 32px;\n",
              "    }\n",
              "\n",
              "    .colab-df-convert:hover {\n",
              "      background-color: #E2EBFA;\n",
              "      box-shadow: 0px 1px 2px rgba(60, 64, 67, 0.3), 0px 1px 3px 1px rgba(60, 64, 67, 0.15);\n",
              "      fill: #174EA6;\n",
              "    }\n",
              "\n",
              "    .colab-df-buttons div {\n",
              "      margin-bottom: 4px;\n",
              "    }\n",
              "\n",
              "    [theme=dark] .colab-df-convert {\n",
              "      background-color: #3B4455;\n",
              "      fill: #D2E3FC;\n",
              "    }\n",
              "\n",
              "    [theme=dark] .colab-df-convert:hover {\n",
              "      background-color: #434B5C;\n",
              "      box-shadow: 0px 1px 3px 1px rgba(0, 0, 0, 0.15);\n",
              "      filter: drop-shadow(0px 1px 2px rgba(0, 0, 0, 0.3));\n",
              "      fill: #FFFFFF;\n",
              "    }\n",
              "  </style>\n",
              "\n",
              "    <script>\n",
              "      const buttonEl =\n",
              "        document.querySelector('#df-0f946dad-8042-4134-a024-7c578fcad07b button.colab-df-convert');\n",
              "      buttonEl.style.display =\n",
              "        google.colab.kernel.accessAllowed ? 'block' : 'none';\n",
              "\n",
              "      async function convertToInteractive(key) {\n",
              "        const element = document.querySelector('#df-0f946dad-8042-4134-a024-7c578fcad07b');\n",
              "        const dataTable =\n",
              "          await google.colab.kernel.invokeFunction('convertToInteractive',\n",
              "                                                    [key], {});\n",
              "        if (!dataTable) return;\n",
              "\n",
              "        const docLinkHtml = 'Like what you see? Visit the ' +\n",
              "          '<a target=\"_blank\" href=https://colab.research.google.com/notebooks/data_table.ipynb>data table notebook</a>'\n",
              "          + ' to learn more about interactive tables.';\n",
              "        element.innerHTML = '';\n",
              "        dataTable['output_type'] = 'display_data';\n",
              "        await google.colab.output.renderOutput(dataTable, element);\n",
              "        const docLink = document.createElement('div');\n",
              "        docLink.innerHTML = docLinkHtml;\n",
              "        element.appendChild(docLink);\n",
              "      }\n",
              "    </script>\n",
              "  </div>\n",
              "\n",
              "    </div>\n",
              "  </div>\n"
            ]
          },
          "metadata": {},
          "execution_count": 114
        }
      ],
      "source": [
        "metrics_dt"
      ]
    },
    {
      "cell_type": "markdown",
      "metadata": {
        "id": "U9iwYDTIVuah"
      },
      "source": [
        "### Random Forest"
      ]
    },
    {
      "cell_type": "markdown",
      "metadata": {
        "id": "syHraoFBVuah"
      },
      "source": [
        "Напишем функцию для подбора параметров модели случайного леса."
      ]
    },
    {
      "cell_type": "code",
      "execution_count": 115,
      "metadata": {
        "id": "whzaogP2Vuah"
      },
      "outputs": [],
      "source": [
        "# Функция принимает признаки и целевой признак обучающей выборки, значения  параметра class_weight (при необходимости),\n",
        "# обучает модель и возваращает лучшую модель, датафрейм с рассчитанными метриками(F1, AUC-ROC, доля верных предсказаний,\n",
        "# полнота, точность) и данные, для построения ROC-кривой.\n",
        "\n",
        "def random_forest(features_train, target_train,\n",
        "                  class_weight=None):\n",
        "\n",
        "    best_f1 = -1  # Переменная для метрики F1\n",
        "    for est in range(10, 121, 5):\n",
        "        for depth in range(5, 26):\n",
        "            model = RandomForestClassifier(random_state=123, max_depth=depth, n_estimators=est, class_weight=class_weight)\n",
        "            model.fit(features_train, target_train)\n",
        "            predicted_valid = model.predict(X_valid)\n",
        "            f1 = f1_score(Y_valid, predicted_valid)  # Рассчитаем значение F1\n",
        "            if f1 > best_f1:  # Сохраним метрики при наибольшем значении F1\n",
        "                best_model = model\n",
        "                best_depth = depth\n",
        "                best_est = est\n",
        "                best_f1 = f1\n",
        "                probabilities_valid = model.predict_proba(X_valid)\n",
        "                probabilities_one_valid = probabilities_valid[:, 1]  # Вычислим вероятности положительного класса\n",
        "                roc_auc = roc_auc_score(Y_valid, probabilities_one_valid)  # Рассчитаем метрики качества модели\n",
        "                accuracy = accuracy_score(Y_valid, predicted_valid)\n",
        "                recall = recall_score(Y_valid, predicted_valid)\n",
        "                precision = precision_score(Y_valid, predicted_valid)\n",
        "                fpr, tpr, thresholds = roc_curve(Y_valid, probabilities_one_valid) # Сохраним данные, для построения ROC-кривой\n",
        "                result = ['RanFor', best_depth, best_est, best_f1, roc_auc, accuracy, recall, precision]\n",
        "                col = ['model', 'depth', 'n_estimators', 'F1_score', 'auc_roc', 'accuracy', 'recall', 'precision']\n",
        "                metrics = pd.DataFrame(data=[result], columns=col)\n",
        "    return(best_model, metrics, fpr, tpr)\n"
      ]
    },
    {
      "cell_type": "markdown",
      "metadata": {
        "id": "Be79PQyQVuah"
      },
      "source": [
        "Вызовем функцию и сохраним лучшую модель в model_rf, а ее метрики в metrics_rf."
      ]
    },
    {
      "cell_type": "code",
      "execution_count": 116,
      "metadata": {
        "colab": {
          "base_uri": "https://localhost:8080/"
        },
        "id": "giCdMePPVuah",
        "outputId": "78f4eefe-d83e-4d74-9080-5842f6f8ed47"
      },
      "outputs": [
        {
          "output_type": "stream",
          "name": "stdout",
          "text": [
            "CPU times: user 5min 18s, sys: 976 ms, total: 5min 19s\n",
            "Wall time: 5min 21s\n"
          ]
        }
      ],
      "source": [
        "%%time\n",
        "model_rf, metrics_rf, fpr_rf, tpr_rf = random_forest(X_train, Y_train)"
      ]
    },
    {
      "cell_type": "markdown",
      "metadata": {
        "id": "5n68wfygVuah"
      },
      "source": [
        "Метрики качества для лучшей модели случайного леса:"
      ]
    },
    {
      "cell_type": "code",
      "execution_count": 117,
      "metadata": {
        "colab": {
          "base_uri": "https://localhost:8080/",
          "height": 81
        },
        "id": "YYq4wlsmVuai",
        "outputId": "a1858f03-ecb3-4d83-ac4f-c74c54e590c4"
      },
      "outputs": [
        {
          "output_type": "execute_result",
          "data": {
            "text/plain": [
              "    model  depth  n_estimators  F1_score   auc_roc  accuracy    recall  \\\n",
              "0  RanFor      9            15  0.571885  0.849454     0.866  0.438725   \n",
              "\n",
              "   precision  \n",
              "0   0.821101  "
            ],
            "text/html": [
              "\n",
              "  <div id=\"df-57d2e9f7-7637-4068-b0d4-a72ace0968df\" class=\"colab-df-container\">\n",
              "    <div>\n",
              "<style scoped>\n",
              "    .dataframe tbody tr th:only-of-type {\n",
              "        vertical-align: middle;\n",
              "    }\n",
              "\n",
              "    .dataframe tbody tr th {\n",
              "        vertical-align: top;\n",
              "    }\n",
              "\n",
              "    .dataframe thead th {\n",
              "        text-align: right;\n",
              "    }\n",
              "</style>\n",
              "<table border=\"1\" class=\"dataframe\">\n",
              "  <thead>\n",
              "    <tr style=\"text-align: right;\">\n",
              "      <th></th>\n",
              "      <th>model</th>\n",
              "      <th>depth</th>\n",
              "      <th>n_estimators</th>\n",
              "      <th>F1_score</th>\n",
              "      <th>auc_roc</th>\n",
              "      <th>accuracy</th>\n",
              "      <th>recall</th>\n",
              "      <th>precision</th>\n",
              "    </tr>\n",
              "  </thead>\n",
              "  <tbody>\n",
              "    <tr>\n",
              "      <th>0</th>\n",
              "      <td>RanFor</td>\n",
              "      <td>9</td>\n",
              "      <td>15</td>\n",
              "      <td>0.571885</td>\n",
              "      <td>0.849454</td>\n",
              "      <td>0.866</td>\n",
              "      <td>0.438725</td>\n",
              "      <td>0.821101</td>\n",
              "    </tr>\n",
              "  </tbody>\n",
              "</table>\n",
              "</div>\n",
              "    <div class=\"colab-df-buttons\">\n",
              "\n",
              "  <div class=\"colab-df-container\">\n",
              "    <button class=\"colab-df-convert\" onclick=\"convertToInteractive('df-57d2e9f7-7637-4068-b0d4-a72ace0968df')\"\n",
              "            title=\"Convert this dataframe to an interactive table.\"\n",
              "            style=\"display:none;\">\n",
              "\n",
              "  <svg xmlns=\"http://www.w3.org/2000/svg\" height=\"24px\" viewBox=\"0 -960 960 960\">\n",
              "    <path d=\"M120-120v-720h720v720H120Zm60-500h600v-160H180v160Zm220 220h160v-160H400v160Zm0 220h160v-160H400v160ZM180-400h160v-160H180v160Zm440 0h160v-160H620v160ZM180-180h160v-160H180v160Zm440 0h160v-160H620v160Z\"/>\n",
              "  </svg>\n",
              "    </button>\n",
              "\n",
              "  <style>\n",
              "    .colab-df-container {\n",
              "      display:flex;\n",
              "      gap: 12px;\n",
              "    }\n",
              "\n",
              "    .colab-df-convert {\n",
              "      background-color: #E8F0FE;\n",
              "      border: none;\n",
              "      border-radius: 50%;\n",
              "      cursor: pointer;\n",
              "      display: none;\n",
              "      fill: #1967D2;\n",
              "      height: 32px;\n",
              "      padding: 0 0 0 0;\n",
              "      width: 32px;\n",
              "    }\n",
              "\n",
              "    .colab-df-convert:hover {\n",
              "      background-color: #E2EBFA;\n",
              "      box-shadow: 0px 1px 2px rgba(60, 64, 67, 0.3), 0px 1px 3px 1px rgba(60, 64, 67, 0.15);\n",
              "      fill: #174EA6;\n",
              "    }\n",
              "\n",
              "    .colab-df-buttons div {\n",
              "      margin-bottom: 4px;\n",
              "    }\n",
              "\n",
              "    [theme=dark] .colab-df-convert {\n",
              "      background-color: #3B4455;\n",
              "      fill: #D2E3FC;\n",
              "    }\n",
              "\n",
              "    [theme=dark] .colab-df-convert:hover {\n",
              "      background-color: #434B5C;\n",
              "      box-shadow: 0px 1px 3px 1px rgba(0, 0, 0, 0.15);\n",
              "      filter: drop-shadow(0px 1px 2px rgba(0, 0, 0, 0.3));\n",
              "      fill: #FFFFFF;\n",
              "    }\n",
              "  </style>\n",
              "\n",
              "    <script>\n",
              "      const buttonEl =\n",
              "        document.querySelector('#df-57d2e9f7-7637-4068-b0d4-a72ace0968df button.colab-df-convert');\n",
              "      buttonEl.style.display =\n",
              "        google.colab.kernel.accessAllowed ? 'block' : 'none';\n",
              "\n",
              "      async function convertToInteractive(key) {\n",
              "        const element = document.querySelector('#df-57d2e9f7-7637-4068-b0d4-a72ace0968df');\n",
              "        const dataTable =\n",
              "          await google.colab.kernel.invokeFunction('convertToInteractive',\n",
              "                                                    [key], {});\n",
              "        if (!dataTable) return;\n",
              "\n",
              "        const docLinkHtml = 'Like what you see? Visit the ' +\n",
              "          '<a target=\"_blank\" href=https://colab.research.google.com/notebooks/data_table.ipynb>data table notebook</a>'\n",
              "          + ' to learn more about interactive tables.';\n",
              "        element.innerHTML = '';\n",
              "        dataTable['output_type'] = 'display_data';\n",
              "        await google.colab.output.renderOutput(dataTable, element);\n",
              "        const docLink = document.createElement('div');\n",
              "        docLink.innerHTML = docLinkHtml;\n",
              "        element.appendChild(docLink);\n",
              "      }\n",
              "    </script>\n",
              "  </div>\n",
              "\n",
              "    </div>\n",
              "  </div>\n"
            ]
          },
          "metadata": {},
          "execution_count": 117
        }
      ],
      "source": [
        "metrics_rf"
      ]
    },
    {
      "cell_type": "markdown",
      "metadata": {
        "id": "Tma_vsO0Vuai"
      },
      "source": [
        "### Logistic Regression"
      ]
    },
    {
      "cell_type": "markdown",
      "metadata": {
        "id": "_dZRB9k-Vuai"
      },
      "source": [
        "Создадим функцию для обучения модели логистической регрессии и вывода её метрик."
      ]
    },
    {
      "cell_type": "code",
      "execution_count": 118,
      "metadata": {
        "id": "GWAWuR9XVuai"
      },
      "outputs": [],
      "source": [
        "# Функция принимает признаки и целевой признак обучающей выборки,\n",
        "# обучает модель и возваращает лучшую модель, датафрейм с рассчитанными метриками(F1, AUC-ROC, доля верных предсказаний,\n",
        "# полнота, точность) и данные, для построения ROC-кривой.\n",
        "def logistic_regression(features_train, target_train, class_weight=None):\n",
        "    model = LogisticRegression(random_state=123, solver='liblinear', class_weight=class_weight)\n",
        "    model.fit(features_train, target_train)\n",
        "    predicted_valid = model.predict(X_valid)\n",
        "    probabilities_valid = model.predict_proba(X_valid)\n",
        "    probabilities_one_valid = probabilities_valid[:, 1]  # Вычислим вероятности положительного класса\n",
        "    f1 = f1_score(Y_valid, predicted_valid)  # Рассчитаем метрики качества модели\n",
        "    roc_auc = roc_auc_score(Y_valid, probabilities_one_valid)\n",
        "    accuracy = accuracy_score(Y_valid, predicted_valid)\n",
        "    recall = recall_score(Y_valid, predicted_valid)\n",
        "    precision = precision_score(Y_valid, predicted_valid)\n",
        "    fpr, tpr, thresholds = roc_curve(Y_valid, probabilities_one_valid)  # Сохраним данные, для построения ROC-кривой\n",
        "    result = ['LogReg', f1, roc_auc, accuracy, recall, precision]\n",
        "    col = ['model', 'F1_score', 'auc_roc', 'accuracy', 'recall', 'precision']\n",
        "    metrics = pd.DataFrame(data=[result], columns=col)\n",
        "    return(model, metrics, fpr, tpr)"
      ]
    },
    {
      "cell_type": "code",
      "execution_count": 119,
      "metadata": {
        "colab": {
          "base_uri": "https://localhost:8080/"
        },
        "id": "o3Jqs-uMVuai",
        "outputId": "da7825ec-7e33-409c-80b6-a2d39c972776"
      },
      "outputs": [
        {
          "output_type": "stream",
          "name": "stdout",
          "text": [
            "CPU times: user 48.6 ms, sys: 16 ms, total: 64.6 ms\n",
            "Wall time: 43.8 ms\n"
          ]
        }
      ],
      "source": [
        "%%time\n",
        "model_lr, metrics_lr, fpr_lr, tpr_lr = logistic_regression(X_train, Y_train)"
      ]
    },
    {
      "cell_type": "markdown",
      "metadata": {
        "id": "DycYm8FnVuai"
      },
      "source": [
        "Метрики качества для модели логистической регрессии:"
      ]
    },
    {
      "cell_type": "code",
      "execution_count": 120,
      "metadata": {
        "colab": {
          "base_uri": "https://localhost:8080/",
          "height": 81
        },
        "id": "1ZHzo4A8Vuai",
        "outputId": "01b0bbad-3514-419b-8f4f-5bb1743790e1"
      },
      "outputs": [
        {
          "output_type": "execute_result",
          "data": {
            "text/plain": [
              "    model  F1_score   auc_roc  accuracy    recall  precision\n",
              "0  LogReg  0.298401  0.731508    0.8025  0.205882   0.541935"
            ],
            "text/html": [
              "\n",
              "  <div id=\"df-17230c79-7c04-4d32-af82-2740aef43d80\" class=\"colab-df-container\">\n",
              "    <div>\n",
              "<style scoped>\n",
              "    .dataframe tbody tr th:only-of-type {\n",
              "        vertical-align: middle;\n",
              "    }\n",
              "\n",
              "    .dataframe tbody tr th {\n",
              "        vertical-align: top;\n",
              "    }\n",
              "\n",
              "    .dataframe thead th {\n",
              "        text-align: right;\n",
              "    }\n",
              "</style>\n",
              "<table border=\"1\" class=\"dataframe\">\n",
              "  <thead>\n",
              "    <tr style=\"text-align: right;\">\n",
              "      <th></th>\n",
              "      <th>model</th>\n",
              "      <th>F1_score</th>\n",
              "      <th>auc_roc</th>\n",
              "      <th>accuracy</th>\n",
              "      <th>recall</th>\n",
              "      <th>precision</th>\n",
              "    </tr>\n",
              "  </thead>\n",
              "  <tbody>\n",
              "    <tr>\n",
              "      <th>0</th>\n",
              "      <td>LogReg</td>\n",
              "      <td>0.298401</td>\n",
              "      <td>0.731508</td>\n",
              "      <td>0.8025</td>\n",
              "      <td>0.205882</td>\n",
              "      <td>0.541935</td>\n",
              "    </tr>\n",
              "  </tbody>\n",
              "</table>\n",
              "</div>\n",
              "    <div class=\"colab-df-buttons\">\n",
              "\n",
              "  <div class=\"colab-df-container\">\n",
              "    <button class=\"colab-df-convert\" onclick=\"convertToInteractive('df-17230c79-7c04-4d32-af82-2740aef43d80')\"\n",
              "            title=\"Convert this dataframe to an interactive table.\"\n",
              "            style=\"display:none;\">\n",
              "\n",
              "  <svg xmlns=\"http://www.w3.org/2000/svg\" height=\"24px\" viewBox=\"0 -960 960 960\">\n",
              "    <path d=\"M120-120v-720h720v720H120Zm60-500h600v-160H180v160Zm220 220h160v-160H400v160Zm0 220h160v-160H400v160ZM180-400h160v-160H180v160Zm440 0h160v-160H620v160ZM180-180h160v-160H180v160Zm440 0h160v-160H620v160Z\"/>\n",
              "  </svg>\n",
              "    </button>\n",
              "\n",
              "  <style>\n",
              "    .colab-df-container {\n",
              "      display:flex;\n",
              "      gap: 12px;\n",
              "    }\n",
              "\n",
              "    .colab-df-convert {\n",
              "      background-color: #E8F0FE;\n",
              "      border: none;\n",
              "      border-radius: 50%;\n",
              "      cursor: pointer;\n",
              "      display: none;\n",
              "      fill: #1967D2;\n",
              "      height: 32px;\n",
              "      padding: 0 0 0 0;\n",
              "      width: 32px;\n",
              "    }\n",
              "\n",
              "    .colab-df-convert:hover {\n",
              "      background-color: #E2EBFA;\n",
              "      box-shadow: 0px 1px 2px rgba(60, 64, 67, 0.3), 0px 1px 3px 1px rgba(60, 64, 67, 0.15);\n",
              "      fill: #174EA6;\n",
              "    }\n",
              "\n",
              "    .colab-df-buttons div {\n",
              "      margin-bottom: 4px;\n",
              "    }\n",
              "\n",
              "    [theme=dark] .colab-df-convert {\n",
              "      background-color: #3B4455;\n",
              "      fill: #D2E3FC;\n",
              "    }\n",
              "\n",
              "    [theme=dark] .colab-df-convert:hover {\n",
              "      background-color: #434B5C;\n",
              "      box-shadow: 0px 1px 3px 1px rgba(0, 0, 0, 0.15);\n",
              "      filter: drop-shadow(0px 1px 2px rgba(0, 0, 0, 0.3));\n",
              "      fill: #FFFFFF;\n",
              "    }\n",
              "  </style>\n",
              "\n",
              "    <script>\n",
              "      const buttonEl =\n",
              "        document.querySelector('#df-17230c79-7c04-4d32-af82-2740aef43d80 button.colab-df-convert');\n",
              "      buttonEl.style.display =\n",
              "        google.colab.kernel.accessAllowed ? 'block' : 'none';\n",
              "\n",
              "      async function convertToInteractive(key) {\n",
              "        const element = document.querySelector('#df-17230c79-7c04-4d32-af82-2740aef43d80');\n",
              "        const dataTable =\n",
              "          await google.colab.kernel.invokeFunction('convertToInteractive',\n",
              "                                                    [key], {});\n",
              "        if (!dataTable) return;\n",
              "\n",
              "        const docLinkHtml = 'Like what you see? Visit the ' +\n",
              "          '<a target=\"_blank\" href=https://colab.research.google.com/notebooks/data_table.ipynb>data table notebook</a>'\n",
              "          + ' to learn more about interactive tables.';\n",
              "        element.innerHTML = '';\n",
              "        dataTable['output_type'] = 'display_data';\n",
              "        await google.colab.output.renderOutput(dataTable, element);\n",
              "        const docLink = document.createElement('div');\n",
              "        docLink.innerHTML = docLinkHtml;\n",
              "        element.appendChild(docLink);\n",
              "      }\n",
              "    </script>\n",
              "  </div>\n",
              "\n",
              "    </div>\n",
              "  </div>\n"
            ]
          },
          "metadata": {},
          "execution_count": 120
        }
      ],
      "source": [
        "metrics_lr"
      ]
    },
    {
      "cell_type": "markdown",
      "metadata": {
        "id": "c7nkK_sUVuaj"
      },
      "source": [
        "### Выводы"
      ]
    },
    {
      "cell_type": "markdown",
      "metadata": {
        "id": "BCtUhXBuVuaj"
      },
      "source": [
        "Сравним полученные метрики. Объединим все результаты в один датафрейм."
      ]
    },
    {
      "cell_type": "code",
      "execution_count": 121,
      "metadata": {
        "colab": {
          "base_uri": "https://localhost:8080/",
          "height": 143
        },
        "id": "n16fzlLlVuaj",
        "outputId": "e21ac86e-5e28-45f5-c6d4-a2639a5a48a7"
      },
      "outputs": [
        {
          "output_type": "execute_result",
          "data": {
            "text/plain": [
              "     model  depth  F1_score   auc_roc  accuracy    recall  precision  \\\n",
              "0  DecTree    7.0  0.566474  0.819836    0.8500  0.480392   0.690141   \n",
              "0   RanFor    9.0  0.571885  0.849454    0.8660  0.438725   0.821101   \n",
              "0   LogReg    NaN  0.298401  0.731508    0.8025  0.205882   0.541935   \n",
              "\n",
              "   n_estimators balance_type  \n",
              "0           NaN       before  \n",
              "0          15.0       before  \n",
              "0           NaN       before  "
            ],
            "text/html": [
              "\n",
              "  <div id=\"df-a4a42711-d41d-4315-b5bb-215aa9af8231\" class=\"colab-df-container\">\n",
              "    <div>\n",
              "<style scoped>\n",
              "    .dataframe tbody tr th:only-of-type {\n",
              "        vertical-align: middle;\n",
              "    }\n",
              "\n",
              "    .dataframe tbody tr th {\n",
              "        vertical-align: top;\n",
              "    }\n",
              "\n",
              "    .dataframe thead th {\n",
              "        text-align: right;\n",
              "    }\n",
              "</style>\n",
              "<table border=\"1\" class=\"dataframe\">\n",
              "  <thead>\n",
              "    <tr style=\"text-align: right;\">\n",
              "      <th></th>\n",
              "      <th>model</th>\n",
              "      <th>depth</th>\n",
              "      <th>F1_score</th>\n",
              "      <th>auc_roc</th>\n",
              "      <th>accuracy</th>\n",
              "      <th>recall</th>\n",
              "      <th>precision</th>\n",
              "      <th>n_estimators</th>\n",
              "      <th>balance_type</th>\n",
              "    </tr>\n",
              "  </thead>\n",
              "  <tbody>\n",
              "    <tr>\n",
              "      <th>0</th>\n",
              "      <td>DecTree</td>\n",
              "      <td>7.0</td>\n",
              "      <td>0.566474</td>\n",
              "      <td>0.819836</td>\n",
              "      <td>0.8500</td>\n",
              "      <td>0.480392</td>\n",
              "      <td>0.690141</td>\n",
              "      <td>NaN</td>\n",
              "      <td>before</td>\n",
              "    </tr>\n",
              "    <tr>\n",
              "      <th>0</th>\n",
              "      <td>RanFor</td>\n",
              "      <td>9.0</td>\n",
              "      <td>0.571885</td>\n",
              "      <td>0.849454</td>\n",
              "      <td>0.8660</td>\n",
              "      <td>0.438725</td>\n",
              "      <td>0.821101</td>\n",
              "      <td>15.0</td>\n",
              "      <td>before</td>\n",
              "    </tr>\n",
              "    <tr>\n",
              "      <th>0</th>\n",
              "      <td>LogReg</td>\n",
              "      <td>NaN</td>\n",
              "      <td>0.298401</td>\n",
              "      <td>0.731508</td>\n",
              "      <td>0.8025</td>\n",
              "      <td>0.205882</td>\n",
              "      <td>0.541935</td>\n",
              "      <td>NaN</td>\n",
              "      <td>before</td>\n",
              "    </tr>\n",
              "  </tbody>\n",
              "</table>\n",
              "</div>\n",
              "    <div class=\"colab-df-buttons\">\n",
              "\n",
              "  <div class=\"colab-df-container\">\n",
              "    <button class=\"colab-df-convert\" onclick=\"convertToInteractive('df-a4a42711-d41d-4315-b5bb-215aa9af8231')\"\n",
              "            title=\"Convert this dataframe to an interactive table.\"\n",
              "            style=\"display:none;\">\n",
              "\n",
              "  <svg xmlns=\"http://www.w3.org/2000/svg\" height=\"24px\" viewBox=\"0 -960 960 960\">\n",
              "    <path d=\"M120-120v-720h720v720H120Zm60-500h600v-160H180v160Zm220 220h160v-160H400v160Zm0 220h160v-160H400v160ZM180-400h160v-160H180v160Zm440 0h160v-160H620v160ZM180-180h160v-160H180v160Zm440 0h160v-160H620v160Z\"/>\n",
              "  </svg>\n",
              "    </button>\n",
              "\n",
              "  <style>\n",
              "    .colab-df-container {\n",
              "      display:flex;\n",
              "      gap: 12px;\n",
              "    }\n",
              "\n",
              "    .colab-df-convert {\n",
              "      background-color: #E8F0FE;\n",
              "      border: none;\n",
              "      border-radius: 50%;\n",
              "      cursor: pointer;\n",
              "      display: none;\n",
              "      fill: #1967D2;\n",
              "      height: 32px;\n",
              "      padding: 0 0 0 0;\n",
              "      width: 32px;\n",
              "    }\n",
              "\n",
              "    .colab-df-convert:hover {\n",
              "      background-color: #E2EBFA;\n",
              "      box-shadow: 0px 1px 2px rgba(60, 64, 67, 0.3), 0px 1px 3px 1px rgba(60, 64, 67, 0.15);\n",
              "      fill: #174EA6;\n",
              "    }\n",
              "\n",
              "    .colab-df-buttons div {\n",
              "      margin-bottom: 4px;\n",
              "    }\n",
              "\n",
              "    [theme=dark] .colab-df-convert {\n",
              "      background-color: #3B4455;\n",
              "      fill: #D2E3FC;\n",
              "    }\n",
              "\n",
              "    [theme=dark] .colab-df-convert:hover {\n",
              "      background-color: #434B5C;\n",
              "      box-shadow: 0px 1px 3px 1px rgba(0, 0, 0, 0.15);\n",
              "      filter: drop-shadow(0px 1px 2px rgba(0, 0, 0, 0.3));\n",
              "      fill: #FFFFFF;\n",
              "    }\n",
              "  </style>\n",
              "\n",
              "    <script>\n",
              "      const buttonEl =\n",
              "        document.querySelector('#df-a4a42711-d41d-4315-b5bb-215aa9af8231 button.colab-df-convert');\n",
              "      buttonEl.style.display =\n",
              "        google.colab.kernel.accessAllowed ? 'block' : 'none';\n",
              "\n",
              "      async function convertToInteractive(key) {\n",
              "        const element = document.querySelector('#df-a4a42711-d41d-4315-b5bb-215aa9af8231');\n",
              "        const dataTable =\n",
              "          await google.colab.kernel.invokeFunction('convertToInteractive',\n",
              "                                                    [key], {});\n",
              "        if (!dataTable) return;\n",
              "\n",
              "        const docLinkHtml = 'Like what you see? Visit the ' +\n",
              "          '<a target=\"_blank\" href=https://colab.research.google.com/notebooks/data_table.ipynb>data table notebook</a>'\n",
              "          + ' to learn more about interactive tables.';\n",
              "        element.innerHTML = '';\n",
              "        dataTable['output_type'] = 'display_data';\n",
              "        await google.colab.output.renderOutput(dataTable, element);\n",
              "        const docLink = document.createElement('div');\n",
              "        docLink.innerHTML = docLinkHtml;\n",
              "        element.appendChild(docLink);\n",
              "      }\n",
              "    </script>\n",
              "  </div>\n",
              "\n",
              "\n",
              "<div id=\"df-07af0c3a-9b9a-4b9e-804f-fc3cc630a1ef\">\n",
              "  <button class=\"colab-df-quickchart\" onclick=\"quickchart('df-07af0c3a-9b9a-4b9e-804f-fc3cc630a1ef')\"\n",
              "            title=\"Suggest charts\"\n",
              "            style=\"display:none;\">\n",
              "\n",
              "<svg xmlns=\"http://www.w3.org/2000/svg\" height=\"24px\"viewBox=\"0 0 24 24\"\n",
              "     width=\"24px\">\n",
              "    <g>\n",
              "        <path d=\"M19 3H5c-1.1 0-2 .9-2 2v14c0 1.1.9 2 2 2h14c1.1 0 2-.9 2-2V5c0-1.1-.9-2-2-2zM9 17H7v-7h2v7zm4 0h-2V7h2v10zm4 0h-2v-4h2v4z\"/>\n",
              "    </g>\n",
              "</svg>\n",
              "  </button>\n",
              "\n",
              "<style>\n",
              "  .colab-df-quickchart {\n",
              "      --bg-color: #E8F0FE;\n",
              "      --fill-color: #1967D2;\n",
              "      --hover-bg-color: #E2EBFA;\n",
              "      --hover-fill-color: #174EA6;\n",
              "      --disabled-fill-color: #AAA;\n",
              "      --disabled-bg-color: #DDD;\n",
              "  }\n",
              "\n",
              "  [theme=dark] .colab-df-quickchart {\n",
              "      --bg-color: #3B4455;\n",
              "      --fill-color: #D2E3FC;\n",
              "      --hover-bg-color: #434B5C;\n",
              "      --hover-fill-color: #FFFFFF;\n",
              "      --disabled-bg-color: #3B4455;\n",
              "      --disabled-fill-color: #666;\n",
              "  }\n",
              "\n",
              "  .colab-df-quickchart {\n",
              "    background-color: var(--bg-color);\n",
              "    border: none;\n",
              "    border-radius: 50%;\n",
              "    cursor: pointer;\n",
              "    display: none;\n",
              "    fill: var(--fill-color);\n",
              "    height: 32px;\n",
              "    padding: 0;\n",
              "    width: 32px;\n",
              "  }\n",
              "\n",
              "  .colab-df-quickchart:hover {\n",
              "    background-color: var(--hover-bg-color);\n",
              "    box-shadow: 0 1px 2px rgba(60, 64, 67, 0.3), 0 1px 3px 1px rgba(60, 64, 67, 0.15);\n",
              "    fill: var(--button-hover-fill-color);\n",
              "  }\n",
              "\n",
              "  .colab-df-quickchart-complete:disabled,\n",
              "  .colab-df-quickchart-complete:disabled:hover {\n",
              "    background-color: var(--disabled-bg-color);\n",
              "    fill: var(--disabled-fill-color);\n",
              "    box-shadow: none;\n",
              "  }\n",
              "\n",
              "  .colab-df-spinner {\n",
              "    border: 2px solid var(--fill-color);\n",
              "    border-color: transparent;\n",
              "    border-bottom-color: var(--fill-color);\n",
              "    animation:\n",
              "      spin 1s steps(1) infinite;\n",
              "  }\n",
              "\n",
              "  @keyframes spin {\n",
              "    0% {\n",
              "      border-color: transparent;\n",
              "      border-bottom-color: var(--fill-color);\n",
              "      border-left-color: var(--fill-color);\n",
              "    }\n",
              "    20% {\n",
              "      border-color: transparent;\n",
              "      border-left-color: var(--fill-color);\n",
              "      border-top-color: var(--fill-color);\n",
              "    }\n",
              "    30% {\n",
              "      border-color: transparent;\n",
              "      border-left-color: var(--fill-color);\n",
              "      border-top-color: var(--fill-color);\n",
              "      border-right-color: var(--fill-color);\n",
              "    }\n",
              "    40% {\n",
              "      border-color: transparent;\n",
              "      border-right-color: var(--fill-color);\n",
              "      border-top-color: var(--fill-color);\n",
              "    }\n",
              "    60% {\n",
              "      border-color: transparent;\n",
              "      border-right-color: var(--fill-color);\n",
              "    }\n",
              "    80% {\n",
              "      border-color: transparent;\n",
              "      border-right-color: var(--fill-color);\n",
              "      border-bottom-color: var(--fill-color);\n",
              "    }\n",
              "    90% {\n",
              "      border-color: transparent;\n",
              "      border-bottom-color: var(--fill-color);\n",
              "    }\n",
              "  }\n",
              "</style>\n",
              "\n",
              "  <script>\n",
              "    async function quickchart(key) {\n",
              "      const quickchartButtonEl =\n",
              "        document.querySelector('#' + key + ' button');\n",
              "      quickchartButtonEl.disabled = true;  // To prevent multiple clicks.\n",
              "      quickchartButtonEl.classList.add('colab-df-spinner');\n",
              "      try {\n",
              "        const charts = await google.colab.kernel.invokeFunction(\n",
              "            'suggestCharts', [key], {});\n",
              "      } catch (error) {\n",
              "        console.error('Error during call to suggestCharts:', error);\n",
              "      }\n",
              "      quickchartButtonEl.classList.remove('colab-df-spinner');\n",
              "      quickchartButtonEl.classList.add('colab-df-quickchart-complete');\n",
              "    }\n",
              "    (() => {\n",
              "      let quickchartButtonEl =\n",
              "        document.querySelector('#df-07af0c3a-9b9a-4b9e-804f-fc3cc630a1ef button');\n",
              "      quickchartButtonEl.style.display =\n",
              "        google.colab.kernel.accessAllowed ? 'block' : 'none';\n",
              "    })();\n",
              "  </script>\n",
              "</div>\n",
              "    </div>\n",
              "  </div>\n"
            ]
          },
          "metadata": {},
          "execution_count": 121
        }
      ],
      "source": [
        "all_metrics_before = pd.concat([metrics_dt, metrics_rf, metrics_lr], sort=False, axis=0)\n",
        "all_metrics_before['balance_type'] = 'before'\n",
        "all_metrics_before"
      ]
    },
    {
      "cell_type": "markdown",
      "metadata": {
        "id": "XLIgt82KVuaj"
      },
      "source": [
        "<br>У модели решающего дерева доля правильных ответов достаточно высокая - 0.850, f1-мера - 0.566, а значение AUC-ROC - 0,820.\n",
        "<br>У модели случайного леса самое высокое значение всех метрик: доля правильных ответов - 0.866, f1-мера - 0.572 , а значение AUC-ROC - 0,866.\n",
        "<br>Доля правильных ответов модели логистической регрессии составила - 0,803, f1-мера - 0,298.\n",
        "<br>Проведем балансировку классов и повторим обучение на обновленных данных."
      ]
    },
    {
      "cell_type": "markdown",
      "metadata": {
        "id": "X5aDqOtUVuak"
      },
      "source": [
        "## Борьба с дисбалансом"
      ]
    },
    {
      "cell_type": "markdown",
      "metadata": {
        "id": "p8POnQELVuak"
      },
      "source": [
        "Попробуем устранить дисбаланс тремя способами:\n",
        "1. Указать вес классов;\n",
        "2. Увеличить выборку для меньшего класса;\n",
        "3. Уменьшить выборку для большего класса.\n",
        "\n",
        "Протестируем все три варианта и выберем лучший для дальнейшего изучения."
      ]
    },
    {
      "cell_type": "markdown",
      "metadata": {
        "id": "kuZ2ReDCVuak"
      },
      "source": [
        "### Взвешивание классов"
      ]
    },
    {
      "cell_type": "markdown",
      "metadata": {
        "id": "xWLYA8ovVuak"
      },
      "source": [
        "Укажем class_weight='balanced' для каждой модели."
      ]
    },
    {
      "cell_type": "markdown",
      "metadata": {
        "id": "iXdKNd-FVuak"
      },
      "source": [
        "#### Decision Tree"
      ]
    },
    {
      "cell_type": "markdown",
      "metadata": {
        "id": "EkjdGMdPVual"
      },
      "source": [
        "Обучим модели дерева решений подобрав гиперпараметры. Выберем лучшую, по метрике F1-мера."
      ]
    },
    {
      "cell_type": "code",
      "execution_count": 122,
      "metadata": {
        "colab": {
          "base_uri": "https://localhost:8080/"
        },
        "id": "PHZR0z0FVual",
        "outputId": "e169735a-ef3d-4080-d429-fc03a3ba79f7"
      },
      "outputs": [
        {
          "output_type": "stream",
          "name": "stdout",
          "text": [
            "CPU times: user 570 ms, sys: 5.98 ms, total: 576 ms\n",
            "Wall time: 578 ms\n"
          ]
        }
      ],
      "source": [
        "%%time\n",
        "(model_dt_balanced, metrics_dt_balanced,\n",
        " fpr_dt_balanced, tpr_dt_balanced) = decision_tree(X_train, Y_train, class_weight='balanced')"
      ]
    },
    {
      "cell_type": "markdown",
      "metadata": {
        "id": "6D890spWVual"
      },
      "source": [
        "Метрики качества для лучшей модели решающего дерева:"
      ]
    },
    {
      "cell_type": "code",
      "execution_count": 123,
      "metadata": {
        "colab": {
          "base_uri": "https://localhost:8080/",
          "height": 81
        },
        "id": "GgCE0AxNVual",
        "outputId": "dd97cb7f-bf92-4ac7-f04d-0d121f6c73d1"
      },
      "outputs": [
        {
          "output_type": "execute_result",
          "data": {
            "text/plain": [
              "     model  depth  F1_score   auc_roc  accuracy    recall  precision\n",
              "0  DecTree      6   0.55912  0.827753    0.7595  0.747549   0.446559"
            ],
            "text/html": [
              "\n",
              "  <div id=\"df-485c4cdf-9c5b-4c0e-bed6-c60daf30a189\" class=\"colab-df-container\">\n",
              "    <div>\n",
              "<style scoped>\n",
              "    .dataframe tbody tr th:only-of-type {\n",
              "        vertical-align: middle;\n",
              "    }\n",
              "\n",
              "    .dataframe tbody tr th {\n",
              "        vertical-align: top;\n",
              "    }\n",
              "\n",
              "    .dataframe thead th {\n",
              "        text-align: right;\n",
              "    }\n",
              "</style>\n",
              "<table border=\"1\" class=\"dataframe\">\n",
              "  <thead>\n",
              "    <tr style=\"text-align: right;\">\n",
              "      <th></th>\n",
              "      <th>model</th>\n",
              "      <th>depth</th>\n",
              "      <th>F1_score</th>\n",
              "      <th>auc_roc</th>\n",
              "      <th>accuracy</th>\n",
              "      <th>recall</th>\n",
              "      <th>precision</th>\n",
              "    </tr>\n",
              "  </thead>\n",
              "  <tbody>\n",
              "    <tr>\n",
              "      <th>0</th>\n",
              "      <td>DecTree</td>\n",
              "      <td>6</td>\n",
              "      <td>0.55912</td>\n",
              "      <td>0.827753</td>\n",
              "      <td>0.7595</td>\n",
              "      <td>0.747549</td>\n",
              "      <td>0.446559</td>\n",
              "    </tr>\n",
              "  </tbody>\n",
              "</table>\n",
              "</div>\n",
              "    <div class=\"colab-df-buttons\">\n",
              "\n",
              "  <div class=\"colab-df-container\">\n",
              "    <button class=\"colab-df-convert\" onclick=\"convertToInteractive('df-485c4cdf-9c5b-4c0e-bed6-c60daf30a189')\"\n",
              "            title=\"Convert this dataframe to an interactive table.\"\n",
              "            style=\"display:none;\">\n",
              "\n",
              "  <svg xmlns=\"http://www.w3.org/2000/svg\" height=\"24px\" viewBox=\"0 -960 960 960\">\n",
              "    <path d=\"M120-120v-720h720v720H120Zm60-500h600v-160H180v160Zm220 220h160v-160H400v160Zm0 220h160v-160H400v160ZM180-400h160v-160H180v160Zm440 0h160v-160H620v160ZM180-180h160v-160H180v160Zm440 0h160v-160H620v160Z\"/>\n",
              "  </svg>\n",
              "    </button>\n",
              "\n",
              "  <style>\n",
              "    .colab-df-container {\n",
              "      display:flex;\n",
              "      gap: 12px;\n",
              "    }\n",
              "\n",
              "    .colab-df-convert {\n",
              "      background-color: #E8F0FE;\n",
              "      border: none;\n",
              "      border-radius: 50%;\n",
              "      cursor: pointer;\n",
              "      display: none;\n",
              "      fill: #1967D2;\n",
              "      height: 32px;\n",
              "      padding: 0 0 0 0;\n",
              "      width: 32px;\n",
              "    }\n",
              "\n",
              "    .colab-df-convert:hover {\n",
              "      background-color: #E2EBFA;\n",
              "      box-shadow: 0px 1px 2px rgba(60, 64, 67, 0.3), 0px 1px 3px 1px rgba(60, 64, 67, 0.15);\n",
              "      fill: #174EA6;\n",
              "    }\n",
              "\n",
              "    .colab-df-buttons div {\n",
              "      margin-bottom: 4px;\n",
              "    }\n",
              "\n",
              "    [theme=dark] .colab-df-convert {\n",
              "      background-color: #3B4455;\n",
              "      fill: #D2E3FC;\n",
              "    }\n",
              "\n",
              "    [theme=dark] .colab-df-convert:hover {\n",
              "      background-color: #434B5C;\n",
              "      box-shadow: 0px 1px 3px 1px rgba(0, 0, 0, 0.15);\n",
              "      filter: drop-shadow(0px 1px 2px rgba(0, 0, 0, 0.3));\n",
              "      fill: #FFFFFF;\n",
              "    }\n",
              "  </style>\n",
              "\n",
              "    <script>\n",
              "      const buttonEl =\n",
              "        document.querySelector('#df-485c4cdf-9c5b-4c0e-bed6-c60daf30a189 button.colab-df-convert');\n",
              "      buttonEl.style.display =\n",
              "        google.colab.kernel.accessAllowed ? 'block' : 'none';\n",
              "\n",
              "      async function convertToInteractive(key) {\n",
              "        const element = document.querySelector('#df-485c4cdf-9c5b-4c0e-bed6-c60daf30a189');\n",
              "        const dataTable =\n",
              "          await google.colab.kernel.invokeFunction('convertToInteractive',\n",
              "                                                    [key], {});\n",
              "        if (!dataTable) return;\n",
              "\n",
              "        const docLinkHtml = 'Like what you see? Visit the ' +\n",
              "          '<a target=\"_blank\" href=https://colab.research.google.com/notebooks/data_table.ipynb>data table notebook</a>'\n",
              "          + ' to learn more about interactive tables.';\n",
              "        element.innerHTML = '';\n",
              "        dataTable['output_type'] = 'display_data';\n",
              "        await google.colab.output.renderOutput(dataTable, element);\n",
              "        const docLink = document.createElement('div');\n",
              "        docLink.innerHTML = docLinkHtml;\n",
              "        element.appendChild(docLink);\n",
              "      }\n",
              "    </script>\n",
              "  </div>\n",
              "\n",
              "    </div>\n",
              "  </div>\n"
            ]
          },
          "metadata": {},
          "execution_count": 123
        }
      ],
      "source": [
        "metrics_dt_balanced"
      ]
    },
    {
      "cell_type": "markdown",
      "metadata": {
        "id": "X_MjKrBEVual"
      },
      "source": [
        "Создадим функцию, строящую ROC-кривую и построим ее для модели дерева решений."
      ]
    },
    {
      "cell_type": "code",
      "execution_count": 124,
      "metadata": {
        "id": "cGngGf3VVual"
      },
      "outputs": [],
      "source": [
        "# Создадим функцию, выводящую ROC-кривую. Функция принимает значения ложноположительные, истинно-положительные ответы\n",
        "# и название графика (при необходимости) а возварщает построенный график ROC-кривой.\n",
        "def roc_show(fpr, tpr, name='ROC-кривая'):\n",
        "    plt.figure()\n",
        "\n",
        "    plt.plot(fpr, tpr)\n",
        "    plt.plot([0, 1], [0, 1], linestyle='--')  # ROC-кривая случайной модели\n",
        "    plt.xlim([0.0, 1.0])  # Обозначим грантцы осей\n",
        "    plt.ylim([0.0, 1.0])\n",
        "    plt.xlabel('False Positive Rate')  # Подпишем оси\n",
        "    plt.ylabel('True Positive Rate')\n",
        "    plt.title(name)  # Подпишем график\n",
        "\n",
        "    return(plt.show())"
      ]
    },
    {
      "cell_type": "code",
      "execution_count": 125,
      "metadata": {
        "scrolled": true,
        "colab": {
          "base_uri": "https://localhost:8080/",
          "height": 472
        },
        "id": "FHdVMeeNVual",
        "outputId": "334b9ba1-a5bd-4a6b-da53-6f88742c438a"
      },
      "outputs": [
        {
          "output_type": "display_data",
          "data": {
            "text/plain": [
              "<Figure size 640x480 with 1 Axes>"
            ],
            "image/png": "[encoded data removed]"
          },
          "metadata": {}
        }
      ],
      "source": [
        "roc_show(fpr_dt_balanced, tpr_dt_balanced, name='ROC-кривая для Decision Tree')"
      ]
    },
    {
      "cell_type": "markdown",
      "metadata": {
        "id": "nQF-EucgVual"
      },
      "source": [
        "#### Random Forest"
      ]
    },
    {
      "cell_type": "markdown",
      "metadata": {
        "id": "03WCrfixVual"
      },
      "source": [
        "Обучим модели случайного леса подобрав гиперпараметры. Выберем лучшую, по метрике F1-мера."
      ]
    },
    {
      "cell_type": "code",
      "execution_count": 126,
      "metadata": {
        "colab": {
          "base_uri": "https://localhost:8080/"
        },
        "id": "W_yCzmMhVuam",
        "outputId": "336f72a0-befd-4b83-dc34-05fec894b0f5"
      },
      "outputs": [
        {
          "output_type": "stream",
          "name": "stdout",
          "text": [
            "CPU times: user 5min 17s, sys: 1.22 s, total: 5min 18s\n",
            "Wall time: 5min 20s\n"
          ]
        }
      ],
      "source": [
        "%%time\n",
        "(model_rf_balanced, metrics_rf_balanced,\n",
        " fpr_rf_balanced, tpr_rf_balanced) = random_forest(X_train, Y_train, class_weight='balanced')"
      ]
    },
    {
      "cell_type": "markdown",
      "metadata": {
        "id": "MsvHuocYVuam"
      },
      "source": [
        "Метрики качества для лучшей модели случайного леса:"
      ]
    },
    {
      "cell_type": "code",
      "execution_count": 127,
      "metadata": {
        "colab": {
          "base_uri": "https://localhost:8080/",
          "height": 81
        },
        "id": "X6keDCI2Vuam",
        "outputId": "688f0851-8ef5-4561-924c-02e9bf916aae"
      },
      "outputs": [
        {
          "output_type": "execute_result",
          "data": {
            "text/plain": [
              "    model  depth  n_estimators  F1_score   auc_roc  accuracy    recall  \\\n",
              "0  RanFor     10            90  0.605042  0.846067    0.8355  0.617647   \n",
              "\n",
              "   precision  \n",
              "0   0.592941  "
            ],
            "text/html": [
              "\n",
              "  <div id=\"df-e185a77f-a080-4d6d-b9c4-4f330bff7e37\" class=\"colab-df-container\">\n",
              "    <div>\n",
              "<style scoped>\n",
              "    .dataframe tbody tr th:only-of-type {\n",
              "        vertical-align: middle;\n",
              "    }\n",
              "\n",
              "    .dataframe tbody tr th {\n",
              "        vertical-align: top;\n",
              "    }\n",
              "\n",
              "    .dataframe thead th {\n",
              "        text-align: right;\n",
              "    }\n",
              "</style>\n",
              "<table border=\"1\" class=\"dataframe\">\n",
              "  <thead>\n",
              "    <tr style=\"text-align: right;\">\n",
              "      <th></th>\n",
              "      <th>model</th>\n",
              "      <th>depth</th>\n",
              "      <th>n_estimators</th>\n",
              "      <th>F1_score</th>\n",
              "      <th>auc_roc</th>\n",
              "      <th>accuracy</th>\n",
              "      <th>recall</th>\n",
              "      <th>precision</th>\n",
              "    </tr>\n",
              "  </thead>\n",
              "  <tbody>\n",
              "    <tr>\n",
              "      <th>0</th>\n",
              "      <td>RanFor</td>\n",
              "      <td>10</td>\n",
              "      <td>90</td>\n",
              "      <td>0.605042</td>\n",
              "      <td>0.846067</td>\n",
              "      <td>0.8355</td>\n",
              "      <td>0.617647</td>\n",
              "      <td>0.592941</td>\n",
              "    </tr>\n",
              "  </tbody>\n",
              "</table>\n",
              "</div>\n",
              "    <div class=\"colab-df-buttons\">\n",
              "\n",
              "  <div class=\"colab-df-container\">\n",
              "    <button class=\"colab-df-convert\" onclick=\"convertToInteractive('df-e185a77f-a080-4d6d-b9c4-4f330bff7e37')\"\n",
              "            title=\"Convert this dataframe to an interactive table.\"\n",
              "            style=\"display:none;\">\n",
              "\n",
              "  <svg xmlns=\"http://www.w3.org/2000/svg\" height=\"24px\" viewBox=\"0 -960 960 960\">\n",
              "    <path d=\"M120-120v-720h720v720H120Zm60-500h600v-160H180v160Zm220 220h160v-160H400v160Zm0 220h160v-160H400v160ZM180-400h160v-160H180v160Zm440 0h160v-160H620v160ZM180-180h160v-160H180v160Zm440 0h160v-160H620v160Z\"/>\n",
              "  </svg>\n",
              "    </button>\n",
              "\n",
              "  <style>\n",
              "    .colab-df-container {\n",
              "      display:flex;\n",
              "      gap: 12px;\n",
              "    }\n",
              "\n",
              "    .colab-df-convert {\n",
              "      background-color: #E8F0FE;\n",
              "      border: none;\n",
              "      border-radius: 50%;\n",
              "      cursor: pointer;\n",
              "      display: none;\n",
              "      fill: #1967D2;\n",
              "      height: 32px;\n",
              "      padding: 0 0 0 0;\n",
              "      width: 32px;\n",
              "    }\n",
              "\n",
              "    .colab-df-convert:hover {\n",
              "      background-color: #E2EBFA;\n",
              "      box-shadow: 0px 1px 2px rgba(60, 64, 67, 0.3), 0px 1px 3px 1px rgba(60, 64, 67, 0.15);\n",
              "      fill: #174EA6;\n",
              "    }\n",
              "\n",
              "    .colab-df-buttons div {\n",
              "      margin-bottom: 4px;\n",
              "    }\n",
              "\n",
              "    [theme=dark] .colab-df-convert {\n",
              "      background-color: #3B4455;\n",
              "      fill: #D2E3FC;\n",
              "    }\n",
              "\n",
              "    [theme=dark] .colab-df-convert:hover {\n",
              "      background-color: #434B5C;\n",
              "      box-shadow: 0px 1px 3px 1px rgba(0, 0, 0, 0.15);\n",
              "      filter: drop-shadow(0px 1px 2px rgba(0, 0, 0, 0.3));\n",
              "      fill: #FFFFFF;\n",
              "    }\n",
              "  </style>\n",
              "\n",
              "    <script>\n",
              "      const buttonEl =\n",
              "        document.querySelector('#df-e185a77f-a080-4d6d-b9c4-4f330bff7e37 button.colab-df-convert');\n",
              "      buttonEl.style.display =\n",
              "        google.colab.kernel.accessAllowed ? 'block' : 'none';\n",
              "\n",
              "      async function convertToInteractive(key) {\n",
              "        const element = document.querySelector('#df-e185a77f-a080-4d6d-b9c4-4f330bff7e37');\n",
              "        const dataTable =\n",
              "          await google.colab.kernel.invokeFunction('convertToInteractive',\n",
              "                                                    [key], {});\n",
              "        if (!dataTable) return;\n",
              "\n",
              "        const docLinkHtml = 'Like what you see? Visit the ' +\n",
              "          '<a target=\"_blank\" href=https://colab.research.google.com/notebooks/data_table.ipynb>data table notebook</a>'\n",
              "          + ' to learn more about interactive tables.';\n",
              "        element.innerHTML = '';\n",
              "        dataTable['output_type'] = 'display_data';\n",
              "        await google.colab.output.renderOutput(dataTable, element);\n",
              "        const docLink = document.createElement('div');\n",
              "        docLink.innerHTML = docLinkHtml;\n",
              "        element.appendChild(docLink);\n",
              "      }\n",
              "    </script>\n",
              "  </div>\n",
              "\n",
              "    </div>\n",
              "  </div>\n"
            ]
          },
          "metadata": {},
          "execution_count": 127
        }
      ],
      "source": [
        "metrics_rf_balanced"
      ]
    },
    {
      "cell_type": "markdown",
      "metadata": {
        "id": "MO0c9qGBVuam"
      },
      "source": [
        "Построим ROC-кривую для сбалансированной модели случайного леса."
      ]
    },
    {
      "cell_type": "code",
      "execution_count": 128,
      "metadata": {
        "colab": {
          "base_uri": "https://localhost:8080/",
          "height": 472
        },
        "id": "qW8S8DWgVuam",
        "outputId": "76f4d0eb-ac29-45df-ba47-3022790f2dc8"
      },
      "outputs": [
        {
          "output_type": "display_data",
          "data": {
            "text/plain": [
              "<Figure size 640x480 with 1 Axes>"
            ],
            "image/png": "[encoded data removed]"
          },
          "metadata": {}
        }
      ],
      "source": [
        "roc_show(fpr_rf_balanced, tpr_rf_balanced, name='ROC-кривая для Random Forest')"
      ]
    },
    {
      "cell_type": "markdown",
      "metadata": {
        "id": "ZEheEeVeVuam"
      },
      "source": [
        "#### Logistic Regression"
      ]
    },
    {
      "cell_type": "markdown",
      "metadata": {
        "id": "jElWwydPVuam"
      },
      "source": [
        "Обучим модели логистической регрессии подобрав гиперпараметры. Выберем лучшую, по метрике F1-мера."
      ]
    },
    {
      "cell_type": "code",
      "execution_count": 129,
      "metadata": {
        "colab": {
          "base_uri": "https://localhost:8080/"
        },
        "id": "uC0JrFMnVuao",
        "outputId": "3b70951b-0a35-4c05-82ca-507587bce559"
      },
      "outputs": [
        {
          "output_type": "stream",
          "name": "stdout",
          "text": [
            "CPU times: user 39.7 ms, sys: 20 ms, total: 59.7 ms\n",
            "Wall time: 40.6 ms\n"
          ]
        }
      ],
      "source": [
        "%%time\n",
        "(model_lr_balanced, metrics_lr_balanced,\n",
        " fpr_lr_balanced, tpr_lr_balanced) = logistic_regression(X_train, Y_train, class_weight='balanced')"
      ]
    },
    {
      "cell_type": "markdown",
      "metadata": {
        "id": "aQJcFsEJVuao"
      },
      "source": [
        "Метрики качества для модели логистической регрессии:"
      ]
    },
    {
      "cell_type": "code",
      "execution_count": 130,
      "metadata": {
        "colab": {
          "base_uri": "https://localhost:8080/",
          "height": 81
        },
        "id": "6wnOStihVuao",
        "outputId": "673f0cab-e015-4e73-8dcc-88d7be76387b"
      },
      "outputs": [
        {
          "output_type": "execute_result",
          "data": {
            "text/plain": [
              "    model  F1_score   auc_roc  accuracy    recall  precision\n",
              "0  LogReg  0.461404  0.734352     0.693  0.644608    0.35929"
            ],
            "text/html": [
              "\n",
              "  <div id=\"df-3820e271-ae8f-4e24-9e96-9c17a1a1646c\" class=\"colab-df-container\">\n",
              "    <div>\n",
              "<style scoped>\n",
              "    .dataframe tbody tr th:only-of-type {\n",
              "        vertical-align: middle;\n",
              "    }\n",
              "\n",
              "    .dataframe tbody tr th {\n",
              "        vertical-align: top;\n",
              "    }\n",
              "\n",
              "    .dataframe thead th {\n",
              "        text-align: right;\n",
              "    }\n",
              "</style>\n",
              "<table border=\"1\" class=\"dataframe\">\n",
              "  <thead>\n",
              "    <tr style=\"text-align: right;\">\n",
              "      <th></th>\n",
              "      <th>model</th>\n",
              "      <th>F1_score</th>\n",
              "      <th>auc_roc</th>\n",
              "      <th>accuracy</th>\n",
              "      <th>recall</th>\n",
              "      <th>precision</th>\n",
              "    </tr>\n",
              "  </thead>\n",
              "  <tbody>\n",
              "    <tr>\n",
              "      <th>0</th>\n",
              "      <td>LogReg</td>\n",
              "      <td>0.461404</td>\n",
              "      <td>0.734352</td>\n",
              "      <td>0.693</td>\n",
              "      <td>0.644608</td>\n",
              "      <td>0.35929</td>\n",
              "    </tr>\n",
              "  </tbody>\n",
              "</table>\n",
              "</div>\n",
              "    <div class=\"colab-df-buttons\">\n",
              "\n",
              "  <div class=\"colab-df-container\">\n",
              "    <button class=\"colab-df-convert\" onclick=\"convertToInteractive('df-3820e271-ae8f-4e24-9e96-9c17a1a1646c')\"\n",
              "            title=\"Convert this dataframe to an interactive table.\"\n",
              "            style=\"display:none;\">\n",
              "\n",
              "  <svg xmlns=\"http://www.w3.org/2000/svg\" height=\"24px\" viewBox=\"0 -960 960 960\">\n",
              "    <path d=\"M120-120v-720h720v720H120Zm60-500h600v-160H180v160Zm220 220h160v-160H400v160Zm0 220h160v-160H400v160ZM180-400h160v-160H180v160Zm440 0h160v-160H620v160ZM180-180h160v-160H180v160Zm440 0h160v-160H620v160Z\"/>\n",
              "  </svg>\n",
              "    </button>\n",
              "\n",
              "  <style>\n",
              "    .colab-df-container {\n",
              "      display:flex;\n",
              "      gap: 12px;\n",
              "    }\n",
              "\n",
              "    .colab-df-convert {\n",
              "      background-color: #E8F0FE;\n",
              "      border: none;\n",
              "      border-radius: 50%;\n",
              "      cursor: pointer;\n",
              "      display: none;\n",
              "      fill: #1967D2;\n",
              "      height: 32px;\n",
              "      padding: 0 0 0 0;\n",
              "      width: 32px;\n",
              "    }\n",
              "\n",
              "    .colab-df-convert:hover {\n",
              "      background-color: #E2EBFA;\n",
              "      box-shadow: 0px 1px 2px rgba(60, 64, 67, 0.3), 0px 1px 3px 1px rgba(60, 64, 67, 0.15);\n",
              "      fill: #174EA6;\n",
              "    }\n",
              "\n",
              "    .colab-df-buttons div {\n",
              "      margin-bottom: 4px;\n",
              "    }\n",
              "\n",
              "    [theme=dark] .colab-df-convert {\n",
              "      background-color: #3B4455;\n",
              "      fill: #D2E3FC;\n",
              "    }\n",
              "\n",
              "    [theme=dark] .colab-df-convert:hover {\n",
              "      background-color: #434B5C;\n",
              "      box-shadow: 0px 1px 3px 1px rgba(0, 0, 0, 0.15);\n",
              "      filter: drop-shadow(0px 1px 2px rgba(0, 0, 0, 0.3));\n",
              "      fill: #FFFFFF;\n",
              "    }\n",
              "  </style>\n",
              "\n",
              "    <script>\n",
              "      const buttonEl =\n",
              "        document.querySelector('#df-3820e271-ae8f-4e24-9e96-9c17a1a1646c button.colab-df-convert');\n",
              "      buttonEl.style.display =\n",
              "        google.colab.kernel.accessAllowed ? 'block' : 'none';\n",
              "\n",
              "      async function convertToInteractive(key) {\n",
              "        const element = document.querySelector('#df-3820e271-ae8f-4e24-9e96-9c17a1a1646c');\n",
              "        const dataTable =\n",
              "          await google.colab.kernel.invokeFunction('convertToInteractive',\n",
              "                                                    [key], {});\n",
              "        if (!dataTable) return;\n",
              "\n",
              "        const docLinkHtml = 'Like what you see? Visit the ' +\n",
              "          '<a target=\"_blank\" href=https://colab.research.google.com/notebooks/data_table.ipynb>data table notebook</a>'\n",
              "          + ' to learn more about interactive tables.';\n",
              "        element.innerHTML = '';\n",
              "        dataTable['output_type'] = 'display_data';\n",
              "        await google.colab.output.renderOutput(dataTable, element);\n",
              "        const docLink = document.createElement('div');\n",
              "        docLink.innerHTML = docLinkHtml;\n",
              "        element.appendChild(docLink);\n",
              "      }\n",
              "    </script>\n",
              "  </div>\n",
              "\n",
              "    </div>\n",
              "  </div>\n"
            ]
          },
          "metadata": {},
          "execution_count": 130
        }
      ],
      "source": [
        "metrics_lr_balanced"
      ]
    },
    {
      "cell_type": "code",
      "execution_count": 131,
      "metadata": {
        "colab": {
          "base_uri": "https://localhost:8080/",
          "height": 472
        },
        "id": "jEEUe5MzVuao",
        "outputId": "bc2ad79f-b15d-4da6-f92e-05ec7bc3c355"
      },
      "outputs": [
        {
          "output_type": "display_data",
          "data": {
            "text/plain": [
              "<Figure size 640x480 with 1 Axes>"
            ],
            "image/png": "[encoded data removed]"
          },
          "metadata": {}
        }
      ],
      "source": [
        "roc_show(fpr_lr_balanced, tpr_lr_balanced, name='ROC-кривая для Logistic Regression')"
      ]
    },
    {
      "cell_type": "markdown",
      "metadata": {
        "id": "MkF9bOZeVuao"
      },
      "source": [
        "#### Выводы"
      ]
    },
    {
      "cell_type": "markdown",
      "metadata": {
        "id": "mGXxnGZpVuao"
      },
      "source": [
        "Выведем метрики по моделям, сбалансированным методом взвешивания классов."
      ]
    },
    {
      "cell_type": "code",
      "execution_count": 132,
      "metadata": {
        "colab": {
          "base_uri": "https://localhost:8080/",
          "height": 143
        },
        "id": "d6y5c64iVuao",
        "outputId": "7bf70d59-6c07-4157-ea1e-77210de79e2d"
      },
      "outputs": [
        {
          "output_type": "execute_result",
          "data": {
            "text/plain": [
              "     model  depth  F1_score   auc_roc  accuracy    recall  precision  \\\n",
              "0  DecTree    6.0  0.559120  0.827753    0.7595  0.747549   0.446559   \n",
              "0   RanFor   10.0  0.605042  0.846067    0.8355  0.617647   0.592941   \n",
              "0   LogReg    NaN  0.461404  0.734352    0.6930  0.644608   0.359290   \n",
              "\n",
              "   n_estimators balance_type  \n",
              "0           NaN     balanced  \n",
              "0          90.0     balanced  \n",
              "0           NaN     balanced  "
            ],
            "text/html": [
              "\n",
              "  <div id=\"df-73226bb9-5e71-4eae-9b85-5aad816608dc\" class=\"colab-df-container\">\n",
              "    <div>\n",
              "<style scoped>\n",
              "    .dataframe tbody tr th:only-of-type {\n",
              "        vertical-align: middle;\n",
              "    }\n",
              "\n",
              "    .dataframe tbody tr th {\n",
              "        vertical-align: top;\n",
              "    }\n",
              "\n",
              "    .dataframe thead th {\n",
              "        text-align: right;\n",
              "    }\n",
              "</style>\n",
              "<table border=\"1\" class=\"dataframe\">\n",
              "  <thead>\n",
              "    <tr style=\"text-align: right;\">\n",
              "      <th></th>\n",
              "      <th>model</th>\n",
              "      <th>depth</th>\n",
              "      <th>F1_score</th>\n",
              "      <th>auc_roc</th>\n",
              "      <th>accuracy</th>\n",
              "      <th>recall</th>\n",
              "      <th>precision</th>\n",
              "      <th>n_estimators</th>\n",
              "      <th>balance_type</th>\n",
              "    </tr>\n",
              "  </thead>\n",
              "  <tbody>\n",
              "    <tr>\n",
              "      <th>0</th>\n",
              "      <td>DecTree</td>\n",
              "      <td>6.0</td>\n",
              "      <td>0.559120</td>\n",
              "      <td>0.827753</td>\n",
              "      <td>0.7595</td>\n",
              "      <td>0.747549</td>\n",
              "      <td>0.446559</td>\n",
              "      <td>NaN</td>\n",
              "      <td>balanced</td>\n",
              "    </tr>\n",
              "    <tr>\n",
              "      <th>0</th>\n",
              "      <td>RanFor</td>\n",
              "      <td>10.0</td>\n",
              "      <td>0.605042</td>\n",
              "      <td>0.846067</td>\n",
              "      <td>0.8355</td>\n",
              "      <td>0.617647</td>\n",
              "      <td>0.592941</td>\n",
              "      <td>90.0</td>\n",
              "      <td>balanced</td>\n",
              "    </tr>\n",
              "    <tr>\n",
              "      <th>0</th>\n",
              "      <td>LogReg</td>\n",
              "      <td>NaN</td>\n",
              "      <td>0.461404</td>\n",
              "      <td>0.734352</td>\n",
              "      <td>0.6930</td>\n",
              "      <td>0.644608</td>\n",
              "      <td>0.359290</td>\n",
              "      <td>NaN</td>\n",
              "      <td>balanced</td>\n",
              "    </tr>\n",
              "  </tbody>\n",
              "</table>\n",
              "</div>\n",
              "    <div class=\"colab-df-buttons\">\n",
              "\n",
              "  <div class=\"colab-df-container\">\n",
              "    <button class=\"colab-df-convert\" onclick=\"convertToInteractive('df-73226bb9-5e71-4eae-9b85-5aad816608dc')\"\n",
              "            title=\"Convert this dataframe to an interactive table.\"\n",
              "            style=\"display:none;\">\n",
              "\n",
              "  <svg xmlns=\"http://www.w3.org/2000/svg\" height=\"24px\" viewBox=\"0 -960 960 960\">\n",
              "    <path d=\"M120-120v-720h720v720H120Zm60-500h600v-160H180v160Zm220 220h160v-160H400v160Zm0 220h160v-160H400v160ZM180-400h160v-160H180v160Zm440 0h160v-160H620v160ZM180-180h160v-160H180v160Zm440 0h160v-160H620v160Z\"/>\n",
              "  </svg>\n",
              "    </button>\n",
              "\n",
              "  <style>\n",
              "    .colab-df-container {\n",
              "      display:flex;\n",
              "      gap: 12px;\n",
              "    }\n",
              "\n",
              "    .colab-df-convert {\n",
              "      background-color: #E8F0FE;\n",
              "      border: none;\n",
              "      border-radius: 50%;\n",
              "      cursor: pointer;\n",
              "      display: none;\n",
              "      fill: #1967D2;\n",
              "      height: 32px;\n",
              "      padding: 0 0 0 0;\n",
              "      width: 32px;\n",
              "    }\n",
              "\n",
              "    .colab-df-convert:hover {\n",
              "      background-color: #E2EBFA;\n",
              "      box-shadow: 0px 1px 2px rgba(60, 64, 67, 0.3), 0px 1px 3px 1px rgba(60, 64, 67, 0.15);\n",
              "      fill: #174EA6;\n",
              "    }\n",
              "\n",
              "    .colab-df-buttons div {\n",
              "      margin-bottom: 4px;\n",
              "    }\n",
              "\n",
              "    [theme=dark] .colab-df-convert {\n",
              "      background-color: #3B4455;\n",
              "      fill: #D2E3FC;\n",
              "    }\n",
              "\n",
              "    [theme=dark] .colab-df-convert:hover {\n",
              "      background-color: #434B5C;\n",
              "      box-shadow: 0px 1px 3px 1px rgba(0, 0, 0, 0.15);\n",
              "      filter: drop-shadow(0px 1px 2px rgba(0, 0, 0, 0.3));\n",
              "      fill: #FFFFFF;\n",
              "    }\n",
              "  </style>\n",
              "\n",
              "    <script>\n",
              "      const buttonEl =\n",
              "        document.querySelector('#df-73226bb9-5e71-4eae-9b85-5aad816608dc button.colab-df-convert');\n",
              "      buttonEl.style.display =\n",
              "        google.colab.kernel.accessAllowed ? 'block' : 'none';\n",
              "\n",
              "      async function convertToInteractive(key) {\n",
              "        const element = document.querySelector('#df-73226bb9-5e71-4eae-9b85-5aad816608dc');\n",
              "        const dataTable =\n",
              "          await google.colab.kernel.invokeFunction('convertToInteractive',\n",
              "                                                    [key], {});\n",
              "        if (!dataTable) return;\n",
              "\n",
              "        const docLinkHtml = 'Like what you see? Visit the ' +\n",
              "          '<a target=\"_blank\" href=https://colab.research.google.com/notebooks/data_table.ipynb>data table notebook</a>'\n",
              "          + ' to learn more about interactive tables.';\n",
              "        element.innerHTML = '';\n",
              "        dataTable['output_type'] = 'display_data';\n",
              "        await google.colab.output.renderOutput(dataTable, element);\n",
              "        const docLink = document.createElement('div');\n",
              "        docLink.innerHTML = docLinkHtml;\n",
              "        element.appendChild(docLink);\n",
              "      }\n",
              "    </script>\n",
              "  </div>\n",
              "\n",
              "\n",
              "<div id=\"df-44131787-3086-483f-9eb2-213f08bad829\">\n",
              "  <button class=\"colab-df-quickchart\" onclick=\"quickchart('df-44131787-3086-483f-9eb2-213f08bad829')\"\n",
              "            title=\"Suggest charts\"\n",
              "            style=\"display:none;\">\n",
              "\n",
              "<svg xmlns=\"http://www.w3.org/2000/svg\" height=\"24px\"viewBox=\"0 0 24 24\"\n",
              "     width=\"24px\">\n",
              "    <g>\n",
              "        <path d=\"M19 3H5c-1.1 0-2 .9-2 2v14c0 1.1.9 2 2 2h14c1.1 0 2-.9 2-2V5c0-1.1-.9-2-2-2zM9 17H7v-7h2v7zm4 0h-2V7h2v10zm4 0h-2v-4h2v4z\"/>\n",
              "    </g>\n",
              "</svg>\n",
              "  </button>\n",
              "\n",
              "<style>\n",
              "  .colab-df-quickchart {\n",
              "      --bg-color: #E8F0FE;\n",
              "      --fill-color: #1967D2;\n",
              "      --hover-bg-color: #E2EBFA;\n",
              "      --hover-fill-color: #174EA6;\n",
              "      --disabled-fill-color: #AAA;\n",
              "      --disabled-bg-color: #DDD;\n",
              "  }\n",
              "\n",
              "  [theme=dark] .colab-df-quickchart {\n",
              "      --bg-color: #3B4455;\n",
              "      --fill-color: #D2E3FC;\n",
              "      --hover-bg-color: #434B5C;\n",
              "      --hover-fill-color: #FFFFFF;\n",
              "      --disabled-bg-color: #3B4455;\n",
              "      --disabled-fill-color: #666;\n",
              "  }\n",
              "\n",
              "  .colab-df-quickchart {\n",
              "    background-color: var(--bg-color);\n",
              "    border: none;\n",
              "    border-radius: 50%;\n",
              "    cursor: pointer;\n",
              "    display: none;\n",
              "    fill: var(--fill-color);\n",
              "    height: 32px;\n",
              "    padding: 0;\n",
              "    width: 32px;\n",
              "  }\n",
              "\n",
              "  .colab-df-quickchart:hover {\n",
              "    background-color: var(--hover-bg-color);\n",
              "    box-shadow: 0 1px 2px rgba(60, 64, 67, 0.3), 0 1px 3px 1px rgba(60, 64, 67, 0.15);\n",
              "    fill: var(--button-hover-fill-color);\n",
              "  }\n",
              "\n",
              "  .colab-df-quickchart-complete:disabled,\n",
              "  .colab-df-quickchart-complete:disabled:hover {\n",
              "    background-color: var(--disabled-bg-color);\n",
              "    fill: var(--disabled-fill-color);\n",
              "    box-shadow: none;\n",
              "  }\n",
              "\n",
              "  .colab-df-spinner {\n",
              "    border: 2px solid var(--fill-color);\n",
              "    border-color: transparent;\n",
              "    border-bottom-color: var(--fill-color);\n",
              "    animation:\n",
              "      spin 1s steps(1) infinite;\n",
              "  }\n",
              "\n",
              "  @keyframes spin {\n",
              "    0% {\n",
              "      border-color: transparent;\n",
              "      border-bottom-color: var(--fill-color);\n",
              "      border-left-color: var(--fill-color);\n",
              "    }\n",
              "    20% {\n",
              "      border-color: transparent;\n",
              "      border-left-color: var(--fill-color);\n",
              "      border-top-color: var(--fill-color);\n",
              "    }\n",
              "    30% {\n",
              "      border-color: transparent;\n",
              "      border-left-color: var(--fill-color);\n",
              "      border-top-color: var(--fill-color);\n",
              "      border-right-color: var(--fill-color);\n",
              "    }\n",
              "    40% {\n",
              "      border-color: transparent;\n",
              "      border-right-color: var(--fill-color);\n",
              "      border-top-color: var(--fill-color);\n",
              "    }\n",
              "    60% {\n",
              "      border-color: transparent;\n",
              "      border-right-color: var(--fill-color);\n",
              "    }\n",
              "    80% {\n",
              "      border-color: transparent;\n",
              "      border-right-color: var(--fill-color);\n",
              "      border-bottom-color: var(--fill-color);\n",
              "    }\n",
              "    90% {\n",
              "      border-color: transparent;\n",
              "      border-bottom-color: var(--fill-color);\n",
              "    }\n",
              "  }\n",
              "</style>\n",
              "\n",
              "  <script>\n",
              "    async function quickchart(key) {\n",
              "      const quickchartButtonEl =\n",
              "        document.querySelector('#' + key + ' button');\n",
              "      quickchartButtonEl.disabled = true;  // To prevent multiple clicks.\n",
              "      quickchartButtonEl.classList.add('colab-df-spinner');\n",
              "      try {\n",
              "        const charts = await google.colab.kernel.invokeFunction(\n",
              "            'suggestCharts', [key], {});\n",
              "      } catch (error) {\n",
              "        console.error('Error during call to suggestCharts:', error);\n",
              "      }\n",
              "      quickchartButtonEl.classList.remove('colab-df-spinner');\n",
              "      quickchartButtonEl.classList.add('colab-df-quickchart-complete');\n",
              "    }\n",
              "    (() => {\n",
              "      let quickchartButtonEl =\n",
              "        document.querySelector('#df-44131787-3086-483f-9eb2-213f08bad829 button');\n",
              "      quickchartButtonEl.style.display =\n",
              "        google.colab.kernel.accessAllowed ? 'block' : 'none';\n",
              "    })();\n",
              "  </script>\n",
              "</div>\n",
              "    </div>\n",
              "  </div>\n"
            ]
          },
          "metadata": {},
          "execution_count": 132
        }
      ],
      "source": [
        "all_metrics_balanced = pd.concat([metrics_dt_balanced, metrics_rf_balanced, metrics_lr_balanced], sort=False, axis=0)\n",
        "all_metrics_balanced['balance_type'] = 'balanced'  # Доюавим столбец типа балансировки\n",
        "all_metrics_balanced"
      ]
    },
    {
      "cell_type": "markdown",
      "metadata": {
        "id": "N6uKZ6bkVuap"
      },
      "source": [
        "С помощью взвешивания класса нам удалось увеличить значения F1-меры и AUC-ROC моделй случайного леса и логистической регрессии. Значение accuracy немного снизилось, при этом увеличилась точность. Сравним полученные результаты с другими способами устранения дисбаланса."
      ]
    },
    {
      "cell_type": "markdown",
      "metadata": {
        "id": "6Qr-M8zLVuap"
      },
      "source": [
        "### Увеличение выборки"
      ]
    },
    {
      "cell_type": "markdown",
      "metadata": {
        "id": "B9BEq8YHVuap"
      },
      "source": [
        "Вторым способом попробуем увеличить выборку положительного признака."
      ]
    },
    {
      "cell_type": "code",
      "execution_count": 133,
      "metadata": {
        "id": "B-r9FzWYVuap"
      },
      "outputs": [],
      "source": [
        "# Создадим функцию для увелечения выборки\n",
        "def upsample(features, target, repeat):\n",
        "    features_zeros = features[target == 0]\n",
        "    features_ones = features[target == 1]\n",
        "    target_zeros = target[target == 0]\n",
        "    target_ones = target[target == 1]\n",
        "\n",
        "    features_upsampled = pd.concat([features_zeros] + [features_ones] * repeat)\n",
        "    target_upsampled = pd.concat([target_zeros] + [target_ones] * repeat)\n",
        "\n",
        "    features_upsampled, target_upsampled = shuffle(\n",
        "        features_upsampled, target_upsampled, random_state=123)\n",
        "\n",
        "    return features_upsampled, target_upsampled\n",
        "\n",
        "X_up_train, Y_up_train = upsample(X_train, Y_train, 4)"
      ]
    },
    {
      "cell_type": "markdown",
      "metadata": {
        "id": "_XdUM7T-Vuap"
      },
      "source": [
        ">Проверим, верно ли произвели увеличение."
      ]
    },
    {
      "cell_type": "code",
      "execution_count": 134,
      "metadata": {
        "colab": {
          "base_uri": "https://localhost:8080/"
        },
        "id": "a9koJXhxVuap",
        "outputId": "57abdac1-709d-4129-c445-3978d5a9d206"
      },
      "outputs": [
        {
          "output_type": "execute_result",
          "data": {
            "text/plain": [
              "1    0.50569\n",
              "0    0.49431\n",
              "Name: Exited, dtype: float64"
            ]
          },
          "metadata": {},
          "execution_count": 134
        }
      ],
      "source": [
        "Y_up_train.value_counts(normalize=True)"
      ]
    },
    {
      "cell_type": "markdown",
      "metadata": {
        "id": "aCTk4HtVVuap"
      },
      "source": [
        ">Количество признаков каждого класса практически сравнялось. Классы сбалансированны.\n",
        "<br>Повторим обучение моделей и сравним их метрики."
      ]
    },
    {
      "cell_type": "markdown",
      "metadata": {
        "id": "8UQBeykCVuaq"
      },
      "source": [
        "#### Decision Tree"
      ]
    },
    {
      "cell_type": "markdown",
      "metadata": {
        "id": "4XYNoykPVuaq"
      },
      "source": [
        "Обучим модель дерева решений."
      ]
    },
    {
      "cell_type": "code",
      "execution_count": 135,
      "metadata": {
        "colab": {
          "base_uri": "https://localhost:8080/"
        },
        "id": "PzhkYNwNVuaq",
        "outputId": "6491a505-511e-4f03-a2b0-22d82b812f18"
      },
      "outputs": [
        {
          "output_type": "stream",
          "name": "stdout",
          "text": [
            "CPU times: user 657 ms, sys: 1.99 ms, total: 659 ms\n",
            "Wall time: 662 ms\n"
          ]
        }
      ],
      "source": [
        "%%time\n",
        "(model_dt_up, metrics_dt_up,\n",
        " fpr_dt_up, tpr_dt_up) = decision_tree(X_up_train, Y_up_train)"
      ]
    },
    {
      "cell_type": "markdown",
      "metadata": {
        "id": "zY5yjEPKVuaq"
      },
      "source": [
        "Метрики качества для лучшей модели решающего дерева:"
      ]
    },
    {
      "cell_type": "code",
      "execution_count": 136,
      "metadata": {
        "colab": {
          "base_uri": "https://localhost:8080/",
          "height": 81
        },
        "id": "armJiaQdVuaq",
        "outputId": "f60fb6fa-3d06-4a39-8d56-a179319aeefd"
      },
      "outputs": [
        {
          "output_type": "execute_result",
          "data": {
            "text/plain": [
              "     model  depth  F1_score   auc_roc  accuracy    recall  precision\n",
              "0  DecTree      6  0.557798  0.825341     0.759  0.745098   0.445748"
            ],
            "text/html": [
              "\n",
              "  <div id=\"df-02290b14-939f-470a-9c2e-19f5848a48df\" class=\"colab-df-container\">\n",
              "    <div>\n",
              "<style scoped>\n",
              "    .dataframe tbody tr th:only-of-type {\n",
              "        vertical-align: middle;\n",
              "    }\n",
              "\n",
              "    .dataframe tbody tr th {\n",
              "        vertical-align: top;\n",
              "    }\n",
              "\n",
              "    .dataframe thead th {\n",
              "        text-align: right;\n",
              "    }\n",
              "</style>\n",
              "<table border=\"1\" class=\"dataframe\">\n",
              "  <thead>\n",
              "    <tr style=\"text-align: right;\">\n",
              "      <th></th>\n",
              "      <th>model</th>\n",
              "      <th>depth</th>\n",
              "      <th>F1_score</th>\n",
              "      <th>auc_roc</th>\n",
              "      <th>accuracy</th>\n",
              "      <th>recall</th>\n",
              "      <th>precision</th>\n",
              "    </tr>\n",
              "  </thead>\n",
              "  <tbody>\n",
              "    <tr>\n",
              "      <th>0</th>\n",
              "      <td>DecTree</td>\n",
              "      <td>6</td>\n",
              "      <td>0.557798</td>\n",
              "      <td>0.825341</td>\n",
              "      <td>0.759</td>\n",
              "      <td>0.745098</td>\n",
              "      <td>0.445748</td>\n",
              "    </tr>\n",
              "  </tbody>\n",
              "</table>\n",
              "</div>\n",
              "    <div class=\"colab-df-buttons\">\n",
              "\n",
              "  <div class=\"colab-df-container\">\n",
              "    <button class=\"colab-df-convert\" onclick=\"convertToInteractive('df-02290b14-939f-470a-9c2e-19f5848a48df')\"\n",
              "            title=\"Convert this dataframe to an interactive table.\"\n",
              "            style=\"display:none;\">\n",
              "\n",
              "  <svg xmlns=\"http://www.w3.org/2000/svg\" height=\"24px\" viewBox=\"0 -960 960 960\">\n",
              "    <path d=\"M120-120v-720h720v720H120Zm60-500h600v-160H180v160Zm220 220h160v-160H400v160Zm0 220h160v-160H400v160ZM180-400h160v-160H180v160Zm440 0h160v-160H620v160ZM180-180h160v-160H180v160Zm440 0h160v-160H620v160Z\"/>\n",
              "  </svg>\n",
              "    </button>\n",
              "\n",
              "  <style>\n",
              "    .colab-df-container {\n",
              "      display:flex;\n",
              "      gap: 12px;\n",
              "    }\n",
              "\n",
              "    .colab-df-convert {\n",
              "      background-color: #E8F0FE;\n",
              "      border: none;\n",
              "      border-radius: 50%;\n",
              "      cursor: pointer;\n",
              "      display: none;\n",
              "      fill: #1967D2;\n",
              "      height: 32px;\n",
              "      padding: 0 0 0 0;\n",
              "      width: 32px;\n",
              "    }\n",
              "\n",
              "    .colab-df-convert:hover {\n",
              "      background-color: #E2EBFA;\n",
              "      box-shadow: 0px 1px 2px rgba(60, 64, 67, 0.3), 0px 1px 3px 1px rgba(60, 64, 67, 0.15);\n",
              "      fill: #174EA6;\n",
              "    }\n",
              "\n",
              "    .colab-df-buttons div {\n",
              "      margin-bottom: 4px;\n",
              "    }\n",
              "\n",
              "    [theme=dark] .colab-df-convert {\n",
              "      background-color: #3B4455;\n",
              "      fill: #D2E3FC;\n",
              "    }\n",
              "\n",
              "    [theme=dark] .colab-df-convert:hover {\n",
              "      background-color: #434B5C;\n",
              "      box-shadow: 0px 1px 3px 1px rgba(0, 0, 0, 0.15);\n",
              "      filter: drop-shadow(0px 1px 2px rgba(0, 0, 0, 0.3));\n",
              "      fill: #FFFFFF;\n",
              "    }\n",
              "  </style>\n",
              "\n",
              "    <script>\n",
              "      const buttonEl =\n",
              "        document.querySelector('#df-02290b14-939f-470a-9c2e-19f5848a48df button.colab-df-convert');\n",
              "      buttonEl.style.display =\n",
              "        google.colab.kernel.accessAllowed ? 'block' : 'none';\n",
              "\n",
              "      async function convertToInteractive(key) {\n",
              "        const element = document.querySelector('#df-02290b14-939f-470a-9c2e-19f5848a48df');\n",
              "        const dataTable =\n",
              "          await google.colab.kernel.invokeFunction('convertToInteractive',\n",
              "                                                    [key], {});\n",
              "        if (!dataTable) return;\n",
              "\n",
              "        const docLinkHtml = 'Like what you see? Visit the ' +\n",
              "          '<a target=\"_blank\" href=https://colab.research.google.com/notebooks/data_table.ipynb>data table notebook</a>'\n",
              "          + ' to learn more about interactive tables.';\n",
              "        element.innerHTML = '';\n",
              "        dataTable['output_type'] = 'display_data';\n",
              "        await google.colab.output.renderOutput(dataTable, element);\n",
              "        const docLink = document.createElement('div');\n",
              "        docLink.innerHTML = docLinkHtml;\n",
              "        element.appendChild(docLink);\n",
              "      }\n",
              "    </script>\n",
              "  </div>\n",
              "\n",
              "    </div>\n",
              "  </div>\n"
            ]
          },
          "metadata": {},
          "execution_count": 136
        }
      ],
      "source": [
        "metrics_dt_up"
      ]
    },
    {
      "cell_type": "markdown",
      "metadata": {
        "id": "8tl2KsymVuaq"
      },
      "source": [
        "Построим ROC-кривую для  Decision Tree с увеличенной выборкой."
      ]
    },
    {
      "cell_type": "code",
      "execution_count": 137,
      "metadata": {
        "scrolled": true,
        "colab": {
          "base_uri": "https://localhost:8080/",
          "height": 472
        },
        "id": "aBq0WgToVuaq",
        "outputId": "055e647d-96c9-4492-c356-5606676f686d"
      },
      "outputs": [
        {
          "output_type": "display_data",
          "data": {
            "text/plain": [
              "<Figure size 640x480 with 1 Axes>"
            ],
            "image/png": "[encoded data removed]"
          },
          "metadata": {}
        }
      ],
      "source": [
        "roc_show(fpr_dt_up, tpr_dt_up, name='ROC-кривая для Decision Tree (up)')"
      ]
    },
    {
      "cell_type": "markdown",
      "metadata": {
        "id": "gl-y_HSsVuaq"
      },
      "source": [
        "#### Random Forest"
      ]
    },
    {
      "cell_type": "markdown",
      "metadata": {
        "id": "vSeGxm_vVuaq"
      },
      "source": [
        "Обучим модели случайного леса."
      ]
    },
    {
      "cell_type": "code",
      "execution_count": 138,
      "metadata": {
        "colab": {
          "base_uri": "https://localhost:8080/"
        },
        "id": "A76lzJM_Vuaq",
        "outputId": "9e6d3535-9287-4f85-fbf3-9ba112267332"
      },
      "outputs": [
        {
          "output_type": "stream",
          "name": "stdout",
          "text": [
            "CPU times: user 7min 4s, sys: 1.47 s, total: 7min 6s\n",
            "Wall time: 7min 8s\n"
          ]
        }
      ],
      "source": [
        "%%time\n",
        "(model_rf_up, metrics_rf_up,\n",
        " fpr_rf_up, tpr_rf_up) = random_forest(X_up_train, Y_up_train)"
      ]
    },
    {
      "cell_type": "markdown",
      "metadata": {
        "id": "U2Nj4ACIVuar"
      },
      "source": [
        "Метрики качества для лучшей модели случайного леса:"
      ]
    },
    {
      "cell_type": "code",
      "execution_count": 139,
      "metadata": {
        "colab": {
          "base_uri": "https://localhost:8080/",
          "height": 81
        },
        "id": "CbovcMGbVuar",
        "outputId": "37ffbc65-1cdc-4ef0-92d7-a91b75745f67"
      },
      "outputs": [
        {
          "output_type": "execute_result",
          "data": {
            "text/plain": [
              "    model  depth  n_estimators  F1_score   auc_roc  accuracy    recall  \\\n",
              "0  RanFor     14            80  0.606289  0.847689    0.8435  0.590686   \n",
              "\n",
              "   precision  \n",
              "0   0.622739  "
            ],
            "text/html": [
              "\n",
              "  <div id=\"df-180f98dd-9b5b-493f-8ecb-6660d417a5e8\" class=\"colab-df-container\">\n",
              "    <div>\n",
              "<style scoped>\n",
              "    .dataframe tbody tr th:only-of-type {\n",
              "        vertical-align: middle;\n",
              "    }\n",
              "\n",
              "    .dataframe tbody tr th {\n",
              "        vertical-align: top;\n",
              "    }\n",
              "\n",
              "    .dataframe thead th {\n",
              "        text-align: right;\n",
              "    }\n",
              "</style>\n",
              "<table border=\"1\" class=\"dataframe\">\n",
              "  <thead>\n",
              "    <tr style=\"text-align: right;\">\n",
              "      <th></th>\n",
              "      <th>model</th>\n",
              "      <th>depth</th>\n",
              "      <th>n_estimators</th>\n",
              "      <th>F1_score</th>\n",
              "      <th>auc_roc</th>\n",
              "      <th>accuracy</th>\n",
              "      <th>recall</th>\n",
              "      <th>precision</th>\n",
              "    </tr>\n",
              "  </thead>\n",
              "  <tbody>\n",
              "    <tr>\n",
              "      <th>0</th>\n",
              "      <td>RanFor</td>\n",
              "      <td>14</td>\n",
              "      <td>80</td>\n",
              "      <td>0.606289</td>\n",
              "      <td>0.847689</td>\n",
              "      <td>0.8435</td>\n",
              "      <td>0.590686</td>\n",
              "      <td>0.622739</td>\n",
              "    </tr>\n",
              "  </tbody>\n",
              "</table>\n",
              "</div>\n",
              "    <div class=\"colab-df-buttons\">\n",
              "\n",
              "  <div class=\"colab-df-container\">\n",
              "    <button class=\"colab-df-convert\" onclick=\"convertToInteractive('df-180f98dd-9b5b-493f-8ecb-6660d417a5e8')\"\n",
              "            title=\"Convert this dataframe to an interactive table.\"\n",
              "            style=\"display:none;\">\n",
              "\n",
              "  <svg xmlns=\"http://www.w3.org/2000/svg\" height=\"24px\" viewBox=\"0 -960 960 960\">\n",
              "    <path d=\"M120-120v-720h720v720H120Zm60-500h600v-160H180v160Zm220 220h160v-160H400v160Zm0 220h160v-160H400v160ZM180-400h160v-160H180v160Zm440 0h160v-160H620v160ZM180-180h160v-160H180v160Zm440 0h160v-160H620v160Z\"/>\n",
              "  </svg>\n",
              "    </button>\n",
              "\n",
              "  <style>\n",
              "    .colab-df-container {\n",
              "      display:flex;\n",
              "      gap: 12px;\n",
              "    }\n",
              "\n",
              "    .colab-df-convert {\n",
              "      background-color: #E8F0FE;\n",
              "      border: none;\n",
              "      border-radius: 50%;\n",
              "      cursor: pointer;\n",
              "      display: none;\n",
              "      fill: #1967D2;\n",
              "      height: 32px;\n",
              "      padding: 0 0 0 0;\n",
              "      width: 32px;\n",
              "    }\n",
              "\n",
              "    .colab-df-convert:hover {\n",
              "      background-color: #E2EBFA;\n",
              "      box-shadow: 0px 1px 2px rgba(60, 64, 67, 0.3), 0px 1px 3px 1px rgba(60, 64, 67, 0.15);\n",
              "      fill: #174EA6;\n",
              "    }\n",
              "\n",
              "    .colab-df-buttons div {\n",
              "      margin-bottom: 4px;\n",
              "    }\n",
              "\n",
              "    [theme=dark] .colab-df-convert {\n",
              "      background-color: #3B4455;\n",
              "      fill: #D2E3FC;\n",
              "    }\n",
              "\n",
              "    [theme=dark] .colab-df-convert:hover {\n",
              "      background-color: #434B5C;\n",
              "      box-shadow: 0px 1px 3px 1px rgba(0, 0, 0, 0.15);\n",
              "      filter: drop-shadow(0px 1px 2px rgba(0, 0, 0, 0.3));\n",
              "      fill: #FFFFFF;\n",
              "    }\n",
              "  </style>\n",
              "\n",
              "    <script>\n",
              "      const buttonEl =\n",
              "        document.querySelector('#df-180f98dd-9b5b-493f-8ecb-6660d417a5e8 button.colab-df-convert');\n",
              "      buttonEl.style.display =\n",
              "        google.colab.kernel.accessAllowed ? 'block' : 'none';\n",
              "\n",
              "      async function convertToInteractive(key) {\n",
              "        const element = document.querySelector('#df-180f98dd-9b5b-493f-8ecb-6660d417a5e8');\n",
              "        const dataTable =\n",
              "          await google.colab.kernel.invokeFunction('convertToInteractive',\n",
              "                                                    [key], {});\n",
              "        if (!dataTable) return;\n",
              "\n",
              "        const docLinkHtml = 'Like what you see? Visit the ' +\n",
              "          '<a target=\"_blank\" href=https://colab.research.google.com/notebooks/data_table.ipynb>data table notebook</a>'\n",
              "          + ' to learn more about interactive tables.';\n",
              "        element.innerHTML = '';\n",
              "        dataTable['output_type'] = 'display_data';\n",
              "        await google.colab.output.renderOutput(dataTable, element);\n",
              "        const docLink = document.createElement('div');\n",
              "        docLink.innerHTML = docLinkHtml;\n",
              "        element.appendChild(docLink);\n",
              "      }\n",
              "    </script>\n",
              "  </div>\n",
              "\n",
              "    </div>\n",
              "  </div>\n"
            ]
          },
          "metadata": {},
          "execution_count": 139
        }
      ],
      "source": [
        "metrics_rf_up"
      ]
    },
    {
      "cell_type": "markdown",
      "metadata": {
        "id": "HcAtXWKHVuar"
      },
      "source": [
        "Построим ROC-кривую для сбалансированной модели случайного леса."
      ]
    },
    {
      "cell_type": "code",
      "execution_count": 140,
      "metadata": {
        "colab": {
          "base_uri": "https://localhost:8080/",
          "height": 472
        },
        "id": "AufbGN7gVuar",
        "outputId": "fa426182-cf53-4d3a-90db-827840174518"
      },
      "outputs": [
        {
          "output_type": "display_data",
          "data": {
            "text/plain": [
              "<Figure size 640x480 with 1 Axes>"
            ],
            "image/png": "[encoded data removed]"
          },
          "metadata": {}
        }
      ],
      "source": [
        "roc_show(fpr_rf_up, tpr_rf_up, name='ROC-кривая для Random Forest (up)')"
      ]
    },
    {
      "cell_type": "markdown",
      "metadata": {
        "id": "no_hDC66Vuar"
      },
      "source": [
        "#### Logistic Regression"
      ]
    },
    {
      "cell_type": "markdown",
      "metadata": {
        "id": "t3rdYnFVVuar"
      },
      "source": [
        "Обучим модели логистической регрессии."
      ]
    },
    {
      "cell_type": "code",
      "execution_count": 141,
      "metadata": {
        "colab": {
          "base_uri": "https://localhost:8080/"
        },
        "id": "Sy9yxxbnVuar",
        "outputId": "ad82081a-a623-448e-8f3d-dcd464b5261c"
      },
      "outputs": [
        {
          "output_type": "stream",
          "name": "stdout",
          "text": [
            "CPU times: user 50 ms, sys: 20 ms, total: 70 ms\n",
            "Wall time: 49.1 ms\n"
          ]
        }
      ],
      "source": [
        "%%time\n",
        "(model_lr_up, metrics_lr_up,\n",
        " fpr_lr_up, tpr_lr_up) = logistic_regression(X_up_train, Y_up_train)"
      ]
    },
    {
      "cell_type": "markdown",
      "metadata": {
        "id": "DRqXvB2IVuar"
      },
      "source": [
        "Метрики качества для модели логистической регрессии:"
      ]
    },
    {
      "cell_type": "code",
      "execution_count": 142,
      "metadata": {
        "colab": {
          "base_uri": "https://localhost:8080/",
          "height": 81
        },
        "id": "-YSTtFYbVuar",
        "outputId": "932a20bf-5168-4867-fa97-03536ea08b39"
      },
      "outputs": [
        {
          "output_type": "execute_result",
          "data": {
            "text/plain": [
              "    model  F1_score   auc_roc  accuracy    recall  precision\n",
              "0  LogReg  0.457539  0.734401     0.687  0.647059   0.353887"
            ],
            "text/html": [
              "\n",
              "  <div id=\"df-b6a6736a-692e-4ff1-99f4-d98a37497efe\" class=\"colab-df-container\">\n",
              "    <div>\n",
              "<style scoped>\n",
              "    .dataframe tbody tr th:only-of-type {\n",
              "        vertical-align: middle;\n",
              "    }\n",
              "\n",
              "    .dataframe tbody tr th {\n",
              "        vertical-align: top;\n",
              "    }\n",
              "\n",
              "    .dataframe thead th {\n",
              "        text-align: right;\n",
              "    }\n",
              "</style>\n",
              "<table border=\"1\" class=\"dataframe\">\n",
              "  <thead>\n",
              "    <tr style=\"text-align: right;\">\n",
              "      <th></th>\n",
              "      <th>model</th>\n",
              "      <th>F1_score</th>\n",
              "      <th>auc_roc</th>\n",
              "      <th>accuracy</th>\n",
              "      <th>recall</th>\n",
              "      <th>precision</th>\n",
              "    </tr>\n",
              "  </thead>\n",
              "  <tbody>\n",
              "    <tr>\n",
              "      <th>0</th>\n",
              "      <td>LogReg</td>\n",
              "      <td>0.457539</td>\n",
              "      <td>0.734401</td>\n",
              "      <td>0.687</td>\n",
              "      <td>0.647059</td>\n",
              "      <td>0.353887</td>\n",
              "    </tr>\n",
              "  </tbody>\n",
              "</table>\n",
              "</div>\n",
              "    <div class=\"colab-df-buttons\">\n",
              "\n",
              "  <div class=\"colab-df-container\">\n",
              "    <button class=\"colab-df-convert\" onclick=\"convertToInteractive('df-b6a6736a-692e-4ff1-99f4-d98a37497efe')\"\n",
              "            title=\"Convert this dataframe to an interactive table.\"\n",
              "            style=\"display:none;\">\n",
              "\n",
              "  <svg xmlns=\"http://www.w3.org/2000/svg\" height=\"24px\" viewBox=\"0 -960 960 960\">\n",
              "    <path d=\"M120-120v-720h720v720H120Zm60-500h600v-160H180v160Zm220 220h160v-160H400v160Zm0 220h160v-160H400v160ZM180-400h160v-160H180v160Zm440 0h160v-160H620v160ZM180-180h160v-160H180v160Zm440 0h160v-160H620v160Z\"/>\n",
              "  </svg>\n",
              "    </button>\n",
              "\n",
              "  <style>\n",
              "    .colab-df-container {\n",
              "      display:flex;\n",
              "      gap: 12px;\n",
              "    }\n",
              "\n",
              "    .colab-df-convert {\n",
              "      background-color: #E8F0FE;\n",
              "      border: none;\n",
              "      border-radius: 50%;\n",
              "      cursor: pointer;\n",
              "      display: none;\n",
              "      fill: #1967D2;\n",
              "      height: 32px;\n",
              "      padding: 0 0 0 0;\n",
              "      width: 32px;\n",
              "    }\n",
              "\n",
              "    .colab-df-convert:hover {\n",
              "      background-color: #E2EBFA;\n",
              "      box-shadow: 0px 1px 2px rgba(60, 64, 67, 0.3), 0px 1px 3px 1px rgba(60, 64, 67, 0.15);\n",
              "      fill: #174EA6;\n",
              "    }\n",
              "\n",
              "    .colab-df-buttons div {\n",
              "      margin-bottom: 4px;\n",
              "    }\n",
              "\n",
              "    [theme=dark] .colab-df-convert {\n",
              "      background-color: #3B4455;\n",
              "      fill: #D2E3FC;\n",
              "    }\n",
              "\n",
              "    [theme=dark] .colab-df-convert:hover {\n",
              "      background-color: #434B5C;\n",
              "      box-shadow: 0px 1px 3px 1px rgba(0, 0, 0, 0.15);\n",
              "      filter: drop-shadow(0px 1px 2px rgba(0, 0, 0, 0.3));\n",
              "      fill: #FFFFFF;\n",
              "    }\n",
              "  </style>\n",
              "\n",
              "    <script>\n",
              "      const buttonEl =\n",
              "        document.querySelector('#df-b6a6736a-692e-4ff1-99f4-d98a37497efe button.colab-df-convert');\n",
              "      buttonEl.style.display =\n",
              "        google.colab.kernel.accessAllowed ? 'block' : 'none';\n",
              "\n",
              "      async function convertToInteractive(key) {\n",
              "        const element = document.querySelector('#df-b6a6736a-692e-4ff1-99f4-d98a37497efe');\n",
              "        const dataTable =\n",
              "          await google.colab.kernel.invokeFunction('convertToInteractive',\n",
              "                                                    [key], {});\n",
              "        if (!dataTable) return;\n",
              "\n",
              "        const docLinkHtml = 'Like what you see? Visit the ' +\n",
              "          '<a target=\"_blank\" href=https://colab.research.google.com/notebooks/data_table.ipynb>data table notebook</a>'\n",
              "          + ' to learn more about interactive tables.';\n",
              "        element.innerHTML = '';\n",
              "        dataTable['output_type'] = 'display_data';\n",
              "        await google.colab.output.renderOutput(dataTable, element);\n",
              "        const docLink = document.createElement('div');\n",
              "        docLink.innerHTML = docLinkHtml;\n",
              "        element.appendChild(docLink);\n",
              "      }\n",
              "    </script>\n",
              "  </div>\n",
              "\n",
              "    </div>\n",
              "  </div>\n"
            ]
          },
          "metadata": {},
          "execution_count": 142
        }
      ],
      "source": [
        "metrics_lr_up"
      ]
    },
    {
      "cell_type": "code",
      "execution_count": 143,
      "metadata": {
        "colab": {
          "base_uri": "https://localhost:8080/",
          "height": 472
        },
        "id": "z5mjdqrHVuar",
        "outputId": "03d3b1ef-bc02-4b60-bb3e-4cdef6d9cb24"
      },
      "outputs": [
        {
          "output_type": "display_data",
          "data": {
            "text/plain": [
              "<Figure size 640x480 with 1 Axes>"
            ],
            "image/png": "[encoded data removed]"
          },
          "metadata": {}
        }
      ],
      "source": [
        "roc_show(fpr_lr_up, tpr_lr_up, name='ROC-кривая для Logistic Regression (up)')"
      ]
    },
    {
      "cell_type": "markdown",
      "metadata": {
        "id": "UA6Zwa9KVuas"
      },
      "source": [
        "#### Выводы"
      ]
    },
    {
      "cell_type": "markdown",
      "metadata": {
        "id": "kyZ9OM2SVuas"
      },
      "source": [
        "Выведем метрики по моделям, сбалансированным методом взвешивания классов."
      ]
    },
    {
      "cell_type": "code",
      "execution_count": 144,
      "metadata": {
        "colab": {
          "base_uri": "https://localhost:8080/",
          "height": 143
        },
        "id": "zg0eIVYwVuas",
        "outputId": "537e9d80-d4bc-44a7-b656-13fb8d871a00"
      },
      "outputs": [
        {
          "output_type": "execute_result",
          "data": {
            "text/plain": [
              "     model  depth  F1_score   auc_roc  accuracy    recall  precision  \\\n",
              "0  DecTree    6.0  0.557798  0.825341    0.7590  0.745098   0.445748   \n",
              "0   RanFor   14.0  0.606289  0.847689    0.8435  0.590686   0.622739   \n",
              "0   LogReg    NaN  0.457539  0.734401    0.6870  0.647059   0.353887   \n",
              "\n",
              "   n_estimators balance_type  \n",
              "0           NaN           up  \n",
              "0          80.0           up  \n",
              "0           NaN           up  "
            ],
            "text/html": [
              "\n",
              "  <div id=\"df-7abacee1-993f-44dd-9c5d-0ac6c6e05e7c\" class=\"colab-df-container\">\n",
              "    <div>\n",
              "<style scoped>\n",
              "    .dataframe tbody tr th:only-of-type {\n",
              "        vertical-align: middle;\n",
              "    }\n",
              "\n",
              "    .dataframe tbody tr th {\n",
              "        vertical-align: top;\n",
              "    }\n",
              "\n",
              "    .dataframe thead th {\n",
              "        text-align: right;\n",
              "    }\n",
              "</style>\n",
              "<table border=\"1\" class=\"dataframe\">\n",
              "  <thead>\n",
              "    <tr style=\"text-align: right;\">\n",
              "      <th></th>\n",
              "      <th>model</th>\n",
              "      <th>depth</th>\n",
              "      <th>F1_score</th>\n",
              "      <th>auc_roc</th>\n",
              "      <th>accuracy</th>\n",
              "      <th>recall</th>\n",
              "      <th>precision</th>\n",
              "      <th>n_estimators</th>\n",
              "      <th>balance_type</th>\n",
              "    </tr>\n",
              "  </thead>\n",
              "  <tbody>\n",
              "    <tr>\n",
              "      <th>0</th>\n",
              "      <td>DecTree</td>\n",
              "      <td>6.0</td>\n",
              "      <td>0.557798</td>\n",
              "      <td>0.825341</td>\n",
              "      <td>0.7590</td>\n",
              "      <td>0.745098</td>\n",
              "      <td>0.445748</td>\n",
              "      <td>NaN</td>\n",
              "      <td>up</td>\n",
              "    </tr>\n",
              "    <tr>\n",
              "      <th>0</th>\n",
              "      <td>RanFor</td>\n",
              "      <td>14.0</td>\n",
              "      <td>0.606289</td>\n",
              "      <td>0.847689</td>\n",
              "      <td>0.8435</td>\n",
              "      <td>0.590686</td>\n",
              "      <td>0.622739</td>\n",
              "      <td>80.0</td>\n",
              "      <td>up</td>\n",
              "    </tr>\n",
              "    <tr>\n",
              "      <th>0</th>\n",
              "      <td>LogReg</td>\n",
              "      <td>NaN</td>\n",
              "      <td>0.457539</td>\n",
              "      <td>0.734401</td>\n",
              "      <td>0.6870</td>\n",
              "      <td>0.647059</td>\n",
              "      <td>0.353887</td>\n",
              "      <td>NaN</td>\n",
              "      <td>up</td>\n",
              "    </tr>\n",
              "  </tbody>\n",
              "</table>\n",
              "</div>\n",
              "    <div class=\"colab-df-buttons\">\n",
              "\n",
              "  <div class=\"colab-df-container\">\n",
              "    <button class=\"colab-df-convert\" onclick=\"convertToInteractive('df-7abacee1-993f-44dd-9c5d-0ac6c6e05e7c')\"\n",
              "            title=\"Convert this dataframe to an interactive table.\"\n",
              "            style=\"display:none;\">\n",
              "\n",
              "  <svg xmlns=\"http://www.w3.org/2000/svg\" height=\"24px\" viewBox=\"0 -960 960 960\">\n",
              "    <path d=\"M120-120v-720h720v720H120Zm60-500h600v-160H180v160Zm220 220h160v-160H400v160Zm0 220h160v-160H400v160ZM180-400h160v-160H180v160Zm440 0h160v-160H620v160ZM180-180h160v-160H180v160Zm440 0h160v-160H620v160Z\"/>\n",
              "  </svg>\n",
              "    </button>\n",
              "\n",
              "  <style>\n",
              "    .colab-df-container {\n",
              "      display:flex;\n",
              "      gap: 12px;\n",
              "    }\n",
              "\n",
              "    .colab-df-convert {\n",
              "      background-color: #E8F0FE;\n",
              "      border: none;\n",
              "      border-radius: 50%;\n",
              "      cursor: pointer;\n",
              "      display: none;\n",
              "      fill: #1967D2;\n",
              "      height: 32px;\n",
              "      padding: 0 0 0 0;\n",
              "      width: 32px;\n",
              "    }\n",
              "\n",
              "    .colab-df-convert:hover {\n",
              "      background-color: #E2EBFA;\n",
              "      box-shadow: 0px 1px 2px rgba(60, 64, 67, 0.3), 0px 1px 3px 1px rgba(60, 64, 67, 0.15);\n",
              "      fill: #174EA6;\n",
              "    }\n",
              "\n",
              "    .colab-df-buttons div {\n",
              "      margin-bottom: 4px;\n",
              "    }\n",
              "\n",
              "    [theme=dark] .colab-df-convert {\n",
              "      background-color: #3B4455;\n",
              "      fill: #D2E3FC;\n",
              "    }\n",
              "\n",
              "    [theme=dark] .colab-df-convert:hover {\n",
              "      background-color: #434B5C;\n",
              "      box-shadow: 0px 1px 3px 1px rgba(0, 0, 0, 0.15);\n",
              "      filter: drop-shadow(0px 1px 2px rgba(0, 0, 0, 0.3));\n",
              "      fill: #FFFFFF;\n",
              "    }\n",
              "  </style>\n",
              "\n",
              "    <script>\n",
              "      const buttonEl =\n",
              "        document.querySelector('#df-7abacee1-993f-44dd-9c5d-0ac6c6e05e7c button.colab-df-convert');\n",
              "      buttonEl.style.display =\n",
              "        google.colab.kernel.accessAllowed ? 'block' : 'none';\n",
              "\n",
              "      async function convertToInteractive(key) {\n",
              "        const element = document.querySelector('#df-7abacee1-993f-44dd-9c5d-0ac6c6e05e7c');\n",
              "        const dataTable =\n",
              "          await google.colab.kernel.invokeFunction('convertToInteractive',\n",
              "                                                    [key], {});\n",
              "        if (!dataTable) return;\n",
              "\n",
              "        const docLinkHtml = 'Like what you see? Visit the ' +\n",
              "          '<a target=\"_blank\" href=https://colab.research.google.com/notebooks/data_table.ipynb>data table notebook</a>'\n",
              "          + ' to learn more about interactive tables.';\n",
              "        element.innerHTML = '';\n",
              "        dataTable['output_type'] = 'display_data';\n",
              "        await google.colab.output.renderOutput(dataTable, element);\n",
              "        const docLink = document.createElement('div');\n",
              "        docLink.innerHTML = docLinkHtml;\n",
              "        element.appendChild(docLink);\n",
              "      }\n",
              "    </script>\n",
              "  </div>\n",
              "\n",
              "\n",
              "<div id=\"df-7af08e30-0691-4de8-a475-f9a797bc8ef3\">\n",
              "  <button class=\"colab-df-quickchart\" onclick=\"quickchart('df-7af08e30-0691-4de8-a475-f9a797bc8ef3')\"\n",
              "            title=\"Suggest charts\"\n",
              "            style=\"display:none;\">\n",
              "\n",
              "<svg xmlns=\"http://www.w3.org/2000/svg\" height=\"24px\"viewBox=\"0 0 24 24\"\n",
              "     width=\"24px\">\n",
              "    <g>\n",
              "        <path d=\"M19 3H5c-1.1 0-2 .9-2 2v14c0 1.1.9 2 2 2h14c1.1 0 2-.9 2-2V5c0-1.1-.9-2-2-2zM9 17H7v-7h2v7zm4 0h-2V7h2v10zm4 0h-2v-4h2v4z\"/>\n",
              "    </g>\n",
              "</svg>\n",
              "  </button>\n",
              "\n",
              "<style>\n",
              "  .colab-df-quickchart {\n",
              "      --bg-color: #E8F0FE;\n",
              "      --fill-color: #1967D2;\n",
              "      --hover-bg-color: #E2EBFA;\n",
              "      --hover-fill-color: #174EA6;\n",
              "      --disabled-fill-color: #AAA;\n",
              "      --disabled-bg-color: #DDD;\n",
              "  }\n",
              "\n",
              "  [theme=dark] .colab-df-quickchart {\n",
              "      --bg-color: #3B4455;\n",
              "      --fill-color: #D2E3FC;\n",
              "      --hover-bg-color: #434B5C;\n",
              "      --hover-fill-color: #FFFFFF;\n",
              "      --disabled-bg-color: #3B4455;\n",
              "      --disabled-fill-color: #666;\n",
              "  }\n",
              "\n",
              "  .colab-df-quickchart {\n",
              "    background-color: var(--bg-color);\n",
              "    border: none;\n",
              "    border-radius: 50%;\n",
              "    cursor: pointer;\n",
              "    display: none;\n",
              "    fill: var(--fill-color);\n",
              "    height: 32px;\n",
              "    padding: 0;\n",
              "    width: 32px;\n",
              "  }\n",
              "\n",
              "  .colab-df-quickchart:hover {\n",
              "    background-color: var(--hover-bg-color);\n",
              "    box-shadow: 0 1px 2px rgba(60, 64, 67, 0.3), 0 1px 3px 1px rgba(60, 64, 67, 0.15);\n",
              "    fill: var(--button-hover-fill-color);\n",
              "  }\n",
              "\n",
              "  .colab-df-quickchart-complete:disabled,\n",
              "  .colab-df-quickchart-complete:disabled:hover {\n",
              "    background-color: var(--disabled-bg-color);\n",
              "    fill: var(--disabled-fill-color);\n",
              "    box-shadow: none;\n",
              "  }\n",
              "\n",
              "  .colab-df-spinner {\n",
              "    border: 2px solid var(--fill-color);\n",
              "    border-color: transparent;\n",
              "    border-bottom-color: var(--fill-color);\n",
              "    animation:\n",
              "      spin 1s steps(1) infinite;\n",
              "  }\n",
              "\n",
              "  @keyframes spin {\n",
              "    0% {\n",
              "      border-color: transparent;\n",
              "      border-bottom-color: var(--fill-color);\n",
              "      border-left-color: var(--fill-color);\n",
              "    }\n",
              "    20% {\n",
              "      border-color: transparent;\n",
              "      border-left-color: var(--fill-color);\n",
              "      border-top-color: var(--fill-color);\n",
              "    }\n",
              "    30% {\n",
              "      border-color: transparent;\n",
              "      border-left-color: var(--fill-color);\n",
              "      border-top-color: var(--fill-color);\n",
              "      border-right-color: var(--fill-color);\n",
              "    }\n",
              "    40% {\n",
              "      border-color: transparent;\n",
              "      border-right-color: var(--fill-color);\n",
              "      border-top-color: var(--fill-color);\n",
              "    }\n",
              "    60% {\n",
              "      border-color: transparent;\n",
              "      border-right-color: var(--fill-color);\n",
              "    }\n",
              "    80% {\n",
              "      border-color: transparent;\n",
              "      border-right-color: var(--fill-color);\n",
              "      border-bottom-color: var(--fill-color);\n",
              "    }\n",
              "    90% {\n",
              "      border-color: transparent;\n",
              "      border-bottom-color: var(--fill-color);\n",
              "    }\n",
              "  }\n",
              "</style>\n",
              "\n",
              "  <script>\n",
              "    async function quickchart(key) {\n",
              "      const quickchartButtonEl =\n",
              "        document.querySelector('#' + key + ' button');\n",
              "      quickchartButtonEl.disabled = true;  // To prevent multiple clicks.\n",
              "      quickchartButtonEl.classList.add('colab-df-spinner');\n",
              "      try {\n",
              "        const charts = await google.colab.kernel.invokeFunction(\n",
              "            'suggestCharts', [key], {});\n",
              "      } catch (error) {\n",
              "        console.error('Error during call to suggestCharts:', error);\n",
              "      }\n",
              "      quickchartButtonEl.classList.remove('colab-df-spinner');\n",
              "      quickchartButtonEl.classList.add('colab-df-quickchart-complete');\n",
              "    }\n",
              "    (() => {\n",
              "      let quickchartButtonEl =\n",
              "        document.querySelector('#df-7af08e30-0691-4de8-a475-f9a797bc8ef3 button');\n",
              "      quickchartButtonEl.style.display =\n",
              "        google.colab.kernel.accessAllowed ? 'block' : 'none';\n",
              "    })();\n",
              "  </script>\n",
              "</div>\n",
              "    </div>\n",
              "  </div>\n"
            ]
          },
          "metadata": {},
          "execution_count": 144
        }
      ],
      "source": [
        "all_metrics_up = pd.concat([metrics_dt_up, metrics_rf_up, metrics_lr_up], sort=False, axis=0)\n",
        "all_metrics_up['balance_type'] = 'up'  # Доюавим столбец типа балансировки\n",
        "all_metrics_up"
      ]
    },
    {
      "cell_type": "markdown",
      "metadata": {
        "id": "2Nza2yugVuas"
      },
      "source": [
        "При изменении балансировки классов метрики решающего дерева не изменились, случайного леса - увеличились, для логистичнской регрессии F1-мера уменьшилась, ROC-AUC - практически не изменилась."
      ]
    },
    {
      "cell_type": "markdown",
      "metadata": {
        "id": "sr_EOrlAVuas"
      },
      "source": [
        "### Уменьшение выборки"
      ]
    },
    {
      "cell_type": "markdown",
      "metadata": {
        "id": "c41mc_YuVuas"
      },
      "source": [
        "Осталось проверить вариант с уменьшением выборки отрицательного признака."
      ]
    },
    {
      "cell_type": "code",
      "execution_count": 145,
      "metadata": {
        "id": "bd_ueiXcVuas"
      },
      "outputs": [],
      "source": [
        "def downsample(features, target, fraction):\n",
        "    features_zeros = features[target == 0]\n",
        "    features_ones = features[target == 1]\n",
        "    target_zeros = target[target == 0]\n",
        "    target_ones = target[target == 1]\n",
        "\n",
        "    features_downsampled = pd.concat(\n",
        "        [features_zeros.sample(frac=fraction, random_state=123)] + [features_ones])\n",
        "    target_downsampled = pd.concat(\n",
        "        [target_zeros.sample(frac=fraction, random_state=123)] + [target_ones])\n",
        "\n",
        "    features_downsampled, target_downsampled = shuffle(\n",
        "        features_downsampled, target_downsampled, random_state=123)\n",
        "\n",
        "    return features_downsampled, target_downsampled\n",
        "\n",
        "X_down_train, Y_down_train = downsample(X_train, Y_train, 0.25)"
      ]
    },
    {
      "cell_type": "markdown",
      "metadata": {
        "id": "Hi3r12y-Vuas"
      },
      "source": [
        "Проверим, верно ли уменьшили выборку."
      ]
    },
    {
      "cell_type": "code",
      "execution_count": 146,
      "metadata": {
        "colab": {
          "base_uri": "https://localhost:8080/"
        },
        "id": "DnlzjL4zVuas",
        "outputId": "5da2e24d-b78c-46a0-e656-e1da04ef3308"
      },
      "outputs": [
        {
          "output_type": "execute_result",
          "data": {
            "text/plain": [
              "1    0.505795\n",
              "0    0.494205\n",
              "Name: Exited, dtype: float64"
            ]
          },
          "metadata": {},
          "execution_count": 146
        }
      ],
      "source": [
        "Y_down_train.value_counts(normalize=True)"
      ]
    },
    {
      "cell_type": "markdown",
      "metadata": {
        "id": "tK93xUWMVuat"
      },
      "source": [
        "Классы сбалансированны.\n",
        "<br>Повторим обучение моделей и сравним их метрики."
      ]
    },
    {
      "cell_type": "markdown",
      "metadata": {
        "id": "XyY5MKKNVuat"
      },
      "source": [
        "#### Decision Tree"
      ]
    },
    {
      "cell_type": "markdown",
      "metadata": {
        "id": "Y2Cb64hYVuat"
      },
      "source": [
        "Обучим модели дерева решений."
      ]
    },
    {
      "cell_type": "code",
      "execution_count": 147,
      "metadata": {
        "colab": {
          "base_uri": "https://localhost:8080/"
        },
        "id": "4jYuWsSEVuat",
        "outputId": "13227a73-abd8-4cc1-c056-b40464b1685b"
      },
      "outputs": [
        {
          "output_type": "stream",
          "name": "stdout",
          "text": [
            "CPU times: user 325 ms, sys: 9 µs, total: 325 ms\n",
            "Wall time: 327 ms\n"
          ]
        }
      ],
      "source": [
        "%%time\n",
        "(model_dt_down, metrics_dt_down,\n",
        " fpr_dt_down, tpr_dt_down) = decision_tree(X_down_train, Y_down_train)"
      ]
    },
    {
      "cell_type": "markdown",
      "metadata": {
        "id": "2VPziEPEVuat"
      },
      "source": [
        "Метрики качества для лучшей модели решающего дерева:"
      ]
    },
    {
      "cell_type": "code",
      "execution_count": 148,
      "metadata": {
        "colab": {
          "base_uri": "https://localhost:8080/",
          "height": 81
        },
        "id": "Ux2i0vnXVuat",
        "outputId": "7f25fe8c-b3c9-4522-8d59-918c9cf80e41"
      },
      "outputs": [
        {
          "output_type": "execute_result",
          "data": {
            "text/plain": [
              "     model  depth  F1_score   auc_roc  accuracy    recall  precision\n",
              "0  DecTree      6  0.545798  0.812527    0.7595  0.708333   0.443932"
            ],
            "text/html": [
              "\n",
              "  <div id=\"df-d11ace52-947d-4119-9dbb-4adb00631a2e\" class=\"colab-df-container\">\n",
              "    <div>\n",
              "<style scoped>\n",
              "    .dataframe tbody tr th:only-of-type {\n",
              "        vertical-align: middle;\n",
              "    }\n",
              "\n",
              "    .dataframe tbody tr th {\n",
              "        vertical-align: top;\n",
              "    }\n",
              "\n",
              "    .dataframe thead th {\n",
              "        text-align: right;\n",
              "    }\n",
              "</style>\n",
              "<table border=\"1\" class=\"dataframe\">\n",
              "  <thead>\n",
              "    <tr style=\"text-align: right;\">\n",
              "      <th></th>\n",
              "      <th>model</th>\n",
              "      <th>depth</th>\n",
              "      <th>F1_score</th>\n",
              "      <th>auc_roc</th>\n",
              "      <th>accuracy</th>\n",
              "      <th>recall</th>\n",
              "      <th>precision</th>\n",
              "    </tr>\n",
              "  </thead>\n",
              "  <tbody>\n",
              "    <tr>\n",
              "      <th>0</th>\n",
              "      <td>DecTree</td>\n",
              "      <td>6</td>\n",
              "      <td>0.545798</td>\n",
              "      <td>0.812527</td>\n",
              "      <td>0.7595</td>\n",
              "      <td>0.708333</td>\n",
              "      <td>0.443932</td>\n",
              "    </tr>\n",
              "  </tbody>\n",
              "</table>\n",
              "</div>\n",
              "    <div class=\"colab-df-buttons\">\n",
              "\n",
              "  <div class=\"colab-df-container\">\n",
              "    <button class=\"colab-df-convert\" onclick=\"convertToInteractive('df-d11ace52-947d-4119-9dbb-4adb00631a2e')\"\n",
              "            title=\"Convert this dataframe to an interactive table.\"\n",
              "            style=\"display:none;\">\n",
              "\n",
              "  <svg xmlns=\"http://www.w3.org/2000/svg\" height=\"24px\" viewBox=\"0 -960 960 960\">\n",
              "    <path d=\"M120-120v-720h720v720H120Zm60-500h600v-160H180v160Zm220 220h160v-160H400v160Zm0 220h160v-160H400v160ZM180-400h160v-160H180v160Zm440 0h160v-160H620v160ZM180-180h160v-160H180v160Zm440 0h160v-160H620v160Z\"/>\n",
              "  </svg>\n",
              "    </button>\n",
              "\n",
              "  <style>\n",
              "    .colab-df-container {\n",
              "      display:flex;\n",
              "      gap: 12px;\n",
              "    }\n",
              "\n",
              "    .colab-df-convert {\n",
              "      background-color: #E8F0FE;\n",
              "      border: none;\n",
              "      border-radius: 50%;\n",
              "      cursor: pointer;\n",
              "      display: none;\n",
              "      fill: #1967D2;\n",
              "      height: 32px;\n",
              "      padding: 0 0 0 0;\n",
              "      width: 32px;\n",
              "    }\n",
              "\n",
              "    .colab-df-convert:hover {\n",
              "      background-color: #E2EBFA;\n",
              "      box-shadow: 0px 1px 2px rgba(60, 64, 67, 0.3), 0px 1px 3px 1px rgba(60, 64, 67, 0.15);\n",
              "      fill: #174EA6;\n",
              "    }\n",
              "\n",
              "    .colab-df-buttons div {\n",
              "      margin-bottom: 4px;\n",
              "    }\n",
              "\n",
              "    [theme=dark] .colab-df-convert {\n",
              "      background-color: #3B4455;\n",
              "      fill: #D2E3FC;\n",
              "    }\n",
              "\n",
              "    [theme=dark] .colab-df-convert:hover {\n",
              "      background-color: #434B5C;\n",
              "      box-shadow: 0px 1px 3px 1px rgba(0, 0, 0, 0.15);\n",
              "      filter: drop-shadow(0px 1px 2px rgba(0, 0, 0, 0.3));\n",
              "      fill: #FFFFFF;\n",
              "    }\n",
              "  </style>\n",
              "\n",
              "    <script>\n",
              "      const buttonEl =\n",
              "        document.querySelector('#df-d11ace52-947d-4119-9dbb-4adb00631a2e button.colab-df-convert');\n",
              "      buttonEl.style.display =\n",
              "        google.colab.kernel.accessAllowed ? 'block' : 'none';\n",
              "\n",
              "      async function convertToInteractive(key) {\n",
              "        const element = document.querySelector('#df-d11ace52-947d-4119-9dbb-4adb00631a2e');\n",
              "        const dataTable =\n",
              "          await google.colab.kernel.invokeFunction('convertToInteractive',\n",
              "                                                    [key], {});\n",
              "        if (!dataTable) return;\n",
              "\n",
              "        const docLinkHtml = 'Like what you see? Visit the ' +\n",
              "          '<a target=\"_blank\" href=https://colab.research.google.com/notebooks/data_table.ipynb>data table notebook</a>'\n",
              "          + ' to learn more about interactive tables.';\n",
              "        element.innerHTML = '';\n",
              "        dataTable['output_type'] = 'display_data';\n",
              "        await google.colab.output.renderOutput(dataTable, element);\n",
              "        const docLink = document.createElement('div');\n",
              "        docLink.innerHTML = docLinkHtml;\n",
              "        element.appendChild(docLink);\n",
              "      }\n",
              "    </script>\n",
              "  </div>\n",
              "\n",
              "    </div>\n",
              "  </div>\n"
            ]
          },
          "metadata": {},
          "execution_count": 148
        }
      ],
      "source": [
        "metrics_dt_down"
      ]
    },
    {
      "cell_type": "markdown",
      "metadata": {
        "id": "Q6TVIBtBVuat"
      },
      "source": [
        "Построим ROC-кривую для  Decision Tree с увеличенной выборкой."
      ]
    },
    {
      "cell_type": "code",
      "execution_count": 149,
      "metadata": {
        "scrolled": true,
        "colab": {
          "base_uri": "https://localhost:8080/",
          "height": 472
        },
        "id": "T1Qh9g7kVuat",
        "outputId": "6bb22cb4-c960-4273-8b7e-3245761a4ca8"
      },
      "outputs": [
        {
          "output_type": "display_data",
          "data": {
            "text/plain": [
              "<Figure size 640x480 with 1 Axes>"
            ],
            "image/png": "[encoded data removed]"
          },
          "metadata": {}
        }
      ],
      "source": [
        "roc_show(fpr_dt_down, tpr_dt_down, name='ROC-кривая для Decision Tree (down)')"
      ]
    },
    {
      "cell_type": "markdown",
      "metadata": {
        "id": "ylqvQeRNVuat"
      },
      "source": [
        "#### Random Forest"
      ]
    },
    {
      "cell_type": "markdown",
      "metadata": {
        "id": "iBmoXXK8Vuat"
      },
      "source": [
        "Обучим модель случайного леса."
      ]
    },
    {
      "cell_type": "code",
      "execution_count": 150,
      "metadata": {
        "colab": {
          "base_uri": "https://localhost:8080/"
        },
        "id": "JGjkRCeZVuau",
        "outputId": "3ecb5246-c8ee-453c-af31-f26ecbcdbc02"
      },
      "outputs": [
        {
          "output_type": "stream",
          "name": "stdout",
          "text": [
            "CPU times: user 2min 48s, sys: 405 ms, total: 2min 48s\n",
            "Wall time: 2min 49s\n"
          ]
        }
      ],
      "source": [
        "%%time\n",
        "(model_rf_down, metrics_rf_down,\n",
        " fpr_rf_down, tpr_rf_down) = random_forest(X_down_train, Y_down_train)"
      ]
    },
    {
      "cell_type": "markdown",
      "metadata": {
        "id": "VQrWYNR9Vuau"
      },
      "source": [
        "Метрики качества для лучшей модели случайного леса:"
      ]
    },
    {
      "cell_type": "code",
      "execution_count": 151,
      "metadata": {
        "colab": {
          "base_uri": "https://localhost:8080/",
          "height": 81
        },
        "id": "A3-BQw0KVuau",
        "outputId": "08e5269a-045a-4861-aa57-2ffab95a585c"
      },
      "outputs": [
        {
          "output_type": "execute_result",
          "data": {
            "text/plain": [
              "    model  depth  n_estimators  F1_score  auc_roc  accuracy    recall  \\\n",
              "0  RanFor      8           120  0.570616  0.84405    0.7735  0.737745   \n",
              "\n",
              "   precision  \n",
              "0   0.465224  "
            ],
            "text/html": [
              "\n",
              "  <div id=\"df-d873254f-4dfb-465b-baf7-e28dd595fc88\" class=\"colab-df-container\">\n",
              "    <div>\n",
              "<style scoped>\n",
              "    .dataframe tbody tr th:only-of-type {\n",
              "        vertical-align: middle;\n",
              "    }\n",
              "\n",
              "    .dataframe tbody tr th {\n",
              "        vertical-align: top;\n",
              "    }\n",
              "\n",
              "    .dataframe thead th {\n",
              "        text-align: right;\n",
              "    }\n",
              "</style>\n",
              "<table border=\"1\" class=\"dataframe\">\n",
              "  <thead>\n",
              "    <tr style=\"text-align: right;\">\n",
              "      <th></th>\n",
              "      <th>model</th>\n",
              "      <th>depth</th>\n",
              "      <th>n_estimators</th>\n",
              "      <th>F1_score</th>\n",
              "      <th>auc_roc</th>\n",
              "      <th>accuracy</th>\n",
              "      <th>recall</th>\n",
              "      <th>precision</th>\n",
              "    </tr>\n",
              "  </thead>\n",
              "  <tbody>\n",
              "    <tr>\n",
              "      <th>0</th>\n",
              "      <td>RanFor</td>\n",
              "      <td>8</td>\n",
              "      <td>120</td>\n",
              "      <td>0.570616</td>\n",
              "      <td>0.84405</td>\n",
              "      <td>0.7735</td>\n",
              "      <td>0.737745</td>\n",
              "      <td>0.465224</td>\n",
              "    </tr>\n",
              "  </tbody>\n",
              "</table>\n",
              "</div>\n",
              "    <div class=\"colab-df-buttons\">\n",
              "\n",
              "  <div class=\"colab-df-container\">\n",
              "    <button class=\"colab-df-convert\" onclick=\"convertToInteractive('df-d873254f-4dfb-465b-baf7-e28dd595fc88')\"\n",
              "            title=\"Convert this dataframe to an interactive table.\"\n",
              "            style=\"display:none;\">\n",
              "\n",
              "  <svg xmlns=\"http://www.w3.org/2000/svg\" height=\"24px\" viewBox=\"0 -960 960 960\">\n",
              "    <path d=\"M120-120v-720h720v720H120Zm60-500h600v-160H180v160Zm220 220h160v-160H400v160Zm0 220h160v-160H400v160ZM180-400h160v-160H180v160Zm440 0h160v-160H620v160ZM180-180h160v-160H180v160Zm440 0h160v-160H620v160Z\"/>\n",
              "  </svg>\n",
              "    </button>\n",
              "\n",
              "  <style>\n",
              "    .colab-df-container {\n",
              "      display:flex;\n",
              "      gap: 12px;\n",
              "    }\n",
              "\n",
              "    .colab-df-convert {\n",
              "      background-color: #E8F0FE;\n",
              "      border: none;\n",
              "      border-radius: 50%;\n",
              "      cursor: pointer;\n",
              "      display: none;\n",
              "      fill: #1967D2;\n",
              "      height: 32px;\n",
              "      padding: 0 0 0 0;\n",
              "      width: 32px;\n",
              "    }\n",
              "\n",
              "    .colab-df-convert:hover {\n",
              "      background-color: #E2EBFA;\n",
              "      box-shadow: 0px 1px 2px rgba(60, 64, 67, 0.3), 0px 1px 3px 1px rgba(60, 64, 67, 0.15);\n",
              "      fill: #174EA6;\n",
              "    }\n",
              "\n",
              "    .colab-df-buttons div {\n",
              "      margin-bottom: 4px;\n",
              "    }\n",
              "\n",
              "    [theme=dark] .colab-df-convert {\n",
              "      background-color: #3B4455;\n",
              "      fill: #D2E3FC;\n",
              "    }\n",
              "\n",
              "    [theme=dark] .colab-df-convert:hover {\n",
              "      background-color: #434B5C;\n",
              "      box-shadow: 0px 1px 3px 1px rgba(0, 0, 0, 0.15);\n",
              "      filter: drop-shadow(0px 1px 2px rgba(0, 0, 0, 0.3));\n",
              "      fill: #FFFFFF;\n",
              "    }\n",
              "  </style>\n",
              "\n",
              "    <script>\n",
              "      const buttonEl =\n",
              "        document.querySelector('#df-d873254f-4dfb-465b-baf7-e28dd595fc88 button.colab-df-convert');\n",
              "      buttonEl.style.display =\n",
              "        google.colab.kernel.accessAllowed ? 'block' : 'none';\n",
              "\n",
              "      async function convertToInteractive(key) {\n",
              "        const element = document.querySelector('#df-d873254f-4dfb-465b-baf7-e28dd595fc88');\n",
              "        const dataTable =\n",
              "          await google.colab.kernel.invokeFunction('convertToInteractive',\n",
              "                                                    [key], {});\n",
              "        if (!dataTable) return;\n",
              "\n",
              "        const docLinkHtml = 'Like what you see? Visit the ' +\n",
              "          '<a target=\"_blank\" href=https://colab.research.google.com/notebooks/data_table.ipynb>data table notebook</a>'\n",
              "          + ' to learn more about interactive tables.';\n",
              "        element.innerHTML = '';\n",
              "        dataTable['output_type'] = 'display_data';\n",
              "        await google.colab.output.renderOutput(dataTable, element);\n",
              "        const docLink = document.createElement('div');\n",
              "        docLink.innerHTML = docLinkHtml;\n",
              "        element.appendChild(docLink);\n",
              "      }\n",
              "    </script>\n",
              "  </div>\n",
              "\n",
              "    </div>\n",
              "  </div>\n"
            ]
          },
          "metadata": {},
          "execution_count": 151
        }
      ],
      "source": [
        "metrics_rf_down"
      ]
    },
    {
      "cell_type": "markdown",
      "metadata": {
        "id": "boiAitniVuau"
      },
      "source": [
        "Построим ROC-кривую для сбалансированной модели случайного леса."
      ]
    },
    {
      "cell_type": "code",
      "execution_count": 152,
      "metadata": {
        "colab": {
          "base_uri": "https://localhost:8080/",
          "height": 472
        },
        "id": "aEwUHqSoVuau",
        "outputId": "deeef188-0ced-43c0-ed9a-898ed0d373f6"
      },
      "outputs": [
        {
          "output_type": "display_data",
          "data": {
            "text/plain": [
              "<Figure size 640x480 with 1 Axes>"
            ],
            "image/png": "[encoded data removed]"
          },
          "metadata": {}
        }
      ],
      "source": [
        "roc_show(fpr_rf_down, tpr_rf_down, name='ROC-кривая для Random Forest (down)')"
      ]
    },
    {
      "cell_type": "markdown",
      "metadata": {
        "id": "FMFzpWIbVuau"
      },
      "source": [
        "#### Logistic Regression"
      ]
    },
    {
      "cell_type": "markdown",
      "metadata": {
        "id": "m0yiJq4YVuau"
      },
      "source": [
        "Обучим модели логистической регрессии."
      ]
    },
    {
      "cell_type": "code",
      "execution_count": 153,
      "metadata": {
        "colab": {
          "base_uri": "https://localhost:8080/"
        },
        "id": "NMkjtIyeVuau",
        "outputId": "fb279cb5-3246-4239-e325-77ca95611ec3"
      },
      "outputs": [
        {
          "output_type": "stream",
          "name": "stdout",
          "text": [
            "CPU times: user 33.7 ms, sys: 15 ms, total: 48.6 ms\n",
            "Wall time: 33.6 ms\n"
          ]
        }
      ],
      "source": [
        "%%time\n",
        "(model_lr_down, metrics_lr_down,\n",
        " fpr_lr_down, tpr_lr_down) = logistic_regression(X_down_train, Y_down_train)"
      ]
    },
    {
      "cell_type": "markdown",
      "metadata": {
        "id": "KU0I_So3Vuav"
      },
      "source": [
        "Метрики качества для модели логистической регрессии:"
      ]
    },
    {
      "cell_type": "code",
      "execution_count": 154,
      "metadata": {
        "colab": {
          "base_uri": "https://localhost:8080/",
          "height": 81
        },
        "id": "wNIZ9y4AVuav",
        "outputId": "d9a6acf2-ec6d-4cae-acea-5752be652dd5"
      },
      "outputs": [
        {
          "output_type": "execute_result",
          "data": {
            "text/plain": [
              "    model  F1_score   auc_roc  accuracy    recall  precision\n",
              "0  LogReg  0.458262  0.733026     0.682  0.659314   0.351175"
            ],
            "text/html": [
              "\n",
              "  <div id=\"df-7a0fd3f7-6757-4fa6-982b-68731d131933\" class=\"colab-df-container\">\n",
              "    <div>\n",
              "<style scoped>\n",
              "    .dataframe tbody tr th:only-of-type {\n",
              "        vertical-align: middle;\n",
              "    }\n",
              "\n",
              "    .dataframe tbody tr th {\n",
              "        vertical-align: top;\n",
              "    }\n",
              "\n",
              "    .dataframe thead th {\n",
              "        text-align: right;\n",
              "    }\n",
              "</style>\n",
              "<table border=\"1\" class=\"dataframe\">\n",
              "  <thead>\n",
              "    <tr style=\"text-align: right;\">\n",
              "      <th></th>\n",
              "      <th>model</th>\n",
              "      <th>F1_score</th>\n",
              "      <th>auc_roc</th>\n",
              "      <th>accuracy</th>\n",
              "      <th>recall</th>\n",
              "      <th>precision</th>\n",
              "    </tr>\n",
              "  </thead>\n",
              "  <tbody>\n",
              "    <tr>\n",
              "      <th>0</th>\n",
              "      <td>LogReg</td>\n",
              "      <td>0.458262</td>\n",
              "      <td>0.733026</td>\n",
              "      <td>0.682</td>\n",
              "      <td>0.659314</td>\n",
              "      <td>0.351175</td>\n",
              "    </tr>\n",
              "  </tbody>\n",
              "</table>\n",
              "</div>\n",
              "    <div class=\"colab-df-buttons\">\n",
              "\n",
              "  <div class=\"colab-df-container\">\n",
              "    <button class=\"colab-df-convert\" onclick=\"convertToInteractive('df-7a0fd3f7-6757-4fa6-982b-68731d131933')\"\n",
              "            title=\"Convert this dataframe to an interactive table.\"\n",
              "            style=\"display:none;\">\n",
              "\n",
              "  <svg xmlns=\"http://www.w3.org/2000/svg\" height=\"24px\" viewBox=\"0 -960 960 960\">\n",
              "    <path d=\"M120-120v-720h720v720H120Zm60-500h600v-160H180v160Zm220 220h160v-160H400v160Zm0 220h160v-160H400v160ZM180-400h160v-160H180v160Zm440 0h160v-160H620v160ZM180-180h160v-160H180v160Zm440 0h160v-160H620v160Z\"/>\n",
              "  </svg>\n",
              "    </button>\n",
              "\n",
              "  <style>\n",
              "    .colab-df-container {\n",
              "      display:flex;\n",
              "      gap: 12px;\n",
              "    }\n",
              "\n",
              "    .colab-df-convert {\n",
              "      background-color: #E8F0FE;\n",
              "      border: none;\n",
              "      border-radius: 50%;\n",
              "      cursor: pointer;\n",
              "      display: none;\n",
              "      fill: #1967D2;\n",
              "      height: 32px;\n",
              "      padding: 0 0 0 0;\n",
              "      width: 32px;\n",
              "    }\n",
              "\n",
              "    .colab-df-convert:hover {\n",
              "      background-color: #E2EBFA;\n",
              "      box-shadow: 0px 1px 2px rgba(60, 64, 67, 0.3), 0px 1px 3px 1px rgba(60, 64, 67, 0.15);\n",
              "      fill: #174EA6;\n",
              "    }\n",
              "\n",
              "    .colab-df-buttons div {\n",
              "      margin-bottom: 4px;\n",
              "    }\n",
              "\n",
              "    [theme=dark] .colab-df-convert {\n",
              "      background-color: #3B4455;\n",
              "      fill: #D2E3FC;\n",
              "    }\n",
              "\n",
              "    [theme=dark] .colab-df-convert:hover {\n",
              "      background-color: #434B5C;\n",
              "      box-shadow: 0px 1px 3px 1px rgba(0, 0, 0, 0.15);\n",
              "      filter: drop-shadow(0px 1px 2px rgba(0, 0, 0, 0.3));\n",
              "      fill: #FFFFFF;\n",
              "    }\n",
              "  </style>\n",
              "\n",
              "    <script>\n",
              "      const buttonEl =\n",
              "        document.querySelector('#df-7a0fd3f7-6757-4fa6-982b-68731d131933 button.colab-df-convert');\n",
              "      buttonEl.style.display =\n",
              "        google.colab.kernel.accessAllowed ? 'block' : 'none';\n",
              "\n",
              "      async function convertToInteractive(key) {\n",
              "        const element = document.querySelector('#df-7a0fd3f7-6757-4fa6-982b-68731d131933');\n",
              "        const dataTable =\n",
              "          await google.colab.kernel.invokeFunction('convertToInteractive',\n",
              "                                                    [key], {});\n",
              "        if (!dataTable) return;\n",
              "\n",
              "        const docLinkHtml = 'Like what you see? Visit the ' +\n",
              "          '<a target=\"_blank\" href=https://colab.research.google.com/notebooks/data_table.ipynb>data table notebook</a>'\n",
              "          + ' to learn more about interactive tables.';\n",
              "        element.innerHTML = '';\n",
              "        dataTable['output_type'] = 'display_data';\n",
              "        await google.colab.output.renderOutput(dataTable, element);\n",
              "        const docLink = document.createElement('div');\n",
              "        docLink.innerHTML = docLinkHtml;\n",
              "        element.appendChild(docLink);\n",
              "      }\n",
              "    </script>\n",
              "  </div>\n",
              "\n",
              "    </div>\n",
              "  </div>\n"
            ]
          },
          "metadata": {},
          "execution_count": 154
        }
      ],
      "source": [
        "metrics_lr_down"
      ]
    },
    {
      "cell_type": "code",
      "execution_count": 155,
      "metadata": {
        "colab": {
          "base_uri": "https://localhost:8080/",
          "height": 472
        },
        "id": "Z2llGmQ2Vuav",
        "outputId": "df6aafbd-6638-4a1d-e91a-a6c630d1f009"
      },
      "outputs": [
        {
          "output_type": "display_data",
          "data": {
            "text/plain": [
              "<Figure size 640x480 with 1 Axes>"
            ],
            "image/png": "[encoded data removed]"
          },
          "metadata": {}
        }
      ],
      "source": [
        "roc_show(fpr_lr_down, tpr_lr_down, name='ROC-кривая для Logistic Regression (down)')"
      ]
    },
    {
      "cell_type": "markdown",
      "metadata": {
        "id": "I-nc8L_1Vuav"
      },
      "source": [
        "#### Выводы"
      ]
    },
    {
      "cell_type": "markdown",
      "metadata": {
        "id": "sKS9hu8tVuav"
      },
      "source": [
        "Выведем метрики по моделям, сбалансированным методом взвешивания классов."
      ]
    },
    {
      "cell_type": "code",
      "execution_count": 156,
      "metadata": {
        "colab": {
          "base_uri": "https://localhost:8080/",
          "height": 143
        },
        "id": "CikMGE-EVuav",
        "outputId": "f85fad09-0cda-48bd-efde-9e85f4c1c2da"
      },
      "outputs": [
        {
          "output_type": "execute_result",
          "data": {
            "text/plain": [
              "     model  depth  F1_score   auc_roc  accuracy    recall  precision  \\\n",
              "0  DecTree    6.0  0.545798  0.812527    0.7595  0.708333   0.443932   \n",
              "0   RanFor    8.0  0.570616  0.844050    0.7735  0.737745   0.465224   \n",
              "0   LogReg    NaN  0.458262  0.733026    0.6820  0.659314   0.351175   \n",
              "\n",
              "   n_estimators balance_type  \n",
              "0           NaN         down  \n",
              "0         120.0         down  \n",
              "0           NaN         down  "
            ],
            "text/html": [
              "\n",
              "  <div id=\"df-b818e765-a91e-40be-bfcd-7ef8cbf5c56f\" class=\"colab-df-container\">\n",
              "    <div>\n",
              "<style scoped>\n",
              "    .dataframe tbody tr th:only-of-type {\n",
              "        vertical-align: middle;\n",
              "    }\n",
              "\n",
              "    .dataframe tbody tr th {\n",
              "        vertical-align: top;\n",
              "    }\n",
              "\n",
              "    .dataframe thead th {\n",
              "        text-align: right;\n",
              "    }\n",
              "</style>\n",
              "<table border=\"1\" class=\"dataframe\">\n",
              "  <thead>\n",
              "    <tr style=\"text-align: right;\">\n",
              "      <th></th>\n",
              "      <th>model</th>\n",
              "      <th>depth</th>\n",
              "      <th>F1_score</th>\n",
              "      <th>auc_roc</th>\n",
              "      <th>accuracy</th>\n",
              "      <th>recall</th>\n",
              "      <th>precision</th>\n",
              "      <th>n_estimators</th>\n",
              "      <th>balance_type</th>\n",
              "    </tr>\n",
              "  </thead>\n",
              "  <tbody>\n",
              "    <tr>\n",
              "      <th>0</th>\n",
              "      <td>DecTree</td>\n",
              "      <td>6.0</td>\n",
              "      <td>0.545798</td>\n",
              "      <td>0.812527</td>\n",
              "      <td>0.7595</td>\n",
              "      <td>0.708333</td>\n",
              "      <td>0.443932</td>\n",
              "      <td>NaN</td>\n",
              "      <td>down</td>\n",
              "    </tr>\n",
              "    <tr>\n",
              "      <th>0</th>\n",
              "      <td>RanFor</td>\n",
              "      <td>8.0</td>\n",
              "      <td>0.570616</td>\n",
              "      <td>0.844050</td>\n",
              "      <td>0.7735</td>\n",
              "      <td>0.737745</td>\n",
              "      <td>0.465224</td>\n",
              "      <td>120.0</td>\n",
              "      <td>down</td>\n",
              "    </tr>\n",
              "    <tr>\n",
              "      <th>0</th>\n",
              "      <td>LogReg</td>\n",
              "      <td>NaN</td>\n",
              "      <td>0.458262</td>\n",
              "      <td>0.733026</td>\n",
              "      <td>0.6820</td>\n",
              "      <td>0.659314</td>\n",
              "      <td>0.351175</td>\n",
              "      <td>NaN</td>\n",
              "      <td>down</td>\n",
              "    </tr>\n",
              "  </tbody>\n",
              "</table>\n",
              "</div>\n",
              "    <div class=\"colab-df-buttons\">\n",
              "\n",
              "  <div class=\"colab-df-container\">\n",
              "    <button class=\"colab-df-convert\" onclick=\"convertToInteractive('df-b818e765-a91e-40be-bfcd-7ef8cbf5c56f')\"\n",
              "            title=\"Convert this dataframe to an interactive table.\"\n",
              "            style=\"display:none;\">\n",
              "\n",
              "  <svg xmlns=\"http://www.w3.org/2000/svg\" height=\"24px\" viewBox=\"0 -960 960 960\">\n",
              "    <path d=\"M120-120v-720h720v720H120Zm60-500h600v-160H180v160Zm220 220h160v-160H400v160Zm0 220h160v-160H400v160ZM180-400h160v-160H180v160Zm440 0h160v-160H620v160ZM180-180h160v-160H180v160Zm440 0h160v-160H620v160Z\"/>\n",
              "  </svg>\n",
              "    </button>\n",
              "\n",
              "  <style>\n",
              "    .colab-df-container {\n",
              "      display:flex;\n",
              "      gap: 12px;\n",
              "    }\n",
              "\n",
              "    .colab-df-convert {\n",
              "      background-color: #E8F0FE;\n",
              "      border: none;\n",
              "      border-radius: 50%;\n",
              "      cursor: pointer;\n",
              "      display: none;\n",
              "      fill: #1967D2;\n",
              "      height: 32px;\n",
              "      padding: 0 0 0 0;\n",
              "      width: 32px;\n",
              "    }\n",
              "\n",
              "    .colab-df-convert:hover {\n",
              "      background-color: #E2EBFA;\n",
              "      box-shadow: 0px 1px 2px rgba(60, 64, 67, 0.3), 0px 1px 3px 1px rgba(60, 64, 67, 0.15);\n",
              "      fill: #174EA6;\n",
              "    }\n",
              "\n",
              "    .colab-df-buttons div {\n",
              "      margin-bottom: 4px;\n",
              "    }\n",
              "\n",
              "    [theme=dark] .colab-df-convert {\n",
              "      background-color: #3B4455;\n",
              "      fill: #D2E3FC;\n",
              "    }\n",
              "\n",
              "    [theme=dark] .colab-df-convert:hover {\n",
              "      background-color: #434B5C;\n",
              "      box-shadow: 0px 1px 3px 1px rgba(0, 0, 0, 0.15);\n",
              "      filter: drop-shadow(0px 1px 2px rgba(0, 0, 0, 0.3));\n",
              "      fill: #FFFFFF;\n",
              "    }\n",
              "  </style>\n",
              "\n",
              "    <script>\n",
              "      const buttonEl =\n",
              "        document.querySelector('#df-b818e765-a91e-40be-bfcd-7ef8cbf5c56f button.colab-df-convert');\n",
              "      buttonEl.style.display =\n",
              "        google.colab.kernel.accessAllowed ? 'block' : 'none';\n",
              "\n",
              "      async function convertToInteractive(key) {\n",
              "        const element = document.querySelector('#df-b818e765-a91e-40be-bfcd-7ef8cbf5c56f');\n",
              "        const dataTable =\n",
              "          await google.colab.kernel.invokeFunction('convertToInteractive',\n",
              "                                                    [key], {});\n",
              "        if (!dataTable) return;\n",
              "\n",
              "        const docLinkHtml = 'Like what you see? Visit the ' +\n",
              "          '<a target=\"_blank\" href=https://colab.research.google.com/notebooks/data_table.ipynb>data table notebook</a>'\n",
              "          + ' to learn more about interactive tables.';\n",
              "        element.innerHTML = '';\n",
              "        dataTable['output_type'] = 'display_data';\n",
              "        await google.colab.output.renderOutput(dataTable, element);\n",
              "        const docLink = document.createElement('div');\n",
              "        docLink.innerHTML = docLinkHtml;\n",
              "        element.appendChild(docLink);\n",
              "      }\n",
              "    </script>\n",
              "  </div>\n",
              "\n",
              "\n",
              "<div id=\"df-54dfdf77-4160-45aa-9ef6-31fa15317fae\">\n",
              "  <button class=\"colab-df-quickchart\" onclick=\"quickchart('df-54dfdf77-4160-45aa-9ef6-31fa15317fae')\"\n",
              "            title=\"Suggest charts\"\n",
              "            style=\"display:none;\">\n",
              "\n",
              "<svg xmlns=\"http://www.w3.org/2000/svg\" height=\"24px\"viewBox=\"0 0 24 24\"\n",
              "     width=\"24px\">\n",
              "    <g>\n",
              "        <path d=\"M19 3H5c-1.1 0-2 .9-2 2v14c0 1.1.9 2 2 2h14c1.1 0 2-.9 2-2V5c0-1.1-.9-2-2-2zM9 17H7v-7h2v7zm4 0h-2V7h2v10zm4 0h-2v-4h2v4z\"/>\n",
              "    </g>\n",
              "</svg>\n",
              "  </button>\n",
              "\n",
              "<style>\n",
              "  .colab-df-quickchart {\n",
              "      --bg-color: #E8F0FE;\n",
              "      --fill-color: #1967D2;\n",
              "      --hover-bg-color: #E2EBFA;\n",
              "      --hover-fill-color: #174EA6;\n",
              "      --disabled-fill-color: #AAA;\n",
              "      --disabled-bg-color: #DDD;\n",
              "  }\n",
              "\n",
              "  [theme=dark] .colab-df-quickchart {\n",
              "      --bg-color: #3B4455;\n",
              "      --fill-color: #D2E3FC;\n",
              "      --hover-bg-color: #434B5C;\n",
              "      --hover-fill-color: #FFFFFF;\n",
              "      --disabled-bg-color: #3B4455;\n",
              "      --disabled-fill-color: #666;\n",
              "  }\n",
              "\n",
              "  .colab-df-quickchart {\n",
              "    background-color: var(--bg-color);\n",
              "    border: none;\n",
              "    border-radius: 50%;\n",
              "    cursor: pointer;\n",
              "    display: none;\n",
              "    fill: var(--fill-color);\n",
              "    height: 32px;\n",
              "    padding: 0;\n",
              "    width: 32px;\n",
              "  }\n",
              "\n",
              "  .colab-df-quickchart:hover {\n",
              "    background-color: var(--hover-bg-color);\n",
              "    box-shadow: 0 1px 2px rgba(60, 64, 67, 0.3), 0 1px 3px 1px rgba(60, 64, 67, 0.15);\n",
              "    fill: var(--button-hover-fill-color);\n",
              "  }\n",
              "\n",
              "  .colab-df-quickchart-complete:disabled,\n",
              "  .colab-df-quickchart-complete:disabled:hover {\n",
              "    background-color: var(--disabled-bg-color);\n",
              "    fill: var(--disabled-fill-color);\n",
              "    box-shadow: none;\n",
              "  }\n",
              "\n",
              "  .colab-df-spinner {\n",
              "    border: 2px solid var(--fill-color);\n",
              "    border-color: transparent;\n",
              "    border-bottom-color: var(--fill-color);\n",
              "    animation:\n",
              "      spin 1s steps(1) infinite;\n",
              "  }\n",
              "\n",
              "  @keyframes spin {\n",
              "    0% {\n",
              "      border-color: transparent;\n",
              "      border-bottom-color: var(--fill-color);\n",
              "      border-left-color: var(--fill-color);\n",
              "    }\n",
              "    20% {\n",
              "      border-color: transparent;\n",
              "      border-left-color: var(--fill-color);\n",
              "      border-top-color: var(--fill-color);\n",
              "    }\n",
              "    30% {\n",
              "      border-color: transparent;\n",
              "      border-left-color: var(--fill-color);\n",
              "      border-top-color: var(--fill-color);\n",
              "      border-right-color: var(--fill-color);\n",
              "    }\n",
              "    40% {\n",
              "      border-color: transparent;\n",
              "      border-right-color: var(--fill-color);\n",
              "      border-top-color: var(--fill-color);\n",
              "    }\n",
              "    60% {\n",
              "      border-color: transparent;\n",
              "      border-right-color: var(--fill-color);\n",
              "    }\n",
              "    80% {\n",
              "      border-color: transparent;\n",
              "      border-right-color: var(--fill-color);\n",
              "      border-bottom-color: var(--fill-color);\n",
              "    }\n",
              "    90% {\n",
              "      border-color: transparent;\n",
              "      border-bottom-color: var(--fill-color);\n",
              "    }\n",
              "  }\n",
              "</style>\n",
              "\n",
              "  <script>\n",
              "    async function quickchart(key) {\n",
              "      const quickchartButtonEl =\n",
              "        document.querySelector('#' + key + ' button');\n",
              "      quickchartButtonEl.disabled = true;  // To prevent multiple clicks.\n",
              "      quickchartButtonEl.classList.add('colab-df-spinner');\n",
              "      try {\n",
              "        const charts = await google.colab.kernel.invokeFunction(\n",
              "            'suggestCharts', [key], {});\n",
              "      } catch (error) {\n",
              "        console.error('Error during call to suggestCharts:', error);\n",
              "      }\n",
              "      quickchartButtonEl.classList.remove('colab-df-spinner');\n",
              "      quickchartButtonEl.classList.add('colab-df-quickchart-complete');\n",
              "    }\n",
              "    (() => {\n",
              "      let quickchartButtonEl =\n",
              "        document.querySelector('#df-54dfdf77-4160-45aa-9ef6-31fa15317fae button');\n",
              "      quickchartButtonEl.style.display =\n",
              "        google.colab.kernel.accessAllowed ? 'block' : 'none';\n",
              "    })();\n",
              "  </script>\n",
              "</div>\n",
              "    </div>\n",
              "  </div>\n"
            ]
          },
          "metadata": {},
          "execution_count": 156
        }
      ],
      "source": [
        "all_metrics_down = pd.concat([metrics_dt_down, metrics_rf_down, metrics_lr_down], sort=False, axis=0)\n",
        "all_metrics_down['balance_type'] = 'down'  # Добавим столбец типа балансировки\n",
        "all_metrics_down"
      ]
    },
    {
      "cell_type": "markdown",
      "metadata": {
        "id": "ybH4PNldVuav"
      },
      "source": [
        "При уменьшении класса метрики по всем моделям снизились."
      ]
    },
    {
      "cell_type": "markdown",
      "metadata": {
        "id": "q9EOgcXGVuaw"
      },
      "source": [
        "### Вывод"
      ]
    },
    {
      "cell_type": "markdown",
      "metadata": {
        "id": "iopKg5fHVuaw"
      },
      "source": [
        "Сравним метрики по всем способам борьбы с дисбалансом."
      ]
    },
    {
      "cell_type": "code",
      "execution_count": 157,
      "metadata": {
        "colab": {
          "base_uri": "https://localhost:8080/",
          "height": 425
        },
        "id": "oHCWHTBMVuax",
        "outputId": "2279f096-983a-4996-fffb-75914b3a4613"
      },
      "outputs": [
        {
          "output_type": "execute_result",
          "data": {
            "text/plain": [
              "     model  depth  F1_score   auc_roc  accuracy    recall  precision  \\\n",
              "0  DecTree    7.0  0.566474  0.819836    0.8500  0.480392   0.690141   \n",
              "0   RanFor    9.0  0.571885  0.849454    0.8660  0.438725   0.821101   \n",
              "0   LogReg    NaN  0.298401  0.731508    0.8025  0.205882   0.541935   \n",
              "0  DecTree    6.0  0.559120  0.827753    0.7595  0.747549   0.446559   \n",
              "0   RanFor   10.0  0.605042  0.846067    0.8355  0.617647   0.592941   \n",
              "0   LogReg    NaN  0.461404  0.734352    0.6930  0.644608   0.359290   \n",
              "0  DecTree    6.0  0.557798  0.825341    0.7590  0.745098   0.445748   \n",
              "0   RanFor   14.0  0.606289  0.847689    0.8435  0.590686   0.622739   \n",
              "0   LogReg    NaN  0.457539  0.734401    0.6870  0.647059   0.353887   \n",
              "0  DecTree    6.0  0.545798  0.812527    0.7595  0.708333   0.443932   \n",
              "0   RanFor    8.0  0.570616  0.844050    0.7735  0.737745   0.465224   \n",
              "0   LogReg    NaN  0.458262  0.733026    0.6820  0.659314   0.351175   \n",
              "\n",
              "   n_estimators balance_type  \n",
              "0           NaN       before  \n",
              "0          15.0       before  \n",
              "0           NaN       before  \n",
              "0           NaN     balanced  \n",
              "0          90.0     balanced  \n",
              "0           NaN     balanced  \n",
              "0           NaN           up  \n",
              "0          80.0           up  \n",
              "0           NaN           up  \n",
              "0           NaN         down  \n",
              "0         120.0         down  \n",
              "0           NaN         down  "
            ],
            "text/html": [
              "\n",
              "  <div id=\"df-b4ed2b22-9843-48c8-8b6c-ce154ec8bf91\" class=\"colab-df-container\">\n",
              "    <div>\n",
              "<style scoped>\n",
              "    .dataframe tbody tr th:only-of-type {\n",
              "        vertical-align: middle;\n",
              "    }\n",
              "\n",
              "    .dataframe tbody tr th {\n",
              "        vertical-align: top;\n",
              "    }\n",
              "\n",
              "    .dataframe thead th {\n",
              "        text-align: right;\n",
              "    }\n",
              "</style>\n",
              "<table border=\"1\" class=\"dataframe\">\n",
              "  <thead>\n",
              "    <tr style=\"text-align: right;\">\n",
              "      <th></th>\n",
              "      <th>model</th>\n",
              "      <th>depth</th>\n",
              "      <th>F1_score</th>\n",
              "      <th>auc_roc</th>\n",
              "      <th>accuracy</th>\n",
              "      <th>recall</th>\n",
              "      <th>precision</th>\n",
              "      <th>n_estimators</th>\n",
              "      <th>balance_type</th>\n",
              "    </tr>\n",
              "  </thead>\n",
              "  <tbody>\n",
              "    <tr>\n",
              "      <th>0</th>\n",
              "      <td>DecTree</td>\n",
              "      <td>7.0</td>\n",
              "      <td>0.566474</td>\n",
              "      <td>0.819836</td>\n",
              "      <td>0.8500</td>\n",
              "      <td>0.480392</td>\n",
              "      <td>0.690141</td>\n",
              "      <td>NaN</td>\n",
              "      <td>before</td>\n",
              "    </tr>\n",
              "    <tr>\n",
              "      <th>0</th>\n",
              "      <td>RanFor</td>\n",
              "      <td>9.0</td>\n",
              "      <td>0.571885</td>\n",
              "      <td>0.849454</td>\n",
              "      <td>0.8660</td>\n",
              "      <td>0.438725</td>\n",
              "      <td>0.821101</td>\n",
              "      <td>15.0</td>\n",
              "      <td>before</td>\n",
              "    </tr>\n",
              "    <tr>\n",
              "      <th>0</th>\n",
              "      <td>LogReg</td>\n",
              "      <td>NaN</td>\n",
              "      <td>0.298401</td>\n",
              "      <td>0.731508</td>\n",
              "      <td>0.8025</td>\n",
              "      <td>0.205882</td>\n",
              "      <td>0.541935</td>\n",
              "      <td>NaN</td>\n",
              "      <td>before</td>\n",
              "    </tr>\n",
              "    <tr>\n",
              "      <th>0</th>\n",
              "      <td>DecTree</td>\n",
              "      <td>6.0</td>\n",
              "      <td>0.559120</td>\n",
              "      <td>0.827753</td>\n",
              "      <td>0.7595</td>\n",
              "      <td>0.747549</td>\n",
              "      <td>0.446559</td>\n",
              "      <td>NaN</td>\n",
              "      <td>balanced</td>\n",
              "    </tr>\n",
              "    <tr>\n",
              "      <th>0</th>\n",
              "      <td>RanFor</td>\n",
              "      <td>10.0</td>\n",
              "      <td>0.605042</td>\n",
              "      <td>0.846067</td>\n",
              "      <td>0.8355</td>\n",
              "      <td>0.617647</td>\n",
              "      <td>0.592941</td>\n",
              "      <td>90.0</td>\n",
              "      <td>balanced</td>\n",
              "    </tr>\n",
              "    <tr>\n",
              "      <th>0</th>\n",
              "      <td>LogReg</td>\n",
              "      <td>NaN</td>\n",
              "      <td>0.461404</td>\n",
              "      <td>0.734352</td>\n",
              "      <td>0.6930</td>\n",
              "      <td>0.644608</td>\n",
              "      <td>0.359290</td>\n",
              "      <td>NaN</td>\n",
              "      <td>balanced</td>\n",
              "    </tr>\n",
              "    <tr>\n",
              "      <th>0</th>\n",
              "      <td>DecTree</td>\n",
              "      <td>6.0</td>\n",
              "      <td>0.557798</td>\n",
              "      <td>0.825341</td>\n",
              "      <td>0.7590</td>\n",
              "      <td>0.745098</td>\n",
              "      <td>0.445748</td>\n",
              "      <td>NaN</td>\n",
              "      <td>up</td>\n",
              "    </tr>\n",
              "    <tr>\n",
              "      <th>0</th>\n",
              "      <td>RanFor</td>\n",
              "      <td>14.0</td>\n",
              "      <td>0.606289</td>\n",
              "      <td>0.847689</td>\n",
              "      <td>0.8435</td>\n",
              "      <td>0.590686</td>\n",
              "      <td>0.622739</td>\n",
              "      <td>80.0</td>\n",
              "      <td>up</td>\n",
              "    </tr>\n",
              "    <tr>\n",
              "      <th>0</th>\n",
              "      <td>LogReg</td>\n",
              "      <td>NaN</td>\n",
              "      <td>0.457539</td>\n",
              "      <td>0.734401</td>\n",
              "      <td>0.6870</td>\n",
              "      <td>0.647059</td>\n",
              "      <td>0.353887</td>\n",
              "      <td>NaN</td>\n",
              "      <td>up</td>\n",
              "    </tr>\n",
              "    <tr>\n",
              "      <th>0</th>\n",
              "      <td>DecTree</td>\n",
              "      <td>6.0</td>\n",
              "      <td>0.545798</td>\n",
              "      <td>0.812527</td>\n",
              "      <td>0.7595</td>\n",
              "      <td>0.708333</td>\n",
              "      <td>0.443932</td>\n",
              "      <td>NaN</td>\n",
              "      <td>down</td>\n",
              "    </tr>\n",
              "    <tr>\n",
              "      <th>0</th>\n",
              "      <td>RanFor</td>\n",
              "      <td>8.0</td>\n",
              "      <td>0.570616</td>\n",
              "      <td>0.844050</td>\n",
              "      <td>0.7735</td>\n",
              "      <td>0.737745</td>\n",
              "      <td>0.465224</td>\n",
              "      <td>120.0</td>\n",
              "      <td>down</td>\n",
              "    </tr>\n",
              "    <tr>\n",
              "      <th>0</th>\n",
              "      <td>LogReg</td>\n",
              "      <td>NaN</td>\n",
              "      <td>0.458262</td>\n",
              "      <td>0.733026</td>\n",
              "      <td>0.6820</td>\n",
              "      <td>0.659314</td>\n",
              "      <td>0.351175</td>\n",
              "      <td>NaN</td>\n",
              "      <td>down</td>\n",
              "    </tr>\n",
              "  </tbody>\n",
              "</table>\n",
              "</div>\n",
              "    <div class=\"colab-df-buttons\">\n",
              "\n",
              "  <div class=\"colab-df-container\">\n",
              "    <button class=\"colab-df-convert\" onclick=\"convertToInteractive('df-b4ed2b22-9843-48c8-8b6c-ce154ec8bf91')\"\n",
              "            title=\"Convert this dataframe to an interactive table.\"\n",
              "            style=\"display:none;\">\n",
              "\n",
              "  <svg xmlns=\"http://www.w3.org/2000/svg\" height=\"24px\" viewBox=\"0 -960 960 960\">\n",
              "    <path d=\"M120-120v-720h720v720H120Zm60-500h600v-160H180v160Zm220 220h160v-160H400v160Zm0 220h160v-160H400v160ZM180-400h160v-160H180v160Zm440 0h160v-160H620v160ZM180-180h160v-160H180v160Zm440 0h160v-160H620v160Z\"/>\n",
              "  </svg>\n",
              "    </button>\n",
              "\n",
              "  <style>\n",
              "    .colab-df-container {\n",
              "      display:flex;\n",
              "      gap: 12px;\n",
              "    }\n",
              "\n",
              "    .colab-df-convert {\n",
              "      background-color: #E8F0FE;\n",
              "      border: none;\n",
              "      border-radius: 50%;\n",
              "      cursor: pointer;\n",
              "      display: none;\n",
              "      fill: #1967D2;\n",
              "      height: 32px;\n",
              "      padding: 0 0 0 0;\n",
              "      width: 32px;\n",
              "    }\n",
              "\n",
              "    .colab-df-convert:hover {\n",
              "      background-color: #E2EBFA;\n",
              "      box-shadow: 0px 1px 2px rgba(60, 64, 67, 0.3), 0px 1px 3px 1px rgba(60, 64, 67, 0.15);\n",
              "      fill: #174EA6;\n",
              "    }\n",
              "\n",
              "    .colab-df-buttons div {\n",
              "      margin-bottom: 4px;\n",
              "    }\n",
              "\n",
              "    [theme=dark] .colab-df-convert {\n",
              "      background-color: #3B4455;\n",
              "      fill: #D2E3FC;\n",
              "    }\n",
              "\n",
              "    [theme=dark] .colab-df-convert:hover {\n",
              "      background-color: #434B5C;\n",
              "      box-shadow: 0px 1px 3px 1px rgba(0, 0, 0, 0.15);\n",
              "      filter: drop-shadow(0px 1px 2px rgba(0, 0, 0, 0.3));\n",
              "      fill: #FFFFFF;\n",
              "    }\n",
              "  </style>\n",
              "\n",
              "    <script>\n",
              "      const buttonEl =\n",
              "        document.querySelector('#df-b4ed2b22-9843-48c8-8b6c-ce154ec8bf91 button.colab-df-convert');\n",
              "      buttonEl.style.display =\n",
              "        google.colab.kernel.accessAllowed ? 'block' : 'none';\n",
              "\n",
              "      async function convertToInteractive(key) {\n",
              "        const element = document.querySelector('#df-b4ed2b22-9843-48c8-8b6c-ce154ec8bf91');\n",
              "        const dataTable =\n",
              "          await google.colab.kernel.invokeFunction('convertToInteractive',\n",
              "                                                    [key], {});\n",
              "        if (!dataTable) return;\n",
              "\n",
              "        const docLinkHtml = 'Like what you see? Visit the ' +\n",
              "          '<a target=\"_blank\" href=https://colab.research.google.com/notebooks/data_table.ipynb>data table notebook</a>'\n",
              "          + ' to learn more about interactive tables.';\n",
              "        element.innerHTML = '';\n",
              "        dataTable['output_type'] = 'display_data';\n",
              "        await google.colab.output.renderOutput(dataTable, element);\n",
              "        const docLink = document.createElement('div');\n",
              "        docLink.innerHTML = docLinkHtml;\n",
              "        element.appendChild(docLink);\n",
              "      }\n",
              "    </script>\n",
              "  </div>\n",
              "\n",
              "\n",
              "<div id=\"df-fc8279d1-9903-4a99-9c1e-0d0df97550b1\">\n",
              "  <button class=\"colab-df-quickchart\" onclick=\"quickchart('df-fc8279d1-9903-4a99-9c1e-0d0df97550b1')\"\n",
              "            title=\"Suggest charts\"\n",
              "            style=\"display:none;\">\n",
              "\n",
              "<svg xmlns=\"http://www.w3.org/2000/svg\" height=\"24px\"viewBox=\"0 0 24 24\"\n",
              "     width=\"24px\">\n",
              "    <g>\n",
              "        <path d=\"M19 3H5c-1.1 0-2 .9-2 2v14c0 1.1.9 2 2 2h14c1.1 0 2-.9 2-2V5c0-1.1-.9-2-2-2zM9 17H7v-7h2v7zm4 0h-2V7h2v10zm4 0h-2v-4h2v4z\"/>\n",
              "    </g>\n",
              "</svg>\n",
              "  </button>\n",
              "\n",
              "<style>\n",
              "  .colab-df-quickchart {\n",
              "      --bg-color: #E8F0FE;\n",
              "      --fill-color: #1967D2;\n",
              "      --hover-bg-color: #E2EBFA;\n",
              "      --hover-fill-color: #174EA6;\n",
              "      --disabled-fill-color: #AAA;\n",
              "      --disabled-bg-color: #DDD;\n",
              "  }\n",
              "\n",
              "  [theme=dark] .colab-df-quickchart {\n",
              "      --bg-color: #3B4455;\n",
              "      --fill-color: #D2E3FC;\n",
              "      --hover-bg-color: #434B5C;\n",
              "      --hover-fill-color: #FFFFFF;\n",
              "      --disabled-bg-color: #3B4455;\n",
              "      --disabled-fill-color: #666;\n",
              "  }\n",
              "\n",
              "  .colab-df-quickchart {\n",
              "    background-color: var(--bg-color);\n",
              "    border: none;\n",
              "    border-radius: 50%;\n",
              "    cursor: pointer;\n",
              "    display: none;\n",
              "    fill: var(--fill-color);\n",
              "    height: 32px;\n",
              "    padding: 0;\n",
              "    width: 32px;\n",
              "  }\n",
              "\n",
              "  .colab-df-quickchart:hover {\n",
              "    background-color: var(--hover-bg-color);\n",
              "    box-shadow: 0 1px 2px rgba(60, 64, 67, 0.3), 0 1px 3px 1px rgba(60, 64, 67, 0.15);\n",
              "    fill: var(--button-hover-fill-color);\n",
              "  }\n",
              "\n",
              "  .colab-df-quickchart-complete:disabled,\n",
              "  .colab-df-quickchart-complete:disabled:hover {\n",
              "    background-color: var(--disabled-bg-color);\n",
              "    fill: var(--disabled-fill-color);\n",
              "    box-shadow: none;\n",
              "  }\n",
              "\n",
              "  .colab-df-spinner {\n",
              "    border: 2px solid var(--fill-color);\n",
              "    border-color: transparent;\n",
              "    border-bottom-color: var(--fill-color);\n",
              "    animation:\n",
              "      spin 1s steps(1) infinite;\n",
              "  }\n",
              "\n",
              "  @keyframes spin {\n",
              "    0% {\n",
              "      border-color: transparent;\n",
              "      border-bottom-color: var(--fill-color);\n",
              "      border-left-color: var(--fill-color);\n",
              "    }\n",
              "    20% {\n",
              "      border-color: transparent;\n",
              "      border-left-color: var(--fill-color);\n",
              "      border-top-color: var(--fill-color);\n",
              "    }\n",
              "    30% {\n",
              "      border-color: transparent;\n",
              "      border-left-color: var(--fill-color);\n",
              "      border-top-color: var(--fill-color);\n",
              "      border-right-color: var(--fill-color);\n",
              "    }\n",
              "    40% {\n",
              "      border-color: transparent;\n",
              "      border-right-color: var(--fill-color);\n",
              "      border-top-color: var(--fill-color);\n",
              "    }\n",
              "    60% {\n",
              "      border-color: transparent;\n",
              "      border-right-color: var(--fill-color);\n",
              "    }\n",
              "    80% {\n",
              "      border-color: transparent;\n",
              "      border-right-color: var(--fill-color);\n",
              "      border-bottom-color: var(--fill-color);\n",
              "    }\n",
              "    90% {\n",
              "      border-color: transparent;\n",
              "      border-bottom-color: var(--fill-color);\n",
              "    }\n",
              "  }\n",
              "</style>\n",
              "\n",
              "  <script>\n",
              "    async function quickchart(key) {\n",
              "      const quickchartButtonEl =\n",
              "        document.querySelector('#' + key + ' button');\n",
              "      quickchartButtonEl.disabled = true;  // To prevent multiple clicks.\n",
              "      quickchartButtonEl.classList.add('colab-df-spinner');\n",
              "      try {\n",
              "        const charts = await google.colab.kernel.invokeFunction(\n",
              "            'suggestCharts', [key], {});\n",
              "      } catch (error) {\n",
              "        console.error('Error during call to suggestCharts:', error);\n",
              "      }\n",
              "      quickchartButtonEl.classList.remove('colab-df-spinner');\n",
              "      quickchartButtonEl.classList.add('colab-df-quickchart-complete');\n",
              "    }\n",
              "    (() => {\n",
              "      let quickchartButtonEl =\n",
              "        document.querySelector('#df-fc8279d1-9903-4a99-9c1e-0d0df97550b1 button');\n",
              "      quickchartButtonEl.style.display =\n",
              "        google.colab.kernel.accessAllowed ? 'block' : 'none';\n",
              "    })();\n",
              "  </script>\n",
              "</div>\n",
              "    </div>\n",
              "  </div>\n"
            ]
          },
          "metadata": {},
          "execution_count": 157
        }
      ],
      "source": [
        "total_metrics = pd.concat([all_metrics_before, all_metrics_balanced, all_metrics_up, all_metrics_down],\n",
        "                          sort=False, axis=0)\n",
        "total_metrics"
      ]
    },
    {
      "cell_type": "markdown",
      "metadata": {
        "id": "0k6YZs82Vuax"
      },
      "source": [
        "Модели дерева решений с устраненным дисбалансом показали результат F1-меры хуже, чем на исходных данных.\n",
        "<br>Наилучшие метрики были достигнуты моделью случайного леса при увеличении выборки, при этом разница с метриками модели случайного леса при взвашивании признаков незначительна. Самый слабый результат у логистической регрессии, но именно данная модель больше всех выиграла от методов балансировки данных, показатель вырос более, чем в 1,5 раза.\n",
        "<br>Протестируем модель случайного леса на тестовой выборке. Дисбаланс устранен увеличением выборки, количество деревьев - 80, глубина - 14."
      ]
    },
    {
      "cell_type": "markdown",
      "metadata": {
        "id": "i-ntb6hJVuax"
      },
      "source": [
        "## Тестирование модели"
      ]
    },
    {
      "cell_type": "markdown",
      "metadata": {
        "id": "-PyGKzBAVuax"
      },
      "source": [
        "Протестируем выбранную модель случайного леса на тестовых данных."
      ]
    },
    {
      "cell_type": "code",
      "execution_count": 158,
      "metadata": {
        "id": "96KioxCSVuax"
      },
      "outputs": [],
      "source": [
        "predicted_test = model_rf_up.predict(X_test)\n",
        "f1 = f1_score(Y_test, predicted_test)\n",
        "probabilities_test = model_rf_up.predict_proba(X_test)\n",
        "probabilities_one_test = probabilities_test[:, 1]  # Вычислим вероятности положительного класса\n",
        "roc_auc = roc_auc_score(Y_test, probabilities_one_test)  # Рассчитаем метрики качества модели\n",
        "accuracy = accuracy_score(Y_test, predicted_test)\n",
        "recall = recall_score(Y_test, predicted_test)\n",
        "precision = precision_score(Y_test, predicted_test)\n",
        "fpr, tpr, thresholds = roc_curve(Y_test, probabilities_one_test) # Сохраним данные, для построения ROC-кривой\n",
        "result = ['RanFor', f1, roc_auc, accuracy, recall, precision]\n",
        "col = ['model', 'F1_score', 'auc_roc', 'accuracy', 'recall', 'precision']\n",
        "test_metrics_up = pd.DataFrame(data=[result], columns=col)"
      ]
    },
    {
      "cell_type": "markdown",
      "metadata": {
        "id": "Cgk-aQpUVuay"
      },
      "source": [
        "На тестовых данных получились следующие результаты."
      ]
    },
    {
      "cell_type": "code",
      "execution_count": 159,
      "metadata": {
        "colab": {
          "base_uri": "https://localhost:8080/",
          "height": 81
        },
        "id": "DQad0F1CVuay",
        "outputId": "3605d3e5-442d-45bf-fa0e-c52f63099dac"
      },
      "outputs": [
        {
          "output_type": "execute_result",
          "data": {
            "text/plain": [
              "    model  F1_score  auc_roc  accuracy    recall  precision\n",
              "0  RanFor  0.618812  0.85762     0.846  0.614251   0.623441"
            ],
            "text/html": [
              "\n",
              "  <div id=\"df-feb416e8-703f-4dd3-b1f9-6de93835d9d1\" class=\"colab-df-container\">\n",
              "    <div>\n",
              "<style scoped>\n",
              "    .dataframe tbody tr th:only-of-type {\n",
              "        vertical-align: middle;\n",
              "    }\n",
              "\n",
              "    .dataframe tbody tr th {\n",
              "        vertical-align: top;\n",
              "    }\n",
              "\n",
              "    .dataframe thead th {\n",
              "        text-align: right;\n",
              "    }\n",
              "</style>\n",
              "<table border=\"1\" class=\"dataframe\">\n",
              "  <thead>\n",
              "    <tr style=\"text-align: right;\">\n",
              "      <th></th>\n",
              "      <th>model</th>\n",
              "      <th>F1_score</th>\n",
              "      <th>auc_roc</th>\n",
              "      <th>accuracy</th>\n",
              "      <th>recall</th>\n",
              "      <th>precision</th>\n",
              "    </tr>\n",
              "  </thead>\n",
              "  <tbody>\n",
              "    <tr>\n",
              "      <th>0</th>\n",
              "      <td>RanFor</td>\n",
              "      <td>0.618812</td>\n",
              "      <td>0.85762</td>\n",
              "      <td>0.846</td>\n",
              "      <td>0.614251</td>\n",
              "      <td>0.623441</td>\n",
              "    </tr>\n",
              "  </tbody>\n",
              "</table>\n",
              "</div>\n",
              "    <div class=\"colab-df-buttons\">\n",
              "\n",
              "  <div class=\"colab-df-container\">\n",
              "    <button class=\"colab-df-convert\" onclick=\"convertToInteractive('df-feb416e8-703f-4dd3-b1f9-6de93835d9d1')\"\n",
              "            title=\"Convert this dataframe to an interactive table.\"\n",
              "            style=\"display:none;\">\n",
              "\n",
              "  <svg xmlns=\"http://www.w3.org/2000/svg\" height=\"24px\" viewBox=\"0 -960 960 960\">\n",
              "    <path d=\"M120-120v-720h720v720H120Zm60-500h600v-160H180v160Zm220 220h160v-160H400v160Zm0 220h160v-160H400v160ZM180-400h160v-160H180v160Zm440 0h160v-160H620v160ZM180-180h160v-160H180v160Zm440 0h160v-160H620v160Z\"/>\n",
              "  </svg>\n",
              "    </button>\n",
              "\n",
              "  <style>\n",
              "    .colab-df-container {\n",
              "      display:flex;\n",
              "      gap: 12px;\n",
              "    }\n",
              "\n",
              "    .colab-df-convert {\n",
              "      background-color: #E8F0FE;\n",
              "      border: none;\n",
              "      border-radius: 50%;\n",
              "      cursor: pointer;\n",
              "      display: none;\n",
              "      fill: #1967D2;\n",
              "      height: 32px;\n",
              "      padding: 0 0 0 0;\n",
              "      width: 32px;\n",
              "    }\n",
              "\n",
              "    .colab-df-convert:hover {\n",
              "      background-color: #E2EBFA;\n",
              "      box-shadow: 0px 1px 2px rgba(60, 64, 67, 0.3), 0px 1px 3px 1px rgba(60, 64, 67, 0.15);\n",
              "      fill: #174EA6;\n",
              "    }\n",
              "\n",
              "    .colab-df-buttons div {\n",
              "      margin-bottom: 4px;\n",
              "    }\n",
              "\n",
              "    [theme=dark] .colab-df-convert {\n",
              "      background-color: #3B4455;\n",
              "      fill: #D2E3FC;\n",
              "    }\n",
              "\n",
              "    [theme=dark] .colab-df-convert:hover {\n",
              "      background-color: #434B5C;\n",
              "      box-shadow: 0px 1px 3px 1px rgba(0, 0, 0, 0.15);\n",
              "      filter: drop-shadow(0px 1px 2px rgba(0, 0, 0, 0.3));\n",
              "      fill: #FFFFFF;\n",
              "    }\n",
              "  </style>\n",
              "\n",
              "    <script>\n",
              "      const buttonEl =\n",
              "        document.querySelector('#df-feb416e8-703f-4dd3-b1f9-6de93835d9d1 button.colab-df-convert');\n",
              "      buttonEl.style.display =\n",
              "        google.colab.kernel.accessAllowed ? 'block' : 'none';\n",
              "\n",
              "      async function convertToInteractive(key) {\n",
              "        const element = document.querySelector('#df-feb416e8-703f-4dd3-b1f9-6de93835d9d1');\n",
              "        const dataTable =\n",
              "          await google.colab.kernel.invokeFunction('convertToInteractive',\n",
              "                                                    [key], {});\n",
              "        if (!dataTable) return;\n",
              "\n",
              "        const docLinkHtml = 'Like what you see? Visit the ' +\n",
              "          '<a target=\"_blank\" href=https://colab.research.google.com/notebooks/data_table.ipynb>data table notebook</a>'\n",
              "          + ' to learn more about interactive tables.';\n",
              "        element.innerHTML = '';\n",
              "        dataTable['output_type'] = 'display_data';\n",
              "        await google.colab.output.renderOutput(dataTable, element);\n",
              "        const docLink = document.createElement('div');\n",
              "        docLink.innerHTML = docLinkHtml;\n",
              "        element.appendChild(docLink);\n",
              "      }\n",
              "    </script>\n",
              "  </div>\n",
              "\n",
              "    </div>\n",
              "  </div>\n"
            ]
          },
          "metadata": {},
          "execution_count": 159
        }
      ],
      "source": [
        "test_metrics_up"
      ]
    },
    {
      "cell_type": "markdown",
      "metadata": {
        "id": "ktgdnkKDVuay"
      },
      "source": [
        "На тестовой выборке удалось достичь значения F1-меры = 0.6188, AUC-ROC = 0,8576.\n",
        "<br>Таким образом, в качестве итоговой выбрана модель случайного леса, при устранении дисбаланса увеличением меньшего признака, при количестве деревьев - 90 и глубине 10."
      ]
    },
    {
      "cell_type": "markdown",
      "metadata": {
        "id": "iCn8yQiSVuaj"
      },
      "source": [
        "### Dummy-модель"
      ]
    },
    {
      "cell_type": "markdown",
      "metadata": {
        "id": "VfHhsn0fVuaj"
      },
      "source": [
        "Проверим адекватность выбранной модели с помощью Dummy-модели, которая предсказывает наиболее часто встречающийся класс. Для сравнения выберем стратегию uniform."
      ]
    },
    {
      "cell_type": "code",
      "execution_count": 160,
      "metadata": {
        "id": "qyhMWVF5Vuaj"
      },
      "outputs": [],
      "source": [
        "model_dummy = DummyClassifier(strategy='uniform').fit(X_train, Y_train)\n",
        "dummy_predict = model_dummy.predict(X_test)\n",
        "\n",
        "probabilities_test_dummy = model_dummy.predict_proba(X_test)\n",
        "probabilities_one_test_dummy = probabilities_test_dummy[:, 1]  # Вычислим вероятности положительного класса\n",
        "f1 = f1_score(Y_test, dummy_predict)  # Рассчитаем метрики качества модели\n",
        "roc_auc = roc_auc_score(Y_test, probabilities_one_test_dummy)\n",
        "accuracy = accuracy_score(Y_test, dummy_predict)\n",
        "recall = recall_score(Y_test, dummy_predict)\n",
        "precision = precision_score(Y_test, dummy_predict)\n",
        "result = ['dummy', f1, roc_auc, accuracy, recall, precision]\n",
        "col = ['model', 'F1_score', 'auc_roc', 'accuracy', 'recall', 'precision']\n",
        "metrics_dummy = pd.DataFrame(data=[result], columns=col)"
      ]
    },
    {
      "cell_type": "markdown",
      "metadata": {
        "id": "-VmjVGsxVuaj"
      },
      "source": [
        "Метрики качества для Dummy-модели:"
      ]
    },
    {
      "cell_type": "code",
      "execution_count": 161,
      "metadata": {
        "colab": {
          "base_uri": "https://localhost:8080/",
          "height": 81
        },
        "id": "QJ4fSD9OVuaj",
        "outputId": "326e9201-e281-4b61-de3d-de8322cd6e23"
      },
      "outputs": [
        {
          "output_type": "execute_result",
          "data": {
            "text/plain": [
              "   model  F1_score  auc_roc  accuracy    recall  precision\n",
              "0  dummy  0.288515      0.5     0.492  0.506143   0.201763"
            ],
            "text/html": [
              "\n",
              "  <div id=\"df-0f85b293-b3e3-4b82-b8e5-9f228e945b0c\" class=\"colab-df-container\">\n",
              "    <div>\n",
              "<style scoped>\n",
              "    .dataframe tbody tr th:only-of-type {\n",
              "        vertical-align: middle;\n",
              "    }\n",
              "\n",
              "    .dataframe tbody tr th {\n",
              "        vertical-align: top;\n",
              "    }\n",
              "\n",
              "    .dataframe thead th {\n",
              "        text-align: right;\n",
              "    }\n",
              "</style>\n",
              "<table border=\"1\" class=\"dataframe\">\n",
              "  <thead>\n",
              "    <tr style=\"text-align: right;\">\n",
              "      <th></th>\n",
              "      <th>model</th>\n",
              "      <th>F1_score</th>\n",
              "      <th>auc_roc</th>\n",
              "      <th>accuracy</th>\n",
              "      <th>recall</th>\n",
              "      <th>precision</th>\n",
              "    </tr>\n",
              "  </thead>\n",
              "  <tbody>\n",
              "    <tr>\n",
              "      <th>0</th>\n",
              "      <td>dummy</td>\n",
              "      <td>0.288515</td>\n",
              "      <td>0.5</td>\n",
              "      <td>0.492</td>\n",
              "      <td>0.506143</td>\n",
              "      <td>0.201763</td>\n",
              "    </tr>\n",
              "  </tbody>\n",
              "</table>\n",
              "</div>\n",
              "    <div class=\"colab-df-buttons\">\n",
              "\n",
              "  <div class=\"colab-df-container\">\n",
              "    <button class=\"colab-df-convert\" onclick=\"convertToInteractive('df-0f85b293-b3e3-4b82-b8e5-9f228e945b0c')\"\n",
              "            title=\"Convert this dataframe to an interactive table.\"\n",
              "            style=\"display:none;\">\n",
              "\n",
              "  <svg xmlns=\"http://www.w3.org/2000/svg\" height=\"24px\" viewBox=\"0 -960 960 960\">\n",
              "    <path d=\"M120-120v-720h720v720H120Zm60-500h600v-160H180v160Zm220 220h160v-160H400v160Zm0 220h160v-160H400v160ZM180-400h160v-160H180v160Zm440 0h160v-160H620v160ZM180-180h160v-160H180v160Zm440 0h160v-160H620v160Z\"/>\n",
              "  </svg>\n",
              "    </button>\n",
              "\n",
              "  <style>\n",
              "    .colab-df-container {\n",
              "      display:flex;\n",
              "      gap: 12px;\n",
              "    }\n",
              "\n",
              "    .colab-df-convert {\n",
              "      background-color: #E8F0FE;\n",
              "      border: none;\n",
              "      border-radius: 50%;\n",
              "      cursor: pointer;\n",
              "      display: none;\n",
              "      fill: #1967D2;\n",
              "      height: 32px;\n",
              "      padding: 0 0 0 0;\n",
              "      width: 32px;\n",
              "    }\n",
              "\n",
              "    .colab-df-convert:hover {\n",
              "      background-color: #E2EBFA;\n",
              "      box-shadow: 0px 1px 2px rgba(60, 64, 67, 0.3), 0px 1px 3px 1px rgba(60, 64, 67, 0.15);\n",
              "      fill: #174EA6;\n",
              "    }\n",
              "\n",
              "    .colab-df-buttons div {\n",
              "      margin-bottom: 4px;\n",
              "    }\n",
              "\n",
              "    [theme=dark] .colab-df-convert {\n",
              "      background-color: #3B4455;\n",
              "      fill: #D2E3FC;\n",
              "    }\n",
              "\n",
              "    [theme=dark] .colab-df-convert:hover {\n",
              "      background-color: #434B5C;\n",
              "      box-shadow: 0px 1px 3px 1px rgba(0, 0, 0, 0.15);\n",
              "      filter: drop-shadow(0px 1px 2px rgba(0, 0, 0, 0.3));\n",
              "      fill: #FFFFFF;\n",
              "    }\n",
              "  </style>\n",
              "\n",
              "    <script>\n",
              "      const buttonEl =\n",
              "        document.querySelector('#df-0f85b293-b3e3-4b82-b8e5-9f228e945b0c button.colab-df-convert');\n",
              "      buttonEl.style.display =\n",
              "        google.colab.kernel.accessAllowed ? 'block' : 'none';\n",
              "\n",
              "      async function convertToInteractive(key) {\n",
              "        const element = document.querySelector('#df-0f85b293-b3e3-4b82-b8e5-9f228e945b0c');\n",
              "        const dataTable =\n",
              "          await google.colab.kernel.invokeFunction('convertToInteractive',\n",
              "                                                    [key], {});\n",
              "        if (!dataTable) return;\n",
              "\n",
              "        const docLinkHtml = 'Like what you see? Visit the ' +\n",
              "          '<a target=\"_blank\" href=https://colab.research.google.com/notebooks/data_table.ipynb>data table notebook</a>'\n",
              "          + ' to learn more about interactive tables.';\n",
              "        element.innerHTML = '';\n",
              "        dataTable['output_type'] = 'display_data';\n",
              "        await google.colab.output.renderOutput(dataTable, element);\n",
              "        const docLink = document.createElement('div');\n",
              "        docLink.innerHTML = docLinkHtml;\n",
              "        element.appendChild(docLink);\n",
              "      }\n",
              "    </script>\n",
              "  </div>\n",
              "\n",
              "    </div>\n",
              "  </div>\n"
            ]
          },
          "metadata": {},
          "execution_count": 161
        }
      ],
      "source": [
        "metrics_dummy"
      ]
    },
    {
      "cell_type": "markdown",
      "source": [
        "Метрики, полученные Dummy-моделью значительно хуже, полученных в результате обучения модели случайного леса. Тест на адекватность пройден."
      ],
      "metadata": {
        "id": "_v5SopU1kfO-"
      }
    },
    {
      "cell_type": "code",
      "source": [],
      "metadata": {
        "id": "urU8QxrHkt2X"
      },
      "execution_count": 161,
      "outputs": []
    }
  ],
  "metadata": {
    "ExecuteTimeLog": [
      {
        "duration": 394,
        "start_time": "2022-12-28T15:21:22.323Z"
      },
      {
        "duration": 1935,
        "start_time": "2022-12-28T15:27:56.826Z"
      },
      {
        "duration": 17,
        "start_time": "2022-12-28T15:33:02.406Z"
      },
      {
        "duration": 15,
        "start_time": "2022-12-28T15:33:04.971Z"
      },
      {
        "duration": 12,
        "start_time": "2022-12-28T15:33:07.824Z"
      },
      {
        "duration": 75,
        "start_time": "2022-12-28T15:36:25.135Z"
      },
      {
        "duration": 43,
        "start_time": "2022-12-28T15:36:34.701Z"
      },
      {
        "duration": 44,
        "start_time": "2022-12-28T15:47:29.668Z"
      },
      {
        "duration": 447,
        "start_time": "2022-12-28T15:47:32.822Z"
      },
      {
        "duration": 1944,
        "start_time": "2022-12-28T15:47:34.295Z"
      },
      {
        "duration": 33,
        "start_time": "2022-12-28T15:47:40.867Z"
      },
      {
        "duration": 12,
        "start_time": "2022-12-28T15:47:42.989Z"
      },
      {
        "duration": 77,
        "start_time": "2022-12-28T15:48:15.091Z"
      },
      {
        "duration": 150,
        "start_time": "2022-12-28T15:48:57.808Z"
      },
      {
        "duration": 55,
        "start_time": "2022-12-28T15:49:14.595Z"
      },
      {
        "duration": 13,
        "start_time": "2022-12-28T15:50:12.103Z"
      },
      {
        "duration": 13,
        "start_time": "2022-12-28T15:50:16.591Z"
      },
      {
        "duration": 11,
        "start_time": "2022-12-28T15:50:20.611Z"
      },
      {
        "duration": 10,
        "start_time": "2022-12-28T16:06:15.132Z"
      },
      {
        "duration": 6,
        "start_time": "2022-12-28T16:10:41.488Z"
      },
      {
        "duration": 9,
        "start_time": "2022-12-28T16:10:47.326Z"
      },
      {
        "duration": 7,
        "start_time": "2022-12-28T16:10:59.925Z"
      },
      {
        "duration": 8,
        "start_time": "2022-12-28T16:11:08.079Z"
      },
      {
        "duration": 13,
        "start_time": "2022-12-28T16:11:15.253Z"
      },
      {
        "duration": 42,
        "start_time": "2022-12-28T16:31:20.216Z"
      },
      {
        "duration": 5,
        "start_time": "2022-12-28T16:32:16.925Z"
      },
      {
        "duration": 13,
        "start_time": "2022-12-28T16:32:22.009Z"
      },
      {
        "duration": 4,
        "start_time": "2022-12-28T16:32:28.870Z"
      },
      {
        "duration": 4,
        "start_time": "2022-12-28T16:32:38.288Z"
      },
      {
        "duration": 54,
        "start_time": "2022-12-28T16:34:56.716Z"
      },
      {
        "duration": 47,
        "start_time": "2022-12-28T16:35:09.297Z"
      },
      {
        "duration": 51,
        "start_time": "2022-12-28T16:35:36.054Z"
      },
      {
        "duration": 5,
        "start_time": "2022-12-28T16:36:05.727Z"
      },
      {
        "duration": 5,
        "start_time": "2022-12-28T16:36:15.863Z"
      },
      {
        "duration": 1011,
        "start_time": "2022-12-28T16:37:51.884Z"
      },
      {
        "duration": 1045,
        "start_time": "2022-12-28T16:37:57.844Z"
      },
      {
        "duration": 160,
        "start_time": "2022-12-28T16:38:19.866Z"
      },
      {
        "duration": 1017,
        "start_time": "2022-12-28T16:39:36.678Z"
      },
      {
        "duration": 46,
        "start_time": "2022-12-28T16:44:14.052Z"
      },
      {
        "duration": 167,
        "start_time": "2022-12-28T16:44:22.555Z"
      },
      {
        "duration": 181,
        "start_time": "2022-12-28T16:44:34.936Z"
      },
      {
        "duration": 223,
        "start_time": "2022-12-28T16:44:42.645Z"
      },
      {
        "duration": 1118,
        "start_time": "2022-12-28T16:44:48.100Z"
      },
      {
        "duration": 1110,
        "start_time": "2022-12-28T16:45:38.682Z"
      },
      {
        "duration": 1149,
        "start_time": "2022-12-28T16:45:46.701Z"
      },
      {
        "duration": 5,
        "start_time": "2022-12-28T16:53:11.143Z"
      },
      {
        "duration": 5,
        "start_time": "2022-12-28T16:53:34.333Z"
      },
      {
        "duration": 14,
        "start_time": "2022-12-28T16:53:44.998Z"
      },
      {
        "duration": 5,
        "start_time": "2022-12-28T16:53:53.664Z"
      },
      {
        "duration": 10,
        "start_time": "2022-12-28T16:54:22.625Z"
      },
      {
        "duration": 4,
        "start_time": "2022-12-28T16:54:53.747Z"
      },
      {
        "duration": 9,
        "start_time": "2022-12-28T16:54:55.091Z"
      },
      {
        "duration": 4,
        "start_time": "2022-12-28T16:55:21.395Z"
      },
      {
        "duration": 5,
        "start_time": "2022-12-28T16:55:21.937Z"
      },
      {
        "duration": 9,
        "start_time": "2022-12-28T16:55:22.672Z"
      },
      {
        "duration": 4,
        "start_time": "2022-12-28T16:55:56.362Z"
      },
      {
        "duration": 10,
        "start_time": "2022-12-28T16:56:07.430Z"
      },
      {
        "duration": 223,
        "start_time": "2022-12-28T17:01:31.113Z"
      },
      {
        "duration": 4,
        "start_time": "2022-12-28T17:04:04.326Z"
      },
      {
        "duration": 11,
        "start_time": "2022-12-28T17:04:07.184Z"
      },
      {
        "duration": 11,
        "start_time": "2022-12-28T17:04:53.534Z"
      },
      {
        "duration": 54,
        "start_time": "2022-12-28T17:05:07.412Z"
      },
      {
        "duration": 42,
        "start_time": "2022-12-28T17:05:17.681Z"
      },
      {
        "duration": 12,
        "start_time": "2022-12-28T17:05:22.734Z"
      },
      {
        "duration": 110,
        "start_time": "2022-12-28T17:05:37.958Z"
      },
      {
        "duration": 47,
        "start_time": "2022-12-28T17:05:40.631Z"
      },
      {
        "duration": 40,
        "start_time": "2022-12-28T17:05:44.404Z"
      },
      {
        "duration": 43,
        "start_time": "2022-12-28T17:05:48.111Z"
      },
      {
        "duration": 45,
        "start_time": "2022-12-28T17:05:51.680Z"
      },
      {
        "duration": 55,
        "start_time": "2022-12-28T17:06:01.205Z"
      },
      {
        "duration": 14,
        "start_time": "2022-12-28T17:06:13.562Z"
      },
      {
        "duration": 11,
        "start_time": "2022-12-28T17:06:19.183Z"
      },
      {
        "duration": 11,
        "start_time": "2022-12-28T17:06:25.684Z"
      },
      {
        "duration": 6,
        "start_time": "2022-12-28T17:12:22.319Z"
      },
      {
        "duration": 432,
        "start_time": "2022-12-28T17:24:10.123Z"
      },
      {
        "duration": 18,
        "start_time": "2022-12-28T17:24:17.506Z"
      },
      {
        "duration": 4,
        "start_time": "2022-12-28T17:24:21.420Z"
      },
      {
        "duration": 9,
        "start_time": "2022-12-28T17:24:22.135Z"
      },
      {
        "duration": 6,
        "start_time": "2022-12-28T17:24:57.755Z"
      },
      {
        "duration": 4,
        "start_time": "2022-12-28T17:26:44.003Z"
      },
      {
        "duration": 5,
        "start_time": "2022-12-28T17:27:21.049Z"
      },
      {
        "duration": 8,
        "start_time": "2022-12-28T17:27:21.389Z"
      },
      {
        "duration": 4,
        "start_time": "2022-12-28T17:27:22.786Z"
      },
      {
        "duration": 365,
        "start_time": "2022-12-28T17:35:10.056Z"
      },
      {
        "duration": 154,
        "start_time": "2022-12-28T17:37:06.322Z"
      },
      {
        "duration": 43,
        "start_time": "2022-12-28T17:37:14.280Z"
      },
      {
        "duration": 40,
        "start_time": "2022-12-28T17:37:26.404Z"
      },
      {
        "duration": 41,
        "start_time": "2022-12-28T17:38:01.878Z"
      },
      {
        "duration": 11,
        "start_time": "2022-12-28T17:41:32.095Z"
      },
      {
        "duration": 21,
        "start_time": "2022-12-28T17:41:47.058Z"
      },
      {
        "duration": 49,
        "start_time": "2022-12-28T17:42:36.645Z"
      },
      {
        "duration": 26,
        "start_time": "2022-12-28T17:43:03.997Z"
      },
      {
        "duration": 52,
        "start_time": "2022-12-28T17:43:09.962Z"
      },
      {
        "duration": 3,
        "start_time": "2022-12-28T17:43:17.795Z"
      },
      {
        "duration": 19,
        "start_time": "2022-12-28T17:44:09.560Z"
      },
      {
        "duration": 806,
        "start_time": "2022-12-28T17:46:38.988Z"
      },
      {
        "duration": 175,
        "start_time": "2022-12-28T17:46:49.256Z"
      },
      {
        "duration": 8,
        "start_time": "2022-12-28T17:47:50.405Z"
      },
      {
        "duration": 6,
        "start_time": "2022-12-28T17:48:14.729Z"
      },
      {
        "duration": 20,
        "start_time": "2022-12-28T17:48:42.757Z"
      },
      {
        "duration": 8,
        "start_time": "2022-12-28T17:48:53.313Z"
      },
      {
        "duration": 7,
        "start_time": "2022-12-28T17:48:59.505Z"
      },
      {
        "duration": 9,
        "start_time": "2022-12-28T17:49:08.095Z"
      },
      {
        "duration": 6,
        "start_time": "2022-12-28T17:50:01.309Z"
      },
      {
        "duration": 5,
        "start_time": "2022-12-28T17:50:15.131Z"
      },
      {
        "duration": 7,
        "start_time": "2022-12-28T17:50:19.244Z"
      },
      {
        "duration": 6,
        "start_time": "2022-12-28T17:50:36.415Z"
      },
      {
        "duration": 6,
        "start_time": "2022-12-28T17:50:39.244Z"
      },
      {
        "duration": 4,
        "start_time": "2022-12-28T17:54:33.727Z"
      },
      {
        "duration": 69,
        "start_time": "2022-12-28T18:03:25.817Z"
      },
      {
        "duration": 4,
        "start_time": "2022-12-28T18:04:17.188Z"
      },
      {
        "duration": 78,
        "start_time": "2022-12-28T18:05:43.050Z"
      },
      {
        "duration": 5527,
        "start_time": "2022-12-28T18:05:54.984Z"
      },
      {
        "duration": 4,
        "start_time": "2022-12-28T18:07:19.680Z"
      },
      {
        "duration": 88,
        "start_time": "2022-12-28T18:08:36.772Z"
      },
      {
        "duration": 89,
        "start_time": "2022-12-28T18:08:50.836Z"
      },
      {
        "duration": 57,
        "start_time": "2022-12-28T18:08:57.974Z"
      },
      {
        "duration": 9,
        "start_time": "2022-12-28T18:09:25.416Z"
      },
      {
        "duration": 41,
        "start_time": "2022-12-28T18:09:40.354Z"
      },
      {
        "duration": 41,
        "start_time": "2022-12-28T18:09:48.874Z"
      },
      {
        "duration": 41,
        "start_time": "2022-12-28T18:09:58.948Z"
      },
      {
        "duration": 39,
        "start_time": "2022-12-28T18:10:12.873Z"
      },
      {
        "duration": 205,
        "start_time": "2022-12-28T18:11:47.854Z"
      },
      {
        "duration": 207,
        "start_time": "2022-12-28T18:12:10.890Z"
      },
      {
        "duration": 1835,
        "start_time": "2022-12-28T18:12:27.486Z"
      },
      {
        "duration": 43,
        "start_time": "2022-12-28T18:13:42.146Z"
      },
      {
        "duration": 45,
        "start_time": "2022-12-28T18:14:26.420Z"
      },
      {
        "duration": 2253,
        "start_time": "2022-12-28T18:14:46.111Z"
      },
      {
        "duration": 453,
        "start_time": "2022-12-28T18:16:05.496Z"
      },
      {
        "duration": 117,
        "start_time": "2022-12-28T18:16:09.724Z"
      },
      {
        "duration": 408,
        "start_time": "2022-12-28T18:17:19.823Z"
      },
      {
        "duration": 872,
        "start_time": "2022-12-28T18:18:04.681Z"
      },
      {
        "duration": 51,
        "start_time": "2022-12-28T18:19:00.833Z"
      },
      {
        "duration": 4,
        "start_time": "2022-12-28T18:19:08.745Z"
      },
      {
        "duration": 83,
        "start_time": "2022-12-28T18:19:08.751Z"
      },
      {
        "duration": 13,
        "start_time": "2022-12-28T18:19:08.837Z"
      },
      {
        "duration": 55,
        "start_time": "2022-12-28T18:19:08.852Z"
      },
      {
        "duration": 28,
        "start_time": "2022-12-28T18:19:08.909Z"
      },
      {
        "duration": 17,
        "start_time": "2022-12-28T18:19:08.939Z"
      },
      {
        "duration": 8,
        "start_time": "2022-12-28T18:19:08.958Z"
      },
      {
        "duration": 9,
        "start_time": "2022-12-28T18:19:08.967Z"
      },
      {
        "duration": 33,
        "start_time": "2022-12-28T18:19:08.977Z"
      },
      {
        "duration": 18,
        "start_time": "2022-12-28T18:19:09.013Z"
      },
      {
        "duration": 6,
        "start_time": "2022-12-28T18:19:09.033Z"
      },
      {
        "duration": 15,
        "start_time": "2022-12-28T18:19:09.041Z"
      },
      {
        "duration": 9,
        "start_time": "2022-12-28T18:19:09.058Z"
      },
      {
        "duration": 21,
        "start_time": "2022-12-28T18:19:09.069Z"
      },
      {
        "duration": 23,
        "start_time": "2022-12-28T18:19:09.092Z"
      },
      {
        "duration": 57,
        "start_time": "2022-12-28T18:19:09.116Z"
      },
      {
        "duration": 46,
        "start_time": "2022-12-28T18:19:13.543Z"
      },
      {
        "duration": 894,
        "start_time": "2022-12-28T18:19:15.514Z"
      },
      {
        "duration": 145,
        "start_time": "2022-12-28T18:19:38.193Z"
      },
      {
        "duration": 870,
        "start_time": "2022-12-28T18:21:18.901Z"
      },
      {
        "duration": 818,
        "start_time": "2022-12-28T18:21:27.442Z"
      },
      {
        "duration": 44,
        "start_time": "2022-12-28T18:22:44.440Z"
      },
      {
        "duration": 18,
        "start_time": "2022-12-28T18:30:52.084Z"
      },
      {
        "duration": 21,
        "start_time": "2022-12-28T18:31:02.057Z"
      },
      {
        "duration": 11,
        "start_time": "2022-12-28T18:31:24.434Z"
      },
      {
        "duration": 16,
        "start_time": "2022-12-28T18:31:27.606Z"
      },
      {
        "duration": 47,
        "start_time": "2022-12-28T18:33:48.578Z"
      },
      {
        "duration": 38,
        "start_time": "2022-12-28T18:34:39.342Z"
      },
      {
        "duration": 43,
        "start_time": "2022-12-28T18:34:58.360Z"
      },
      {
        "duration": 805,
        "start_time": "2022-12-28T18:35:03.344Z"
      },
      {
        "duration": 70,
        "start_time": "2022-12-28T18:35:06.571Z"
      },
      {
        "duration": 46,
        "start_time": "2022-12-28T18:35:42.971Z"
      },
      {
        "duration": 53,
        "start_time": "2022-12-28T18:35:50.476Z"
      },
      {
        "duration": 74,
        "start_time": "2022-12-28T18:38:23.765Z"
      },
      {
        "duration": 49,
        "start_time": "2022-12-28T18:41:51.153Z"
      },
      {
        "duration": 4,
        "start_time": "2022-12-28T18:42:23.115Z"
      },
      {
        "duration": 43,
        "start_time": "2022-12-28T18:42:39.975Z"
      },
      {
        "duration": 804,
        "start_time": "2022-12-28T18:42:41.818Z"
      },
      {
        "duration": 163,
        "start_time": "2022-12-28T18:42:44.180Z"
      },
      {
        "duration": 234,
        "start_time": "2022-12-28T18:43:17.009Z"
      },
      {
        "duration": 35,
        "start_time": "2022-12-28T18:43:28.512Z"
      },
      {
        "duration": 740,
        "start_time": "2022-12-28T18:44:40.691Z"
      },
      {
        "duration": 79,
        "start_time": "2022-12-28T18:44:43.065Z"
      },
      {
        "duration": 25,
        "start_time": "2022-12-28T19:02:43.757Z"
      },
      {
        "duration": 19,
        "start_time": "2022-12-28T19:03:12.918Z"
      },
      {
        "duration": 27,
        "start_time": "2022-12-28T19:03:48.012Z"
      },
      {
        "duration": 10,
        "start_time": "2022-12-28T19:06:06.512Z"
      },
      {
        "duration": 18,
        "start_time": "2022-12-28T19:06:31.596Z"
      },
      {
        "duration": 21,
        "start_time": "2022-12-28T19:06:41.078Z"
      },
      {
        "duration": 26,
        "start_time": "2022-12-28T19:06:45.699Z"
      },
      {
        "duration": 9,
        "start_time": "2022-12-28T19:07:39.280Z"
      },
      {
        "duration": 15,
        "start_time": "2022-12-28T19:07:44.203Z"
      },
      {
        "duration": 16,
        "start_time": "2022-12-28T19:07:52.218Z"
      },
      {
        "duration": 9,
        "start_time": "2022-12-28T19:08:02.077Z"
      },
      {
        "duration": 17,
        "start_time": "2022-12-28T19:08:58.545Z"
      },
      {
        "duration": 5,
        "start_time": "2022-12-28T19:09:00.893Z"
      },
      {
        "duration": 32,
        "start_time": "2022-12-28T19:09:11.374Z"
      },
      {
        "duration": 5,
        "start_time": "2022-12-28T19:09:17.691Z"
      },
      {
        "duration": 41,
        "start_time": "2022-12-28T19:09:25.234Z"
      },
      {
        "duration": 750,
        "start_time": "2022-12-28T19:09:31.084Z"
      },
      {
        "duration": 26,
        "start_time": "2022-12-28T19:09:33.589Z"
      },
      {
        "duration": 1133,
        "start_time": "2022-12-29T07:34:37.693Z"
      },
      {
        "duration": 189,
        "start_time": "2022-12-29T07:34:40.717Z"
      },
      {
        "duration": 13,
        "start_time": "2022-12-29T07:34:42.791Z"
      },
      {
        "duration": 41,
        "start_time": "2022-12-29T07:34:46.457Z"
      },
      {
        "duration": 6,
        "start_time": "2022-12-29T07:34:48.624Z"
      },
      {
        "duration": 12,
        "start_time": "2022-12-29T07:34:52.514Z"
      },
      {
        "duration": 5,
        "start_time": "2022-12-29T07:34:55.358Z"
      },
      {
        "duration": 5,
        "start_time": "2022-12-29T07:34:56.377Z"
      },
      {
        "duration": 4,
        "start_time": "2022-12-29T07:35:02.067Z"
      },
      {
        "duration": 14,
        "start_time": "2022-12-29T07:35:03.458Z"
      },
      {
        "duration": 7,
        "start_time": "2022-12-29T07:35:27.857Z"
      },
      {
        "duration": 10,
        "start_time": "2022-12-29T07:35:28.647Z"
      },
      {
        "duration": 4,
        "start_time": "2022-12-29T07:35:30.385Z"
      },
      {
        "duration": 28,
        "start_time": "2022-12-29T07:35:33.345Z"
      },
      {
        "duration": 6,
        "start_time": "2022-12-29T07:35:37.154Z"
      },
      {
        "duration": 34,
        "start_time": "2022-12-29T07:35:42.077Z"
      },
      {
        "duration": 713,
        "start_time": "2022-12-29T07:35:43.849Z"
      },
      {
        "duration": 88,
        "start_time": "2022-12-29T07:35:45.044Z"
      },
      {
        "duration": 4,
        "start_time": "2022-12-29T07:47:36.728Z"
      },
      {
        "duration": 26,
        "start_time": "2022-12-29T07:47:41.931Z"
      },
      {
        "duration": 4,
        "start_time": "2022-12-29T07:47:52.573Z"
      },
      {
        "duration": 3,
        "start_time": "2022-12-29T07:48:45.617Z"
      },
      {
        "duration": 43,
        "start_time": "2022-12-29T07:52:39.398Z"
      },
      {
        "duration": 27,
        "start_time": "2022-12-29T07:55:43.303Z"
      },
      {
        "duration": 131,
        "start_time": "2022-12-29T08:10:39.465Z"
      },
      {
        "duration": 34,
        "start_time": "2022-12-29T08:11:14.791Z"
      },
      {
        "duration": 38,
        "start_time": "2022-12-29T08:11:33.032Z"
      },
      {
        "duration": 5,
        "start_time": "2022-12-29T08:11:37.380Z"
      },
      {
        "duration": 5,
        "start_time": "2022-12-29T08:12:06.014Z"
      },
      {
        "duration": 36,
        "start_time": "2022-12-29T08:19:01.678Z"
      },
      {
        "duration": 45,
        "start_time": "2022-12-29T08:19:48.212Z"
      },
      {
        "duration": 36,
        "start_time": "2022-12-29T08:19:56.036Z"
      },
      {
        "duration": 673,
        "start_time": "2022-12-29T08:21:46.502Z"
      },
      {
        "duration": 22,
        "start_time": "2022-12-29T08:23:33.207Z"
      },
      {
        "duration": 22,
        "start_time": "2022-12-29T08:23:50.399Z"
      },
      {
        "duration": 8,
        "start_time": "2022-12-29T08:28:20.975Z"
      },
      {
        "duration": 36,
        "start_time": "2022-12-29T08:50:58.957Z"
      },
      {
        "duration": 698,
        "start_time": "2022-12-29T08:51:36.494Z"
      },
      {
        "duration": 27,
        "start_time": "2022-12-29T08:51:47.495Z"
      },
      {
        "duration": 9,
        "start_time": "2022-12-29T08:52:01.991Z"
      },
      {
        "duration": 109,
        "start_time": "2022-12-29T09:27:03.349Z"
      },
      {
        "duration": 5,
        "start_time": "2022-12-29T09:27:23.640Z"
      },
      {
        "duration": 1577,
        "start_time": "2022-12-29T09:27:28.090Z"
      },
      {
        "duration": 1615,
        "start_time": "2022-12-29T09:28:09.988Z"
      },
      {
        "duration": 1616,
        "start_time": "2022-12-29T09:29:19.234Z"
      },
      {
        "duration": 1593,
        "start_time": "2022-12-29T09:29:48.041Z"
      },
      {
        "duration": 1595,
        "start_time": "2022-12-29T09:30:15.532Z"
      },
      {
        "duration": 5179,
        "start_time": "2022-12-29T09:30:34.055Z"
      },
      {
        "duration": 5178,
        "start_time": "2022-12-29T09:31:06.410Z"
      },
      {
        "duration": 8820,
        "start_time": "2022-12-29T09:31:48.608Z"
      },
      {
        "duration": 8694,
        "start_time": "2022-12-29T09:32:24.235Z"
      },
      {
        "duration": 8639,
        "start_time": "2022-12-29T09:33:02.021Z"
      },
      {
        "duration": 8633,
        "start_time": "2022-12-29T09:33:27.080Z"
      },
      {
        "duration": 45,
        "start_time": "2022-12-29T09:34:41.409Z"
      },
      {
        "duration": 9761,
        "start_time": "2022-12-29T09:36:21.618Z"
      },
      {
        "duration": 6,
        "start_time": "2022-12-29T09:36:39.945Z"
      },
      {
        "duration": 8743,
        "start_time": "2022-12-29T09:36:56.213Z"
      },
      {
        "duration": 8668,
        "start_time": "2022-12-29T09:38:12.346Z"
      },
      {
        "duration": 9279,
        "start_time": "2022-12-29T09:40:02.345Z"
      },
      {
        "duration": 41,
        "start_time": "2022-12-29T09:46:35.321Z"
      },
      {
        "duration": 9358,
        "start_time": "2022-12-29T09:51:34.549Z"
      },
      {
        "duration": 9501,
        "start_time": "2022-12-29T09:51:57.140Z"
      },
      {
        "duration": 9419,
        "start_time": "2022-12-29T09:52:25.131Z"
      },
      {
        "duration": 9,
        "start_time": "2022-12-29T09:53:30.131Z"
      },
      {
        "duration": 443,
        "start_time": "2022-12-29T09:53:57.472Z"
      },
      {
        "duration": 177,
        "start_time": "2022-12-29T09:54:04.838Z"
      },
      {
        "duration": 21053,
        "start_time": "2022-12-29T09:54:15.006Z"
      },
      {
        "duration": 1812,
        "start_time": "2022-12-29T09:54:39.975Z"
      },
      {
        "duration": 166,
        "start_time": "2022-12-29T09:54:47.353Z"
      },
      {
        "duration": 255,
        "start_time": "2022-12-29T09:55:10.988Z"
      },
      {
        "duration": 192,
        "start_time": "2022-12-29T09:55:15.711Z"
      },
      {
        "duration": 1709,
        "start_time": "2022-12-29T09:55:42.322Z"
      },
      {
        "duration": 169,
        "start_time": "2022-12-29T09:55:44.883Z"
      },
      {
        "duration": 1817,
        "start_time": "2022-12-29T09:56:36.698Z"
      },
      {
        "duration": 59,
        "start_time": "2022-12-29T09:56:57.141Z"
      },
      {
        "duration": 36,
        "start_time": "2022-12-29T09:57:02.913Z"
      },
      {
        "duration": 1871,
        "start_time": "2022-12-29T09:57:13.182Z"
      },
      {
        "duration": 98,
        "start_time": "2022-12-29T10:02:59.167Z"
      },
      {
        "duration": 509500,
        "start_time": "2022-12-29T10:03:23.280Z"
      },
      {
        "duration": 41,
        "start_time": "2022-12-29T10:14:26.015Z"
      },
      {
        "duration": 39,
        "start_time": "2022-12-29T10:15:58.513Z"
      },
      {
        "duration": 109,
        "start_time": "2022-12-29T10:16:28.647Z"
      },
      {
        "duration": 1888170,
        "start_time": "2022-12-29T10:16:57.886Z"
      },
      {
        "duration": 1861628,
        "start_time": "2022-12-29T10:49:43.354Z"
      },
      {
        "duration": 11,
        "start_time": "2022-12-29T11:44:32.756Z"
      },
      {
        "duration": 79,
        "start_time": "2022-12-29T11:45:18.230Z"
      },
      {
        "duration": 5,
        "start_time": "2022-12-29T11:45:41.629Z"
      },
      {
        "duration": 2072657,
        "start_time": "2022-12-29T11:45:48.304Z"
      },
      {
        "duration": 81,
        "start_time": "2022-12-29T12:21:23.137Z"
      },
      {
        "duration": 2144465,
        "start_time": "2022-12-29T12:21:39.017Z"
      },
      {
        "duration": 22,
        "start_time": "2022-12-29T13:06:32.059Z"
      },
      {
        "duration": 4,
        "start_time": "2022-12-29T13:07:24.022Z"
      },
      {
        "duration": 16,
        "start_time": "2022-12-29T13:07:37.087Z"
      },
      {
        "duration": 2714,
        "start_time": "2022-12-29T13:07:41.179Z"
      },
      {
        "duration": 226,
        "start_time": "2022-12-29T13:08:21.800Z"
      },
      {
        "duration": 185421,
        "start_time": "2022-12-29T13:09:57.403Z"
      },
      {
        "duration": 183369,
        "start_time": "2022-12-29T13:14:05.361Z"
      },
      {
        "duration": 186010,
        "start_time": "2022-12-29T13:22:13.813Z"
      },
      {
        "duration": 169834,
        "start_time": "2022-12-29T13:25:46.288Z"
      },
      {
        "duration": 170292,
        "start_time": "2022-12-29T13:31:34.930Z"
      },
      {
        "duration": 168468,
        "start_time": "2022-12-29T13:36:24.857Z"
      },
      {
        "duration": 7423,
        "start_time": "2022-12-29T13:41:51.249Z"
      },
      {
        "duration": 7376,
        "start_time": "2022-12-29T13:42:39.195Z"
      },
      {
        "duration": 1792,
        "start_time": "2022-12-29T13:43:15.491Z"
      },
      {
        "duration": 3416562,
        "start_time": "2022-12-29T14:58:07.417Z"
      },
      {
        "duration": 17,
        "start_time": "2022-12-29T15:55:03.981Z"
      },
      {
        "duration": 162718,
        "start_time": "2022-12-29T15:57:39.516Z"
      },
      {
        "duration": 6323,
        "start_time": "2022-12-29T16:02:32.355Z"
      },
      {
        "duration": 12,
        "start_time": "2022-12-29T16:02:40.721Z"
      },
      {
        "duration": 174569,
        "start_time": "2022-12-29T16:02:47.675Z"
      },
      {
        "duration": 11,
        "start_time": "2022-12-29T16:08:16.012Z"
      },
      {
        "duration": 5,
        "start_time": "2022-12-29T16:08:22.845Z"
      },
      {
        "duration": 52,
        "start_time": "2022-12-29T16:08:22.853Z"
      },
      {
        "duration": 12,
        "start_time": "2022-12-29T16:08:22.906Z"
      },
      {
        "duration": 42,
        "start_time": "2022-12-29T16:08:22.920Z"
      },
      {
        "duration": 5,
        "start_time": "2022-12-29T16:08:22.964Z"
      },
      {
        "duration": 12,
        "start_time": "2022-12-29T16:08:22.971Z"
      },
      {
        "duration": 6,
        "start_time": "2022-12-29T16:08:22.984Z"
      },
      {
        "duration": 34,
        "start_time": "2022-12-29T16:08:22.991Z"
      },
      {
        "duration": 7,
        "start_time": "2022-12-29T16:08:23.027Z"
      },
      {
        "duration": 15,
        "start_time": "2022-12-29T16:08:23.037Z"
      },
      {
        "duration": 8,
        "start_time": "2022-12-29T16:08:23.054Z"
      },
      {
        "duration": 16,
        "start_time": "2022-12-29T16:08:23.063Z"
      },
      {
        "duration": 4,
        "start_time": "2022-12-29T16:08:23.081Z"
      },
      {
        "duration": 57,
        "start_time": "2022-12-29T16:08:23.087Z"
      },
      {
        "duration": 6,
        "start_time": "2022-12-29T16:08:23.146Z"
      },
      {
        "duration": 48,
        "start_time": "2022-12-29T16:08:23.154Z"
      },
      {
        "duration": 702,
        "start_time": "2022-12-29T16:08:23.204Z"
      },
      {
        "duration": 29,
        "start_time": "2022-12-29T16:08:23.907Z"
      },
      {
        "duration": 87,
        "start_time": "2022-12-29T16:08:23.938Z"
      },
      {
        "duration": 8,
        "start_time": "2022-12-29T16:08:28.452Z"
      },
      {
        "duration": 7498,
        "start_time": "2022-12-29T16:08:31.029Z"
      },
      {
        "duration": 1889,
        "start_time": "2022-12-29T16:08:48.619Z"
      },
      {
        "duration": 672767,
        "start_time": "2022-12-29T16:09:04.260Z"
      },
      {
        "duration": 1391,
        "start_time": "2022-12-29T16:20:50.883Z"
      },
      {
        "duration": 60,
        "start_time": "2022-12-29T16:20:52.277Z"
      },
      {
        "duration": 14,
        "start_time": "2022-12-29T16:20:52.339Z"
      },
      {
        "duration": 57,
        "start_time": "2022-12-29T16:20:52.354Z"
      },
      {
        "duration": 5,
        "start_time": "2022-12-29T16:20:52.413Z"
      },
      {
        "duration": 31,
        "start_time": "2022-12-29T16:20:52.422Z"
      },
      {
        "duration": 9,
        "start_time": "2022-12-29T16:20:52.454Z"
      },
      {
        "duration": 11,
        "start_time": "2022-12-29T16:20:52.464Z"
      },
      {
        "duration": 27,
        "start_time": "2022-12-29T16:20:52.477Z"
      },
      {
        "duration": 37,
        "start_time": "2022-12-29T16:20:52.506Z"
      },
      {
        "duration": 13,
        "start_time": "2022-12-29T16:20:52.545Z"
      },
      {
        "duration": 30,
        "start_time": "2022-12-29T16:20:52.561Z"
      },
      {
        "duration": 5,
        "start_time": "2022-12-29T16:20:52.593Z"
      },
      {
        "duration": 42,
        "start_time": "2022-12-29T16:20:52.602Z"
      },
      {
        "duration": 22,
        "start_time": "2022-12-29T16:20:52.646Z"
      },
      {
        "duration": 48,
        "start_time": "2022-12-29T16:20:52.669Z"
      },
      {
        "duration": 723,
        "start_time": "2022-12-29T16:20:52.718Z"
      },
      {
        "duration": 83,
        "start_time": "2022-12-29T16:20:53.443Z"
      },
      {
        "duration": 100,
        "start_time": "2022-12-29T16:20:53.529Z"
      },
      {
        "duration": 28,
        "start_time": "2022-12-29T16:20:53.631Z"
      },
      {
        "duration": 7646,
        "start_time": "2022-12-29T16:20:53.660Z"
      },
      {
        "duration": 1843,
        "start_time": "2022-12-29T16:21:01.308Z"
      },
      {
        "duration": 680174,
        "start_time": "2022-12-29T16:21:22.034Z"
      },
      {
        "duration": 7473,
        "start_time": "2022-12-29T16:32:55.910Z"
      },
      {
        "duration": 10091,
        "start_time": "2022-12-29T16:33:06.343Z"
      },
      {
        "duration": 12,
        "start_time": "2022-12-29T16:33:21.207Z"
      },
      {
        "duration": 2532,
        "start_time": "2022-12-29T16:33:36.055Z"
      },
      {
        "duration": 11,
        "start_time": "2022-12-29T16:33:46.347Z"
      },
      {
        "duration": 787,
        "start_time": "2022-12-29T16:33:48.230Z"
      },
      {
        "duration": 159392,
        "start_time": "2022-12-29T16:33:56.135Z"
      },
      {
        "duration": 200746,
        "start_time": "2022-12-29T16:37:24.377Z"
      },
      {
        "duration": 115426,
        "start_time": "2022-12-29T16:41:01.797Z"
      },
      {
        "duration": 939827,
        "start_time": "2022-12-29T16:43:04.886Z"
      },
      {
        "duration": 1570,
        "start_time": "2022-12-29T17:16:14.578Z"
      },
      {
        "duration": 92,
        "start_time": "2022-12-29T17:16:17.808Z"
      },
      {
        "duration": 13,
        "start_time": "2022-12-29T17:16:23.599Z"
      },
      {
        "duration": 4,
        "start_time": "2022-12-29T17:16:24.812Z"
      },
      {
        "duration": 4,
        "start_time": "2022-12-29T17:16:25.532Z"
      },
      {
        "duration": 4,
        "start_time": "2022-12-29T17:16:27.051Z"
      },
      {
        "duration": 12,
        "start_time": "2022-12-29T17:16:28.376Z"
      },
      {
        "duration": 6,
        "start_time": "2022-12-29T17:16:29.585Z"
      },
      {
        "duration": 12,
        "start_time": "2022-12-29T17:16:30.118Z"
      },
      {
        "duration": 4,
        "start_time": "2022-12-29T17:16:31.391Z"
      },
      {
        "duration": 27,
        "start_time": "2022-12-29T17:16:33.956Z"
      },
      {
        "duration": 7,
        "start_time": "2022-12-29T17:16:36.240Z"
      },
      {
        "duration": 141,
        "start_time": "2022-12-29T17:16:56.722Z"
      },
      {
        "duration": 17,
        "start_time": "2022-12-29T17:17:09.694Z"
      },
      {
        "duration": 1363169,
        "start_time": "2022-12-29T17:17:12.753Z"
      },
      {
        "duration": 55,
        "start_time": "2022-12-29T17:49:18.686Z"
      },
      {
        "duration": 11,
        "start_time": "2022-12-29T17:49:28.110Z"
      },
      {
        "duration": 379549,
        "start_time": "2022-12-29T17:49:32.717Z"
      },
      {
        "duration": 1372,
        "start_time": "2022-12-30T14:49:24.998Z"
      },
      {
        "duration": 52,
        "start_time": "2022-12-30T14:49:26.372Z"
      },
      {
        "duration": 11,
        "start_time": "2022-12-30T14:49:26.426Z"
      },
      {
        "duration": 36,
        "start_time": "2022-12-30T14:49:26.438Z"
      },
      {
        "duration": 3,
        "start_time": "2022-12-30T14:49:26.476Z"
      },
      {
        "duration": 11,
        "start_time": "2022-12-30T14:49:26.481Z"
      },
      {
        "duration": 5,
        "start_time": "2022-12-30T14:49:26.493Z"
      },
      {
        "duration": 18,
        "start_time": "2022-12-30T14:49:26.499Z"
      },
      {
        "duration": 5,
        "start_time": "2022-12-30T14:49:26.518Z"
      },
      {
        "duration": 10,
        "start_time": "2022-12-30T14:49:26.525Z"
      },
      {
        "duration": 5,
        "start_time": "2022-12-30T14:49:26.536Z"
      },
      {
        "duration": 11,
        "start_time": "2022-12-30T14:49:26.542Z"
      },
      {
        "duration": 4,
        "start_time": "2022-12-30T14:49:26.554Z"
      },
      {
        "duration": 57,
        "start_time": "2022-12-30T14:49:26.561Z"
      },
      {
        "duration": 5,
        "start_time": "2022-12-30T14:49:26.620Z"
      },
      {
        "duration": 37,
        "start_time": "2022-12-30T14:49:26.627Z"
      },
      {
        "duration": 661,
        "start_time": "2022-12-30T14:49:26.666Z"
      },
      {
        "duration": 87,
        "start_time": "2022-12-30T14:49:27.329Z"
      },
      {
        "duration": 99,
        "start_time": "2022-12-30T14:49:27.417Z"
      },
      {
        "duration": 1554,
        "start_time": "2022-12-30T14:49:27.518Z"
      },
      {
        "duration": 745345,
        "start_time": "2022-12-30T14:49:29.073Z"
      },
      {
        "duration": 211757,
        "start_time": "2022-12-30T15:01:54.420Z"
      },
      {
        "duration": 12,
        "start_time": "2022-12-30T15:05:26.179Z"
      },
      {
        "duration": 2606,
        "start_time": "2022-12-30T15:05:26.193Z"
      },
      {
        "duration": 1371405,
        "start_time": "2022-12-30T15:05:28.801Z"
      },
      {
        "duration": 199715,
        "start_time": "2022-12-30T15:28:20.207Z"
      },
      {
        "duration": 100,
        "start_time": "2022-12-30T15:31:39.924Z"
      },
      {
        "duration": 744,
        "start_time": "2022-12-30T15:31:40.026Z"
      },
      {
        "duration": 383819,
        "start_time": "2022-12-30T15:31:40.772Z"
      },
      {
        "duration": 146027,
        "start_time": "2022-12-30T15:38:04.593Z"
      },
      {
        "duration": 1604,
        "start_time": "2023-01-03T07:56:00.858Z"
      },
      {
        "duration": 100,
        "start_time": "2023-01-03T07:56:04.107Z"
      },
      {
        "duration": 15,
        "start_time": "2023-01-03T07:56:06.042Z"
      },
      {
        "duration": 37,
        "start_time": "2023-01-03T07:56:08.748Z"
      },
      {
        "duration": 6,
        "start_time": "2023-01-03T07:56:10.319Z"
      },
      {
        "duration": 11,
        "start_time": "2023-01-03T07:56:15.723Z"
      },
      {
        "duration": 4,
        "start_time": "2023-01-03T07:56:17.188Z"
      },
      {
        "duration": 5,
        "start_time": "2023-01-03T07:56:19.122Z"
      },
      {
        "duration": 4,
        "start_time": "2023-01-03T07:56:22.859Z"
      },
      {
        "duration": 113,
        "start_time": "2023-01-03T07:58:51.065Z"
      },
      {
        "duration": 11,
        "start_time": "2023-01-03T07:59:14.953Z"
      },
      {
        "duration": 13,
        "start_time": "2023-01-03T07:59:44.923Z"
      },
      {
        "duration": 10,
        "start_time": "2023-01-03T07:59:50.906Z"
      },
      {
        "duration": 34,
        "start_time": "2023-01-03T08:14:50.920Z"
      },
      {
        "duration": 15,
        "start_time": "2023-01-03T08:17:05.862Z"
      },
      {
        "duration": 34,
        "start_time": "2023-01-03T08:17:14.683Z"
      },
      {
        "duration": 18,
        "start_time": "2023-01-03T08:17:46.092Z"
      },
      {
        "duration": 11,
        "start_time": "2023-01-03T08:17:56.482Z"
      },
      {
        "duration": 25,
        "start_time": "2023-01-03T08:18:12.562Z"
      },
      {
        "duration": 28,
        "start_time": "2023-01-03T08:18:21.522Z"
      },
      {
        "duration": 31,
        "start_time": "2023-01-03T08:21:21.243Z"
      },
      {
        "duration": 36,
        "start_time": "2023-01-03T08:23:22.771Z"
      },
      {
        "duration": 10,
        "start_time": "2023-01-03T08:23:41.083Z"
      },
      {
        "duration": 4,
        "start_time": "2023-01-03T08:23:53.433Z"
      },
      {
        "duration": 52,
        "start_time": "2023-01-03T08:23:53.438Z"
      },
      {
        "duration": 16,
        "start_time": "2023-01-03T08:23:53.491Z"
      },
      {
        "duration": 38,
        "start_time": "2023-01-03T08:23:53.510Z"
      },
      {
        "duration": 5,
        "start_time": "2023-01-03T08:23:53.549Z"
      },
      {
        "duration": 12,
        "start_time": "2023-01-03T08:23:53.555Z"
      },
      {
        "duration": 4,
        "start_time": "2023-01-03T08:23:53.569Z"
      },
      {
        "duration": 36,
        "start_time": "2023-01-03T08:23:53.574Z"
      },
      {
        "duration": 5,
        "start_time": "2023-01-03T08:23:53.612Z"
      },
      {
        "duration": 40,
        "start_time": "2023-01-03T08:24:01.890Z"
      },
      {
        "duration": 5,
        "start_time": "2023-01-03T08:30:27.690Z"
      },
      {
        "duration": 10,
        "start_time": "2023-01-03T08:30:28.808Z"
      },
      {
        "duration": 4,
        "start_time": "2023-01-03T08:30:31.073Z"
      },
      {
        "duration": 36,
        "start_time": "2023-01-03T08:31:46.592Z"
      },
      {
        "duration": 6,
        "start_time": "2023-01-03T08:33:17.066Z"
      },
      {
        "duration": 10,
        "start_time": "2023-01-03T10:11:22.356Z"
      },
      {
        "duration": 5,
        "start_time": "2023-01-03T10:11:24.969Z"
      },
      {
        "duration": 33,
        "start_time": "2023-01-03T10:11:26.493Z"
      },
      {
        "duration": 5,
        "start_time": "2023-01-03T10:11:42.260Z"
      },
      {
        "duration": 373,
        "start_time": "2023-01-03T10:11:44.144Z"
      },
      {
        "duration": 6,
        "start_time": "2023-01-03T10:12:04.522Z"
      },
      {
        "duration": 706,
        "start_time": "2023-01-03T10:13:04.356Z"
      },
      {
        "duration": 4,
        "start_time": "2023-01-03T10:13:05.655Z"
      },
      {
        "duration": 366,
        "start_time": "2023-01-03T10:16:40.490Z"
      },
      {
        "duration": 14,
        "start_time": "2023-01-03T10:16:43.201Z"
      },
      {
        "duration": 5,
        "start_time": "2023-01-03T10:18:03.376Z"
      },
      {
        "duration": 365,
        "start_time": "2023-01-03T10:18:04.564Z"
      },
      {
        "duration": 21,
        "start_time": "2023-01-03T10:18:06.579Z"
      },
      {
        "duration": 381,
        "start_time": "2023-01-03T10:18:16.146Z"
      },
      {
        "duration": 24,
        "start_time": "2023-01-03T10:18:17.085Z"
      },
      {
        "duration": 369,
        "start_time": "2023-01-03T10:18:33.445Z"
      },
      {
        "duration": 362,
        "start_time": "2023-01-03T10:19:02.225Z"
      },
      {
        "duration": 13,
        "start_time": "2023-01-03T10:19:03.418Z"
      },
      {
        "duration": 352,
        "start_time": "2023-01-03T10:19:28.592Z"
      },
      {
        "duration": 4,
        "start_time": "2023-01-03T10:19:49.649Z"
      },
      {
        "duration": 356,
        "start_time": "2023-01-03T10:19:51.054Z"
      },
      {
        "duration": 20,
        "start_time": "2023-01-03T10:19:53.690Z"
      },
      {
        "duration": 10,
        "start_time": "2023-01-03T10:20:51.579Z"
      },
      {
        "duration": 4,
        "start_time": "2023-01-03T10:21:08.322Z"
      },
      {
        "duration": 355,
        "start_time": "2023-01-03T10:21:09.288Z"
      },
      {
        "duration": 14,
        "start_time": "2023-01-03T10:21:14.594Z"
      },
      {
        "duration": 327,
        "start_time": "2023-01-03T10:36:57.392Z"
      },
      {
        "duration": 9,
        "start_time": "2023-01-03T10:38:37.678Z"
      },
      {
        "duration": 348,
        "start_time": "2023-01-03T10:42:01.106Z"
      },
      {
        "duration": 12225,
        "start_time": "2023-01-03T10:49:24.680Z"
      },
      {
        "duration": 3295232,
        "start_time": "2023-01-03T10:49:44.700Z"
      },
      {
        "duration": 6,
        "start_time": "2023-01-03T11:54:47.875Z"
      },
      {
        "duration": 342,
        "start_time": "2023-01-03T11:54:50.485Z"
      },
      {
        "duration": 58,
        "start_time": "2023-01-03T11:56:36.596Z"
      },
      {
        "duration": 5,
        "start_time": "2023-01-03T11:56:41.949Z"
      },
      {
        "duration": 245,
        "start_time": "2023-01-03T11:56:54.090Z"
      },
      {
        "duration": 4,
        "start_time": "2023-01-03T11:57:24.829Z"
      },
      {
        "duration": 173,
        "start_time": "2023-01-03T11:57:26.433Z"
      },
      {
        "duration": 4,
        "start_time": "2023-01-03T11:57:38.537Z"
      },
      {
        "duration": 237,
        "start_time": "2023-01-03T11:57:39.267Z"
      },
      {
        "duration": 5,
        "start_time": "2023-01-03T11:57:54.193Z"
      },
      {
        "duration": 27,
        "start_time": "2023-01-03T11:57:55.378Z"
      },
      {
        "duration": 41,
        "start_time": "2023-01-03T11:58:04.765Z"
      },
      {
        "duration": 6,
        "start_time": "2023-01-03T11:58:36.844Z"
      },
      {
        "duration": 91,
        "start_time": "2023-01-03T11:58:38.548Z"
      },
      {
        "duration": 5,
        "start_time": "2023-01-03T11:58:46.562Z"
      },
      {
        "duration": 332,
        "start_time": "2023-01-03T11:58:50.542Z"
      },
      {
        "duration": 336,
        "start_time": "2023-01-03T13:19:24.031Z"
      },
      {
        "duration": 376,
        "start_time": "2023-01-03T13:19:45.890Z"
      },
      {
        "duration": 7,
        "start_time": "2023-01-03T13:21:14.782Z"
      },
      {
        "duration": 5,
        "start_time": "2023-01-03T13:22:50.360Z"
      },
      {
        "duration": 5,
        "start_time": "2023-01-03T13:27:55.518Z"
      },
      {
        "duration": 354,
        "start_time": "2023-01-03T13:29:23.296Z"
      },
      {
        "duration": 8,
        "start_time": "2023-01-03T13:29:25.106Z"
      },
      {
        "duration": 52,
        "start_time": "2023-01-03T13:49:09.086Z"
      },
      {
        "duration": 46,
        "start_time": "2023-01-03T13:49:35.758Z"
      },
      {
        "duration": 54,
        "start_time": "2023-01-03T13:52:19.757Z"
      },
      {
        "duration": 51,
        "start_time": "2023-01-03T13:52:36.921Z"
      },
      {
        "duration": 52,
        "start_time": "2023-01-03T13:52:57.379Z"
      },
      {
        "duration": 38,
        "start_time": "2023-01-03T13:53:10.231Z"
      },
      {
        "duration": 43,
        "start_time": "2023-01-03T13:53:40.449Z"
      },
      {
        "duration": 50,
        "start_time": "2023-01-03T13:53:47.460Z"
      },
      {
        "duration": 67,
        "start_time": "2023-01-03T13:54:03.652Z"
      },
      {
        "duration": 54,
        "start_time": "2023-01-03T13:54:24.675Z"
      },
      {
        "duration": 48,
        "start_time": "2023-01-03T13:54:40.748Z"
      },
      {
        "duration": 69,
        "start_time": "2023-01-03T13:55:03.408Z"
      },
      {
        "duration": 58,
        "start_time": "2023-01-03T13:55:19.888Z"
      },
      {
        "duration": 6,
        "start_time": "2023-01-03T13:56:18.664Z"
      },
      {
        "duration": 375,
        "start_time": "2023-01-03T13:56:23.251Z"
      },
      {
        "duration": 9,
        "start_time": "2023-01-03T13:56:25.002Z"
      },
      {
        "duration": 5,
        "start_time": "2023-01-03T13:57:50.185Z"
      },
      {
        "duration": 314,
        "start_time": "2023-01-03T13:57:53.116Z"
      },
      {
        "duration": 9,
        "start_time": "2023-01-03T13:57:58.720Z"
      },
      {
        "duration": 6,
        "start_time": "2023-01-03T13:59:31.855Z"
      },
      {
        "duration": 308,
        "start_time": "2023-01-03T13:59:33.415Z"
      },
      {
        "duration": 373,
        "start_time": "2023-01-03T14:00:45.631Z"
      },
      {
        "duration": 8,
        "start_time": "2023-01-03T14:01:09.964Z"
      },
      {
        "duration": 447,
        "start_time": "2023-01-03T14:01:19.728Z"
      },
      {
        "duration": 343,
        "start_time": "2023-01-03T14:03:12.429Z"
      },
      {
        "duration": 13,
        "start_time": "2023-01-03T14:03:16.099Z"
      },
      {
        "duration": 336,
        "start_time": "2023-01-03T14:03:26.422Z"
      },
      {
        "duration": 6,
        "start_time": "2023-01-03T14:03:51.149Z"
      },
      {
        "duration": 364,
        "start_time": "2023-01-03T14:03:56.298Z"
      },
      {
        "duration": 6,
        "start_time": "2023-01-03T14:04:16.170Z"
      },
      {
        "duration": 12,
        "start_time": "2023-01-03T14:05:18.386Z"
      },
      {
        "duration": 12,
        "start_time": "2023-01-03T14:05:24.083Z"
      },
      {
        "duration": 1618,
        "start_time": "2023-01-03T14:06:07.001Z"
      },
      {
        "duration": 340,
        "start_time": "2023-01-03T14:06:31.210Z"
      },
      {
        "duration": 11,
        "start_time": "2023-01-03T14:06:34.008Z"
      },
      {
        "duration": 6,
        "start_time": "2023-01-03T14:12:32.284Z"
      },
      {
        "duration": 60,
        "start_time": "2023-01-03T14:20:08.484Z"
      },
      {
        "duration": 6,
        "start_time": "2023-01-03T14:21:39.444Z"
      },
      {
        "duration": 67,
        "start_time": "2023-01-03T14:21:44.665Z"
      },
      {
        "duration": 1166,
        "start_time": "2023-01-03T14:22:06.966Z"
      },
      {
        "duration": 8,
        "start_time": "2023-01-03T14:22:16.856Z"
      },
      {
        "duration": 6,
        "start_time": "2023-01-03T14:24:06.965Z"
      },
      {
        "duration": 1229,
        "start_time": "2023-01-03T14:25:02.727Z"
      },
      {
        "duration": 11,
        "start_time": "2023-01-03T14:25:12.842Z"
      },
      {
        "duration": 6,
        "start_time": "2023-01-03T14:25:44.075Z"
      },
      {
        "duration": 1102,
        "start_time": "2023-01-03T14:25:47.006Z"
      },
      {
        "duration": 8,
        "start_time": "2023-01-03T14:26:00.843Z"
      },
      {
        "duration": 5,
        "start_time": "2023-01-03T14:27:04.450Z"
      },
      {
        "duration": 35,
        "start_time": "2023-01-03T14:27:05.545Z"
      },
      {
        "duration": 5,
        "start_time": "2023-01-03T14:27:44.662Z"
      },
      {
        "duration": 30,
        "start_time": "2023-01-03T14:27:50.137Z"
      },
      {
        "duration": 12,
        "start_time": "2023-01-03T14:28:06.044Z"
      },
      {
        "duration": 4,
        "start_time": "2023-01-03T14:30:19.212Z"
      },
      {
        "duration": 29,
        "start_time": "2023-01-03T14:30:22.689Z"
      },
      {
        "duration": 84,
        "start_time": "2023-01-03T14:31:25.420Z"
      },
      {
        "duration": 8,
        "start_time": "2023-01-03T14:31:28.560Z"
      },
      {
        "duration": 8,
        "start_time": "2023-01-03T14:33:34.228Z"
      },
      {
        "duration": 7,
        "start_time": "2023-01-03T14:33:41.178Z"
      },
      {
        "duration": 8,
        "start_time": "2023-01-03T14:33:47.233Z"
      },
      {
        "duration": 13,
        "start_time": "2023-01-03T14:35:07.763Z"
      },
      {
        "duration": 9,
        "start_time": "2023-01-03T14:35:41.410Z"
      },
      {
        "duration": 9,
        "start_time": "2023-01-03T14:35:59.867Z"
      },
      {
        "duration": 9,
        "start_time": "2023-01-03T14:36:03.870Z"
      },
      {
        "duration": 10,
        "start_time": "2023-01-03T14:36:24.580Z"
      },
      {
        "duration": 2,
        "start_time": "2023-01-03T14:36:29.137Z"
      },
      {
        "duration": 3,
        "start_time": "2023-01-03T14:36:31.486Z"
      },
      {
        "duration": 3,
        "start_time": "2023-01-03T14:36:35.118Z"
      },
      {
        "duration": 4,
        "start_time": "2023-01-03T14:36:35.962Z"
      },
      {
        "duration": 2,
        "start_time": "2023-01-03T14:36:40.185Z"
      },
      {
        "duration": 2,
        "start_time": "2023-01-03T14:36:41.378Z"
      },
      {
        "duration": 3,
        "start_time": "2023-01-03T14:36:55.732Z"
      },
      {
        "duration": 10,
        "start_time": "2023-01-03T14:36:56.424Z"
      },
      {
        "duration": 13,
        "start_time": "2023-01-03T14:43:21.365Z"
      },
      {
        "duration": 5,
        "start_time": "2023-01-03T14:43:59.265Z"
      },
      {
        "duration": 15,
        "start_time": "2023-01-03T14:44:10.599Z"
      },
      {
        "duration": 11,
        "start_time": "2023-01-03T14:44:21.382Z"
      },
      {
        "duration": 11,
        "start_time": "2023-01-03T14:45:10.309Z"
      },
      {
        "duration": 10,
        "start_time": "2023-01-03T14:45:15.401Z"
      },
      {
        "duration": 5,
        "start_time": "2023-01-03T14:46:40.482Z"
      },
      {
        "duration": 14,
        "start_time": "2023-01-03T14:47:01.078Z"
      },
      {
        "duration": 12,
        "start_time": "2023-01-03T14:47:50.957Z"
      },
      {
        "duration": 5,
        "start_time": "2023-01-03T14:49:33.677Z"
      },
      {
        "duration": 68,
        "start_time": "2023-01-03T14:49:33.684Z"
      },
      {
        "duration": 11,
        "start_time": "2023-01-03T14:49:33.753Z"
      },
      {
        "duration": 36,
        "start_time": "2023-01-03T14:49:33.766Z"
      },
      {
        "duration": 5,
        "start_time": "2023-01-03T14:49:33.804Z"
      },
      {
        "duration": 17,
        "start_time": "2023-01-03T14:49:33.811Z"
      },
      {
        "duration": 4,
        "start_time": "2023-01-03T14:49:33.829Z"
      },
      {
        "duration": 9,
        "start_time": "2023-01-03T14:49:33.835Z"
      },
      {
        "duration": 7,
        "start_time": "2023-01-03T14:49:33.846Z"
      },
      {
        "duration": 43,
        "start_time": "2023-01-03T14:49:33.854Z"
      },
      {
        "duration": 4,
        "start_time": "2023-01-03T14:49:33.899Z"
      },
      {
        "duration": 15,
        "start_time": "2023-01-03T14:49:33.906Z"
      },
      {
        "duration": 8,
        "start_time": "2023-01-03T14:49:33.922Z"
      },
      {
        "duration": 38,
        "start_time": "2023-01-03T14:49:33.932Z"
      },
      {
        "duration": 4,
        "start_time": "2023-01-03T14:49:33.971Z"
      },
      {
        "duration": 21,
        "start_time": "2023-01-03T14:49:33.977Z"
      },
      {
        "duration": 334,
        "start_time": "2023-01-03T14:49:33.999Z"
      },
      {
        "duration": 8,
        "start_time": "2023-01-03T14:49:34.334Z"
      },
      {
        "duration": 6,
        "start_time": "2023-01-03T14:49:34.344Z"
      },
      {
        "duration": 10790,
        "start_time": "2023-01-03T14:49:42.760Z"
      },
      {
        "duration": 96,
        "start_time": "2023-01-03T14:50:04.647Z"
      },
      {
        "duration": 6,
        "start_time": "2023-01-03T14:50:10.960Z"
      },
      {
        "duration": 29446,
        "start_time": "2023-01-03T14:50:14.514Z"
      },
      {
        "duration": 5,
        "start_time": "2023-01-03T15:01:38.429Z"
      },
      {
        "duration": 29880,
        "start_time": "2023-01-03T15:01:40.429Z"
      },
      {
        "duration": 8,
        "start_time": "2023-01-03T15:03:10.094Z"
      },
      {
        "duration": 30549,
        "start_time": "2023-01-03T15:03:28.099Z"
      },
      {
        "duration": 9,
        "start_time": "2023-01-03T15:04:02.625Z"
      },
      {
        "duration": 89546,
        "start_time": "2023-01-03T15:04:17.913Z"
      },
      {
        "duration": 9,
        "start_time": "2023-01-03T15:05:52.346Z"
      },
      {
        "duration": 364,
        "start_time": "2023-01-03T15:08:15.437Z"
      },
      {
        "duration": 157240,
        "start_time": "2023-01-03T15:08:28.619Z"
      },
      {
        "duration": 89981,
        "start_time": "2023-01-03T15:11:39.807Z"
      },
      {
        "duration": 438612,
        "start_time": "2023-01-03T15:13:28.825Z"
      },
      {
        "duration": 6464547,
        "start_time": "2023-01-03T15:21:05.004Z"
      },
      {
        "duration": 2854078,
        "start_time": "2023-01-03T17:09:02.125Z"
      },
      {
        "duration": 37773,
        "start_time": "2023-01-03T17:56:41.202Z"
      },
      {
        "duration": 6,
        "start_time": "2023-01-03T17:57:26.550Z"
      },
      {
        "duration": 42289,
        "start_time": "2023-01-03T17:57:46.374Z"
      },
      {
        "duration": 41539,
        "start_time": "2023-01-03T18:00:32.848Z"
      },
      {
        "duration": 8,
        "start_time": "2023-01-03T18:01:38.661Z"
      },
      {
        "duration": 1715,
        "start_time": "2023-01-04T07:20:12.237Z"
      },
      {
        "duration": 183,
        "start_time": "2023-01-04T07:20:14.509Z"
      },
      {
        "duration": 15,
        "start_time": "2023-01-04T07:20:16.132Z"
      },
      {
        "duration": 40,
        "start_time": "2023-01-04T07:20:17.574Z"
      },
      {
        "duration": 6,
        "start_time": "2023-01-04T07:20:19.453Z"
      },
      {
        "duration": 12,
        "start_time": "2023-01-04T07:20:21.669Z"
      },
      {
        "duration": 6,
        "start_time": "2023-01-04T07:20:23.736Z"
      },
      {
        "duration": 3,
        "start_time": "2023-01-04T07:20:24.395Z"
      },
      {
        "duration": 5,
        "start_time": "2023-01-04T07:20:29.011Z"
      },
      {
        "duration": 39,
        "start_time": "2023-01-04T07:20:46.534Z"
      },
      {
        "duration": 5,
        "start_time": "2023-01-04T07:20:51.781Z"
      },
      {
        "duration": 13,
        "start_time": "2023-01-04T07:20:52.841Z"
      },
      {
        "duration": 6,
        "start_time": "2023-01-04T07:20:54.318Z"
      },
      {
        "duration": 31,
        "start_time": "2023-01-04T07:21:02.329Z"
      },
      {
        "duration": 5,
        "start_time": "2023-01-04T07:21:10.454Z"
      },
      {
        "duration": 13,
        "start_time": "2023-01-04T07:24:30.627Z"
      },
      {
        "duration": 387,
        "start_time": "2023-01-04T07:24:32.697Z"
      },
      {
        "duration": 9,
        "start_time": "2023-01-04T07:24:38.925Z"
      },
      {
        "duration": 6,
        "start_time": "2023-01-04T07:26:36.365Z"
      },
      {
        "duration": 1727168,
        "start_time": "2023-01-04T07:27:29.540Z"
      },
      {
        "duration": 8,
        "start_time": "2023-01-04T08:02:41.769Z"
      },
      {
        "duration": 4,
        "start_time": "2023-01-04T08:02:59.253Z"
      },
      {
        "duration": 89,
        "start_time": "2023-01-04T08:03:00.336Z"
      },
      {
        "duration": 8,
        "start_time": "2023-01-04T08:03:03.645Z"
      },
      {
        "duration": 96,
        "start_time": "2023-01-04T08:09:35.099Z"
      },
      {
        "duration": 4,
        "start_time": "2023-01-04T08:09:54.967Z"
      },
      {
        "duration": 12,
        "start_time": "2023-01-04T08:10:02.899Z"
      },
      {
        "duration": 16,
        "start_time": "2023-01-04T08:10:31.786Z"
      },
      {
        "duration": 8,
        "start_time": "2023-01-04T08:11:07.431Z"
      },
      {
        "duration": 13,
        "start_time": "2023-01-04T08:13:36.466Z"
      },
      {
        "duration": 8,
        "start_time": "2023-01-04T08:13:40.833Z"
      },
      {
        "duration": 13,
        "start_time": "2023-01-04T08:14:30.808Z"
      },
      {
        "duration": 10,
        "start_time": "2023-01-04T08:14:34.221Z"
      },
      {
        "duration": 15,
        "start_time": "2023-01-04T08:14:43.799Z"
      },
      {
        "duration": 8,
        "start_time": "2023-01-04T08:14:45.904Z"
      },
      {
        "duration": 14,
        "start_time": "2023-01-04T08:15:00.674Z"
      },
      {
        "duration": 18,
        "start_time": "2023-01-04T08:15:14.761Z"
      },
      {
        "duration": 11,
        "start_time": "2023-01-04T08:15:16.675Z"
      },
      {
        "duration": 12,
        "start_time": "2023-01-04T08:15:25.612Z"
      },
      {
        "duration": 9,
        "start_time": "2023-01-04T08:15:28.459Z"
      },
      {
        "duration": 13,
        "start_time": "2023-01-04T08:22:21.539Z"
      },
      {
        "duration": 4,
        "start_time": "2023-01-04T08:23:26.530Z"
      },
      {
        "duration": 33,
        "start_time": "2023-01-04T08:23:27.886Z"
      },
      {
        "duration": 9,
        "start_time": "2023-01-04T08:23:28.951Z"
      },
      {
        "duration": 5,
        "start_time": "2023-01-04T08:23:58.868Z"
      },
      {
        "duration": 6,
        "start_time": "2023-01-04T08:24:32.652Z"
      },
      {
        "duration": 338,
        "start_time": "2023-01-04T08:24:34.844Z"
      },
      {
        "duration": 9,
        "start_time": "2023-01-04T08:24:37.439Z"
      },
      {
        "duration": 14,
        "start_time": "2023-01-04T08:25:00.405Z"
      },
      {
        "duration": 9,
        "start_time": "2023-01-04T08:25:02.634Z"
      },
      {
        "duration": 13,
        "start_time": "2023-01-04T08:25:07.738Z"
      },
      {
        "duration": 14,
        "start_time": "2023-01-04T08:31:49.020Z"
      },
      {
        "duration": 10,
        "start_time": "2023-01-04T08:31:51.269Z"
      },
      {
        "duration": 13,
        "start_time": "2023-01-04T08:32:11.174Z"
      },
      {
        "duration": 11,
        "start_time": "2023-01-04T08:36:16.577Z"
      },
      {
        "duration": 20,
        "start_time": "2023-01-04T08:51:58.076Z"
      },
      {
        "duration": 390,
        "start_time": "2023-01-04T08:53:24.023Z"
      },
      {
        "duration": 352,
        "start_time": "2023-01-04T08:53:34.633Z"
      },
      {
        "duration": 355,
        "start_time": "2023-01-04T08:53:41.132Z"
      },
      {
        "duration": 9,
        "start_time": "2023-01-04T08:53:45.043Z"
      },
      {
        "duration": 76,
        "start_time": "2023-01-04T08:57:44.054Z"
      },
      {
        "duration": 7,
        "start_time": "2023-01-04T08:58:17.870Z"
      },
      {
        "duration": 91,
        "start_time": "2023-01-04T08:58:20.020Z"
      },
      {
        "duration": 4,
        "start_time": "2023-01-04T08:58:35.145Z"
      },
      {
        "duration": 7,
        "start_time": "2023-01-04T08:58:38.736Z"
      },
      {
        "duration": 329,
        "start_time": "2023-01-04T08:58:40.289Z"
      },
      {
        "duration": 12,
        "start_time": "2023-01-04T08:58:44.153Z"
      },
      {
        "duration": 123,
        "start_time": "2023-01-04T08:59:28.333Z"
      },
      {
        "duration": 91,
        "start_time": "2023-01-04T09:01:47.783Z"
      },
      {
        "duration": 4,
        "start_time": "2023-01-04T09:02:03.439Z"
      },
      {
        "duration": 113,
        "start_time": "2023-01-04T09:02:27.305Z"
      },
      {
        "duration": 5,
        "start_time": "2023-01-04T09:04:57.898Z"
      },
      {
        "duration": 116,
        "start_time": "2023-01-04T09:04:58.871Z"
      },
      {
        "duration": 4,
        "start_time": "2023-01-04T09:05:06.835Z"
      },
      {
        "duration": 113,
        "start_time": "2023-01-04T09:05:07.756Z"
      },
      {
        "duration": 6,
        "start_time": "2023-01-04T09:07:02.265Z"
      },
      {
        "duration": 350,
        "start_time": "2023-01-04T09:07:03.758Z"
      },
      {
        "duration": 176,
        "start_time": "2023-01-04T09:07:06.966Z"
      },
      {
        "duration": 4,
        "start_time": "2023-01-04T09:07:13.626Z"
      },
      {
        "duration": 115,
        "start_time": "2023-01-04T09:07:39.844Z"
      },
      {
        "duration": 244,
        "start_time": "2023-01-04T09:08:11.920Z"
      },
      {
        "duration": 6,
        "start_time": "2023-01-04T09:08:21.312Z"
      },
      {
        "duration": 100,
        "start_time": "2023-01-04T09:08:22.124Z"
      },
      {
        "duration": 111,
        "start_time": "2023-01-04T09:08:55.183Z"
      },
      {
        "duration": 347,
        "start_time": "2023-01-04T09:10:27.520Z"
      },
      {
        "duration": 9,
        "start_time": "2023-01-04T09:10:38.622Z"
      },
      {
        "duration": 119,
        "start_time": "2023-01-04T09:10:55.928Z"
      },
      {
        "duration": 357,
        "start_time": "2023-01-04T09:12:33.673Z"
      },
      {
        "duration": 9,
        "start_time": "2023-01-04T09:12:35.403Z"
      },
      {
        "duration": 4,
        "start_time": "2023-01-04T09:12:42.034Z"
      },
      {
        "duration": 112,
        "start_time": "2023-01-04T09:12:42.887Z"
      },
      {
        "duration": 4,
        "start_time": "2023-01-04T09:19:13.628Z"
      },
      {
        "duration": 113,
        "start_time": "2023-01-04T09:19:14.595Z"
      },
      {
        "duration": 10,
        "start_time": "2023-01-04T09:21:39.655Z"
      },
      {
        "duration": 94,
        "start_time": "2023-01-04T09:25:38.188Z"
      },
      {
        "duration": 5,
        "start_time": "2023-01-04T09:26:36.786Z"
      },
      {
        "duration": 126,
        "start_time": "2023-01-04T09:26:38.798Z"
      },
      {
        "duration": 9,
        "start_time": "2023-01-04T09:26:41.463Z"
      },
      {
        "duration": 37,
        "start_time": "2023-01-04T09:31:24.499Z"
      },
      {
        "duration": 9,
        "start_time": "2023-01-04T09:31:26.276Z"
      },
      {
        "duration": 116,
        "start_time": "2023-01-04T09:31:28.061Z"
      },
      {
        "duration": 12,
        "start_time": "2023-01-04T09:36:34.950Z"
      },
      {
        "duration": 5,
        "start_time": "2023-01-04T09:36:40.182Z"
      },
      {
        "duration": 16,
        "start_time": "2023-01-04T09:36:45.888Z"
      },
      {
        "duration": 12,
        "start_time": "2023-01-04T09:43:06.276Z"
      },
      {
        "duration": 9,
        "start_time": "2023-01-04T09:43:24.726Z"
      },
      {
        "duration": 4,
        "start_time": "2023-01-04T09:43:45.374Z"
      },
      {
        "duration": 20,
        "start_time": "2023-01-04T09:44:47.083Z"
      },
      {
        "duration": 1462,
        "start_time": "2023-01-04T09:45:31.904Z"
      },
      {
        "duration": 6,
        "start_time": "2023-01-04T09:45:37.579Z"
      },
      {
        "duration": 6,
        "start_time": "2023-01-04T09:45:55.320Z"
      },
      {
        "duration": 17,
        "start_time": "2023-01-04T09:46:11.259Z"
      },
      {
        "duration": 12,
        "start_time": "2023-01-04T09:46:17.330Z"
      },
      {
        "duration": 6,
        "start_time": "2023-01-04T09:46:18.578Z"
      },
      {
        "duration": 12,
        "start_time": "2023-01-04T09:46:23.734Z"
      },
      {
        "duration": 7,
        "start_time": "2023-01-04T09:51:11.738Z"
      },
      {
        "duration": 8,
        "start_time": "2023-01-04T09:51:16.242Z"
      },
      {
        "duration": 427,
        "start_time": "2023-01-04T09:51:37.301Z"
      },
      {
        "duration": 8,
        "start_time": "2023-01-04T09:51:39.042Z"
      },
      {
        "duration": 120,
        "start_time": "2023-01-04T09:53:20.757Z"
      },
      {
        "duration": 459,
        "start_time": "2023-01-04T09:53:25.830Z"
      },
      {
        "duration": 11,
        "start_time": "2023-01-04T09:53:27.471Z"
      },
      {
        "duration": 146,
        "start_time": "2023-01-04T09:56:41.985Z"
      },
      {
        "duration": 10,
        "start_time": "2023-01-04T09:56:51.403Z"
      },
      {
        "duration": 129,
        "start_time": "2023-01-04T09:56:54.411Z"
      },
      {
        "duration": 16,
        "start_time": "2023-01-04T09:59:00.705Z"
      },
      {
        "duration": 9,
        "start_time": "2023-01-04T09:59:02.553Z"
      },
      {
        "duration": 190,
        "start_time": "2023-01-04T10:00:59.186Z"
      },
      {
        "duration": 10,
        "start_time": "2023-01-04T10:01:03.005Z"
      },
      {
        "duration": 127,
        "start_time": "2023-01-04T10:01:07.160Z"
      },
      {
        "duration": 53,
        "start_time": "2023-01-04T10:03:25.670Z"
      },
      {
        "duration": 9,
        "start_time": "2023-01-04T10:03:29.464Z"
      },
      {
        "duration": 87,
        "start_time": "2023-01-04T10:03:36.445Z"
      },
      {
        "duration": 115,
        "start_time": "2023-01-04T10:03:43.197Z"
      },
      {
        "duration": 1730732,
        "start_time": "2023-01-04T10:06:34.829Z"
      },
      {
        "duration": 7,
        "start_time": "2023-01-04T10:40:28.443Z"
      },
      {
        "duration": 4,
        "start_time": "2023-01-04T10:40:44.514Z"
      },
      {
        "duration": 51,
        "start_time": "2023-01-04T10:40:44.520Z"
      },
      {
        "duration": 11,
        "start_time": "2023-01-04T10:40:44.573Z"
      },
      {
        "duration": 38,
        "start_time": "2023-01-04T10:40:44.585Z"
      },
      {
        "duration": 5,
        "start_time": "2023-01-04T10:40:44.625Z"
      },
      {
        "duration": 13,
        "start_time": "2023-01-04T10:40:44.631Z"
      },
      {
        "duration": 4,
        "start_time": "2023-01-04T10:40:44.645Z"
      },
      {
        "duration": 4,
        "start_time": "2023-01-04T10:40:44.651Z"
      },
      {
        "duration": 6,
        "start_time": "2023-01-04T10:40:44.656Z"
      },
      {
        "duration": 31,
        "start_time": "2023-01-04T10:40:44.664Z"
      },
      {
        "duration": 28,
        "start_time": "2023-01-04T10:40:44.696Z"
      },
      {
        "duration": 16,
        "start_time": "2023-01-04T10:40:44.725Z"
      },
      {
        "duration": 3,
        "start_time": "2023-01-04T10:40:44.744Z"
      },
      {
        "duration": 31,
        "start_time": "2023-01-04T10:40:44.749Z"
      },
      {
        "duration": 5,
        "start_time": "2023-01-04T10:40:44.781Z"
      },
      {
        "duration": 35,
        "start_time": "2023-01-04T10:40:44.787Z"
      },
      {
        "duration": 341,
        "start_time": "2023-01-04T10:40:44.824Z"
      },
      {
        "duration": 10,
        "start_time": "2023-01-04T10:40:45.166Z"
      },
      {
        "duration": 10,
        "start_time": "2023-01-04T10:40:45.178Z"
      },
      {
        "duration": 5,
        "start_time": "2023-01-04T10:40:57.804Z"
      },
      {
        "duration": 58,
        "start_time": "2023-01-04T10:40:57.811Z"
      },
      {
        "duration": 12,
        "start_time": "2023-01-04T10:40:57.871Z"
      },
      {
        "duration": 49,
        "start_time": "2023-01-04T10:40:57.885Z"
      },
      {
        "duration": 5,
        "start_time": "2023-01-04T10:40:57.936Z"
      },
      {
        "duration": 17,
        "start_time": "2023-01-04T10:40:57.943Z"
      },
      {
        "duration": 11,
        "start_time": "2023-01-04T10:40:57.962Z"
      },
      {
        "duration": 9,
        "start_time": "2023-01-04T10:40:57.974Z"
      },
      {
        "duration": 14,
        "start_time": "2023-01-04T10:40:57.985Z"
      },
      {
        "duration": 41,
        "start_time": "2023-01-04T10:40:58.002Z"
      },
      {
        "duration": 4,
        "start_time": "2023-01-04T10:40:58.045Z"
      },
      {
        "duration": 21,
        "start_time": "2023-01-04T10:40:58.051Z"
      },
      {
        "duration": 10,
        "start_time": "2023-01-04T10:40:58.074Z"
      },
      {
        "duration": 39,
        "start_time": "2023-01-04T10:40:58.086Z"
      },
      {
        "duration": 7,
        "start_time": "2023-01-04T10:40:58.127Z"
      },
      {
        "duration": 13,
        "start_time": "2023-01-04T10:40:58.136Z"
      },
      {
        "duration": 360,
        "start_time": "2023-01-04T10:40:58.150Z"
      },
      {
        "duration": 18,
        "start_time": "2023-01-04T10:40:58.511Z"
      },
      {
        "duration": 18,
        "start_time": "2023-01-04T10:40:58.530Z"
      },
      {
        "duration": 1757166,
        "start_time": "2023-01-04T10:40:58.549Z"
      },
      {
        "duration": 13,
        "start_time": "2023-01-04T11:10:15.716Z"
      },
      {
        "duration": 7,
        "start_time": "2023-01-04T11:10:15.731Z"
      },
      {
        "duration": 90,
        "start_time": "2023-01-04T11:10:15.740Z"
      },
      {
        "duration": 10,
        "start_time": "2023-01-04T11:10:15.922Z"
      },
      {
        "duration": 14,
        "start_time": "2023-01-04T11:10:15.933Z"
      },
      {
        "duration": 8,
        "start_time": "2023-01-04T11:10:15.949Z"
      },
      {
        "duration": 14,
        "start_time": "2023-01-04T11:10:15.958Z"
      },
      {
        "duration": 13,
        "start_time": "2023-01-04T11:10:15.976Z"
      },
      {
        "duration": 49,
        "start_time": "2023-01-04T11:10:15.990Z"
      },
      {
        "duration": 357,
        "start_time": "2023-01-04T11:10:16.040Z"
      },
      {
        "duration": 9,
        "start_time": "2023-01-04T11:10:16.399Z"
      },
      {
        "duration": 12,
        "start_time": "2023-01-04T11:10:16.409Z"
      },
      {
        "duration": 124,
        "start_time": "2023-01-04T11:10:16.423Z"
      },
      {
        "duration": 1744619,
        "start_time": "2023-01-04T11:10:16.548Z"
      },
      {
        "duration": 10,
        "start_time": "2023-01-04T11:39:21.169Z"
      },
      {
        "duration": 174,
        "start_time": "2023-01-04T11:39:21.181Z"
      },
      {
        "duration": 166,
        "start_time": "2023-01-04T11:39:21.357Z"
      },
      {
        "duration": 10,
        "start_time": "2023-01-04T11:39:21.525Z"
      },
      {
        "duration": 224,
        "start_time": "2023-01-04T11:39:21.537Z"
      },
      {
        "duration": 23,
        "start_time": "2023-01-04T11:39:21.763Z"
      },
      {
        "duration": 34,
        "start_time": "2023-01-04T11:39:21.788Z"
      },
      {
        "duration": 9,
        "start_time": "2023-01-04T11:39:21.824Z"
      },
      {
        "duration": 440,
        "start_time": "2023-01-04T11:39:21.835Z"
      },
      {
        "duration": 11,
        "start_time": "2023-01-04T11:39:22.277Z"
      },
      {
        "duration": 149,
        "start_time": "2023-01-04T11:39:22.290Z"
      },
      {
        "duration": 2443562,
        "start_time": "2023-01-04T11:39:22.441Z"
      },
      {
        "duration": 9,
        "start_time": "2023-01-04T12:20:06.005Z"
      },
      {
        "duration": 128,
        "start_time": "2023-01-04T12:20:06.024Z"
      },
      {
        "duration": 72,
        "start_time": "2023-01-04T12:20:06.154Z"
      },
      {
        "duration": 104,
        "start_time": "2023-01-04T12:20:06.228Z"
      },
      {
        "duration": 136,
        "start_time": "2023-01-04T12:20:06.334Z"
      },
      {
        "duration": 15,
        "start_time": "2023-01-04T12:20:06.471Z"
      },
      {
        "duration": 15,
        "start_time": "2023-01-04T12:20:06.487Z"
      },
      {
        "duration": 22,
        "start_time": "2023-01-04T12:20:06.503Z"
      },
      {
        "duration": 208,
        "start_time": "2023-01-04T12:20:06.526Z"
      },
      {
        "duration": 8,
        "start_time": "2023-01-04T12:20:06.736Z"
      },
      {
        "duration": 119,
        "start_time": "2023-01-04T12:20:06.746Z"
      },
      {
        "duration": 971978,
        "start_time": "2023-01-04T12:20:06.867Z"
      },
      {
        "duration": 9,
        "start_time": "2023-01-04T12:36:18.847Z"
      },
      {
        "duration": 130,
        "start_time": "2023-01-04T12:36:18.858Z"
      },
      {
        "duration": 133,
        "start_time": "2023-01-04T12:36:18.990Z"
      },
      {
        "duration": 96,
        "start_time": "2023-01-04T12:36:19.126Z"
      },
      {
        "duration": 137,
        "start_time": "2023-01-04T12:36:19.225Z"
      },
      {
        "duration": 13,
        "start_time": "2023-01-04T12:36:19.363Z"
      },
      {
        "duration": 1063180,
        "start_time": "2023-01-04T13:03:47.060Z"
      },
      {
        "duration": 4,
        "start_time": "2023-01-04T13:21:47.584Z"
      },
      {
        "duration": 62,
        "start_time": "2023-01-04T13:21:47.590Z"
      },
      {
        "duration": 12,
        "start_time": "2023-01-04T13:21:47.653Z"
      },
      {
        "duration": 40,
        "start_time": "2023-01-04T13:21:47.667Z"
      },
      {
        "duration": 31,
        "start_time": "2023-01-04T13:21:47.708Z"
      },
      {
        "duration": 15,
        "start_time": "2023-01-04T13:21:47.742Z"
      },
      {
        "duration": 5,
        "start_time": "2023-01-04T13:21:47.838Z"
      },
      {
        "duration": 8,
        "start_time": "2023-01-04T13:21:47.844Z"
      },
      {
        "duration": 13,
        "start_time": "2023-01-04T13:21:47.854Z"
      },
      {
        "duration": 36,
        "start_time": "2023-01-04T13:21:47.868Z"
      },
      {
        "duration": 5,
        "start_time": "2023-01-04T13:21:47.906Z"
      },
      {
        "duration": 27,
        "start_time": "2023-01-04T13:21:47.912Z"
      },
      {
        "duration": 3,
        "start_time": "2023-01-04T13:21:48.084Z"
      },
      {
        "duration": 50,
        "start_time": "2023-01-04T13:21:48.089Z"
      },
      {
        "duration": 5,
        "start_time": "2023-01-04T13:21:48.141Z"
      },
      {
        "duration": 8,
        "start_time": "2023-01-04T13:21:48.334Z"
      },
      {
        "duration": 372,
        "start_time": "2023-01-04T13:21:48.344Z"
      },
      {
        "duration": 18,
        "start_time": "2023-01-04T13:21:48.718Z"
      },
      {
        "duration": 9,
        "start_time": "2023-01-04T13:21:48.738Z"
      },
      {
        "duration": 1039276,
        "start_time": "2023-01-04T13:21:48.748Z"
      },
      {
        "duration": 10,
        "start_time": "2023-01-04T13:39:08.026Z"
      },
      {
        "duration": 13,
        "start_time": "2023-01-04T13:39:08.038Z"
      },
      {
        "duration": 70,
        "start_time": "2023-01-04T13:39:08.053Z"
      },
      {
        "duration": 98,
        "start_time": "2023-01-04T13:39:08.125Z"
      },
      {
        "duration": 18,
        "start_time": "2023-01-04T13:39:08.225Z"
      },
      {
        "duration": 20,
        "start_time": "2023-01-04T13:39:08.244Z"
      },
      {
        "duration": 26,
        "start_time": "2023-01-04T13:39:08.266Z"
      },
      {
        "duration": 24,
        "start_time": "2023-01-04T13:39:08.293Z"
      },
      {
        "duration": 23,
        "start_time": "2023-01-04T13:39:08.319Z"
      },
      {
        "duration": 359,
        "start_time": "2023-01-04T13:39:08.344Z"
      },
      {
        "duration": 18,
        "start_time": "2023-01-04T13:39:08.705Z"
      },
      {
        "duration": 5,
        "start_time": "2023-01-04T13:39:08.725Z"
      },
      {
        "duration": 141,
        "start_time": "2023-01-04T13:39:08.731Z"
      },
      {
        "duration": 632735,
        "start_time": "2023-01-04T13:39:08.874Z"
      },
      {
        "duration": 9,
        "start_time": "2023-01-04T13:49:41.611Z"
      },
      {
        "duration": 129,
        "start_time": "2023-01-04T13:49:41.622Z"
      },
      {
        "duration": 75,
        "start_time": "2023-01-04T13:49:41.753Z"
      },
      {
        "duration": 94,
        "start_time": "2023-01-04T13:49:41.830Z"
      },
      {
        "duration": 135,
        "start_time": "2023-01-04T13:49:41.926Z"
      },
      {
        "duration": 15,
        "start_time": "2023-01-04T13:49:42.063Z"
      },
      {
        "duration": 14,
        "start_time": "2023-01-04T13:49:42.079Z"
      },
      {
        "duration": 6,
        "start_time": "2023-01-04T13:49:42.094Z"
      },
      {
        "duration": 434,
        "start_time": "2023-01-04T13:49:42.101Z"
      },
      {
        "duration": 9,
        "start_time": "2023-01-04T13:49:42.536Z"
      },
      {
        "duration": 122,
        "start_time": "2023-01-04T13:49:42.546Z"
      },
      {
        "duration": 1423,
        "start_time": "2023-01-04T13:53:13.295Z"
      },
      {
        "duration": 61,
        "start_time": "2023-01-04T13:53:14.719Z"
      },
      {
        "duration": 15,
        "start_time": "2023-01-04T13:53:14.782Z"
      },
      {
        "duration": 53,
        "start_time": "2023-01-04T13:53:14.799Z"
      },
      {
        "duration": 5,
        "start_time": "2023-01-04T13:53:14.853Z"
      },
      {
        "duration": 15,
        "start_time": "2023-01-04T13:53:14.860Z"
      },
      {
        "duration": 4,
        "start_time": "2023-01-04T13:53:14.876Z"
      },
      {
        "duration": 5,
        "start_time": "2023-01-04T13:53:14.882Z"
      },
      {
        "duration": 8,
        "start_time": "2023-01-04T13:53:14.888Z"
      },
      {
        "duration": 31,
        "start_time": "2023-01-04T13:53:14.931Z"
      },
      {
        "duration": 4,
        "start_time": "2023-01-04T13:53:14.964Z"
      },
      {
        "duration": 13,
        "start_time": "2023-01-04T13:53:14.970Z"
      },
      {
        "duration": 4,
        "start_time": "2023-01-04T13:53:14.985Z"
      },
      {
        "duration": 56,
        "start_time": "2023-01-04T13:53:14.991Z"
      },
      {
        "duration": 6,
        "start_time": "2023-01-04T13:53:15.048Z"
      },
      {
        "duration": 6,
        "start_time": "2023-01-04T13:53:15.056Z"
      },
      {
        "duration": 370,
        "start_time": "2023-01-04T13:53:15.064Z"
      },
      {
        "duration": 10,
        "start_time": "2023-01-04T13:53:15.436Z"
      },
      {
        "duration": 7,
        "start_time": "2023-01-04T13:53:15.448Z"
      },
      {
        "duration": 1052500,
        "start_time": "2023-01-04T13:53:15.457Z"
      },
      {
        "duration": 10,
        "start_time": "2023-01-04T14:10:47.959Z"
      },
      {
        "duration": 18,
        "start_time": "2023-01-04T14:10:47.970Z"
      },
      {
        "duration": 233,
        "start_time": "2023-01-04T14:10:47.990Z"
      },
      {
        "duration": 10,
        "start_time": "2023-01-04T14:10:48.225Z"
      },
      {
        "duration": 14,
        "start_time": "2023-01-04T14:10:48.237Z"
      },
      {
        "duration": 9,
        "start_time": "2023-01-04T14:10:48.252Z"
      },
      {
        "duration": 15,
        "start_time": "2023-01-04T14:10:48.263Z"
      },
      {
        "duration": 44,
        "start_time": "2023-01-04T14:10:48.282Z"
      },
      {
        "duration": 24,
        "start_time": "2023-01-04T14:10:48.328Z"
      },
      {
        "duration": 369,
        "start_time": "2023-01-04T14:10:48.354Z"
      },
      {
        "duration": 10,
        "start_time": "2023-01-04T14:10:48.725Z"
      },
      {
        "duration": 5,
        "start_time": "2023-01-04T14:10:48.738Z"
      },
      {
        "duration": 163,
        "start_time": "2023-01-04T14:10:48.744Z"
      },
      {
        "duration": 1005844,
        "start_time": "2023-01-04T14:10:48.908Z"
      },
      {
        "duration": 15,
        "start_time": "2023-01-04T14:27:34.753Z"
      },
      {
        "duration": 189,
        "start_time": "2023-01-04T14:27:34.770Z"
      },
      {
        "duration": 269,
        "start_time": "2023-01-04T14:27:34.961Z"
      },
      {
        "duration": 92,
        "start_time": "2023-01-04T14:27:35.235Z"
      },
      {
        "duration": 140,
        "start_time": "2023-01-04T14:27:35.329Z"
      },
      {
        "duration": 15,
        "start_time": "2023-01-04T14:27:35.471Z"
      },
      {
        "duration": 39,
        "start_time": "2023-01-04T14:27:35.488Z"
      },
      {
        "duration": 13,
        "start_time": "2023-01-04T14:27:35.529Z"
      },
      {
        "duration": 458,
        "start_time": "2023-01-04T14:27:35.544Z"
      },
      {
        "duration": 17,
        "start_time": "2023-01-04T14:27:36.004Z"
      },
      {
        "duration": 128,
        "start_time": "2023-01-04T14:27:36.023Z"
      },
      {
        "duration": 1399382,
        "start_time": "2023-01-04T14:27:36.153Z"
      },
      {
        "duration": 9,
        "start_time": "2023-01-04T14:50:55.537Z"
      },
      {
        "duration": 127,
        "start_time": "2023-01-04T14:50:55.547Z"
      },
      {
        "duration": 148,
        "start_time": "2023-01-04T14:50:55.675Z"
      },
      {
        "duration": 12,
        "start_time": "2023-01-04T14:50:55.825Z"
      },
      {
        "duration": 150,
        "start_time": "2023-01-04T14:50:55.923Z"
      },
      {
        "duration": 16,
        "start_time": "2023-01-04T14:50:56.075Z"
      },
      {
        "duration": 25,
        "start_time": "2023-01-04T14:50:56.092Z"
      },
      {
        "duration": 6,
        "start_time": "2023-01-04T14:50:56.121Z"
      },
      {
        "duration": 202,
        "start_time": "2023-01-04T14:50:56.128Z"
      },
      {
        "duration": 13,
        "start_time": "2023-01-04T14:50:56.332Z"
      },
      {
        "duration": 130,
        "start_time": "2023-01-04T14:50:56.346Z"
      },
      {
        "duration": 555226,
        "start_time": "2023-01-04T14:50:56.477Z"
      },
      {
        "duration": 17,
        "start_time": "2023-01-04T15:00:11.705Z"
      },
      {
        "duration": 127,
        "start_time": "2023-01-04T15:00:11.723Z"
      },
      {
        "duration": 71,
        "start_time": "2023-01-04T15:00:11.853Z"
      },
      {
        "duration": 102,
        "start_time": "2023-01-04T15:00:11.925Z"
      },
      {
        "duration": 129,
        "start_time": "2023-01-04T15:00:12.028Z"
      },
      {
        "duration": 15,
        "start_time": "2023-01-04T15:00:12.158Z"
      },
      {
        "duration": 17,
        "start_time": "2023-01-04T15:23:38.969Z"
      },
      {
        "duration": 188,
        "start_time": "2023-01-04T15:36:42.206Z"
      },
      {
        "duration": 8,
        "start_time": "2023-01-04T15:37:18.632Z"
      },
      {
        "duration": 109,
        "start_time": "2023-01-04T15:43:03.187Z"
      },
      {
        "duration": 5,
        "start_time": "2023-01-04T15:43:19.362Z"
      },
      {
        "duration": 1426,
        "start_time": "2023-01-04T15:43:24.193Z"
      },
      {
        "duration": 2371,
        "start_time": "2023-01-04T15:43:35.230Z"
      },
      {
        "duration": 2483,
        "start_time": "2023-01-04T15:44:11.396Z"
      },
      {
        "duration": 3888,
        "start_time": "2023-01-04T15:44:22.781Z"
      },
      {
        "duration": 106,
        "start_time": "2023-01-04T15:45:48.133Z"
      },
      {
        "duration": 9,
        "start_time": "2023-01-04T15:45:49.527Z"
      },
      {
        "duration": 3676,
        "start_time": "2023-01-04T15:45:55.234Z"
      },
      {
        "duration": 2070,
        "start_time": "2023-01-04T15:46:37.803Z"
      },
      {
        "duration": 89,
        "start_time": "2023-01-04T15:47:35.423Z"
      },
      {
        "duration": 9,
        "start_time": "2023-01-04T15:47:36.871Z"
      },
      {
        "duration": 1811,
        "start_time": "2023-01-04T15:47:40.302Z"
      },
      {
        "duration": 17,
        "start_time": "2023-01-04T15:48:39.352Z"
      },
      {
        "duration": 9,
        "start_time": "2023-01-04T15:48:40.243Z"
      },
      {
        "duration": 280,
        "start_time": "2023-01-04T15:48:46.172Z"
      },
      {
        "duration": 17,
        "start_time": "2023-01-04T15:49:39.579Z"
      },
      {
        "duration": 9,
        "start_time": "2023-01-04T15:49:40.688Z"
      },
      {
        "duration": 279,
        "start_time": "2023-01-04T15:49:45.473Z"
      },
      {
        "duration": 21,
        "start_time": "2023-01-04T15:50:51.616Z"
      },
      {
        "duration": 9,
        "start_time": "2023-01-04T15:50:53.116Z"
      },
      {
        "duration": 307,
        "start_time": "2023-01-04T15:51:05.038Z"
      },
      {
        "duration": 311,
        "start_time": "2023-01-04T15:51:31.711Z"
      },
      {
        "duration": 116,
        "start_time": "2023-01-04T15:51:45.422Z"
      },
      {
        "duration": 9,
        "start_time": "2023-01-04T15:51:46.485Z"
      },
      {
        "duration": 2128,
        "start_time": "2023-01-04T15:51:49.235Z"
      },
      {
        "duration": 1318,
        "start_time": "2023-01-04T15:52:15.895Z"
      },
      {
        "duration": 1362,
        "start_time": "2023-01-04T15:52:30.079Z"
      },
      {
        "duration": 204,
        "start_time": "2023-01-04T15:55:01.904Z"
      },
      {
        "duration": 9,
        "start_time": "2023-01-04T15:55:06.839Z"
      },
      {
        "duration": 2341,
        "start_time": "2023-01-04T15:59:20.424Z"
      },
      {
        "duration": 4581,
        "start_time": "2023-01-04T15:59:38.955Z"
      },
      {
        "duration": 2516,
        "start_time": "2023-01-04T16:00:00.761Z"
      },
      {
        "duration": 187,
        "start_time": "2023-01-04T16:04:36.254Z"
      },
      {
        "duration": 9,
        "start_time": "2023-01-04T16:04:40.738Z"
      },
      {
        "duration": 2334,
        "start_time": "2023-01-04T16:04:50.479Z"
      },
      {
        "duration": 105,
        "start_time": "2023-01-04T16:05:11.140Z"
      },
      {
        "duration": 8,
        "start_time": "2023-01-04T16:05:12.419Z"
      },
      {
        "duration": 1377,
        "start_time": "2023-01-04T16:05:30.325Z"
      },
      {
        "duration": 39830,
        "start_time": "2023-01-04T16:12:59.533Z"
      },
      {
        "duration": 152,
        "start_time": "2023-01-04T16:14:30.679Z"
      },
      {
        "duration": 67927,
        "start_time": "2023-01-04T16:14:49.892Z"
      },
      {
        "duration": 188,
        "start_time": "2023-01-04T16:16:02.242Z"
      },
      {
        "duration": 2200,
        "start_time": "2023-01-04T16:16:44.532Z"
      },
      {
        "duration": 95532,
        "start_time": "2023-01-04T16:16:59.865Z"
      },
      {
        "duration": 250,
        "start_time": "2023-01-04T16:18:47.934Z"
      },
      {
        "duration": 3058,
        "start_time": "2023-01-04T16:18:51.576Z"
      },
      {
        "duration": 3088116,
        "start_time": "2023-01-04T16:19:37.517Z"
      },
      {
        "duration": 2785,
        "start_time": "2023-01-04T17:12:26.386Z"
      },
      {
        "duration": 1904167,
        "start_time": "2023-01-04T17:12:39.706Z"
      },
      {
        "duration": 214,
        "start_time": "2023-01-04T17:44:30.712Z"
      },
      {
        "duration": 2500,
        "start_time": "2023-01-04T17:44:50.083Z"
      },
      {
        "duration": 43007,
        "start_time": "2023-01-04T17:45:29.388Z"
      },
      {
        "duration": 1411,
        "start_time": "2023-01-04T17:53:51.857Z"
      },
      {
        "duration": 104,
        "start_time": "2023-01-04T17:53:53.271Z"
      },
      {
        "duration": 17,
        "start_time": "2023-01-04T17:53:55.011Z"
      },
      {
        "duration": 48,
        "start_time": "2023-01-04T17:53:56.332Z"
      },
      {
        "duration": 10,
        "start_time": "2023-01-04T17:53:57.459Z"
      },
      {
        "duration": 11,
        "start_time": "2023-01-04T17:54:00.417Z"
      },
      {
        "duration": 4,
        "start_time": "2023-01-04T17:54:01.454Z"
      },
      {
        "duration": 6,
        "start_time": "2023-01-04T17:54:02.193Z"
      },
      {
        "duration": 4,
        "start_time": "2023-01-04T17:54:05.100Z"
      },
      {
        "duration": 36,
        "start_time": "2023-01-04T17:54:10.305Z"
      },
      {
        "duration": 5,
        "start_time": "2023-01-04T17:54:12.297Z"
      },
      {
        "duration": 12,
        "start_time": "2023-01-04T17:54:12.662Z"
      },
      {
        "duration": 3,
        "start_time": "2023-01-04T17:54:13.345Z"
      },
      {
        "duration": 25,
        "start_time": "2023-01-04T17:54:25.218Z"
      },
      {
        "duration": 7,
        "start_time": "2023-01-04T17:54:29.176Z"
      },
      {
        "duration": 8,
        "start_time": "2023-01-04T17:54:32.354Z"
      },
      {
        "duration": 319,
        "start_time": "2023-01-04T17:56:06.640Z"
      },
      {
        "duration": 9,
        "start_time": "2023-01-04T17:56:09.188Z"
      },
      {
        "duration": 9,
        "start_time": "2023-01-04T17:56:11.501Z"
      },
      {
        "duration": 7,
        "start_time": "2023-01-04T17:56:18.069Z"
      },
      {
        "duration": 42,
        "start_time": "2023-01-04T17:56:18.999Z"
      },
      {
        "duration": 9,
        "start_time": "2023-01-04T17:56:20.426Z"
      },
      {
        "duration": 345,
        "start_time": "2023-01-04T17:56:31.962Z"
      },
      {
        "duration": 11,
        "start_time": "2023-01-04T17:56:33.818Z"
      },
      {
        "duration": 4,
        "start_time": "2023-01-04T17:56:38.948Z"
      },
      {
        "duration": 119,
        "start_time": "2023-01-04T17:56:53.288Z"
      },
      {
        "duration": 146,
        "start_time": "2023-01-04T17:57:01.774Z"
      },
      {
        "duration": 11,
        "start_time": "2023-01-04T17:57:03.021Z"
      },
      {
        "duration": 116,
        "start_time": "2023-01-04T17:57:03.839Z"
      },
      {
        "duration": 13,
        "start_time": "2023-01-04T17:57:18.167Z"
      },
      {
        "duration": 6,
        "start_time": "2023-01-04T17:57:19.708Z"
      },
      {
        "duration": 469,
        "start_time": "2023-01-04T17:57:23.446Z"
      },
      {
        "duration": 11,
        "start_time": "2023-01-04T17:57:24.851Z"
      },
      {
        "duration": 111,
        "start_time": "2023-01-04T17:57:26.743Z"
      },
      {
        "duration": 141,
        "start_time": "2023-01-04T17:57:31.982Z"
      },
      {
        "duration": 8,
        "start_time": "2023-01-04T17:57:33.096Z"
      },
      {
        "duration": 132,
        "start_time": "2023-01-04T17:57:34.009Z"
      },
      {
        "duration": 10,
        "start_time": "2023-01-04T17:57:38.981Z"
      },
      {
        "duration": 7,
        "start_time": "2023-01-04T17:57:40.632Z"
      },
      {
        "duration": 208,
        "start_time": "2023-01-04T17:57:44.103Z"
      },
      {
        "duration": 9,
        "start_time": "2023-01-04T17:57:45.206Z"
      },
      {
        "duration": 109,
        "start_time": "2023-01-04T17:57:46.811Z"
      },
      {
        "duration": 72,
        "start_time": "2023-01-04T17:57:59.146Z"
      },
      {
        "duration": 12,
        "start_time": "2023-01-04T17:58:00.355Z"
      },
      {
        "duration": 207,
        "start_time": "2023-01-04T17:58:01.392Z"
      },
      {
        "duration": 912726,
        "start_time": "2023-01-04T17:58:36.545Z"
      },
      {
        "duration": 111,
        "start_time": "2023-01-04T18:13:58.089Z"
      },
      {
        "duration": 1291,
        "start_time": "2023-01-04T18:14:05.963Z"
      },
      {
        "duration": 2689,
        "start_time": "2023-01-04T18:14:24.171Z"
      },
      {
        "duration": 5106,
        "start_time": "2023-01-04T18:14:34.695Z"
      },
      {
        "duration": 50990,
        "start_time": "2023-01-04T18:19:53.451Z"
      },
      {
        "duration": 4,
        "start_time": "2023-01-04T18:20:47.939Z"
      },
      {
        "duration": 54,
        "start_time": "2023-01-04T18:20:47.945Z"
      },
      {
        "duration": 10,
        "start_time": "2023-01-04T18:20:48.000Z"
      },
      {
        "duration": 37,
        "start_time": "2023-01-04T18:20:48.012Z"
      },
      {
        "duration": 6,
        "start_time": "2023-01-04T18:20:48.051Z"
      },
      {
        "duration": 20,
        "start_time": "2023-01-04T18:20:48.058Z"
      },
      {
        "duration": 35,
        "start_time": "2023-01-04T18:20:48.080Z"
      },
      {
        "duration": 4,
        "start_time": "2023-01-04T18:20:48.116Z"
      },
      {
        "duration": 7,
        "start_time": "2023-01-04T18:20:48.122Z"
      },
      {
        "duration": 25,
        "start_time": "2023-01-04T18:20:48.131Z"
      },
      {
        "duration": 4,
        "start_time": "2023-01-04T18:20:48.157Z"
      },
      {
        "duration": 14,
        "start_time": "2023-01-04T18:20:48.162Z"
      },
      {
        "duration": 8,
        "start_time": "2023-01-04T18:20:48.177Z"
      },
      {
        "duration": 48,
        "start_time": "2023-01-04T18:20:48.187Z"
      },
      {
        "duration": 4,
        "start_time": "2023-01-04T18:20:48.237Z"
      },
      {
        "duration": 7,
        "start_time": "2023-01-04T18:20:48.242Z"
      },
      {
        "duration": 330,
        "start_time": "2023-01-04T18:20:48.251Z"
      },
      {
        "duration": 8,
        "start_time": "2023-01-04T18:20:48.582Z"
      },
      {
        "duration": 28,
        "start_time": "2023-01-04T18:20:48.592Z"
      },
      {
        "duration": 509723,
        "start_time": "2023-01-04T18:20:48.622Z"
      },
      {
        "duration": 8,
        "start_time": "2023-01-04T18:29:18.346Z"
      },
      {
        "duration": 0,
        "start_time": "2023-01-04T18:29:18.356Z"
      },
      {
        "duration": 0,
        "start_time": "2023-01-04T18:29:18.357Z"
      },
      {
        "duration": 0,
        "start_time": "2023-01-04T18:29:18.358Z"
      },
      {
        "duration": 0,
        "start_time": "2023-01-04T18:29:18.359Z"
      },
      {
        "duration": 0,
        "start_time": "2023-01-04T18:29:18.360Z"
      },
      {
        "duration": 0,
        "start_time": "2023-01-04T18:29:18.361Z"
      },
      {
        "duration": 0,
        "start_time": "2023-01-04T18:29:18.362Z"
      },
      {
        "duration": 0,
        "start_time": "2023-01-04T18:29:18.363Z"
      },
      {
        "duration": 0,
        "start_time": "2023-01-04T18:29:18.364Z"
      },
      {
        "duration": 0,
        "start_time": "2023-01-04T18:29:18.366Z"
      },
      {
        "duration": 0,
        "start_time": "2023-01-04T18:29:18.367Z"
      },
      {
        "duration": 0,
        "start_time": "2023-01-04T18:29:18.368Z"
      },
      {
        "duration": 0,
        "start_time": "2023-01-04T18:29:18.369Z"
      },
      {
        "duration": 0,
        "start_time": "2023-01-04T18:29:18.370Z"
      },
      {
        "duration": 0,
        "start_time": "2023-01-04T18:29:18.371Z"
      },
      {
        "duration": 0,
        "start_time": "2023-01-04T18:29:18.372Z"
      },
      {
        "duration": 0,
        "start_time": "2023-01-04T18:29:18.373Z"
      },
      {
        "duration": 1,
        "start_time": "2023-01-04T18:29:18.373Z"
      },
      {
        "duration": 0,
        "start_time": "2023-01-04T18:29:18.375Z"
      },
      {
        "duration": 0,
        "start_time": "2023-01-04T18:29:18.375Z"
      },
      {
        "duration": 0,
        "start_time": "2023-01-04T18:29:18.376Z"
      },
      {
        "duration": 0,
        "start_time": "2023-01-04T18:29:18.377Z"
      },
      {
        "duration": 0,
        "start_time": "2023-01-04T18:29:18.378Z"
      },
      {
        "duration": 0,
        "start_time": "2023-01-04T18:29:18.379Z"
      },
      {
        "duration": 0,
        "start_time": "2023-01-04T18:29:18.381Z"
      },
      {
        "duration": 0,
        "start_time": "2023-01-04T18:29:18.416Z"
      },
      {
        "duration": 0,
        "start_time": "2023-01-04T18:29:18.417Z"
      },
      {
        "duration": 0,
        "start_time": "2023-01-04T18:29:18.418Z"
      },
      {
        "duration": 0,
        "start_time": "2023-01-04T18:29:18.419Z"
      },
      {
        "duration": 0,
        "start_time": "2023-01-04T18:29:18.420Z"
      },
      {
        "duration": 0,
        "start_time": "2023-01-04T18:29:18.421Z"
      },
      {
        "duration": 0,
        "start_time": "2023-01-04T18:29:18.422Z"
      },
      {
        "duration": 0,
        "start_time": "2023-01-04T18:29:18.423Z"
      },
      {
        "duration": 0,
        "start_time": "2023-01-04T18:29:18.425Z"
      },
      {
        "duration": 0,
        "start_time": "2023-01-04T18:29:18.426Z"
      },
      {
        "duration": 0,
        "start_time": "2023-01-04T18:29:18.427Z"
      },
      {
        "duration": 0,
        "start_time": "2023-01-04T18:29:18.428Z"
      },
      {
        "duration": 0,
        "start_time": "2023-01-04T18:29:18.429Z"
      },
      {
        "duration": 0,
        "start_time": "2023-01-04T18:29:18.430Z"
      },
      {
        "duration": 0,
        "start_time": "2023-01-04T18:29:18.431Z"
      },
      {
        "duration": 0,
        "start_time": "2023-01-04T18:29:18.432Z"
      },
      {
        "duration": 0,
        "start_time": "2023-01-04T18:29:18.433Z"
      },
      {
        "duration": 0,
        "start_time": "2023-01-04T18:29:18.434Z"
      },
      {
        "duration": 0,
        "start_time": "2023-01-04T18:29:18.435Z"
      },
      {
        "duration": 0,
        "start_time": "2023-01-04T18:29:18.436Z"
      },
      {
        "duration": 0,
        "start_time": "2023-01-04T18:29:18.437Z"
      },
      {
        "duration": 0,
        "start_time": "2023-01-04T18:29:18.438Z"
      },
      {
        "duration": 0,
        "start_time": "2023-01-04T18:29:18.439Z"
      },
      {
        "duration": 0,
        "start_time": "2023-01-04T18:29:18.440Z"
      },
      {
        "duration": 0,
        "start_time": "2023-01-04T18:29:18.441Z"
      },
      {
        "duration": 0,
        "start_time": "2023-01-04T18:29:18.442Z"
      },
      {
        "duration": 0,
        "start_time": "2023-01-04T18:29:18.443Z"
      },
      {
        "duration": 0,
        "start_time": "2023-01-04T18:29:18.444Z"
      },
      {
        "duration": 5,
        "start_time": "2023-01-04T18:29:52.901Z"
      },
      {
        "duration": 57,
        "start_time": "2023-01-04T18:29:52.907Z"
      },
      {
        "duration": 11,
        "start_time": "2023-01-04T18:29:52.966Z"
      },
      {
        "duration": 46,
        "start_time": "2023-01-04T18:29:52.979Z"
      },
      {
        "duration": 5,
        "start_time": "2023-01-04T18:29:53.027Z"
      },
      {
        "duration": 14,
        "start_time": "2023-01-04T18:29:53.034Z"
      },
      {
        "duration": 4,
        "start_time": "2023-01-04T18:29:53.050Z"
      },
      {
        "duration": 13,
        "start_time": "2023-01-04T18:29:53.055Z"
      },
      {
        "duration": 7,
        "start_time": "2023-01-04T18:29:53.070Z"
      },
      {
        "duration": 50,
        "start_time": "2023-01-04T18:29:53.080Z"
      },
      {
        "duration": 4,
        "start_time": "2023-01-04T18:29:53.131Z"
      },
      {
        "duration": 25,
        "start_time": "2023-01-04T18:29:53.136Z"
      },
      {
        "duration": 4,
        "start_time": "2023-01-04T18:29:53.162Z"
      },
      {
        "duration": 31,
        "start_time": "2023-01-04T18:29:53.168Z"
      },
      {
        "duration": 17,
        "start_time": "2023-01-04T18:29:53.201Z"
      },
      {
        "duration": 10,
        "start_time": "2023-01-04T18:29:53.219Z"
      },
      {
        "duration": 330,
        "start_time": "2023-01-04T18:29:53.230Z"
      },
      {
        "duration": 11,
        "start_time": "2023-01-04T18:29:53.562Z"
      },
      {
        "duration": 8,
        "start_time": "2023-01-04T18:29:53.575Z"
      },
      {
        "duration": 1240988,
        "start_time": "2023-01-04T18:29:53.584Z"
      },
      {
        "duration": 7,
        "start_time": "2023-01-04T18:50:34.573Z"
      },
      {
        "duration": 0,
        "start_time": "2023-01-04T18:50:34.582Z"
      },
      {
        "duration": 0,
        "start_time": "2023-01-04T18:50:34.583Z"
      },
      {
        "duration": 0,
        "start_time": "2023-01-04T18:50:34.584Z"
      },
      {
        "duration": 0,
        "start_time": "2023-01-04T18:50:34.585Z"
      },
      {
        "duration": 0,
        "start_time": "2023-01-04T18:50:34.587Z"
      },
      {
        "duration": 0,
        "start_time": "2023-01-04T18:50:34.587Z"
      },
      {
        "duration": 0,
        "start_time": "2023-01-04T18:50:34.588Z"
      },
      {
        "duration": 0,
        "start_time": "2023-01-04T18:50:34.589Z"
      },
      {
        "duration": 0,
        "start_time": "2023-01-04T18:50:34.590Z"
      },
      {
        "duration": 0,
        "start_time": "2023-01-04T18:50:34.591Z"
      },
      {
        "duration": 0,
        "start_time": "2023-01-04T18:50:34.592Z"
      },
      {
        "duration": 0,
        "start_time": "2023-01-04T18:50:34.593Z"
      },
      {
        "duration": 0,
        "start_time": "2023-01-04T18:50:34.594Z"
      },
      {
        "duration": 0,
        "start_time": "2023-01-04T18:50:34.595Z"
      },
      {
        "duration": 0,
        "start_time": "2023-01-04T18:50:34.596Z"
      },
      {
        "duration": 1,
        "start_time": "2023-01-04T18:50:34.596Z"
      },
      {
        "duration": 0,
        "start_time": "2023-01-04T18:50:34.597Z"
      },
      {
        "duration": 0,
        "start_time": "2023-01-04T18:50:34.598Z"
      },
      {
        "duration": 0,
        "start_time": "2023-01-04T18:50:34.599Z"
      },
      {
        "duration": 0,
        "start_time": "2023-01-04T18:50:34.600Z"
      },
      {
        "duration": 0,
        "start_time": "2023-01-04T18:50:34.601Z"
      },
      {
        "duration": 0,
        "start_time": "2023-01-04T18:50:34.602Z"
      },
      {
        "duration": 0,
        "start_time": "2023-01-04T18:50:34.603Z"
      },
      {
        "duration": 0,
        "start_time": "2023-01-04T18:50:34.604Z"
      },
      {
        "duration": 0,
        "start_time": "2023-01-04T18:50:34.605Z"
      },
      {
        "duration": 0,
        "start_time": "2023-01-04T18:50:34.606Z"
      },
      {
        "duration": 0,
        "start_time": "2023-01-04T18:50:34.607Z"
      },
      {
        "duration": 0,
        "start_time": "2023-01-04T18:50:34.615Z"
      },
      {
        "duration": 0,
        "start_time": "2023-01-04T18:50:34.616Z"
      },
      {
        "duration": 0,
        "start_time": "2023-01-04T18:50:34.617Z"
      },
      {
        "duration": 0,
        "start_time": "2023-01-04T18:50:34.618Z"
      },
      {
        "duration": 0,
        "start_time": "2023-01-04T18:50:34.619Z"
      },
      {
        "duration": 0,
        "start_time": "2023-01-04T18:50:34.620Z"
      },
      {
        "duration": 0,
        "start_time": "2023-01-04T18:50:34.621Z"
      },
      {
        "duration": 0,
        "start_time": "2023-01-04T18:50:34.622Z"
      },
      {
        "duration": 0,
        "start_time": "2023-01-04T18:50:34.623Z"
      },
      {
        "duration": 0,
        "start_time": "2023-01-04T18:50:34.624Z"
      },
      {
        "duration": 0,
        "start_time": "2023-01-04T18:50:34.625Z"
      },
      {
        "duration": 0,
        "start_time": "2023-01-04T18:50:34.626Z"
      },
      {
        "duration": 0,
        "start_time": "2023-01-04T18:50:34.627Z"
      },
      {
        "duration": 0,
        "start_time": "2023-01-04T18:50:34.628Z"
      },
      {
        "duration": 0,
        "start_time": "2023-01-04T18:50:34.629Z"
      },
      {
        "duration": 0,
        "start_time": "2023-01-04T18:50:34.630Z"
      },
      {
        "duration": 0,
        "start_time": "2023-01-04T18:50:34.631Z"
      },
      {
        "duration": 0,
        "start_time": "2023-01-04T18:50:34.632Z"
      },
      {
        "duration": 0,
        "start_time": "2023-01-04T18:50:34.633Z"
      },
      {
        "duration": 0,
        "start_time": "2023-01-04T18:50:34.633Z"
      },
      {
        "duration": 0,
        "start_time": "2023-01-04T18:50:34.634Z"
      },
      {
        "duration": 0,
        "start_time": "2023-01-04T18:50:34.635Z"
      },
      {
        "duration": 0,
        "start_time": "2023-01-04T18:50:34.636Z"
      },
      {
        "duration": 0,
        "start_time": "2023-01-04T18:50:34.637Z"
      },
      {
        "duration": 0,
        "start_time": "2023-01-04T18:50:34.638Z"
      },
      {
        "duration": 0,
        "start_time": "2023-01-04T18:50:34.639Z"
      },
      {
        "duration": 4,
        "start_time": "2023-01-04T18:50:44.376Z"
      },
      {
        "duration": 64,
        "start_time": "2023-01-04T18:50:44.382Z"
      },
      {
        "duration": 11,
        "start_time": "2023-01-04T18:50:44.448Z"
      },
      {
        "duration": 55,
        "start_time": "2023-01-04T18:50:44.460Z"
      },
      {
        "duration": 5,
        "start_time": "2023-01-04T18:50:44.516Z"
      },
      {
        "duration": 11,
        "start_time": "2023-01-04T18:50:44.522Z"
      },
      {
        "duration": 4,
        "start_time": "2023-01-04T18:50:44.534Z"
      },
      {
        "duration": 5,
        "start_time": "2023-01-04T18:50:44.539Z"
      },
      {
        "duration": 5,
        "start_time": "2023-01-04T18:50:44.545Z"
      },
      {
        "duration": 23,
        "start_time": "2023-01-04T18:50:44.553Z"
      },
      {
        "duration": 4,
        "start_time": "2023-01-04T18:50:44.577Z"
      },
      {
        "duration": 42,
        "start_time": "2023-01-04T18:50:44.582Z"
      },
      {
        "duration": 3,
        "start_time": "2023-01-04T18:50:44.626Z"
      },
      {
        "duration": 35,
        "start_time": "2023-01-04T18:50:44.631Z"
      },
      {
        "duration": 5,
        "start_time": "2023-01-04T18:50:44.668Z"
      },
      {
        "duration": 7,
        "start_time": "2023-01-04T18:50:44.674Z"
      },
      {
        "duration": 342,
        "start_time": "2023-01-04T18:50:44.682Z"
      },
      {
        "duration": 9,
        "start_time": "2023-01-04T18:50:45.026Z"
      },
      {
        "duration": 7,
        "start_time": "2023-01-04T18:50:45.037Z"
      },
      {
        "duration": 1306073,
        "start_time": "2023-01-04T18:50:45.046Z"
      },
      {
        "duration": 9,
        "start_time": "2023-01-04T19:12:31.121Z"
      },
      {
        "duration": 27,
        "start_time": "2023-01-04T19:12:31.131Z"
      },
      {
        "duration": 64,
        "start_time": "2023-01-04T19:12:31.160Z"
      },
      {
        "duration": 195,
        "start_time": "2023-01-04T19:12:31.226Z"
      },
      {
        "duration": 11,
        "start_time": "2023-01-04T19:12:31.423Z"
      },
      {
        "duration": 11,
        "start_time": "2023-01-04T19:12:31.436Z"
      },
      {
        "duration": 15,
        "start_time": "2023-01-04T19:12:31.448Z"
      },
      {
        "duration": 12,
        "start_time": "2023-01-04T19:12:31.468Z"
      },
      {
        "duration": 37,
        "start_time": "2023-01-04T19:12:31.482Z"
      },
      {
        "duration": 333,
        "start_time": "2023-01-04T19:12:31.520Z"
      },
      {
        "duration": 8,
        "start_time": "2023-01-04T19:12:31.854Z"
      },
      {
        "duration": 6,
        "start_time": "2023-01-04T19:12:31.864Z"
      },
      {
        "duration": 113,
        "start_time": "2023-01-04T19:12:31.871Z"
      },
      {
        "duration": 1311664,
        "start_time": "2023-01-04T19:12:31.986Z"
      },
      {
        "duration": 8,
        "start_time": "2023-01-04T19:34:23.652Z"
      },
      {
        "duration": 133,
        "start_time": "2023-01-04T19:34:23.662Z"
      },
      {
        "duration": 124,
        "start_time": "2023-01-04T19:34:23.796Z"
      },
      {
        "duration": 100,
        "start_time": "2023-01-04T19:34:23.921Z"
      },
      {
        "duration": 131,
        "start_time": "2023-01-04T19:34:24.023Z"
      },
      {
        "duration": 14,
        "start_time": "2023-01-04T19:34:24.155Z"
      },
      {
        "duration": 13,
        "start_time": "2023-01-04T19:34:24.171Z"
      },
      {
        "duration": 5,
        "start_time": "2023-01-04T19:34:24.185Z"
      },
      {
        "duration": 411,
        "start_time": "2023-01-04T19:34:24.192Z"
      },
      {
        "duration": 14,
        "start_time": "2023-01-04T19:34:24.605Z"
      },
      {
        "duration": 131,
        "start_time": "2023-01-04T19:34:24.621Z"
      },
      {
        "duration": 1788547,
        "start_time": "2023-01-04T19:34:24.753Z"
      },
      {
        "duration": 9,
        "start_time": "2023-01-04T20:04:13.301Z"
      },
      {
        "duration": 108,
        "start_time": "2023-01-04T20:04:13.315Z"
      },
      {
        "duration": 100,
        "start_time": "2023-01-04T20:04:13.425Z"
      },
      {
        "duration": 9,
        "start_time": "2023-01-04T20:04:13.616Z"
      },
      {
        "duration": 116,
        "start_time": "2023-01-04T20:04:13.626Z"
      },
      {
        "duration": 13,
        "start_time": "2023-01-04T20:04:13.744Z"
      },
      {
        "duration": 10,
        "start_time": "2023-01-04T20:04:13.758Z"
      },
      {
        "duration": 5,
        "start_time": "2023-01-04T20:04:13.769Z"
      },
      {
        "duration": 193,
        "start_time": "2023-01-04T20:04:13.775Z"
      },
      {
        "duration": 8,
        "start_time": "2023-01-04T20:04:13.970Z"
      },
      {
        "duration": 120,
        "start_time": "2023-01-04T20:04:13.979Z"
      },
      {
        "duration": 705296,
        "start_time": "2023-01-04T20:04:14.100Z"
      },
      {
        "duration": 9,
        "start_time": "2023-01-04T20:15:59.397Z"
      },
      {
        "duration": 116,
        "start_time": "2023-01-04T20:15:59.407Z"
      },
      {
        "duration": 22,
        "start_time": "2023-01-04T20:15:59.524Z"
      },
      {
        "duration": 78,
        "start_time": "2023-01-04T20:15:59.547Z"
      },
      {
        "duration": 214,
        "start_time": "2023-01-04T20:15:59.627Z"
      },
      {
        "duration": 13,
        "start_time": "2023-01-04T20:15:59.843Z"
      },
      {
        "duration": 16,
        "start_time": "2023-01-04T20:15:59.858Z"
      },
      {
        "duration": 496918,
        "start_time": "2023-01-04T20:15:59.875Z"
      },
      {
        "duration": 0,
        "start_time": "2023-01-04T20:24:16.795Z"
      },
      {
        "duration": 0,
        "start_time": "2023-01-04T20:24:16.796Z"
      },
      {
        "duration": 0,
        "start_time": "2023-01-04T20:24:16.797Z"
      },
      {
        "duration": 0,
        "start_time": "2023-01-04T20:24:16.798Z"
      },
      {
        "duration": 0,
        "start_time": "2023-01-04T20:24:16.815Z"
      },
      {
        "duration": 0,
        "start_time": "2023-01-04T20:24:16.816Z"
      },
      {
        "duration": 0,
        "start_time": "2023-01-04T20:24:16.817Z"
      },
      {
        "duration": 0,
        "start_time": "2023-01-04T20:24:16.818Z"
      },
      {
        "duration": 153,
        "start_time": "2023-01-04T20:24:21.694Z"
      },
      {
        "duration": 9,
        "start_time": "2023-01-04T20:24:25.169Z"
      },
      {
        "duration": 1913,
        "start_time": "2023-01-04T20:24:29.524Z"
      },
      {
        "duration": 117488,
        "start_time": "2023-01-04T20:26:10.381Z"
      },
      {
        "duration": 100,
        "start_time": "2023-01-04T20:29:02.520Z"
      },
      {
        "duration": 4329,
        "start_time": "2023-01-04T20:29:05.649Z"
      },
      {
        "duration": 11301,
        "start_time": "2023-01-04T20:30:49.716Z"
      },
      {
        "duration": 734,
        "start_time": "2023-01-04T20:33:56.746Z"
      },
      {
        "duration": 1300194,
        "start_time": "2023-01-04T20:38:03.790Z"
      },
      {
        "duration": 1569,
        "start_time": "2023-01-05T05:41:02.395Z"
      },
      {
        "duration": 90,
        "start_time": "2023-01-05T05:41:03.966Z"
      },
      {
        "duration": 12,
        "start_time": "2023-01-05T05:41:04.057Z"
      },
      {
        "duration": 41,
        "start_time": "2023-01-05T05:41:04.070Z"
      },
      {
        "duration": 5,
        "start_time": "2023-01-05T05:41:04.113Z"
      },
      {
        "duration": 17,
        "start_time": "2023-01-05T05:41:04.119Z"
      },
      {
        "duration": 4,
        "start_time": "2023-01-05T05:41:04.137Z"
      },
      {
        "duration": 10,
        "start_time": "2023-01-05T05:41:04.143Z"
      },
      {
        "duration": 7,
        "start_time": "2023-01-05T05:41:04.155Z"
      },
      {
        "duration": 39,
        "start_time": "2023-01-05T05:41:04.163Z"
      },
      {
        "duration": 4,
        "start_time": "2023-01-05T05:41:04.204Z"
      },
      {
        "duration": 15,
        "start_time": "2023-01-05T05:41:04.209Z"
      },
      {
        "duration": 7,
        "start_time": "2023-01-05T05:41:04.226Z"
      },
      {
        "duration": 45,
        "start_time": "2023-01-05T05:41:04.236Z"
      },
      {
        "duration": 6,
        "start_time": "2023-01-05T05:41:04.282Z"
      },
      {
        "duration": 7,
        "start_time": "2023-01-05T05:41:04.290Z"
      },
      {
        "duration": 359,
        "start_time": "2023-01-05T05:41:04.298Z"
      },
      {
        "duration": 18,
        "start_time": "2023-01-05T05:41:04.659Z"
      },
      {
        "duration": 8,
        "start_time": "2023-01-05T05:41:04.680Z"
      },
      {
        "duration": 1378291,
        "start_time": "2023-01-05T05:41:04.689Z"
      },
      {
        "duration": 10,
        "start_time": "2023-01-05T06:04:02.981Z"
      },
      {
        "duration": 11,
        "start_time": "2023-01-05T06:04:02.992Z"
      },
      {
        "duration": 80,
        "start_time": "2023-01-05T06:04:03.005Z"
      },
      {
        "duration": 95,
        "start_time": "2023-01-05T06:04:03.087Z"
      },
      {
        "duration": 15,
        "start_time": "2023-01-05T06:04:03.183Z"
      },
      {
        "duration": 9,
        "start_time": "2023-01-05T06:04:03.200Z"
      },
      {
        "duration": 15,
        "start_time": "2023-01-05T06:04:03.210Z"
      },
      {
        "duration": 27,
        "start_time": "2023-01-05T06:04:03.227Z"
      },
      {
        "duration": 40,
        "start_time": "2023-01-05T06:04:03.255Z"
      },
      {
        "duration": 372,
        "start_time": "2023-01-05T06:04:03.296Z"
      },
      {
        "duration": 16,
        "start_time": "2023-01-05T06:04:03.670Z"
      },
      {
        "duration": 6,
        "start_time": "2023-01-05T06:04:03.688Z"
      },
      {
        "duration": 222,
        "start_time": "2023-01-05T06:04:03.695Z"
      },
      {
        "duration": 1360742,
        "start_time": "2023-01-05T06:04:03.919Z"
      },
      {
        "duration": 16,
        "start_time": "2023-01-05T06:26:44.662Z"
      },
      {
        "duration": 121,
        "start_time": "2023-01-05T06:26:44.680Z"
      },
      {
        "duration": 176,
        "start_time": "2023-01-05T06:26:44.803Z"
      },
      {
        "duration": 10,
        "start_time": "2023-01-05T06:26:44.981Z"
      },
      {
        "duration": 134,
        "start_time": "2023-01-05T06:26:45.078Z"
      },
      {
        "duration": 16,
        "start_time": "2023-01-05T06:26:45.214Z"
      },
      {
        "duration": 12,
        "start_time": "2023-01-05T06:26:45.235Z"
      },
      {
        "duration": 6,
        "start_time": "2023-01-05T06:26:45.249Z"
      },
      {
        "duration": 440,
        "start_time": "2023-01-05T06:26:45.279Z"
      },
      {
        "duration": 9,
        "start_time": "2023-01-05T06:26:45.721Z"
      },
      {
        "duration": 132,
        "start_time": "2023-01-05T06:26:45.732Z"
      },
      {
        "duration": 1999099,
        "start_time": "2023-01-05T06:26:45.866Z"
      },
      {
        "duration": 23,
        "start_time": "2023-01-05T07:00:04.967Z"
      },
      {
        "duration": 145,
        "start_time": "2023-01-05T07:00:04.993Z"
      },
      {
        "duration": 55,
        "start_time": "2023-01-05T07:00:05.140Z"
      },
      {
        "duration": 101,
        "start_time": "2023-01-05T07:00:05.198Z"
      },
      {
        "duration": 149,
        "start_time": "2023-01-05T07:00:05.379Z"
      },
      {
        "duration": 17,
        "start_time": "2023-01-05T07:00:05.530Z"
      },
      {
        "duration": 14,
        "start_time": "2023-01-05T07:00:05.549Z"
      },
      {
        "duration": 8,
        "start_time": "2023-01-05T07:00:05.580Z"
      },
      {
        "duration": 238,
        "start_time": "2023-01-05T07:00:05.589Z"
      },
      {
        "duration": 13,
        "start_time": "2023-01-05T07:00:05.829Z"
      },
      {
        "duration": 179,
        "start_time": "2023-01-05T07:00:05.845Z"
      },
      {
        "duration": 808311,
        "start_time": "2023-01-05T07:00:06.026Z"
      },
      {
        "duration": 9,
        "start_time": "2023-01-05T07:13:34.339Z"
      },
      {
        "duration": 130,
        "start_time": "2023-01-05T07:13:34.350Z"
      },
      {
        "duration": 98,
        "start_time": "2023-01-05T07:13:34.482Z"
      },
      {
        "duration": 98,
        "start_time": "2023-01-05T07:13:34.582Z"
      },
      {
        "duration": 135,
        "start_time": "2023-01-05T07:13:34.683Z"
      },
      {
        "duration": 15,
        "start_time": "2023-01-05T07:13:34.820Z"
      },
      {
        "duration": 37,
        "start_time": "2023-01-05T07:13:34.837Z"
      },
      {
        "duration": 197,
        "start_time": "2023-01-05T07:13:34.876Z"
      },
      {
        "duration": 10,
        "start_time": "2023-01-05T07:13:35.074Z"
      },
      {
        "duration": 892,
        "start_time": "2023-01-05T07:13:35.086Z"
      },
      {
        "duration": 6,
        "start_time": "2023-01-05T07:17:33.198Z"
      },
      {
        "duration": 1426,
        "start_time": "2023-01-07T08:38:09.067Z"
      },
      {
        "duration": 94,
        "start_time": "2023-01-07T08:38:10.495Z"
      },
      {
        "duration": 13,
        "start_time": "2023-01-07T08:38:12.038Z"
      },
      {
        "duration": 35,
        "start_time": "2023-01-07T08:38:13.451Z"
      },
      {
        "duration": 4,
        "start_time": "2023-01-07T08:38:14.417Z"
      },
      {
        "duration": 11,
        "start_time": "2023-01-07T08:38:16.474Z"
      },
      {
        "duration": 4,
        "start_time": "2023-01-07T08:38:17.624Z"
      },
      {
        "duration": 4,
        "start_time": "2023-01-07T08:38:18.009Z"
      },
      {
        "duration": 4,
        "start_time": "2023-01-07T08:38:24.874Z"
      },
      {
        "duration": 48,
        "start_time": "2023-01-07T08:48:58.000Z"
      },
      {
        "duration": 116,
        "start_time": "2023-01-07T08:51:03.441Z"
      },
      {
        "duration": 13,
        "start_time": "2023-01-07T09:29:19.413Z"
      },
      {
        "duration": 27,
        "start_time": "2023-01-07T09:30:05.777Z"
      },
      {
        "duration": 9,
        "start_time": "2023-01-07T09:42:05.601Z"
      },
      {
        "duration": 4,
        "start_time": "2023-01-07T09:42:11.670Z"
      },
      {
        "duration": 10,
        "start_time": "2023-01-07T09:42:12.275Z"
      },
      {
        "duration": 3,
        "start_time": "2023-01-07T09:42:12.880Z"
      },
      {
        "duration": 14,
        "start_time": "2023-01-07T09:42:17.027Z"
      },
      {
        "duration": 13,
        "start_time": "2023-01-07T09:42:57.817Z"
      },
      {
        "duration": 26,
        "start_time": "2023-01-07T09:44:04.591Z"
      },
      {
        "duration": 12,
        "start_time": "2023-01-07T09:46:23.685Z"
      },
      {
        "duration": 18,
        "start_time": "2023-01-07T09:46:41.044Z"
      },
      {
        "duration": 5,
        "start_time": "2023-01-07T09:46:53.868Z"
      },
      {
        "duration": 51,
        "start_time": "2023-01-07T09:46:53.875Z"
      },
      {
        "duration": 11,
        "start_time": "2023-01-07T09:46:53.928Z"
      },
      {
        "duration": 35,
        "start_time": "2023-01-07T09:46:53.940Z"
      },
      {
        "duration": 5,
        "start_time": "2023-01-07T09:46:53.976Z"
      },
      {
        "duration": 12,
        "start_time": "2023-01-07T09:46:53.982Z"
      },
      {
        "duration": 22,
        "start_time": "2023-01-07T09:46:53.995Z"
      },
      {
        "duration": 7,
        "start_time": "2023-01-07T09:46:54.018Z"
      },
      {
        "duration": 8,
        "start_time": "2023-01-07T09:46:54.026Z"
      },
      {
        "duration": 11,
        "start_time": "2023-01-07T09:46:54.036Z"
      },
      {
        "duration": 13,
        "start_time": "2023-01-07T09:46:54.049Z"
      },
      {
        "duration": 3,
        "start_time": "2023-01-07T09:46:54.064Z"
      },
      {
        "duration": 12,
        "start_time": "2023-01-07T09:47:02.979Z"
      },
      {
        "duration": 12,
        "start_time": "2023-01-07T09:47:21.603Z"
      },
      {
        "duration": 21,
        "start_time": "2023-01-07T09:47:26.372Z"
      },
      {
        "duration": 1273,
        "start_time": "2023-01-07T09:47:44.211Z"
      },
      {
        "duration": 58,
        "start_time": "2023-01-07T09:47:46.313Z"
      },
      {
        "duration": 14,
        "start_time": "2023-01-07T09:47:49.051Z"
      },
      {
        "duration": 37,
        "start_time": "2023-01-07T09:47:53.755Z"
      },
      {
        "duration": 4,
        "start_time": "2023-01-07T09:47:54.937Z"
      },
      {
        "duration": 10,
        "start_time": "2023-01-07T09:47:56.993Z"
      },
      {
        "duration": 4,
        "start_time": "2023-01-07T09:48:00.004Z"
      },
      {
        "duration": 3,
        "start_time": "2023-01-07T09:48:00.758Z"
      },
      {
        "duration": 4,
        "start_time": "2023-01-07T09:48:04.561Z"
      },
      {
        "duration": 4,
        "start_time": "2023-01-07T09:48:33.789Z"
      },
      {
        "duration": 12,
        "start_time": "2023-01-07T09:48:35.347Z"
      },
      {
        "duration": 4,
        "start_time": "2023-01-07T09:48:36.298Z"
      },
      {
        "duration": 18,
        "start_time": "2023-01-07T09:48:44.119Z"
      },
      {
        "duration": 17,
        "start_time": "2023-01-07T09:48:53.433Z"
      },
      {
        "duration": 11,
        "start_time": "2023-01-07T09:49:43.454Z"
      },
      {
        "duration": 110,
        "start_time": "2023-01-07T09:49:51.437Z"
      },
      {
        "duration": 17,
        "start_time": "2023-01-07T09:50:40.660Z"
      },
      {
        "duration": 19,
        "start_time": "2023-01-07T09:51:31.048Z"
      },
      {
        "duration": 762,
        "start_time": "2023-01-07T09:52:28.439Z"
      },
      {
        "duration": 12,
        "start_time": "2023-01-07T09:54:24.189Z"
      },
      {
        "duration": 608,
        "start_time": "2023-01-07T09:56:00.844Z"
      },
      {
        "duration": 734,
        "start_time": "2023-01-07T09:56:40.696Z"
      },
      {
        "duration": 608,
        "start_time": "2023-01-07T09:58:42.541Z"
      },
      {
        "duration": 10,
        "start_time": "2023-01-07T09:59:08.064Z"
      },
      {
        "duration": 26,
        "start_time": "2023-01-07T09:59:15.346Z"
      },
      {
        "duration": 50,
        "start_time": "2023-01-07T10:02:38.741Z"
      },
      {
        "duration": 53,
        "start_time": "2023-01-07T10:04:19.460Z"
      },
      {
        "duration": 5562,
        "start_time": "2023-01-07T10:05:24.338Z"
      },
      {
        "duration": 56,
        "start_time": "2023-01-07T10:05:36.683Z"
      },
      {
        "duration": 1186,
        "start_time": "2023-01-07T10:06:08.899Z"
      },
      {
        "duration": 52,
        "start_time": "2023-01-07T10:06:10.087Z"
      },
      {
        "duration": 12,
        "start_time": "2023-01-07T10:06:10.141Z"
      },
      {
        "duration": 35,
        "start_time": "2023-01-07T10:06:10.155Z"
      },
      {
        "duration": 4,
        "start_time": "2023-01-07T10:06:10.192Z"
      },
      {
        "duration": 27,
        "start_time": "2023-01-07T10:06:10.197Z"
      },
      {
        "duration": 4,
        "start_time": "2023-01-07T10:06:10.225Z"
      },
      {
        "duration": 4,
        "start_time": "2023-01-07T10:06:10.230Z"
      },
      {
        "duration": 6,
        "start_time": "2023-01-07T10:06:10.235Z"
      },
      {
        "duration": 5,
        "start_time": "2023-01-07T10:06:10.243Z"
      },
      {
        "duration": 11,
        "start_time": "2023-01-07T10:06:10.250Z"
      },
      {
        "duration": 3,
        "start_time": "2023-01-07T10:06:14.122Z"
      },
      {
        "duration": 150,
        "start_time": "2023-01-07T10:06:20.149Z"
      },
      {
        "duration": 22,
        "start_time": "2023-01-07T10:07:21.157Z"
      },
      {
        "duration": 18,
        "start_time": "2023-01-07T10:07:31.541Z"
      },
      {
        "duration": 19,
        "start_time": "2023-01-07T10:07:40.853Z"
      },
      {
        "duration": 25,
        "start_time": "2023-01-07T10:16:43.734Z"
      },
      {
        "duration": 24,
        "start_time": "2023-01-07T10:17:03.412Z"
      },
      {
        "duration": 19,
        "start_time": "2023-01-07T10:17:30.601Z"
      },
      {
        "duration": 21,
        "start_time": "2023-01-07T10:17:47.589Z"
      },
      {
        "duration": 19,
        "start_time": "2023-01-07T10:18:53.352Z"
      },
      {
        "duration": 1128,
        "start_time": "2023-01-07T10:19:16.255Z"
      },
      {
        "duration": 54,
        "start_time": "2023-01-07T10:19:17.385Z"
      },
      {
        "duration": 12,
        "start_time": "2023-01-07T10:19:17.441Z"
      },
      {
        "duration": 36,
        "start_time": "2023-01-07T10:19:17.455Z"
      },
      {
        "duration": 5,
        "start_time": "2023-01-07T10:19:17.492Z"
      },
      {
        "duration": 26,
        "start_time": "2023-01-07T10:19:17.498Z"
      },
      {
        "duration": 5,
        "start_time": "2023-01-07T10:19:17.525Z"
      },
      {
        "duration": 6,
        "start_time": "2023-01-07T10:19:17.531Z"
      },
      {
        "duration": 10,
        "start_time": "2023-01-07T10:19:17.538Z"
      },
      {
        "duration": 23,
        "start_time": "2023-01-07T10:19:17.550Z"
      },
      {
        "duration": 23,
        "start_time": "2023-01-07T10:19:17.575Z"
      },
      {
        "duration": 8,
        "start_time": "2023-01-07T10:19:17.600Z"
      },
      {
        "duration": 108,
        "start_time": "2023-01-07T10:19:20.280Z"
      },
      {
        "duration": 4,
        "start_time": "2023-01-07T10:35:23.083Z"
      },
      {
        "duration": 48,
        "start_time": "2023-01-07T10:35:24.421Z"
      },
      {
        "duration": 14,
        "start_time": "2023-01-07T10:35:26.714Z"
      },
      {
        "duration": 38,
        "start_time": "2023-01-07T10:35:28.236Z"
      },
      {
        "duration": 5,
        "start_time": "2023-01-07T10:35:29.260Z"
      },
      {
        "duration": 10,
        "start_time": "2023-01-07T10:35:31.656Z"
      },
      {
        "duration": 4,
        "start_time": "2023-01-07T10:35:33.096Z"
      },
      {
        "duration": 4,
        "start_time": "2023-01-07T10:35:33.897Z"
      },
      {
        "duration": 4,
        "start_time": "2023-01-07T10:35:39.396Z"
      },
      {
        "duration": 5,
        "start_time": "2023-01-07T10:35:44.254Z"
      },
      {
        "duration": 10,
        "start_time": "2023-01-07T10:35:49.883Z"
      },
      {
        "duration": 4,
        "start_time": "2023-01-07T10:35:50.596Z"
      },
      {
        "duration": 22,
        "start_time": "2023-01-07T10:36:26.314Z"
      },
      {
        "duration": 16,
        "start_time": "2023-01-07T10:37:21.254Z"
      },
      {
        "duration": 18,
        "start_time": "2023-01-07T10:37:25.452Z"
      },
      {
        "duration": 27,
        "start_time": "2023-01-07T10:37:37.210Z"
      },
      {
        "duration": 29,
        "start_time": "2023-01-07T10:38:22.683Z"
      },
      {
        "duration": 26,
        "start_time": "2023-01-07T10:38:35.160Z"
      },
      {
        "duration": 13,
        "start_time": "2023-01-07T10:40:46.432Z"
      },
      {
        "duration": 19,
        "start_time": "2023-01-07T10:40:54.095Z"
      },
      {
        "duration": 14,
        "start_time": "2023-01-07T10:42:53.365Z"
      },
      {
        "duration": 47,
        "start_time": "2023-01-07T10:43:34.997Z"
      },
      {
        "duration": 16,
        "start_time": "2023-01-07T10:44:06.316Z"
      },
      {
        "duration": 4,
        "start_time": "2023-01-07T10:44:41.691Z"
      },
      {
        "duration": 16,
        "start_time": "2023-01-07T10:44:52.202Z"
      },
      {
        "duration": 207,
        "start_time": "2023-01-07T10:45:13.366Z"
      },
      {
        "duration": 15,
        "start_time": "2023-01-07T10:45:38.228Z"
      },
      {
        "duration": 27,
        "start_time": "2023-01-07T10:45:46.700Z"
      },
      {
        "duration": 11,
        "start_time": "2023-01-07T10:46:04.796Z"
      },
      {
        "duration": 208,
        "start_time": "2023-01-07T10:47:54.194Z"
      },
      {
        "duration": 289,
        "start_time": "2023-01-07T10:47:58.860Z"
      },
      {
        "duration": 202,
        "start_time": "2023-01-07T10:48:15.501Z"
      },
      {
        "duration": 4,
        "start_time": "2023-01-07T10:48:30.887Z"
      },
      {
        "duration": 10,
        "start_time": "2023-01-07T10:48:35.140Z"
      },
      {
        "duration": 13,
        "start_time": "2023-01-07T10:48:42.589Z"
      },
      {
        "duration": 12,
        "start_time": "2023-01-07T10:48:55.380Z"
      },
      {
        "duration": 205,
        "start_time": "2023-01-07T10:49:20.304Z"
      },
      {
        "duration": 12,
        "start_time": "2023-01-07T10:49:58.758Z"
      },
      {
        "duration": 29,
        "start_time": "2023-01-07T10:50:14.934Z"
      },
      {
        "duration": 28,
        "start_time": "2023-01-07T10:50:55.594Z"
      },
      {
        "duration": 27,
        "start_time": "2023-01-07T10:52:03.847Z"
      },
      {
        "duration": 44,
        "start_time": "2023-01-07T10:53:33.330Z"
      },
      {
        "duration": 4,
        "start_time": "2023-01-07T10:53:42.880Z"
      },
      {
        "duration": 26,
        "start_time": "2023-01-07T10:53:55.657Z"
      },
      {
        "duration": 3,
        "start_time": "2023-01-07T10:54:49.260Z"
      },
      {
        "duration": 25,
        "start_time": "2023-01-07T10:54:50.281Z"
      },
      {
        "duration": 12,
        "start_time": "2023-01-07T10:55:05.916Z"
      },
      {
        "duration": 15,
        "start_time": "2023-01-07T10:55:25.096Z"
      },
      {
        "duration": 16,
        "start_time": "2023-01-07T10:56:01.270Z"
      },
      {
        "duration": 5,
        "start_time": "2023-01-07T11:00:04.682Z"
      },
      {
        "duration": 68,
        "start_time": "2023-01-07T11:00:04.688Z"
      },
      {
        "duration": 12,
        "start_time": "2023-01-07T11:00:04.757Z"
      },
      {
        "duration": 45,
        "start_time": "2023-01-07T11:00:04.770Z"
      },
      {
        "duration": 5,
        "start_time": "2023-01-07T11:00:04.817Z"
      },
      {
        "duration": 15,
        "start_time": "2023-01-07T11:00:04.824Z"
      },
      {
        "duration": 4,
        "start_time": "2023-01-07T11:00:04.841Z"
      },
      {
        "duration": 5,
        "start_time": "2023-01-07T11:00:04.846Z"
      },
      {
        "duration": 7,
        "start_time": "2023-01-07T11:00:04.853Z"
      },
      {
        "duration": 12,
        "start_time": "2023-01-07T11:00:04.862Z"
      },
      {
        "duration": 15,
        "start_time": "2023-01-07T11:00:04.876Z"
      },
      {
        "duration": 6,
        "start_time": "2023-01-07T11:00:04.892Z"
      },
      {
        "duration": 18,
        "start_time": "2023-01-07T11:00:04.899Z"
      },
      {
        "duration": 25,
        "start_time": "2023-01-07T11:00:09.086Z"
      },
      {
        "duration": 18,
        "start_time": "2023-01-07T11:10:01.573Z"
      },
      {
        "duration": 5,
        "start_time": "2023-01-07T11:10:26.854Z"
      },
      {
        "duration": 12,
        "start_time": "2023-01-07T11:10:26.860Z"
      },
      {
        "duration": 63,
        "start_time": "2023-01-07T11:10:26.873Z"
      },
      {
        "duration": 10,
        "start_time": "2023-01-07T11:10:26.938Z"
      },
      {
        "duration": 36,
        "start_time": "2023-01-07T11:10:26.949Z"
      },
      {
        "duration": 4,
        "start_time": "2023-01-07T11:10:26.986Z"
      },
      {
        "duration": 31,
        "start_time": "2023-01-07T11:10:26.992Z"
      },
      {
        "duration": 4,
        "start_time": "2023-01-07T11:10:27.024Z"
      },
      {
        "duration": 5,
        "start_time": "2023-01-07T11:10:27.029Z"
      },
      {
        "duration": 7,
        "start_time": "2023-01-07T11:10:27.036Z"
      },
      {
        "duration": 7,
        "start_time": "2023-01-07T11:10:27.044Z"
      },
      {
        "duration": 13,
        "start_time": "2023-01-07T11:10:27.052Z"
      },
      {
        "duration": 3,
        "start_time": "2023-01-07T11:10:27.066Z"
      },
      {
        "duration": 4,
        "start_time": "2023-01-07T11:10:35.397Z"
      },
      {
        "duration": 26,
        "start_time": "2023-01-07T11:10:36.660Z"
      },
      {
        "duration": 16,
        "start_time": "2023-01-07T11:12:01.247Z"
      },
      {
        "duration": 29,
        "start_time": "2023-01-07T11:12:12.450Z"
      },
      {
        "duration": 6,
        "start_time": "2023-01-07T11:15:05.066Z"
      },
      {
        "duration": 63,
        "start_time": "2023-01-07T11:15:16.791Z"
      },
      {
        "duration": 63,
        "start_time": "2023-01-07T11:16:15.263Z"
      },
      {
        "duration": 6,
        "start_time": "2023-01-07T11:16:36.579Z"
      },
      {
        "duration": 46,
        "start_time": "2023-01-07T11:16:39.234Z"
      },
      {
        "duration": 59,
        "start_time": "2023-01-07T11:16:44.380Z"
      },
      {
        "duration": 8,
        "start_time": "2023-01-07T11:17:15.797Z"
      },
      {
        "duration": 7,
        "start_time": "2023-01-07T11:17:22.557Z"
      },
      {
        "duration": 5,
        "start_time": "2023-01-07T11:18:39.119Z"
      },
      {
        "duration": 8,
        "start_time": "2023-01-07T11:18:59.594Z"
      },
      {
        "duration": 15,
        "start_time": "2023-01-07T11:19:38.273Z"
      },
      {
        "duration": 16,
        "start_time": "2023-01-07T11:20:39.038Z"
      },
      {
        "duration": 5,
        "start_time": "2023-01-07T11:20:45.334Z"
      },
      {
        "duration": 5,
        "start_time": "2023-01-07T11:20:45.341Z"
      },
      {
        "duration": 52,
        "start_time": "2023-01-07T11:20:45.348Z"
      },
      {
        "duration": 11,
        "start_time": "2023-01-07T11:20:45.402Z"
      },
      {
        "duration": 37,
        "start_time": "2023-01-07T11:20:45.415Z"
      },
      {
        "duration": 4,
        "start_time": "2023-01-07T11:20:45.454Z"
      },
      {
        "duration": 11,
        "start_time": "2023-01-07T11:20:45.460Z"
      },
      {
        "duration": 4,
        "start_time": "2023-01-07T11:20:45.472Z"
      },
      {
        "duration": 6,
        "start_time": "2023-01-07T11:20:45.477Z"
      },
      {
        "duration": 32,
        "start_time": "2023-01-07T11:20:45.484Z"
      },
      {
        "duration": 4,
        "start_time": "2023-01-07T11:20:45.517Z"
      },
      {
        "duration": 11,
        "start_time": "2023-01-07T11:20:45.523Z"
      },
      {
        "duration": 3,
        "start_time": "2023-01-07T11:20:45.536Z"
      },
      {
        "duration": 8,
        "start_time": "2023-01-07T11:20:45.540Z"
      },
      {
        "duration": 30,
        "start_time": "2023-01-07T11:20:45.549Z"
      },
      {
        "duration": 16,
        "start_time": "2023-01-07T11:20:48.544Z"
      },
      {
        "duration": 4,
        "start_time": "2023-01-07T11:21:50.268Z"
      },
      {
        "duration": 4,
        "start_time": "2023-01-07T11:21:50.275Z"
      },
      {
        "duration": 53,
        "start_time": "2023-01-07T11:21:50.281Z"
      },
      {
        "duration": 11,
        "start_time": "2023-01-07T11:21:50.335Z"
      },
      {
        "duration": 36,
        "start_time": "2023-01-07T11:21:50.347Z"
      },
      {
        "duration": 5,
        "start_time": "2023-01-07T11:21:50.384Z"
      },
      {
        "duration": 28,
        "start_time": "2023-01-07T11:21:50.390Z"
      },
      {
        "duration": 3,
        "start_time": "2023-01-07T11:21:50.420Z"
      },
      {
        "duration": 9,
        "start_time": "2023-01-07T11:21:50.425Z"
      },
      {
        "duration": 12,
        "start_time": "2023-01-07T11:21:50.435Z"
      },
      {
        "duration": 6,
        "start_time": "2023-01-07T11:21:50.450Z"
      },
      {
        "duration": 25,
        "start_time": "2023-01-07T11:21:50.457Z"
      },
      {
        "duration": 4,
        "start_time": "2023-01-07T11:21:50.483Z"
      },
      {
        "duration": 20,
        "start_time": "2023-01-07T11:22:25.402Z"
      },
      {
        "duration": 18,
        "start_time": "2023-01-07T11:22:39.357Z"
      },
      {
        "duration": 15,
        "start_time": "2023-01-07T11:22:42.972Z"
      },
      {
        "duration": 20,
        "start_time": "2023-01-07T11:23:56.677Z"
      },
      {
        "duration": 36,
        "start_time": "2023-01-07T11:24:20.613Z"
      },
      {
        "duration": 36,
        "start_time": "2023-01-07T11:25:01.412Z"
      },
      {
        "duration": 6,
        "start_time": "2023-01-07T11:25:47.022Z"
      },
      {
        "duration": 16,
        "start_time": "2023-01-07T11:25:49.806Z"
      },
      {
        "duration": 45,
        "start_time": "2023-01-07T11:27:07.708Z"
      },
      {
        "duration": 21,
        "start_time": "2023-01-07T11:27:45.572Z"
      },
      {
        "duration": 41,
        "start_time": "2023-01-07T11:28:30.367Z"
      },
      {
        "duration": 33,
        "start_time": "2023-01-07T11:28:43.309Z"
      },
      {
        "duration": 32,
        "start_time": "2023-01-07T11:28:56.544Z"
      },
      {
        "duration": 22,
        "start_time": "2023-01-07T11:29:06.418Z"
      },
      {
        "duration": 20,
        "start_time": "2023-01-07T11:30:37.593Z"
      },
      {
        "duration": 22,
        "start_time": "2023-01-07T11:31:07.904Z"
      },
      {
        "duration": 21,
        "start_time": "2023-01-07T11:33:11.556Z"
      },
      {
        "duration": 21,
        "start_time": "2023-01-07T11:33:19.959Z"
      },
      {
        "duration": 21,
        "start_time": "2023-01-07T11:34:02.224Z"
      },
      {
        "duration": 19,
        "start_time": "2023-01-07T11:34:51.395Z"
      },
      {
        "duration": 16,
        "start_time": "2023-01-07T11:35:38.158Z"
      },
      {
        "duration": 13,
        "start_time": "2023-01-07T11:35:55.006Z"
      },
      {
        "duration": 13,
        "start_time": "2023-01-07T11:37:24.236Z"
      },
      {
        "duration": 19,
        "start_time": "2023-01-07T11:38:26.033Z"
      },
      {
        "duration": 6,
        "start_time": "2023-01-07T11:39:04.749Z"
      },
      {
        "duration": 13,
        "start_time": "2023-01-07T11:39:04.758Z"
      },
      {
        "duration": 52,
        "start_time": "2023-01-07T11:39:04.772Z"
      },
      {
        "duration": 12,
        "start_time": "2023-01-07T11:39:04.827Z"
      },
      {
        "duration": 43,
        "start_time": "2023-01-07T11:39:04.841Z"
      },
      {
        "duration": 5,
        "start_time": "2023-01-07T11:39:04.886Z"
      },
      {
        "duration": 11,
        "start_time": "2023-01-07T11:39:04.916Z"
      },
      {
        "duration": 4,
        "start_time": "2023-01-07T11:39:04.928Z"
      },
      {
        "duration": 5,
        "start_time": "2023-01-07T11:39:04.934Z"
      },
      {
        "duration": 4,
        "start_time": "2023-01-07T11:39:04.942Z"
      },
      {
        "duration": 6,
        "start_time": "2023-01-07T11:39:04.947Z"
      },
      {
        "duration": 11,
        "start_time": "2023-01-07T11:39:04.955Z"
      },
      {
        "duration": 4,
        "start_time": "2023-01-07T11:39:04.968Z"
      },
      {
        "duration": 17,
        "start_time": "2023-01-07T11:39:28.599Z"
      },
      {
        "duration": 19,
        "start_time": "2023-01-07T11:39:48.555Z"
      },
      {
        "duration": 25,
        "start_time": "2023-01-07T11:40:06.804Z"
      },
      {
        "duration": 40,
        "start_time": "2023-01-07T11:40:30.859Z"
      },
      {
        "duration": 13,
        "start_time": "2023-01-07T11:40:47.334Z"
      },
      {
        "duration": 6,
        "start_time": "2023-01-07T11:40:59.373Z"
      },
      {
        "duration": 7,
        "start_time": "2023-01-07T11:40:59.381Z"
      },
      {
        "duration": 53,
        "start_time": "2023-01-07T11:40:59.389Z"
      },
      {
        "duration": 11,
        "start_time": "2023-01-07T11:40:59.445Z"
      },
      {
        "duration": 39,
        "start_time": "2023-01-07T11:40:59.458Z"
      },
      {
        "duration": 19,
        "start_time": "2023-01-07T11:40:59.499Z"
      },
      {
        "duration": 23,
        "start_time": "2023-01-07T11:40:59.520Z"
      },
      {
        "duration": 5,
        "start_time": "2023-01-07T11:40:59.544Z"
      },
      {
        "duration": 5,
        "start_time": "2023-01-07T11:40:59.550Z"
      },
      {
        "duration": 4,
        "start_time": "2023-01-07T11:40:59.558Z"
      },
      {
        "duration": 8,
        "start_time": "2023-01-07T11:40:59.564Z"
      },
      {
        "duration": 13,
        "start_time": "2023-01-07T11:40:59.573Z"
      },
      {
        "duration": 4,
        "start_time": "2023-01-07T11:40:59.587Z"
      },
      {
        "duration": 14,
        "start_time": "2023-01-07T11:41:04.128Z"
      },
      {
        "duration": 17,
        "start_time": "2023-01-07T11:41:12.402Z"
      },
      {
        "duration": 30,
        "start_time": "2023-01-07T11:42:08.012Z"
      },
      {
        "duration": 74,
        "start_time": "2023-01-07T11:42:33.831Z"
      },
      {
        "duration": 21,
        "start_time": "2023-01-07T11:42:48.799Z"
      },
      {
        "duration": 24,
        "start_time": "2023-01-07T11:44:23.943Z"
      },
      {
        "duration": 23,
        "start_time": "2023-01-07T11:46:03.157Z"
      },
      {
        "duration": 46,
        "start_time": "2023-01-07T11:46:52.273Z"
      },
      {
        "duration": 23,
        "start_time": "2023-01-07T11:47:03.569Z"
      },
      {
        "duration": 4,
        "start_time": "2023-01-07T11:47:54.238Z"
      },
      {
        "duration": 26,
        "start_time": "2023-01-07T11:47:56.432Z"
      },
      {
        "duration": 18,
        "start_time": "2023-01-07T11:47:58.126Z"
      },
      {
        "duration": 4,
        "start_time": "2023-01-07T11:48:22.156Z"
      },
      {
        "duration": 22,
        "start_time": "2023-01-07T11:48:22.162Z"
      },
      {
        "duration": 52,
        "start_time": "2023-01-07T11:48:22.185Z"
      },
      {
        "duration": 11,
        "start_time": "2023-01-07T11:48:22.238Z"
      },
      {
        "duration": 34,
        "start_time": "2023-01-07T11:48:22.251Z"
      },
      {
        "duration": 5,
        "start_time": "2023-01-07T11:48:22.286Z"
      },
      {
        "duration": 30,
        "start_time": "2023-01-07T11:48:22.292Z"
      },
      {
        "duration": 3,
        "start_time": "2023-01-07T11:48:22.324Z"
      },
      {
        "duration": 8,
        "start_time": "2023-01-07T11:48:22.328Z"
      },
      {
        "duration": 15,
        "start_time": "2023-01-07T11:48:22.338Z"
      },
      {
        "duration": 6,
        "start_time": "2023-01-07T11:48:22.354Z"
      },
      {
        "duration": 15,
        "start_time": "2023-01-07T11:48:22.361Z"
      },
      {
        "duration": 4,
        "start_time": "2023-01-07T11:48:22.379Z"
      },
      {
        "duration": 8,
        "start_time": "2023-01-07T11:48:22.384Z"
      },
      {
        "duration": 27,
        "start_time": "2023-01-07T11:48:33.107Z"
      },
      {
        "duration": 15,
        "start_time": "2023-01-07T11:48:43.743Z"
      },
      {
        "duration": 4,
        "start_time": "2023-01-07T11:48:50.208Z"
      },
      {
        "duration": 4,
        "start_time": "2023-01-07T11:48:50.215Z"
      },
      {
        "duration": 51,
        "start_time": "2023-01-07T11:48:50.221Z"
      },
      {
        "duration": 11,
        "start_time": "2023-01-07T11:48:50.274Z"
      },
      {
        "duration": 35,
        "start_time": "2023-01-07T11:48:50.287Z"
      },
      {
        "duration": 5,
        "start_time": "2023-01-07T11:48:50.324Z"
      },
      {
        "duration": 15,
        "start_time": "2023-01-07T11:48:50.330Z"
      },
      {
        "duration": 4,
        "start_time": "2023-01-07T11:48:50.347Z"
      },
      {
        "duration": 7,
        "start_time": "2023-01-07T11:48:50.352Z"
      },
      {
        "duration": 6,
        "start_time": "2023-01-07T11:48:50.360Z"
      },
      {
        "duration": 9,
        "start_time": "2023-01-07T11:48:50.367Z"
      },
      {
        "duration": 12,
        "start_time": "2023-01-07T11:48:50.377Z"
      },
      {
        "duration": 28,
        "start_time": "2023-01-07T11:48:50.390Z"
      },
      {
        "duration": 22,
        "start_time": "2023-01-07T11:48:52.772Z"
      },
      {
        "duration": 26,
        "start_time": "2023-01-07T11:49:12.152Z"
      },
      {
        "duration": 32,
        "start_time": "2023-01-07T11:49:22.805Z"
      },
      {
        "duration": 27,
        "start_time": "2023-01-07T11:49:38.340Z"
      },
      {
        "duration": 32,
        "start_time": "2023-01-07T11:51:35.424Z"
      },
      {
        "duration": 18,
        "start_time": "2023-01-07T11:52:07.543Z"
      },
      {
        "duration": 20,
        "start_time": "2023-01-07T11:53:03.148Z"
      },
      {
        "duration": 22,
        "start_time": "2023-01-07T11:53:13.937Z"
      },
      {
        "duration": 21,
        "start_time": "2023-01-07T11:53:22.746Z"
      },
      {
        "duration": 18,
        "start_time": "2023-01-07T11:53:31.525Z"
      },
      {
        "duration": 4,
        "start_time": "2023-01-07T11:53:41.211Z"
      },
      {
        "duration": 6,
        "start_time": "2023-01-07T11:53:41.216Z"
      },
      {
        "duration": 47,
        "start_time": "2023-01-07T11:53:41.234Z"
      },
      {
        "duration": 10,
        "start_time": "2023-01-07T11:53:41.283Z"
      },
      {
        "duration": 35,
        "start_time": "2023-01-07T11:53:41.295Z"
      },
      {
        "duration": 4,
        "start_time": "2023-01-07T11:53:41.332Z"
      },
      {
        "duration": 11,
        "start_time": "2023-01-07T11:53:41.338Z"
      },
      {
        "duration": 3,
        "start_time": "2023-01-07T11:53:41.351Z"
      },
      {
        "duration": 7,
        "start_time": "2023-01-07T11:53:41.355Z"
      },
      {
        "duration": 4,
        "start_time": "2023-01-07T11:53:41.363Z"
      },
      {
        "duration": 7,
        "start_time": "2023-01-07T11:53:41.368Z"
      },
      {
        "duration": 11,
        "start_time": "2023-01-07T11:53:41.376Z"
      },
      {
        "duration": 3,
        "start_time": "2023-01-07T11:53:41.388Z"
      },
      {
        "duration": 30,
        "start_time": "2023-01-07T11:53:43.841Z"
      },
      {
        "duration": 4,
        "start_time": "2023-01-07T11:54:18.734Z"
      },
      {
        "duration": 7,
        "start_time": "2023-01-07T11:54:18.740Z"
      },
      {
        "duration": 55,
        "start_time": "2023-01-07T11:54:18.748Z"
      },
      {
        "duration": 11,
        "start_time": "2023-01-07T11:54:18.804Z"
      },
      {
        "duration": 34,
        "start_time": "2023-01-07T11:54:18.816Z"
      },
      {
        "duration": 4,
        "start_time": "2023-01-07T11:54:18.851Z"
      },
      {
        "duration": 15,
        "start_time": "2023-01-07T11:54:18.857Z"
      },
      {
        "duration": 3,
        "start_time": "2023-01-07T11:54:18.874Z"
      },
      {
        "duration": 4,
        "start_time": "2023-01-07T11:54:18.878Z"
      },
      {
        "duration": 5,
        "start_time": "2023-01-07T11:54:18.884Z"
      },
      {
        "duration": 25,
        "start_time": "2023-01-07T11:54:18.890Z"
      },
      {
        "duration": 10,
        "start_time": "2023-01-07T11:54:18.916Z"
      },
      {
        "duration": 3,
        "start_time": "2023-01-07T11:54:18.927Z"
      },
      {
        "duration": 30,
        "start_time": "2023-01-07T11:54:21.720Z"
      },
      {
        "duration": 4,
        "start_time": "2023-01-07T11:54:37.060Z"
      },
      {
        "duration": 4,
        "start_time": "2023-01-07T11:54:37.067Z"
      },
      {
        "duration": 49,
        "start_time": "2023-01-07T11:54:37.073Z"
      },
      {
        "duration": 11,
        "start_time": "2023-01-07T11:54:37.124Z"
      },
      {
        "duration": 36,
        "start_time": "2023-01-07T11:54:37.137Z"
      },
      {
        "duration": 6,
        "start_time": "2023-01-07T11:54:37.174Z"
      },
      {
        "duration": 34,
        "start_time": "2023-01-07T11:54:37.181Z"
      },
      {
        "duration": 4,
        "start_time": "2023-01-07T11:54:37.216Z"
      },
      {
        "duration": 5,
        "start_time": "2023-01-07T11:54:37.221Z"
      },
      {
        "duration": 8,
        "start_time": "2023-01-07T11:54:37.227Z"
      },
      {
        "duration": 5,
        "start_time": "2023-01-07T11:54:37.236Z"
      },
      {
        "duration": 12,
        "start_time": "2023-01-07T11:54:37.242Z"
      },
      {
        "duration": 4,
        "start_time": "2023-01-07T11:54:37.255Z"
      },
      {
        "duration": 22,
        "start_time": "2023-01-07T11:54:39.564Z"
      },
      {
        "duration": 30,
        "start_time": "2023-01-07T11:54:45.044Z"
      },
      {
        "duration": 4,
        "start_time": "2023-01-07T11:55:21.448Z"
      },
      {
        "duration": 9,
        "start_time": "2023-01-07T11:55:21.454Z"
      },
      {
        "duration": 52,
        "start_time": "2023-01-07T11:55:21.464Z"
      },
      {
        "duration": 11,
        "start_time": "2023-01-07T11:55:21.518Z"
      },
      {
        "duration": 40,
        "start_time": "2023-01-07T11:55:21.530Z"
      },
      {
        "duration": 5,
        "start_time": "2023-01-07T11:55:21.571Z"
      },
      {
        "duration": 13,
        "start_time": "2023-01-07T11:55:21.577Z"
      },
      {
        "duration": 4,
        "start_time": "2023-01-07T11:55:21.591Z"
      },
      {
        "duration": 4,
        "start_time": "2023-01-07T11:55:21.615Z"
      },
      {
        "duration": 5,
        "start_time": "2023-01-07T11:55:21.621Z"
      },
      {
        "duration": 7,
        "start_time": "2023-01-07T11:55:21.628Z"
      },
      {
        "duration": 18,
        "start_time": "2023-01-07T11:55:21.637Z"
      },
      {
        "duration": 3,
        "start_time": "2023-01-07T11:55:21.656Z"
      },
      {
        "duration": 3,
        "start_time": "2023-01-07T11:55:24.207Z"
      },
      {
        "duration": 27,
        "start_time": "2023-01-07T11:55:25.766Z"
      },
      {
        "duration": 29,
        "start_time": "2023-01-07T11:55:33.607Z"
      },
      {
        "duration": 24,
        "start_time": "2023-01-07T11:55:40.579Z"
      },
      {
        "duration": 10,
        "start_time": "2023-01-07T11:55:46.034Z"
      },
      {
        "duration": 5,
        "start_time": "2023-01-07T11:56:03.459Z"
      },
      {
        "duration": 6,
        "start_time": "2023-01-07T11:56:12.810Z"
      },
      {
        "duration": 47,
        "start_time": "2023-01-07T11:56:14.436Z"
      },
      {
        "duration": 493,
        "start_time": "2023-01-07T11:56:22.728Z"
      },
      {
        "duration": 9,
        "start_time": "2023-01-07T11:56:28.082Z"
      },
      {
        "duration": 5,
        "start_time": "2023-01-07T11:56:45.569Z"
      },
      {
        "duration": 503,
        "start_time": "2023-01-07T11:57:02.841Z"
      },
      {
        "duration": 9,
        "start_time": "2023-01-07T11:57:06.963Z"
      },
      {
        "duration": 52,
        "start_time": "2023-01-07T11:58:54.919Z"
      },
      {
        "duration": 6,
        "start_time": "2023-01-07T11:58:58.515Z"
      },
      {
        "duration": 522,
        "start_time": "2023-01-07T11:58:59.814Z"
      },
      {
        "duration": 8,
        "start_time": "2023-01-07T11:59:03.641Z"
      },
      {
        "duration": 873,
        "start_time": "2023-01-07T11:59:09.059Z"
      },
      {
        "duration": 10,
        "start_time": "2023-01-07T11:59:10.146Z"
      },
      {
        "duration": 9,
        "start_time": "2023-01-07T11:59:13.466Z"
      },
      {
        "duration": 1158,
        "start_time": "2023-01-07T11:59:17.823Z"
      },
      {
        "duration": 9,
        "start_time": "2023-01-07T11:59:21.207Z"
      },
      {
        "duration": 6,
        "start_time": "2023-01-07T11:59:48.212Z"
      },
      {
        "duration": 1141,
        "start_time": "2023-01-07T12:00:04.824Z"
      },
      {
        "duration": 8,
        "start_time": "2023-01-07T12:00:07.357Z"
      },
      {
        "duration": 5,
        "start_time": "2023-01-07T12:01:29.640Z"
      },
      {
        "duration": 53,
        "start_time": "2023-01-07T12:01:32.419Z"
      },
      {
        "duration": 1145,
        "start_time": "2023-01-07T12:01:38.872Z"
      },
      {
        "duration": 9,
        "start_time": "2023-01-07T12:01:42.915Z"
      },
      {
        "duration": 826,
        "start_time": "2023-01-07T12:01:47.042Z"
      },
      {
        "duration": 8,
        "start_time": "2023-01-07T12:01:49.311Z"
      },
      {
        "duration": 571,
        "start_time": "2023-01-07T12:02:02.212Z"
      },
      {
        "duration": 11,
        "start_time": "2023-01-07T12:02:04.165Z"
      },
      {
        "duration": 3773,
        "start_time": "2023-01-07T12:03:44.207Z"
      },
      {
        "duration": 8,
        "start_time": "2023-01-07T12:03:50.428Z"
      },
      {
        "duration": 6,
        "start_time": "2023-01-07T12:04:03.014Z"
      },
      {
        "duration": 3832,
        "start_time": "2023-01-07T12:04:05.715Z"
      },
      {
        "duration": 9,
        "start_time": "2023-01-07T12:04:14.657Z"
      },
      {
        "duration": 4,
        "start_time": "2023-01-07T12:04:38.979Z"
      },
      {
        "duration": 5,
        "start_time": "2023-01-07T12:04:38.984Z"
      },
      {
        "duration": 50,
        "start_time": "2023-01-07T12:04:38.990Z"
      },
      {
        "duration": 10,
        "start_time": "2023-01-07T12:04:39.042Z"
      },
      {
        "duration": 35,
        "start_time": "2023-01-07T12:04:39.054Z"
      },
      {
        "duration": 4,
        "start_time": "2023-01-07T12:04:39.090Z"
      },
      {
        "duration": 25,
        "start_time": "2023-01-07T12:04:39.096Z"
      },
      {
        "duration": 4,
        "start_time": "2023-01-07T12:04:39.122Z"
      },
      {
        "duration": 5,
        "start_time": "2023-01-07T12:04:39.127Z"
      },
      {
        "duration": 5,
        "start_time": "2023-01-07T12:04:39.133Z"
      },
      {
        "duration": 5,
        "start_time": "2023-01-07T12:04:39.140Z"
      },
      {
        "duration": 11,
        "start_time": "2023-01-07T12:04:39.146Z"
      },
      {
        "duration": 4,
        "start_time": "2023-01-07T12:04:39.158Z"
      },
      {
        "duration": 4,
        "start_time": "2023-01-07T12:04:39.164Z"
      },
      {
        "duration": 54,
        "start_time": "2023-01-07T12:04:39.170Z"
      },
      {
        "duration": 24,
        "start_time": "2023-01-07T12:04:39.226Z"
      },
      {
        "duration": 8,
        "start_time": "2023-01-07T12:04:39.252Z"
      },
      {
        "duration": 5,
        "start_time": "2023-01-07T12:04:44.231Z"
      },
      {
        "duration": 840,
        "start_time": "2023-01-07T12:04:50.077Z"
      },
      {
        "duration": 9,
        "start_time": "2023-01-07T12:04:55.523Z"
      },
      {
        "duration": 4214,
        "start_time": "2023-01-07T12:05:00.607Z"
      },
      {
        "duration": 10,
        "start_time": "2023-01-07T12:05:06.725Z"
      },
      {
        "duration": 513,
        "start_time": "2023-01-07T12:05:11.115Z"
      },
      {
        "duration": 10,
        "start_time": "2023-01-07T12:05:13.823Z"
      },
      {
        "duration": 7,
        "start_time": "2023-01-07T12:07:46.273Z"
      },
      {
        "duration": 53,
        "start_time": "2023-01-07T12:07:52.816Z"
      },
      {
        "duration": 9,
        "start_time": "2023-01-07T12:09:32.819Z"
      },
      {
        "duration": 210436,
        "start_time": "2023-01-07T12:09:34.518Z"
      },
      {
        "duration": 9,
        "start_time": "2023-01-07T12:13:28.679Z"
      },
      {
        "duration": 9,
        "start_time": "2023-01-07T12:14:23.760Z"
      },
      {
        "duration": 5,
        "start_time": "2023-01-07T12:14:39.851Z"
      },
      {
        "duration": 6,
        "start_time": "2023-01-07T12:15:15.639Z"
      },
      {
        "duration": 48,
        "start_time": "2023-01-07T12:15:17.019Z"
      },
      {
        "duration": 110,
        "start_time": "2023-01-07T12:15:22.007Z"
      },
      {
        "duration": 9,
        "start_time": "2023-01-07T12:15:25.269Z"
      },
      {
        "duration": 16,
        "start_time": "2023-01-07T12:15:30.135Z"
      },
      {
        "duration": 8,
        "start_time": "2023-01-07T12:15:32.909Z"
      },
      {
        "duration": 5,
        "start_time": "2023-01-07T12:15:35.547Z"
      },
      {
        "duration": 14,
        "start_time": "2023-01-07T12:15:41.475Z"
      },
      {
        "duration": 10,
        "start_time": "2023-01-07T12:16:08.511Z"
      },
      {
        "duration": 515,
        "start_time": "2023-01-07T12:16:46.546Z"
      },
      {
        "duration": 9,
        "start_time": "2023-01-07T12:16:49.918Z"
      },
      {
        "duration": 4,
        "start_time": "2023-01-07T12:17:01.669Z"
      },
      {
        "duration": 119,
        "start_time": "2023-01-07T12:17:02.604Z"
      },
      {
        "duration": 207858,
        "start_time": "2023-01-07T12:17:50.814Z"
      },
      {
        "duration": 9,
        "start_time": "2023-01-07T12:23:33.111Z"
      },
      {
        "duration": 100,
        "start_time": "2023-01-07T12:23:36.882Z"
      },
      {
        "duration": 69,
        "start_time": "2023-01-07T12:23:56.451Z"
      },
      {
        "duration": 8,
        "start_time": "2023-01-07T12:23:58.753Z"
      },
      {
        "duration": 117,
        "start_time": "2023-01-07T12:24:01.015Z"
      },
      {
        "duration": 14,
        "start_time": "2023-01-07T12:24:12.578Z"
      },
      {
        "duration": 19,
        "start_time": "2023-01-07T12:24:19.008Z"
      },
      {
        "duration": 13,
        "start_time": "2023-01-07T12:27:15.213Z"
      },
      {
        "duration": 65,
        "start_time": "2023-01-07T12:27:38.039Z"
      },
      {
        "duration": 8,
        "start_time": "2023-01-07T12:27:47.800Z"
      },
      {
        "duration": 72,
        "start_time": "2023-01-07T12:28:12.539Z"
      },
      {
        "duration": 76,
        "start_time": "2023-01-07T12:28:25.934Z"
      },
      {
        "duration": 19,
        "start_time": "2023-01-07T12:28:58.547Z"
      },
      {
        "duration": 4,
        "start_time": "2023-01-07T12:31:25.130Z"
      },
      {
        "duration": 17,
        "start_time": "2023-01-07T12:31:26.168Z"
      },
      {
        "duration": 5,
        "start_time": "2023-01-07T12:31:46.413Z"
      },
      {
        "duration": 14,
        "start_time": "2023-01-07T12:31:49.056Z"
      },
      {
        "duration": 5,
        "start_time": "2023-01-07T12:31:56.209Z"
      },
      {
        "duration": 28,
        "start_time": "2023-01-07T12:31:56.893Z"
      },
      {
        "duration": 4,
        "start_time": "2023-01-07T12:32:54.597Z"
      },
      {
        "duration": 15,
        "start_time": "2023-01-07T12:32:57.800Z"
      },
      {
        "duration": 4,
        "start_time": "2023-01-07T12:33:05.978Z"
      },
      {
        "duration": 10,
        "start_time": "2023-01-07T12:33:05.984Z"
      },
      {
        "duration": 52,
        "start_time": "2023-01-07T12:33:05.995Z"
      },
      {
        "duration": 14,
        "start_time": "2023-01-07T12:33:06.049Z"
      },
      {
        "duration": 35,
        "start_time": "2023-01-07T12:33:06.065Z"
      },
      {
        "duration": 14,
        "start_time": "2023-01-07T12:33:06.102Z"
      },
      {
        "duration": 11,
        "start_time": "2023-01-07T12:33:06.117Z"
      },
      {
        "duration": 4,
        "start_time": "2023-01-07T12:33:06.129Z"
      },
      {
        "duration": 11,
        "start_time": "2023-01-07T12:33:06.134Z"
      },
      {
        "duration": 6,
        "start_time": "2023-01-07T12:33:06.146Z"
      },
      {
        "duration": 7,
        "start_time": "2023-01-07T12:33:06.153Z"
      },
      {
        "duration": 15,
        "start_time": "2023-01-07T12:33:06.161Z"
      },
      {
        "duration": 3,
        "start_time": "2023-01-07T12:33:06.179Z"
      },
      {
        "duration": 8,
        "start_time": "2023-01-07T12:33:06.183Z"
      },
      {
        "duration": 24,
        "start_time": "2023-01-07T12:33:08.693Z"
      },
      {
        "duration": 17,
        "start_time": "2023-01-07T12:33:11.152Z"
      },
      {
        "duration": 5,
        "start_time": "2023-01-07T12:34:49.093Z"
      },
      {
        "duration": 9,
        "start_time": "2023-01-07T12:34:49.101Z"
      },
      {
        "duration": 52,
        "start_time": "2023-01-07T12:34:49.112Z"
      },
      {
        "duration": 12,
        "start_time": "2023-01-07T12:34:49.165Z"
      },
      {
        "duration": 39,
        "start_time": "2023-01-07T12:34:49.178Z"
      },
      {
        "duration": 5,
        "start_time": "2023-01-07T12:34:49.218Z"
      },
      {
        "duration": 12,
        "start_time": "2023-01-07T12:34:49.224Z"
      },
      {
        "duration": 3,
        "start_time": "2023-01-07T12:34:49.238Z"
      },
      {
        "duration": 5,
        "start_time": "2023-01-07T12:34:49.242Z"
      },
      {
        "duration": 6,
        "start_time": "2023-01-07T12:34:49.249Z"
      },
      {
        "duration": 6,
        "start_time": "2023-01-07T12:34:49.256Z"
      },
      {
        "duration": 13,
        "start_time": "2023-01-07T12:34:52.566Z"
      },
      {
        "duration": 19,
        "start_time": "2023-01-07T12:35:00.063Z"
      },
      {
        "duration": 5,
        "start_time": "2023-01-07T12:35:05.659Z"
      },
      {
        "duration": 4,
        "start_time": "2023-01-07T12:35:23.874Z"
      },
      {
        "duration": 35,
        "start_time": "2023-01-07T12:35:25.183Z"
      },
      {
        "duration": 17,
        "start_time": "2023-01-07T12:35:27.340Z"
      },
      {
        "duration": 16,
        "start_time": "2023-01-07T12:36:46.949Z"
      },
      {
        "duration": 18,
        "start_time": "2023-01-07T12:36:52.433Z"
      },
      {
        "duration": 16,
        "start_time": "2023-01-07T12:37:17.305Z"
      },
      {
        "duration": 12,
        "start_time": "2023-01-07T12:38:21.295Z"
      },
      {
        "duration": 5,
        "start_time": "2023-01-07T12:38:27.111Z"
      },
      {
        "duration": 4,
        "start_time": "2023-01-07T12:38:35.527Z"
      },
      {
        "duration": 20,
        "start_time": "2023-01-07T12:38:35.533Z"
      },
      {
        "duration": 53,
        "start_time": "2023-01-07T12:38:35.554Z"
      },
      {
        "duration": 12,
        "start_time": "2023-01-07T12:38:35.608Z"
      },
      {
        "duration": 37,
        "start_time": "2023-01-07T12:38:35.622Z"
      },
      {
        "duration": 5,
        "start_time": "2023-01-07T12:38:35.660Z"
      },
      {
        "duration": 14,
        "start_time": "2023-01-07T12:38:35.666Z"
      },
      {
        "duration": 6,
        "start_time": "2023-01-07T12:38:35.681Z"
      },
      {
        "duration": 4,
        "start_time": "2023-01-07T12:38:35.690Z"
      },
      {
        "duration": 19,
        "start_time": "2023-01-07T12:38:35.696Z"
      },
      {
        "duration": 10,
        "start_time": "2023-01-07T12:38:35.717Z"
      },
      {
        "duration": 16,
        "start_time": "2023-01-07T12:38:35.728Z"
      },
      {
        "duration": 3,
        "start_time": "2023-01-07T12:38:35.746Z"
      },
      {
        "duration": 16,
        "start_time": "2023-01-07T12:38:35.751Z"
      },
      {
        "duration": 26,
        "start_time": "2023-01-07T12:38:42.541Z"
      },
      {
        "duration": 17,
        "start_time": "2023-01-07T12:38:43.880Z"
      },
      {
        "duration": 10,
        "start_time": "2023-01-07T12:39:02.260Z"
      },
      {
        "duration": 5,
        "start_time": "2023-01-07T12:39:44.924Z"
      },
      {
        "duration": 4,
        "start_time": "2023-01-07T12:39:55.835Z"
      },
      {
        "duration": 20,
        "start_time": "2023-01-07T12:39:55.841Z"
      },
      {
        "duration": 54,
        "start_time": "2023-01-07T12:39:55.862Z"
      },
      {
        "duration": 12,
        "start_time": "2023-01-07T12:39:55.918Z"
      },
      {
        "duration": 38,
        "start_time": "2023-01-07T12:39:55.933Z"
      },
      {
        "duration": 5,
        "start_time": "2023-01-07T12:39:55.973Z"
      },
      {
        "duration": 37,
        "start_time": "2023-01-07T12:39:55.979Z"
      },
      {
        "duration": 4,
        "start_time": "2023-01-07T12:39:56.018Z"
      },
      {
        "duration": 5,
        "start_time": "2023-01-07T12:39:56.024Z"
      },
      {
        "duration": 8,
        "start_time": "2023-01-07T12:39:56.031Z"
      },
      {
        "duration": 6,
        "start_time": "2023-01-07T12:39:56.040Z"
      },
      {
        "duration": 18,
        "start_time": "2023-01-07T12:39:56.047Z"
      },
      {
        "duration": 4,
        "start_time": "2023-01-07T12:39:56.067Z"
      },
      {
        "duration": 5,
        "start_time": "2023-01-07T12:39:56.073Z"
      },
      {
        "duration": 46,
        "start_time": "2023-01-07T12:39:56.079Z"
      },
      {
        "duration": 23,
        "start_time": "2023-01-07T12:39:56.127Z"
      },
      {
        "duration": 3,
        "start_time": "2023-01-07T12:39:56.152Z"
      },
      {
        "duration": 6,
        "start_time": "2023-01-07T12:39:56.157Z"
      },
      {
        "duration": 474,
        "start_time": "2023-01-07T12:39:56.164Z"
      },
      {
        "duration": 9,
        "start_time": "2023-01-07T12:40:00.368Z"
      },
      {
        "duration": 429,
        "start_time": "2023-01-07T12:40:27.208Z"
      },
      {
        "duration": 10,
        "start_time": "2023-01-07T12:40:29.000Z"
      },
      {
        "duration": 3,
        "start_time": "2023-01-07T12:40:35.113Z"
      },
      {
        "duration": 113,
        "start_time": "2023-01-07T12:40:35.829Z"
      },
      {
        "duration": 6,
        "start_time": "2023-01-07T12:41:52.679Z"
      },
      {
        "duration": 61,
        "start_time": "2023-01-07T12:41:54.573Z"
      },
      {
        "duration": 6,
        "start_time": "2023-01-07T12:42:21.604Z"
      },
      {
        "duration": 405,
        "start_time": "2023-01-07T12:42:24.406Z"
      },
      {
        "duration": 8,
        "start_time": "2023-01-07T12:42:27.670Z"
      },
      {
        "duration": 433,
        "start_time": "2023-01-07T12:42:32.202Z"
      },
      {
        "duration": 8,
        "start_time": "2023-01-07T12:42:35.263Z"
      },
      {
        "duration": 5,
        "start_time": "2023-01-07T12:42:36.460Z"
      },
      {
        "duration": 110,
        "start_time": "2023-01-07T12:42:37.592Z"
      },
      {
        "duration": 79,
        "start_time": "2023-01-07T12:42:41.437Z"
      },
      {
        "duration": 4,
        "start_time": "2023-01-07T12:42:58.636Z"
      },
      {
        "duration": 8,
        "start_time": "2023-01-07T12:43:00.761Z"
      },
      {
        "duration": 16,
        "start_time": "2023-01-07T12:43:16.340Z"
      },
      {
        "duration": 15,
        "start_time": "2023-01-07T12:44:28.057Z"
      },
      {
        "duration": 23,
        "start_time": "2023-01-07T12:44:47.664Z"
      },
      {
        "duration": 30,
        "start_time": "2023-01-07T12:44:59.956Z"
      },
      {
        "duration": 13,
        "start_time": "2023-01-07T12:45:09.865Z"
      },
      {
        "duration": 24,
        "start_time": "2023-01-07T12:45:20.523Z"
      },
      {
        "duration": 24,
        "start_time": "2023-01-07T12:45:40.685Z"
      },
      {
        "duration": 4,
        "start_time": "2023-01-07T12:45:48.920Z"
      },
      {
        "duration": 10,
        "start_time": "2023-01-07T12:45:48.926Z"
      },
      {
        "duration": 52,
        "start_time": "2023-01-07T12:45:48.937Z"
      },
      {
        "duration": 12,
        "start_time": "2023-01-07T12:45:48.991Z"
      },
      {
        "duration": 39,
        "start_time": "2023-01-07T12:45:49.004Z"
      },
      {
        "duration": 4,
        "start_time": "2023-01-07T12:45:49.045Z"
      },
      {
        "duration": 13,
        "start_time": "2023-01-07T12:45:49.051Z"
      },
      {
        "duration": 4,
        "start_time": "2023-01-07T12:45:49.066Z"
      },
      {
        "duration": 6,
        "start_time": "2023-01-07T12:45:49.071Z"
      },
      {
        "duration": 8,
        "start_time": "2023-01-07T12:45:49.079Z"
      },
      {
        "duration": 4,
        "start_time": "2023-01-07T12:45:49.116Z"
      },
      {
        "duration": 15,
        "start_time": "2023-01-07T12:45:49.122Z"
      },
      {
        "duration": 4,
        "start_time": "2023-01-07T12:45:49.139Z"
      },
      {
        "duration": 5,
        "start_time": "2023-01-07T12:45:49.144Z"
      },
      {
        "duration": 24,
        "start_time": "2023-01-07T12:45:49.150Z"
      },
      {
        "duration": 50,
        "start_time": "2023-01-07T12:45:49.175Z"
      },
      {
        "duration": 5,
        "start_time": "2023-01-07T12:45:49.226Z"
      },
      {
        "duration": 6,
        "start_time": "2023-01-07T12:45:49.232Z"
      },
      {
        "duration": 439,
        "start_time": "2023-01-07T12:45:49.240Z"
      },
      {
        "duration": 8,
        "start_time": "2023-01-07T12:45:49.680Z"
      },
      {
        "duration": 6,
        "start_time": "2023-01-07T12:45:49.690Z"
      },
      {
        "duration": 188964,
        "start_time": "2023-01-07T12:45:49.697Z"
      },
      {
        "duration": 9,
        "start_time": "2023-01-07T12:48:58.662Z"
      },
      {
        "duration": 7,
        "start_time": "2023-01-07T12:48:58.672Z"
      },
      {
        "duration": 140,
        "start_time": "2023-01-07T12:48:58.680Z"
      },
      {
        "duration": 99,
        "start_time": "2023-01-07T12:48:58.822Z"
      },
      {
        "duration": 13,
        "start_time": "2023-01-07T12:48:58.923Z"
      },
      {
        "duration": 9,
        "start_time": "2023-01-07T12:48:58.938Z"
      },
      {
        "duration": 17,
        "start_time": "2023-01-07T12:48:58.948Z"
      },
      {
        "duration": 439,
        "start_time": "2023-01-07T12:48:58.966Z"
      },
      {
        "duration": 11,
        "start_time": "2023-01-07T12:48:59.406Z"
      },
      {
        "duration": 9,
        "start_time": "2023-01-07T12:48:59.418Z"
      },
      {
        "duration": 110,
        "start_time": "2023-01-07T12:48:59.428Z"
      },
      {
        "duration": 187827,
        "start_time": "2023-01-07T12:48:59.539Z"
      },
      {
        "duration": 10,
        "start_time": "2023-01-07T12:52:07.369Z"
      },
      {
        "duration": 125,
        "start_time": "2023-01-07T12:52:07.381Z"
      },
      {
        "duration": 112,
        "start_time": "2023-01-07T12:52:07.508Z"
      },
      {
        "duration": 96,
        "start_time": "2023-01-07T12:52:07.623Z"
      },
      {
        "duration": 124,
        "start_time": "2023-01-07T12:52:07.721Z"
      },
      {
        "duration": 13,
        "start_time": "2023-01-07T12:52:07.847Z"
      },
      {
        "duration": 4,
        "start_time": "2023-01-07T12:53:01.832Z"
      },
      {
        "duration": 22,
        "start_time": "2023-01-07T12:53:17.061Z"
      },
      {
        "duration": 11,
        "start_time": "2023-01-07T12:53:32.083Z"
      },
      {
        "duration": 6,
        "start_time": "2023-01-07T12:53:40.806Z"
      },
      {
        "duration": 527,
        "start_time": "2023-01-07T12:53:45.156Z"
      },
      {
        "duration": 8,
        "start_time": "2023-01-07T12:53:48.066Z"
      },
      {
        "duration": 113,
        "start_time": "2023-01-07T12:53:51.061Z"
      },
      {
        "duration": 54,
        "start_time": "2023-01-07T12:53:55.937Z"
      },
      {
        "duration": 122,
        "start_time": "2023-01-07T12:54:02.895Z"
      },
      {
        "duration": 9,
        "start_time": "2023-01-07T12:54:04.687Z"
      },
      {
        "duration": 103,
        "start_time": "2023-01-07T12:54:06.640Z"
      },
      {
        "duration": 7,
        "start_time": "2023-01-07T12:54:56.716Z"
      },
      {
        "duration": 350,
        "start_time": "2023-01-07T12:55:00.111Z"
      },
      {
        "duration": 9,
        "start_time": "2023-01-07T12:55:01.876Z"
      },
      {
        "duration": 48,
        "start_time": "2023-01-07T12:55:18.594Z"
      },
      {
        "duration": 6,
        "start_time": "2023-01-07T12:55:23.227Z"
      },
      {
        "duration": 323,
        "start_time": "2023-01-07T12:55:29.119Z"
      },
      {
        "duration": 8,
        "start_time": "2023-01-07T12:55:30.544Z"
      },
      {
        "duration": 4,
        "start_time": "2023-01-07T12:55:34.151Z"
      },
      {
        "duration": 105,
        "start_time": "2023-01-07T12:55:34.599Z"
      },
      {
        "duration": 8311,
        "start_time": "2023-01-07T12:55:54.810Z"
      },
      {
        "duration": 10,
        "start_time": "2023-01-07T12:56:17.758Z"
      },
      {
        "duration": 10,
        "start_time": "2023-01-07T12:56:19.238Z"
      },
      {
        "duration": 4,
        "start_time": "2023-01-07T12:57:41.994Z"
      },
      {
        "duration": 7,
        "start_time": "2023-01-07T12:57:41.999Z"
      },
      {
        "duration": 49,
        "start_time": "2023-01-07T12:57:42.007Z"
      },
      {
        "duration": 13,
        "start_time": "2023-01-07T12:57:42.059Z"
      },
      {
        "duration": 56,
        "start_time": "2023-01-07T12:57:42.074Z"
      },
      {
        "duration": 5,
        "start_time": "2023-01-07T12:57:42.132Z"
      },
      {
        "duration": 16,
        "start_time": "2023-01-07T12:57:42.138Z"
      },
      {
        "duration": 5,
        "start_time": "2023-01-07T12:57:42.155Z"
      },
      {
        "duration": 12,
        "start_time": "2023-01-07T12:57:42.161Z"
      },
      {
        "duration": 5,
        "start_time": "2023-01-07T12:57:42.175Z"
      },
      {
        "duration": 35,
        "start_time": "2023-01-07T12:57:42.181Z"
      },
      {
        "duration": 12,
        "start_time": "2023-01-07T12:57:42.218Z"
      },
      {
        "duration": 4,
        "start_time": "2023-01-07T12:57:42.231Z"
      },
      {
        "duration": 6,
        "start_time": "2023-01-07T12:57:42.237Z"
      },
      {
        "duration": 24,
        "start_time": "2023-01-07T12:57:42.244Z"
      },
      {
        "duration": 47,
        "start_time": "2023-01-07T12:57:42.269Z"
      },
      {
        "duration": 5,
        "start_time": "2023-01-07T12:57:42.317Z"
      },
      {
        "duration": 9,
        "start_time": "2023-01-07T12:57:42.323Z"
      },
      {
        "duration": 330,
        "start_time": "2023-01-07T12:57:42.333Z"
      },
      {
        "duration": 8,
        "start_time": "2023-01-07T12:57:42.665Z"
      },
      {
        "duration": 7,
        "start_time": "2023-01-07T12:57:42.674Z"
      },
      {
        "duration": 189305,
        "start_time": "2023-01-07T12:57:42.682Z"
      },
      {
        "duration": 9,
        "start_time": "2023-01-07T13:00:51.988Z"
      },
      {
        "duration": 12,
        "start_time": "2023-01-07T13:00:51.999Z"
      },
      {
        "duration": 108,
        "start_time": "2023-01-07T13:00:52.016Z"
      },
      {
        "duration": 96,
        "start_time": "2023-01-07T13:00:52.126Z"
      },
      {
        "duration": 13,
        "start_time": "2023-01-07T13:00:52.224Z"
      },
      {
        "duration": 9,
        "start_time": "2023-01-07T13:00:52.240Z"
      },
      {
        "duration": 14,
        "start_time": "2023-01-07T13:00:52.250Z"
      },
      {
        "duration": 372,
        "start_time": "2023-01-07T13:00:52.266Z"
      },
      {
        "duration": 9,
        "start_time": "2023-01-07T13:00:52.639Z"
      },
      {
        "duration": 17,
        "start_time": "2023-01-07T13:00:52.649Z"
      },
      {
        "duration": 111,
        "start_time": "2023-01-07T13:00:52.668Z"
      },
      {
        "duration": 59,
        "start_time": "2023-01-07T13:00:52.782Z"
      },
      {
        "duration": 11,
        "start_time": "2023-01-07T13:00:52.844Z"
      },
      {
        "duration": 109,
        "start_time": "2023-01-07T13:00:52.857Z"
      },
      {
        "duration": 57,
        "start_time": "2023-01-07T13:00:52.968Z"
      },
      {
        "duration": 13,
        "start_time": "2023-01-07T13:00:53.116Z"
      },
      {
        "duration": 241,
        "start_time": "2023-01-07T13:00:53.131Z"
      },
      {
        "duration": 14,
        "start_time": "2023-01-07T13:00:53.374Z"
      },
      {
        "duration": 7,
        "start_time": "2023-01-07T13:00:53.390Z"
      },
      {
        "duration": 26,
        "start_time": "2023-01-07T13:00:53.398Z"
      },
      {
        "duration": 6,
        "start_time": "2023-01-07T13:00:53.426Z"
      },
      {
        "duration": 439,
        "start_time": "2023-01-07T13:00:53.434Z"
      },
      {
        "duration": 9,
        "start_time": "2023-01-07T13:00:53.875Z"
      },
      {
        "duration": 114,
        "start_time": "2023-01-07T13:00:53.885Z"
      },
      {
        "duration": 258732,
        "start_time": "2023-01-07T13:00:54.001Z"
      },
      {
        "duration": 8,
        "start_time": "2023-01-07T13:05:12.735Z"
      },
      {
        "duration": 112,
        "start_time": "2023-01-07T13:05:12.745Z"
      },
      {
        "duration": 258,
        "start_time": "2023-01-07T13:05:12.858Z"
      },
      {
        "duration": 9,
        "start_time": "2023-01-07T13:05:13.117Z"
      },
      {
        "duration": 119,
        "start_time": "2023-01-07T13:05:13.127Z"
      },
      {
        "duration": 13,
        "start_time": "2023-01-07T13:05:13.248Z"
      },
      {
        "duration": 10,
        "start_time": "2023-01-07T13:05:13.263Z"
      },
      {
        "duration": 5,
        "start_time": "2023-01-07T13:05:13.275Z"
      },
      {
        "duration": 190,
        "start_time": "2023-01-07T13:05:13.281Z"
      },
      {
        "duration": 8,
        "start_time": "2023-01-07T13:05:13.473Z"
      },
      {
        "duration": 122,
        "start_time": "2023-01-07T13:05:13.482Z"
      },
      {
        "duration": 107706,
        "start_time": "2023-01-07T13:05:13.605Z"
      },
      {
        "duration": 11,
        "start_time": "2023-01-07T13:07:01.313Z"
      },
      {
        "duration": 151,
        "start_time": "2023-01-07T13:07:01.326Z"
      },
      {
        "duration": 140,
        "start_time": "2023-01-07T13:07:01.479Z"
      },
      {
        "duration": 102,
        "start_time": "2023-01-07T13:07:01.621Z"
      },
      {
        "duration": 144,
        "start_time": "2023-01-07T13:07:01.725Z"
      },
      {
        "duration": 14,
        "start_time": "2023-01-07T13:07:01.870Z"
      },
      {
        "duration": 17,
        "start_time": "2023-01-07T13:10:10.501Z"
      },
      {
        "duration": 9,
        "start_time": "2023-01-07T13:10:46.841Z"
      },
      {
        "duration": 14,
        "start_time": "2023-01-07T13:10:49.372Z"
      },
      {
        "duration": 18,
        "start_time": "2023-01-07T13:10:54.396Z"
      },
      {
        "duration": 14,
        "start_time": "2023-01-07T13:11:03.927Z"
      },
      {
        "duration": 191,
        "start_time": "2023-01-07T13:11:26.891Z"
      },
      {
        "duration": 9,
        "start_time": "2023-01-07T13:11:28.523Z"
      },
      {
        "duration": 584,
        "start_time": "2023-01-07T13:11:32.832Z"
      },
      {
        "duration": 4,
        "start_time": "2023-01-07T13:13:44.239Z"
      },
      {
        "duration": 7,
        "start_time": "2023-01-07T13:13:44.244Z"
      },
      {
        "duration": 50,
        "start_time": "2023-01-07T13:13:44.253Z"
      },
      {
        "duration": 9,
        "start_time": "2023-01-07T13:13:44.305Z"
      },
      {
        "duration": 35,
        "start_time": "2023-01-07T13:13:44.316Z"
      },
      {
        "duration": 5,
        "start_time": "2023-01-07T13:13:44.352Z"
      },
      {
        "duration": 12,
        "start_time": "2023-01-07T13:13:44.358Z"
      },
      {
        "duration": 3,
        "start_time": "2023-01-07T13:13:44.371Z"
      },
      {
        "duration": 4,
        "start_time": "2023-01-07T13:13:44.376Z"
      },
      {
        "duration": 35,
        "start_time": "2023-01-07T13:13:44.381Z"
      },
      {
        "duration": 4,
        "start_time": "2023-01-07T13:13:44.418Z"
      },
      {
        "duration": 15,
        "start_time": "2023-01-07T13:13:44.423Z"
      },
      {
        "duration": 4,
        "start_time": "2023-01-07T13:13:44.440Z"
      },
      {
        "duration": 7,
        "start_time": "2023-01-07T13:13:44.445Z"
      },
      {
        "duration": 31,
        "start_time": "2023-01-07T13:13:44.454Z"
      },
      {
        "duration": 44,
        "start_time": "2023-01-07T13:13:44.486Z"
      },
      {
        "duration": 3,
        "start_time": "2023-01-07T13:13:44.532Z"
      },
      {
        "duration": 6,
        "start_time": "2023-01-07T13:13:44.537Z"
      },
      {
        "duration": 331,
        "start_time": "2023-01-07T13:13:44.544Z"
      },
      {
        "duration": 8,
        "start_time": "2023-01-07T13:13:44.876Z"
      },
      {
        "duration": 7,
        "start_time": "2023-01-07T13:13:44.885Z"
      },
      {
        "duration": 37851,
        "start_time": "2023-01-07T13:13:44.893Z"
      },
      {
        "duration": 9,
        "start_time": "2023-01-07T13:14:22.746Z"
      },
      {
        "duration": 6,
        "start_time": "2023-01-07T13:14:22.756Z"
      },
      {
        "duration": 76,
        "start_time": "2023-01-07T13:14:22.764Z"
      },
      {
        "duration": 12,
        "start_time": "2023-01-07T13:14:22.919Z"
      },
      {
        "duration": 17,
        "start_time": "2023-01-07T13:14:22.934Z"
      },
      {
        "duration": 70,
        "start_time": "2023-01-07T13:14:22.952Z"
      },
      {
        "duration": 24,
        "start_time": "2023-01-07T13:14:23.023Z"
      },
      {
        "duration": 353,
        "start_time": "2023-01-07T13:14:23.049Z"
      },
      {
        "duration": 24,
        "start_time": "2023-01-07T13:14:23.404Z"
      },
      {
        "duration": 6,
        "start_time": "2023-01-07T13:14:23.429Z"
      },
      {
        "duration": 133,
        "start_time": "2023-01-07T13:14:23.436Z"
      },
      {
        "duration": 198490,
        "start_time": "2023-01-07T13:14:23.570Z"
      },
      {
        "duration": 14,
        "start_time": "2023-01-07T13:17:42.062Z"
      },
      {
        "duration": 129,
        "start_time": "2023-01-07T13:17:42.077Z"
      },
      {
        "duration": 101,
        "start_time": "2023-01-07T13:17:42.222Z"
      },
      {
        "duration": 12,
        "start_time": "2023-01-07T13:17:42.326Z"
      },
      {
        "duration": 135,
        "start_time": "2023-01-07T13:17:42.420Z"
      },
      {
        "duration": 14,
        "start_time": "2023-01-07T13:17:42.556Z"
      },
      {
        "duration": 6,
        "start_time": "2023-01-07T13:17:42.571Z"
      },
      {
        "duration": 20,
        "start_time": "2023-01-07T13:17:42.578Z"
      },
      {
        "duration": 12,
        "start_time": "2023-01-07T13:17:42.600Z"
      },
      {
        "duration": 423,
        "start_time": "2023-01-07T13:17:42.615Z"
      },
      {
        "duration": 9,
        "start_time": "2023-01-07T13:17:43.039Z"
      },
      {
        "duration": 124,
        "start_time": "2023-01-07T13:17:43.049Z"
      },
      {
        "duration": 2929,
        "start_time": "2023-01-07T13:17:43.175Z"
      },
      {
        "duration": 9,
        "start_time": "2023-01-07T13:17:46.105Z"
      },
      {
        "duration": 123,
        "start_time": "2023-01-07T13:17:46.116Z"
      },
      {
        "duration": 89,
        "start_time": "2023-01-07T13:17:46.240Z"
      },
      {
        "duration": 107,
        "start_time": "2023-01-07T13:17:46.334Z"
      },
      {
        "duration": 161,
        "start_time": "2023-01-07T13:17:46.443Z"
      },
      {
        "duration": 29,
        "start_time": "2023-01-07T13:17:46.607Z"
      },
      {
        "duration": 11,
        "start_time": "2023-01-07T13:17:46.638Z"
      },
      {
        "duration": 5,
        "start_time": "2023-01-07T13:17:46.650Z"
      },
      {
        "duration": 203,
        "start_time": "2023-01-07T13:17:46.657Z"
      },
      {
        "duration": 8,
        "start_time": "2023-01-07T13:17:46.862Z"
      },
      {
        "duration": 121,
        "start_time": "2023-01-07T13:17:46.872Z"
      },
      {
        "duration": 60,
        "start_time": "2023-01-07T13:19:09.894Z"
      },
      {
        "duration": 1134,
        "start_time": "2023-01-07T13:19:16.530Z"
      },
      {
        "duration": 3,
        "start_time": "2023-01-07T13:19:17.666Z"
      },
      {
        "duration": 57,
        "start_time": "2023-01-07T13:19:17.670Z"
      },
      {
        "duration": 11,
        "start_time": "2023-01-07T13:19:17.729Z"
      },
      {
        "duration": 36,
        "start_time": "2023-01-07T13:19:17.741Z"
      },
      {
        "duration": 4,
        "start_time": "2023-01-07T13:19:17.779Z"
      },
      {
        "duration": 34,
        "start_time": "2023-01-07T13:19:17.785Z"
      },
      {
        "duration": 11,
        "start_time": "2023-01-07T13:19:17.821Z"
      },
      {
        "duration": 7,
        "start_time": "2023-01-07T13:19:17.834Z"
      },
      {
        "duration": 11,
        "start_time": "2023-01-07T13:19:17.842Z"
      },
      {
        "duration": 12,
        "start_time": "2023-01-07T13:19:17.854Z"
      },
      {
        "duration": 19,
        "start_time": "2023-01-07T13:19:17.868Z"
      },
      {
        "duration": 4,
        "start_time": "2023-01-07T13:19:17.888Z"
      },
      {
        "duration": 14,
        "start_time": "2023-01-07T13:19:22.479Z"
      },
      {
        "duration": 15,
        "start_time": "2023-01-07T13:19:35.938Z"
      },
      {
        "duration": 35,
        "start_time": "2023-01-07T13:19:42.448Z"
      },
      {
        "duration": 4,
        "start_time": "2023-01-07T13:21:36.003Z"
      },
      {
        "duration": 14,
        "start_time": "2023-01-07T13:21:36.009Z"
      },
      {
        "duration": 59,
        "start_time": "2023-01-07T13:21:36.025Z"
      },
      {
        "duration": 12,
        "start_time": "2023-01-07T13:21:36.086Z"
      },
      {
        "duration": 41,
        "start_time": "2023-01-07T13:21:36.099Z"
      },
      {
        "duration": 5,
        "start_time": "2023-01-07T13:21:36.141Z"
      },
      {
        "duration": 14,
        "start_time": "2023-01-07T13:21:36.147Z"
      },
      {
        "duration": 3,
        "start_time": "2023-01-07T13:21:36.163Z"
      },
      {
        "duration": 5,
        "start_time": "2023-01-07T13:21:36.168Z"
      },
      {
        "duration": 8,
        "start_time": "2023-01-07T13:21:36.174Z"
      },
      {
        "duration": 12,
        "start_time": "2023-01-07T13:21:36.183Z"
      },
      {
        "duration": 21,
        "start_time": "2023-01-07T13:21:36.196Z"
      },
      {
        "duration": 8,
        "start_time": "2023-01-07T13:21:36.223Z"
      },
      {
        "duration": 12,
        "start_time": "2023-01-07T13:22:03.668Z"
      },
      {
        "duration": 17,
        "start_time": "2023-01-07T13:22:21.317Z"
      },
      {
        "duration": 85,
        "start_time": "2023-01-07T13:22:41.683Z"
      },
      {
        "duration": 12,
        "start_time": "2023-01-07T13:22:52.405Z"
      },
      {
        "duration": 38,
        "start_time": "2023-01-07T13:22:57.068Z"
      },
      {
        "duration": 21,
        "start_time": "2023-01-07T13:23:56.456Z"
      },
      {
        "duration": 4,
        "start_time": "2023-01-07T13:24:03.648Z"
      },
      {
        "duration": 10,
        "start_time": "2023-01-07T13:24:03.654Z"
      },
      {
        "duration": 52,
        "start_time": "2023-01-07T13:24:03.666Z"
      },
      {
        "duration": 12,
        "start_time": "2023-01-07T13:24:03.720Z"
      },
      {
        "duration": 36,
        "start_time": "2023-01-07T13:24:03.734Z"
      },
      {
        "duration": 4,
        "start_time": "2023-01-07T13:24:03.772Z"
      },
      {
        "duration": 12,
        "start_time": "2023-01-07T13:24:03.777Z"
      },
      {
        "duration": 4,
        "start_time": "2023-01-07T13:24:03.815Z"
      },
      {
        "duration": 5,
        "start_time": "2023-01-07T13:24:03.820Z"
      },
      {
        "duration": 6,
        "start_time": "2023-01-07T13:24:03.826Z"
      },
      {
        "duration": 10,
        "start_time": "2023-01-07T13:24:03.834Z"
      },
      {
        "duration": 17,
        "start_time": "2023-01-07T13:24:03.846Z"
      },
      {
        "duration": 4,
        "start_time": "2023-01-07T13:24:03.865Z"
      },
      {
        "duration": 16,
        "start_time": "2023-01-07T13:24:06.869Z"
      },
      {
        "duration": 12,
        "start_time": "2023-01-07T13:27:52.695Z"
      },
      {
        "duration": 19,
        "start_time": "2023-01-07T13:28:08.300Z"
      },
      {
        "duration": 19,
        "start_time": "2023-01-07T13:31:01.941Z"
      },
      {
        "duration": 18,
        "start_time": "2023-01-07T13:31:15.963Z"
      },
      {
        "duration": 27,
        "start_time": "2023-01-07T13:32:33.948Z"
      },
      {
        "duration": 8,
        "start_time": "2023-01-07T13:44:57.033Z"
      },
      {
        "duration": 27,
        "start_time": "2023-01-07T13:45:06.260Z"
      },
      {
        "duration": 25,
        "start_time": "2023-01-07T13:45:25.884Z"
      },
      {
        "duration": 17,
        "start_time": "2023-01-07T13:45:47.226Z"
      },
      {
        "duration": 22,
        "start_time": "2023-01-07T13:46:01.805Z"
      },
      {
        "duration": 4,
        "start_time": "2023-01-07T13:46:17.850Z"
      },
      {
        "duration": 9,
        "start_time": "2023-01-07T13:46:17.856Z"
      },
      {
        "duration": 51,
        "start_time": "2023-01-07T13:46:17.866Z"
      },
      {
        "duration": 11,
        "start_time": "2023-01-07T13:46:17.919Z"
      },
      {
        "duration": 36,
        "start_time": "2023-01-07T13:46:17.932Z"
      },
      {
        "duration": 4,
        "start_time": "2023-01-07T13:46:17.970Z"
      },
      {
        "duration": 20,
        "start_time": "2023-01-07T13:46:17.976Z"
      },
      {
        "duration": 20,
        "start_time": "2023-01-07T13:46:17.997Z"
      },
      {
        "duration": 11,
        "start_time": "2023-01-07T13:46:18.018Z"
      },
      {
        "duration": 11,
        "start_time": "2023-01-07T13:46:18.031Z"
      },
      {
        "duration": 11,
        "start_time": "2023-01-07T13:46:18.043Z"
      },
      {
        "duration": 19,
        "start_time": "2023-01-07T13:46:18.056Z"
      },
      {
        "duration": 10,
        "start_time": "2023-01-07T13:46:18.077Z"
      },
      {
        "duration": 27,
        "start_time": "2023-01-07T13:46:18.088Z"
      },
      {
        "duration": 16,
        "start_time": "2023-01-07T13:46:18.116Z"
      },
      {
        "duration": 27,
        "start_time": "2023-01-07T13:46:18.133Z"
      },
      {
        "duration": 20,
        "start_time": "2023-01-07T13:46:22.170Z"
      },
      {
        "duration": 26,
        "start_time": "2023-01-07T13:46:28.084Z"
      },
      {
        "duration": 5,
        "start_time": "2023-01-07T13:47:14.878Z"
      },
      {
        "duration": 10,
        "start_time": "2023-01-07T13:47:14.885Z"
      },
      {
        "duration": 54,
        "start_time": "2023-01-07T13:47:14.896Z"
      },
      {
        "duration": 10,
        "start_time": "2023-01-07T13:47:14.952Z"
      },
      {
        "duration": 35,
        "start_time": "2023-01-07T13:47:14.963Z"
      },
      {
        "duration": 18,
        "start_time": "2023-01-07T13:47:15.000Z"
      },
      {
        "duration": 17,
        "start_time": "2023-01-07T13:47:15.019Z"
      },
      {
        "duration": 4,
        "start_time": "2023-01-07T13:47:15.037Z"
      },
      {
        "duration": 7,
        "start_time": "2023-01-07T13:47:15.043Z"
      },
      {
        "duration": 4,
        "start_time": "2023-01-07T13:47:15.052Z"
      },
      {
        "duration": 12,
        "start_time": "2023-01-07T13:47:15.058Z"
      },
      {
        "duration": 14,
        "start_time": "2023-01-07T13:47:15.071Z"
      },
      {
        "duration": 3,
        "start_time": "2023-01-07T13:47:15.086Z"
      },
      {
        "duration": 15,
        "start_time": "2023-01-07T13:47:15.115Z"
      },
      {
        "duration": 7,
        "start_time": "2023-01-07T13:47:15.131Z"
      },
      {
        "duration": 21,
        "start_time": "2023-01-07T13:47:15.139Z"
      },
      {
        "duration": 23,
        "start_time": "2023-01-07T13:47:15.161Z"
      },
      {
        "duration": 29,
        "start_time": "2023-01-07T13:47:15.186Z"
      },
      {
        "duration": 5,
        "start_time": "2023-01-07T13:47:15.217Z"
      },
      {
        "duration": 324,
        "start_time": "2023-01-07T13:47:15.224Z"
      },
      {
        "duration": 9,
        "start_time": "2023-01-07T13:47:15.549Z"
      },
      {
        "duration": 10,
        "start_time": "2023-01-07T13:47:15.560Z"
      },
      {
        "duration": 188318,
        "start_time": "2023-01-07T13:47:15.572Z"
      },
      {
        "duration": 9,
        "start_time": "2023-01-07T13:50:23.891Z"
      },
      {
        "duration": 13,
        "start_time": "2023-01-07T13:50:23.902Z"
      },
      {
        "duration": 100,
        "start_time": "2023-01-07T13:50:23.917Z"
      },
      {
        "duration": 104,
        "start_time": "2023-01-07T13:50:24.019Z"
      },
      {
        "duration": 12,
        "start_time": "2023-01-07T13:50:24.126Z"
      },
      {
        "duration": 7,
        "start_time": "2023-01-07T13:50:24.140Z"
      },
      {
        "duration": 13,
        "start_time": "2023-01-07T13:50:24.149Z"
      },
      {
        "duration": 357,
        "start_time": "2023-01-07T13:50:24.164Z"
      },
      {
        "duration": 9,
        "start_time": "2023-01-07T13:50:24.522Z"
      },
      {
        "duration": 7,
        "start_time": "2023-01-07T13:50:24.532Z"
      },
      {
        "duration": 123,
        "start_time": "2023-01-07T13:50:24.540Z"
      },
      {
        "duration": 189048,
        "start_time": "2023-01-07T13:50:24.665Z"
      },
      {
        "duration": 9,
        "start_time": "2023-01-07T13:53:33.714Z"
      },
      {
        "duration": 111,
        "start_time": "2023-01-07T13:53:33.725Z"
      },
      {
        "duration": 92,
        "start_time": "2023-01-07T13:53:33.838Z"
      },
      {
        "duration": 12,
        "start_time": "2023-01-07T13:53:34.017Z"
      },
      {
        "duration": 149,
        "start_time": "2023-01-07T13:53:34.031Z"
      },
      {
        "duration": 13,
        "start_time": "2023-01-07T13:53:34.182Z"
      },
      {
        "duration": 19,
        "start_time": "2023-01-07T13:53:34.196Z"
      },
      {
        "duration": 17,
        "start_time": "2023-01-07T13:53:34.216Z"
      },
      {
        "duration": 10,
        "start_time": "2023-01-07T13:53:34.235Z"
      },
      {
        "duration": 398,
        "start_time": "2023-01-07T13:53:34.246Z"
      },
      {
        "duration": 8,
        "start_time": "2023-01-07T13:53:34.646Z"
      },
      {
        "duration": 123,
        "start_time": "2023-01-07T13:53:34.656Z"
      },
      {
        "duration": 265326,
        "start_time": "2023-01-07T13:53:34.781Z"
      },
      {
        "duration": 16,
        "start_time": "2023-01-07T13:58:00.109Z"
      },
      {
        "duration": 143,
        "start_time": "2023-01-07T13:58:00.127Z"
      },
      {
        "duration": 346,
        "start_time": "2023-01-07T13:58:00.272Z"
      },
      {
        "duration": 9,
        "start_time": "2023-01-07T13:58:00.620Z"
      },
      {
        "duration": 146,
        "start_time": "2023-01-07T13:58:00.631Z"
      },
      {
        "duration": 17,
        "start_time": "2023-01-07T13:58:00.779Z"
      },
      {
        "duration": 12,
        "start_time": "2023-01-07T13:58:00.815Z"
      },
      {
        "duration": 31,
        "start_time": "2023-01-07T13:58:00.828Z"
      },
      {
        "duration": 220,
        "start_time": "2023-01-07T13:58:00.861Z"
      },
      {
        "duration": 10,
        "start_time": "2023-01-07T13:58:01.083Z"
      },
      {
        "duration": 142,
        "start_time": "2023-01-07T13:58:01.095Z"
      },
      {
        "duration": 110942,
        "start_time": "2023-01-07T13:58:01.239Z"
      },
      {
        "duration": 9,
        "start_time": "2023-01-07T13:59:52.184Z"
      },
      {
        "duration": 114,
        "start_time": "2023-01-07T13:59:52.195Z"
      },
      {
        "duration": 108,
        "start_time": "2023-01-07T13:59:52.312Z"
      },
      {
        "duration": 102,
        "start_time": "2023-01-07T13:59:52.422Z"
      },
      {
        "duration": 124,
        "start_time": "2023-01-07T13:59:52.525Z"
      },
      {
        "duration": 14,
        "start_time": "2023-01-07T13:59:52.652Z"
      },
      {
        "duration": 24,
        "start_time": "2023-01-07T13:59:52.668Z"
      },
      {
        "duration": 87,
        "start_time": "2023-01-07T14:03:31.157Z"
      },
      {
        "duration": 9,
        "start_time": "2023-01-07T14:03:32.367Z"
      },
      {
        "duration": 6,
        "start_time": "2023-01-07T14:10:49.296Z"
      },
      {
        "duration": 352357,
        "start_time": "2023-01-07T14:11:05.145Z"
      },
      {
        "duration": 100,
        "start_time": "2023-01-07T14:17:12.021Z"
      },
      {
        "duration": 8,
        "start_time": "2023-01-07T14:17:14.816Z"
      },
      {
        "duration": 6,
        "start_time": "2023-01-07T16:16:01.218Z"
      },
      {
        "duration": 4,
        "start_time": "2023-01-07T16:16:27.541Z"
      },
      {
        "duration": 10,
        "start_time": "2023-01-07T16:16:27.547Z"
      },
      {
        "duration": 54,
        "start_time": "2023-01-07T16:16:27.558Z"
      },
      {
        "duration": 10,
        "start_time": "2023-01-07T16:16:27.614Z"
      },
      {
        "duration": 34,
        "start_time": "2023-01-07T16:16:27.626Z"
      },
      {
        "duration": 4,
        "start_time": "2023-01-07T16:16:27.662Z"
      },
      {
        "duration": 14,
        "start_time": "2023-01-07T16:16:27.668Z"
      },
      {
        "duration": 3,
        "start_time": "2023-01-07T16:16:27.683Z"
      },
      {
        "duration": 8,
        "start_time": "2023-01-07T16:16:27.688Z"
      },
      {
        "duration": 20,
        "start_time": "2023-01-07T16:16:27.697Z"
      },
      {
        "duration": 6,
        "start_time": "2023-01-07T16:16:27.718Z"
      },
      {
        "duration": 15,
        "start_time": "2023-01-07T16:16:27.725Z"
      },
      {
        "duration": 4,
        "start_time": "2023-01-07T16:16:27.741Z"
      },
      {
        "duration": 18,
        "start_time": "2023-01-07T16:16:27.747Z"
      },
      {
        "duration": 5,
        "start_time": "2023-01-07T16:16:27.766Z"
      },
      {
        "duration": 44,
        "start_time": "2023-01-07T16:16:27.773Z"
      },
      {
        "duration": 25,
        "start_time": "2023-01-07T16:16:27.818Z"
      },
      {
        "duration": 4,
        "start_time": "2023-01-07T16:16:27.844Z"
      },
      {
        "duration": 8,
        "start_time": "2023-01-07T16:16:27.850Z"
      },
      {
        "duration": 350,
        "start_time": "2023-01-07T16:16:27.860Z"
      },
      {
        "duration": 8,
        "start_time": "2023-01-07T16:16:28.215Z"
      },
      {
        "duration": 7,
        "start_time": "2023-01-07T16:16:28.225Z"
      },
      {
        "duration": 188844,
        "start_time": "2023-01-07T16:16:28.233Z"
      },
      {
        "duration": 8,
        "start_time": "2023-01-07T16:19:37.080Z"
      },
      {
        "duration": 6,
        "start_time": "2023-01-07T16:19:37.089Z"
      },
      {
        "duration": 120,
        "start_time": "2023-01-07T16:19:37.097Z"
      },
      {
        "duration": 99,
        "start_time": "2023-01-07T16:19:37.219Z"
      },
      {
        "duration": 13,
        "start_time": "2023-01-07T16:19:37.319Z"
      },
      {
        "duration": 8,
        "start_time": "2023-01-07T16:19:37.333Z"
      },
      {
        "duration": 13,
        "start_time": "2023-01-07T16:19:37.342Z"
      },
      {
        "duration": 367,
        "start_time": "2023-01-07T16:19:37.356Z"
      },
      {
        "duration": 9,
        "start_time": "2023-01-07T16:19:37.724Z"
      },
      {
        "duration": 5,
        "start_time": "2023-01-07T16:19:37.734Z"
      },
      {
        "duration": 119,
        "start_time": "2023-01-07T16:19:37.741Z"
      },
      {
        "duration": 188582,
        "start_time": "2023-01-07T16:19:37.861Z"
      },
      {
        "duration": 8,
        "start_time": "2023-01-07T16:22:46.445Z"
      },
      {
        "duration": 126,
        "start_time": "2023-01-07T16:22:46.455Z"
      },
      {
        "duration": 134,
        "start_time": "2023-01-07T16:22:46.583Z"
      },
      {
        "duration": 101,
        "start_time": "2023-01-07T16:22:46.719Z"
      },
      {
        "duration": 116,
        "start_time": "2023-01-07T16:22:46.821Z"
      },
      {
        "duration": 14,
        "start_time": "2023-01-07T16:22:46.939Z"
      },
      {
        "duration": 7,
        "start_time": "2023-01-07T16:22:46.955Z"
      },
      {
        "duration": 10,
        "start_time": "2023-01-07T16:22:46.963Z"
      },
      {
        "duration": 5,
        "start_time": "2023-01-07T16:22:46.975Z"
      },
      {
        "duration": 411,
        "start_time": "2023-01-07T16:22:46.982Z"
      },
      {
        "duration": 10,
        "start_time": "2023-01-07T16:22:47.395Z"
      },
      {
        "duration": 128,
        "start_time": "2023-01-07T16:22:47.407Z"
      },
      {
        "duration": 261170,
        "start_time": "2023-01-07T16:22:47.536Z"
      },
      {
        "duration": 9,
        "start_time": "2023-01-07T16:27:08.708Z"
      },
      {
        "duration": 141,
        "start_time": "2023-01-07T16:27:08.722Z"
      },
      {
        "duration": 59,
        "start_time": "2023-01-07T16:27:08.865Z"
      },
      {
        "duration": 9,
        "start_time": "2023-01-07T16:27:09.016Z"
      },
      {
        "duration": 152,
        "start_time": "2023-01-07T16:27:09.026Z"
      },
      {
        "duration": 13,
        "start_time": "2023-01-07T16:27:09.179Z"
      },
      {
        "duration": 22,
        "start_time": "2023-01-07T16:27:09.194Z"
      },
      {
        "duration": 24,
        "start_time": "2023-01-07T16:27:09.218Z"
      },
      {
        "duration": 197,
        "start_time": "2023-01-07T16:27:09.243Z"
      },
      {
        "duration": 8,
        "start_time": "2023-01-07T16:27:09.441Z"
      },
      {
        "duration": 187,
        "start_time": "2023-01-07T16:27:09.451Z"
      },
      {
        "duration": 108163,
        "start_time": "2023-01-07T16:27:09.639Z"
      },
      {
        "duration": 8,
        "start_time": "2023-01-07T16:28:57.804Z"
      },
      {
        "duration": 115,
        "start_time": "2023-01-07T16:28:57.815Z"
      },
      {
        "duration": 188,
        "start_time": "2023-01-07T16:28:57.931Z"
      },
      {
        "duration": 10,
        "start_time": "2023-01-07T16:28:58.120Z"
      },
      {
        "duration": 153,
        "start_time": "2023-01-07T16:28:58.132Z"
      },
      {
        "duration": 13,
        "start_time": "2023-01-07T16:28:58.287Z"
      },
      {
        "duration": 27,
        "start_time": "2023-01-07T16:28:58.301Z"
      },
      {
        "duration": 101,
        "start_time": "2023-01-07T16:28:58.330Z"
      },
      {
        "duration": 10,
        "start_time": "2023-01-07T16:28:58.432Z"
      },
      {
        "duration": 1510,
        "start_time": "2023-01-08T05:51:25.549Z"
      },
      {
        "duration": 5436,
        "start_time": "2023-01-08T05:51:27.061Z"
      },
      {
        "duration": 101,
        "start_time": "2023-01-08T05:51:32.499Z"
      },
      {
        "duration": 14,
        "start_time": "2023-01-08T05:51:32.601Z"
      },
      {
        "duration": 39,
        "start_time": "2023-01-08T05:51:32.617Z"
      },
      {
        "duration": 5,
        "start_time": "2023-01-08T05:51:32.658Z"
      },
      {
        "duration": 11,
        "start_time": "2023-01-08T05:51:32.665Z"
      },
      {
        "duration": 5,
        "start_time": "2023-01-08T05:51:32.678Z"
      },
      {
        "duration": 4,
        "start_time": "2023-01-08T05:51:32.684Z"
      },
      {
        "duration": 34,
        "start_time": "2023-01-08T05:51:32.689Z"
      },
      {
        "duration": 6,
        "start_time": "2023-01-08T05:51:32.725Z"
      },
      {
        "duration": 16,
        "start_time": "2023-01-08T05:51:32.733Z"
      },
      {
        "duration": 3,
        "start_time": "2023-01-08T05:51:32.751Z"
      },
      {
        "duration": 17,
        "start_time": "2023-01-08T05:51:32.758Z"
      },
      {
        "duration": 139,
        "start_time": "2023-01-08T05:51:32.776Z"
      },
      {
        "duration": 0,
        "start_time": "2023-01-08T05:51:32.917Z"
      },
      {
        "duration": 0,
        "start_time": "2023-01-08T05:51:32.918Z"
      },
      {
        "duration": 0,
        "start_time": "2023-01-08T05:51:32.921Z"
      },
      {
        "duration": 0,
        "start_time": "2023-01-08T05:51:32.922Z"
      },
      {
        "duration": 0,
        "start_time": "2023-01-08T05:51:32.923Z"
      },
      {
        "duration": 0,
        "start_time": "2023-01-08T05:51:32.924Z"
      },
      {
        "duration": 0,
        "start_time": "2023-01-08T05:51:32.925Z"
      },
      {
        "duration": 0,
        "start_time": "2023-01-08T05:51:32.926Z"
      },
      {
        "duration": 0,
        "start_time": "2023-01-08T05:51:32.927Z"
      },
      {
        "duration": 0,
        "start_time": "2023-01-08T05:51:32.928Z"
      },
      {
        "duration": 0,
        "start_time": "2023-01-08T05:51:32.929Z"
      },
      {
        "duration": 0,
        "start_time": "2023-01-08T05:51:32.930Z"
      },
      {
        "duration": 0,
        "start_time": "2023-01-08T05:51:32.931Z"
      },
      {
        "duration": 0,
        "start_time": "2023-01-08T05:51:32.931Z"
      },
      {
        "duration": 0,
        "start_time": "2023-01-08T05:51:32.932Z"
      },
      {
        "duration": 0,
        "start_time": "2023-01-08T05:51:32.934Z"
      },
      {
        "duration": 0,
        "start_time": "2023-01-08T05:51:32.935Z"
      },
      {
        "duration": 0,
        "start_time": "2023-01-08T05:51:32.936Z"
      },
      {
        "duration": 0,
        "start_time": "2023-01-08T05:51:32.937Z"
      },
      {
        "duration": 0,
        "start_time": "2023-01-08T05:51:32.938Z"
      },
      {
        "duration": 0,
        "start_time": "2023-01-08T05:51:32.939Z"
      },
      {
        "duration": 0,
        "start_time": "2023-01-08T05:51:32.940Z"
      },
      {
        "duration": 0,
        "start_time": "2023-01-08T05:51:32.941Z"
      },
      {
        "duration": 0,
        "start_time": "2023-01-08T05:51:32.942Z"
      },
      {
        "duration": 0,
        "start_time": "2023-01-08T05:51:32.943Z"
      },
      {
        "duration": 0,
        "start_time": "2023-01-08T05:51:32.944Z"
      },
      {
        "duration": 0,
        "start_time": "2023-01-08T05:51:32.945Z"
      },
      {
        "duration": 0,
        "start_time": "2023-01-08T05:51:32.946Z"
      },
      {
        "duration": 0,
        "start_time": "2023-01-08T05:51:32.946Z"
      },
      {
        "duration": 0,
        "start_time": "2023-01-08T05:51:32.948Z"
      },
      {
        "duration": 0,
        "start_time": "2023-01-08T05:51:32.949Z"
      },
      {
        "duration": 0,
        "start_time": "2023-01-08T05:51:32.950Z"
      },
      {
        "duration": 0,
        "start_time": "2023-01-08T05:51:32.951Z"
      },
      {
        "duration": 0,
        "start_time": "2023-01-08T05:51:32.952Z"
      },
      {
        "duration": 0,
        "start_time": "2023-01-08T05:51:32.953Z"
      },
      {
        "duration": 0,
        "start_time": "2023-01-08T05:51:32.954Z"
      },
      {
        "duration": 0,
        "start_time": "2023-01-08T05:51:32.955Z"
      },
      {
        "duration": 0,
        "start_time": "2023-01-08T05:51:32.956Z"
      },
      {
        "duration": 0,
        "start_time": "2023-01-08T05:51:32.958Z"
      },
      {
        "duration": 0,
        "start_time": "2023-01-08T05:51:33.021Z"
      },
      {
        "duration": 0,
        "start_time": "2023-01-08T05:51:33.023Z"
      },
      {
        "duration": 0,
        "start_time": "2023-01-08T05:51:33.024Z"
      },
      {
        "duration": 0,
        "start_time": "2023-01-08T05:51:33.026Z"
      },
      {
        "duration": 0,
        "start_time": "2023-01-08T05:51:33.027Z"
      },
      {
        "duration": 0,
        "start_time": "2023-01-08T05:51:33.028Z"
      },
      {
        "duration": 0,
        "start_time": "2023-01-08T05:51:33.029Z"
      },
      {
        "duration": 0,
        "start_time": "2023-01-08T05:51:33.030Z"
      },
      {
        "duration": 0,
        "start_time": "2023-01-08T05:51:33.032Z"
      },
      {
        "duration": 0,
        "start_time": "2023-01-08T05:51:33.033Z"
      },
      {
        "duration": 0,
        "start_time": "2023-01-08T05:51:33.034Z"
      },
      {
        "duration": 0,
        "start_time": "2023-01-08T05:51:33.035Z"
      },
      {
        "duration": 0,
        "start_time": "2023-01-08T05:51:33.036Z"
      },
      {
        "duration": 0,
        "start_time": "2023-01-08T05:51:33.037Z"
      },
      {
        "duration": 1223,
        "start_time": "2023-01-08T05:54:16.229Z"
      },
      {
        "duration": 0,
        "start_time": "2023-01-08T05:54:17.455Z"
      },
      {
        "duration": 0,
        "start_time": "2023-01-08T05:54:17.456Z"
      },
      {
        "duration": 1,
        "start_time": "2023-01-08T05:54:17.457Z"
      },
      {
        "duration": 0,
        "start_time": "2023-01-08T05:54:17.458Z"
      },
      {
        "duration": 0,
        "start_time": "2023-01-08T05:54:17.459Z"
      },
      {
        "duration": 0,
        "start_time": "2023-01-08T05:54:17.460Z"
      },
      {
        "duration": 0,
        "start_time": "2023-01-08T05:54:17.461Z"
      },
      {
        "duration": 0,
        "start_time": "2023-01-08T05:54:17.462Z"
      },
      {
        "duration": 0,
        "start_time": "2023-01-08T05:54:17.463Z"
      },
      {
        "duration": 0,
        "start_time": "2023-01-08T05:54:17.464Z"
      },
      {
        "duration": 0,
        "start_time": "2023-01-08T05:54:17.465Z"
      },
      {
        "duration": 0,
        "start_time": "2023-01-08T05:54:17.466Z"
      },
      {
        "duration": 0,
        "start_time": "2023-01-08T05:54:17.467Z"
      },
      {
        "duration": 0,
        "start_time": "2023-01-08T05:54:17.468Z"
      },
      {
        "duration": 0,
        "start_time": "2023-01-08T05:54:17.469Z"
      },
      {
        "duration": 0,
        "start_time": "2023-01-08T05:54:17.470Z"
      },
      {
        "duration": 0,
        "start_time": "2023-01-08T05:54:17.471Z"
      },
      {
        "duration": 0,
        "start_time": "2023-01-08T05:54:17.472Z"
      },
      {
        "duration": 0,
        "start_time": "2023-01-08T05:54:17.473Z"
      },
      {
        "duration": 0,
        "start_time": "2023-01-08T05:54:17.474Z"
      },
      {
        "duration": 0,
        "start_time": "2023-01-08T05:54:17.475Z"
      },
      {
        "duration": 0,
        "start_time": "2023-01-08T05:54:17.476Z"
      },
      {
        "duration": 0,
        "start_time": "2023-01-08T05:54:17.477Z"
      },
      {
        "duration": 0,
        "start_time": "2023-01-08T05:54:17.478Z"
      },
      {
        "duration": 0,
        "start_time": "2023-01-08T05:54:17.479Z"
      },
      {
        "duration": 0,
        "start_time": "2023-01-08T05:54:17.479Z"
      },
      {
        "duration": 0,
        "start_time": "2023-01-08T05:54:17.521Z"
      },
      {
        "duration": 0,
        "start_time": "2023-01-08T05:54:17.522Z"
      },
      {
        "duration": 0,
        "start_time": "2023-01-08T05:54:17.523Z"
      },
      {
        "duration": 0,
        "start_time": "2023-01-08T05:54:17.524Z"
      },
      {
        "duration": 0,
        "start_time": "2023-01-08T05:54:17.525Z"
      },
      {
        "duration": 0,
        "start_time": "2023-01-08T05:54:17.526Z"
      },
      {
        "duration": 0,
        "start_time": "2023-01-08T05:54:17.527Z"
      },
      {
        "duration": 0,
        "start_time": "2023-01-08T05:54:17.528Z"
      },
      {
        "duration": 0,
        "start_time": "2023-01-08T05:54:17.528Z"
      },
      {
        "duration": 0,
        "start_time": "2023-01-08T05:54:17.529Z"
      },
      {
        "duration": 0,
        "start_time": "2023-01-08T05:54:17.530Z"
      },
      {
        "duration": 0,
        "start_time": "2023-01-08T05:54:17.531Z"
      },
      {
        "duration": 0,
        "start_time": "2023-01-08T05:54:17.532Z"
      },
      {
        "duration": 0,
        "start_time": "2023-01-08T05:54:17.533Z"
      },
      {
        "duration": 0,
        "start_time": "2023-01-08T05:54:17.534Z"
      },
      {
        "duration": 0,
        "start_time": "2023-01-08T05:54:17.535Z"
      },
      {
        "duration": 1,
        "start_time": "2023-01-08T05:54:17.536Z"
      },
      {
        "duration": 0,
        "start_time": "2023-01-08T05:54:17.537Z"
      },
      {
        "duration": 0,
        "start_time": "2023-01-08T05:54:17.538Z"
      },
      {
        "duration": 0,
        "start_time": "2023-01-08T05:54:17.540Z"
      },
      {
        "duration": 0,
        "start_time": "2023-01-08T05:54:17.541Z"
      },
      {
        "duration": 0,
        "start_time": "2023-01-08T05:54:17.541Z"
      },
      {
        "duration": 0,
        "start_time": "2023-01-08T05:54:17.542Z"
      },
      {
        "duration": 0,
        "start_time": "2023-01-08T05:54:17.543Z"
      },
      {
        "duration": 0,
        "start_time": "2023-01-08T05:54:17.544Z"
      },
      {
        "duration": 0,
        "start_time": "2023-01-08T05:54:17.545Z"
      },
      {
        "duration": 0,
        "start_time": "2023-01-08T05:54:17.546Z"
      },
      {
        "duration": 0,
        "start_time": "2023-01-08T05:54:17.547Z"
      },
      {
        "duration": 1,
        "start_time": "2023-01-08T05:54:17.547Z"
      },
      {
        "duration": 0,
        "start_time": "2023-01-08T05:54:17.549Z"
      },
      {
        "duration": 0,
        "start_time": "2023-01-08T05:54:17.549Z"
      },
      {
        "duration": 0,
        "start_time": "2023-01-08T05:54:17.550Z"
      },
      {
        "duration": 0,
        "start_time": "2023-01-08T05:54:17.551Z"
      },
      {
        "duration": 0,
        "start_time": "2023-01-08T05:54:17.552Z"
      },
      {
        "duration": 0,
        "start_time": "2023-01-08T05:54:17.553Z"
      },
      {
        "duration": 0,
        "start_time": "2023-01-08T05:54:17.554Z"
      },
      {
        "duration": 0,
        "start_time": "2023-01-08T05:54:17.555Z"
      },
      {
        "duration": 0,
        "start_time": "2023-01-08T05:54:17.556Z"
      },
      {
        "duration": 0,
        "start_time": "2023-01-08T05:54:17.557Z"
      },
      {
        "duration": 0,
        "start_time": "2023-01-08T05:54:17.558Z"
      },
      {
        "duration": 0,
        "start_time": "2023-01-08T05:54:17.559Z"
      },
      {
        "duration": 1223,
        "start_time": "2023-01-08T05:55:01.760Z"
      },
      {
        "duration": 2384,
        "start_time": "2023-01-08T05:55:02.985Z"
      },
      {
        "duration": 54,
        "start_time": "2023-01-08T05:55:05.371Z"
      },
      {
        "duration": 13,
        "start_time": "2023-01-08T05:55:05.428Z"
      },
      {
        "duration": 39,
        "start_time": "2023-01-08T05:55:05.442Z"
      },
      {
        "duration": 5,
        "start_time": "2023-01-08T05:55:05.483Z"
      },
      {
        "duration": 35,
        "start_time": "2023-01-08T05:55:05.490Z"
      },
      {
        "duration": 5,
        "start_time": "2023-01-08T05:55:05.527Z"
      },
      {
        "duration": 11,
        "start_time": "2023-01-08T05:55:05.533Z"
      },
      {
        "duration": 5,
        "start_time": "2023-01-08T05:55:05.546Z"
      },
      {
        "duration": 7,
        "start_time": "2023-01-08T05:55:05.552Z"
      },
      {
        "duration": 14,
        "start_time": "2023-01-08T05:55:05.561Z"
      },
      {
        "duration": 4,
        "start_time": "2023-01-08T05:55:05.576Z"
      },
      {
        "duration": 42,
        "start_time": "2023-01-08T05:55:05.581Z"
      },
      {
        "duration": 8,
        "start_time": "2023-01-08T05:55:05.625Z"
      },
      {
        "duration": 25,
        "start_time": "2023-01-08T05:55:05.634Z"
      },
      {
        "duration": 25,
        "start_time": "2023-01-08T05:55:05.661Z"
      },
      {
        "duration": 5,
        "start_time": "2023-01-08T05:55:05.687Z"
      },
      {
        "duration": 27,
        "start_time": "2023-01-08T05:55:05.694Z"
      },
      {
        "duration": 326,
        "start_time": "2023-01-08T05:55:05.723Z"
      },
      {
        "duration": 9,
        "start_time": "2023-01-08T05:55:06.051Z"
      },
      {
        "duration": 11,
        "start_time": "2023-01-08T05:55:06.062Z"
      },
      {
        "duration": 188655,
        "start_time": "2023-01-08T05:55:06.074Z"
      },
      {
        "duration": 9,
        "start_time": "2023-01-08T05:58:14.731Z"
      },
      {
        "duration": 9,
        "start_time": "2023-01-08T05:58:14.741Z"
      },
      {
        "duration": 176,
        "start_time": "2023-01-08T05:58:14.751Z"
      },
      {
        "duration": 97,
        "start_time": "2023-01-08T05:58:14.929Z"
      },
      {
        "duration": 17,
        "start_time": "2023-01-08T05:58:15.030Z"
      },
      {
        "duration": 46,
        "start_time": "2023-01-08T05:58:15.048Z"
      },
      {
        "duration": 20,
        "start_time": "2023-01-08T05:58:15.096Z"
      },
      {
        "duration": 393,
        "start_time": "2023-01-08T05:58:15.117Z"
      },
      {
        "duration": 10,
        "start_time": "2023-01-08T05:58:15.512Z"
      },
      {
        "duration": 6,
        "start_time": "2023-01-08T05:58:15.523Z"
      },
      {
        "duration": 145,
        "start_time": "2023-01-08T05:58:15.531Z"
      },
      {
        "duration": 189949,
        "start_time": "2023-01-08T05:58:15.678Z"
      },
      {
        "duration": 10,
        "start_time": "2023-01-08T06:01:25.628Z"
      },
      {
        "duration": 118,
        "start_time": "2023-01-08T06:01:25.639Z"
      },
      {
        "duration": 162,
        "start_time": "2023-01-08T06:01:25.759Z"
      },
      {
        "duration": 9,
        "start_time": "2023-01-08T06:01:25.923Z"
      },
      {
        "duration": 122,
        "start_time": "2023-01-08T06:01:25.933Z"
      },
      {
        "duration": 13,
        "start_time": "2023-01-08T06:01:26.057Z"
      },
      {
        "duration": 13,
        "start_time": "2023-01-08T06:01:26.071Z"
      },
      {
        "duration": 5,
        "start_time": "2023-01-08T06:01:26.086Z"
      },
      {
        "duration": 413,
        "start_time": "2023-01-08T06:01:26.092Z"
      },
      {
        "duration": 9,
        "start_time": "2023-01-08T06:01:26.506Z"
      },
      {
        "duration": 120,
        "start_time": "2023-01-08T06:01:26.521Z"
      },
      {
        "duration": 280223,
        "start_time": "2023-01-08T06:01:26.643Z"
      },
      {
        "duration": 10,
        "start_time": "2023-01-08T06:06:06.868Z"
      },
      {
        "duration": 141,
        "start_time": "2023-01-08T06:06:06.880Z"
      },
      {
        "duration": 113,
        "start_time": "2023-01-08T06:06:07.025Z"
      },
      {
        "duration": 16,
        "start_time": "2023-01-08T06:06:07.222Z"
      },
      {
        "duration": 132,
        "start_time": "2023-01-08T06:06:07.241Z"
      },
      {
        "duration": 15,
        "start_time": "2023-01-08T06:06:07.374Z"
      },
      {
        "duration": 11,
        "start_time": "2023-01-08T06:06:07.391Z"
      },
      {
        "duration": 18,
        "start_time": "2023-01-08T06:06:07.404Z"
      },
      {
        "duration": 235,
        "start_time": "2023-01-08T06:06:07.424Z"
      },
      {
        "duration": 8,
        "start_time": "2023-01-08T06:06:07.661Z"
      },
      {
        "duration": 193,
        "start_time": "2023-01-08T06:06:07.670Z"
      },
      {
        "duration": 117212,
        "start_time": "2023-01-08T06:06:07.865Z"
      },
      {
        "duration": 11,
        "start_time": "2023-01-08T06:08:05.079Z"
      },
      {
        "duration": 149,
        "start_time": "2023-01-08T06:08:05.091Z"
      },
      {
        "duration": 93,
        "start_time": "2023-01-08T06:08:05.242Z"
      },
      {
        "duration": 113,
        "start_time": "2023-01-08T06:08:05.337Z"
      },
      {
        "duration": 130,
        "start_time": "2023-01-08T06:08:05.452Z"
      },
      {
        "duration": 14,
        "start_time": "2023-01-08T06:08:05.584Z"
      },
      {
        "duration": 26,
        "start_time": "2023-01-08T06:08:05.600Z"
      },
      {
        "duration": 94,
        "start_time": "2023-01-08T06:08:05.628Z"
      },
      {
        "duration": 9,
        "start_time": "2023-01-08T06:08:05.723Z"
      },
      {
        "duration": 14,
        "start_time": "2023-01-08T06:21:32.153Z"
      },
      {
        "duration": 17,
        "start_time": "2023-01-08T06:22:00.561Z"
      },
      {
        "duration": 5,
        "start_time": "2023-01-08T06:29:03.112Z"
      }
    ],
    "kernelspec": {
      "display_name": "Python 3 (ipykernel)",
      "language": "python",
      "name": "python3"
    },
    "language_info": {
      "codemirror_mode": {
        "name": "ipython",
        "version": 3
      },
      "file_extension": ".py",
      "mimetype": "text/x-python",
      "name": "python",
      "nbconvert_exporter": "python",
      "pygments_lexer": "ipython3",
      "version": "3.9.5"
    },
    "toc": {
      "base_numbering": 1,
      "nav_menu": {},
      "number_sections": true,
      "sideBar": true,
      "skip_h1_title": true,
      "title_cell": "Содержание",
      "title_sidebar": "Contents",
      "toc_cell": true,
      "toc_position": {
        "height": "calc(100% - 180px)",
        "left": "10px",
        "top": "150px",
        "width": "366.188px"
      },
      "toc_section_display": true,
      "toc_window_display": true
    },
    "colab": {
      "provenance": [],
      "toc_visible": true
    }
  },
  "nbformat": 4,
  "nbformat_minor": 0
}